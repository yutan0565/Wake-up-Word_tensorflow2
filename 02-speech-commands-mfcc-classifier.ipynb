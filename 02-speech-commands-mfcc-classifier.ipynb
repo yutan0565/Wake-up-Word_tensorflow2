{
 "cells": [
  {
   "cell_type": "code",
   "execution_count": 1,
   "metadata": {},
   "outputs": [],
   "source": [
    "from os import listdir\n",
    "from os.path import isdir, join\n",
    "from tensorflow.keras import layers, models\n",
    "import numpy as np"
   ]
  },
  {
   "cell_type": "code",
   "execution_count": 2,
   "metadata": {},
   "outputs": [
    {
     "name": "stdout",
     "output_type": "stream",
     "text": [
      "['backward', 'bed', 'bird', 'cat', 'dog', 'down', 'eight', 'five', 'follow', 'forward', 'four', 'go', 'happy', 'house', 'learn', 'left', 'marvin', 'nine', 'no', 'off', 'on', 'one', 'right', 'seven', 'sheila', 'six', 'stop', 'three', 'tree', 'two', 'up', 'visual', 'wow', 'yes', 'zero']\n"
     ]
    }
   ],
   "source": [
    "# Create list of all targets (minus background noise)\n",
    "# dataset_path = './custum_dataset'\n",
    "dataset_path = './original_dataset'\n",
    "all_targets = all_targets = [name for name in listdir(dataset_path) if isdir(join(dataset_path, name))]\n",
    "all_targets.remove('_background_noise_')\n",
    "print(all_targets)"
   ]
  },
  {
   "cell_type": "code",
   "execution_count": 10,
   "metadata": {},
   "outputs": [],
   "source": [
    "# Settings\n",
    "feature_sets_path = './feature_sets_directory'\n",
    "feature_sets_filename = 'all_targets_mfcc_sets.npz'\n",
    "model_filename = 'wake_word_stop_model.h5'\n",
    "wake_word = 'stop'"
   ]
  },
  {
   "cell_type": "code",
   "execution_count": 11,
   "metadata": {},
   "outputs": [
    {
     "name": "stdout",
     "output_type": "stream",
     "text": [
      "['x_train', 'y_train', 'x_val', 'y_val', 'x_test', 'y_test']\n"
     ]
    }
   ],
   "source": [
    "# Load feature sets\n",
    "feature_sets = np.load('/'.join([feature_sets_path, feature_sets_filename]))\n",
    "print(feature_sets.files)"
   ]
  },
  {
   "cell_type": "code",
   "execution_count": 12,
   "metadata": {},
   "outputs": [],
   "source": [
    "# Assign feature sets\n",
    "x_train = feature_sets['x_train']\n",
    "y_train = feature_sets['y_train']\n",
    "x_val = feature_sets['x_val']\n",
    "y_val = feature_sets['y_val']\n",
    "x_test = feature_sets['x_test']\n",
    "y_test = feature_sets['y_test']"
   ]
  },
  {
   "cell_type": "code",
   "execution_count": 13,
   "metadata": {},
   "outputs": [
    {
     "name": "stdout",
     "output_type": "stream",
     "text": [
      "(77455, 16, 16)\n",
      "(9733, 16, 16)\n",
      "(9668, 16, 16)\n"
     ]
    }
   ],
   "source": [
    "# Look at tensor dimensions\n",
    "print(x_train.shape)\n",
    "print(x_val.shape)\n",
    "print(x_test.shape)"
   ]
  },
  {
   "cell_type": "code",
   "execution_count": 14,
   "metadata": {},
   "outputs": [
    {
     "name": "stdout",
     "output_type": "stream",
     "text": [
      "[ 2. 10. 21. ... 33.  2.  5.]\n"
     ]
    }
   ],
   "source": [
    "# Peek at labels\n",
    "print(y_val)"
   ]
  },
  {
   "cell_type": "code",
   "execution_count": 15,
   "metadata": {},
   "outputs": [],
   "source": [
    "# Convert ground truth arrays to one wake word (1) and 'other' (0)\n",
    "wake_word_index = all_targets.index(wake_word)\n",
    "y_train = np.equal(y_train, wake_word_index).astype('float64')\n",
    "y_val = np.equal(y_val, wake_word_index).astype('float64')\n",
    "y_test = np.equal(y_test, wake_word_index).astype('float64')"
   ]
  },
  {
   "cell_type": "code",
   "execution_count": 16,
   "metadata": {},
   "outputs": [
    {
     "name": "stdout",
     "output_type": "stream",
     "text": [
      "[0. 0. 0. ... 0. 0. 0.]\n"
     ]
    }
   ],
   "source": [
    "# Peek at labels after conversion\n",
    "print(y_val)"
   ]
  },
  {
   "cell_type": "code",
   "execution_count": 17,
   "metadata": {},
   "outputs": [
    {
     "name": "stdout",
     "output_type": "stream",
     "text": [
      "0.034110757217712936\n",
      "0.965889242782287\n"
     ]
    }
   ],
   "source": [
    "# What percentage of 'stop' appear in validation labels\n",
    "print(sum(y_val) / len(y_val))\n",
    "print(1 - sum(y_val) / len(y_val))"
   ]
  },
  {
   "cell_type": "code",
   "execution_count": 18,
   "metadata": {},
   "outputs": [
    {
     "name": "stdout",
     "output_type": "stream",
     "text": [
      "(77455, 16, 16)\n"
     ]
    }
   ],
   "source": [
    "# View the dimensions of our input data\n",
    "print(x_train.shape)"
   ]
  },
  {
   "cell_type": "code",
   "execution_count": 19,
   "metadata": {},
   "outputs": [
    {
     "name": "stdout",
     "output_type": "stream",
     "text": [
      "(77455, 16, 16, 1)\n",
      "(9733, 16, 16, 1)\n",
      "(9668, 16, 16, 1)\n"
     ]
    }
   ],
   "source": [
    "# CNN for TF expects (batch, height, width, channels)\n",
    "# So we reshape the input tensors with a \"color\" channel of 1\n",
    "x_train = x_train.reshape(x_train.shape[0], \n",
    "                          x_train.shape[1], \n",
    "                          x_train.shape[2], \n",
    "                          1)\n",
    "x_val = x_val.reshape(x_val.shape[0], \n",
    "                      x_val.shape[1], \n",
    "                      x_val.shape[2], \n",
    "                      1)\n",
    "x_test = x_test.reshape(x_test.shape[0], \n",
    "                        x_test.shape[1], \n",
    "                        x_test.shape[2], \n",
    "                        1)\n",
    "print(x_train.shape)\n",
    "print(x_val.shape)\n",
    "print(x_test.shape)"
   ]
  },
  {
   "cell_type": "code",
   "execution_count": 20,
   "metadata": {},
   "outputs": [
    {
     "name": "stdout",
     "output_type": "stream",
     "text": [
      "(16, 16, 1)\n"
     ]
    }
   ],
   "source": [
    "# Input shape for CNN is size of MFCC of 1 sample\n",
    "sample_shape = x_test.shape[1:]\n",
    "print(sample_shape)"
   ]
  },
  {
   "cell_type": "code",
   "execution_count": 21,
   "metadata": {},
   "outputs": [],
   "source": [
    "# Build model\n",
    "# Based on: https://www.geeksforgeeks.org/python-image-classification-using-keras/\n",
    "model = models.Sequential()\n",
    "model.add(layers.Conv2D(32, \n",
    "                        (2, 2), \n",
    "                        activation='relu',\n",
    "                        input_shape=sample_shape))\n",
    "model.add(layers.MaxPooling2D(pool_size=(2, 2)))\n",
    "\n",
    "model.add(layers.Conv2D(32, (2, 2), activation='relu'))\n",
    "model.add(layers.MaxPooling2D(pool_size=(2, 2)))\n",
    "\n",
    "model.add(layers.Conv2D(64, (2, 2), activation='relu'))\n",
    "model.add(layers.MaxPooling2D(pool_size=(2, 2)))\n",
    "\n",
    "# Classifier\n",
    "model.add(layers.Flatten())\n",
    "model.add(layers.Dense(64, activation='relu'))\n",
    "model.add(layers.Dropout(0.5))\n",
    "model.add(layers.Dense(1, activation='sigmoid'))"
   ]
  },
  {
   "cell_type": "code",
   "execution_count": 22,
   "metadata": {},
   "outputs": [
    {
     "name": "stdout",
     "output_type": "stream",
     "text": [
      "Model: \"sequential\"\n",
      "_________________________________________________________________\n",
      "Layer (type)                 Output Shape              Param #   \n",
      "=================================================================\n",
      "conv2d (Conv2D)              (None, 15, 15, 32)        160       \n",
      "_________________________________________________________________\n",
      "max_pooling2d (MaxPooling2D) (None, 7, 7, 32)          0         \n",
      "_________________________________________________________________\n",
      "conv2d_1 (Conv2D)            (None, 6, 6, 32)          4128      \n",
      "_________________________________________________________________\n",
      "max_pooling2d_1 (MaxPooling2 (None, 3, 3, 32)          0         \n",
      "_________________________________________________________________\n",
      "conv2d_2 (Conv2D)            (None, 2, 2, 64)          8256      \n",
      "_________________________________________________________________\n",
      "max_pooling2d_2 (MaxPooling2 (None, 1, 1, 64)          0         \n",
      "_________________________________________________________________\n",
      "flatten (Flatten)            (None, 64)                0         \n",
      "_________________________________________________________________\n",
      "dense (Dense)                (None, 64)                4160      \n",
      "_________________________________________________________________\n",
      "dropout (Dropout)            (None, 64)                0         \n",
      "_________________________________________________________________\n",
      "dense_1 (Dense)              (None, 1)                 65        \n",
      "=================================================================\n",
      "Total params: 16,769\n",
      "Trainable params: 16,769\n",
      "Non-trainable params: 0\n",
      "_________________________________________________________________\n"
     ]
    }
   ],
   "source": [
    "# Display model\n",
    "model.summary()"
   ]
  },
  {
   "cell_type": "code",
   "execution_count": 23,
   "metadata": {},
   "outputs": [],
   "source": [
    "# Add training parameters to model\n",
    "model.compile(loss='binary_crossentropy', \n",
    "              optimizer='rmsprop', \n",
    "              metrics=['acc'])"
   ]
  },
  {
   "cell_type": "code",
   "execution_count": 24,
   "metadata": {},
   "outputs": [
    {
     "name": "stdout",
     "output_type": "stream",
     "text": [
      "Epoch 1/30\n",
      "775/775 [==============================] - 18s 8ms/step - loss: 0.1134 - acc: 0.9669 - val_loss: 0.0730 - val_acc: 0.9761\n",
      "Epoch 2/30\n",
      "775/775 [==============================] - 6s 7ms/step - loss: 0.0758 - acc: 0.9757 - val_loss: 0.0861 - val_acc: 0.9758\n",
      "Epoch 3/30\n",
      "775/775 [==============================] - 6s 7ms/step - loss: 0.0642 - acc: 0.9800 - val_loss: 0.0509 - val_acc: 0.9837\n",
      "Epoch 4/30\n",
      "775/775 [==============================] - 6s 7ms/step - loss: 0.0568 - acc: 0.9820 - val_loss: 0.0459 - val_acc: 0.9864\n",
      "Epoch 5/30\n",
      "775/775 [==============================] - 6s 7ms/step - loss: 0.0538 - acc: 0.9837 - val_loss: 0.0409 - val_acc: 0.9889\n",
      "Epoch 6/30\n",
      "775/775 [==============================] - 6s 7ms/step - loss: 0.0508 - acc: 0.9850 - val_loss: 0.0438 - val_acc: 0.9870\n",
      "Epoch 7/30\n",
      "775/775 [==============================] - 6s 7ms/step - loss: 0.0529 - acc: 0.9844 - val_loss: 0.0489 - val_acc: 0.9852\n",
      "Epoch 8/30\n",
      "775/775 [==============================] - 6s 7ms/step - loss: 0.0534 - acc: 0.9843 - val_loss: 0.0486 - val_acc: 0.9873\n",
      "Epoch 9/30\n",
      "775/775 [==============================] - 6s 7ms/step - loss: 0.0548 - acc: 0.9840 - val_loss: 0.1012 - val_acc: 0.9824\n",
      "Epoch 10/30\n",
      "775/775 [==============================] - 6s 7ms/step - loss: 0.0560 - acc: 0.9839 - val_loss: 0.0931 - val_acc: 0.9704\n",
      "Epoch 11/30\n",
      "775/775 [==============================] - 9s 11ms/step - loss: 0.0583 - acc: 0.9833 - val_loss: 0.0534 - val_acc: 0.9864\n",
      "Epoch 12/30\n",
      "775/775 [==============================] - 10s 12ms/step - loss: 0.0561 - acc: 0.9840 - val_loss: 0.0805 - val_acc: 0.9763\n",
      "Epoch 13/30\n",
      "775/775 [==============================] - 7s 9ms/step - loss: 0.0590 - acc: 0.9842 - val_loss: 0.0574 - val_acc: 0.9832\n",
      "Epoch 14/30\n",
      "775/775 [==============================] - 6s 8ms/step - loss: 0.0569 - acc: 0.9838 - val_loss: 0.0581 - val_acc: 0.9839\n",
      "Epoch 15/30\n",
      "775/775 [==============================] - 6s 8ms/step - loss: 0.0611 - acc: 0.9837 - val_loss: 0.0677 - val_acc: 0.9809\n",
      "Epoch 16/30\n",
      "775/775 [==============================] - 6s 8ms/step - loss: 0.0600 - acc: 0.9837 - val_loss: 0.0829 - val_acc: 0.9750\n",
      "Epoch 17/30\n",
      "775/775 [==============================] - 7s 8ms/step - loss: 0.0607 - acc: 0.9836 - val_loss: 0.0587 - val_acc: 0.9872\n",
      "Epoch 18/30\n",
      "775/775 [==============================] - 7s 8ms/step - loss: 0.0608 - acc: 0.9835 - val_loss: 0.1380 - val_acc: 0.9602\n",
      "Epoch 19/30\n",
      "775/775 [==============================] - 7s 10ms/step - loss: 0.0584 - acc: 0.9838 - val_loss: 0.0516 - val_acc: 0.9847\n",
      "Epoch 20/30\n",
      "775/775 [==============================] - 6s 8ms/step - loss: 0.0608 - acc: 0.9833 - val_loss: 0.0607 - val_acc: 0.9848\n",
      "Epoch 21/30\n",
      "775/775 [==============================] - 6s 7ms/step - loss: 0.0573 - acc: 0.9838 - val_loss: 0.0809 - val_acc: 0.9837\n",
      "Epoch 22/30\n",
      "775/775 [==============================] - 6s 7ms/step - loss: 0.0582 - acc: 0.9839 - val_loss: 0.0570 - val_acc: 0.9856\n",
      "Epoch 23/30\n",
      "775/775 [==============================] - 6s 7ms/step - loss: 0.0593 - acc: 0.9837 - val_loss: 0.0561 - val_acc: 0.9873\n",
      "Epoch 24/30\n",
      "775/775 [==============================] - 6s 7ms/step - loss: 0.0605 - acc: 0.9843 - val_loss: 0.0804 - val_acc: 0.9783\n",
      "Epoch 25/30\n",
      "775/775 [==============================] - 6s 7ms/step - loss: 0.0567 - acc: 0.9843 - val_loss: 0.0563 - val_acc: 0.9877\n",
      "Epoch 26/30\n",
      "775/775 [==============================] - 6s 8ms/step - loss: 0.0576 - acc: 0.9844 - val_loss: 0.0616 - val_acc: 0.9817\n",
      "Epoch 27/30\n",
      "775/775 [==============================] - 6s 8ms/step - loss: 0.0605 - acc: 0.9836 - val_loss: 0.0780 - val_acc: 0.9843\n",
      "Epoch 28/30\n",
      "775/775 [==============================] - 7s 9ms/step - loss: 0.0603 - acc: 0.9839 - val_loss: 0.0688 - val_acc: 0.9843\n",
      "Epoch 29/30\n",
      "775/775 [==============================] - 6s 8ms/step - loss: 0.0587 - acc: 0.9841 - val_loss: 0.0461 - val_acc: 0.9858\n",
      "Epoch 30/30\n",
      "775/775 [==============================] - 6s 8ms/step - loss: 0.0604 - acc: 0.9835 - val_loss: 0.0628 - val_acc: 0.9859\n"
     ]
    }
   ],
   "source": [
    "# Train\n",
    "history = model.fit(x_train, \n",
    "                    y_train, \n",
    "                    epochs=30, \n",
    "                    batch_size=100, \n",
    "                    validation_data=(x_val, y_val))"
   ]
  },
  {
   "cell_type": "code",
   "execution_count": 25,
   "metadata": {},
   "outputs": [
    {
     "data": {
      "image/png": "[encoded data removed]",
      "text/plain": [
       "<Figure size 432x288 with 1 Axes>"
      ]
     },
     "metadata": {
      "needs_background": "light"
     },
     "output_type": "display_data"
    },
    {
     "data": {
      "image/png": "[encoded data removed]",
      "text/plain": [
       "<Figure size 432x288 with 1 Axes>"
      ]
     },
     "metadata": {
      "needs_background": "light"
     },
     "output_type": "display_data"
    }
   ],
   "source": [
    "# Plot results\n",
    "import matplotlib.pyplot as plt\n",
    "\n",
    "acc = history.history['acc']\n",
    "val_acc = history.history['val_acc']\n",
    "loss = history.history['loss']\n",
    "val_loss = history.history['val_loss']\n",
    "\n",
    "epochs = range(1, len(acc) + 1)\n",
    "\n",
    "plt.plot(epochs, acc, 'bo', label='Training acc')\n",
    "plt.plot(epochs, val_acc, 'b', label='Validation acc')\n",
    "plt.title('Training and validation accuracy')\n",
    "plt.legend()\n",
    "\n",
    "plt.figure()\n",
    "\n",
    "plt.plot(epochs, loss, 'bo', label='Training loss')\n",
    "plt.plot(epochs, val_loss, 'b', label='Validation loss')\n",
    "plt.title('Training and validation loss')\n",
    "plt.legend()\n",
    "\n",
    "plt.show()"
   ]
  },
  {
   "cell_type": "code",
   "execution_count": 26,
   "metadata": {},
   "outputs": [],
   "source": [
    "# Save the model as a file\n",
    "models.save_model(model, model_filename)"
   ]
  },
  {
   "cell_type": "code",
   "execution_count": 27,
   "metadata": {},
   "outputs": [
    {
     "name": "stdout",
     "output_type": "stream",
     "text": [
      "13\n",
      "25\n",
      "28\n",
      "44\n",
      "67\n",
      "69\n",
      "73\n",
      "110\n",
      "112\n",
      "132\n",
      "133\n",
      "166\n",
      "184\n",
      "254\n",
      "255\n",
      "269\n",
      "293\n",
      "346\n",
      "354\n",
      "356\n",
      "399\n",
      "435\n",
      "444\n",
      "448\n",
      "454\n",
      "565\n",
      "569\n",
      "610\n",
      "611\n",
      "615\n",
      "633\n",
      "637\n",
      "693\n",
      "696\n",
      "703\n",
      "713\n",
      "719\n",
      "725\n",
      "731\n",
      "759\n",
      "783\n",
      "819\n",
      "860\n",
      "903\n",
      "936\n",
      "956\n",
      "963\n",
      "965\n",
      "986\n",
      "994\n",
      "1000\n",
      "1009\n",
      "1015\n",
      "1036\n",
      "1046\n",
      "1061\n",
      "1128\n",
      "1142\n",
      "1229\n",
      "1233\n",
      "1320\n",
      "1376\n",
      "1381\n",
      "1510\n",
      "1515\n",
      "1605\n",
      "1629\n",
      "1707\n",
      "1743\n",
      "1748\n",
      "1810\n",
      "1815\n",
      "1822\n",
      "1829\n",
      "1850\n",
      "1920\n",
      "1924\n",
      "1929\n",
      "1947\n",
      "1990\n",
      "2045\n",
      "2049\n",
      "2076\n",
      "2106\n",
      "2122\n",
      "2124\n",
      "2127\n",
      "2180\n",
      "2204\n",
      "2206\n",
      "2273\n",
      "2383\n",
      "2444\n",
      "2453\n",
      "2471\n",
      "2482\n",
      "2551\n",
      "2553\n",
      "2639\n",
      "2643\n",
      "2645\n",
      "2694\n",
      "2717\n",
      "2777\n",
      "2810\n",
      "2822\n",
      "2829\n",
      "2842\n",
      "2866\n",
      "2924\n",
      "2925\n",
      "2978\n",
      "3007\n",
      "3059\n",
      "3060\n",
      "3089\n",
      "3130\n",
      "3159\n",
      "3175\n",
      "3226\n",
      "3234\n",
      "3297\n",
      "3313\n",
      "3371\n",
      "3379\n",
      "3428\n",
      "3429\n",
      "3446\n",
      "3454\n",
      "3458\n",
      "3468\n",
      "3475\n",
      "3506\n",
      "3541\n",
      "3566\n",
      "3604\n",
      "3622\n",
      "3657\n",
      "3658\n",
      "3659\n",
      "3663\n",
      "3673\n",
      "3701\n",
      "3727\n",
      "3755\n",
      "3782\n",
      "3804\n",
      "3849\n",
      "3873\n",
      "3910\n",
      "3926\n",
      "3957\n",
      "3979\n",
      "3980\n",
      "3994\n",
      "4008\n",
      "4009\n",
      "4011\n",
      "4014\n",
      "4038\n",
      "4044\n",
      "4076\n",
      "4080\n",
      "4093\n",
      "4113\n",
      "4137\n",
      "4148\n",
      "4150\n",
      "4182\n",
      "4207\n",
      "4239\n",
      "4245\n",
      "4252\n",
      "4271\n",
      "4278\n",
      "4279\n",
      "4293\n",
      "4294\n",
      "4333\n",
      "4461\n",
      "4489\n",
      "4494\n",
      "4496\n",
      "4523\n",
      "4549\n",
      "4623\n",
      "4748\n",
      "4768\n",
      "4797\n",
      "4833\n",
      "4879\n",
      "4904\n",
      "4971\n",
      "4980\n",
      "4988\n",
      "5008\n",
      "5027\n",
      "5036\n",
      "5098\n",
      "5128\n",
      "5156\n",
      "5252\n",
      "5271\n",
      "5315\n",
      "5384\n",
      "5408\n",
      "5442\n",
      "5461\n",
      "5468\n",
      "5471\n",
      "5480\n",
      "5498\n",
      "5500\n",
      "5514\n",
      "5524\n",
      "5551\n",
      "5612\n",
      "5674\n",
      "5773\n",
      "5785\n",
      "5828\n",
      "5895\n",
      "5911\n",
      "5926\n",
      "5928\n",
      "5990\n",
      "6034\n",
      "6071\n",
      "6082\n",
      "6129\n",
      "6150\n",
      "6164\n",
      "6188\n",
      "6227\n",
      "6244\n",
      "6264\n",
      "6272\n",
      "6326\n",
      "6339\n",
      "6341\n",
      "6349\n",
      "6368\n",
      "6373\n",
      "6414\n",
      "6427\n",
      "6518\n",
      "6585\n",
      "6624\n",
      "6630\n",
      "6641\n",
      "6664\n",
      "6672\n",
      "6687\n",
      "6695\n",
      "6718\n",
      "6733\n",
      "6745\n",
      "6758\n",
      "6777\n",
      "6796\n",
      "6835\n",
      "6838\n",
      "6851\n",
      "6869\n",
      "6924\n",
      "6930\n",
      "6952\n",
      "6960\n",
      "7033\n",
      "7048\n",
      "7071\n",
      "7093\n",
      "7101\n",
      "7155\n",
      "7182\n",
      "7193\n",
      "7216\n",
      "7220\n",
      "7229\n",
      "7283\n",
      "7306\n",
      "7311\n",
      "7314\n",
      "7334\n",
      "7361\n",
      "7389\n",
      "7425\n",
      "7433\n",
      "7445\n",
      "7465\n",
      "7487\n",
      "7519\n",
      "7520\n",
      "7527\n",
      "7541\n",
      "7556\n",
      "7584\n",
      "7590\n",
      "7635\n",
      "7669\n",
      "7745\n",
      "7785\n",
      "7787\n",
      "7793\n",
      "7798\n",
      "7855\n",
      "7867\n",
      "7892\n",
      "7898\n",
      "7990\n",
      "7996\n",
      "8005\n",
      "8008\n",
      "8033\n",
      "8066\n",
      "8071\n",
      "8079\n",
      "8123\n",
      "8136\n",
      "8216\n",
      "8220\n",
      "8254\n",
      "8292\n",
      "8310\n",
      "8343\n",
      "8369\n",
      "8370\n",
      "8377\n",
      "8446\n",
      "8450\n",
      "8457\n",
      "8463\n",
      "8556\n",
      "8587\n",
      "8589\n",
      "8661\n",
      "8686\n",
      "8739\n",
      "8753\n",
      "8773\n",
      "8779\n",
      "8786\n",
      "8811\n",
      "8825\n",
      "8859\n",
      "8861\n",
      "8866\n",
      "8879\n",
      "8967\n",
      "9042\n",
      "9098\n",
      "9143\n",
      "9170\n",
      "9175\n",
      "9176\n",
      "9290\n",
      "9304\n",
      "9325\n",
      "9331\n",
      "9366\n",
      "9369\n",
      "9375\n",
      "9386\n",
      "9428\n",
      "9493\n",
      "9544\n",
      "9561\n",
      "9566\n",
      "9580\n",
      "9604\n",
      "9619\n",
      "9653\n"
     ]
    }
   ],
   "source": [
    "# See which are 'stop'\n",
    "for idx, y in enumerate(y_test):\n",
    "    if y == 1:\n",
    "        print(idx)"
   ]
  },
  {
   "cell_type": "code",
   "execution_count": 28,
   "metadata": {},
   "outputs": [
    {
     "name": "stdout",
     "output_type": "stream",
     "text": [
      "Answer: 0.0  Prediction: [[1.1360691e-09]]\n",
      "Answer: 0.0  Prediction: [[8.298913e-20]]\n",
      "Answer: 0.0  Prediction: [[2.9596772e-28]]\n",
      "Answer: 0.0  Prediction: [[0.00120712]]\n",
      "Answer: 0.0  Prediction: [[8.705881e-09]]\n",
      "Answer: 0.0  Prediction: [[2.1326288e-10]]\n",
      "Answer: 0.0  Prediction: [[4.4362996e-06]]\n",
      "Answer: 0.0  Prediction: [[2.3916868e-13]]\n",
      "Answer: 0.0  Prediction: [[0.00072083]]\n",
      "Answer: 0.0  Prediction: [[6.130545e-08]]\n"
     ]
    }
   ],
   "source": [
    "# TEST: Load model and run it against test set\n",
    "model = models.load_model(model_filename)\n",
    "for i in range(100, 110):\n",
    "    print('Answer:', y_test[i], ' Prediction:', model.predict(np.expand_dims(x_test[i], 0)))"
   ]
  },
  {
   "cell_type": "code",
   "execution_count": 29,
   "metadata": {},
   "outputs": [
    {
     "name": "stdout",
     "output_type": "stream",
     "text": [
      "303/303 [==============================] - 1s 3ms/step - loss: 0.0951 - acc: 0.9810\n"
     ]
    },
    {
     "data": {
      "text/plain": [
       "[0.0951433852314949, 0.9809681177139282]"
      ]
     },
     "execution_count": 29,
     "metadata": {},
     "output_type": "execute_result"
    }
   ],
   "source": [
    "# Evaluate model with test set\n",
    "model.evaluate(x=x_test, y=y_test)"
   ]
  },
  {
   "cell_type": "code",
   "execution_count": null,
   "metadata": {},
   "outputs": [],
   "source": []
  }
 ],
 "metadata": {
  "kernelspec": {
   "display_name": "Python 3 (ipykernel)",
   "language": "python",
   "name": "python3"
  },
  "language_info": {
   "codemirror_mode": {
    "name": "ipython",
    "version": 3
   },
   "file_extension": ".py",
   "mimetype": "text/x-python",
   "name": "python",
   "nbconvert_exporter": "python",
   "pygments_lexer": "ipython3",
   "version": "3.7.0"
  }
 },
 "nbformat": 4,
 "nbformat_minor": 2
}
