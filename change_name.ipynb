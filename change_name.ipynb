{
 "cells": [
  {
   "cell_type": "code",
   "execution_count": 1,
   "id": "f7f872ab",
   "metadata": {},
   "outputs": [
    {
     "name": "stdout",
     "output_type": "stream",
     "text": [
      "./custum_dataset\n"
     ]
    }
   ],
   "source": [
    "import os\n",
    "from configuration import Config\n",
    "from os import listdir\n",
    "from os.path import isdir\n",
    "import librosa\n",
    "import soundfile as sf"
   ]
  },
  {
   "cell_type": "code",
   "execution_count": 2,
   "id": "981006c0",
   "metadata": {},
   "outputs": [],
   "source": [
    "base_path = \"./\"\n",
    "dataset_path = base_path + 'custum_dataset' # 'custum_dataset''augmentation_dataset'"
   ]
  },
  {
   "cell_type": "code",
   "execution_count": 3,
   "id": "9e0eb529",
   "metadata": {},
   "outputs": [],
   "source": [
    "for user in Config.user_list:\n",
    "    for type in Config.target_list:\n",
    "        file_path = './custum_dataset/' + user+ '/' + type\n",
    "        file_names = os.listdir(file_path)\n",
    "        i = 1\n",
    "        for name in file_names:\n",
    "            source = file_path + '/' + name\n",
    "            new = 'ori' + \"_\" + user + \"_\" + '{0:04d}'.format(i) + \"_\"+type + '.wav'\n",
    "            dst = file_path+'/'+new\n",
    "            os.rename(source, dst)\n",
    "            i += 1\n",
    "\n",
    "\n",
    "#\n",
    "#\n",
    "# for type in Config.target_list:\n",
    "#     file_path = './custum_dataset/' + type\n",
    "#     file_names = os.listdir(file_path)\n",
    "#     i = 1\n",
    "#     for name in file_names:\n",
    "#         src = file_path + '/' + name\n",
    "#         new = 'voice'+'{0:04d}'.format(i)+\"_\"+type + '.wav'\n",
    "#         print(new)\n",
    "#         dst = file_path+'/'+new\n",
    "#         os.rename(src, dst)\n",
    "#         i += 1"
   ]
  },
  {
   "cell_type": "code",
   "execution_count": null,
   "id": "8fa1c23e",
   "metadata": {},
   "outputs": [],
   "source": []
  }
 ],
 "metadata": {
  "kernelspec": {
   "display_name": "Python 3 (ipykernel)",
   "language": "python",
   "name": "python3"
  },
  "language_info": {
   "codemirror_mode": {
    "name": "ipython",
    "version": 3
   },
   "file_extension": ".py",
   "mimetype": "text/x-python",
   "name": "python",
   "nbconvert_exporter": "python",
   "pygments_lexer": "ipython3",
   "version": "3.7.0"
  }
 },
 "nbformat": 4,
 "nbformat_minor": 5
}