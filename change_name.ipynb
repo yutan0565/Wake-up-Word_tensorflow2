{
 "cells": [
  {
   "cell_type": "code",
   "execution_count": 9,
   "id": "f7f872ab",
   "metadata": {},
   "outputs": [],
   "source": [
    "import os"
   ]
  },
  {
   "cell_type": "code",
   "execution_count": 12,
   "id": "07ca5d1a",
   "metadata": {},
   "outputs": [
    {
     "data": {
      "text/plain": [
       "['voice0001.jpg',\n",
       " 'voice0002.jpg',\n",
       " 'voice0003.jpg',\n",
       " 'voice0004.jpg',\n",
       " 'voice0005.jpg',\n",
       " 'voice0006.jpg',\n",
       " 'voice0007.jpg',\n",
       " 'voice0008.jpg',\n",
       " 'voice0009.jpg',\n",
       " 'voice0010.jpg',\n",
       " 'voice0011.jpg',\n",
       " 'voice0012.jpg',\n",
       " 'voice0013.jpg',\n",
       " 'voice0014.jpg',\n",
       " 'voice0015.jpg',\n",
       " 'voice0016.jpg',\n",
       " 'voice0017.jpg',\n",
       " 'voice0018.jpg',\n",
       " 'voice0019.jpg',\n",
       " 'voice0020.jpg',\n",
       " 'voice0021.jpg',\n",
       " 'voice0022.jpg',\n",
       " 'voice0023.jpg',\n",
       " 'voice0024.jpg',\n",
       " 'voice0025.jpg',\n",
       " 'voice0026.jpg',\n",
       " 'voice0027.jpg',\n",
       " 'voice0028.jpg',\n",
       " 'voice0029.jpg',\n",
       " 'voice0030.jpg',\n",
       " 'voice0031.jpg',\n",
       " 'voice0032.jpg']"
      ]
     },
     "execution_count": 12,
     "metadata": {},
     "output_type": "execute_result"
    }
   ],
   "source": [
    "# file_path = './hi_yutan'\n",
    "file_path = './custum_dataset/hi_yutan'\n",
    "file_names = os.listdir(file_path)\n",
    "file_names"
   ]
  },
  {
   "cell_type": "code",
   "execution_count": 13,
   "id": "fed991d4",
   "metadata": {},
   "outputs": [],
   "source": [
    "i = 1\n",
    "for name in file_names:\n",
    "    src = os.path.join(file_path, name)\n",
    "    dst = 'voice'+'{0:04d}'.format(i) + '.wav'\n",
    "    dst = os.path.join(file_path, dst)\n",
    "    os.rename(src, dst)\n",
    "    i += 1"
   ]
  },
  {
   "cell_type": "code",
   "execution_count": null,
   "id": "928e8843",
   "metadata": {},
   "outputs": [],
   "source": []
  },
  {
   "cell_type": "code",
   "execution_count": null,
   "id": "ccab1969",
   "metadata": {},
   "outputs": [],
   "source": []
  }
 ],
 "metadata": {
  "kernelspec": {
   "display_name": "Python 3 (ipykernel)",
   "language": "python",
   "name": "python3"
  },
  "language_info": {
   "codemirror_mode": {
    "name": "ipython",
    "version": 3
   },
   "file_extension": ".py",
   "mimetype": "text/x-python",
   "name": "python",
   "nbconvert_exporter": "python",
   "pygments_lexer": "ipython3",
   "version": "3.7.0"
  }
 },
 "nbformat": 4,
 "nbformat_minor": 5
}
