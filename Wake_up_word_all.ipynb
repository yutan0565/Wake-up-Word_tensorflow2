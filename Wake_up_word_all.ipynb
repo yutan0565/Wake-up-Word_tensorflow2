{
 "cells": [
  {
   "cell_type": "markdown",
   "metadata": {
    "id": "view-in-github"
   },
   "source": [
    "<a href=\"https://colab.research.google.com/github/yutan0565/Wake-up-Word_tensorflow2/blob/main/Wake_up_word_all.ipynb\" target=\"_parent\"><img src=\"https://colab.research.google.com/assets/colab-badge.svg\" alt=\"Open In Colab\"/></a>"
   ]
  },
  {
   "cell_type": "markdown",
   "metadata": {
    "id": "pnujyYpCLgxy"
   },
   "source": [
    "# 시작 전 세팅"
   ]
  },
  {
   "cell_type": "code",
   "execution_count": 2,
   "metadata": {
    "colab": {
     "base_uri": "https://localhost:8080/"
    },
    "executionInfo": {
     "elapsed": 28298,
     "status": "ok",
     "timestamp": 1648625571362,
     "user": {
      "displayName": "김유탄",
      "userId": "04011767612525493979"
     },
     "user_tz": -540
    },
    "id": "1tkm4FD8vtJ8",
    "outputId": "85f59978-f6d8-4155-b9d8-7a23b538d988"
   },
   "outputs": [
    {
     "name": "stdout",
     "output_type": "stream",
     "text": [
      "Mounted at /content/drive\n"
     ]
    }
   ],
   "source": [
    "from google.colab import drive\n",
    "drive.mount('/content/drive')"
   ]
  },
  {
   "cell_type": "code",
   "execution_count": 3,
   "metadata": {
    "colab": {
     "base_uri": "https://localhost:8080/"
    },
    "executionInfo": {
     "elapsed": 13801,
     "status": "ok",
     "timestamp": 1648625585149,
     "user": {
      "displayName": "김유탄",
      "userId": "04011767612525493979"
     },
     "user_tz": -540
    },
    "id": "kFceqLTOE0ZZ",
    "outputId": "4434b862-adc9-44a7-c54a-ff8c4e3a020e"
   },
   "outputs": [
    {
     "name": "stdout",
     "output_type": "stream",
     "text": [
      "Collecting python_speech_features\n",
      "  Downloading python_speech_features-0.6.tar.gz (5.6 kB)\n",
      "Building wheels for collected packages: python-speech-features\n",
      "  Building wheel for python-speech-features (setup.py) ... \u001b[?25l\u001b[?25hdone\n",
      "  Created wheel for python-speech-features: filename=python_speech_features-0.6-py3-none-any.whl size=5888 sha256=e817a939a53d0421e074377d058491afd9aae947cbb54da76a22ba6c279931c1\n",
      "  Stored in directory: /root/.cache/pip/wheels/b0/0e/94/28cd6afa3cd5998a63eef99fe31777acd7d758f59cf24839eb\n",
      "Successfully built python-speech-features\n",
      "Installing collected packages: python-speech-features\n",
      "Successfully installed python-speech-features-0.6\n",
      "Collecting playsound\n",
      "  Downloading playsound-1.3.0.tar.gz (7.7 kB)\n",
      "Building wheels for collected packages: playsound\n",
      "  Building wheel for playsound (setup.py) ... \u001b[?25l\u001b[?25hdone\n",
      "  Created wheel for playsound: filename=playsound-1.3.0-py3-none-any.whl size=7035 sha256=86753d349026e28b8f9c791d56f0a4758e19f8f1fec5f1aa64f27a3a429dbff4\n",
      "  Stored in directory: /root/.cache/pip/wheels/ba/f8/bb/ea57c0146b664dca3a0ada4199b0ecb5f9dfcb7b7e22b65ba2\n",
      "Successfully built playsound\n",
      "Installing collected packages: playsound\n",
      "Successfully installed playsound-1.3.0\n",
      "\u001b[K     |████████████████████████████████| 237 kB 5.7 MB/s \n",
      "\u001b[?25h"
     ]
    }
   ],
   "source": [
    "!pip install python_speech_features\n",
    "!pip install playsound\n",
    "!pip install -q tensorflow-model-optimization\n",
    "# !pip install pyaudio"
   ]
  },
  {
   "cell_type": "code",
   "execution_count": 1,
   "metadata": {
    "executionInfo": {
     "elapsed": 15,
     "status": "ok",
     "timestamp": 1648625585151,
     "user": {
      "displayName": "김유탄",
      "userId": "04011767612525493979"
     },
     "user_tz": -540
    },
    "id": "PJHzgmP6NTWb"
   },
   "outputs": [],
   "source": [
    "#$base_path = \"/content/drive/MyDrive/\"\n",
    "base_path = \"./\""
   ]
  },
  {
   "cell_type": "markdown",
   "metadata": {
    "id": "kgMGr2GoLnkf"
   },
   "source": [
    "# Data Augmentation"
   ]
  },
  {
   "cell_type": "code",
   "execution_count": 24,
   "metadata": {
    "executionInfo": {
     "elapsed": 1959,
     "status": "ok",
     "timestamp": 1648625587096,
     "user": {
      "displayName": "김유탄",
      "userId": "04011767612525493979"
     },
     "user_tz": -540
    },
    "id": "xPDLr60RTL-b"
   },
   "outputs": [],
   "source": [
    "import soundfile as sf\n",
    "import os\n",
    "from os import listdir\n",
    "from os.path import isdir, join\n",
    "import librosa\n",
    "import numpy as np\n",
    "import shutil\n",
    "from distutils.dir_util import copy_tree\n",
    "import matplotlib.pyplot as plt\n",
    "\n",
    "dataset_path = base_path + 'custum_dataset'"
   ]
  },
  {
   "cell_type": "code",
   "execution_count": 12,
   "metadata": {
    "executionInfo": {
     "elapsed": 27,
     "status": "ok",
     "timestamp": 1648625587097,
     "user": {
      "displayName": "김유탄",
      "userId": "04011767612525493979"
     },
     "user_tz": -540
    },
    "id": "Vr48q6SuSBaX"
   },
   "outputs": [],
   "source": [
    "def plot_time_series(data, title):\n",
    "    fig = plt.figure(figsize=(7, 4))\n",
    "    plt.title(title+'  wave')\n",
    "    plt.ylabel('Amplitude')\n",
    "    plt.plot(np.linspace(0, 5, len(data)), data)\n",
    "    plt.show()"
   ]
  },
  {
   "cell_type": "code",
   "execution_count": 13,
   "metadata": {
    "executionInfo": {
     "elapsed": 27,
     "status": "ok",
     "timestamp": 1648625587098,
     "user": {
      "displayName": "김유탄",
      "userId": "04011767612525493979"
     },
     "user_tz": -540
    },
    "id": "Ja3ZJw_pLmU4"
   },
   "outputs": [],
   "source": [
    "# Whit Noise\n",
    "# 기존 소리에 잡음을 넣어줌\n",
    "def adding_white_noise(data, type, count, sr=16000, noise_rate=0.005):\n",
    "    # noise 방식으로 일반적으로 쓰는 잡음 끼게 하는 겁니다.\n",
    "    sig, sr = librosa.load(data, sr=16000)\n",
    "    wn = np.random.randn(len(sig))\n",
    "    data_wn = sig + noise_rate*wn\n",
    "    sf.write( base_path+'augmentation_dataset/' + type +'/'+type+'_white_noise'+'{0:04d}'.format(count)+'.wav', data_wn, sr)\n",
    "    return data_wn"
   ]
  },
  {
   "cell_type": "code",
   "execution_count": 14,
   "metadata": {
    "executionInfo": {
     "elapsed": 25,
     "status": "ok",
     "timestamp": 1648625587098,
     "user": {
      "displayName": "김유탄",
      "userId": "04011767612525493979"
     },
     "user_tz": -540
    },
    "id": "mpTKNIQZLuwb"
   },
   "outputs": [],
   "source": [
    "#stretch_sound\n",
    "# 테이프 늘어진 것처럼 들린다.\n",
    "def stretch_sound(data, type, count, sr=16000, rate=0.8):\n",
    "    sig, sr = librosa.load(data, sr=16000)\n",
    "    stretch_data = librosa.effects.time_stretch(sig, rate)\n",
    "    sf.write( base_path+'augmentation_dataset/' + type +'/'+type+'_stretch_sound'+'{0:04d}'.format(count)+'.wav', stretch_data, sr)\n",
    "    return stretch_data"
   ]
  },
  {
   "cell_type": "code",
   "execution_count": 15,
   "metadata": {
    "executionInfo": {
     "elapsed": 25,
     "status": "ok",
     "timestamp": 1648625587099,
     "user": {
      "displayName": "김유탄",
      "userId": "04011767612525493979"
     },
     "user_tz": -540
    },
    "id": "xCwc2_rzLuzr"
   },
   "outputs": [],
   "source": [
    "# minus_sound\n",
    "# x 축 기준으로 뒤집기 (사람에게는 똑같이 들림)\n",
    "def minus_sound(data, type, count, sr=16000):\n",
    "    sig, sr = librosa.load(data, sr=16000)\n",
    "    temp_numpy = (-1)*sig\n",
    "    sf.write( base_path+'augmentation_dataset/' + type +'/'+type+'_reverse_data'+'{0:04d}'.format(count)+'.wav', temp_numpy, sr)\n",
    "    return temp_numpy"
   ]
  },
  {
   "cell_type": "code",
   "execution_count": 16,
   "metadata": {
    "colab": {
     "base_uri": "https://localhost:8080/"
    },
    "executionInfo": {
     "elapsed": 164720,
     "status": "ok",
     "timestamp": 1648625751797,
     "user": {
      "displayName": "김유탄",
      "userId": "04011767612525493979"
     },
     "user_tz": -540
    },
    "id": "8F14vBzsZTkF",
    "outputId": "a6e24b55-235b-42cd-cc42-ec2baf52ab03"
   },
   "outputs": [
    {
     "name": "stdout",
     "output_type": "stream",
     "text": [
      "['hey_tantan', 'hi_sungwoo', 'hi_yutan', 'no']\n",
      "./custum_dataset/hey_tantan\n",
      "./custum_dataset/hey_tantan/voice0001_hey_tantan.wav 1\n"
     ]
    },
    {
     "name": "stderr",
     "output_type": "stream",
     "text": [
      "C:\\Users\\yutan\\anaconda3\\envs\\tensorflow\\lib\\site-packages\\ipykernel_launcher.py:5: FutureWarning: Pass rate=0.8 as keyword args. From version 0.10 passing these as positional arguments will result in an error\n",
      "  \"\"\"\n"
     ]
    },
    {
     "name": "stdout",
     "output_type": "stream",
     "text": [
      "./custum_dataset/hey_tantan/voice0002_hey_tantan.wav 2\n",
      "./custum_dataset/hey_tantan/voice0003_hey_tantan.wav 3\n",
      "./custum_dataset/hey_tantan/voice0004_hey_tantan.wav 4\n",
      "./custum_dataset/hey_tantan/voice0005_hey_tantan.wav 5\n",
      "./custum_dataset/hey_tantan/voice0006_hey_tantan.wav 6\n",
      "./custum_dataset/hey_tantan/voice0007_hey_tantan.wav 7\n",
      "./custum_dataset/hey_tantan/voice0008_hey_tantan.wav 8\n",
      "./custum_dataset/hey_tantan/voice0009_hey_tantan.wav 9\n",
      "./custum_dataset/hey_tantan/voice0010_hey_tantan.wav 10\n",
      "./custum_dataset/hey_tantan/voice0011_hey_tantan.wav 11\n",
      "./custum_dataset/hey_tantan/voice0012_hey_tantan.wav 12\n",
      "./custum_dataset/hey_tantan/voice0013_hey_tantan.wav 13\n",
      "./custum_dataset/hey_tantan/voice0014_hey_tantan.wav 14\n",
      "./custum_dataset/hey_tantan/voice0015_hey_tantan.wav 15\n",
      "./custum_dataset/hey_tantan/voice0016_hey_tantan.wav 16\n",
      "./custum_dataset/hey_tantan/voice0017_hey_tantan.wav 17\n",
      "./custum_dataset/hey_tantan/voice0018_hey_tantan.wav 18\n",
      "./custum_dataset/hey_tantan/voice0019_hey_tantan.wav 19\n",
      "./custum_dataset/hey_tantan/voice0020_hey_tantan.wav 20\n",
      "./custum_dataset/hi_sungwoo\n",
      "./custum_dataset/hi_sungwoo/voice0001_hi_sungwoo.wav 1\n",
      "./custum_dataset/hi_sungwoo/voice0002_hi_sungwoo.wav 2\n",
      "./custum_dataset/hi_sungwoo/voice0003_hi_sungwoo.wav 3\n",
      "./custum_dataset/hi_sungwoo/voice0004_hi_sungwoo.wav 4\n",
      "./custum_dataset/hi_sungwoo/voice0005_hi_sungwoo.wav 5\n",
      "./custum_dataset/hi_sungwoo/voice0006_hi_sungwoo.wav 6\n",
      "./custum_dataset/hi_sungwoo/voice0007_hi_sungwoo.wav 7\n",
      "./custum_dataset/hi_sungwoo/voice0008_hi_sungwoo.wav 8\n",
      "./custum_dataset/hi_sungwoo/voice0009_hi_sungwoo.wav 9\n",
      "./custum_dataset/hi_sungwoo/voice0010_hi_sungwoo.wav 10\n",
      "./custum_dataset/hi_sungwoo/voice0011_hi_sungwoo.wav 11\n",
      "./custum_dataset/hi_sungwoo/voice0012_hi_sungwoo.wav 12\n",
      "./custum_dataset/hi_sungwoo/voice0013_hi_sungwoo.wav 13\n",
      "./custum_dataset/hi_sungwoo/voice0014_hi_sungwoo.wav 14\n",
      "./custum_dataset/hi_sungwoo/voice0015_hi_sungwoo.wav 15\n",
      "./custum_dataset/hi_sungwoo/voice0016_hi_sungwoo.wav 16\n",
      "./custum_dataset/hi_sungwoo/voice0017_hi_sungwoo.wav 17\n",
      "./custum_dataset/hi_sungwoo/voice0018_hi_sungwoo.wav 18\n",
      "./custum_dataset/hi_sungwoo/voice0019_hi_sungwoo.wav 19\n",
      "./custum_dataset/hi_sungwoo/voice0020_hi_sungwoo.wav 20\n",
      "./custum_dataset/hi_sungwoo/voice0021_hi_sungwoo.wav 21\n",
      "./custum_dataset/hi_yutan\n",
      "./custum_dataset/hi_yutan/voice0001_hi_yutan.wav 1\n",
      "./custum_dataset/hi_yutan/voice0002_hi_yutan.wav 2\n",
      "./custum_dataset/hi_yutan/voice0003_hi_yutan.wav 3\n",
      "./custum_dataset/hi_yutan/voice0004_hi_yutan.wav 4\n",
      "./custum_dataset/hi_yutan/voice0005_hi_yutan.wav 5\n",
      "./custum_dataset/hi_yutan/voice0006_hi_yutan.wav 6\n",
      "./custum_dataset/hi_yutan/voice0007_hi_yutan.wav 7\n",
      "./custum_dataset/hi_yutan/voice0008_hi_yutan.wav 8\n",
      "./custum_dataset/hi_yutan/voice0009_hi_yutan.wav 9\n",
      "./custum_dataset/hi_yutan/voice0010_hi_yutan.wav 10\n",
      "./custum_dataset/hi_yutan/voice0011_hi_yutan.wav 11\n",
      "./custum_dataset/hi_yutan/voice0012_hi_yutan.wav 12\n",
      "./custum_dataset/hi_yutan/voice0013_hi_yutan.wav 13\n",
      "./custum_dataset/hi_yutan/voice0014_hi_yutan.wav 14\n",
      "./custum_dataset/hi_yutan/voice0015_hi_yutan.wav 15\n",
      "./custum_dataset/hi_yutan/voice0016_hi_yutan.wav 16\n",
      "./custum_dataset/hi_yutan/voice0017_hi_yutan.wav 17\n",
      "./custum_dataset/hi_yutan/voice0018_hi_yutan.wav 18\n",
      "./custum_dataset/hi_yutan/voice0019_hi_yutan.wav 19\n",
      "./custum_dataset/hi_yutan/voice0020_hi_yutan.wav 20\n",
      "./custum_dataset/hi_yutan/voice0021_hi_yutan.wav 21\n",
      "./custum_dataset/hi_yutan/voice0022_hi_yutan.wav 22\n",
      "./custum_dataset/no\n",
      "./custum_dataset/no/voice0001_no.wav 1\n",
      "./custum_dataset/no/voice0002_no.wav 2\n",
      "./custum_dataset/no/voice0003_no.wav 3\n",
      "./custum_dataset/no/voice0004_no.wav 4\n",
      "./custum_dataset/no/voice0005_no.wav 5\n",
      "./custum_dataset/no/voice0006_no.wav 6\n",
      "./custum_dataset/no/voice0007_no.wav 7\n",
      "./custum_dataset/no/voice0008_no.wav 8\n",
      "./custum_dataset/no/voice0009_no.wav 9\n",
      "./custum_dataset/no/voice0010_no.wav 10\n"
     ]
    }
   ],
   "source": [
    "# 모든 데이터에 대해서 rate 만큼 augmentation 진행\n",
    "# rate = 0.2 면,    총 데이터는 원본 : aug = 10 : 6\n",
    "target_list = [ name for name in listdir(dataset_path) if isdir(\"/\".join( [dataset_path,name ]))]\n",
    "\n",
    "non_target_list = ['_background_noise_', '.ipynb_checkpoints' ]\n",
    "for no_tar in non_target_list:\n",
    "  if no_tar in target_list:\n",
    "    target_list.remove(no_tar)\n",
    "\n",
    "print(target_list)\n",
    "\n",
    "\n",
    "\n",
    "non_target_list = ['_background_noise_', '.ipynb_checkpoints' ]\n",
    "\n",
    "# 폴더명 = target ,  target이 들어가 있는 list 생성\n",
    "target_list = [ name for name in listdir(dataset_path) if isdir(\"/\".join( [dataset_path,name ]))]\n",
    "for no_tar in non_target_list:\n",
    "  if no_tar in target_list:\n",
    "    target_list.remove(no_tar)\n",
    "\n",
    "aug_rate = 0.4\n",
    "\n",
    "for index, type in enumerate(target_list):\n",
    "  print('/'.join([dataset_path, type])) \n",
    "  type_path = '/'.join([dataset_path, type])\n",
    "  if not os.path.exists(base_path+'augmentation_dataset'):\n",
    "            os.makedirs(base_path+'augmentation_dataset')\n",
    "\n",
    "  if not os.path.exists(base_path+'augmentation_dataset/' + type):\n",
    "            os.makedirs(base_path+'augmentation_dataset/' + type)\n",
    "  all_file = listdir(type_path)\n",
    "  count = 1\n",
    "  aug_cut = len(all_file) * aug_rate\n",
    "  for file_name in all_file:\n",
    "    if count > aug_cut:\n",
    "      break\n",
    "    file_path =  type_path + \"/\"+file_name\n",
    "    print(file_path, count)\n",
    "    adding_white_noise(file_path, type, count)\n",
    "    stretch_sound(file_path, type, count)\n",
    "    minus_sound(file_path, type, count)\n",
    "    # 원본 파일도 옮겨 주기\n",
    "    #shutil.copytree(type_path, base_path+'augmentation_dataset/' + type )\n",
    "    copy_tree(type_path, base_path+'augmentation_dataset/' + type )\n",
    "    count += 1"
   ]
  },
  {
   "cell_type": "code",
   "execution_count": 33,
   "metadata": {
    "executionInfo": {
     "elapsed": 11,
     "status": "ok",
     "timestamp": 1648625751798,
     "user": {
      "displayName": "김유탄",
      "userId": "04011767612525493979"
     },
     "user_tz": -540
    },
    "id": "UlLqqOpDNMY-"
   },
   "outputs": [
    {
     "name": "stdout",
     "output_type": "stream",
     "text": [
      "sr: 16000 , sig shape: (44033,)\n",
      "length: 2.7520625 secs\n"
     ]
    },
    {
     "data": {
      "image/png": "[encoded data removed]",
      "text/plain": [
       "<Figure size 504x288 with 1 Axes>"
      ]
     },
     "metadata": {
      "needs_background": "light"
     },
     "output_type": "display_data"
    }
   ],
   "source": [
    "type = \"hi_yutan\"\n",
    "file = base_path+\"/custum_dataset/hi_yutan/voice0015_hi_yutan.wav\"\n",
    "\n",
    "# a = adding_white_noise(file, type)\n",
    "# b= stretch_sound(file, type)\n",
    "# c= minus_sound(file, type)\n",
    "\n",
    "sig, sr = librosa.load(file, sr=16000)\n",
    "print('sr:', sr, ', sig shape:', sig.shape)\n",
    "print('length:', sig.shape[0]/float(sr), 'secs')\n",
    "\n",
    "plot_time_series(sig, \"original\")\n",
    "# plot_time_series(a,\"Noise\")\n",
    "# plot_time_series(b,\"Stretch\")\n",
    "# plot_time_series(c,\"Reverse\")"
   ]
  },
  {
   "cell_type": "markdown",
   "metadata": {
    "id": "eL10wX1siLGx"
   },
   "source": [
    "# 데이터 학습 준비"
   ]
  },
  {
   "cell_type": "code",
   "execution_count": 34,
   "metadata": {
    "executionInfo": {
     "elapsed": 452,
     "status": "ok",
     "timestamp": 1648628726560,
     "user": {
      "displayName": "김유탄",
      "userId": "04011767612525493979"
     },
     "user_tz": -540
    },
    "id": "LaIMW3_FdLEV"
   },
   "outputs": [],
   "source": [
    "from os import listdir\n",
    "from os.path import isdir, join\n",
    "import librosa\n",
    "import random\n",
    "import numpy as np\n",
    "import matplotlib.pyplot as plt\n",
    "import python_speech_features\n",
    "import librosa.display\n",
    "import seaborn as sns\n",
    "from sklearn import metrics\n",
    "#from playsound import playsound\n",
    "\n",
    "import tensorflow as tf\n",
    "from tensorflow.keras.applications import VGG16\n",
    "from tensorflow.keras import models\n",
    "from tensorflow.keras import layers\n",
    "from tensorflow import keras\n",
    "from tensorflow.keras.callbacks import EarlyStopping, ModelCheckpoint, ReduceLROnPlateau, CSVLogger, TensorBoard\n",
    "import tensorflow_model_optimization as tfmot\n",
    "from tensorflow import lite\n"
   ]
  },
  {
   "cell_type": "code",
   "execution_count": 35,
   "metadata": {
    "colab": {
     "base_uri": "https://localhost:8080/"
    },
    "executionInfo": {
     "elapsed": 12,
     "status": "ok",
     "timestamp": 1648628727230,
     "user": {
      "displayName": "김유탄",
      "userId": "04011767612525493979"
     },
     "user_tz": -540
    },
    "id": "iigZ1Z0diKbl",
    "outputId": "a27fdd9f-8733-4fe8-f51a-99bddbd608b7"
   },
   "outputs": [
    {
     "name": "stdout",
     "output_type": "stream",
     "text": [
      "./augmentation_dataset\n",
      "['hey_tantan', 'hi_sungwoo', 'hi_yutan', 'no']\n",
      "./augmentation_dataset/hey_tantan\n",
      "./augmentation_dataset/hi_sungwoo\n",
      "./augmentation_dataset/hi_yutan\n",
      "./augmentation_dataset/no\n"
     ]
    }
   ],
   "source": [
    "# 데이터가 저장되어 있는 경로 ( class 별로 묶여 있는 곳)\n",
    "dataset_path = base_path + 'augmentation_dataset' # custum_dataset\n",
    "\n",
    "# train, valid, test 나눠 주기\n",
    "val_ratio = 0.2\n",
    "test_ratio = 0.2\n",
    "\n",
    "print(dataset_path)\n",
    "\n",
    "# 여기다가는 내가 사용하지 않은 class 이름들 넣어두기 - 학습 시간이 너무 오래 걸리는 경우\n",
    "non_target_list = ['_background_noise_', '.ipynb_checkpoints' ]\n",
    "\n",
    "# 폴더명 = target ,  target이 들어가 있는 list 생성\n",
    "target_list = [ name for name in listdir(dataset_path) if isdir(\"/\".join( [dataset_path,name ]))]\n",
    "for no_tar in non_target_list:\n",
    "  if no_tar in target_list:\n",
    "    target_list.remove(no_tar)\n",
    "print(target_list)\n",
    "\n",
    "\n",
    "filenames = []\n",
    "y = []\n",
    "for index, target in enumerate(target_list):\n",
    "    print('/'.join([dataset_path, target]))  # class 에 맞는 폴더 이름 넣어주기\n",
    "    filenames.append(listdir('/'.join([dataset_path, target])))\n",
    "    y.append(np.ones(len(filenames[index])) * index) \n",
    "\n",
    "# 하나로 쭉 나열 하기\n",
    "filenames = [item for sublist in filenames for item in sublist]\n",
    "y = [item for sublist in y for item in sublist]\n",
    "\n",
    "\n",
    "# 여기부터 분배를 잘 해줘야함\n",
    "\n",
    "\n",
    "# file 모아둔거 한번 섞어 주기\n",
    "filenames_y = list(zip(filenames, y))\n",
    "random.shuffle(filenames_y)\n",
    "filenames, y = zip(*filenames_y)\n",
    "\n",
    "val_set_size = int(len(filenames) * val_ratio)\n",
    "test_set_size = int(len(filenames) * test_ratio)\n",
    "\n",
    "filenames_val = filenames[:val_set_size]\n",
    "filenames_test = filenames[val_set_size:(val_set_size + test_set_size)]\n",
    "filenames_train = filenames[(val_set_size + test_set_size):]\n",
    "\n",
    "y_orig_val = y[:val_set_size]\n",
    "y_orig_test = y[val_set_size:(val_set_size + test_set_size)]\n",
    "y_orig_train = y[(val_set_size + test_set_size):]\n",
    "\n"
   ]
  },
  {
   "cell_type": "code",
   "execution_count": 72,
   "metadata": {
    "colab": {
     "base_uri": "https://localhost:8080/"
    },
    "executionInfo": {
     "elapsed": 11,
     "status": "ok",
     "timestamp": 1648628727231,
     "user": {
      "displayName": "김유탄",
      "userId": "04011767612525493979"
     },
     "user_tz": -540
    },
    "id": "NBNJ6Xw1vrKm",
    "outputId": "62e1b25d-7b28-47c8-c058-ff92fb86d1d2"
   },
   "outputs": [
    {
     "name": "stdout",
     "output_type": "stream",
     "text": [
      "80 80\n",
      "80 80\n",
      "244 244\n",
      "[0. 0. 0. 0. 0. 0. 0. 0. 0. 0. 0. 0. 0. 0. 0. 0. 0. 0. 0. 0. 0. 0. 0. 0.\n",
      " 0. 0. 0. 0. 0. 0. 0. 0. 0. 0. 0. 0. 0. 0. 0. 0. 0. 0. 0. 0. 0. 0. 0. 0.\n",
      " 0. 0. 0. 0. 0. 0. 0. 0. 0. 0. 0. 0. 0. 0. 0. 0. 0. 0. 0. 0. 0. 0. 0. 0.\n",
      " 0. 0. 0. 0. 0. 0. 0. 0.]\n"
     ]
    }
   ],
   "source": [
    "print(len(filenames_val), len(y_orig_val))\n",
    "print(len(filenames_test), len(y_orig_test))\n",
    "print(len(filenames_train), len(y_orig_train))\n",
    "print(y_val)"
   ]
  },
  {
   "cell_type": "code",
   "execution_count": 44,
   "metadata": {
    "executionInfo": {
     "elapsed": 10,
     "status": "ok",
     "timestamp": 1648628727231,
     "user": {
      "displayName": "김유탄",
      "userId": "04011767612525493979"
     },
     "user_tz": -540
    },
    "id": "kWZz1TPpuz-J"
   },
   "outputs": [],
   "source": [
    "sample_rate = 16000\n",
    "wav_time = 1.2 #초단위\n",
    "\n",
    "sample_cut = int(sample_rate*wav_time)  # 이거    sample_rate랑, 다른 변수랑 섞어서 만들기뒤에서 얼마 만큼 자를지 정해야함)\n",
    "click = int(16000*0.1)\n",
    "\n",
    "num_mfcc=20   # frame 몇개로 할것인가\n",
    "n_fft=2048\n",
    "hop_length=512\n",
    "len_mfcc = 38\n",
    "\n",
    "\n",
    "ffts = []\n",
    "stfts = [] \n",
    "f_ffts = []\n",
    "log_specs = []\n",
    "MFCCs_list = []\n",
    "\n",
    "def get_librosa_mfcc(path):\n",
    "    #waveforms.append([signal, sample_rate]) \n",
    "    # FFT -> power spectrum\n",
    "    # perform Fourier transform\n",
    "\n",
    "    sig, sr = librosa.core.load(path, sample_rate)\n",
    "    signal = sig[-sample_cut-click:-click]\n",
    "#     print('sr:', sr, ', sig shape:', sig.shape)\n",
    "#     print('length:', sig.shape[0]/float(sr), 'secs')\n",
    "#     plot_time_series(signal, \"original\")\n",
    "    \n",
    "    fft = np.fft.fft(signal)\n",
    "    magnitude = np.abs(fft)\n",
    "    frequency = np.linspace(0, sample_rate, len(magnitude))\n",
    "    f_ffts.append([frequency, magnitude])\n",
    "    \n",
    "    # calculate abs values on complex numbers to get magnitude\n",
    "    spectrum = np.abs(fft)\n",
    "    \n",
    "    # half frequency variable\n",
    "    f = np.linspace(0, sample_rate, len(spectrum))\n",
    "    left_spectrum = spectrum[:int(len(spectrum)/2)]\n",
    "    left_f = f[:int(len(spectrum)/2)]\n",
    "    ffts.append([left_f, left_spectrum])\n",
    "\n",
    "    #performing Short-time FT\n",
    "    stft = librosa.stft(signal, n_fft=n_fft, hop_length=hop_length)\n",
    "    spectrogram = np.abs(stft)\n",
    "    stfts.append([spectrogram, sample_rate, hop_length])\n",
    "    log_spectrogram = librosa.amplitude_to_db(spectrogram)\n",
    "    log_specs.append([log_spectrogram, sample_rate, hop_length])\n",
    "    MFCCs = librosa.feature.mfcc(signal, sample_rate, \n",
    "                                 n_mfcc=num_mfcc,\n",
    "                                 n_fft=n_fft,\n",
    "                                 hop_length=hop_length)\n",
    "    MFCCs_list.append([MFCCs, sample_rate, hop_length])\n",
    "    return MFCCs"
   ]
  },
  {
   "cell_type": "code",
   "execution_count": 45,
   "metadata": {
    "colab": {
     "base_uri": "https://localhost:8080/"
    },
    "executionInfo": {
     "elapsed": 15990,
     "status": "ok",
     "timestamp": 1648628743212,
     "user": {
      "displayName": "김유탄",
      "userId": "04011767612525493979"
     },
     "user_tz": -540
    },
    "id": "Ir7V_q_VoNFb",
    "outputId": "68e1d27d-d7e6-4edc-8cf4-28685547a43e"
   },
   "outputs": [
    {
     "name": "stderr",
     "output_type": "stream",
     "text": [
      "C:\\Users\\yutan\\anaconda3\\envs\\tensorflow\\lib\\site-packages\\ipykernel_launcher.py:24: FutureWarning: Pass sr=16000 as keyword args. From version 0.10 passing these as positional arguments will result in an error\n",
      "C:\\Users\\yutan\\anaconda3\\envs\\tensorflow\\lib\\site-packages\\ipykernel_launcher.py:53: FutureWarning: Pass y=[-6.1035156e-05 -3.0517578e-05 -6.1035156e-05 ... -9.1552734e-05\n",
      " -1.2207031e-04 -6.1035156e-05], sr=16000 as keyword args. From version 0.10 passing these as positional arguments will result in an error\n",
      "C:\\Users\\yutan\\anaconda3\\envs\\tensorflow\\lib\\site-packages\\ipykernel_launcher.py:53: FutureWarning: Pass y=[-2.1289011e-06  2.3906239e-05  5.5148437e-05 ...  8.2982668e-05\n",
      " -3.4988992e-05 -6.3006839e-05], sr=16000 as keyword args. From version 0.10 passing these as positional arguments will result in an error\n",
      "C:\\Users\\yutan\\anaconda3\\envs\\tensorflow\\lib\\site-packages\\ipykernel_launcher.py:53: FutureWarning: Pass y=[ 0.03771973  0.00274658 -0.01461792 ...  0.00177002  0.00091553\n",
      " -0.00418091], sr=16000 as keyword args. From version 0.10 passing these as positional arguments will result in an error\n",
      "C:\\Users\\yutan\\anaconda3\\envs\\tensorflow\\lib\\site-packages\\ipykernel_launcher.py:53: FutureWarning: Pass y=[-0.00265503  0.00030518 -0.0020752  ... -0.00228882  0.0017395\n",
      "  0.00839233], sr=16000 as keyword args. From version 0.10 passing these as positional arguments will result in an error\n"
     ]
    },
    {
     "name": "stdout",
     "output_type": "stream",
     "text": [
      "mfccs 크기 : (20, 38)\n",
      "\n",
      "mfccs 크기 : (20, 38)\n",
      "\n",
      "mfccs 크기 : (20, 38)\n",
      "\n",
      "mfccs 크기 : (20, 38)\n",
      "\n"
     ]
    },
    {
     "name": "stderr",
     "output_type": "stream",
     "text": [
      "C:\\Users\\yutan\\anaconda3\\envs\\tensorflow\\lib\\site-packages\\ipykernel_launcher.py:53: FutureWarning: Pass y=[-1.7925153e-05 -2.0852025e-05  1.9776264e-06 ... -2.4186565e-04\n",
      "  1.5746638e-04 -8.5377033e-05], sr=16000 as keyword args. From version 0.10 passing these as positional arguments will result in an error\n",
      "C:\\Users\\yutan\\anaconda3\\envs\\tensorflow\\lib\\site-packages\\ipykernel_launcher.py:53: FutureWarning: Pass y=[ 3.0517578e-05  3.0517578e-05  6.1035156e-05 ...  6.1035156e-05\n",
      "  0.0000000e+00 -3.0517578e-05], sr=16000 as keyword args. From version 0.10 passing these as positional arguments will result in an error\n",
      "C:\\Users\\yutan\\anaconda3\\envs\\tensorflow\\lib\\site-packages\\ipykernel_launcher.py:53: FutureWarning: Pass y=[ 0.00408936  0.00167847 -0.00265503 ... -0.00143433 -0.00241089\n",
      " -0.00558472], sr=16000 as keyword args. From version 0.10 passing these as positional arguments will result in an error\n",
      "C:\\Users\\yutan\\anaconda3\\envs\\tensorflow\\lib\\site-packages\\ipykernel_launcher.py:53: FutureWarning: Pass y=[ 7.0374062e-06  1.8076107e-05 -3.6700927e-05 ...  1.1979047e-03\n",
      "  1.2127894e-03  1.2025052e-03], sr=16000 as keyword args. From version 0.10 passing these as positional arguments will result in an error\n",
      "C:\\Users\\yutan\\anaconda3\\envs\\tensorflow\\lib\\site-packages\\ipykernel_launcher.py:53: FutureWarning: Pass y=[ 1.9296187e-06 -1.8845321e-05 -4.5044948e-05 ... -1.7008830e-05\n",
      " -2.4297649e-04  1.1786987e-04], sr=16000 as keyword args. From version 0.10 passing these as positional arguments will result in an error\n"
     ]
    },
    {
     "name": "stdout",
     "output_type": "stream",
     "text": [
      "mfccs 크기 : (20, 38)\n",
      "\n",
      "mfccs 크기 : (20, 38)\n",
      "\n",
      "mfccs 크기 : (20, 38)\n",
      "\n",
      "mfccs 크기 : (20, 38)\n",
      "\n",
      "mfccs 크기 : (20, 38)\n",
      "\n",
      "mfccs 크기 : (20, 38)\n",
      "\n",
      "mfccs 크기 : (20, 38)\n",
      "\n",
      "mfccs 크기 : (20, 38)\n",
      "\n",
      "mfccs 크기 : (20, 38)\n",
      "\n",
      "mfccs 크기 : (20, 38)\n",
      "\n"
     ]
    },
    {
     "name": "stderr",
     "output_type": "stream",
     "text": [
      "C:\\Users\\yutan\\anaconda3\\envs\\tensorflow\\lib\\site-packages\\ipykernel_launcher.py:53: FutureWarning: Pass y=[ 2.0804040e-02  2.0930463e-02  1.7636467e-02 ... -3.2261112e-06\n",
      "  2.7430528e-05  4.9304854e-05], sr=16000 as keyword args. From version 0.10 passing these as positional arguments will result in an error\n",
      "C:\\Users\\yutan\\anaconda3\\envs\\tensorflow\\lib\\site-packages\\ipykernel_launcher.py:53: FutureWarning: Pass y=[ 0.          0.          0.         ...  0.00015259 -0.00091553\n",
      " -0.00088501], sr=16000 as keyword args. From version 0.10 passing these as positional arguments will result in an error\n",
      "C:\\Users\\yutan\\anaconda3\\envs\\tensorflow\\lib\\site-packages\\ipykernel_launcher.py:53: FutureWarning: Pass y=[ 6.1035156e-05  6.1035156e-05  3.0517578e-05 ...  1.0681152e-03\n",
      " -9.1552734e-05  5.4931641e-04], sr=16000 as keyword args. From version 0.10 passing these as positional arguments will result in an error\n",
      "C:\\Users\\yutan\\anaconda3\\envs\\tensorflow\\lib\\site-packages\\ipykernel_launcher.py:53: FutureWarning: Pass y=[-3.0517578e-05  0.0000000e+00 -3.0517578e-05 ... -3.0517578e-05\n",
      " -3.0517578e-05  3.0517578e-05], sr=16000 as keyword args. From version 0.10 passing these as positional arguments will result in an error\n",
      "C:\\Users\\yutan\\anaconda3\\envs\\tensorflow\\lib\\site-packages\\ipykernel_launcher.py:53: FutureWarning: Pass y=[-3.0517578e-05 -3.0517578e-05  3.0517578e-05 ... -1.2207031e-03\n",
      " -1.2207031e-03 -1.2207031e-03], sr=16000 as keyword args. From version 0.10 passing these as positional arguments will result in an error\n",
      "C:\\Users\\yutan\\anaconda3\\envs\\tensorflow\\lib\\site-packages\\ipykernel_launcher.py:53: FutureWarning: Pass y=[-6.5047634e-06  7.7623918e-06  3.4048258e-05 ... -1.1161097e-04\n",
      " -8.2627288e-05 -2.3771419e-05], sr=16000 as keyword args. From version 0.10 passing these as positional arguments will result in an error\n",
      "C:\\Users\\yutan\\anaconda3\\envs\\tensorflow\\lib\\site-packages\\ipykernel_launcher.py:53: FutureWarning: Pass y=[-0.00045776 -0.00512695 -0.00466919 ... -0.00564575 -0.01538086\n",
      " -0.00201416], sr=16000 as keyword args. From version 0.10 passing these as positional arguments will result in an error\n",
      "C:\\Users\\yutan\\anaconda3\\envs\\tensorflow\\lib\\site-packages\\ipykernel_launcher.py:53: FutureWarning: Pass y=[ 3.0517578e-05  3.0517578e-05 -3.0517578e-05 ...  0.0000000e+00\n",
      " -3.0517578e-05 -9.1552734e-05], sr=16000 as keyword args. From version 0.10 passing these as positional arguments will result in an error\n"
     ]
    },
    {
     "name": "stdout",
     "output_type": "stream",
     "text": [
      "mfccs 크기 : (20, 38)\n",
      "\n",
      "mfccs 크기 : (20, 38)\n",
      "\n",
      "mfccs 크기 : (20, 38)\n",
      "\n",
      "mfccs 크기 : (20, 38)\n",
      "\n",
      "mfccs 크기 : (20, 38)\n",
      "\n",
      "mfccs 크기 : (20, 38)\n",
      "\n",
      "mfccs 크기 : (20, 38)\n",
      "\n",
      "mfccs 크기 : (20, 38)\n",
      "\n"
     ]
    },
    {
     "name": "stderr",
     "output_type": "stream",
     "text": [
      "C:\\Users\\yutan\\anaconda3\\envs\\tensorflow\\lib\\site-packages\\ipykernel_launcher.py:53: FutureWarning: Pass y=[-1.12795915e-05 -5.83746150e-05 -2.11200086e-06 ... -1.68454877e-04\n",
      " -1.17061201e-04 -7.68568643e-05], sr=16000 as keyword args. From version 0.10 passing these as positional arguments will result in an error\n",
      "C:\\Users\\yutan\\anaconda3\\envs\\tensorflow\\lib\\site-packages\\ipykernel_launcher.py:53: FutureWarning: Pass y=[-2.1728516e-02 -1.3183594e-02 -2.1362305e-04 ...  0.0000000e+00\n",
      " -3.0517578e-05 -3.0517578e-05], sr=16000 as keyword args. From version 0.10 passing these as positional arguments will result in an error\n",
      "C:\\Users\\yutan\\anaconda3\\envs\\tensorflow\\lib\\site-packages\\ipykernel_launcher.py:53: FutureWarning: Pass y=[-0.0223999  -0.00405884 -0.0088501  ... -0.00048828  0.00036621\n",
      "  0.0005188 ], sr=16000 as keyword args. From version 0.10 passing these as positional arguments will result in an error\n",
      "C:\\Users\\yutan\\anaconda3\\envs\\tensorflow\\lib\\site-packages\\ipykernel_launcher.py:53: FutureWarning: Pass y=[ 0.0000000e+00  3.0517578e-05  0.0000000e+00 ...  3.0517578e-05\n",
      " -3.0517578e-05  0.0000000e+00], sr=16000 as keyword args. From version 0.10 passing these as positional arguments will result in an error\n",
      "C:\\Users\\yutan\\anaconda3\\envs\\tensorflow\\lib\\site-packages\\ipykernel_launcher.py:53: FutureWarning: Pass y=[ 0.003479   -0.00302124  0.00253296 ... -0.00076294  0.00430298\n",
      "  0.00500488], sr=16000 as keyword args. From version 0.10 passing these as positional arguments will result in an error\n",
      "C:\\Users\\yutan\\anaconda3\\envs\\tensorflow\\lib\\site-packages\\ipykernel_launcher.py:53: FutureWarning: Pass y=[-2.0272713e-05 -4.4993158e-06 -2.4988358e-05 ...  8.1055359e-06\n",
      " -1.1349176e-05 -2.6641303e-05], sr=16000 as keyword args. From version 0.10 passing these as positional arguments will result in an error\n"
     ]
    },
    {
     "name": "stdout",
     "output_type": "stream",
     "text": [
      "mfccs 크기 : (20, 38)\n",
      "\n",
      "mfccs 크기 : (20, 38)\n",
      "\n",
      "mfccs 크기 : (20, 38)\n",
      "\n"
     ]
    },
    {
     "name": "stderr",
     "output_type": "stream",
     "text": [
      "C:\\Users\\yutan\\anaconda3\\envs\\tensorflow\\lib\\site-packages\\ipykernel_launcher.py:53: FutureWarning: Pass y=[-3.0252735e-05 -1.7874880e-05  4.3341297e-06 ...  4.1940371e-03\n",
      "  2.4395860e-03  4.5137610e-03], sr=16000 as keyword args. From version 0.10 passing these as positional arguments will result in an error\n",
      "C:\\Users\\yutan\\anaconda3\\envs\\tensorflow\\lib\\site-packages\\ipykernel_launcher.py:53: FutureWarning: Pass y=[-1.18172611e-05  4.60975207e-06 -1.42204835e-05 ...  2.34641848e-04\n",
      "  2.59790308e-04  3.68386274e-04], sr=16000 as keyword args. From version 0.10 passing these as positional arguments will result in an error\n",
      "C:\\Users\\yutan\\anaconda3\\envs\\tensorflow\\lib\\site-packages\\ipykernel_launcher.py:53: FutureWarning: Pass y=[0.00372314 0.0116272  0.01925659 ... 0.00088501 0.00024414 0.00039673], sr=16000 as keyword args. From version 0.10 passing these as positional arguments will result in an error\n",
      "C:\\Users\\yutan\\anaconda3\\envs\\tensorflow\\lib\\site-packages\\ipykernel_launcher.py:53: FutureWarning: Pass y=[ 1.4404297e-02  1.2847900e-02  4.7302246e-03 ...  3.6621094e-04\n",
      " -6.1035156e-05 -1.8310547e-04], sr=16000 as keyword args. From version 0.10 passing these as positional arguments will result in an error\n",
      "C:\\Users\\yutan\\anaconda3\\envs\\tensorflow\\lib\\site-packages\\ipykernel_launcher.py:53: FutureWarning: Pass y=[ 3.6316931e-05  2.0325608e-06  1.0200778e-06 ...  8.8387562e-05\n",
      " -2.0715412e-04  3.1549763e-04], sr=16000 as keyword args. From version 0.10 passing these as positional arguments will result in an error\n"
     ]
    },
    {
     "name": "stdout",
     "output_type": "stream",
     "text": [
      "mfccs 크기 : (20, 38)\n",
      "\n",
      "mfccs 크기 : (20, 38)\n",
      "\n",
      "mfccs 크기 : (20, 38)\n",
      "\n",
      "mfccs 크기 : (20, 38)\n",
      "\n",
      "mfccs 크기 : (20, 38)\n",
      "\n",
      "mfccs 크기 : (20, 38)\n",
      "\n",
      "mfccs 크기 : (20, 38)\n",
      "\n"
     ]
    },
    {
     "name": "stderr",
     "output_type": "stream",
     "text": [
      "C:\\Users\\yutan\\anaconda3\\envs\\tensorflow\\lib\\site-packages\\ipykernel_launcher.py:53: FutureWarning: Pass y=[ 1.0192871e-02  9.6740723e-03  8.9111328e-03 ...  0.0000000e+00\n",
      "  0.0000000e+00 -3.0517578e-05], sr=16000 as keyword args. From version 0.10 passing these as positional arguments will result in an error\n",
      "C:\\Users\\yutan\\anaconda3\\envs\\tensorflow\\lib\\site-packages\\ipykernel_launcher.py:53: FutureWarning: Pass y=[-1.7364502e-02 -1.8096924e-02 -7.0495605e-03 ...  0.0000000e+00\n",
      "  0.0000000e+00 -3.0517578e-05], sr=16000 as keyword args. From version 0.10 passing these as positional arguments will result in an error\n",
      "C:\\Users\\yutan\\anaconda3\\envs\\tensorflow\\lib\\site-packages\\ipykernel_launcher.py:53: FutureWarning: Pass y=[-0.00341797  0.00314331  0.00286865 ... -0.00994873 -0.00137329\n",
      " -0.00045776], sr=16000 as keyword args. From version 0.10 passing these as positional arguments will result in an error\n",
      "C:\\Users\\yutan\\anaconda3\\envs\\tensorflow\\lib\\site-packages\\ipykernel_launcher.py:53: FutureWarning: Pass y=[ 0.00067139 -0.00775146 -0.00048828 ... -0.00137329 -0.0100708\n",
      "  0.00296021], sr=16000 as keyword args. From version 0.10 passing these as positional arguments will result in an error\n",
      "C:\\Users\\yutan\\anaconda3\\envs\\tensorflow\\lib\\site-packages\\ipykernel_launcher.py:53: FutureWarning: Pass y=[4.9296326e-05 3.1078682e-06 5.2974523e-05 ... 1.0144196e-05 3.2503056e-05\n",
      " 2.3229438e-06], sr=16000 as keyword args. From version 0.10 passing these as positional arguments will result in an error\n",
      "C:\\Users\\yutan\\anaconda3\\envs\\tensorflow\\lib\\site-packages\\ipykernel_launcher.py:53: FutureWarning: Pass y=[ 0.05438232  0.04794312  0.03689575 ... -0.0027771  -0.00588989\n",
      " -0.00909424], sr=16000 as keyword args. From version 0.10 passing these as positional arguments will result in an error\n",
      "C:\\Users\\yutan\\anaconda3\\envs\\tensorflow\\lib\\site-packages\\ipykernel_launcher.py:53: FutureWarning: Pass y=[-3.0517578e-05 -6.1035156e-05 -3.0517578e-05 ...  3.0517578e-05\n",
      "  3.0517578e-05  0.0000000e+00], sr=16000 as keyword args. From version 0.10 passing these as positional arguments will result in an error\n",
      "C:\\Users\\yutan\\anaconda3\\envs\\tensorflow\\lib\\site-packages\\ipykernel_launcher.py:53: FutureWarning: Pass y=[ 6.9885254e-03 -1.2176514e-02 -5.0048828e-03 ... -6.1035156e-03\n",
      " -1.0375977e-03  9.1552734e-05], sr=16000 as keyword args. From version 0.10 passing these as positional arguments will result in an error\n"
     ]
    },
    {
     "name": "stdout",
     "output_type": "stream",
     "text": [
      "mfccs 크기 : (20, 38)\n",
      "\n",
      "mfccs 크기 : (20, 38)\n",
      "\n",
      "mfccs 크기 : (20, 38)\n",
      "\n",
      "mfccs 크기 : (20, 38)\n",
      "\n",
      "mfccs 크기 : (20, 38)\n",
      "\n",
      "mfccs 크기 : (20, 38)\n",
      "\n"
     ]
    },
    {
     "name": "stderr",
     "output_type": "stream",
     "text": [
      "C:\\Users\\yutan\\anaconda3\\envs\\tensorflow\\lib\\site-packages\\ipykernel_launcher.py:53: FutureWarning: Pass y=[ 5.5527067e-05  1.7852402e-05 -3.2495675e-05 ... -2.3504945e-05\n",
      " -3.7601811e-05 -2.1724758e-05], sr=16000 as keyword args. From version 0.10 passing these as positional arguments will result in an error\n",
      "C:\\Users\\yutan\\anaconda3\\envs\\tensorflow\\lib\\site-packages\\ipykernel_launcher.py:53: FutureWarning: Pass y=[ 1.2535710e-02  6.2887520e-03  7.0161433e-03 ... -3.3155673e-05\n",
      " -1.9729963e-05  8.1406921e-07], sr=16000 as keyword args. From version 0.10 passing these as positional arguments will result in an error\n"
     ]
    },
    {
     "name": "stdout",
     "output_type": "stream",
     "text": [
      "mfccs 크기 : (20, 38)\n",
      "\n",
      "mfccs 크기 : (20, 38)\n",
      "\n",
      "mfccs 크기 : (20, 38)\n",
      "\n",
      "mfccs 크기 : (20, 38)\n",
      "\n",
      "mfccs 크기 : (20, 38)\n",
      "\n",
      "mfccs 크기 : (20, 38)\n",
      "\n"
     ]
    },
    {
     "name": "stderr",
     "output_type": "stream",
     "text": [
      "C:\\Users\\yutan\\anaconda3\\envs\\tensorflow\\lib\\site-packages\\ipykernel_launcher.py:53: FutureWarning: Pass y=[ 1.9407031e-05  4.2907348e-05 -1.0706498e-05 ...  1.2151510e-03\n",
      "  1.4510992e-03  1.3916596e-03], sr=16000 as keyword args. From version 0.10 passing these as positional arguments will result in an error\n",
      "C:\\Users\\yutan\\anaconda3\\envs\\tensorflow\\lib\\site-packages\\ipykernel_launcher.py:53: FutureWarning: Pass y=[-6.1035156e-05 -3.0517578e-05 -3.0517578e-05 ... -9.1552734e-05\n",
      "  1.8310547e-04 -3.3569336e-04], sr=16000 as keyword args. From version 0.10 passing these as positional arguments will result in an error\n",
      "C:\\Users\\yutan\\anaconda3\\envs\\tensorflow\\lib\\site-packages\\ipykernel_launcher.py:53: FutureWarning: Pass y=[-3.0517578e-05 -3.0517578e-05  0.0000000e+00 ... -3.0517578e-05\n",
      " -3.0517578e-05  0.0000000e+00], sr=16000 as keyword args. From version 0.10 passing these as positional arguments will result in an error\n",
      "C:\\Users\\yutan\\anaconda3\\envs\\tensorflow\\lib\\site-packages\\ipykernel_launcher.py:53: FutureWarning: Pass y=[-3.0517578e-05  0.0000000e+00 -3.0517578e-05 ...  0.0000000e+00\n",
      "  0.0000000e+00 -3.0517578e-05], sr=16000 as keyword args. From version 0.10 passing these as positional arguments will result in an error\n",
      "C:\\Users\\yutan\\anaconda3\\envs\\tensorflow\\lib\\site-packages\\ipykernel_launcher.py:53: FutureWarning: Pass y=[3.0517578e-05 3.0517578e-05 3.0517578e-05 ... 6.1035156e-05 6.1035156e-05\n",
      " 3.0517578e-05], sr=16000 as keyword args. From version 0.10 passing these as positional arguments will result in an error\n",
      "C:\\Users\\yutan\\anaconda3\\envs\\tensorflow\\lib\\site-packages\\ipykernel_launcher.py:53: FutureWarning: Pass y=[-4.0919567e-06  2.8636591e-06 -1.0595651e-05 ... -9.0222366e-06\n",
      "  3.1964055e-06 -3.2794604e-05], sr=16000 as keyword args. From version 0.10 passing these as positional arguments will result in an error\n"
     ]
    },
    {
     "name": "stdout",
     "output_type": "stream",
     "text": [
      "mfccs 크기 : (20, 38)\n",
      "\n",
      "mfccs 크기 : (20, 38)\n",
      "\n",
      "mfccs 크기 : (20, 38)\n",
      "\n",
      "mfccs 크기 : (20, 38)\n",
      "\n"
     ]
    },
    {
     "name": "stderr",
     "output_type": "stream",
     "text": [
      "C:\\Users\\yutan\\anaconda3\\envs\\tensorflow\\lib\\site-packages\\ipykernel_launcher.py:53: FutureWarning: Pass y=[-2.4353378e-05  1.3616614e-06 -1.5147970e-05 ... -7.0243253e-04\n",
      "  1.0792071e-03 -3.8690635e-04], sr=16000 as keyword args. From version 0.10 passing these as positional arguments will result in an error\n",
      "C:\\Users\\yutan\\anaconda3\\envs\\tensorflow\\lib\\site-packages\\ipykernel_launcher.py:53: FutureWarning: Pass y=[ 0.0000000e+00  3.0517578e-05  0.0000000e+00 ... -2.7465820e-04\n",
      " -1.8310547e-04 -9.1552734e-05], sr=16000 as keyword args. From version 0.10 passing these as positional arguments will result in an error\n",
      "C:\\Users\\yutan\\anaconda3\\envs\\tensorflow\\lib\\site-packages\\ipykernel_launcher.py:53: FutureWarning: Pass y=[-0.00305176 -0.00384521 -0.00534058 ...  0.00228882  0.0020752\n",
      " -0.00613403], sr=16000 as keyword args. From version 0.10 passing these as positional arguments will result in an error\n",
      "C:\\Users\\yutan\\anaconda3\\envs\\tensorflow\\lib\\site-packages\\ipykernel_launcher.py:53: FutureWarning: Pass y=[-0.00041631  0.00057038 -0.00032767 ... -0.000595   -0.00042813\n",
      "  0.0005451 ], sr=16000 as keyword args. From version 0.10 passing these as positional arguments will result in an error\n",
      "C:\\Users\\yutan\\anaconda3\\envs\\tensorflow\\lib\\site-packages\\ipykernel_launcher.py:53: FutureWarning: Pass y=[-7.9112397e-06  1.5037444e-06 -2.4552584e-05 ...  3.8324335e-05\n",
      "  3.6294379e-05  1.8558025e-05], sr=16000 as keyword args. From version 0.10 passing these as positional arguments will result in an error\n"
     ]
    },
    {
     "name": "stdout",
     "output_type": "stream",
     "text": [
      "mfccs 크기 : (20, 38)\n",
      "\n",
      "mfccs 크기 : (20, 38)\n",
      "\n",
      "mfccs 크기 : (20, 38)\n",
      "\n"
     ]
    },
    {
     "name": "stderr",
     "output_type": "stream",
     "text": [
      "C:\\Users\\yutan\\anaconda3\\envs\\tensorflow\\lib\\site-packages\\ipykernel_launcher.py:53: FutureWarning: Pass y=[-0.00024414  0.01065063  0.00323486 ... -0.00128174  0.00497437\n",
      " -0.00048828], sr=16000 as keyword args. From version 0.10 passing these as positional arguments will result in an error\n",
      "C:\\Users\\yutan\\anaconda3\\envs\\tensorflow\\lib\\site-packages\\ipykernel_launcher.py:53: FutureWarning: Pass y=[-6.4401247e-05 -3.0612948e-05 -5.8257207e-05 ...  2.4323156e-06\n",
      " -5.0654571e-06  1.4281187e-05], sr=16000 as keyword args. From version 0.10 passing these as positional arguments will result in an error\n",
      "C:\\Users\\yutan\\anaconda3\\envs\\tensorflow\\lib\\site-packages\\ipykernel_launcher.py:53: FutureWarning: Pass y=[-1.8310547e-04 -7.5073242e-03  1.3427734e-03 ... -1.0681152e-03\n",
      "  3.2348633e-03 -6.1035156e-05], sr=16000 as keyword args. From version 0.10 passing these as positional arguments will result in an error\n",
      "C:\\Users\\yutan\\anaconda3\\envs\\tensorflow\\lib\\site-packages\\ipykernel_launcher.py:53: FutureWarning: Pass y=[-1.2542725e-02 -6.3171387e-03 -7.0190430e-03 ...  3.0517578e-05\n",
      "  0.0000000e+00 -3.0517578e-05], sr=16000 as keyword args. From version 0.10 passing these as positional arguments will result in an error\n",
      "C:\\Users\\yutan\\anaconda3\\envs\\tensorflow\\lib\\site-packages\\ipykernel_launcher.py:53: FutureWarning: Pass y=[ 0.0000000e+00 -3.0517578e-05  0.0000000e+00 ... -3.0517578e-05\n",
      " -3.0517578e-05  0.0000000e+00], sr=16000 as keyword args. From version 0.10 passing these as positional arguments will result in an error\n"
     ]
    },
    {
     "name": "stdout",
     "output_type": "stream",
     "text": [
      "mfccs 크기 : (20, 38)\n",
      "\n",
      "mfccs 크기 : (20, 38)\n",
      "\n",
      "mfccs 크기 : (20, 38)\n",
      "\n",
      "mfccs 크기 : (20, 38)\n",
      "\n",
      "mfccs 크기 : (20, 38)\n",
      "\n"
     ]
    },
    {
     "name": "stderr",
     "output_type": "stream",
     "text": [
      "C:\\Users\\yutan\\anaconda3\\envs\\tensorflow\\lib\\site-packages\\ipykernel_launcher.py:53: FutureWarning: Pass y=[-1.1214538e-02 -2.2023167e-02 -4.0577773e-02 ... -6.9878301e-06\n",
      " -1.2929967e-06  4.7486474e-06], sr=16000 as keyword args. From version 0.10 passing these as positional arguments will result in an error\n",
      "C:\\Users\\yutan\\anaconda3\\envs\\tensorflow\\lib\\site-packages\\ipykernel_launcher.py:53: FutureWarning: Pass y=[-1.1940515e-05  4.0477942e-05  6.4162457e-08 ...  7.0333836e-04\n",
      "  6.3268654e-04  5.3365721e-04], sr=16000 as keyword args. From version 0.10 passing these as positional arguments will result in an error\n",
      "C:\\Users\\yutan\\anaconda3\\envs\\tensorflow\\lib\\site-packages\\ipykernel_launcher.py:53: FutureWarning: Pass y=[-3.0517578e-05 -3.0517578e-05 -3.0517578e-05 ... -2.4414062e-04\n",
      " -9.1552734e-05  1.2207031e-04], sr=16000 as keyword args. From version 0.10 passing these as positional arguments will result in an error\n",
      "C:\\Users\\yutan\\anaconda3\\envs\\tensorflow\\lib\\site-packages\\ipykernel_launcher.py:53: FutureWarning: Pass y=[-8.06005664e-06 -5.69416443e-05 -4.39766955e-05 ... -5.58364191e-05\n",
      " -2.78441912e-05 -1.21124085e-05], sr=16000 as keyword args. From version 0.10 passing these as positional arguments will result in an error\n"
     ]
    },
    {
     "name": "stdout",
     "output_type": "stream",
     "text": [
      "mfccs 크기 : (20, 38)\n",
      "\n",
      "mfccs 크기 : (20, 38)\n",
      "\n",
      "mfccs 크기 : (20, 38)\n",
      "\n",
      "mfccs 크기 : (20, 38)\n",
      "\n"
     ]
    },
    {
     "name": "stderr",
     "output_type": "stream",
     "text": [
      "C:\\Users\\yutan\\anaconda3\\envs\\tensorflow\\lib\\site-packages\\ipykernel_launcher.py:53: FutureWarning: Pass y=[ 6.0410966e-06 -3.0001083e-06  1.7139600e-05 ... -6.0278241e-04\n",
      "  8.1474008e-04 -7.6476572e-04], sr=16000 as keyword args. From version 0.10 passing these as positional arguments will result in an error\n",
      "C:\\Users\\yutan\\anaconda3\\envs\\tensorflow\\lib\\site-packages\\ipykernel_launcher.py:53: FutureWarning: Pass y=[-2.6301020e-06 -4.6816829e-05 -5.3727017e-05 ... -3.7459638e-06\n",
      "  6.9296239e-06  5.5940091e-05], sr=16000 as keyword args. From version 0.10 passing these as positional arguments will result in an error\n",
      "C:\\Users\\yutan\\anaconda3\\envs\\tensorflow\\lib\\site-packages\\ipykernel_launcher.py:53: FutureWarning: Pass y=[-0.00527954  0.00137329  0.01846313 ... -0.00018311  0.00073242\n",
      " -0.00018311], sr=16000 as keyword args. From version 0.10 passing these as positional arguments will result in an error\n",
      "C:\\Users\\yutan\\anaconda3\\envs\\tensorflow\\lib\\site-packages\\ipykernel_launcher.py:53: FutureWarning: Pass y=[ 3.3640779e-05 -6.8009649e-07  7.0318270e-06 ... -1.0347943e-05\n",
      "  3.3257289e-05  2.8671768e-05], sr=16000 as keyword args. From version 0.10 passing these as positional arguments will result in an error\n"
     ]
    },
    {
     "name": "stdout",
     "output_type": "stream",
     "text": [
      "mfccs 크기 : (20, 38)\n",
      "\n",
      "mfccs 크기 : (20, 38)\n",
      "\n",
      "mfccs 크기 : (20, 38)\n",
      "\n"
     ]
    },
    {
     "name": "stderr",
     "output_type": "stream",
     "text": [
      "C:\\Users\\yutan\\anaconda3\\envs\\tensorflow\\lib\\site-packages\\ipykernel_launcher.py:53: FutureWarning: Pass y=[-6.6109328e-06  1.7664763e-05  2.8703704e-05 ...  4.0045840e-04\n",
      "  4.3024606e-04  4.5464604e-04], sr=16000 as keyword args. From version 0.10 passing these as positional arguments will result in an error\n",
      "C:\\Users\\yutan\\anaconda3\\envs\\tensorflow\\lib\\site-packages\\ipykernel_launcher.py:53: FutureWarning: Pass y=[-3.4744299e-03 -1.6445820e-03 -4.7122451e-04 ...  3.5915880e-05\n",
      "  4.8075945e-05 -1.9265439e-05], sr=16000 as keyword args. From version 0.10 passing these as positional arguments will result in an error\n",
      "C:\\Users\\yutan\\anaconda3\\envs\\tensorflow\\lib\\site-packages\\ipykernel_launcher.py:53: FutureWarning: Pass y=[ 8.1098545e-07 -3.5662456e-06  7.0742713e-06 ...  1.3187242e-04\n",
      " -4.9300241e-05 -1.3682568e-05], sr=16000 as keyword args. From version 0.10 passing these as positional arguments will result in an error\n"
     ]
    },
    {
     "name": "stdout",
     "output_type": "stream",
     "text": [
      "mfccs 크기 : (20, 38)\n",
      "\n",
      "mfccs 크기 : (20, 38)\n",
      "\n",
      "mfccs 크기 : (20, 38)\n",
      "\n"
     ]
    },
    {
     "name": "stderr",
     "output_type": "stream",
     "text": [
      "C:\\Users\\yutan\\anaconda3\\envs\\tensorflow\\lib\\site-packages\\ipykernel_launcher.py:53: FutureWarning: Pass y=[ 1.3775801e-05  1.5486356e-05  2.4390225e-05 ... -4.4621163e-04\n",
      " -2.0805841e-04 -1.5467955e-04], sr=16000 as keyword args. From version 0.10 passing these as positional arguments will result in an error\n",
      "C:\\Users\\yutan\\anaconda3\\envs\\tensorflow\\lib\\site-packages\\ipykernel_launcher.py:53: FutureWarning: Pass y=[-0.00164795 -0.00253296  0.00146484 ...  0.00100708  0.00161743\n",
      "  0.01403809], sr=16000 as keyword args. From version 0.10 passing these as positional arguments will result in an error\n",
      "C:\\Users\\yutan\\anaconda3\\envs\\tensorflow\\lib\\site-packages\\ipykernel_launcher.py:53: FutureWarning: Pass y=[-0.06097412 -0.04348755 -0.03057861 ... -0.00042725  0.00863647\n",
      "  0.00131226], sr=16000 as keyword args. From version 0.10 passing these as positional arguments will result in an error\n",
      "C:\\Users\\yutan\\anaconda3\\envs\\tensorflow\\lib\\site-packages\\ipykernel_launcher.py:53: FutureWarning: Pass y=[-0.00038872 -0.00034091 -0.00040217 ... -0.0011116  -0.00012344\n",
      " -0.00022203], sr=16000 as keyword args. From version 0.10 passing these as positional arguments will result in an error\n",
      "C:\\Users\\yutan\\anaconda3\\envs\\tensorflow\\lib\\site-packages\\ipykernel_launcher.py:53: FutureWarning: Pass y=[-3.4300502e-02 -1.1847337e-02 -8.0928480e-04 ...  7.5977776e-05\n",
      "  6.2010986e-05  8.5197287e-05], sr=16000 as keyword args. From version 0.10 passing these as positional arguments will result in an error\n"
     ]
    },
    {
     "name": "stdout",
     "output_type": "stream",
     "text": [
      "mfccs 크기 : (20, 38)\n",
      "\n",
      "mfccs 크기 : (20, 38)\n",
      "\n",
      "mfccs 크기 : (20, 38)\n",
      "\n",
      "mfccs 크기 : (20, 38)\n",
      "\n",
      "mfccs 크기 : (20, 38)\n",
      "\n",
      "mfccs 크기 : (20, 38)\n",
      "\n",
      "mfccs 크기 : (20, 38)\n",
      "\n",
      "mfccs 크기 : (20, 38)\n",
      "\n",
      "mfccs 크기 : (20, 38)\n",
      "\n"
     ]
    },
    {
     "name": "stderr",
     "output_type": "stream",
     "text": [
      "C:\\Users\\yutan\\anaconda3\\envs\\tensorflow\\lib\\site-packages\\ipykernel_launcher.py:53: FutureWarning: Pass y=[ 6.3154262e-06  1.6456173e-05  2.7375056e-05 ...  7.8781435e-05\n",
      " -1.8516055e-04  1.9781332e-04], sr=16000 as keyword args. From version 0.10 passing these as positional arguments will result in an error\n",
      "C:\\Users\\yutan\\anaconda3\\envs\\tensorflow\\lib\\site-packages\\ipykernel_launcher.py:53: FutureWarning: Pass y=[ 0.00671387  0.00119019 -0.00360107 ...  0.00134277  0.0010376\n",
      " -0.00531006], sr=16000 as keyword args. From version 0.10 passing these as positional arguments will result in an error\n",
      "C:\\Users\\yutan\\anaconda3\\envs\\tensorflow\\lib\\site-packages\\ipykernel_launcher.py:53: FutureWarning: Pass y=[ 0.00906372  0.00894165  0.01071167 ... -0.00082397 -0.00030518\n",
      " -0.00061035], sr=16000 as keyword args. From version 0.10 passing these as positional arguments will result in an error\n",
      "C:\\Users\\yutan\\anaconda3\\envs\\tensorflow\\lib\\site-packages\\ipykernel_launcher.py:53: FutureWarning: Pass y=[-2.0838062e-05  6.4706433e-07  3.3669461e-05 ... -3.1886426e-05\n",
      " -3.1126081e-05 -2.8697599e-05], sr=16000 as keyword args. From version 0.10 passing these as positional arguments will result in an error\n",
      "C:\\Users\\yutan\\anaconda3\\envs\\tensorflow\\lib\\site-packages\\ipykernel_launcher.py:53: FutureWarning: Pass y=[ 0.00686646 -0.02261353 -0.04058838 ...  0.00073242 -0.00079346\n",
      " -0.00085449], sr=16000 as keyword args. From version 0.10 passing these as positional arguments will result in an error\n",
      "C:\\Users\\yutan\\anaconda3\\envs\\tensorflow\\lib\\site-packages\\ipykernel_launcher.py:53: FutureWarning: Pass y=[ 0.0000000e+00  9.1552734e-05  0.0000000e+00 ...  0.0000000e+00\n",
      " -3.0517578e-05  0.0000000e+00], sr=16000 as keyword args. From version 0.10 passing these as positional arguments will result in an error\n"
     ]
    },
    {
     "name": "stdout",
     "output_type": "stream",
     "text": [
      "mfccs 크기 : (20, 38)\n",
      "\n",
      "mfccs 크기 : (20, 38)\n",
      "\n",
      "mfccs 크기 : (20, 38)\n",
      "\n",
      "mfccs 크기 : (20, 38)\n",
      "\n",
      "mfccs 크기 : (20, 38)\n",
      "\n"
     ]
    },
    {
     "name": "stderr",
     "output_type": "stream",
     "text": [
      "C:\\Users\\yutan\\anaconda3\\envs\\tensorflow\\lib\\site-packages\\ipykernel_launcher.py:53: FutureWarning: Pass y=[ 2.9727878e-05 -1.5496842e-05  1.9945988e-05 ... -2.7356333e-05\n",
      " -7.7163922e-06  2.8619615e-06], sr=16000 as keyword args. From version 0.10 passing these as positional arguments will result in an error\n",
      "C:\\Users\\yutan\\anaconda3\\envs\\tensorflow\\lib\\site-packages\\ipykernel_launcher.py:53: FutureWarning: Pass y=[-2.2583008e-03 -3.5400391e-03  2.1972656e-03 ... -9.1552734e-05\n",
      " -2.1362305e-04 -1.8615723e-03], sr=16000 as keyword args. From version 0.10 passing these as positional arguments will result in an error\n"
     ]
    },
    {
     "name": "stdout",
     "output_type": "stream",
     "text": [
      "mfccs 크기 : (20, 38)\n",
      "\n",
      "mfccs 크기 : (20, 38)\n",
      "\n",
      "mfccs 크기 : (20, 38)\n",
      "\n",
      "mfccs 크기 : (20, 38)\n",
      "\n"
     ]
    },
    {
     "name": "stderr",
     "output_type": "stream",
     "text": [
      "C:\\Users\\yutan\\anaconda3\\envs\\tensorflow\\lib\\site-packages\\ipykernel_launcher.py:53: FutureWarning: Pass y=[ 0.01629639  0.0241394   0.01239014 ...  0.00418091 -0.00170898\n",
      "  0.00576782], sr=16000 as keyword args. From version 0.10 passing these as positional arguments will result in an error\n",
      "C:\\Users\\yutan\\anaconda3\\envs\\tensorflow\\lib\\site-packages\\ipykernel_launcher.py:53: FutureWarning: Pass y=[-2.7404785e-02 -2.4536133e-02 -1.9836426e-02 ...  6.7138672e-04\n",
      "  3.0517578e-05 -3.6621094e-04], sr=16000 as keyword args. From version 0.10 passing these as positional arguments will result in an error\n",
      "C:\\Users\\yutan\\anaconda3\\envs\\tensorflow\\lib\\site-packages\\ipykernel_launcher.py:53: FutureWarning: Pass y=[-4.0917465e-05 -9.0818285e-06 -2.4987914e-05 ...  7.7096367e-05\n",
      " -1.6501540e-04  7.6032120e-05], sr=16000 as keyword args. From version 0.10 passing these as positional arguments will result in an error\n",
      "C:\\Users\\yutan\\anaconda3\\envs\\tensorflow\\lib\\site-packages\\ipykernel_launcher.py:53: FutureWarning: Pass y=[ 0.02859497  0.02514648  0.0163269  ... -0.00036621 -0.00106812\n",
      " -0.0027771 ], sr=16000 as keyword args. From version 0.10 passing these as positional arguments will result in an error\n"
     ]
    },
    {
     "name": "stdout",
     "output_type": "stream",
     "text": [
      "mfccs 크기 : (20, 38)\n",
      "\n",
      "mfccs 크기 : (20, 38)\n",
      "\n",
      "mfccs 크기 : (20, 38)\n",
      "\n",
      "mfccs 크기 : (20, 38)\n",
      "\n",
      "mfccs 크기 : (20, 38)\n",
      "\n",
      "mfccs 크기 : (20, 38)\n",
      "\n",
      "mfccs 크기 : (20, 38)\n",
      "\n",
      "mfccs 크기 : (20, 38)\n",
      "\n",
      "mfccs 크기 : (20, 38)\n",
      "\n"
     ]
    },
    {
     "name": "stderr",
     "output_type": "stream",
     "text": [
      "C:\\Users\\yutan\\anaconda3\\envs\\tensorflow\\lib\\site-packages\\ipykernel_launcher.py:53: FutureWarning: Pass y=[ 5.6439579e-02  6.0887344e-02  5.2640736e-02 ... -4.8554568e-05\n",
      " -6.9232156e-05 -8.7936212e-05], sr=16000 as keyword args. From version 0.10 passing these as positional arguments will result in an error\n",
      "C:\\Users\\yutan\\anaconda3\\envs\\tensorflow\\lib\\site-packages\\ipykernel_launcher.py:53: FutureWarning: Pass y=[-0.00274658 -0.00369263 -0.01223755 ... -0.00256348  0.00463867\n",
      " -0.0038147 ], sr=16000 as keyword args. From version 0.10 passing these as positional arguments will result in an error\n",
      "C:\\Users\\yutan\\anaconda3\\envs\\tensorflow\\lib\\site-packages\\ipykernel_launcher.py:53: FutureWarning: Pass y=[ 0.00119019 -0.00518799 -0.0005188  ...  0.00134277 -0.00393677\n",
      " -0.0038147 ], sr=16000 as keyword args. From version 0.10 passing these as positional arguments will result in an error\n",
      "C:\\Users\\yutan\\anaconda3\\envs\\tensorflow\\lib\\site-packages\\ipykernel_launcher.py:53: FutureWarning: Pass y=[-9.1552734e-05  3.9672852e-04  2.4719238e-03 ...  0.0000000e+00\n",
      " -7.3242188e-04 -1.2207031e-04], sr=16000 as keyword args. From version 0.10 passing these as positional arguments will result in an error\n",
      "C:\\Users\\yutan\\anaconda3\\envs\\tensorflow\\lib\\site-packages\\ipykernel_launcher.py:53: FutureWarning: Pass y=[ 3.1622309e-05  3.0484069e-05  5.2886804e-05 ... -1.0408943e-05\n",
      " -2.5474948e-05 -1.6957065e-06], sr=16000 as keyword args. From version 0.10 passing these as positional arguments will result in an error\n",
      "C:\\Users\\yutan\\anaconda3\\envs\\tensorflow\\lib\\site-packages\\ipykernel_launcher.py:53: FutureWarning: Pass y=[-0.0012207  -0.00057983 -0.009552   ... -0.00134277 -0.00878906\n",
      " -0.00326538], sr=16000 as keyword args. From version 0.10 passing these as positional arguments will result in an error\n",
      "C:\\Users\\yutan\\anaconda3\\envs\\tensorflow\\lib\\site-packages\\ipykernel_launcher.py:53: FutureWarning: Pass y=[-3.0517578e-05 -3.0517578e-05 -6.1035156e-05 ...  2.1362305e-04\n",
      "  2.4414062e-04  1.5258789e-04], sr=16000 as keyword args. From version 0.10 passing these as positional arguments will result in an error\n",
      "C:\\Users\\yutan\\anaconda3\\envs\\tensorflow\\lib\\site-packages\\ipykernel_launcher.py:53: FutureWarning: Pass y=[ 0.0000000e+00  0.0000000e+00 -3.0517578e-05 ... -1.8310547e-04\n",
      "  3.0517578e-04  6.1035156e-05], sr=16000 as keyword args. From version 0.10 passing these as positional arguments will result in an error\n",
      "C:\\Users\\yutan\\anaconda3\\envs\\tensorflow\\lib\\site-packages\\ipykernel_launcher.py:53: FutureWarning: Pass y=[-0.02566528 -0.02859497 -0.02612305 ... -0.00027466  0.0012207\n",
      " -0.00082397], sr=16000 as keyword args. From version 0.10 passing these as positional arguments will result in an error\n"
     ]
    },
    {
     "name": "stdout",
     "output_type": "stream",
     "text": [
      "mfccs 크기 : (20, 38)\n",
      "\n",
      "mfccs 크기 : (20, 38)\n",
      "\n",
      "mfccs 크기 : (20, 38)\n",
      "\n",
      "mfccs 크기 : (20, 38)\n",
      "\n",
      "mfccs 크기 : (20, 38)\n",
      "\n",
      "mfccs 크기 : (20, 38)\n",
      "\n"
     ]
    },
    {
     "name": "stderr",
     "output_type": "stream",
     "text": [
      "C:\\Users\\yutan\\anaconda3\\envs\\tensorflow\\lib\\site-packages\\ipykernel_launcher.py:53: FutureWarning: Pass y=[-1.1502436e-01 -7.8603901e-02 -2.2519700e-02 ... -1.2820427e-05\n",
      " -3.4666118e-05 -2.1372540e-05], sr=16000 as keyword args. From version 0.10 passing these as positional arguments will result in an error\n",
      "C:\\Users\\yutan\\anaconda3\\envs\\tensorflow\\lib\\site-packages\\ipykernel_launcher.py:53: FutureWarning: Pass y=[ 3.0517578e-05  0.0000000e+00 -6.1035156e-05 ...  2.7465820e-04\n",
      "  3.3569336e-04 -8.8500977e-04], sr=16000 as keyword args. From version 0.10 passing these as positional arguments will result in an error\n",
      "C:\\Users\\yutan\\anaconda3\\envs\\tensorflow\\lib\\site-packages\\ipykernel_launcher.py:53: FutureWarning: Pass y=[ 3.4886536e-05  6.4048650e-06 -2.3310246e-05 ...  3.1758449e-05\n",
      "  1.2754948e-05 -2.1441742e-06], sr=16000 as keyword args. From version 0.10 passing these as positional arguments will result in an error\n"
     ]
    },
    {
     "name": "stdout",
     "output_type": "stream",
     "text": [
      "mfccs 크기 : (20, 38)\n",
      "\n",
      "mfccs 크기 : (20, 38)\n",
      "\n"
     ]
    },
    {
     "name": "stderr",
     "output_type": "stream",
     "text": [
      "C:\\Users\\yutan\\anaconda3\\envs\\tensorflow\\lib\\site-packages\\ipykernel_launcher.py:53: FutureWarning: Pass y=[-8.06947282e-05 -5.72361387e-05 -7.43170531e-05 ... -1.10272806e-04\n",
      " -4.80647832e-05  3.70342677e-05], sr=16000 as keyword args. From version 0.10 passing these as positional arguments will result in an error\n",
      "C:\\Users\\yutan\\anaconda3\\envs\\tensorflow\\lib\\site-packages\\ipykernel_launcher.py:53: FutureWarning: Pass y=[ 0.00653076 -0.00143433  0.00274658 ...  0.00219727  0.00344849\n",
      "  0.00415039], sr=16000 as keyword args. From version 0.10 passing these as positional arguments will result in an error\n",
      "C:\\Users\\yutan\\anaconda3\\envs\\tensorflow\\lib\\site-packages\\ipykernel_launcher.py:53: FutureWarning: Pass y=[-3.0517578e-05 -3.0517578e-05  0.0000000e+00 ...  3.0517578e-05\n",
      "  0.0000000e+00  3.0517578e-05], sr=16000 as keyword args. From version 0.10 passing these as positional arguments will result in an error\n",
      "C:\\Users\\yutan\\anaconda3\\envs\\tensorflow\\lib\\site-packages\\ipykernel_launcher.py:53: FutureWarning: Pass y=[ 3.0517578e-05 -6.1035156e-05 -6.1035156e-05 ...  9.1552734e-05\n",
      " -3.6621094e-04  4.2724609e-04], sr=16000 as keyword args. From version 0.10 passing these as positional arguments will result in an error\n",
      "C:\\Users\\yutan\\anaconda3\\envs\\tensorflow\\lib\\site-packages\\ipykernel_launcher.py:53: FutureWarning: Pass y=[ 6.2380910e-05  4.6876768e-05  2.9767145e-05 ...  5.1038762e-05\n",
      " -2.7326355e-06  2.2291511e-05], sr=16000 as keyword args. From version 0.10 passing these as positional arguments will result in an error\n",
      "C:\\Users\\yutan\\anaconda3\\envs\\tensorflow\\lib\\site-packages\\ipykernel_launcher.py:53: FutureWarning: Pass y=[-3.0517578e-05 -9.1552734e-05 -6.1035156e-05 ... -1.3732910e-03\n",
      " -1.2817383e-03 -1.1596680e-03], sr=16000 as keyword args. From version 0.10 passing these as positional arguments will result in an error\n"
     ]
    },
    {
     "name": "stdout",
     "output_type": "stream",
     "text": [
      "mfccs 크기 : (20, 38)\n",
      "\n",
      "mfccs 크기 : (20, 38)\n",
      "\n",
      "mfccs 크기 : (20, 38)\n",
      "\n",
      "mfccs 크기 : (20, 38)\n",
      "\n",
      "mfccs 크기 : (20, 38)\n",
      "\n",
      "mfccs 크기 : (20, 38)\n",
      "\n"
     ]
    },
    {
     "name": "stderr",
     "output_type": "stream",
     "text": [
      "C:\\Users\\yutan\\anaconda3\\envs\\tensorflow\\lib\\site-packages\\ipykernel_launcher.py:53: FutureWarning: Pass y=[3.8353643e-05 3.3028457e-05 5.5892044e-05 ... 2.7239827e-05 3.8926941e-05\n",
      " 5.7405206e-05], sr=16000 as keyword args. From version 0.10 passing these as positional arguments will result in an error\n",
      "C:\\Users\\yutan\\anaconda3\\envs\\tensorflow\\lib\\site-packages\\ipykernel_launcher.py:53: FutureWarning: Pass y=[-9.1552734e-05 -6.1035156e-05 -3.0517578e-05 ... -6.1035156e-05\n",
      "  0.0000000e+00 -3.0517578e-05], sr=16000 as keyword args. From version 0.10 passing these as positional arguments will result in an error\n",
      "C:\\Users\\yutan\\anaconda3\\envs\\tensorflow\\lib\\site-packages\\ipykernel_launcher.py:53: FutureWarning: Pass y=[-9.7397628e-05 -3.3694072e-04  1.7550329e-04 ... -2.5238389e-05\n",
      " -9.3048020e-06 -1.9443323e-05], sr=16000 as keyword args. From version 0.10 passing these as positional arguments will result in an error\n",
      "C:\\Users\\yutan\\anaconda3\\envs\\tensorflow\\lib\\site-packages\\ipykernel_launcher.py:53: FutureWarning: Pass y=[ 0.08099365  0.06106567  0.03683472 ...  0.00030518  0.00045776\n",
      " -0.00021362], sr=16000 as keyword args. From version 0.10 passing these as positional arguments will result in an error\n",
      "C:\\Users\\yutan\\anaconda3\\envs\\tensorflow\\lib\\site-packages\\ipykernel_launcher.py:53: FutureWarning: Pass y=[ 0.0000000e+00 -3.0517578e-05  0.0000000e+00 ... -6.1035156e-05\n",
      " -6.1035156e-05 -3.0517578e-05], sr=16000 as keyword args. From version 0.10 passing these as positional arguments will result in an error\n",
      "C:\\Users\\yutan\\anaconda3\\envs\\tensorflow\\lib\\site-packages\\ipykernel_launcher.py:53: FutureWarning: Pass y=[-0.00393677  0.00112915  0.00112915 ... -0.00387573  0.00372314\n",
      " -0.00735474], sr=16000 as keyword args. From version 0.10 passing these as positional arguments will result in an error\n",
      "C:\\Users\\yutan\\anaconda3\\envs\\tensorflow\\lib\\site-packages\\ipykernel_launcher.py:53: FutureWarning: Pass y=[ 0.00588989  0.00637817 -0.00338745 ... -0.00234985  0.00335693\n",
      "  0.00064087], sr=16000 as keyword args. From version 0.10 passing these as positional arguments will result in an error\n",
      "C:\\Users\\yutan\\anaconda3\\envs\\tensorflow\\lib\\site-packages\\ipykernel_launcher.py:53: FutureWarning: Pass y=[ 0.0005188   0.00311279  0.00228882 ...  0.0005188  -0.00033569\n",
      "  0.00027466], sr=16000 as keyword args. From version 0.10 passing these as positional arguments will result in an error\n",
      "C:\\Users\\yutan\\anaconda3\\envs\\tensorflow\\lib\\site-packages\\ipykernel_launcher.py:53: FutureWarning: Pass y=[ 0.0000000e+00  3.0517578e-05  3.0517578e-05 ...  0.0000000e+00\n",
      " -3.0517578e-05 -6.1035156e-05], sr=16000 as keyword args. From version 0.10 passing these as positional arguments will result in an error\n"
     ]
    },
    {
     "name": "stdout",
     "output_type": "stream",
     "text": [
      "mfccs 크기 : (20, 38)\n",
      "\n",
      "mfccs 크기 : (20, 38)\n",
      "\n",
      "mfccs 크기 : (20, 38)\n",
      "\n",
      "mfccs 크기 : (20, 38)\n",
      "\n",
      "mfccs 크기 : (20, 38)\n",
      "\n",
      "mfccs 크기 : (20, 38)\n",
      "\n",
      "mfccs 크기 : (20, 38)\n",
      "\n",
      "mfccs 크기 : (20, 38)\n",
      "\n",
      "mfccs 크기 : (20, 38)\n",
      "\n"
     ]
    },
    {
     "name": "stderr",
     "output_type": "stream",
     "text": [
      "C:\\Users\\yutan\\anaconda3\\envs\\tensorflow\\lib\\site-packages\\ipykernel_launcher.py:53: FutureWarning: Pass y=[-5.9505951e-06 -3.3020449e-05 -7.6176602e-06 ...  1.6977863e-06\n",
      " -2.8416609e-06  7.9740217e-05], sr=16000 as keyword args. From version 0.10 passing these as positional arguments will result in an error\n",
      "C:\\Users\\yutan\\anaconda3\\envs\\tensorflow\\lib\\site-packages\\ipykernel_launcher.py:53: FutureWarning: Pass y=[ 0.01171875  0.01644897  0.02124023 ... -0.00024414  0.00021362\n",
      " -0.00021362], sr=16000 as keyword args. From version 0.10 passing these as positional arguments will result in an error\n",
      "C:\\Users\\yutan\\anaconda3\\envs\\tensorflow\\lib\\site-packages\\ipykernel_launcher.py:53: FutureWarning: Pass y=[ 0.00305176 -0.01235962 -0.00442505 ... -0.0015564  -0.0039978\n",
      "  0.00314331], sr=16000 as keyword args. From version 0.10 passing these as positional arguments will result in an error\n",
      "C:\\Users\\yutan\\anaconda3\\envs\\tensorflow\\lib\\site-packages\\ipykernel_launcher.py:53: FutureWarning: Pass y=[-3.0517578e-05  0.0000000e+00 -3.0517578e-05 ...  5.7983398e-04\n",
      " -8.2397461e-04  7.6293945e-04], sr=16000 as keyword args. From version 0.10 passing these as positional arguments will result in an error\n",
      "C:\\Users\\yutan\\anaconda3\\envs\\tensorflow\\lib\\site-packages\\ipykernel_launcher.py:53: FutureWarning: Pass y=[ 2.7865583e-05  5.3234107e-05  1.2832933e-05 ... -2.4568668e-05\n",
      "  7.0781971e-06 -1.9251809e-05], sr=16000 as keyword args. From version 0.10 passing these as positional arguments will result in an error\n",
      "C:\\Users\\yutan\\anaconda3\\envs\\tensorflow\\lib\\site-packages\\ipykernel_launcher.py:53: FutureWarning: Pass y=[ 0.00668335 -0.00012207  0.0039978  ... -0.00332642 -0.0010376\n",
      " -0.00750732], sr=16000 as keyword args. From version 0.10 passing these as positional arguments will result in an error\n"
     ]
    },
    {
     "name": "stdout",
     "output_type": "stream",
     "text": [
      "mfccs 크기 : (20, 38)\n",
      "\n",
      "mfccs 크기 : (20, 38)\n",
      "\n",
      "mfccs 크기 : (20, 38)\n",
      "\n",
      "mfccs 크기 : (20, 38)\n",
      "\n",
      "mfccs 크기 : (20, 38)\n",
      "\n",
      "mfccs 크기 : (20, 38)\n",
      "\n"
     ]
    },
    {
     "name": "stderr",
     "output_type": "stream",
     "text": [
      "C:\\Users\\yutan\\anaconda3\\envs\\tensorflow\\lib\\site-packages\\ipykernel_launcher.py:53: FutureWarning: Pass y=[ 2.9956738e-05  7.5046237e-06 -4.8929132e-06 ...  6.5786176e-04\n",
      " -5.7325087e-04 -1.7362428e-04], sr=16000 as keyword args. From version 0.10 passing these as positional arguments will result in an error\n",
      "C:\\Users\\yutan\\anaconda3\\envs\\tensorflow\\lib\\site-packages\\ipykernel_launcher.py:53: FutureWarning: Pass y=[1.1502075e-01 7.8582764e-02 2.2491455e-02 ... 0.0000000e+00 3.0517578e-05\n",
      " 0.0000000e+00], sr=16000 as keyword args. From version 0.10 passing these as positional arguments will result in an error\n",
      "C:\\Users\\yutan\\anaconda3\\envs\\tensorflow\\lib\\site-packages\\ipykernel_launcher.py:53: FutureWarning: Pass y=[ 1.3205930e-05  8.1674461e-06 -6.4969754e-06 ...  7.1781201e-06\n",
      "  8.1141998e-06 -1.0179091e-05], sr=16000 as keyword args. From version 0.10 passing these as positional arguments will result in an error\n"
     ]
    },
    {
     "name": "stdout",
     "output_type": "stream",
     "text": [
      "mfccs 크기 : (20, 38)\n",
      "\n",
      "mfccs 크기 : (20, 38)\n",
      "\n",
      "mfccs 크기 : (20, 38)\n",
      "\n",
      "mfccs 크기 : (20, 38)\n",
      "\n",
      "mfccs 크기 : (20, 38)\n",
      "\n",
      "mfccs 크기 : (20, 38)\n",
      "\n",
      "mfccs 크기 : (20, 38)\n",
      "\n",
      "mfccs 크기 : (20, 38)\n",
      "\n"
     ]
    },
    {
     "name": "stderr",
     "output_type": "stream",
     "text": [
      "C:\\Users\\yutan\\anaconda3\\envs\\tensorflow\\lib\\site-packages\\ipykernel_launcher.py:53: FutureWarning: Pass y=[-0.0199585  -0.02246094 -0.02438354 ... -0.00012207 -0.00024414\n",
      "  0.00012207], sr=16000 as keyword args. From version 0.10 passing these as positional arguments will result in an error\n",
      "C:\\Users\\yutan\\anaconda3\\envs\\tensorflow\\lib\\site-packages\\ipykernel_launcher.py:53: FutureWarning: Pass y=[-0.02389526 -0.0145874  -0.01742554 ...  0.00076294 -0.00054932\n",
      " -0.00054932], sr=16000 as keyword args. From version 0.10 passing these as positional arguments will result in an error\n",
      "C:\\Users\\yutan\\anaconda3\\envs\\tensorflow\\lib\\site-packages\\ipykernel_launcher.py:53: FutureWarning: Pass y=[ 4.7818071e-07  4.5235229e-06  5.9736169e-05 ... -5.5735301e-05\n",
      " -5.2942294e-05 -2.4186420e-05], sr=16000 as keyword args. From version 0.10 passing these as positional arguments will result in an error\n",
      "C:\\Users\\yutan\\anaconda3\\envs\\tensorflow\\lib\\site-packages\\ipykernel_launcher.py:53: FutureWarning: Pass y=[-7.0671085e-06 -3.8403421e-05 -1.0235246e-05 ...  2.7074854e-04\n",
      "  1.8103783e-04  8.1032224e-05], sr=16000 as keyword args. From version 0.10 passing these as positional arguments will result in an error\n",
      "C:\\Users\\yutan\\anaconda3\\envs\\tensorflow\\lib\\site-packages\\ipykernel_launcher.py:53: FutureWarning: Pass y=[-1.8020948e-05  5.6358590e-06 -5.2674991e-06 ...  2.1518194e-05\n",
      "  1.7555718e-05 -1.5612228e-05], sr=16000 as keyword args. From version 0.10 passing these as positional arguments will result in an error\n"
     ]
    },
    {
     "name": "stdout",
     "output_type": "stream",
     "text": [
      "mfccs 크기 : (20, 38)\n",
      "\n",
      "mfccs 크기 : (20, 38)\n",
      "\n",
      "mfccs 크기 : (20, 38)\n",
      "\n"
     ]
    },
    {
     "name": "stderr",
     "output_type": "stream",
     "text": [
      "C:\\Users\\yutan\\anaconda3\\envs\\tensorflow\\lib\\site-packages\\ipykernel_launcher.py:53: FutureWarning: Pass y=[-3.7589205e-05  5.3044940e-05  4.9680388e-05 ... -9.7737233e-05\n",
      "  3.5120358e-04 -4.4858988e-04], sr=16000 as keyword args. From version 0.10 passing these as positional arguments will result in an error\n",
      "C:\\Users\\yutan\\anaconda3\\envs\\tensorflow\\lib\\site-packages\\ipykernel_launcher.py:53: FutureWarning: Pass y=[ 0.003479    0.00137329  0.009552   ...  0.00793457 -0.00378418\n",
      " -0.00671387], sr=16000 as keyword args. From version 0.10 passing these as positional arguments will result in an error\n",
      "C:\\Users\\yutan\\anaconda3\\envs\\tensorflow\\lib\\site-packages\\ipykernel_launcher.py:53: FutureWarning: Pass y=[-1.2022391e-03 -9.3048520e-04 -4.8657367e-04 ... -1.3612978e-06\n",
      " -2.0469843e-05  4.0540817e-06], sr=16000 as keyword args. From version 0.10 passing these as positional arguments will result in an error\n",
      "C:\\Users\\yutan\\anaconda3\\envs\\tensorflow\\lib\\site-packages\\ipykernel_launcher.py:53: FutureWarning: Pass y=[ 0.0043335   0.00796509 -0.00024414 ... -0.00109863  0.00183105\n",
      " -0.00180054], sr=16000 as keyword args. From version 0.10 passing these as positional arguments will result in an error\n"
     ]
    },
    {
     "name": "stdout",
     "output_type": "stream",
     "text": [
      "mfccs 크기 : (20, 38)\n",
      "\n",
      "mfccs 크기 : (20, 38)\n",
      "\n",
      "mfccs 크기 : (20, 38)\n",
      "\n",
      "mfccs 크기 : (20, 38)\n",
      "\n"
     ]
    },
    {
     "name": "stderr",
     "output_type": "stream",
     "text": [
      "C:\\Users\\yutan\\anaconda3\\envs\\tensorflow\\lib\\site-packages\\ipykernel_launcher.py:53: FutureWarning: Pass y=[ 4.7819726e-06 -2.0362626e-05 -2.4536503e-06 ...  3.3948931e-05\n",
      "  3.6085348e-05  9.7878517e-05], sr=16000 as keyword args. From version 0.10 passing these as positional arguments will result in an error\n",
      "C:\\Users\\yutan\\anaconda3\\envs\\tensorflow\\lib\\site-packages\\ipykernel_launcher.py:53: FutureWarning: Pass y=[ 4.7906524e-05  2.4901932e-05  3.6708214e-05 ... -3.2098396e-05\n",
      " -1.6016591e-06 -3.4700531e-06], sr=16000 as keyword args. From version 0.10 passing these as positional arguments will result in an error\n",
      "C:\\Users\\yutan\\anaconda3\\envs\\tensorflow\\lib\\site-packages\\ipykernel_launcher.py:53: FutureWarning: Pass y=[-1.0697445e-05 -2.5345300e-05 -5.4135667e-06 ...  6.9477534e-07\n",
      " -2.6917756e-05 -9.3618792e-06], sr=16000 as keyword args. From version 0.10 passing these as positional arguments will result in an error\n"
     ]
    },
    {
     "name": "stdout",
     "output_type": "stream",
     "text": [
      "mfccs 크기 : (20, 38)\n",
      "\n",
      "mfccs 크기 : (20, 38)\n",
      "\n",
      "mfccs 크기 : (20, 38)\n",
      "\n",
      "mfccs 크기 : (20, 38)\n",
      "\n"
     ]
    },
    {
     "name": "stderr",
     "output_type": "stream",
     "text": [
      "C:\\Users\\yutan\\anaconda3\\envs\\tensorflow\\lib\\site-packages\\ipykernel_launcher.py:53: FutureWarning: Pass y=[ 3.2057007e-05  2.6807460e-05 -3.5647234e-05 ...  5.7094043e-05\n",
      "  2.7691973e-05  5.3037773e-05], sr=16000 as keyword args. From version 0.10 passing these as positional arguments will result in an error\n",
      "C:\\Users\\yutan\\anaconda3\\envs\\tensorflow\\lib\\site-packages\\ipykernel_launcher.py:53: FutureWarning: Pass y=[-9.92141486e-06 -1.25147699e-05 -3.31757692e-05 ...  1.37925745e-04\n",
      "  5.99200357e-05 -1.16772484e-04], sr=16000 as keyword args. From version 0.10 passing these as positional arguments will result in an error\n"
     ]
    },
    {
     "name": "stdout",
     "output_type": "stream",
     "text": [
      "mfccs 크기 : (20, 38)\n",
      "\n",
      "mfccs 크기 : (20, 38)\n",
      "\n"
     ]
    },
    {
     "name": "stderr",
     "output_type": "stream",
     "text": [
      "C:\\Users\\yutan\\anaconda3\\envs\\tensorflow\\lib\\site-packages\\ipykernel_launcher.py:53: FutureWarning: Pass y=[ 1.58544877e-04  1.90349063e-04  1.13304355e-04 ... -3.23963577e-05\n",
      " -2.61269215e-05  1.50052201e-05], sr=16000 as keyword args. From version 0.10 passing these as positional arguments will result in an error\n",
      "C:\\Users\\yutan\\anaconda3\\envs\\tensorflow\\lib\\site-packages\\ipykernel_launcher.py:53: FutureWarning: Pass y=[-0.01057216 -0.00247699  0.00947679 ...  0.00109458 -0.00075908\n",
      "  0.00043042], sr=16000 as keyword args. From version 0.10 passing these as positional arguments will result in an error\n",
      "C:\\Users\\yutan\\anaconda3\\envs\\tensorflow\\lib\\site-packages\\ipykernel_launcher.py:53: FutureWarning: Pass y=[ 3.1850293e-05 -1.0876223e-05 -3.9770730e-05 ...  1.7439945e-05\n",
      "  2.0869000e-05 -1.1266638e-05], sr=16000 as keyword args. From version 0.10 passing these as positional arguments will result in an error\n",
      "C:\\Users\\yutan\\anaconda3\\envs\\tensorflow\\lib\\site-packages\\ipykernel_launcher.py:53: FutureWarning: Pass y=[ 0.01071167  0.01309204  0.01123047 ...  0.0027771  -0.00012207\n",
      " -0.00186157], sr=16000 as keyword args. From version 0.10 passing these as positional arguments will result in an error\n"
     ]
    },
    {
     "name": "stdout",
     "output_type": "stream",
     "text": [
      "mfccs 크기 : (20, 38)\n",
      "\n",
      "mfccs 크기 : (20, 38)\n",
      "\n",
      "mfccs 크기 : (20, 38)\n",
      "\n",
      "mfccs 크기 : (20, 38)\n",
      "\n"
     ]
    },
    {
     "name": "stderr",
     "output_type": "stream",
     "text": [
      "C:\\Users\\yutan\\anaconda3\\envs\\tensorflow\\lib\\site-packages\\ipykernel_launcher.py:53: FutureWarning: Pass y=[-0.00634766 -0.00842285  0.00918579 ...  0.00292969 -0.01034546\n",
      " -0.00692749], sr=16000 as keyword args. From version 0.10 passing these as positional arguments will result in an error\n",
      "C:\\Users\\yutan\\anaconda3\\envs\\tensorflow\\lib\\site-packages\\ipykernel_launcher.py:53: FutureWarning: Pass y=[-1.50645965e-05 -3.88297740e-05  4.77342019e-06 ...  1.98395242e-06\n",
      " -8.16604370e-07  1.08624512e-07], sr=16000 as keyword args. From version 0.10 passing these as positional arguments will result in an error\n",
      "C:\\Users\\yutan\\anaconda3\\envs\\tensorflow\\lib\\site-packages\\ipykernel_launcher.py:53: FutureWarning: Pass y=[-0.04925537 -0.03894043 -0.01345825 ...  0.00012207  0.00036621\n",
      "  0.00027466], sr=16000 as keyword args. From version 0.10 passing these as positional arguments will result in an error\n",
      "C:\\Users\\yutan\\anaconda3\\envs\\tensorflow\\lib\\site-packages\\ipykernel_launcher.py:53: FutureWarning: Pass y=[-5.6575289e-05 -2.0095948e-05  3.7652862e-05 ... -2.8132506e-05\n",
      " -1.8994875e-05  7.3690403e-06], sr=16000 as keyword args. From version 0.10 passing these as positional arguments will result in an error\n"
     ]
    },
    {
     "name": "stdout",
     "output_type": "stream",
     "text": [
      "mfccs 크기 : (20, 38)\n",
      "\n",
      "mfccs 크기 : (20, 38)\n",
      "\n",
      "mfccs 크기 : (20, 38)\n",
      "\n",
      "mfccs 크기 : (20, 38)\n",
      "\n",
      "mfccs 크기 : (20, 38)\n",
      "\n",
      "mfccs 크기 : (20, 38)\n",
      "\n",
      "mfccs 크기 : (20, 38)\n",
      "\n",
      "mfccs 크기 : (20, 38)\n",
      "\n"
     ]
    },
    {
     "name": "stderr",
     "output_type": "stream",
     "text": [
      "C:\\Users\\yutan\\anaconda3\\envs\\tensorflow\\lib\\site-packages\\ipykernel_launcher.py:53: FutureWarning: Pass y=[-0.01208496 -0.00177002  0.00106812 ...  0.00592041 -0.00073242\n",
      " -0.00326538], sr=16000 as keyword args. From version 0.10 passing these as positional arguments will result in an error\n",
      "C:\\Users\\yutan\\anaconda3\\envs\\tensorflow\\lib\\site-packages\\ipykernel_launcher.py:53: FutureWarning: Pass y=[ 0.0000000e+00 -3.0517578e-05  3.0517578e-05 ... -3.0517578e-04\n",
      " -3.3569336e-04 -3.6621094e-04], sr=16000 as keyword args. From version 0.10 passing these as positional arguments will result in an error\n",
      "C:\\Users\\yutan\\anaconda3\\envs\\tensorflow\\lib\\site-packages\\ipykernel_launcher.py:53: FutureWarning: Pass y=[ 0.00689697  0.00183105  0.00143433 ...  0.00811768 -0.00521851\n",
      " -0.00454712], sr=16000 as keyword args. From version 0.10 passing these as positional arguments will result in an error\n",
      "C:\\Users\\yutan\\anaconda3\\envs\\tensorflow\\lib\\site-packages\\ipykernel_launcher.py:53: FutureWarning: Pass y=[ 8.5390030e-07 -2.3443301e-06  1.8867468e-05 ... -7.2123017e-05\n",
      " -4.0109552e-04 -3.4769246e-04], sr=16000 as keyword args. From version 0.10 passing these as positional arguments will result in an error\n",
      "C:\\Users\\yutan\\anaconda3\\envs\\tensorflow\\lib\\site-packages\\ipykernel_launcher.py:53: FutureWarning: Pass y=[ 2.1245263e-05 -3.5498673e-05 -6.2725776e-05 ... -6.4703477e-06\n",
      "  1.8869585e-05  2.0615156e-05], sr=16000 as keyword args. From version 0.10 passing these as positional arguments will result in an error\n",
      "C:\\Users\\yutan\\anaconda3\\envs\\tensorflow\\lib\\site-packages\\ipykernel_launcher.py:53: FutureWarning: Pass y=[-3.0517578e-05 -3.0517578e-05  0.0000000e+00 ... -6.7138672e-04\n",
      "  5.4931641e-04  1.5258789e-04], sr=16000 as keyword args. From version 0.10 passing these as positional arguments will result in an error\n",
      "C:\\Users\\yutan\\anaconda3\\envs\\tensorflow\\lib\\site-packages\\ipykernel_launcher.py:53: FutureWarning: Pass y=[-2.9363204e-05 -6.0512233e-05 -8.3579507e-06 ...  3.1354342e-05\n",
      " -2.1225385e-05 -6.4220958e-06], sr=16000 as keyword args. From version 0.10 passing these as positional arguments will result in an error\n"
     ]
    },
    {
     "name": "stdout",
     "output_type": "stream",
     "text": [
      "mfccs 크기 : (20, 38)\n",
      "\n",
      "mfccs 크기 : (20, 38)\n",
      "\n",
      "mfccs 크기 : (20, 38)\n",
      "\n"
     ]
    },
    {
     "name": "stderr",
     "output_type": "stream",
     "text": [
      "C:\\Users\\yutan\\anaconda3\\envs\\tensorflow\\lib\\site-packages\\ipykernel_launcher.py:53: FutureWarning: Pass y=[ 8.1548824e-06  3.0020537e-05  2.4037574e-05 ... -2.3730954e-03\n",
      " -1.9774707e-03 -1.6305475e-03], sr=16000 as keyword args. From version 0.10 passing these as positional arguments will result in an error\n",
      "C:\\Users\\yutan\\anaconda3\\envs\\tensorflow\\lib\\site-packages\\ipykernel_launcher.py:53: FutureWarning: Pass y=[ 0.06096057  0.04348496  0.03057063 ...  0.00041781 -0.00864156\n",
      " -0.00133432], sr=16000 as keyword args. From version 0.10 passing these as positional arguments will result in an error\n",
      "C:\\Users\\yutan\\anaconda3\\envs\\tensorflow\\lib\\site-packages\\ipykernel_launcher.py:53: FutureWarning: Pass y=[-5.4260198e-07  2.2128788e-05 -3.6168807e-05 ... -4.0406993e-04\n",
      "  5.7987898e-05  1.5073190e-04], sr=16000 as keyword args. From version 0.10 passing these as positional arguments will result in an error\n"
     ]
    },
    {
     "name": "stdout",
     "output_type": "stream",
     "text": [
      "mfccs 크기 : (20, 38)\n",
      "\n",
      "mfccs 크기 : (20, 38)\n",
      "\n",
      "mfccs 크기 : (20, 38)\n",
      "\n",
      "mfccs 크기 : (20, 38)\n",
      "\n",
      "mfccs 크기 : (20, 38)\n",
      "\n",
      "mfccs 크기 : (20, 38)\n",
      "\n"
     ]
    },
    {
     "name": "stderr",
     "output_type": "stream",
     "text": [
      "C:\\Users\\yutan\\anaconda3\\envs\\tensorflow\\lib\\site-packages\\ipykernel_launcher.py:53: FutureWarning: Pass y=[-5.5011351e-06 -1.7823812e-05 -2.9664870e-06 ...  7.4538321e-04\n",
      "  7.6579436e-04  6.6449959e-04], sr=16000 as keyword args. From version 0.10 passing these as positional arguments will result in an error\n",
      "C:\\Users\\yutan\\anaconda3\\envs\\tensorflow\\lib\\site-packages\\ipykernel_launcher.py:53: FutureWarning: Pass y=[-3.0517578e-05 -3.0517578e-05 -3.0517578e-05 ...  4.2724609e-04\n",
      "  1.8310547e-04  1.5258789e-04], sr=16000 as keyword args. From version 0.10 passing these as positional arguments will result in an error\n",
      "C:\\Users\\yutan\\anaconda3\\envs\\tensorflow\\lib\\site-packages\\ipykernel_launcher.py:53: FutureWarning: Pass y=[-5.7333869e-05 -4.3189350e-05  2.5265206e-06 ... -2.3565574e-06\n",
      "  1.5495858e-05  8.1185543e-05], sr=16000 as keyword args. From version 0.10 passing these as positional arguments will result in an error\n",
      "C:\\Users\\yutan\\anaconda3\\envs\\tensorflow\\lib\\site-packages\\ipykernel_launcher.py:53: FutureWarning: Pass y=[ 2.9844437e-05  3.2925964e-05  1.6619910e-05 ... -3.1294756e-05\n",
      " -3.1312331e-05 -2.1638347e-05], sr=16000 as keyword args. From version 0.10 passing these as positional arguments will result in an error\n"
     ]
    },
    {
     "name": "stdout",
     "output_type": "stream",
     "text": [
      "mfccs 크기 : (20, 38)\n",
      "\n",
      "mfccs 크기 : (20, 38)\n",
      "\n",
      "mfccs 크기 : (20, 38)\n",
      "\n",
      "mfccs 크기 : (20, 38)\n",
      "\n",
      "mfccs 크기 : (20, 38)\n",
      "\n"
     ]
    },
    {
     "name": "stderr",
     "output_type": "stream",
     "text": [
      "C:\\Users\\yutan\\anaconda3\\envs\\tensorflow\\lib\\site-packages\\ipykernel_launcher.py:53: FutureWarning: Pass y=[ 7.4768066e-03  8.6059570e-03  8.3618164e-03 ... -6.1035156e-05\n",
      " -6.1035156e-05 -3.0517578e-05], sr=16000 as keyword args. From version 0.10 passing these as positional arguments will result in an error\n",
      "C:\\Users\\yutan\\anaconda3\\envs\\tensorflow\\lib\\site-packages\\ipykernel_launcher.py:53: FutureWarning: Pass y=[ 0.02618408  0.01571655 -0.00650024 ...  0.00015259 -0.00073242\n",
      " -0.00143433], sr=16000 as keyword args. From version 0.10 passing these as positional arguments will result in an error\n",
      "C:\\Users\\yutan\\anaconda3\\envs\\tensorflow\\lib\\site-packages\\ipykernel_launcher.py:53: FutureWarning: Pass y=[1.1726670e-05 6.3824140e-05 4.6774632e-05 ... 1.3655302e-03 1.2575145e-03\n",
      " 1.1381692e-03], sr=16000 as keyword args. From version 0.10 passing these as positional arguments will result in an error\n",
      "C:\\Users\\yutan\\anaconda3\\envs\\tensorflow\\lib\\site-packages\\ipykernel_launcher.py:53: FutureWarning: Pass y=[ 7.9288920e-06  4.4141075e-06  1.0662952e-05 ... -1.1373828e-05\n",
      "  4.0164073e-06 -4.3552814e-06], sr=16000 as keyword args. From version 0.10 passing these as positional arguments will result in an error\n",
      "C:\\Users\\yutan\\anaconda3\\envs\\tensorflow\\lib\\site-packages\\ipykernel_launcher.py:53: FutureWarning: Pass y=[ 0.00164795  0.00738525 -0.00671387 ...  0.00097656  0.00097656\n",
      " -0.00259399], sr=16000 as keyword args. From version 0.10 passing these as positional arguments will result in an error\n",
      "C:\\Users\\yutan\\anaconda3\\envs\\tensorflow\\lib\\site-packages\\ipykernel_launcher.py:53: FutureWarning: Pass y=[-0.00390625 -0.00650024 -0.00158691 ... -0.00411987 -0.00466919\n",
      "  0.00143433], sr=16000 as keyword args. From version 0.10 passing these as positional arguments will result in an error\n",
      "C:\\Users\\yutan\\anaconda3\\envs\\tensorflow\\lib\\site-packages\\ipykernel_launcher.py:53: FutureWarning: Pass y=[-1.4160156e-02 -2.3498535e-03  5.6762695e-03 ... -4.2724609e-04\n",
      " -9.1552734e-05  1.8310547e-04], sr=16000 as keyword args. From version 0.10 passing these as positional arguments will result in an error\n",
      "C:\\Users\\yutan\\anaconda3\\envs\\tensorflow\\lib\\site-packages\\ipykernel_launcher.py:53: FutureWarning: Pass y=[3.1528667e-05 2.9591652e-05 3.1793537e-05 ... 7.8778918e-05 1.0335069e-04\n",
      " 5.6088007e-05], sr=16000 as keyword args. From version 0.10 passing these as positional arguments will result in an error\n",
      "C:\\Users\\yutan\\anaconda3\\envs\\tensorflow\\lib\\site-packages\\ipykernel_launcher.py:53: FutureWarning: Pass y=[-0.00326538 -0.00231934 -0.00241089 ...  0.0010376  -0.00061035\n",
      "  0.00112915], sr=16000 as keyword args. From version 0.10 passing these as positional arguments will result in an error\n"
     ]
    },
    {
     "name": "stdout",
     "output_type": "stream",
     "text": [
      "mfccs 크기 : (20, 38)\n",
      "\n",
      "mfccs 크기 : (20, 38)\n",
      "\n",
      "mfccs 크기 : (20, 38)\n",
      "\n",
      "mfccs 크기 : (20, 38)\n",
      "\n",
      "mfccs 크기 : (20, 38)\n",
      "\n",
      "mfccs 크기 : (20, 38)\n",
      "\n"
     ]
    },
    {
     "name": "stderr",
     "output_type": "stream",
     "text": [
      "C:\\Users\\yutan\\anaconda3\\envs\\tensorflow\\lib\\site-packages\\ipykernel_launcher.py:53: FutureWarning: Pass y=[-1.0894043e-05  1.7848197e-05  2.9585895e-05 ... -2.0731033e-03\n",
      " -1.7746442e-03 -1.5046560e-03], sr=16000 as keyword args. From version 0.10 passing these as positional arguments will result in an error\n",
      "C:\\Users\\yutan\\anaconda3\\envs\\tensorflow\\lib\\site-packages\\ipykernel_launcher.py:53: FutureWarning: Pass y=[-8.1542814e-05 -1.0851971e-04 -1.2934719e-04 ... -3.0103281e-06\n",
      "  4.2409697e-06 -1.4164243e-05], sr=16000 as keyword args. From version 0.10 passing these as positional arguments will result in an error\n",
      "C:\\Users\\yutan\\anaconda3\\envs\\tensorflow\\lib\\site-packages\\ipykernel_launcher.py:53: FutureWarning: Pass y=[-9.9464905e-06  9.5347610e-07 -3.3103734e-05 ...  3.0276933e-04\n",
      "  3.3552831e-04  3.3713324e-04], sr=16000 as keyword args. From version 0.10 passing these as positional arguments will result in an error\n"
     ]
    },
    {
     "name": "stdout",
     "output_type": "stream",
     "text": [
      "mfccs 크기 : (20, 38)\n",
      "\n",
      "mfccs 크기 : (20, 38)\n",
      "\n",
      "mfccs 크기 : (20, 38)\n",
      "\n",
      "mfccs 크기 : (20, 38)\n",
      "\n",
      "mfccs 크기 : (20, 38)\n",
      "\n",
      "mfccs 크기 : (20, 38)\n",
      "\n",
      "mfccs 크기 : (20, 38)\n",
      "\n",
      "mfccs 크기 : (20, 38)\n",
      "\n"
     ]
    },
    {
     "name": "stderr",
     "output_type": "stream",
     "text": [
      "C:\\Users\\yutan\\anaconda3\\envs\\tensorflow\\lib\\site-packages\\ipykernel_launcher.py:53: FutureWarning: Pass y=[-0.01010132 -0.01751709 -0.01751709 ... -0.00057983  0.0007019\n",
      "  0.0017395 ], sr=16000 as keyword args. From version 0.10 passing these as positional arguments will result in an error\n",
      "C:\\Users\\yutan\\anaconda3\\envs\\tensorflow\\lib\\site-packages\\ipykernel_launcher.py:53: FutureWarning: Pass y=[ 1.4566507e-05 -1.5466750e-05 -1.9353909e-05 ...  1.2669741e-05\n",
      "  2.5915569e-05 -2.6272106e-05], sr=16000 as keyword args. From version 0.10 passing these as positional arguments will result in an error\n",
      "C:\\Users\\yutan\\anaconda3\\envs\\tensorflow\\lib\\site-packages\\ipykernel_launcher.py:53: FutureWarning: Pass y=[-5.6768371e-05  7.5043395e-06 -2.5261585e-05 ...  7.3610049e-06\n",
      " -2.5786096e-05 -2.8425799e-05], sr=16000 as keyword args. From version 0.10 passing these as positional arguments will result in an error\n",
      "C:\\Users\\yutan\\anaconda3\\envs\\tensorflow\\lib\\site-packages\\ipykernel_launcher.py:53: FutureWarning: Pass y=[ 0.0000000e+00 -3.0517578e-05 -6.1035156e-05 ...  9.1552734e-05\n",
      "  6.1035156e-05  0.0000000e+00], sr=16000 as keyword args. From version 0.10 passing these as positional arguments will result in an error\n",
      "C:\\Users\\yutan\\anaconda3\\envs\\tensorflow\\lib\\site-packages\\ipykernel_launcher.py:53: FutureWarning: Pass y=[-1.2390137e-02 -6.5307617e-03 -2.0446777e-03 ... -9.1552734e-05\n",
      " -8.8500977e-04  8.8500977e-04], sr=16000 as keyword args. From version 0.10 passing these as positional arguments will result in an error\n",
      "C:\\Users\\yutan\\anaconda3\\envs\\tensorflow\\lib\\site-packages\\ipykernel_launcher.py:53: FutureWarning: Pass y=[ 3.8858348e-06 -1.4110301e-05 -5.3472409e-05 ...  7.4921438e-05\n",
      "  7.7385354e-05  9.3611074e-05], sr=16000 as keyword args. From version 0.10 passing these as positional arguments will result in an error\n",
      "C:\\Users\\yutan\\anaconda3\\envs\\tensorflow\\lib\\site-packages\\ipykernel_launcher.py:53: FutureWarning: Pass y=[-0.00097656  0.00177002 -0.00445557 ...  0.00027466  0.01077271\n",
      "  0.00814819], sr=16000 as keyword args. From version 0.10 passing these as positional arguments will result in an error\n",
      "C:\\Users\\yutan\\anaconda3\\envs\\tensorflow\\lib\\site-packages\\ipykernel_launcher.py:53: FutureWarning: Pass y=[ 1.6736802e-05 -3.4268975e-05  2.0401969e-06 ...  1.1766389e-05\n",
      "  1.4556854e-05 -3.0438737e-06], sr=16000 as keyword args. From version 0.10 passing these as positional arguments will result in an error\n"
     ]
    },
    {
     "name": "stdout",
     "output_type": "stream",
     "text": [
      "mfccs 크기 : (20, 38)\n",
      "\n",
      "mfccs 크기 : (20, 38)\n",
      "\n",
      "mfccs 크기 : (20, 38)\n",
      "\n",
      "mfccs 크기 : (20, 38)\n",
      "\n",
      "mfccs 크기 : (20, 38)\n",
      "\n",
      "mfccs 크기 : (20, 38)\n",
      "\n",
      "mfccs 크기 : (20, 38)\n",
      "\n",
      "mfccs 크기 : (20, 38)\n",
      "\n"
     ]
    },
    {
     "name": "stderr",
     "output_type": "stream",
     "text": [
      "C:\\Users\\yutan\\anaconda3\\envs\\tensorflow\\lib\\site-packages\\ipykernel_launcher.py:53: FutureWarning: Pass y=[-1.7829750e-04 -2.0750817e-04 -1.7198767e-04 ... -2.9147338e-04\n",
      "  1.2013549e-04  2.9990882e-05], sr=16000 as keyword args. From version 0.10 passing these as positional arguments will result in an error\n",
      "C:\\Users\\yutan\\anaconda3\\envs\\tensorflow\\lib\\site-packages\\ipykernel_launcher.py:53: FutureWarning: Pass y=[ 0.02490234  0.02679443  0.02642822 ... -0.00042725  0.00033569\n",
      "  0.00073242], sr=16000 as keyword args. From version 0.10 passing these as positional arguments will result in an error\n",
      "C:\\Users\\yutan\\anaconda3\\envs\\tensorflow\\lib\\site-packages\\ipykernel_launcher.py:53: FutureWarning: Pass y=[-3.0517578e-05  3.0517578e-05 -3.0517578e-05 ...  0.0000000e+00\n",
      "  0.0000000e+00  3.0517578e-05], sr=16000 as keyword args. From version 0.10 passing these as positional arguments will result in an error\n",
      "C:\\Users\\yutan\\anaconda3\\envs\\tensorflow\\lib\\site-packages\\ipykernel_launcher.py:53: FutureWarning: Pass y=[ 0.00021362 -0.00152588  0.00372314 ... -0.00534058  0.00811768\n",
      "  0.01437378], sr=16000 as keyword args. From version 0.10 passing these as positional arguments will result in an error\n",
      "C:\\Users\\yutan\\anaconda3\\envs\\tensorflow\\lib\\site-packages\\ipykernel_launcher.py:53: FutureWarning: Pass y=[-2.8213260e-06  7.1949380e-06  3.2283093e-05 ...  1.3369822e-06\n",
      " -2.4318649e-06  3.3331744e-06], sr=16000 as keyword args. From version 0.10 passing these as positional arguments will result in an error\n",
      "C:\\Users\\yutan\\anaconda3\\envs\\tensorflow\\lib\\site-packages\\ipykernel_launcher.py:53: FutureWarning: Pass y=[-1.8310547e-04 -2.1362305e-04 -1.2207031e-04 ...  3.0517578e-05\n",
      "  0.0000000e+00 -3.0517578e-05], sr=16000 as keyword args. From version 0.10 passing these as positional arguments will result in an error\n"
     ]
    },
    {
     "name": "stdout",
     "output_type": "stream",
     "text": [
      "mfccs 크기 : (20, 38)\n",
      "\n",
      "mfccs 크기 : (20, 38)\n",
      "\n",
      "mfccs 크기 : (20, 38)\n",
      "\n",
      "mfccs 크기 : (20, 38)\n",
      "\n"
     ]
    },
    {
     "name": "stderr",
     "output_type": "stream",
     "text": [
      "C:\\Users\\yutan\\anaconda3\\envs\\tensorflow\\lib\\site-packages\\ipykernel_launcher.py:53: FutureWarning: Pass y=[ 1.9087029e-06 -3.8378716e-06  1.4505592e-05 ...  1.9804067e-05\n",
      "  5.8542424e-05  9.7454045e-05], sr=16000 as keyword args. From version 0.10 passing these as positional arguments will result in an error\n",
      "C:\\Users\\yutan\\anaconda3\\envs\\tensorflow\\lib\\site-packages\\ipykernel_launcher.py:53: FutureWarning: Pass y=[-0.00366211  0.00222778 -0.00042725 ...  0.00650024 -0.00616455\n",
      " -0.00552368], sr=16000 as keyword args. From version 0.10 passing these as positional arguments will result in an error\n",
      "C:\\Users\\yutan\\anaconda3\\envs\\tensorflow\\lib\\site-packages\\ipykernel_launcher.py:53: FutureWarning: Pass y=[ 2.5091509e-05 -1.1881132e-05  3.3826622e-05 ... -3.4057401e-05\n",
      " -2.9271338e-05 -4.4751341e-06], sr=16000 as keyword args. From version 0.10 passing these as positional arguments will result in an error\n",
      "C:\\Users\\yutan\\anaconda3\\envs\\tensorflow\\lib\\site-packages\\ipykernel_launcher.py:53: FutureWarning: Pass y=[-3.0517578e-05 -3.0517578e-05 -3.0517578e-05 ...  0.0000000e+00\n",
      " -1.5258789e-04  6.1035156e-05], sr=16000 as keyword args. From version 0.10 passing these as positional arguments will result in an error\n",
      "C:\\Users\\yutan\\anaconda3\\envs\\tensorflow\\lib\\site-packages\\ipykernel_launcher.py:53: FutureWarning: Pass y=[-4.2969823e-06 -5.6626268e-05 -3.2913489e-05 ... -2.6654266e-04\n",
      " -2.6868528e-04 -2.4405212e-04], sr=16000 as keyword args. From version 0.10 passing these as positional arguments will result in an error\n"
     ]
    },
    {
     "name": "stdout",
     "output_type": "stream",
     "text": [
      "mfccs 크기 : (20, 38)\n",
      "\n",
      "mfccs 크기 : (20, 38)\n",
      "\n",
      "mfccs 크기 : (20, 38)\n",
      "\n",
      "mfccs 크기 : (20, 38)\n",
      "\n",
      "mfccs 크기 : (20, 38)\n",
      "\n"
     ]
    },
    {
     "name": "stderr",
     "output_type": "stream",
     "text": [
      "C:\\Users\\yutan\\anaconda3\\envs\\tensorflow\\lib\\site-packages\\ipykernel_launcher.py:53: FutureWarning: Pass y=[ 0.0000000e+00  0.0000000e+00 -3.0517578e-05 ... -2.7465820e-04\n",
      " -3.3569336e-04 -2.7465820e-04], sr=16000 as keyword args. From version 0.10 passing these as positional arguments will result in an error\n",
      "C:\\Users\\yutan\\anaconda3\\envs\\tensorflow\\lib\\site-packages\\ipykernel_launcher.py:53: FutureWarning: Pass y=[-0.01257324 -0.01824951 -0.01351929 ... -0.00128174  0.00054932\n",
      "  0.00143433], sr=16000 as keyword args. From version 0.10 passing these as positional arguments will result in an error\n",
      "C:\\Users\\yutan\\anaconda3\\envs\\tensorflow\\lib\\site-packages\\ipykernel_launcher.py:53: FutureWarning: Pass y=[-9.5390862e-07 -3.1876979e-07  8.8898599e-07 ...  2.7030354e-04\n",
      "  3.1821177e-04  2.6629117e-04], sr=16000 as keyword args. From version 0.10 passing these as positional arguments will result in an error\n",
      "C:\\Users\\yutan\\anaconda3\\envs\\tensorflow\\lib\\site-packages\\ipykernel_launcher.py:53: FutureWarning: Pass y=[-1.5606576e-05  9.7025259e-07  2.3013969e-07 ...  1.7475108e-05\n",
      "  5.0177032e-06  3.5897639e-05], sr=16000 as keyword args. From version 0.10 passing these as positional arguments will result in an error\n"
     ]
    },
    {
     "name": "stdout",
     "output_type": "stream",
     "text": [
      "mfccs 크기 : (20, 38)\n",
      "\n",
      "mfccs 크기 : (20, 38)\n",
      "\n"
     ]
    },
    {
     "name": "stderr",
     "output_type": "stream",
     "text": [
      "C:\\Users\\yutan\\anaconda3\\envs\\tensorflow\\lib\\site-packages\\ipykernel_launcher.py:53: FutureWarning: Pass y=[ 1.9187657e-05 -2.3764607e-05 -3.3528971e-07 ... -3.4589735e-05\n",
      "  2.2147776e-06 -7.7525519e-06], sr=16000 as keyword args. From version 0.10 passing these as positional arguments will result in an error\n",
      "C:\\Users\\yutan\\anaconda3\\envs\\tensorflow\\lib\\site-packages\\ipykernel_launcher.py:53: FutureWarning: Pass y=[-1.3588309e-05  2.5839496e-05  1.2005369e-05 ...  3.1335163e-05\n",
      "  7.2285227e-05  6.1141531e-05], sr=16000 as keyword args. From version 0.10 passing these as positional arguments will result in an error\n",
      "C:\\Users\\yutan\\anaconda3\\envs\\tensorflow\\lib\\site-packages\\ipykernel_launcher.py:53: FutureWarning: Pass y=[ 1.2268066e-02  5.6457520e-03  1.2176514e-02 ... -6.1035156e-05\n",
      " -6.1035156e-05 -6.1035156e-05], sr=16000 as keyword args. From version 0.10 passing these as positional arguments will result in an error\n",
      "C:\\Users\\yutan\\anaconda3\\envs\\tensorflow\\lib\\site-packages\\ipykernel_launcher.py:53: FutureWarning: Pass y=[-3.0517578e-05  0.0000000e+00  3.0517578e-05 ... -3.0517578e-04\n",
      "  3.6621094e-04 -6.1035156e-05], sr=16000 as keyword args. From version 0.10 passing these as positional arguments will result in an error\n",
      "C:\\Users\\yutan\\anaconda3\\envs\\tensorflow\\lib\\site-packages\\ipykernel_launcher.py:53: FutureWarning: Pass y=[ 0.0000000e+00  3.0517578e-05  0.0000000e+00 ... -6.1035156e-05\n",
      "  0.0000000e+00  0.0000000e+00], sr=16000 as keyword args. From version 0.10 passing these as positional arguments will result in an error\n"
     ]
    },
    {
     "name": "stdout",
     "output_type": "stream",
     "text": [
      "mfccs 크기 : (20, 38)\n",
      "\n",
      "mfccs 크기 : (20, 38)\n",
      "\n",
      "mfccs 크기 : (20, 38)\n",
      "\n",
      "mfccs 크기 : (20, 38)\n",
      "\n",
      "mfccs 크기 : (20, 38)\n",
      "\n",
      "mfccs 크기 : (20, 38)\n",
      "\n"
     ]
    },
    {
     "name": "stderr",
     "output_type": "stream",
     "text": [
      "C:\\Users\\yutan\\anaconda3\\envs\\tensorflow\\lib\\site-packages\\ipykernel_launcher.py:53: FutureWarning: Pass y=[-0.00219727 -0.00015259  0.00213623 ...  0.00384521  0.00305176\n",
      "  0.00231934], sr=16000 as keyword args. From version 0.10 passing these as positional arguments will result in an error\n",
      "C:\\Users\\yutan\\anaconda3\\envs\\tensorflow\\lib\\site-packages\\ipykernel_launcher.py:53: FutureWarning: Pass y=[ 3.3569336e-04 -1.1413574e-02 -2.0111084e-02 ... -3.0517578e-05\n",
      "  9.4604492e-04 -6.4086914e-04], sr=16000 as keyword args. From version 0.10 passing these as positional arguments will result in an error\n",
      "C:\\Users\\yutan\\anaconda3\\envs\\tensorflow\\lib\\site-packages\\ipykernel_launcher.py:53: FutureWarning: Pass y=[ 0.02484131  0.01705933  0.01412964 ... -0.0017395   0.00250244\n",
      "  0.        ], sr=16000 as keyword args. From version 0.10 passing these as positional arguments will result in an error\n",
      "C:\\Users\\yutan\\anaconda3\\envs\\tensorflow\\lib\\site-packages\\ipykernel_launcher.py:53: FutureWarning: Pass y=[-3.8718013e-06 -8.0908276e-06 -2.6390671e-05 ... -3.7804517e-04\n",
      " -2.3504226e-05 -5.3155428e-04], sr=16000 as keyword args. From version 0.10 passing these as positional arguments will result in an error\n",
      "C:\\Users\\yutan\\anaconda3\\envs\\tensorflow\\lib\\site-packages\\ipykernel_launcher.py:53: FutureWarning: Pass y=[-0.00067139  0.00378418  0.00079346 ... -0.00796509  0.0085144\n",
      "  0.00350952], sr=16000 as keyword args. From version 0.10 passing these as positional arguments will result in an error\n",
      "C:\\Users\\yutan\\anaconda3\\envs\\tensorflow\\lib\\site-packages\\ipykernel_launcher.py:53: FutureWarning: Pass y=[-3.0517578e-05  0.0000000e+00 -3.0517578e-05 ... -1.5258789e-04\n",
      "  3.0517578e-05  0.0000000e+00], sr=16000 as keyword args. From version 0.10 passing these as positional arguments will result in an error\n"
     ]
    },
    {
     "name": "stdout",
     "output_type": "stream",
     "text": [
      "mfccs 크기 : (20, 38)\n",
      "\n",
      "mfccs 크기 : (20, 38)\n",
      "\n",
      "mfccs 크기 : (20, 38)\n",
      "\n",
      "mfccs 크기 : (20, 38)\n",
      "\n",
      "mfccs 크기 : (20, 38)\n",
      "\n",
      "mfccs 크기 : (20, 38)\n",
      "\n"
     ]
    },
    {
     "name": "stderr",
     "output_type": "stream",
     "text": [
      "C:\\Users\\yutan\\anaconda3\\envs\\tensorflow\\lib\\site-packages\\ipykernel_launcher.py:53: FutureWarning: Pass y=[ 1.0138269e-06 -3.7980139e-06  2.2419588e-05 ...  6.3772663e-05\n",
      "  5.8176553e-05  6.5576511e-05], sr=16000 as keyword args. From version 0.10 passing these as positional arguments will result in an error\n",
      "C:\\Users\\yutan\\anaconda3\\envs\\tensorflow\\lib\\site-packages\\ipykernel_launcher.py:53: FutureWarning: Pass y=[-0.027771   -0.04370117 -0.05212402 ... -0.0012207  -0.00097656\n",
      "  0.00048828], sr=16000 as keyword args. From version 0.10 passing these as positional arguments will result in an error\n",
      "C:\\Users\\yutan\\anaconda3\\envs\\tensorflow\\lib\\site-packages\\ipykernel_launcher.py:53: FutureWarning: Pass y=[2.7539389e-05 3.4575954e-05 1.1615641e-05 ... 2.8671979e-05 1.3928925e-05\n",
      " 6.8485319e-06], sr=16000 as keyword args. From version 0.10 passing these as positional arguments will result in an error\n",
      "C:\\Users\\yutan\\anaconda3\\envs\\tensorflow\\lib\\site-packages\\ipykernel_launcher.py:53: FutureWarning: Pass y=[0.         0.         0.         ... 0.00024414 0.00024414 0.00021362], sr=16000 as keyword args. From version 0.10 passing these as positional arguments will result in an error\n",
      "C:\\Users\\yutan\\anaconda3\\envs\\tensorflow\\lib\\site-packages\\ipykernel_launcher.py:53: FutureWarning: Pass y=[ 0.00726318  0.00830078  0.01211548 ...  0.00045776  0.0027771\n",
      " -0.00100708], sr=16000 as keyword args. From version 0.10 passing these as positional arguments will result in an error\n"
     ]
    },
    {
     "name": "stdout",
     "output_type": "stream",
     "text": [
      "mfccs 크기 : (20, 38)\n",
      "\n",
      "mfccs 크기 : (20, 38)\n",
      "\n",
      "mfccs 크기 : (20, 38)\n",
      "\n",
      "mfccs 크기 : (20, 38)\n",
      "\n",
      "mfccs 크기 : (20, 38)\n",
      "\n"
     ]
    },
    {
     "name": "stderr",
     "output_type": "stream",
     "text": [
      "C:\\Users\\yutan\\anaconda3\\envs\\tensorflow\\lib\\site-packages\\ipykernel_launcher.py:53: FutureWarning: Pass y=[ 8.1182261e-06 -1.3333121e-05  2.1096039e-06 ... -2.7975379e-05\n",
      "  5.9312902e-06 -4.6856690e-05], sr=16000 as keyword args. From version 0.10 passing these as positional arguments will result in an error\n",
      "C:\\Users\\yutan\\anaconda3\\envs\\tensorflow\\lib\\site-packages\\ipykernel_launcher.py:53: FutureWarning: Pass y=[ 1.0571185e-03 -6.8815616e-03 -1.4941155e-02 ...  2.0005098e-06\n",
      " -2.0348680e-06  2.0292714e-06], sr=16000 as keyword args. From version 0.10 passing these as positional arguments will result in an error\n",
      "C:\\Users\\yutan\\anaconda3\\envs\\tensorflow\\lib\\site-packages\\ipykernel_launcher.py:53: FutureWarning: Pass y=[-0.01116943 -0.00436401  0.00610352 ...  0.00018311  0.00387573\n",
      " -0.00692749], sr=16000 as keyword args. From version 0.10 passing these as positional arguments will result in an error\n",
      "C:\\Users\\yutan\\anaconda3\\envs\\tensorflow\\lib\\site-packages\\ipykernel_launcher.py:53: FutureWarning: Pass y=[-2.0324707e-02  1.8310547e-03  3.8574219e-02 ...  4.8828125e-04\n",
      " -3.0517578e-05 -4.5776367e-04], sr=16000 as keyword args. From version 0.10 passing these as positional arguments will result in an error\n",
      "C:\\Users\\yutan\\anaconda3\\envs\\tensorflow\\lib\\site-packages\\ipykernel_launcher.py:53: FutureWarning: Pass y=[ 0.01062012  0.00210571  0.01519775 ... -0.00280762  0.00097656\n",
      " -0.00152588], sr=16000 as keyword args. From version 0.10 passing these as positional arguments will result in an error\n",
      "C:\\Users\\yutan\\anaconda3\\envs\\tensorflow\\lib\\site-packages\\ipykernel_launcher.py:53: FutureWarning: Pass y=[ 0.00302124  0.00363159  0.00332642 ...  0.00106812  0.00146484\n",
      " -0.00061035], sr=16000 as keyword args. From version 0.10 passing these as positional arguments will result in an error\n",
      "C:\\Users\\yutan\\anaconda3\\envs\\tensorflow\\lib\\site-packages\\ipykernel_launcher.py:53: FutureWarning: Pass y=[-0.01217651  0.0045166  -0.01074219 ...  0.01229858 -0.00476074\n",
      "  0.00790405], sr=16000 as keyword args. From version 0.10 passing these as positional arguments will result in an error\n"
     ]
    },
    {
     "name": "stdout",
     "output_type": "stream",
     "text": [
      "mfccs 크기 : (20, 38)\n",
      "\n",
      "mfccs 크기 : (20, 38)\n",
      "\n",
      "mfccs 크기 : (20, 38)\n",
      "\n",
      "mfccs 크기 : (20, 38)\n",
      "\n",
      "mfccs 크기 : (20, 38)\n",
      "\n",
      "mfccs 크기 : (20, 38)\n",
      "\n",
      "mfccs 크기 : (20, 38)\n",
      "\n"
     ]
    },
    {
     "name": "stderr",
     "output_type": "stream",
     "text": [
      "C:\\Users\\yutan\\anaconda3\\envs\\tensorflow\\lib\\site-packages\\ipykernel_launcher.py:53: FutureWarning: Pass y=[ 1.5472075e-05  2.0041043e-05 -1.9699210e-06 ... -1.2030640e-04\n",
      " -2.1951430e-04 -1.8436555e-04], sr=16000 as keyword args. From version 0.10 passing these as positional arguments will result in an error\n",
      "C:\\Users\\yutan\\anaconda3\\envs\\tensorflow\\lib\\site-packages\\ipykernel_launcher.py:53: FutureWarning: Pass y=[-3.0517578e-05  0.0000000e+00  3.0517578e-05 ...  0.0000000e+00\n",
      " -3.0517578e-05 -3.0517578e-05], sr=16000 as keyword args. From version 0.10 passing these as positional arguments will result in an error\n",
      "C:\\Users\\yutan\\anaconda3\\envs\\tensorflow\\lib\\site-packages\\ipykernel_launcher.py:53: FutureWarning: Pass y=[-4.3583350e-05  6.1757669e-06 -2.8281293e-06 ... -1.4021570e-05\n",
      " -3.1098050e-05 -1.4926326e-06], sr=16000 as keyword args. From version 0.10 passing these as positional arguments will result in an error\n",
      "C:\\Users\\yutan\\anaconda3\\envs\\tensorflow\\lib\\site-packages\\ipykernel_launcher.py:53: FutureWarning: Pass y=[ 0.00039673 -0.00057983  0.00030518 ...  0.00057983  0.00042725\n",
      " -0.00054932], sr=16000 as keyword args. From version 0.10 passing these as positional arguments will result in an error\n",
      "C:\\Users\\yutan\\anaconda3\\envs\\tensorflow\\lib\\site-packages\\ipykernel_launcher.py:53: FutureWarning: Pass y=[ 0.0000000e+00  3.0517578e-05 -3.0517578e-05 ...  0.0000000e+00\n",
      " -3.0517578e-05  0.0000000e+00], sr=16000 as keyword args. From version 0.10 passing these as positional arguments will result in an error\n"
     ]
    },
    {
     "name": "stdout",
     "output_type": "stream",
     "text": [
      "mfccs 크기 : (20, 38)\n",
      "\n",
      "mfccs 크기 : (20, 38)\n",
      "\n",
      "mfccs 크기 : (20, 38)\n",
      "\n",
      "mfccs 크기 : (20, 38)\n",
      "\n",
      "mfccs 크기 : (20, 38)\n",
      "\n"
     ]
    },
    {
     "name": "stderr",
     "output_type": "stream",
     "text": [
      "C:\\Users\\yutan\\anaconda3\\envs\\tensorflow\\lib\\site-packages\\ipykernel_launcher.py:53: FutureWarning: Pass y=[-1.4650356e-05  4.1857747e-06 -4.6110990e-06 ...  7.3501992e-04\n",
      "  7.3525292e-04  7.6406298e-04], sr=16000 as keyword args. From version 0.10 passing these as positional arguments will result in an error\n",
      "C:\\Users\\yutan\\anaconda3\\envs\\tensorflow\\lib\\site-packages\\ipykernel_launcher.py:53: FutureWarning: Pass y=[ 1.3033104e-04  6.7597641e-05  8.0935199e-05 ...  2.8474782e-05\n",
      "  4.9221080e-06 -1.3857829e-06], sr=16000 as keyword args. From version 0.10 passing these as positional arguments will result in an error\n"
     ]
    },
    {
     "name": "stdout",
     "output_type": "stream",
     "text": [
      "mfccs 크기 : (20, 38)\n",
      "\n",
      "mfccs 크기 : (20, 38)\n",
      "\n",
      "mfccs 크기 : (20, 38)\n",
      "\n"
     ]
    },
    {
     "name": "stderr",
     "output_type": "stream",
     "text": [
      "C:\\Users\\yutan\\anaconda3\\envs\\tensorflow\\lib\\site-packages\\ipykernel_launcher.py:53: FutureWarning: Pass y=[8.5720174e-05 8.8358989e-05 1.8821102e-05 ... 1.0675986e-05 3.6266953e-05\n",
      " 6.5356980e-05], sr=16000 as keyword args. From version 0.10 passing these as positional arguments will result in an error\n",
      "C:\\Users\\yutan\\anaconda3\\envs\\tensorflow\\lib\\site-packages\\ipykernel_launcher.py:53: FutureWarning: Pass y=[7.70783754e-06 1.55908856e-05 3.69021182e-05 ... 1.03774866e-04\n",
      " 1.16557319e-04 9.14911070e-05], sr=16000 as keyword args. From version 0.10 passing these as positional arguments will result in an error\n",
      "C:\\Users\\yutan\\anaconda3\\envs\\tensorflow\\lib\\site-packages\\ipykernel_launcher.py:53: FutureWarning: Pass y=[ 1.5760791e-02  1.6871421e-02  1.6740201e-02 ... -8.3072744e-05\n",
      "  8.2154547e-05 -4.6583311e-05], sr=16000 as keyword args. From version 0.10 passing these as positional arguments will result in an error\n"
     ]
    },
    {
     "name": "stdout",
     "output_type": "stream",
     "text": [
      "mfccs 크기 : (20, 38)\n",
      "\n",
      "mfccs 크기 : (20, 38)\n",
      "\n",
      "mfccs 크기 : (20, 38)\n",
      "\n",
      "mfccs 크기 : (20, 38)\n",
      "\n",
      "mfccs 크기 : (20, 38)\n",
      "\n"
     ]
    },
    {
     "name": "stderr",
     "output_type": "stream",
     "text": [
      "C:\\Users\\yutan\\anaconda3\\envs\\tensorflow\\lib\\site-packages\\ipykernel_launcher.py:53: FutureWarning: Pass y=[ 0.00732422  0.00619507  0.00491333 ... -0.00027466  0.00109863\n",
      "  0.00027466], sr=16000 as keyword args. From version 0.10 passing these as positional arguments will result in an error\n",
      "C:\\Users\\yutan\\anaconda3\\envs\\tensorflow\\lib\\site-packages\\ipykernel_launcher.py:53: FutureWarning: Pass y=[-2.2975346e-05  3.3478040e-07  7.6746522e-07 ... -2.1350304e-05\n",
      "  7.7878096e-05  1.4933579e-05], sr=16000 as keyword args. From version 0.10 passing these as positional arguments will result in an error\n",
      "C:\\Users\\yutan\\anaconda3\\envs\\tensorflow\\lib\\site-packages\\ipykernel_launcher.py:53: FutureWarning: Pass y=[ 1.9931188e-02  2.2438288e-02  2.4365798e-02 ...  9.8772522e-05\n",
      "  2.2779409e-04 -1.2420252e-04], sr=16000 as keyword args. From version 0.10 passing these as positional arguments will result in an error\n"
     ]
    },
    {
     "name": "stdout",
     "output_type": "stream",
     "text": [
      "mfccs 크기 : (20, 38)\n",
      "\n",
      "mfccs 크기 : (20, 38)\n",
      "\n",
      "mfccs 크기 : (20, 38)\n",
      "\n",
      "mfccs 크기 : (20, 38)\n",
      "\n",
      "mfccs 크기 : (20, 38)\n",
      "\n"
     ]
    },
    {
     "name": "stderr",
     "output_type": "stream",
     "text": [
      "C:\\Users\\yutan\\anaconda3\\envs\\tensorflow\\lib\\site-packages\\ipykernel_launcher.py:53: FutureWarning: Pass y=[ 0.00137329 -0.0045166   0.00128174 ...  0.00415039 -0.00680542\n",
      " -0.0022583 ], sr=16000 as keyword args. From version 0.10 passing these as positional arguments will result in an error\n",
      "C:\\Users\\yutan\\anaconda3\\envs\\tensorflow\\lib\\site-packages\\ipykernel_launcher.py:53: FutureWarning: Pass y=[-5.6457520e-02 -6.0913086e-02 -5.2642822e-02 ...  3.0517578e-05\n",
      "  6.1035156e-05  6.1035156e-05], sr=16000 as keyword args. From version 0.10 passing these as positional arguments will result in an error\n",
      "C:\\Users\\yutan\\anaconda3\\envs\\tensorflow\\lib\\site-packages\\ipykernel_launcher.py:53: FutureWarning: Pass y=[-9.0850863e-06  3.3609398e-05  1.3214877e-05 ...  1.6596312e-04\n",
      "  1.3607676e-04  9.7992044e-05], sr=16000 as keyword args. From version 0.10 passing these as positional arguments will result in an error\n",
      "C:\\Users\\yutan\\anaconda3\\envs\\tensorflow\\lib\\site-packages\\ipykernel_launcher.py:53: FutureWarning: Pass y=[-5.4321289e-03 -6.1645508e-03 -6.8359375e-03 ...  0.0000000e+00\n",
      " -6.1035156e-05  3.0517578e-05], sr=16000 as keyword args. From version 0.10 passing these as positional arguments will result in an error\n"
     ]
    }
   ],
   "source": [
    "# 지금 내가 가지고 있는 것을 다 변환 했을때  동일한 크기의 mfcc 파일이 나오는가, 이상한거는 버려주기\n",
    "prob_cnt = 0  \n",
    "x_test = []\n",
    "y_test = []\n",
    "for index, filename in enumerate(filenames_train):\n",
    "    \n",
    "    # Stop after 500\n",
    "    # if index >= 500:\n",
    "    #     break\n",
    "    \n",
    "    # Create path from given filename and target item\n",
    "    path = join(dataset_path, target_list[int(y_orig_train[index])], filename)\n",
    "    \n",
    "    # Create MFCCs\n",
    "    mfccs = get_librosa_mfcc(path)\n",
    "    print(\"mfccs 크기 :\",mfccs.shape)\n",
    "\n",
    "    if mfccs.shape[1] == len_mfcc:    # 지금은 40으로 설정되어 있음, ///  길이가 부족하면 나중에 버려야함\n",
    "        x_test.append(mfccs)\n",
    "        y_test.append(y_orig_train[index])\n",
    "    else:\n",
    "        print('Dropped:', index, mfccs.shape)\n",
    "        prob_cnt += 1\n",
    "    print()\n"
   ]
  },
  {
   "cell_type": "code",
   "execution_count": 46,
   "metadata": {
    "colab": {
     "base_uri": "https://localhost:8080/",
     "height": 278
    },
    "executionInfo": {
     "elapsed": 29,
     "status": "ok",
     "timestamp": 1648628743213,
     "user": {
      "displayName": "김유탄",
      "userId": "04011767612525493979"
     },
     "user_tz": -540
    },
    "id": "ImVwh1C9EDv-",
    "outputId": "60ec169c-97a3-4520-8f6a-79f932c9e48c"
   },
   "outputs": [
    {
     "name": "stderr",
     "output_type": "stream",
     "text": [
      "C:\\Users\\yutan\\anaconda3\\envs\\tensorflow\\lib\\site-packages\\ipykernel_launcher.py:24: FutureWarning: Pass sr=16000 as keyword args. From version 0.10 passing these as positional arguments will result in an error\n",
      "C:\\Users\\yutan\\anaconda3\\envs\\tensorflow\\lib\\site-packages\\ipykernel_launcher.py:53: FutureWarning: Pass y=[-2.1289011e-06  2.3906239e-05  5.5148437e-05 ...  8.2982668e-05\n",
      " -3.4988992e-05 -6.3006839e-05], sr=16000 as keyword args. From version 0.10 passing these as positional arguments will result in an error\n"
     ]
    },
    {
     "data": {
      "text/plain": [
       "<matplotlib.image.AxesImage at 0x1f9cf5eba20>"
      ]
     },
     "execution_count": 46,
     "metadata": {},
     "output_type": "execute_result"
    },
    {
     "data": {
      "image/png": "[encoded data removed]",
      "text/plain": [
       "<Figure size 432x288 with 1 Axes>"
      ]
     },
     "metadata": {
      "needs_background": "light"
     },
     "output_type": "display_data"
    }
   ],
   "source": [
    "# 내가 확인 할 부분\n",
    "idx = 1\n",
    "\n",
    "# Create path from given filename and target item\n",
    "path = '/'.join([dataset_path, target_list[int(y_orig_train[idx])], \n",
    "            filenames_train[idx]])\n",
    "\n",
    "# mfcc 만들기\n",
    "mfccs = get_librosa_mfcc(path)\n",
    "\n",
    "# MFCC 그림으로 보기\n",
    "fig = plt.figure()\n",
    "plt.imshow(mfccs, cmap='inferno', origin='lower')\n",
    "\n",
    "# 소리 확인\n",
    "# print(target_list[int(y_orig_train[idx])])\n",
    "# print(path)\n",
    "# playsound(path)"
   ]
  },
  {
   "cell_type": "code",
   "execution_count": 47,
   "metadata": {
    "executionInfo": {
     "elapsed": 25,
     "status": "ok",
     "timestamp": 1648628743214,
     "user": {
      "displayName": "김유탄",
      "userId": "04011767612525493979"
     },
     "user_tz": -540
    },
    "id": "2O53qDlmF6pp"
   },
   "outputs": [],
   "source": [
    "# 학습 하기 전에 미리 모든 소리에 대해서 feature 추출해서 준비 해두는 단계, inpu을 맞추려고 \n",
    "def extract_features(in_files, in_y):\n",
    "    prob_cnt = 0\n",
    "    out_x = []\n",
    "    out_y = []\n",
    "        \n",
    "    for index, filename in enumerate(in_files):\n",
    "    \n",
    "        # Create path from given filename and target item\n",
    "        path = \"/\".join([dataset_path, target_list[int(in_y[index])], \n",
    "                    filename])\n",
    "        \n",
    "        # Check to make sure we're reading a .wav file\n",
    "        if not path.endswith('.wav'):\n",
    "            continue\n",
    "\n",
    "        # Create MFCCs\n",
    "        mfccs = get_librosa_mfcc(path)\n",
    "        print(mfccs.shape)\n",
    "\n",
    "        if mfccs.shape[1] == len_mfcc:\n",
    "            out_x.append(mfccs)\n",
    "            out_y.append(in_y[index])\n",
    "        else:\n",
    "            print('Dropped:', index, mfccs.shape)\n",
    "            prob_cnt += 1\n",
    "            \n",
    "    return out_x, out_y, prob_cnt"
   ]
  },
  {
   "cell_type": "code",
   "execution_count": 48,
   "metadata": {
    "colab": {
     "base_uri": "https://localhost:8080/"
    },
    "executionInfo": {
     "elapsed": 26134,
     "status": "ok",
     "timestamp": 1648628769324,
     "user": {
      "displayName": "김유탄",
      "userId": "04011767612525493979"
     },
     "user_tz": -540
    },
    "id": "TVOZN9PqGHe9",
    "outputId": "f03ea1aa-68ea-4b64-d0dc-12975d729779"
   },
   "outputs": [
    {
     "name": "stderr",
     "output_type": "stream",
     "text": [
      "C:\\Users\\yutan\\anaconda3\\envs\\tensorflow\\lib\\site-packages\\ipykernel_launcher.py:24: FutureWarning: Pass sr=16000 as keyword args. From version 0.10 passing these as positional arguments will result in an error\n",
      "C:\\Users\\yutan\\anaconda3\\envs\\tensorflow\\lib\\site-packages\\ipykernel_launcher.py:53: FutureWarning: Pass y=[-6.1035156e-05 -3.0517578e-05 -6.1035156e-05 ... -9.1552734e-05\n",
      " -1.2207031e-04 -6.1035156e-05], sr=16000 as keyword args. From version 0.10 passing these as positional arguments will result in an error\n",
      "C:\\Users\\yutan\\anaconda3\\envs\\tensorflow\\lib\\site-packages\\ipykernel_launcher.py:53: FutureWarning: Pass y=[-2.1289011e-06  2.3906239e-05  5.5148437e-05 ...  8.2982668e-05\n",
      " -3.4988992e-05 -6.3006839e-05], sr=16000 as keyword args. From version 0.10 passing these as positional arguments will result in an error\n",
      "C:\\Users\\yutan\\anaconda3\\envs\\tensorflow\\lib\\site-packages\\ipykernel_launcher.py:53: FutureWarning: Pass y=[ 0.03771973  0.00274658 -0.01461792 ...  0.00177002  0.00091553\n",
      " -0.00418091], sr=16000 as keyword args. From version 0.10 passing these as positional arguments will result in an error\n",
      "C:\\Users\\yutan\\anaconda3\\envs\\tensorflow\\lib\\site-packages\\ipykernel_launcher.py:53: FutureWarning: Pass y=[-0.00265503  0.00030518 -0.0020752  ... -0.00228882  0.0017395\n",
      "  0.00839233], sr=16000 as keyword args. From version 0.10 passing these as positional arguments will result in an error\n"
     ]
    },
    {
     "name": "stdout",
     "output_type": "stream",
     "text": [
      "(20, 38)\n",
      "(20, 38)\n",
      "(20, 38)\n",
      "(20, 38)\n"
     ]
    },
    {
     "name": "stderr",
     "output_type": "stream",
     "text": [
      "C:\\Users\\yutan\\anaconda3\\envs\\tensorflow\\lib\\site-packages\\ipykernel_launcher.py:53: FutureWarning: Pass y=[-1.7925153e-05 -2.0852025e-05  1.9776264e-06 ... -2.4186565e-04\n",
      "  1.5746638e-04 -8.5377033e-05], sr=16000 as keyword args. From version 0.10 passing these as positional arguments will result in an error\n",
      "C:\\Users\\yutan\\anaconda3\\envs\\tensorflow\\lib\\site-packages\\ipykernel_launcher.py:53: FutureWarning: Pass y=[ 3.0517578e-05  3.0517578e-05  6.1035156e-05 ...  6.1035156e-05\n",
      "  0.0000000e+00 -3.0517578e-05], sr=16000 as keyword args. From version 0.10 passing these as positional arguments will result in an error\n",
      "C:\\Users\\yutan\\anaconda3\\envs\\tensorflow\\lib\\site-packages\\ipykernel_launcher.py:53: FutureWarning: Pass y=[ 0.00408936  0.00167847 -0.00265503 ... -0.00143433 -0.00241089\n",
      " -0.00558472], sr=16000 as keyword args. From version 0.10 passing these as positional arguments will result in an error\n",
      "C:\\Users\\yutan\\anaconda3\\envs\\tensorflow\\lib\\site-packages\\ipykernel_launcher.py:53: FutureWarning: Pass y=[ 7.0374062e-06  1.8076107e-05 -3.6700927e-05 ...  1.1979047e-03\n",
      "  1.2127894e-03  1.2025052e-03], sr=16000 as keyword args. From version 0.10 passing these as positional arguments will result in an error\n",
      "C:\\Users\\yutan\\anaconda3\\envs\\tensorflow\\lib\\site-packages\\ipykernel_launcher.py:53: FutureWarning: Pass y=[ 1.9296187e-06 -1.8845321e-05 -4.5044948e-05 ... -1.7008830e-05\n",
      " -2.4297649e-04  1.1786987e-04], sr=16000 as keyword args. From version 0.10 passing these as positional arguments will result in an error\n"
     ]
    },
    {
     "name": "stdout",
     "output_type": "stream",
     "text": [
      "(20, 38)\n",
      "(20, 38)\n",
      "(20, 38)\n",
      "(20, 38)\n"
     ]
    },
    {
     "name": "stderr",
     "output_type": "stream",
     "text": [
      "C:\\Users\\yutan\\anaconda3\\envs\\tensorflow\\lib\\site-packages\\ipykernel_launcher.py:53: FutureWarning: Pass y=[ 2.0804040e-02  2.0930463e-02  1.7636467e-02 ... -3.2261112e-06\n",
      "  2.7430528e-05  4.9304854e-05], sr=16000 as keyword args. From version 0.10 passing these as positional arguments will result in an error\n"
     ]
    },
    {
     "name": "stdout",
     "output_type": "stream",
     "text": [
      "(20, 38)\n",
      "(20, 38)\n",
      "(20, 38)\n",
      "(20, 38)\n",
      "(20, 38)\n",
      "(20, 38)\n"
     ]
    },
    {
     "name": "stderr",
     "output_type": "stream",
     "text": [
      "C:\\Users\\yutan\\anaconda3\\envs\\tensorflow\\lib\\site-packages\\ipykernel_launcher.py:53: FutureWarning: Pass y=[ 0.          0.          0.         ...  0.00015259 -0.00091553\n",
      " -0.00088501], sr=16000 as keyword args. From version 0.10 passing these as positional arguments will result in an error\n",
      "C:\\Users\\yutan\\anaconda3\\envs\\tensorflow\\lib\\site-packages\\ipykernel_launcher.py:53: FutureWarning: Pass y=[ 6.1035156e-05  6.1035156e-05  3.0517578e-05 ...  1.0681152e-03\n",
      " -9.1552734e-05  5.4931641e-04], sr=16000 as keyword args. From version 0.10 passing these as positional arguments will result in an error\n",
      "C:\\Users\\yutan\\anaconda3\\envs\\tensorflow\\lib\\site-packages\\ipykernel_launcher.py:53: FutureWarning: Pass y=[-3.0517578e-05  0.0000000e+00 -3.0517578e-05 ... -3.0517578e-05\n",
      " -3.0517578e-05  3.0517578e-05], sr=16000 as keyword args. From version 0.10 passing these as positional arguments will result in an error\n",
      "C:\\Users\\yutan\\anaconda3\\envs\\tensorflow\\lib\\site-packages\\ipykernel_launcher.py:53: FutureWarning: Pass y=[-3.0517578e-05 -3.0517578e-05  3.0517578e-05 ... -1.2207031e-03\n",
      " -1.2207031e-03 -1.2207031e-03], sr=16000 as keyword args. From version 0.10 passing these as positional arguments will result in an error\n",
      "C:\\Users\\yutan\\anaconda3\\envs\\tensorflow\\lib\\site-packages\\ipykernel_launcher.py:53: FutureWarning: Pass y=[-6.5047634e-06  7.7623918e-06  3.4048258e-05 ... -1.1161097e-04\n",
      " -8.2627288e-05 -2.3771419e-05], sr=16000 as keyword args. From version 0.10 passing these as positional arguments will result in an error\n",
      "C:\\Users\\yutan\\anaconda3\\envs\\tensorflow\\lib\\site-packages\\ipykernel_launcher.py:53: FutureWarning: Pass y=[-0.00045776 -0.00512695 -0.00466919 ... -0.00564575 -0.01538086\n",
      " -0.00201416], sr=16000 as keyword args. From version 0.10 passing these as positional arguments will result in an error\n",
      "C:\\Users\\yutan\\anaconda3\\envs\\tensorflow\\lib\\site-packages\\ipykernel_launcher.py:53: FutureWarning: Pass y=[ 3.0517578e-05  3.0517578e-05 -3.0517578e-05 ...  0.0000000e+00\n",
      " -3.0517578e-05 -9.1552734e-05], sr=16000 as keyword args. From version 0.10 passing these as positional arguments will result in an error\n"
     ]
    },
    {
     "name": "stdout",
     "output_type": "stream",
     "text": [
      "(20, 38)\n",
      "(20, 38)\n",
      "(20, 38)\n",
      "(20, 38)\n",
      "(20, 38)\n",
      "(20, 38)\n",
      "(20, 38)\n",
      "(20, 38)\n"
     ]
    },
    {
     "name": "stderr",
     "output_type": "stream",
     "text": [
      "C:\\Users\\yutan\\anaconda3\\envs\\tensorflow\\lib\\site-packages\\ipykernel_launcher.py:53: FutureWarning: Pass y=[-1.12795915e-05 -5.83746150e-05 -2.11200086e-06 ... -1.68454877e-04\n",
      " -1.17061201e-04 -7.68568643e-05], sr=16000 as keyword args. From version 0.10 passing these as positional arguments will result in an error\n",
      "C:\\Users\\yutan\\anaconda3\\envs\\tensorflow\\lib\\site-packages\\ipykernel_launcher.py:53: FutureWarning: Pass y=[-2.1728516e-02 -1.3183594e-02 -2.1362305e-04 ...  0.0000000e+00\n",
      " -3.0517578e-05 -3.0517578e-05], sr=16000 as keyword args. From version 0.10 passing these as positional arguments will result in an error\n",
      "C:\\Users\\yutan\\anaconda3\\envs\\tensorflow\\lib\\site-packages\\ipykernel_launcher.py:53: FutureWarning: Pass y=[-0.0223999  -0.00405884 -0.0088501  ... -0.00048828  0.00036621\n",
      "  0.0005188 ], sr=16000 as keyword args. From version 0.10 passing these as positional arguments will result in an error\n",
      "C:\\Users\\yutan\\anaconda3\\envs\\tensorflow\\lib\\site-packages\\ipykernel_launcher.py:53: FutureWarning: Pass y=[ 0.0000000e+00  3.0517578e-05  0.0000000e+00 ...  3.0517578e-05\n",
      " -3.0517578e-05  0.0000000e+00], sr=16000 as keyword args. From version 0.10 passing these as positional arguments will result in an error\n",
      "C:\\Users\\yutan\\anaconda3\\envs\\tensorflow\\lib\\site-packages\\ipykernel_launcher.py:53: FutureWarning: Pass y=[ 0.003479   -0.00302124  0.00253296 ... -0.00076294  0.00430298\n",
      "  0.00500488], sr=16000 as keyword args. From version 0.10 passing these as positional arguments will result in an error\n",
      "C:\\Users\\yutan\\anaconda3\\envs\\tensorflow\\lib\\site-packages\\ipykernel_launcher.py:53: FutureWarning: Pass y=[-2.0272713e-05 -4.4993158e-06 -2.4988358e-05 ...  8.1055359e-06\n",
      " -1.1349176e-05 -2.6641303e-05], sr=16000 as keyword args. From version 0.10 passing these as positional arguments will result in an error\n"
     ]
    },
    {
     "name": "stdout",
     "output_type": "stream",
     "text": [
      "(20, 38)\n",
      "(20, 38)\n"
     ]
    },
    {
     "name": "stderr",
     "output_type": "stream",
     "text": [
      "C:\\Users\\yutan\\anaconda3\\envs\\tensorflow\\lib\\site-packages\\ipykernel_launcher.py:53: FutureWarning: Pass y=[-3.0252735e-05 -1.7874880e-05  4.3341297e-06 ...  4.1940371e-03\n",
      "  2.4395860e-03  4.5137610e-03], sr=16000 as keyword args. From version 0.10 passing these as positional arguments will result in an error\n",
      "C:\\Users\\yutan\\anaconda3\\envs\\tensorflow\\lib\\site-packages\\ipykernel_launcher.py:53: FutureWarning: Pass y=[-1.18172611e-05  4.60975207e-06 -1.42204835e-05 ...  2.34641848e-04\n",
      "  2.59790308e-04  3.68386274e-04], sr=16000 as keyword args. From version 0.10 passing these as positional arguments will result in an error\n",
      "C:\\Users\\yutan\\anaconda3\\envs\\tensorflow\\lib\\site-packages\\ipykernel_launcher.py:53: FutureWarning: Pass y=[0.00372314 0.0116272  0.01925659 ... 0.00088501 0.00024414 0.00039673], sr=16000 as keyword args. From version 0.10 passing these as positional arguments will result in an error\n",
      "C:\\Users\\yutan\\anaconda3\\envs\\tensorflow\\lib\\site-packages\\ipykernel_launcher.py:53: FutureWarning: Pass y=[ 1.4404297e-02  1.2847900e-02  4.7302246e-03 ...  3.6621094e-04\n",
      " -6.1035156e-05 -1.8310547e-04], sr=16000 as keyword args. From version 0.10 passing these as positional arguments will result in an error\n"
     ]
    },
    {
     "name": "stdout",
     "output_type": "stream",
     "text": [
      "(20, 38)\n",
      "(20, 38)\n",
      "(20, 38)\n",
      "(20, 38)\n",
      "(20, 38)\n",
      "(20, 38)\n",
      "(20, 38)\n",
      "(20, 38)\n"
     ]
    },
    {
     "name": "stderr",
     "output_type": "stream",
     "text": [
      "C:\\Users\\yutan\\anaconda3\\envs\\tensorflow\\lib\\site-packages\\ipykernel_launcher.py:53: FutureWarning: Pass y=[ 3.6316931e-05  2.0325608e-06  1.0200778e-06 ...  8.8387562e-05\n",
      " -2.0715412e-04  3.1549763e-04], sr=16000 as keyword args. From version 0.10 passing these as positional arguments will result in an error\n",
      "C:\\Users\\yutan\\anaconda3\\envs\\tensorflow\\lib\\site-packages\\ipykernel_launcher.py:53: FutureWarning: Pass y=[ 1.0192871e-02  9.6740723e-03  8.9111328e-03 ...  0.0000000e+00\n",
      "  0.0000000e+00 -3.0517578e-05], sr=16000 as keyword args. From version 0.10 passing these as positional arguments will result in an error\n",
      "C:\\Users\\yutan\\anaconda3\\envs\\tensorflow\\lib\\site-packages\\ipykernel_launcher.py:53: FutureWarning: Pass y=[-1.7364502e-02 -1.8096924e-02 -7.0495605e-03 ...  0.0000000e+00\n",
      "  0.0000000e+00 -3.0517578e-05], sr=16000 as keyword args. From version 0.10 passing these as positional arguments will result in an error\n",
      "C:\\Users\\yutan\\anaconda3\\envs\\tensorflow\\lib\\site-packages\\ipykernel_launcher.py:53: FutureWarning: Pass y=[-0.00341797  0.00314331  0.00286865 ... -0.00994873 -0.00137329\n",
      " -0.00045776], sr=16000 as keyword args. From version 0.10 passing these as positional arguments will result in an error\n",
      "C:\\Users\\yutan\\anaconda3\\envs\\tensorflow\\lib\\site-packages\\ipykernel_launcher.py:53: FutureWarning: Pass y=[ 0.00067139 -0.00775146 -0.00048828 ... -0.00137329 -0.0100708\n",
      "  0.00296021], sr=16000 as keyword args. From version 0.10 passing these as positional arguments will result in an error\n",
      "C:\\Users\\yutan\\anaconda3\\envs\\tensorflow\\lib\\site-packages\\ipykernel_launcher.py:53: FutureWarning: Pass y=[4.9296326e-05 3.1078682e-06 5.2974523e-05 ... 1.0144196e-05 3.2503056e-05\n",
      " 2.3229438e-06], sr=16000 as keyword args. From version 0.10 passing these as positional arguments will result in an error\n",
      "C:\\Users\\yutan\\anaconda3\\envs\\tensorflow\\lib\\site-packages\\ipykernel_launcher.py:53: FutureWarning: Pass y=[ 0.05438232  0.04794312  0.03689575 ... -0.0027771  -0.00588989\n",
      " -0.00909424], sr=16000 as keyword args. From version 0.10 passing these as positional arguments will result in an error\n",
      "C:\\Users\\yutan\\anaconda3\\envs\\tensorflow\\lib\\site-packages\\ipykernel_launcher.py:53: FutureWarning: Pass y=[-3.0517578e-05 -6.1035156e-05 -3.0517578e-05 ...  3.0517578e-05\n",
      "  3.0517578e-05  0.0000000e+00], sr=16000 as keyword args. From version 0.10 passing these as positional arguments will result in an error\n",
      "C:\\Users\\yutan\\anaconda3\\envs\\tensorflow\\lib\\site-packages\\ipykernel_launcher.py:53: FutureWarning: Pass y=[ 6.9885254e-03 -1.2176514e-02 -5.0048828e-03 ... -6.1035156e-03\n",
      " -1.0375977e-03  9.1552734e-05], sr=16000 as keyword args. From version 0.10 passing these as positional arguments will result in an error\n"
     ]
    },
    {
     "name": "stdout",
     "output_type": "stream",
     "text": [
      "(20, 38)\n",
      "(20, 38)\n",
      "(20, 38)\n",
      "(20, 38)\n",
      "(20, 38)\n",
      "(20, 38)\n"
     ]
    },
    {
     "name": "stderr",
     "output_type": "stream",
     "text": [
      "C:\\Users\\yutan\\anaconda3\\envs\\tensorflow\\lib\\site-packages\\ipykernel_launcher.py:53: FutureWarning: Pass y=[ 5.5527067e-05  1.7852402e-05 -3.2495675e-05 ... -2.3504945e-05\n",
      " -3.7601811e-05 -2.1724758e-05], sr=16000 as keyword args. From version 0.10 passing these as positional arguments will result in an error\n",
      "C:\\Users\\yutan\\anaconda3\\envs\\tensorflow\\lib\\site-packages\\ipykernel_launcher.py:53: FutureWarning: Pass y=[ 1.2535710e-02  6.2887520e-03  7.0161433e-03 ... -3.3155673e-05\n",
      " -1.9729963e-05  8.1406921e-07], sr=16000 as keyword args. From version 0.10 passing these as positional arguments will result in an error\n"
     ]
    },
    {
     "name": "stdout",
     "output_type": "stream",
     "text": [
      "(20, 38)\n",
      "(20, 38)\n",
      "(20, 38)\n",
      "(20, 38)\n",
      "(20, 38)\n",
      "(20, 38)\n"
     ]
    },
    {
     "name": "stderr",
     "output_type": "stream",
     "text": [
      "C:\\Users\\yutan\\anaconda3\\envs\\tensorflow\\lib\\site-packages\\ipykernel_launcher.py:53: FutureWarning: Pass y=[ 1.9407031e-05  4.2907348e-05 -1.0706498e-05 ...  1.2151510e-03\n",
      "  1.4510992e-03  1.3916596e-03], sr=16000 as keyword args. From version 0.10 passing these as positional arguments will result in an error\n",
      "C:\\Users\\yutan\\anaconda3\\envs\\tensorflow\\lib\\site-packages\\ipykernel_launcher.py:53: FutureWarning: Pass y=[-6.1035156e-05 -3.0517578e-05 -3.0517578e-05 ... -9.1552734e-05\n",
      "  1.8310547e-04 -3.3569336e-04], sr=16000 as keyword args. From version 0.10 passing these as positional arguments will result in an error\n",
      "C:\\Users\\yutan\\anaconda3\\envs\\tensorflow\\lib\\site-packages\\ipykernel_launcher.py:53: FutureWarning: Pass y=[-3.0517578e-05 -3.0517578e-05  0.0000000e+00 ... -3.0517578e-05\n",
      " -3.0517578e-05  0.0000000e+00], sr=16000 as keyword args. From version 0.10 passing these as positional arguments will result in an error\n",
      "C:\\Users\\yutan\\anaconda3\\envs\\tensorflow\\lib\\site-packages\\ipykernel_launcher.py:53: FutureWarning: Pass y=[-3.0517578e-05  0.0000000e+00 -3.0517578e-05 ...  0.0000000e+00\n",
      "  0.0000000e+00 -3.0517578e-05], sr=16000 as keyword args. From version 0.10 passing these as positional arguments will result in an error\n",
      "C:\\Users\\yutan\\anaconda3\\envs\\tensorflow\\lib\\site-packages\\ipykernel_launcher.py:53: FutureWarning: Pass y=[3.0517578e-05 3.0517578e-05 3.0517578e-05 ... 6.1035156e-05 6.1035156e-05\n",
      " 3.0517578e-05], sr=16000 as keyword args. From version 0.10 passing these as positional arguments will result in an error\n",
      "C:\\Users\\yutan\\anaconda3\\envs\\tensorflow\\lib\\site-packages\\ipykernel_launcher.py:53: FutureWarning: Pass y=[-4.0919567e-06  2.8636591e-06 -1.0595651e-05 ... -9.0222366e-06\n",
      "  3.1964055e-06 -3.2794604e-05], sr=16000 as keyword args. From version 0.10 passing these as positional arguments will result in an error\n"
     ]
    },
    {
     "name": "stdout",
     "output_type": "stream",
     "text": [
      "(20, 38)\n",
      "(20, 38)\n",
      "(20, 38)\n",
      "(20, 38)\n"
     ]
    },
    {
     "name": "stderr",
     "output_type": "stream",
     "text": [
      "C:\\Users\\yutan\\anaconda3\\envs\\tensorflow\\lib\\site-packages\\ipykernel_launcher.py:53: FutureWarning: Pass y=[-2.4353378e-05  1.3616614e-06 -1.5147970e-05 ... -7.0243253e-04\n",
      "  1.0792071e-03 -3.8690635e-04], sr=16000 as keyword args. From version 0.10 passing these as positional arguments will result in an error\n",
      "C:\\Users\\yutan\\anaconda3\\envs\\tensorflow\\lib\\site-packages\\ipykernel_launcher.py:53: FutureWarning: Pass y=[ 0.0000000e+00  3.0517578e-05  0.0000000e+00 ... -2.7465820e-04\n",
      " -1.8310547e-04 -9.1552734e-05], sr=16000 as keyword args. From version 0.10 passing these as positional arguments will result in an error\n",
      "C:\\Users\\yutan\\anaconda3\\envs\\tensorflow\\lib\\site-packages\\ipykernel_launcher.py:53: FutureWarning: Pass y=[-0.00305176 -0.00384521 -0.00534058 ...  0.00228882  0.0020752\n",
      " -0.00613403], sr=16000 as keyword args. From version 0.10 passing these as positional arguments will result in an error\n",
      "C:\\Users\\yutan\\anaconda3\\envs\\tensorflow\\lib\\site-packages\\ipykernel_launcher.py:53: FutureWarning: Pass y=[-0.00041631  0.00057038 -0.00032767 ... -0.000595   -0.00042813\n",
      "  0.0005451 ], sr=16000 as keyword args. From version 0.10 passing these as positional arguments will result in an error\n",
      "C:\\Users\\yutan\\anaconda3\\envs\\tensorflow\\lib\\site-packages\\ipykernel_launcher.py:53: FutureWarning: Pass y=[-7.9112397e-06  1.5037444e-06 -2.4552584e-05 ...  3.8324335e-05\n",
      "  3.6294379e-05  1.8558025e-05], sr=16000 as keyword args. From version 0.10 passing these as positional arguments will result in an error\n"
     ]
    },
    {
     "name": "stdout",
     "output_type": "stream",
     "text": [
      "(20, 38)\n",
      "(20, 38)\n",
      "(20, 38)\n"
     ]
    },
    {
     "name": "stderr",
     "output_type": "stream",
     "text": [
      "C:\\Users\\yutan\\anaconda3\\envs\\tensorflow\\lib\\site-packages\\ipykernel_launcher.py:53: FutureWarning: Pass y=[-0.00024414  0.01065063  0.00323486 ... -0.00128174  0.00497437\n",
      " -0.00048828], sr=16000 as keyword args. From version 0.10 passing these as positional arguments will result in an error\n",
      "C:\\Users\\yutan\\anaconda3\\envs\\tensorflow\\lib\\site-packages\\ipykernel_launcher.py:53: FutureWarning: Pass y=[-6.4401247e-05 -3.0612948e-05 -5.8257207e-05 ...  2.4323156e-06\n",
      " -5.0654571e-06  1.4281187e-05], sr=16000 as keyword args. From version 0.10 passing these as positional arguments will result in an error\n",
      "C:\\Users\\yutan\\anaconda3\\envs\\tensorflow\\lib\\site-packages\\ipykernel_launcher.py:53: FutureWarning: Pass y=[-1.8310547e-04 -7.5073242e-03  1.3427734e-03 ... -1.0681152e-03\n",
      "  3.2348633e-03 -6.1035156e-05], sr=16000 as keyword args. From version 0.10 passing these as positional arguments will result in an error\n",
      "C:\\Users\\yutan\\anaconda3\\envs\\tensorflow\\lib\\site-packages\\ipykernel_launcher.py:53: FutureWarning: Pass y=[-1.2542725e-02 -6.3171387e-03 -7.0190430e-03 ...  3.0517578e-05\n",
      "  0.0000000e+00 -3.0517578e-05], sr=16000 as keyword args. From version 0.10 passing these as positional arguments will result in an error\n",
      "C:\\Users\\yutan\\anaconda3\\envs\\tensorflow\\lib\\site-packages\\ipykernel_launcher.py:53: FutureWarning: Pass y=[ 0.0000000e+00 -3.0517578e-05  0.0000000e+00 ... -3.0517578e-05\n",
      " -3.0517578e-05  0.0000000e+00], sr=16000 as keyword args. From version 0.10 passing these as positional arguments will result in an error\n"
     ]
    },
    {
     "name": "stdout",
     "output_type": "stream",
     "text": [
      "(20, 38)\n",
      "(20, 38)\n",
      "(20, 38)\n",
      "(20, 38)\n",
      "(20, 38)\n"
     ]
    },
    {
     "name": "stderr",
     "output_type": "stream",
     "text": [
      "C:\\Users\\yutan\\anaconda3\\envs\\tensorflow\\lib\\site-packages\\ipykernel_launcher.py:53: FutureWarning: Pass y=[-1.1214538e-02 -2.2023167e-02 -4.0577773e-02 ... -6.9878301e-06\n",
      " -1.2929967e-06  4.7486474e-06], sr=16000 as keyword args. From version 0.10 passing these as positional arguments will result in an error\n",
      "C:\\Users\\yutan\\anaconda3\\envs\\tensorflow\\lib\\site-packages\\ipykernel_launcher.py:53: FutureWarning: Pass y=[-1.1940515e-05  4.0477942e-05  6.4162457e-08 ...  7.0333836e-04\n",
      "  6.3268654e-04  5.3365721e-04], sr=16000 as keyword args. From version 0.10 passing these as positional arguments will result in an error\n",
      "C:\\Users\\yutan\\anaconda3\\envs\\tensorflow\\lib\\site-packages\\ipykernel_launcher.py:53: FutureWarning: Pass y=[-3.0517578e-05 -3.0517578e-05 -3.0517578e-05 ... -2.4414062e-04\n",
      " -9.1552734e-05  1.2207031e-04], sr=16000 as keyword args. From version 0.10 passing these as positional arguments will result in an error\n",
      "C:\\Users\\yutan\\anaconda3\\envs\\tensorflow\\lib\\site-packages\\ipykernel_launcher.py:53: FutureWarning: Pass y=[-8.06005664e-06 -5.69416443e-05 -4.39766955e-05 ... -5.58364191e-05\n",
      " -2.78441912e-05 -1.21124085e-05], sr=16000 as keyword args. From version 0.10 passing these as positional arguments will result in an error\n"
     ]
    },
    {
     "name": "stdout",
     "output_type": "stream",
     "text": [
      "(20, 38)\n",
      "(20, 38)\n",
      "(20, 38)\n"
     ]
    },
    {
     "name": "stderr",
     "output_type": "stream",
     "text": [
      "C:\\Users\\yutan\\anaconda3\\envs\\tensorflow\\lib\\site-packages\\ipykernel_launcher.py:53: FutureWarning: Pass y=[ 6.0410966e-06 -3.0001083e-06  1.7139600e-05 ... -6.0278241e-04\n",
      "  8.1474008e-04 -7.6476572e-04], sr=16000 as keyword args. From version 0.10 passing these as positional arguments will result in an error\n",
      "C:\\Users\\yutan\\anaconda3\\envs\\tensorflow\\lib\\site-packages\\ipykernel_launcher.py:53: FutureWarning: Pass y=[-2.6301020e-06 -4.6816829e-05 -5.3727017e-05 ... -3.7459638e-06\n",
      "  6.9296239e-06  5.5940091e-05], sr=16000 as keyword args. From version 0.10 passing these as positional arguments will result in an error\n",
      "C:\\Users\\yutan\\anaconda3\\envs\\tensorflow\\lib\\site-packages\\ipykernel_launcher.py:53: FutureWarning: Pass y=[-0.00527954  0.00137329  0.01846313 ... -0.00018311  0.00073242\n",
      " -0.00018311], sr=16000 as keyword args. From version 0.10 passing these as positional arguments will result in an error\n",
      "C:\\Users\\yutan\\anaconda3\\envs\\tensorflow\\lib\\site-packages\\ipykernel_launcher.py:53: FutureWarning: Pass y=[ 3.3640779e-05 -6.8009649e-07  7.0318270e-06 ... -1.0347943e-05\n",
      "  3.3257289e-05  2.8671768e-05], sr=16000 as keyword args. From version 0.10 passing these as positional arguments will result in an error\n"
     ]
    },
    {
     "name": "stdout",
     "output_type": "stream",
     "text": [
      "(20, 38)\n",
      "(20, 38)\n",
      "(20, 38)\n",
      "(20, 38)\n"
     ]
    },
    {
     "name": "stderr",
     "output_type": "stream",
     "text": [
      "C:\\Users\\yutan\\anaconda3\\envs\\tensorflow\\lib\\site-packages\\ipykernel_launcher.py:53: FutureWarning: Pass y=[-6.6109328e-06  1.7664763e-05  2.8703704e-05 ...  4.0045840e-04\n",
      "  4.3024606e-04  4.5464604e-04], sr=16000 as keyword args. From version 0.10 passing these as positional arguments will result in an error\n",
      "C:\\Users\\yutan\\anaconda3\\envs\\tensorflow\\lib\\site-packages\\ipykernel_launcher.py:53: FutureWarning: Pass y=[-3.4744299e-03 -1.6445820e-03 -4.7122451e-04 ...  3.5915880e-05\n",
      "  4.8075945e-05 -1.9265439e-05], sr=16000 as keyword args. From version 0.10 passing these as positional arguments will result in an error\n",
      "C:\\Users\\yutan\\anaconda3\\envs\\tensorflow\\lib\\site-packages\\ipykernel_launcher.py:53: FutureWarning: Pass y=[ 8.1098545e-07 -3.5662456e-06  7.0742713e-06 ...  1.3187242e-04\n",
      " -4.9300241e-05 -1.3682568e-05], sr=16000 as keyword args. From version 0.10 passing these as positional arguments will result in an error\n"
     ]
    },
    {
     "name": "stdout",
     "output_type": "stream",
     "text": [
      "(20, 38)\n",
      "(20, 38)\n",
      "(20, 38)\n"
     ]
    },
    {
     "name": "stderr",
     "output_type": "stream",
     "text": [
      "C:\\Users\\yutan\\anaconda3\\envs\\tensorflow\\lib\\site-packages\\ipykernel_launcher.py:53: FutureWarning: Pass y=[ 1.3775801e-05  1.5486356e-05  2.4390225e-05 ... -4.4621163e-04\n",
      " -2.0805841e-04 -1.5467955e-04], sr=16000 as keyword args. From version 0.10 passing these as positional arguments will result in an error\n",
      "C:\\Users\\yutan\\anaconda3\\envs\\tensorflow\\lib\\site-packages\\ipykernel_launcher.py:53: FutureWarning: Pass y=[-0.00164795 -0.00253296  0.00146484 ...  0.00100708  0.00161743\n",
      "  0.01403809], sr=16000 as keyword args. From version 0.10 passing these as positional arguments will result in an error\n",
      "C:\\Users\\yutan\\anaconda3\\envs\\tensorflow\\lib\\site-packages\\ipykernel_launcher.py:53: FutureWarning: Pass y=[-0.06097412 -0.04348755 -0.03057861 ... -0.00042725  0.00863647\n",
      "  0.00131226], sr=16000 as keyword args. From version 0.10 passing these as positional arguments will result in an error\n",
      "C:\\Users\\yutan\\anaconda3\\envs\\tensorflow\\lib\\site-packages\\ipykernel_launcher.py:53: FutureWarning: Pass y=[-0.00038872 -0.00034091 -0.00040217 ... -0.0011116  -0.00012344\n",
      " -0.00022203], sr=16000 as keyword args. From version 0.10 passing these as positional arguments will result in an error\n",
      "C:\\Users\\yutan\\anaconda3\\envs\\tensorflow\\lib\\site-packages\\ipykernel_launcher.py:53: FutureWarning: Pass y=[-3.4300502e-02 -1.1847337e-02 -8.0928480e-04 ...  7.5977776e-05\n",
      "  6.2010986e-05  8.5197287e-05], sr=16000 as keyword args. From version 0.10 passing these as positional arguments will result in an error\n"
     ]
    },
    {
     "name": "stdout",
     "output_type": "stream",
     "text": [
      "(20, 38)\n",
      "(20, 38)\n",
      "(20, 38)\n",
      "(20, 38)\n",
      "(20, 38)\n",
      "(20, 38)\n",
      "(20, 38)\n",
      "(20, 38)\n",
      "(20, 38)\n"
     ]
    },
    {
     "name": "stderr",
     "output_type": "stream",
     "text": [
      "C:\\Users\\yutan\\anaconda3\\envs\\tensorflow\\lib\\site-packages\\ipykernel_launcher.py:53: FutureWarning: Pass y=[ 6.3154262e-06  1.6456173e-05  2.7375056e-05 ...  7.8781435e-05\n",
      " -1.8516055e-04  1.9781332e-04], sr=16000 as keyword args. From version 0.10 passing these as positional arguments will result in an error\n",
      "C:\\Users\\yutan\\anaconda3\\envs\\tensorflow\\lib\\site-packages\\ipykernel_launcher.py:53: FutureWarning: Pass y=[ 0.00671387  0.00119019 -0.00360107 ...  0.00134277  0.0010376\n",
      " -0.00531006], sr=16000 as keyword args. From version 0.10 passing these as positional arguments will result in an error\n",
      "C:\\Users\\yutan\\anaconda3\\envs\\tensorflow\\lib\\site-packages\\ipykernel_launcher.py:53: FutureWarning: Pass y=[ 0.00906372  0.00894165  0.01071167 ... -0.00082397 -0.00030518\n",
      " -0.00061035], sr=16000 as keyword args. From version 0.10 passing these as positional arguments will result in an error\n",
      "C:\\Users\\yutan\\anaconda3\\envs\\tensorflow\\lib\\site-packages\\ipykernel_launcher.py:53: FutureWarning: Pass y=[-2.0838062e-05  6.4706433e-07  3.3669461e-05 ... -3.1886426e-05\n",
      " -3.1126081e-05 -2.8697599e-05], sr=16000 as keyword args. From version 0.10 passing these as positional arguments will result in an error\n",
      "C:\\Users\\yutan\\anaconda3\\envs\\tensorflow\\lib\\site-packages\\ipykernel_launcher.py:53: FutureWarning: Pass y=[ 0.00686646 -0.02261353 -0.04058838 ...  0.00073242 -0.00079346\n",
      " -0.00085449], sr=16000 as keyword args. From version 0.10 passing these as positional arguments will result in an error\n",
      "C:\\Users\\yutan\\anaconda3\\envs\\tensorflow\\lib\\site-packages\\ipykernel_launcher.py:53: FutureWarning: Pass y=[ 0.0000000e+00  9.1552734e-05  0.0000000e+00 ...  0.0000000e+00\n",
      " -3.0517578e-05  0.0000000e+00], sr=16000 as keyword args. From version 0.10 passing these as positional arguments will result in an error\n"
     ]
    },
    {
     "name": "stdout",
     "output_type": "stream",
     "text": [
      "(20, 38)\n",
      "(20, 38)\n",
      "(20, 38)\n",
      "(20, 38)\n",
      "(20, 38)\n"
     ]
    },
    {
     "name": "stderr",
     "output_type": "stream",
     "text": [
      "C:\\Users\\yutan\\anaconda3\\envs\\tensorflow\\lib\\site-packages\\ipykernel_launcher.py:53: FutureWarning: Pass y=[ 2.9727878e-05 -1.5496842e-05  1.9945988e-05 ... -2.7356333e-05\n",
      " -7.7163922e-06  2.8619615e-06], sr=16000 as keyword args. From version 0.10 passing these as positional arguments will result in an error\n",
      "C:\\Users\\yutan\\anaconda3\\envs\\tensorflow\\lib\\site-packages\\ipykernel_launcher.py:53: FutureWarning: Pass y=[-2.2583008e-03 -3.5400391e-03  2.1972656e-03 ... -9.1552734e-05\n",
      " -2.1362305e-04 -1.8615723e-03], sr=16000 as keyword args. From version 0.10 passing these as positional arguments will result in an error\n"
     ]
    },
    {
     "name": "stdout",
     "output_type": "stream",
     "text": [
      "(20, 38)\n",
      "(20, 38)\n",
      "(20, 38)\n",
      "(20, 38)\n"
     ]
    },
    {
     "name": "stderr",
     "output_type": "stream",
     "text": [
      "C:\\Users\\yutan\\anaconda3\\envs\\tensorflow\\lib\\site-packages\\ipykernel_launcher.py:53: FutureWarning: Pass y=[ 0.01629639  0.0241394   0.01239014 ...  0.00418091 -0.00170898\n",
      "  0.00576782], sr=16000 as keyword args. From version 0.10 passing these as positional arguments will result in an error\n",
      "C:\\Users\\yutan\\anaconda3\\envs\\tensorflow\\lib\\site-packages\\ipykernel_launcher.py:53: FutureWarning: Pass y=[-2.7404785e-02 -2.4536133e-02 -1.9836426e-02 ...  6.7138672e-04\n",
      "  3.0517578e-05 -3.6621094e-04], sr=16000 as keyword args. From version 0.10 passing these as positional arguments will result in an error\n",
      "C:\\Users\\yutan\\anaconda3\\envs\\tensorflow\\lib\\site-packages\\ipykernel_launcher.py:53: FutureWarning: Pass y=[-4.0917465e-05 -9.0818285e-06 -2.4987914e-05 ...  7.7096367e-05\n",
      " -1.6501540e-04  7.6032120e-05], sr=16000 as keyword args. From version 0.10 passing these as positional arguments will result in an error\n",
      "C:\\Users\\yutan\\anaconda3\\envs\\tensorflow\\lib\\site-packages\\ipykernel_launcher.py:53: FutureWarning: Pass y=[ 0.02859497  0.02514648  0.0163269  ... -0.00036621 -0.00106812\n",
      " -0.0027771 ], sr=16000 as keyword args. From version 0.10 passing these as positional arguments will result in an error\n"
     ]
    },
    {
     "name": "stdout",
     "output_type": "stream",
     "text": [
      "(20, 38)\n",
      "(20, 38)\n",
      "(20, 38)\n",
      "(20, 38)\n",
      "(20, 38)\n"
     ]
    },
    {
     "name": "stderr",
     "output_type": "stream",
     "text": [
      "C:\\Users\\yutan\\anaconda3\\envs\\tensorflow\\lib\\site-packages\\ipykernel_launcher.py:53: FutureWarning: Pass y=[ 5.6439579e-02  6.0887344e-02  5.2640736e-02 ... -4.8554568e-05\n",
      " -6.9232156e-05 -8.7936212e-05], sr=16000 as keyword args. From version 0.10 passing these as positional arguments will result in an error\n",
      "C:\\Users\\yutan\\anaconda3\\envs\\tensorflow\\lib\\site-packages\\ipykernel_launcher.py:53: FutureWarning: Pass y=[-0.00274658 -0.00369263 -0.01223755 ... -0.00256348  0.00463867\n",
      " -0.0038147 ], sr=16000 as keyword args. From version 0.10 passing these as positional arguments will result in an error\n",
      "C:\\Users\\yutan\\anaconda3\\envs\\tensorflow\\lib\\site-packages\\ipykernel_launcher.py:53: FutureWarning: Pass y=[ 0.00119019 -0.00518799 -0.0005188  ...  0.00134277 -0.00393677\n",
      " -0.0038147 ], sr=16000 as keyword args. From version 0.10 passing these as positional arguments will result in an error\n",
      "C:\\Users\\yutan\\anaconda3\\envs\\tensorflow\\lib\\site-packages\\ipykernel_launcher.py:53: FutureWarning: Pass y=[-9.1552734e-05  3.9672852e-04  2.4719238e-03 ...  0.0000000e+00\n",
      " -7.3242188e-04 -1.2207031e-04], sr=16000 as keyword args. From version 0.10 passing these as positional arguments will result in an error\n",
      "C:\\Users\\yutan\\anaconda3\\envs\\tensorflow\\lib\\site-packages\\ipykernel_launcher.py:53: FutureWarning: Pass y=[ 3.1622309e-05  3.0484069e-05  5.2886804e-05 ... -1.0408943e-05\n",
      " -2.5474948e-05 -1.6957065e-06], sr=16000 as keyword args. From version 0.10 passing these as positional arguments will result in an error\n",
      "C:\\Users\\yutan\\anaconda3\\envs\\tensorflow\\lib\\site-packages\\ipykernel_launcher.py:53: FutureWarning: Pass y=[-0.0012207  -0.00057983 -0.009552   ... -0.00134277 -0.00878906\n",
      " -0.00326538], sr=16000 as keyword args. From version 0.10 passing these as positional arguments will result in an error\n",
      "C:\\Users\\yutan\\anaconda3\\envs\\tensorflow\\lib\\site-packages\\ipykernel_launcher.py:53: FutureWarning: Pass y=[-3.0517578e-05 -3.0517578e-05 -6.1035156e-05 ...  2.1362305e-04\n",
      "  2.4414062e-04  1.5258789e-04], sr=16000 as keyword args. From version 0.10 passing these as positional arguments will result in an error\n",
      "C:\\Users\\yutan\\anaconda3\\envs\\tensorflow\\lib\\site-packages\\ipykernel_launcher.py:53: FutureWarning: Pass y=[ 0.0000000e+00  0.0000000e+00 -3.0517578e-05 ... -1.8310547e-04\n",
      "  3.0517578e-04  6.1035156e-05], sr=16000 as keyword args. From version 0.10 passing these as positional arguments will result in an error\n",
      "C:\\Users\\yutan\\anaconda3\\envs\\tensorflow\\lib\\site-packages\\ipykernel_launcher.py:53: FutureWarning: Pass y=[-0.02566528 -0.02859497 -0.02612305 ... -0.00027466  0.0012207\n",
      " -0.00082397], sr=16000 as keyword args. From version 0.10 passing these as positional arguments will result in an error\n"
     ]
    },
    {
     "name": "stdout",
     "output_type": "stream",
     "text": [
      "(20, 38)\n",
      "(20, 38)\n",
      "(20, 38)\n",
      "(20, 38)\n",
      "(20, 38)\n",
      "(20, 38)\n",
      "(20, 38)\n",
      "(20, 38)\n",
      "(20, 38)\n"
     ]
    },
    {
     "name": "stderr",
     "output_type": "stream",
     "text": [
      "C:\\Users\\yutan\\anaconda3\\envs\\tensorflow\\lib\\site-packages\\ipykernel_launcher.py:53: FutureWarning: Pass y=[-1.1502436e-01 -7.8603901e-02 -2.2519700e-02 ... -1.2820427e-05\n",
      " -3.4666118e-05 -2.1372540e-05], sr=16000 as keyword args. From version 0.10 passing these as positional arguments will result in an error\n",
      "C:\\Users\\yutan\\anaconda3\\envs\\tensorflow\\lib\\site-packages\\ipykernel_launcher.py:53: FutureWarning: Pass y=[ 3.0517578e-05  0.0000000e+00 -6.1035156e-05 ...  2.7465820e-04\n",
      "  3.3569336e-04 -8.8500977e-04], sr=16000 as keyword args. From version 0.10 passing these as positional arguments will result in an error\n",
      "C:\\Users\\yutan\\anaconda3\\envs\\tensorflow\\lib\\site-packages\\ipykernel_launcher.py:53: FutureWarning: Pass y=[ 3.4886536e-05  6.4048650e-06 -2.3310246e-05 ...  3.1758449e-05\n",
      "  1.2754948e-05 -2.1441742e-06], sr=16000 as keyword args. From version 0.10 passing these as positional arguments will result in an error\n"
     ]
    },
    {
     "name": "stdout",
     "output_type": "stream",
     "text": [
      "(20, 38)\n",
      "(20, 38)\n",
      "(20, 38)\n"
     ]
    },
    {
     "name": "stderr",
     "output_type": "stream",
     "text": [
      "C:\\Users\\yutan\\anaconda3\\envs\\tensorflow\\lib\\site-packages\\ipykernel_launcher.py:53: FutureWarning: Pass y=[-8.06947282e-05 -5.72361387e-05 -7.43170531e-05 ... -1.10272806e-04\n",
      " -4.80647832e-05  3.70342677e-05], sr=16000 as keyword args. From version 0.10 passing these as positional arguments will result in an error\n",
      "C:\\Users\\yutan\\anaconda3\\envs\\tensorflow\\lib\\site-packages\\ipykernel_launcher.py:53: FutureWarning: Pass y=[ 0.00653076 -0.00143433  0.00274658 ...  0.00219727  0.00344849\n",
      "  0.00415039], sr=16000 as keyword args. From version 0.10 passing these as positional arguments will result in an error\n",
      "C:\\Users\\yutan\\anaconda3\\envs\\tensorflow\\lib\\site-packages\\ipykernel_launcher.py:53: FutureWarning: Pass y=[-3.0517578e-05 -3.0517578e-05  0.0000000e+00 ...  3.0517578e-05\n",
      "  0.0000000e+00  3.0517578e-05], sr=16000 as keyword args. From version 0.10 passing these as positional arguments will result in an error\n",
      "C:\\Users\\yutan\\anaconda3\\envs\\tensorflow\\lib\\site-packages\\ipykernel_launcher.py:53: FutureWarning: Pass y=[ 3.0517578e-05 -6.1035156e-05 -6.1035156e-05 ...  9.1552734e-05\n",
      " -3.6621094e-04  4.2724609e-04], sr=16000 as keyword args. From version 0.10 passing these as positional arguments will result in an error\n",
      "C:\\Users\\yutan\\anaconda3\\envs\\tensorflow\\lib\\site-packages\\ipykernel_launcher.py:53: FutureWarning: Pass y=[ 6.2380910e-05  4.6876768e-05  2.9767145e-05 ...  5.1038762e-05\n",
      " -2.7326355e-06  2.2291511e-05], sr=16000 as keyword args. From version 0.10 passing these as positional arguments will result in an error\n",
      "C:\\Users\\yutan\\anaconda3\\envs\\tensorflow\\lib\\site-packages\\ipykernel_launcher.py:53: FutureWarning: Pass y=[-3.0517578e-05 -9.1552734e-05 -6.1035156e-05 ... -1.3732910e-03\n",
      " -1.2817383e-03 -1.1596680e-03], sr=16000 as keyword args. From version 0.10 passing these as positional arguments will result in an error\n"
     ]
    },
    {
     "name": "stdout",
     "output_type": "stream",
     "text": [
      "(20, 38)\n",
      "(20, 38)\n",
      "(20, 38)\n",
      "(20, 38)\n",
      "(20, 38)\n",
      "(20, 38)\n"
     ]
    },
    {
     "name": "stderr",
     "output_type": "stream",
     "text": [
      "C:\\Users\\yutan\\anaconda3\\envs\\tensorflow\\lib\\site-packages\\ipykernel_launcher.py:53: FutureWarning: Pass y=[3.8353643e-05 3.3028457e-05 5.5892044e-05 ... 2.7239827e-05 3.8926941e-05\n",
      " 5.7405206e-05], sr=16000 as keyword args. From version 0.10 passing these as positional arguments will result in an error\n",
      "C:\\Users\\yutan\\anaconda3\\envs\\tensorflow\\lib\\site-packages\\ipykernel_launcher.py:53: FutureWarning: Pass y=[-9.1552734e-05 -6.1035156e-05 -3.0517578e-05 ... -6.1035156e-05\n",
      "  0.0000000e+00 -3.0517578e-05], sr=16000 as keyword args. From version 0.10 passing these as positional arguments will result in an error\n",
      "C:\\Users\\yutan\\anaconda3\\envs\\tensorflow\\lib\\site-packages\\ipykernel_launcher.py:53: FutureWarning: Pass y=[-9.7397628e-05 -3.3694072e-04  1.7550329e-04 ... -2.5238389e-05\n",
      " -9.3048020e-06 -1.9443323e-05], sr=16000 as keyword args. From version 0.10 passing these as positional arguments will result in an error\n",
      "C:\\Users\\yutan\\anaconda3\\envs\\tensorflow\\lib\\site-packages\\ipykernel_launcher.py:53: FutureWarning: Pass y=[ 0.08099365  0.06106567  0.03683472 ...  0.00030518  0.00045776\n",
      " -0.00021362], sr=16000 as keyword args. From version 0.10 passing these as positional arguments will result in an error\n",
      "C:\\Users\\yutan\\anaconda3\\envs\\tensorflow\\lib\\site-packages\\ipykernel_launcher.py:53: FutureWarning: Pass y=[ 0.0000000e+00 -3.0517578e-05  0.0000000e+00 ... -6.1035156e-05\n",
      " -6.1035156e-05 -3.0517578e-05], sr=16000 as keyword args. From version 0.10 passing these as positional arguments will result in an error\n",
      "C:\\Users\\yutan\\anaconda3\\envs\\tensorflow\\lib\\site-packages\\ipykernel_launcher.py:53: FutureWarning: Pass y=[-0.00393677  0.00112915  0.00112915 ... -0.00387573  0.00372314\n",
      " -0.00735474], sr=16000 as keyword args. From version 0.10 passing these as positional arguments will result in an error\n",
      "C:\\Users\\yutan\\anaconda3\\envs\\tensorflow\\lib\\site-packages\\ipykernel_launcher.py:53: FutureWarning: Pass y=[ 0.00588989  0.00637817 -0.00338745 ... -0.00234985  0.00335693\n",
      "  0.00064087], sr=16000 as keyword args. From version 0.10 passing these as positional arguments will result in an error\n"
     ]
    },
    {
     "name": "stdout",
     "output_type": "stream",
     "text": [
      "(20, 38)\n",
      "(20, 38)\n",
      "(20, 38)\n",
      "(20, 38)\n",
      "(20, 38)\n",
      "(20, 38)\n",
      "(20, 38)\n",
      "(20, 38)\n"
     ]
    },
    {
     "name": "stderr",
     "output_type": "stream",
     "text": [
      "C:\\Users\\yutan\\anaconda3\\envs\\tensorflow\\lib\\site-packages\\ipykernel_launcher.py:53: FutureWarning: Pass y=[ 0.0005188   0.00311279  0.00228882 ...  0.0005188  -0.00033569\n",
      "  0.00027466], sr=16000 as keyword args. From version 0.10 passing these as positional arguments will result in an error\n",
      "C:\\Users\\yutan\\anaconda3\\envs\\tensorflow\\lib\\site-packages\\ipykernel_launcher.py:53: FutureWarning: Pass y=[ 0.0000000e+00  3.0517578e-05  3.0517578e-05 ...  0.0000000e+00\n",
      " -3.0517578e-05 -6.1035156e-05], sr=16000 as keyword args. From version 0.10 passing these as positional arguments will result in an error\n",
      "C:\\Users\\yutan\\anaconda3\\envs\\tensorflow\\lib\\site-packages\\ipykernel_launcher.py:53: FutureWarning: Pass y=[-5.9505951e-06 -3.3020449e-05 -7.6176602e-06 ...  1.6977863e-06\n",
      " -2.8416609e-06  7.9740217e-05], sr=16000 as keyword args. From version 0.10 passing these as positional arguments will result in an error\n",
      "C:\\Users\\yutan\\anaconda3\\envs\\tensorflow\\lib\\site-packages\\ipykernel_launcher.py:53: FutureWarning: Pass y=[ 0.01171875  0.01644897  0.02124023 ... -0.00024414  0.00021362\n",
      " -0.00021362], sr=16000 as keyword args. From version 0.10 passing these as positional arguments will result in an error\n",
      "C:\\Users\\yutan\\anaconda3\\envs\\tensorflow\\lib\\site-packages\\ipykernel_launcher.py:53: FutureWarning: Pass y=[ 0.00305176 -0.01235962 -0.00442505 ... -0.0015564  -0.0039978\n",
      "  0.00314331], sr=16000 as keyword args. From version 0.10 passing these as positional arguments will result in an error\n",
      "C:\\Users\\yutan\\anaconda3\\envs\\tensorflow\\lib\\site-packages\\ipykernel_launcher.py:53: FutureWarning: Pass y=[-3.0517578e-05  0.0000000e+00 -3.0517578e-05 ...  5.7983398e-04\n",
      " -8.2397461e-04  7.6293945e-04], sr=16000 as keyword args. From version 0.10 passing these as positional arguments will result in an error\n"
     ]
    },
    {
     "name": "stdout",
     "output_type": "stream",
     "text": [
      "(20, 38)\n",
      "(20, 38)\n",
      "(20, 38)\n",
      "(20, 38)\n",
      "(20, 38)\n"
     ]
    },
    {
     "name": "stderr",
     "output_type": "stream",
     "text": [
      "C:\\Users\\yutan\\anaconda3\\envs\\tensorflow\\lib\\site-packages\\ipykernel_launcher.py:53: FutureWarning: Pass y=[ 2.7865583e-05  5.3234107e-05  1.2832933e-05 ... -2.4568668e-05\n",
      "  7.0781971e-06 -1.9251809e-05], sr=16000 as keyword args. From version 0.10 passing these as positional arguments will result in an error\n",
      "C:\\Users\\yutan\\anaconda3\\envs\\tensorflow\\lib\\site-packages\\ipykernel_launcher.py:53: FutureWarning: Pass y=[ 0.00668335 -0.00012207  0.0039978  ... -0.00332642 -0.0010376\n",
      " -0.00750732], sr=16000 as keyword args. From version 0.10 passing these as positional arguments will result in an error\n",
      "C:\\Users\\yutan\\anaconda3\\envs\\tensorflow\\lib\\site-packages\\ipykernel_launcher.py:53: FutureWarning: Pass y=[ 2.9956738e-05  7.5046237e-06 -4.8929132e-06 ...  6.5786176e-04\n",
      " -5.7325087e-04 -1.7362428e-04], sr=16000 as keyword args. From version 0.10 passing these as positional arguments will result in an error\n",
      "C:\\Users\\yutan\\anaconda3\\envs\\tensorflow\\lib\\site-packages\\ipykernel_launcher.py:53: FutureWarning: Pass y=[1.1502075e-01 7.8582764e-02 2.2491455e-02 ... 0.0000000e+00 3.0517578e-05\n",
      " 0.0000000e+00], sr=16000 as keyword args. From version 0.10 passing these as positional arguments will result in an error\n"
     ]
    },
    {
     "name": "stdout",
     "output_type": "stream",
     "text": [
      "(20, 38)\n",
      "(20, 38)\n",
      "(20, 38)\n",
      "(20, 38)\n",
      "(20, 38)\n",
      "(20, 38)\n",
      "(20, 38)\n",
      "(20, 38)\n",
      "(20, 38)\n"
     ]
    },
    {
     "name": "stderr",
     "output_type": "stream",
     "text": [
      "C:\\Users\\yutan\\anaconda3\\envs\\tensorflow\\lib\\site-packages\\ipykernel_launcher.py:53: FutureWarning: Pass y=[ 1.3205930e-05  8.1674461e-06 -6.4969754e-06 ...  7.1781201e-06\n",
      "  8.1141998e-06 -1.0179091e-05], sr=16000 as keyword args. From version 0.10 passing these as positional arguments will result in an error\n",
      "C:\\Users\\yutan\\anaconda3\\envs\\tensorflow\\lib\\site-packages\\ipykernel_launcher.py:53: FutureWarning: Pass y=[-0.0199585  -0.02246094 -0.02438354 ... -0.00012207 -0.00024414\n",
      "  0.00012207], sr=16000 as keyword args. From version 0.10 passing these as positional arguments will result in an error\n",
      "C:\\Users\\yutan\\anaconda3\\envs\\tensorflow\\lib\\site-packages\\ipykernel_launcher.py:53: FutureWarning: Pass y=[-0.02389526 -0.0145874  -0.01742554 ...  0.00076294 -0.00054932\n",
      " -0.00054932], sr=16000 as keyword args. From version 0.10 passing these as positional arguments will result in an error\n",
      "C:\\Users\\yutan\\anaconda3\\envs\\tensorflow\\lib\\site-packages\\ipykernel_launcher.py:53: FutureWarning: Pass y=[ 4.7818071e-07  4.5235229e-06  5.9736169e-05 ... -5.5735301e-05\n",
      " -5.2942294e-05 -2.4186420e-05], sr=16000 as keyword args. From version 0.10 passing these as positional arguments will result in an error\n"
     ]
    },
    {
     "name": "stdout",
     "output_type": "stream",
     "text": [
      "(20, 38)\n",
      "(20, 38)\n"
     ]
    },
    {
     "name": "stderr",
     "output_type": "stream",
     "text": [
      "C:\\Users\\yutan\\anaconda3\\envs\\tensorflow\\lib\\site-packages\\ipykernel_launcher.py:53: FutureWarning: Pass y=[-7.0671085e-06 -3.8403421e-05 -1.0235246e-05 ...  2.7074854e-04\n",
      "  1.8103783e-04  8.1032224e-05], sr=16000 as keyword args. From version 0.10 passing these as positional arguments will result in an error\n",
      "C:\\Users\\yutan\\anaconda3\\envs\\tensorflow\\lib\\site-packages\\ipykernel_launcher.py:53: FutureWarning: Pass y=[-1.8020948e-05  5.6358590e-06 -5.2674991e-06 ...  2.1518194e-05\n",
      "  1.7555718e-05 -1.5612228e-05], sr=16000 as keyword args. From version 0.10 passing these as positional arguments will result in an error\n"
     ]
    },
    {
     "name": "stdout",
     "output_type": "stream",
     "text": [
      "(20, 38)\n",
      "(20, 38)\n",
      "(20, 38)\n",
      "(20, 38)\n"
     ]
    },
    {
     "name": "stderr",
     "output_type": "stream",
     "text": [
      "C:\\Users\\yutan\\anaconda3\\envs\\tensorflow\\lib\\site-packages\\ipykernel_launcher.py:53: FutureWarning: Pass y=[-3.7589205e-05  5.3044940e-05  4.9680388e-05 ... -9.7737233e-05\n",
      "  3.5120358e-04 -4.4858988e-04], sr=16000 as keyword args. From version 0.10 passing these as positional arguments will result in an error\n",
      "C:\\Users\\yutan\\anaconda3\\envs\\tensorflow\\lib\\site-packages\\ipykernel_launcher.py:53: FutureWarning: Pass y=[ 0.003479    0.00137329  0.009552   ...  0.00793457 -0.00378418\n",
      " -0.00671387], sr=16000 as keyword args. From version 0.10 passing these as positional arguments will result in an error\n",
      "C:\\Users\\yutan\\anaconda3\\envs\\tensorflow\\lib\\site-packages\\ipykernel_launcher.py:53: FutureWarning: Pass y=[-1.2022391e-03 -9.3048520e-04 -4.8657367e-04 ... -1.3612978e-06\n",
      " -2.0469843e-05  4.0540817e-06], sr=16000 as keyword args. From version 0.10 passing these as positional arguments will result in an error\n",
      "C:\\Users\\yutan\\anaconda3\\envs\\tensorflow\\lib\\site-packages\\ipykernel_launcher.py:53: FutureWarning: Pass y=[ 0.0043335   0.00796509 -0.00024414 ... -0.00109863  0.00183105\n",
      " -0.00180054], sr=16000 as keyword args. From version 0.10 passing these as positional arguments will result in an error\n"
     ]
    },
    {
     "name": "stdout",
     "output_type": "stream",
     "text": [
      "(20, 38)\n",
      "(20, 38)\n",
      "(20, 38)\n",
      "(20, 38)\n"
     ]
    },
    {
     "name": "stderr",
     "output_type": "stream",
     "text": [
      "C:\\Users\\yutan\\anaconda3\\envs\\tensorflow\\lib\\site-packages\\ipykernel_launcher.py:53: FutureWarning: Pass y=[ 4.7819726e-06 -2.0362626e-05 -2.4536503e-06 ...  3.3948931e-05\n",
      "  3.6085348e-05  9.7878517e-05], sr=16000 as keyword args. From version 0.10 passing these as positional arguments will result in an error\n",
      "C:\\Users\\yutan\\anaconda3\\envs\\tensorflow\\lib\\site-packages\\ipykernel_launcher.py:53: FutureWarning: Pass y=[ 4.7906524e-05  2.4901932e-05  3.6708214e-05 ... -3.2098396e-05\n",
      " -1.6016591e-06 -3.4700531e-06], sr=16000 as keyword args. From version 0.10 passing these as positional arguments will result in an error\n",
      "C:\\Users\\yutan\\anaconda3\\envs\\tensorflow\\lib\\site-packages\\ipykernel_launcher.py:53: FutureWarning: Pass y=[-1.0697445e-05 -2.5345300e-05 -5.4135667e-06 ...  6.9477534e-07\n",
      " -2.6917756e-05 -9.3618792e-06], sr=16000 as keyword args. From version 0.10 passing these as positional arguments will result in an error\n"
     ]
    },
    {
     "name": "stdout",
     "output_type": "stream",
     "text": [
      "(20, 38)\n",
      "(20, 38)\n",
      "(20, 38)\n"
     ]
    },
    {
     "name": "stderr",
     "output_type": "stream",
     "text": [
      "C:\\Users\\yutan\\anaconda3\\envs\\tensorflow\\lib\\site-packages\\ipykernel_launcher.py:53: FutureWarning: Pass y=[ 3.2057007e-05  2.6807460e-05 -3.5647234e-05 ...  5.7094043e-05\n",
      "  2.7691973e-05  5.3037773e-05], sr=16000 as keyword args. From version 0.10 passing these as positional arguments will result in an error\n",
      "C:\\Users\\yutan\\anaconda3\\envs\\tensorflow\\lib\\site-packages\\ipykernel_launcher.py:53: FutureWarning: Pass y=[-9.92141486e-06 -1.25147699e-05 -3.31757692e-05 ...  1.37925745e-04\n",
      "  5.99200357e-05 -1.16772484e-04], sr=16000 as keyword args. From version 0.10 passing these as positional arguments will result in an error\n"
     ]
    },
    {
     "name": "stdout",
     "output_type": "stream",
     "text": [
      "(20, 38)\n",
      "(20, 38)\n"
     ]
    },
    {
     "name": "stderr",
     "output_type": "stream",
     "text": [
      "C:\\Users\\yutan\\anaconda3\\envs\\tensorflow\\lib\\site-packages\\ipykernel_launcher.py:53: FutureWarning: Pass y=[ 1.58544877e-04  1.90349063e-04  1.13304355e-04 ... -3.23963577e-05\n",
      " -2.61269215e-05  1.50052201e-05], sr=16000 as keyword args. From version 0.10 passing these as positional arguments will result in an error\n",
      "C:\\Users\\yutan\\anaconda3\\envs\\tensorflow\\lib\\site-packages\\ipykernel_launcher.py:53: FutureWarning: Pass y=[-0.01057216 -0.00247699  0.00947679 ...  0.00109458 -0.00075908\n",
      "  0.00043042], sr=16000 as keyword args. From version 0.10 passing these as positional arguments will result in an error\n",
      "C:\\Users\\yutan\\anaconda3\\envs\\tensorflow\\lib\\site-packages\\ipykernel_launcher.py:53: FutureWarning: Pass y=[ 3.1850293e-05 -1.0876223e-05 -3.9770730e-05 ...  1.7439945e-05\n",
      "  2.0869000e-05 -1.1266638e-05], sr=16000 as keyword args. From version 0.10 passing these as positional arguments will result in an error\n"
     ]
    },
    {
     "name": "stdout",
     "output_type": "stream",
     "text": [
      "(20, 38)\n",
      "(20, 38)\n",
      "(20, 38)\n",
      "(20, 38)\n"
     ]
    },
    {
     "name": "stderr",
     "output_type": "stream",
     "text": [
      "C:\\Users\\yutan\\anaconda3\\envs\\tensorflow\\lib\\site-packages\\ipykernel_launcher.py:53: FutureWarning: Pass y=[ 0.01071167  0.01309204  0.01123047 ...  0.0027771  -0.00012207\n",
      " -0.00186157], sr=16000 as keyword args. From version 0.10 passing these as positional arguments will result in an error\n",
      "C:\\Users\\yutan\\anaconda3\\envs\\tensorflow\\lib\\site-packages\\ipykernel_launcher.py:53: FutureWarning: Pass y=[-0.00634766 -0.00842285  0.00918579 ...  0.00292969 -0.01034546\n",
      " -0.00692749], sr=16000 as keyword args. From version 0.10 passing these as positional arguments will result in an error\n",
      "C:\\Users\\yutan\\anaconda3\\envs\\tensorflow\\lib\\site-packages\\ipykernel_launcher.py:53: FutureWarning: Pass y=[-1.50645965e-05 -3.88297740e-05  4.77342019e-06 ...  1.98395242e-06\n",
      " -8.16604370e-07  1.08624512e-07], sr=16000 as keyword args. From version 0.10 passing these as positional arguments will result in an error\n",
      "C:\\Users\\yutan\\anaconda3\\envs\\tensorflow\\lib\\site-packages\\ipykernel_launcher.py:53: FutureWarning: Pass y=[-0.04925537 -0.03894043 -0.01345825 ...  0.00012207  0.00036621\n",
      "  0.00027466], sr=16000 as keyword args. From version 0.10 passing these as positional arguments will result in an error\n"
     ]
    },
    {
     "name": "stdout",
     "output_type": "stream",
     "text": [
      "(20, 38)\n",
      "(20, 38)\n",
      "(20, 38)\n",
      "(20, 38)\n",
      "(20, 38)\n",
      "(20, 38)\n"
     ]
    },
    {
     "name": "stderr",
     "output_type": "stream",
     "text": [
      "C:\\Users\\yutan\\anaconda3\\envs\\tensorflow\\lib\\site-packages\\ipykernel_launcher.py:53: FutureWarning: Pass y=[-5.6575289e-05 -2.0095948e-05  3.7652862e-05 ... -2.8132506e-05\n",
      " -1.8994875e-05  7.3690403e-06], sr=16000 as keyword args. From version 0.10 passing these as positional arguments will result in an error\n",
      "C:\\Users\\yutan\\anaconda3\\envs\\tensorflow\\lib\\site-packages\\ipykernel_launcher.py:53: FutureWarning: Pass y=[-0.01208496 -0.00177002  0.00106812 ...  0.00592041 -0.00073242\n",
      " -0.00326538], sr=16000 as keyword args. From version 0.10 passing these as positional arguments will result in an error\n",
      "C:\\Users\\yutan\\anaconda3\\envs\\tensorflow\\lib\\site-packages\\ipykernel_launcher.py:53: FutureWarning: Pass y=[ 0.0000000e+00 -3.0517578e-05  3.0517578e-05 ... -3.0517578e-04\n",
      " -3.3569336e-04 -3.6621094e-04], sr=16000 as keyword args. From version 0.10 passing these as positional arguments will result in an error\n",
      "C:\\Users\\yutan\\anaconda3\\envs\\tensorflow\\lib\\site-packages\\ipykernel_launcher.py:53: FutureWarning: Pass y=[ 0.00689697  0.00183105  0.00143433 ...  0.00811768 -0.00521851\n",
      " -0.00454712], sr=16000 as keyword args. From version 0.10 passing these as positional arguments will result in an error\n",
      "C:\\Users\\yutan\\anaconda3\\envs\\tensorflow\\lib\\site-packages\\ipykernel_launcher.py:53: FutureWarning: Pass y=[ 8.5390030e-07 -2.3443301e-06  1.8867468e-05 ... -7.2123017e-05\n",
      " -4.0109552e-04 -3.4769246e-04], sr=16000 as keyword args. From version 0.10 passing these as positional arguments will result in an error\n"
     ]
    },
    {
     "name": "stdout",
     "output_type": "stream",
     "text": [
      "(20, 38)\n",
      "(20, 38)\n",
      "(20, 38)\n"
     ]
    },
    {
     "name": "stderr",
     "output_type": "stream",
     "text": [
      "C:\\Users\\yutan\\anaconda3\\envs\\tensorflow\\lib\\site-packages\\ipykernel_launcher.py:53: FutureWarning: Pass y=[ 2.1245263e-05 -3.5498673e-05 -6.2725776e-05 ... -6.4703477e-06\n",
      "  1.8869585e-05  2.0615156e-05], sr=16000 as keyword args. From version 0.10 passing these as positional arguments will result in an error\n",
      "C:\\Users\\yutan\\anaconda3\\envs\\tensorflow\\lib\\site-packages\\ipykernel_launcher.py:53: FutureWarning: Pass y=[-3.0517578e-05 -3.0517578e-05  0.0000000e+00 ... -6.7138672e-04\n",
      "  5.4931641e-04  1.5258789e-04], sr=16000 as keyword args. From version 0.10 passing these as positional arguments will result in an error\n",
      "C:\\Users\\yutan\\anaconda3\\envs\\tensorflow\\lib\\site-packages\\ipykernel_launcher.py:53: FutureWarning: Pass y=[-2.9363204e-05 -6.0512233e-05 -8.3579507e-06 ...  3.1354342e-05\n",
      " -2.1225385e-05 -6.4220958e-06], sr=16000 as keyword args. From version 0.10 passing these as positional arguments will result in an error\n"
     ]
    },
    {
     "name": "stdout",
     "output_type": "stream",
     "text": [
      "(20, 38)\n",
      "(20, 38)\n"
     ]
    },
    {
     "name": "stderr",
     "output_type": "stream",
     "text": [
      "C:\\Users\\yutan\\anaconda3\\envs\\tensorflow\\lib\\site-packages\\ipykernel_launcher.py:53: FutureWarning: Pass y=[ 8.1548824e-06  3.0020537e-05  2.4037574e-05 ... -2.3730954e-03\n",
      " -1.9774707e-03 -1.6305475e-03], sr=16000 as keyword args. From version 0.10 passing these as positional arguments will result in an error\n",
      "C:\\Users\\yutan\\anaconda3\\envs\\tensorflow\\lib\\site-packages\\ipykernel_launcher.py:53: FutureWarning: Pass y=[ 0.06096057  0.04348496  0.03057063 ...  0.00041781 -0.00864156\n",
      " -0.00133432], sr=16000 as keyword args. From version 0.10 passing these as positional arguments will result in an error\n"
     ]
    },
    {
     "name": "stdout",
     "output_type": "stream",
     "text": [
      "(20, 38)\n",
      "(20, 38)\n",
      "(20, 38)\n"
     ]
    },
    {
     "name": "stderr",
     "output_type": "stream",
     "text": [
      "C:\\Users\\yutan\\anaconda3\\envs\\tensorflow\\lib\\site-packages\\ipykernel_launcher.py:53: FutureWarning: Pass y=[-5.4260198e-07  2.2128788e-05 -3.6168807e-05 ... -4.0406993e-04\n",
      "  5.7987898e-05  1.5073190e-04], sr=16000 as keyword args. From version 0.10 passing these as positional arguments will result in an error\n",
      "C:\\Users\\yutan\\anaconda3\\envs\\tensorflow\\lib\\site-packages\\ipykernel_launcher.py:53: FutureWarning: Pass y=[-5.5011351e-06 -1.7823812e-05 -2.9664870e-06 ...  7.4538321e-04\n",
      "  7.6579436e-04  6.6449959e-04], sr=16000 as keyword args. From version 0.10 passing these as positional arguments will result in an error\n",
      "C:\\Users\\yutan\\anaconda3\\envs\\tensorflow\\lib\\site-packages\\ipykernel_launcher.py:53: FutureWarning: Pass y=[-3.0517578e-05 -3.0517578e-05 -3.0517578e-05 ...  4.2724609e-04\n",
      "  1.8310547e-04  1.5258789e-04], sr=16000 as keyword args. From version 0.10 passing these as positional arguments will result in an error\n"
     ]
    },
    {
     "name": "stdout",
     "output_type": "stream",
     "text": [
      "(20, 38)\n",
      "(20, 38)\n",
      "(20, 38)\n"
     ]
    },
    {
     "name": "stderr",
     "output_type": "stream",
     "text": [
      "C:\\Users\\yutan\\anaconda3\\envs\\tensorflow\\lib\\site-packages\\ipykernel_launcher.py:53: FutureWarning: Pass y=[-5.7333869e-05 -4.3189350e-05  2.5265206e-06 ... -2.3565574e-06\n",
      "  1.5495858e-05  8.1185543e-05], sr=16000 as keyword args. From version 0.10 passing these as positional arguments will result in an error\n",
      "C:\\Users\\yutan\\anaconda3\\envs\\tensorflow\\lib\\site-packages\\ipykernel_launcher.py:53: FutureWarning: Pass y=[ 2.9844437e-05  3.2925964e-05  1.6619910e-05 ... -3.1294756e-05\n",
      " -3.1312331e-05 -2.1638347e-05], sr=16000 as keyword args. From version 0.10 passing these as positional arguments will result in an error\n",
      "C:\\Users\\yutan\\anaconda3\\envs\\tensorflow\\lib\\site-packages\\ipykernel_launcher.py:53: FutureWarning: Pass y=[ 7.4768066e-03  8.6059570e-03  8.3618164e-03 ... -6.1035156e-05\n",
      " -6.1035156e-05 -3.0517578e-05], sr=16000 as keyword args. From version 0.10 passing these as positional arguments will result in an error\n",
      "C:\\Users\\yutan\\anaconda3\\envs\\tensorflow\\lib\\site-packages\\ipykernel_launcher.py:53: FutureWarning: Pass y=[ 0.02618408  0.01571655 -0.00650024 ...  0.00015259 -0.00073242\n",
      " -0.00143433], sr=16000 as keyword args. From version 0.10 passing these as positional arguments will result in an error\n",
      "C:\\Users\\yutan\\anaconda3\\envs\\tensorflow\\lib\\site-packages\\ipykernel_launcher.py:53: FutureWarning: Pass y=[1.1726670e-05 6.3824140e-05 4.6774632e-05 ... 1.3655302e-03 1.2575145e-03\n",
      " 1.1381692e-03], sr=16000 as keyword args. From version 0.10 passing these as positional arguments will result in an error\n"
     ]
    },
    {
     "name": "stdout",
     "output_type": "stream",
     "text": [
      "(20, 38)\n",
      "(20, 38)\n",
      "(20, 38)\n",
      "(20, 38)\n"
     ]
    },
    {
     "name": "stderr",
     "output_type": "stream",
     "text": [
      "C:\\Users\\yutan\\anaconda3\\envs\\tensorflow\\lib\\site-packages\\ipykernel_launcher.py:53: FutureWarning: Pass y=[ 7.9288920e-06  4.4141075e-06  1.0662952e-05 ... -1.1373828e-05\n",
      "  4.0164073e-06 -4.3552814e-06], sr=16000 as keyword args. From version 0.10 passing these as positional arguments will result in an error\n",
      "C:\\Users\\yutan\\anaconda3\\envs\\tensorflow\\lib\\site-packages\\ipykernel_launcher.py:53: FutureWarning: Pass y=[ 0.00164795  0.00738525 -0.00671387 ...  0.00097656  0.00097656\n",
      " -0.00259399], sr=16000 as keyword args. From version 0.10 passing these as positional arguments will result in an error\n",
      "C:\\Users\\yutan\\anaconda3\\envs\\tensorflow\\lib\\site-packages\\ipykernel_launcher.py:53: FutureWarning: Pass y=[-0.00390625 -0.00650024 -0.00158691 ... -0.00411987 -0.00466919\n",
      "  0.00143433], sr=16000 as keyword args. From version 0.10 passing these as positional arguments will result in an error\n",
      "C:\\Users\\yutan\\anaconda3\\envs\\tensorflow\\lib\\site-packages\\ipykernel_launcher.py:53: FutureWarning: Pass y=[-1.4160156e-02 -2.3498535e-03  5.6762695e-03 ... -4.2724609e-04\n",
      " -9.1552734e-05  1.8310547e-04], sr=16000 as keyword args. From version 0.10 passing these as positional arguments will result in an error\n",
      "C:\\Users\\yutan\\anaconda3\\envs\\tensorflow\\lib\\site-packages\\ipykernel_launcher.py:53: FutureWarning: Pass y=[3.1528667e-05 2.9591652e-05 3.1793537e-05 ... 7.8778918e-05 1.0335069e-04\n",
      " 5.6088007e-05], sr=16000 as keyword args. From version 0.10 passing these as positional arguments will result in an error\n",
      "C:\\Users\\yutan\\anaconda3\\envs\\tensorflow\\lib\\site-packages\\ipykernel_launcher.py:53: FutureWarning: Pass y=[-0.00326538 -0.00231934 -0.00241089 ...  0.0010376  -0.00061035\n",
      "  0.00112915], sr=16000 as keyword args. From version 0.10 passing these as positional arguments will result in an error\n"
     ]
    },
    {
     "name": "stdout",
     "output_type": "stream",
     "text": [
      "(20, 38)\n",
      "(20, 38)\n",
      "(20, 38)\n",
      "(20, 38)\n",
      "(20, 38)\n",
      "(20, 38)\n"
     ]
    },
    {
     "name": "stderr",
     "output_type": "stream",
     "text": [
      "C:\\Users\\yutan\\anaconda3\\envs\\tensorflow\\lib\\site-packages\\ipykernel_launcher.py:53: FutureWarning: Pass y=[-1.0894043e-05  1.7848197e-05  2.9585895e-05 ... -2.0731033e-03\n",
      " -1.7746442e-03 -1.5046560e-03], sr=16000 as keyword args. From version 0.10 passing these as positional arguments will result in an error\n",
      "C:\\Users\\yutan\\anaconda3\\envs\\tensorflow\\lib\\site-packages\\ipykernel_launcher.py:53: FutureWarning: Pass y=[-8.1542814e-05 -1.0851971e-04 -1.2934719e-04 ... -3.0103281e-06\n",
      "  4.2409697e-06 -1.4164243e-05], sr=16000 as keyword args. From version 0.10 passing these as positional arguments will result in an error\n"
     ]
    },
    {
     "name": "stdout",
     "output_type": "stream",
     "text": [
      "(20, 38)\n",
      "(20, 38)\n",
      "(20, 38)\n"
     ]
    },
    {
     "name": "stderr",
     "output_type": "stream",
     "text": [
      "C:\\Users\\yutan\\anaconda3\\envs\\tensorflow\\lib\\site-packages\\ipykernel_launcher.py:53: FutureWarning: Pass y=[-9.9464905e-06  9.5347610e-07 -3.3103734e-05 ...  3.0276933e-04\n",
      "  3.3552831e-04  3.3713324e-04], sr=16000 as keyword args. From version 0.10 passing these as positional arguments will result in an error\n",
      "C:\\Users\\yutan\\anaconda3\\envs\\tensorflow\\lib\\site-packages\\ipykernel_launcher.py:53: FutureWarning: Pass y=[-0.01010132 -0.01751709 -0.01751709 ... -0.00057983  0.0007019\n",
      "  0.0017395 ], sr=16000 as keyword args. From version 0.10 passing these as positional arguments will result in an error\n",
      "C:\\Users\\yutan\\anaconda3\\envs\\tensorflow\\lib\\site-packages\\ipykernel_launcher.py:53: FutureWarning: Pass y=[ 1.4566507e-05 -1.5466750e-05 -1.9353909e-05 ...  1.2669741e-05\n",
      "  2.5915569e-05 -2.6272106e-05], sr=16000 as keyword args. From version 0.10 passing these as positional arguments will result in an error\n",
      "C:\\Users\\yutan\\anaconda3\\envs\\tensorflow\\lib\\site-packages\\ipykernel_launcher.py:53: FutureWarning: Pass y=[-5.6768371e-05  7.5043395e-06 -2.5261585e-05 ...  7.3610049e-06\n",
      " -2.5786096e-05 -2.8425799e-05], sr=16000 as keyword args. From version 0.10 passing these as positional arguments will result in an error\n"
     ]
    },
    {
     "name": "stdout",
     "output_type": "stream",
     "text": [
      "(20, 38)\n",
      "(20, 38)\n",
      "(20, 38)\n",
      "(20, 38)\n",
      "(20, 38)\n",
      "(20, 38)\n",
      "(20, 38)\n",
      "(20, 38)\n"
     ]
    },
    {
     "name": "stderr",
     "output_type": "stream",
     "text": [
      "C:\\Users\\yutan\\anaconda3\\envs\\tensorflow\\lib\\site-packages\\ipykernel_launcher.py:53: FutureWarning: Pass y=[ 0.0000000e+00 -3.0517578e-05 -6.1035156e-05 ...  9.1552734e-05\n",
      "  6.1035156e-05  0.0000000e+00], sr=16000 as keyword args. From version 0.10 passing these as positional arguments will result in an error\n",
      "C:\\Users\\yutan\\anaconda3\\envs\\tensorflow\\lib\\site-packages\\ipykernel_launcher.py:53: FutureWarning: Pass y=[-1.2390137e-02 -6.5307617e-03 -2.0446777e-03 ... -9.1552734e-05\n",
      " -8.8500977e-04  8.8500977e-04], sr=16000 as keyword args. From version 0.10 passing these as positional arguments will result in an error\n",
      "C:\\Users\\yutan\\anaconda3\\envs\\tensorflow\\lib\\site-packages\\ipykernel_launcher.py:53: FutureWarning: Pass y=[ 3.8858348e-06 -1.4110301e-05 -5.3472409e-05 ...  7.4921438e-05\n",
      "  7.7385354e-05  9.3611074e-05], sr=16000 as keyword args. From version 0.10 passing these as positional arguments will result in an error\n",
      "C:\\Users\\yutan\\anaconda3\\envs\\tensorflow\\lib\\site-packages\\ipykernel_launcher.py:53: FutureWarning: Pass y=[-0.00097656  0.00177002 -0.00445557 ...  0.00027466  0.01077271\n",
      "  0.00814819], sr=16000 as keyword args. From version 0.10 passing these as positional arguments will result in an error\n",
      "C:\\Users\\yutan\\anaconda3\\envs\\tensorflow\\lib\\site-packages\\ipykernel_launcher.py:53: FutureWarning: Pass y=[ 1.6736802e-05 -3.4268975e-05  2.0401969e-06 ...  1.1766389e-05\n",
      "  1.4556854e-05 -3.0438737e-06], sr=16000 as keyword args. From version 0.10 passing these as positional arguments will result in an error\n"
     ]
    },
    {
     "name": "stdout",
     "output_type": "stream",
     "text": [
      "(20, 38)\n",
      "(20, 38)\n",
      "(20, 38)\n",
      "(20, 38)\n",
      "(20, 38)\n"
     ]
    },
    {
     "name": "stderr",
     "output_type": "stream",
     "text": [
      "C:\\Users\\yutan\\anaconda3\\envs\\tensorflow\\lib\\site-packages\\ipykernel_launcher.py:53: FutureWarning: Pass y=[-1.7829750e-04 -2.0750817e-04 -1.7198767e-04 ... -2.9147338e-04\n",
      "  1.2013549e-04  2.9990882e-05], sr=16000 as keyword args. From version 0.10 passing these as positional arguments will result in an error\n",
      "C:\\Users\\yutan\\anaconda3\\envs\\tensorflow\\lib\\site-packages\\ipykernel_launcher.py:53: FutureWarning: Pass y=[ 0.02490234  0.02679443  0.02642822 ... -0.00042725  0.00033569\n",
      "  0.00073242], sr=16000 as keyword args. From version 0.10 passing these as positional arguments will result in an error\n",
      "C:\\Users\\yutan\\anaconda3\\envs\\tensorflow\\lib\\site-packages\\ipykernel_launcher.py:53: FutureWarning: Pass y=[-3.0517578e-05  3.0517578e-05 -3.0517578e-05 ...  0.0000000e+00\n",
      "  0.0000000e+00  3.0517578e-05], sr=16000 as keyword args. From version 0.10 passing these as positional arguments will result in an error\n",
      "C:\\Users\\yutan\\anaconda3\\envs\\tensorflow\\lib\\site-packages\\ipykernel_launcher.py:53: FutureWarning: Pass y=[ 0.00021362 -0.00152588  0.00372314 ... -0.00534058  0.00811768\n",
      "  0.01437378], sr=16000 as keyword args. From version 0.10 passing these as positional arguments will result in an error\n",
      "C:\\Users\\yutan\\anaconda3\\envs\\tensorflow\\lib\\site-packages\\ipykernel_launcher.py:53: FutureWarning: Pass y=[-2.8213260e-06  7.1949380e-06  3.2283093e-05 ...  1.3369822e-06\n",
      " -2.4318649e-06  3.3331744e-06], sr=16000 as keyword args. From version 0.10 passing these as positional arguments will result in an error\n",
      "C:\\Users\\yutan\\anaconda3\\envs\\tensorflow\\lib\\site-packages\\ipykernel_launcher.py:53: FutureWarning: Pass y=[-1.8310547e-04 -2.1362305e-04 -1.2207031e-04 ...  3.0517578e-05\n",
      "  0.0000000e+00 -3.0517578e-05], sr=16000 as keyword args. From version 0.10 passing these as positional arguments will result in an error\n"
     ]
    },
    {
     "name": "stdout",
     "output_type": "stream",
     "text": [
      "(20, 38)\n",
      "(20, 38)\n",
      "(20, 38)\n",
      "(20, 38)\n"
     ]
    },
    {
     "name": "stderr",
     "output_type": "stream",
     "text": [
      "C:\\Users\\yutan\\anaconda3\\envs\\tensorflow\\lib\\site-packages\\ipykernel_launcher.py:53: FutureWarning: Pass y=[ 1.9087029e-06 -3.8378716e-06  1.4505592e-05 ...  1.9804067e-05\n",
      "  5.8542424e-05  9.7454045e-05], sr=16000 as keyword args. From version 0.10 passing these as positional arguments will result in an error\n",
      "C:\\Users\\yutan\\anaconda3\\envs\\tensorflow\\lib\\site-packages\\ipykernel_launcher.py:53: FutureWarning: Pass y=[-0.00366211  0.00222778 -0.00042725 ...  0.00650024 -0.00616455\n",
      " -0.00552368], sr=16000 as keyword args. From version 0.10 passing these as positional arguments will result in an error\n",
      "C:\\Users\\yutan\\anaconda3\\envs\\tensorflow\\lib\\site-packages\\ipykernel_launcher.py:53: FutureWarning: Pass y=[ 2.5091509e-05 -1.1881132e-05  3.3826622e-05 ... -3.4057401e-05\n",
      " -2.9271338e-05 -4.4751341e-06], sr=16000 as keyword args. From version 0.10 passing these as positional arguments will result in an error\n",
      "C:\\Users\\yutan\\anaconda3\\envs\\tensorflow\\lib\\site-packages\\ipykernel_launcher.py:53: FutureWarning: Pass y=[-3.0517578e-05 -3.0517578e-05 -3.0517578e-05 ...  0.0000000e+00\n",
      " -1.5258789e-04  6.1035156e-05], sr=16000 as keyword args. From version 0.10 passing these as positional arguments will result in an error\n"
     ]
    },
    {
     "name": "stdout",
     "output_type": "stream",
     "text": [
      "(20, 38)\n",
      "(20, 38)\n",
      "(20, 38)\n",
      "(20, 38)\n",
      "(20, 38)\n"
     ]
    },
    {
     "name": "stderr",
     "output_type": "stream",
     "text": [
      "C:\\Users\\yutan\\anaconda3\\envs\\tensorflow\\lib\\site-packages\\ipykernel_launcher.py:53: FutureWarning: Pass y=[-4.2969823e-06 -5.6626268e-05 -3.2913489e-05 ... -2.6654266e-04\n",
      " -2.6868528e-04 -2.4405212e-04], sr=16000 as keyword args. From version 0.10 passing these as positional arguments will result in an error\n",
      "C:\\Users\\yutan\\anaconda3\\envs\\tensorflow\\lib\\site-packages\\ipykernel_launcher.py:53: FutureWarning: Pass y=[ 0.0000000e+00  0.0000000e+00 -3.0517578e-05 ... -2.7465820e-04\n",
      " -3.3569336e-04 -2.7465820e-04], sr=16000 as keyword args. From version 0.10 passing these as positional arguments will result in an error\n",
      "C:\\Users\\yutan\\anaconda3\\envs\\tensorflow\\lib\\site-packages\\ipykernel_launcher.py:53: FutureWarning: Pass y=[-0.01257324 -0.01824951 -0.01351929 ... -0.00128174  0.00054932\n",
      "  0.00143433], sr=16000 as keyword args. From version 0.10 passing these as positional arguments will result in an error\n",
      "C:\\Users\\yutan\\anaconda3\\envs\\tensorflow\\lib\\site-packages\\ipykernel_launcher.py:53: FutureWarning: Pass y=[-9.5390862e-07 -3.1876979e-07  8.8898599e-07 ...  2.7030354e-04\n",
      "  3.1821177e-04  2.6629117e-04], sr=16000 as keyword args. From version 0.10 passing these as positional arguments will result in an error\n"
     ]
    },
    {
     "name": "stdout",
     "output_type": "stream",
     "text": [
      "(20, 38)\n",
      "(20, 38)\n",
      "(20, 38)\n"
     ]
    },
    {
     "name": "stderr",
     "output_type": "stream",
     "text": [
      "C:\\Users\\yutan\\anaconda3\\envs\\tensorflow\\lib\\site-packages\\ipykernel_launcher.py:53: FutureWarning: Pass y=[-1.5606576e-05  9.7025259e-07  2.3013969e-07 ...  1.7475108e-05\n",
      "  5.0177032e-06  3.5897639e-05], sr=16000 as keyword args. From version 0.10 passing these as positional arguments will result in an error\n",
      "C:\\Users\\yutan\\anaconda3\\envs\\tensorflow\\lib\\site-packages\\ipykernel_launcher.py:53: FutureWarning: Pass y=[ 1.9187657e-05 -2.3764607e-05 -3.3528971e-07 ... -3.4589735e-05\n",
      "  2.2147776e-06 -7.7525519e-06], sr=16000 as keyword args. From version 0.10 passing these as positional arguments will result in an error\n"
     ]
    },
    {
     "name": "stdout",
     "output_type": "stream",
     "text": [
      "(20, 38)\n",
      "(20, 38)\n",
      "(20, 38)\n",
      "(20, 38)\n",
      "(20, 38)\n",
      "(20, 38)\n",
      "(20, 38)\n",
      "(20, 38)\n"
     ]
    },
    {
     "name": "stderr",
     "output_type": "stream",
     "text": [
      "C:\\Users\\yutan\\anaconda3\\envs\\tensorflow\\lib\\site-packages\\ipykernel_launcher.py:53: FutureWarning: Pass y=[-1.3588309e-05  2.5839496e-05  1.2005369e-05 ...  3.1335163e-05\n",
      "  7.2285227e-05  6.1141531e-05], sr=16000 as keyword args. From version 0.10 passing these as positional arguments will result in an error\n",
      "C:\\Users\\yutan\\anaconda3\\envs\\tensorflow\\lib\\site-packages\\ipykernel_launcher.py:53: FutureWarning: Pass y=[ 1.2268066e-02  5.6457520e-03  1.2176514e-02 ... -6.1035156e-05\n",
      " -6.1035156e-05 -6.1035156e-05], sr=16000 as keyword args. From version 0.10 passing these as positional arguments will result in an error\n",
      "C:\\Users\\yutan\\anaconda3\\envs\\tensorflow\\lib\\site-packages\\ipykernel_launcher.py:53: FutureWarning: Pass y=[-3.0517578e-05  0.0000000e+00  3.0517578e-05 ... -3.0517578e-04\n",
      "  3.6621094e-04 -6.1035156e-05], sr=16000 as keyword args. From version 0.10 passing these as positional arguments will result in an error\n",
      "C:\\Users\\yutan\\anaconda3\\envs\\tensorflow\\lib\\site-packages\\ipykernel_launcher.py:53: FutureWarning: Pass y=[ 0.0000000e+00  3.0517578e-05  0.0000000e+00 ... -6.1035156e-05\n",
      "  0.0000000e+00  0.0000000e+00], sr=16000 as keyword args. From version 0.10 passing these as positional arguments will result in an error\n",
      "C:\\Users\\yutan\\anaconda3\\envs\\tensorflow\\lib\\site-packages\\ipykernel_launcher.py:53: FutureWarning: Pass y=[-0.00219727 -0.00015259  0.00213623 ...  0.00384521  0.00305176\n",
      "  0.00231934], sr=16000 as keyword args. From version 0.10 passing these as positional arguments will result in an error\n",
      "C:\\Users\\yutan\\anaconda3\\envs\\tensorflow\\lib\\site-packages\\ipykernel_launcher.py:53: FutureWarning: Pass y=[ 3.3569336e-04 -1.1413574e-02 -2.0111084e-02 ... -3.0517578e-05\n",
      "  9.4604492e-04 -6.4086914e-04], sr=16000 as keyword args. From version 0.10 passing these as positional arguments will result in an error\n",
      "C:\\Users\\yutan\\anaconda3\\envs\\tensorflow\\lib\\site-packages\\ipykernel_launcher.py:53: FutureWarning: Pass y=[ 0.02484131  0.01705933  0.01412964 ... -0.0017395   0.00250244\n",
      "  0.        ], sr=16000 as keyword args. From version 0.10 passing these as positional arguments will result in an error\n",
      "C:\\Users\\yutan\\anaconda3\\envs\\tensorflow\\lib\\site-packages\\ipykernel_launcher.py:53: FutureWarning: Pass y=[-3.8718013e-06 -8.0908276e-06 -2.6390671e-05 ... -3.7804517e-04\n",
      " -2.3504226e-05 -5.3155428e-04], sr=16000 as keyword args. From version 0.10 passing these as positional arguments will result in an error\n",
      "C:\\Users\\yutan\\anaconda3\\envs\\tensorflow\\lib\\site-packages\\ipykernel_launcher.py:53: FutureWarning: Pass y=[-0.00067139  0.00378418  0.00079346 ... -0.00796509  0.0085144\n",
      "  0.00350952], sr=16000 as keyword args. From version 0.10 passing these as positional arguments will result in an error\n",
      "C:\\Users\\yutan\\anaconda3\\envs\\tensorflow\\lib\\site-packages\\ipykernel_launcher.py:53: FutureWarning: Pass y=[-3.0517578e-05  0.0000000e+00 -3.0517578e-05 ... -1.5258789e-04\n",
      "  3.0517578e-05  0.0000000e+00], sr=16000 as keyword args. From version 0.10 passing these as positional arguments will result in an error\n"
     ]
    },
    {
     "name": "stdout",
     "output_type": "stream",
     "text": [
      "(20, 38)\n",
      "(20, 38)\n",
      "(20, 38)\n",
      "(20, 38)\n",
      "(20, 38)\n"
     ]
    },
    {
     "name": "stderr",
     "output_type": "stream",
     "text": [
      "C:\\Users\\yutan\\anaconda3\\envs\\tensorflow\\lib\\site-packages\\ipykernel_launcher.py:53: FutureWarning: Pass y=[ 1.0138269e-06 -3.7980139e-06  2.2419588e-05 ...  6.3772663e-05\n",
      "  5.8176553e-05  6.5576511e-05], sr=16000 as keyword args. From version 0.10 passing these as positional arguments will result in an error\n",
      "C:\\Users\\yutan\\anaconda3\\envs\\tensorflow\\lib\\site-packages\\ipykernel_launcher.py:53: FutureWarning: Pass y=[-0.027771   -0.04370117 -0.05212402 ... -0.0012207  -0.00097656\n",
      "  0.00048828], sr=16000 as keyword args. From version 0.10 passing these as positional arguments will result in an error\n",
      "C:\\Users\\yutan\\anaconda3\\envs\\tensorflow\\lib\\site-packages\\ipykernel_launcher.py:53: FutureWarning: Pass y=[2.7539389e-05 3.4575954e-05 1.1615641e-05 ... 2.8671979e-05 1.3928925e-05\n",
      " 6.8485319e-06], sr=16000 as keyword args. From version 0.10 passing these as positional arguments will result in an error\n",
      "C:\\Users\\yutan\\anaconda3\\envs\\tensorflow\\lib\\site-packages\\ipykernel_launcher.py:53: FutureWarning: Pass y=[0.         0.         0.         ... 0.00024414 0.00024414 0.00021362], sr=16000 as keyword args. From version 0.10 passing these as positional arguments will result in an error\n",
      "C:\\Users\\yutan\\anaconda3\\envs\\tensorflow\\lib\\site-packages\\ipykernel_launcher.py:53: FutureWarning: Pass y=[ 0.00726318  0.00830078  0.01211548 ...  0.00045776  0.0027771\n",
      " -0.00100708], sr=16000 as keyword args. From version 0.10 passing these as positional arguments will result in an error\n"
     ]
    },
    {
     "name": "stdout",
     "output_type": "stream",
     "text": [
      "(20, 38)\n",
      "(20, 38)\n",
      "(20, 38)\n",
      "(20, 38)\n"
     ]
    },
    {
     "name": "stderr",
     "output_type": "stream",
     "text": [
      "C:\\Users\\yutan\\anaconda3\\envs\\tensorflow\\lib\\site-packages\\ipykernel_launcher.py:53: FutureWarning: Pass y=[ 8.1182261e-06 -1.3333121e-05  2.1096039e-06 ... -2.7975379e-05\n",
      "  5.9312902e-06 -4.6856690e-05], sr=16000 as keyword args. From version 0.10 passing these as positional arguments will result in an error\n",
      "C:\\Users\\yutan\\anaconda3\\envs\\tensorflow\\lib\\site-packages\\ipykernel_launcher.py:53: FutureWarning: Pass y=[ 1.0571185e-03 -6.8815616e-03 -1.4941155e-02 ...  2.0005098e-06\n",
      " -2.0348680e-06  2.0292714e-06], sr=16000 as keyword args. From version 0.10 passing these as positional arguments will result in an error\n",
      "C:\\Users\\yutan\\anaconda3\\envs\\tensorflow\\lib\\site-packages\\ipykernel_launcher.py:53: FutureWarning: Pass y=[-0.01116943 -0.00436401  0.00610352 ...  0.00018311  0.00387573\n",
      " -0.00692749], sr=16000 as keyword args. From version 0.10 passing these as positional arguments will result in an error\n",
      "C:\\Users\\yutan\\anaconda3\\envs\\tensorflow\\lib\\site-packages\\ipykernel_launcher.py:53: FutureWarning: Pass y=[-2.0324707e-02  1.8310547e-03  3.8574219e-02 ...  4.8828125e-04\n",
      " -3.0517578e-05 -4.5776367e-04], sr=16000 as keyword args. From version 0.10 passing these as positional arguments will result in an error\n",
      "C:\\Users\\yutan\\anaconda3\\envs\\tensorflow\\lib\\site-packages\\ipykernel_launcher.py:53: FutureWarning: Pass y=[ 0.01062012  0.00210571  0.01519775 ... -0.00280762  0.00097656\n",
      " -0.00152588], sr=16000 as keyword args. From version 0.10 passing these as positional arguments will result in an error\n",
      "C:\\Users\\yutan\\anaconda3\\envs\\tensorflow\\lib\\site-packages\\ipykernel_launcher.py:53: FutureWarning: Pass y=[ 0.00302124  0.00363159  0.00332642 ...  0.00106812  0.00146484\n",
      " -0.00061035], sr=16000 as keyword args. From version 0.10 passing these as positional arguments will result in an error\n",
      "C:\\Users\\yutan\\anaconda3\\envs\\tensorflow\\lib\\site-packages\\ipykernel_launcher.py:53: FutureWarning: Pass y=[-0.01217651  0.0045166  -0.01074219 ...  0.01229858 -0.00476074\n",
      "  0.00790405], sr=16000 as keyword args. From version 0.10 passing these as positional arguments will result in an error\n"
     ]
    },
    {
     "name": "stdout",
     "output_type": "stream",
     "text": [
      "(20, 38)\n",
      "(20, 38)\n",
      "(20, 38)\n",
      "(20, 38)\n",
      "(20, 38)\n",
      "(20, 38)\n",
      "(20, 38)\n",
      "(20, 38)\n"
     ]
    },
    {
     "name": "stderr",
     "output_type": "stream",
     "text": [
      "C:\\Users\\yutan\\anaconda3\\envs\\tensorflow\\lib\\site-packages\\ipykernel_launcher.py:53: FutureWarning: Pass y=[ 1.5472075e-05  2.0041043e-05 -1.9699210e-06 ... -1.2030640e-04\n",
      " -2.1951430e-04 -1.8436555e-04], sr=16000 as keyword args. From version 0.10 passing these as positional arguments will result in an error\n",
      "C:\\Users\\yutan\\anaconda3\\envs\\tensorflow\\lib\\site-packages\\ipykernel_launcher.py:53: FutureWarning: Pass y=[-3.0517578e-05  0.0000000e+00  3.0517578e-05 ...  0.0000000e+00\n",
      " -3.0517578e-05 -3.0517578e-05], sr=16000 as keyword args. From version 0.10 passing these as positional arguments will result in an error\n",
      "C:\\Users\\yutan\\anaconda3\\envs\\tensorflow\\lib\\site-packages\\ipykernel_launcher.py:53: FutureWarning: Pass y=[-4.3583350e-05  6.1757669e-06 -2.8281293e-06 ... -1.4021570e-05\n",
      " -3.1098050e-05 -1.4926326e-06], sr=16000 as keyword args. From version 0.10 passing these as positional arguments will result in an error\n",
      "C:\\Users\\yutan\\anaconda3\\envs\\tensorflow\\lib\\site-packages\\ipykernel_launcher.py:53: FutureWarning: Pass y=[ 0.00039673 -0.00057983  0.00030518 ...  0.00057983  0.00042725\n",
      " -0.00054932], sr=16000 as keyword args. From version 0.10 passing these as positional arguments will result in an error\n",
      "C:\\Users\\yutan\\anaconda3\\envs\\tensorflow\\lib\\site-packages\\ipykernel_launcher.py:53: FutureWarning: Pass y=[ 0.0000000e+00  3.0517578e-05 -3.0517578e-05 ...  0.0000000e+00\n",
      " -3.0517578e-05  0.0000000e+00], sr=16000 as keyword args. From version 0.10 passing these as positional arguments will result in an error\n"
     ]
    },
    {
     "name": "stdout",
     "output_type": "stream",
     "text": [
      "(20, 38)\n",
      "(20, 38)\n",
      "(20, 38)\n",
      "(20, 38)\n",
      "(20, 38)\n"
     ]
    },
    {
     "name": "stderr",
     "output_type": "stream",
     "text": [
      "C:\\Users\\yutan\\anaconda3\\envs\\tensorflow\\lib\\site-packages\\ipykernel_launcher.py:53: FutureWarning: Pass y=[-1.4650356e-05  4.1857747e-06 -4.6110990e-06 ...  7.3501992e-04\n",
      "  7.3525292e-04  7.6406298e-04], sr=16000 as keyword args. From version 0.10 passing these as positional arguments will result in an error\n",
      "C:\\Users\\yutan\\anaconda3\\envs\\tensorflow\\lib\\site-packages\\ipykernel_launcher.py:53: FutureWarning: Pass y=[ 1.3033104e-04  6.7597641e-05  8.0935199e-05 ...  2.8474782e-05\n",
      "  4.9221080e-06 -1.3857829e-06], sr=16000 as keyword args. From version 0.10 passing these as positional arguments will result in an error\n"
     ]
    },
    {
     "name": "stdout",
     "output_type": "stream",
     "text": [
      "(20, 38)\n",
      "(20, 38)\n"
     ]
    },
    {
     "name": "stderr",
     "output_type": "stream",
     "text": [
      "C:\\Users\\yutan\\anaconda3\\envs\\tensorflow\\lib\\site-packages\\ipykernel_launcher.py:53: FutureWarning: Pass y=[8.5720174e-05 8.8358989e-05 1.8821102e-05 ... 1.0675986e-05 3.6266953e-05\n",
      " 6.5356980e-05], sr=16000 as keyword args. From version 0.10 passing these as positional arguments will result in an error\n",
      "C:\\Users\\yutan\\anaconda3\\envs\\tensorflow\\lib\\site-packages\\ipykernel_launcher.py:53: FutureWarning: Pass y=[7.70783754e-06 1.55908856e-05 3.69021182e-05 ... 1.03774866e-04\n",
      " 1.16557319e-04 9.14911070e-05], sr=16000 as keyword args. From version 0.10 passing these as positional arguments will result in an error\n"
     ]
    },
    {
     "name": "stdout",
     "output_type": "stream",
     "text": [
      "(20, 38)\n",
      "(20, 38)\n",
      "(20, 38)\n"
     ]
    },
    {
     "name": "stderr",
     "output_type": "stream",
     "text": [
      "C:\\Users\\yutan\\anaconda3\\envs\\tensorflow\\lib\\site-packages\\ipykernel_launcher.py:53: FutureWarning: Pass y=[ 1.5760791e-02  1.6871421e-02  1.6740201e-02 ... -8.3072744e-05\n",
      "  8.2154547e-05 -4.6583311e-05], sr=16000 as keyword args. From version 0.10 passing these as positional arguments will result in an error\n",
      "C:\\Users\\yutan\\anaconda3\\envs\\tensorflow\\lib\\site-packages\\ipykernel_launcher.py:53: FutureWarning: Pass y=[ 0.00732422  0.00619507  0.00491333 ... -0.00027466  0.00109863\n",
      "  0.00027466], sr=16000 as keyword args. From version 0.10 passing these as positional arguments will result in an error\n",
      "C:\\Users\\yutan\\anaconda3\\envs\\tensorflow\\lib\\site-packages\\ipykernel_launcher.py:53: FutureWarning: Pass y=[-2.2975346e-05  3.3478040e-07  7.6746522e-07 ... -2.1350304e-05\n",
      "  7.7878096e-05  1.4933579e-05], sr=16000 as keyword args. From version 0.10 passing these as positional arguments will result in an error\n"
     ]
    },
    {
     "name": "stdout",
     "output_type": "stream",
     "text": [
      "(20, 38)\n",
      "(20, 38)\n",
      "(20, 38)\n",
      "(20, 38)\n"
     ]
    },
    {
     "name": "stderr",
     "output_type": "stream",
     "text": [
      "C:\\Users\\yutan\\anaconda3\\envs\\tensorflow\\lib\\site-packages\\ipykernel_launcher.py:53: FutureWarning: Pass y=[ 1.9931188e-02  2.2438288e-02  2.4365798e-02 ...  9.8772522e-05\n",
      "  2.2779409e-04 -1.2420252e-04], sr=16000 as keyword args. From version 0.10 passing these as positional arguments will result in an error\n",
      "C:\\Users\\yutan\\anaconda3\\envs\\tensorflow\\lib\\site-packages\\ipykernel_launcher.py:53: FutureWarning: Pass y=[ 0.00137329 -0.0045166   0.00128174 ...  0.00415039 -0.00680542\n",
      " -0.0022583 ], sr=16000 as keyword args. From version 0.10 passing these as positional arguments will result in an error\n",
      "C:\\Users\\yutan\\anaconda3\\envs\\tensorflow\\lib\\site-packages\\ipykernel_launcher.py:53: FutureWarning: Pass y=[-5.6457520e-02 -6.0913086e-02 -5.2642822e-02 ...  3.0517578e-05\n",
      "  6.1035156e-05  6.1035156e-05], sr=16000 as keyword args. From version 0.10 passing these as positional arguments will result in an error\n",
      "C:\\Users\\yutan\\anaconda3\\envs\\tensorflow\\lib\\site-packages\\ipykernel_launcher.py:53: FutureWarning: Pass y=[-9.0850863e-06  3.3609398e-05  1.3214877e-05 ...  1.6596312e-04\n",
      "  1.3607676e-04  9.7992044e-05], sr=16000 as keyword args. From version 0.10 passing these as positional arguments will result in an error\n",
      "C:\\Users\\yutan\\anaconda3\\envs\\tensorflow\\lib\\site-packages\\ipykernel_launcher.py:53: FutureWarning: Pass y=[-5.4321289e-03 -6.1645508e-03 -6.8359375e-03 ...  0.0000000e+00\n",
      " -6.1035156e-05  3.0517578e-05], sr=16000 as keyword args. From version 0.10 passing these as positional arguments will result in an error\n",
      "C:\\Users\\yutan\\anaconda3\\envs\\tensorflow\\lib\\site-packages\\ipykernel_launcher.py:53: FutureWarning: Pass y=[-2.0141602e-03 -3.1433105e-03 -1.3031006e-02 ...  3.0517578e-05\n",
      " -3.3569336e-04 -1.5258789e-04], sr=16000 as keyword args. From version 0.10 passing these as positional arguments will result in an error\n",
      "C:\\Users\\yutan\\anaconda3\\envs\\tensorflow\\lib\\site-packages\\ipykernel_launcher.py:53: FutureWarning: Pass y=[-0.00384521  0.00973511  0.00280762 ...  0.00161743 -0.00805664\n",
      "  0.00149536], sr=16000 as keyword args. From version 0.10 passing these as positional arguments will result in an error\n",
      "C:\\Users\\yutan\\anaconda3\\envs\\tensorflow\\lib\\site-packages\\ipykernel_launcher.py:53: FutureWarning: Pass y=[ 0.00634766 -0.00280762 -0.00061035 ... -0.00241089 -0.00100708\n",
      " -0.00085449], sr=16000 as keyword args. From version 0.10 passing these as positional arguments will result in an error\n",
      "C:\\Users\\yutan\\anaconda3\\envs\\tensorflow\\lib\\site-packages\\ipykernel_launcher.py:53: FutureWarning: Pass y=[-0.03652954 -0.02966309 -0.02722168 ...  0.0010376   0.00036621\n",
      " -0.00134277], sr=16000 as keyword args. From version 0.10 passing these as positional arguments will result in an error\n"
     ]
    },
    {
     "name": "stdout",
     "output_type": "stream",
     "text": [
      "(20, 38)\n",
      "(20, 38)\n",
      "(20, 38)\n",
      "(20, 38)\n",
      "(20, 38)\n",
      "(20, 38)\n",
      "(20, 38)\n"
     ]
    },
    {
     "name": "stderr",
     "output_type": "stream",
     "text": [
      "C:\\Users\\yutan\\anaconda3\\envs\\tensorflow\\lib\\site-packages\\ipykernel_launcher.py:53: FutureWarning: Pass y=[-7.8343392e-06 -3.6178586e-05 -2.6229134e-05 ... -1.6484989e-03\n",
      " -1.2634764e-03 -5.7257077e-04], sr=16000 as keyword args. From version 0.10 passing these as positional arguments will result in an error\n",
      "C:\\Users\\yutan\\anaconda3\\envs\\tensorflow\\lib\\site-packages\\ipykernel_launcher.py:53: FutureWarning: Pass y=[-2.0371092e-05 -3.2812801e-05 -3.3085780e-05 ... -8.3265741e-06\n",
      "  1.3868566e-05  3.6499394e-05], sr=16000 as keyword args. From version 0.10 passing these as positional arguments will result in an error\n",
      "C:\\Users\\yutan\\anaconda3\\envs\\tensorflow\\lib\\site-packages\\ipykernel_launcher.py:53: FutureWarning: Pass y=[ 0.00115967 -0.00140381 -0.00189209 ... -0.00012207 -0.00878906\n",
      "  0.0022583 ], sr=16000 as keyword args. From version 0.10 passing these as positional arguments will result in an error\n"
     ]
    },
    {
     "name": "stdout",
     "output_type": "stream",
     "text": [
      "(20, 38)\n",
      "(20, 38)\n",
      "(20, 38)\n",
      "(20, 38)\n",
      "(20, 38)\n",
      "(20, 38)\n"
     ]
    },
    {
     "name": "stderr",
     "output_type": "stream",
     "text": [
      "C:\\Users\\yutan\\anaconda3\\envs\\tensorflow\\lib\\site-packages\\ipykernel_launcher.py:53: FutureWarning: Pass y=[-6.6528320e-03 -1.2664795e-02 -1.1077881e-02 ...  1.4343262e-03\n",
      "  6.1035156e-05  3.0517578e-04], sr=16000 as keyword args. From version 0.10 passing these as positional arguments will result in an error\n",
      "C:\\Users\\yutan\\anaconda3\\envs\\tensorflow\\lib\\site-packages\\ipykernel_launcher.py:53: FutureWarning: Pass y=[ 6.6717796e-05  4.8557681e-06 -1.7275876e-05 ... -1.0195511e-04\n",
      " -6.7481204e-05 -9.9072800e-05], sr=16000 as keyword args. From version 0.10 passing these as positional arguments will result in an error\n",
      "C:\\Users\\yutan\\anaconda3\\envs\\tensorflow\\lib\\site-packages\\ipykernel_launcher.py:53: FutureWarning: Pass y=[-0.00256348 -0.00082397  0.00244141 ...  0.00622559 -0.003479\n",
      " -0.00289917], sr=16000 as keyword args. From version 0.10 passing these as positional arguments will result in an error\n"
     ]
    },
    {
     "name": "stdout",
     "output_type": "stream",
     "text": [
      "(20, 38)\n",
      "(20, 38)\n",
      "(20, 38)\n"
     ]
    },
    {
     "name": "stderr",
     "output_type": "stream",
     "text": [
      "C:\\Users\\yutan\\anaconda3\\envs\\tensorflow\\lib\\site-packages\\ipykernel_launcher.py:53: FutureWarning: Pass y=[ 3.1150092e-05 -3.7556812e-05  1.2319845e-05 ...  4.4949284e-05\n",
      " -1.2039545e-05  3.0606490e-05], sr=16000 as keyword args. From version 0.10 passing these as positional arguments will result in an error\n",
      "C:\\Users\\yutan\\anaconda3\\envs\\tensorflow\\lib\\site-packages\\ipykernel_launcher.py:53: FutureWarning: Pass y=[-5.9297654e-06  1.2957813e-05 -4.5414713e-06 ... -2.3804932e-05\n",
      "  1.0896164e-05  2.7802189e-05], sr=16000 as keyword args. From version 0.10 passing these as positional arguments will result in an error\n",
      "C:\\Users\\yutan\\anaconda3\\envs\\tensorflow\\lib\\site-packages\\ipykernel_launcher.py:53: FutureWarning: Pass y=[-3.0517578e-05 -3.0517578e-05  3.0517578e-05 ... -1.8310547e-04\n",
      "  0.0000000e+00  1.5869141e-03], sr=16000 as keyword args. From version 0.10 passing these as positional arguments will result in an error\n",
      "C:\\Users\\yutan\\anaconda3\\envs\\tensorflow\\lib\\site-packages\\ipykernel_launcher.py:53: FutureWarning: Pass y=[-3.0517578e-05  0.0000000e+00 -3.0517578e-05 ...  3.0517578e-05\n",
      " -3.0517578e-05 -3.0517578e-05], sr=16000 as keyword args. From version 0.10 passing these as positional arguments will result in an error\n",
      "C:\\Users\\yutan\\anaconda3\\envs\\tensorflow\\lib\\site-packages\\ipykernel_launcher.py:53: FutureWarning: Pass y=[-3.0517578e-05 -3.0517578e-05 -3.0517578e-05 ... -9.1552734e-05\n",
      "  1.8310547e-04 -2.1362305e-04], sr=16000 as keyword args. From version 0.10 passing these as positional arguments will result in an error\n",
      "C:\\Users\\yutan\\anaconda3\\envs\\tensorflow\\lib\\site-packages\\ipykernel_launcher.py:53: FutureWarning: Pass y=[-2.0812988e-02 -2.0935059e-02 -1.7639160e-02 ...  0.0000000e+00\n",
      " -3.0517578e-05 -6.1035156e-05], sr=16000 as keyword args. From version 0.10 passing these as positional arguments will result in an error\n"
     ]
    },
    {
     "name": "stdout",
     "output_type": "stream",
     "text": [
      "(20, 38)\n",
      "(20, 38)\n",
      "(20, 38)\n",
      "(20, 38)\n",
      "(20, 38)\n",
      "(20, 38)\n",
      "(20, 38)\n",
      "(20, 38)\n"
     ]
    },
    {
     "name": "stderr",
     "output_type": "stream",
     "text": [
      "C:\\Users\\yutan\\anaconda3\\envs\\tensorflow\\lib\\site-packages\\ipykernel_launcher.py:53: FutureWarning: Pass y=[-2.4652527e-06  3.0659015e-05  1.6465709e-05 ... -5.9418927e-04\n",
      " -6.5976125e-04 -7.4847520e-04], sr=16000 as keyword args. From version 0.10 passing these as positional arguments will result in an error\n",
      "C:\\Users\\yutan\\anaconda3\\envs\\tensorflow\\lib\\site-packages\\ipykernel_launcher.py:53: FutureWarning: Pass y=[ 0.00064087  0.01119995 -0.0015564  ...  0.00485229 -0.00561523\n",
      " -0.01126099], sr=16000 as keyword args. From version 0.10 passing these as positional arguments will result in an error\n",
      "C:\\Users\\yutan\\anaconda3\\envs\\tensorflow\\lib\\site-packages\\ipykernel_launcher.py:53: FutureWarning: Pass y=[-1.2512207e-03 -7.6293945e-04 -2.5024414e-03 ...  1.8920898e-03\n",
      " -1.2207031e-03 -3.0517578e-05], sr=16000 as keyword args. From version 0.10 passing these as positional arguments will result in an error\n",
      "C:\\Users\\yutan\\anaconda3\\envs\\tensorflow\\lib\\site-packages\\ipykernel_launcher.py:53: FutureWarning: Pass y=[-2.9108754e-05 -3.4185698e-05  3.0276424e-06 ... -1.0346817e-07\n",
      "  5.5963847e-07 -9.2945976e-07], sr=16000 as keyword args. From version 0.10 passing these as positional arguments will result in an error\n",
      "C:\\Users\\yutan\\anaconda3\\envs\\tensorflow\\lib\\site-packages\\ipykernel_launcher.py:53: FutureWarning: Pass y=[-3.0517578e-05  0.0000000e+00  0.0000000e+00 ...  3.0517578e-05\n",
      " -3.0517578e-05  0.0000000e+00], sr=16000 as keyword args. From version 0.10 passing these as positional arguments will result in an error\n"
     ]
    },
    {
     "name": "stdout",
     "output_type": "stream",
     "text": [
      "(20, 38)\n",
      "(20, 38)\n",
      "(20, 38)\n",
      "(20, 38)\n",
      "(20, 38)\n",
      "(20, 38)\n"
     ]
    },
    {
     "name": "stderr",
     "output_type": "stream",
     "text": [
      "C:\\Users\\yutan\\anaconda3\\envs\\tensorflow\\lib\\site-packages\\ipykernel_launcher.py:53: FutureWarning: Pass y=[ 6.8967797e-06 -2.0153686e-06  1.3925547e-06 ... -3.2231007e-03\n",
      " -3.0456420e-03 -2.8498862e-03], sr=16000 as keyword args. From version 0.10 passing these as positional arguments will result in an error\n",
      "C:\\Users\\yutan\\anaconda3\\envs\\tensorflow\\lib\\site-packages\\ipykernel_launcher.py:53: FutureWarning: Pass y=[ 0.0000000e+00 -3.0517578e-05 -3.0517578e-05 ... -3.0517578e-05\n",
      " -3.0517578e-05 -6.1035156e-05], sr=16000 as keyword args. From version 0.10 passing these as positional arguments will result in an error\n",
      "C:\\Users\\yutan\\anaconda3\\envs\\tensorflow\\lib\\site-packages\\ipykernel_launcher.py:53: FutureWarning: Pass y=[-0.01416016 -0.02185059 -0.02062988 ... -0.00018311  0.00012207\n",
      " -0.00140381], sr=16000 as keyword args. From version 0.10 passing these as positional arguments will result in an error\n",
      "C:\\Users\\yutan\\anaconda3\\envs\\tensorflow\\lib\\site-packages\\ipykernel_launcher.py:53: FutureWarning: Pass y=[ 0.00057983 -0.00512695 -0.00714111 ... -0.00674438  0.00753784\n",
      " -0.00204468], sr=16000 as keyword args. From version 0.10 passing these as positional arguments will result in an error\n",
      "C:\\Users\\yutan\\anaconda3\\envs\\tensorflow\\lib\\site-packages\\ipykernel_launcher.py:53: FutureWarning: Pass y=[-0.00839233 -0.00408936 -0.00872803 ... -0.01049805 -0.0020752\n",
      " -0.0005188 ], sr=16000 as keyword args. From version 0.10 passing these as positional arguments will result in an error\n",
      "C:\\Users\\yutan\\anaconda3\\envs\\tensorflow\\lib\\site-packages\\ipykernel_launcher.py:53: FutureWarning: Pass y=[-3.0517578e-05  0.0000000e+00  3.0517578e-05 ... -9.1552734e-05\n",
      " -9.1552734e-05 -1.2207031e-04], sr=16000 as keyword args. From version 0.10 passing these as positional arguments will result in an error\n"
     ]
    },
    {
     "name": "stdout",
     "output_type": "stream",
     "text": [
      "(20, 38)\n",
      "(20, 38)\n",
      "(20, 38)\n",
      "(20, 38)\n",
      "(20, 38)\n",
      "(20, 38)\n"
     ]
    },
    {
     "name": "stderr",
     "output_type": "stream",
     "text": [
      "C:\\Users\\yutan\\anaconda3\\envs\\tensorflow\\lib\\site-packages\\ipykernel_launcher.py:53: FutureWarning: Pass y=[ 0.00741577  0.0007019   0.00042725 ... -0.00170898 -0.00619507\n",
      "  0.0027771 ], sr=16000 as keyword args. From version 0.10 passing these as positional arguments will result in an error\n",
      "C:\\Users\\yutan\\anaconda3\\envs\\tensorflow\\lib\\site-packages\\ipykernel_launcher.py:53: FutureWarning: Pass y=[ 0.0000000e+00 -3.0517578e-05  0.0000000e+00 ...  0.0000000e+00\n",
      " -3.0517578e-05 -3.0517578e-05], sr=16000 as keyword args. From version 0.10 passing these as positional arguments will result in an error\n",
      "C:\\Users\\yutan\\anaconda3\\envs\\tensorflow\\lib\\site-packages\\ipykernel_launcher.py:53: FutureWarning: Pass y=[ 3.6839551e-06 -1.7107483e-05 -4.5732755e-05 ...  1.0013624e-02\n",
      "  1.1570403e-02  1.3792728e-02], sr=16000 as keyword args. From version 0.10 passing these as positional arguments will result in an error\n",
      "C:\\Users\\yutan\\anaconda3\\envs\\tensorflow\\lib\\site-packages\\ipykernel_launcher.py:53: FutureWarning: Pass y=[ 1.8114111e-05 -1.6032651e-05  2.0721925e-05 ... -3.0972860e-05\n",
      "  1.7570181e-05  1.9298725e-05], sr=16000 as keyword args. From version 0.10 passing these as positional arguments will result in an error\n"
     ]
    },
    {
     "name": "stdout",
     "output_type": "stream",
     "text": [
      "(20, 38)\n",
      "(20, 38)\n",
      "(20, 38)\n"
     ]
    },
    {
     "name": "stderr",
     "output_type": "stream",
     "text": [
      "C:\\Users\\yutan\\anaconda3\\envs\\tensorflow\\lib\\site-packages\\ipykernel_launcher.py:53: FutureWarning: Pass y=[-1.02064805e-02 -9.67677683e-03 -8.93739238e-03 ... -2.44518942e-05\n",
      " -2.25649751e-06  5.26838312e-06], sr=16000 as keyword args. From version 0.10 passing these as positional arguments will result in an error\n",
      "C:\\Users\\yutan\\anaconda3\\envs\\tensorflow\\lib\\site-packages\\ipykernel_launcher.py:53: FutureWarning: Pass y=[ 0.01864624  0.01800537  0.01409912 ... -0.0007019   0.00180054\n",
      " -0.00131226], sr=16000 as keyword args. From version 0.10 passing these as positional arguments will result in an error\n",
      "C:\\Users\\yutan\\anaconda3\\envs\\tensorflow\\lib\\site-packages\\ipykernel_launcher.py:53: FutureWarning: Pass y=[-3.0517578e-05 -3.0517578e-05  0.0000000e+00 ...  2.7465820e-04\n",
      "  2.7465820e-04  3.0517578e-04], sr=16000 as keyword args. From version 0.10 passing these as positional arguments will result in an error\n",
      "C:\\Users\\yutan\\anaconda3\\envs\\tensorflow\\lib\\site-packages\\ipykernel_launcher.py:53: FutureWarning: Pass y=[-0.01373291 -0.01376343 -0.01309204 ...  0.00192261  0.00247192\n",
      " -0.00204468], sr=16000 as keyword args. From version 0.10 passing these as positional arguments will result in an error\n",
      "C:\\Users\\yutan\\anaconda3\\envs\\tensorflow\\lib\\site-packages\\ipykernel_launcher.py:53: FutureWarning: Pass y=[-0.00421143  0.00314331  0.0020752  ... -0.00466919  0.00411987\n",
      "  0.00567627], sr=16000 as keyword args. From version 0.10 passing these as positional arguments will result in an error\n",
      "C:\\Users\\yutan\\anaconda3\\envs\\tensorflow\\lib\\site-packages\\ipykernel_launcher.py:53: FutureWarning: Pass y=[ 1.5258789e-04  1.8310547e-04  1.5258789e-04 ...  2.7465820e-04\n",
      " -1.2207031e-04 -3.0517578e-05], sr=16000 as keyword args. From version 0.10 passing these as positional arguments will result in an error\n",
      "C:\\Users\\yutan\\anaconda3\\envs\\tensorflow\\lib\\site-packages\\ipykernel_launcher.py:53: FutureWarning: Pass y=[ 3.4743174e-05 -2.2586042e-05 -2.4666462e-05 ... -2.0321552e-06\n",
      "  2.5123316e-05 -8.2453495e-05], sr=16000 as keyword args. From version 0.10 passing these as positional arguments will result in an error\n"
     ]
    },
    {
     "name": "stdout",
     "output_type": "stream",
     "text": [
      "(20, 38)\n",
      "(20, 38)\n",
      "(20, 38)\n",
      "(20, 38)\n",
      "(20, 38)\n",
      "(20, 38)\n",
      "(20, 38)\n",
      "(20, 38)\n",
      "(20, 38)\n",
      "(20, 38)\n",
      "(20, 38)\n"
     ]
    },
    {
     "name": "stderr",
     "output_type": "stream",
     "text": [
      "C:\\Users\\yutan\\anaconda3\\envs\\tensorflow\\lib\\site-packages\\ipykernel_launcher.py:53: FutureWarning: Pass y=[ 3.0517578e-05 -3.0517578e-05  0.0000000e+00 ... -3.0517578e-05\n",
      "  0.0000000e+00  0.0000000e+00], sr=16000 as keyword args. From version 0.10 passing these as positional arguments will result in an error\n",
      "C:\\Users\\yutan\\anaconda3\\envs\\tensorflow\\lib\\site-packages\\ipykernel_launcher.py:53: FutureWarning: Pass y=[-2.8625488e-02 -3.8055420e-02 -4.0405273e-02 ...  1.2207031e-04\n",
      " -9.1552734e-05 -6.1035156e-05], sr=16000 as keyword args. From version 0.10 passing these as positional arguments will result in an error\n",
      "C:\\Users\\yutan\\anaconda3\\envs\\tensorflow\\lib\\site-packages\\ipykernel_launcher.py:53: FutureWarning: Pass y=[ 1.1209100e-05  2.8572931e-05  4.5903966e-05 ... -2.2038228e-04\n",
      " -2.4954198e-04 -1.6039568e-04], sr=16000 as keyword args. From version 0.10 passing these as positional arguments will result in an error\n",
      "C:\\Users\\yutan\\anaconda3\\envs\\tensorflow\\lib\\site-packages\\ipykernel_launcher.py:53: FutureWarning: Pass y=[ 0.0000000e+00  0.0000000e+00 -3.0517578e-05 ...  2.1362305e-04\n",
      " -1.8310547e-04  6.1035156e-05], sr=16000 as keyword args. From version 0.10 passing these as positional arguments will result in an error\n"
     ]
    },
    {
     "name": "stdout",
     "output_type": "stream",
     "text": [
      "(20, 38)\n",
      "(20, 38)\n",
      "(20, 38)\n",
      "(20, 38)\n"
     ]
    },
    {
     "name": "stderr",
     "output_type": "stream",
     "text": [
      "C:\\Users\\yutan\\anaconda3\\envs\\tensorflow\\lib\\site-packages\\ipykernel_launcher.py:53: FutureWarning: Pass y=[ 2.0080097e-05  3.0625222e-05  3.2204825e-05 ... -7.2770886e-04\n",
      " -6.5261754e-04 -5.9902883e-04], sr=16000 as keyword args. From version 0.10 passing these as positional arguments will result in an error\n",
      "C:\\Users\\yutan\\anaconda3\\envs\\tensorflow\\lib\\site-packages\\ipykernel_launcher.py:53: FutureWarning: Pass y=[ 0.0000000e+00  0.0000000e+00  0.0000000e+00 ... -3.0517578e-05\n",
      "  0.0000000e+00  0.0000000e+00], sr=16000 as keyword args. From version 0.10 passing these as positional arguments will result in an error\n",
      "C:\\Users\\yutan\\anaconda3\\envs\\tensorflow\\lib\\site-packages\\ipykernel_launcher.py:53: FutureWarning: Pass y=[ 2.59943681e-06  1.10471365e-05 -1.18160115e-05 ... -3.64500775e-05\n",
      " -5.47191576e-06 -3.26675327e-05], sr=16000 as keyword args. From version 0.10 passing these as positional arguments will result in an error\n"
     ]
    },
    {
     "name": "stdout",
     "output_type": "stream",
     "text": [
      "(20, 38)\n",
      "(20, 38)\n",
      "(20, 38)\n",
      "(20, 38)\n"
     ]
    },
    {
     "name": "stderr",
     "output_type": "stream",
     "text": [
      "C:\\Users\\yutan\\anaconda3\\envs\\tensorflow\\lib\\site-packages\\ipykernel_launcher.py:53: FutureWarning: Pass y=[-3.7306396e-05 -3.5797548e-05 -3.3241820e-05 ... -6.1421459e-05\n",
      " -8.2736740e-05 -4.3403550e-05], sr=16000 as keyword args. From version 0.10 passing these as positional arguments will result in an error\n",
      "C:\\Users\\yutan\\anaconda3\\envs\\tensorflow\\lib\\site-packages\\ipykernel_launcher.py:53: FutureWarning: Pass y=[-0.00033569  0.00134277 -0.0020752  ...  0.00494385  0.00268555\n",
      "  0.00106812], sr=16000 as keyword args. From version 0.10 passing these as positional arguments will result in an error\n",
      "C:\\Users\\yutan\\anaconda3\\envs\\tensorflow\\lib\\site-packages\\ipykernel_launcher.py:53: FutureWarning: Pass y=[ 0.00466919 -0.01922607 -0.01174927 ... -0.00073242 -0.00030518\n",
      "  0.00018311], sr=16000 as keyword args. From version 0.10 passing these as positional arguments will result in an error\n",
      "C:\\Users\\yutan\\anaconda3\\envs\\tensorflow\\lib\\site-packages\\ipykernel_launcher.py:53: FutureWarning: Pass y=[-1.6751726e-05 -2.3910588e-05  2.2961704e-05 ... -1.1563338e-04\n",
      "  1.7144301e-05  5.2251562e-05], sr=16000 as keyword args. From version 0.10 passing these as positional arguments will result in an error\n"
     ]
    },
    {
     "name": "stdout",
     "output_type": "stream",
     "text": [
      "(20, 38)\n",
      "(20, 38)\n",
      "(20, 38)\n",
      "(20, 38)\n"
     ]
    },
    {
     "name": "stderr",
     "output_type": "stream",
     "text": [
      "C:\\Users\\yutan\\anaconda3\\envs\\tensorflow\\lib\\site-packages\\ipykernel_launcher.py:53: FutureWarning: Pass y=[0.0000000e+00 3.0517578e-05 0.0000000e+00 ... 0.0000000e+00 6.1035156e-05\n",
      " 6.1035156e-05], sr=16000 as keyword args. From version 0.10 passing these as positional arguments will result in an error\n",
      "C:\\Users\\yutan\\anaconda3\\envs\\tensorflow\\lib\\site-packages\\ipykernel_launcher.py:53: FutureWarning: Pass y=[-2.0033734e-05 -2.8038436e-05 -2.0211783e-05 ... -2.6629824e-04\n",
      " -2.5272500e-04 -2.3258926e-04], sr=16000 as keyword args. From version 0.10 passing these as positional arguments will result in an error\n",
      "C:\\Users\\yutan\\anaconda3\\envs\\tensorflow\\lib\\site-packages\\ipykernel_launcher.py:53: FutureWarning: Pass y=[-4.2960477e-05 -3.2109845e-06 -2.2127169e-06 ... -1.5068492e-04\n",
      " -1.5383132e-04 -1.2245680e-04], sr=16000 as keyword args. From version 0.10 passing these as positional arguments will result in an error\n"
     ]
    },
    {
     "name": "stdout",
     "output_type": "stream",
     "text": [
      "(20, 38)\n",
      "(20, 38)\n",
      "(20, 38)\n"
     ]
    },
    {
     "name": "stderr",
     "output_type": "stream",
     "text": [
      "C:\\Users\\yutan\\anaconda3\\envs\\tensorflow\\lib\\site-packages\\ipykernel_launcher.py:53: FutureWarning: Pass y=[-0.00067139 -0.00112915 -0.00427246 ... -0.00665283  0.00387573\n",
      "  0.00921631], sr=16000 as keyword args. From version 0.10 passing these as positional arguments will result in an error\n",
      "C:\\Users\\yutan\\anaconda3\\envs\\tensorflow\\lib\\site-packages\\ipykernel_launcher.py:53: FutureWarning: Pass y=[-1.4554175e-05 -1.1458775e-05 -3.2496114e-06 ... -6.3399610e-05\n",
      " -5.5276807e-05 -3.1541818e-05], sr=16000 as keyword args. From version 0.10 passing these as positional arguments will result in an error\n",
      "C:\\Users\\yutan\\anaconda3\\envs\\tensorflow\\lib\\site-packages\\ipykernel_launcher.py:53: FutureWarning: Pass y=[-0.01177979 -0.0067749  -0.01037598 ... -0.00082397 -0.00057983\n",
      " -0.00039673], sr=16000 as keyword args. From version 0.10 passing these as positional arguments will result in an error\n",
      "C:\\Users\\yutan\\anaconda3\\envs\\tensorflow\\lib\\site-packages\\ipykernel_launcher.py:53: FutureWarning: Pass y=[ 0.00326538 -0.0055542   0.00192261 ...  0.01477051 -0.00427246\n",
      "  0.00378418], sr=16000 as keyword args. From version 0.10 passing these as positional arguments will result in an error\n",
      "C:\\Users\\yutan\\anaconda3\\envs\\tensorflow\\lib\\site-packages\\ipykernel_launcher.py:53: FutureWarning: Pass y=[-3.0517578e-05  0.0000000e+00  0.0000000e+00 ... -3.0517578e-05\n",
      " -3.0517578e-05  0.0000000e+00], sr=16000 as keyword args. From version 0.10 passing these as positional arguments will result in an error\n"
     ]
    },
    {
     "name": "stdout",
     "output_type": "stream",
     "text": [
      "(20, 38)\n",
      "(20, 38)\n",
      "(20, 38)\n",
      "(20, 38)\n",
      "(20, 38)\n",
      "(20, 38)\n",
      "(20, 38)\n"
     ]
    },
    {
     "name": "stderr",
     "output_type": "stream",
     "text": [
      "C:\\Users\\yutan\\anaconda3\\envs\\tensorflow\\lib\\site-packages\\ipykernel_launcher.py:53: FutureWarning: Pass y=[ 3.7292480e-02  2.8167725e-02  1.3031006e-02 ... -3.0517578e-05\n",
      "  6.1035156e-05 -6.1035156e-05], sr=16000 as keyword args. From version 0.10 passing these as positional arguments will result in an error\n",
      "C:\\Users\\yutan\\anaconda3\\envs\\tensorflow\\lib\\site-packages\\ipykernel_launcher.py:53: FutureWarning: Pass y=[-1.35984495e-02 -1.44657344e-02 -1.83832385e-02 ...  1.52349949e-05\n",
      "  1.60345095e-04  2.30663204e-06], sr=16000 as keyword args. From version 0.10 passing these as positional arguments will result in an error\n",
      "C:\\Users\\yutan\\anaconda3\\envs\\tensorflow\\lib\\site-packages\\ipykernel_launcher.py:53: FutureWarning: Pass y=[-0.02560425 -0.01000977  0.0138855  ...  0.00201416  0.00036621\n",
      " -0.00039673], sr=16000 as keyword args. From version 0.10 passing these as positional arguments will result in an error\n"
     ]
    },
    {
     "name": "stdout",
     "output_type": "stream",
     "text": [
      "(20, 38)\n",
      "(20, 38)\n",
      "(20, 38)\n"
     ]
    },
    {
     "name": "stderr",
     "output_type": "stream",
     "text": [
      "C:\\Users\\yutan\\anaconda3\\envs\\tensorflow\\lib\\site-packages\\ipykernel_launcher.py:53: FutureWarning: Pass y=[ 5.2189162e-06  4.8764567e-05  6.7279958e-05 ...  5.1380561e-05\n",
      " -2.6054535e-05 -6.0007544e-05], sr=16000 as keyword args. From version 0.10 passing these as positional arguments will result in an error\n",
      "C:\\Users\\yutan\\anaconda3\\envs\\tensorflow\\lib\\site-packages\\ipykernel_launcher.py:53: FutureWarning: Pass y=[-2.5004556e-05 -9.2452370e-05 -1.9079207e-05 ... -2.6214637e-05\n",
      "  2.8829140e-06 -1.9847405e-06], sr=16000 as keyword args. From version 0.10 passing these as positional arguments will result in an error\n",
      "C:\\Users\\yutan\\anaconda3\\envs\\tensorflow\\lib\\site-packages\\ipykernel_launcher.py:53: FutureWarning: Pass y=[-5.0244789e-06  3.6491550e-05  6.5810797e-05 ...  2.7854582e-03\n",
      "  2.4805365e-03  2.2111754e-03], sr=16000 as keyword args. From version 0.10 passing these as positional arguments will result in an error\n"
     ]
    },
    {
     "name": "stdout",
     "output_type": "stream",
     "text": [
      "(20, 38)\n",
      "(20, 38)\n"
     ]
    },
    {
     "name": "stderr",
     "output_type": "stream",
     "text": [
      "C:\\Users\\yutan\\anaconda3\\envs\\tensorflow\\lib\\site-packages\\ipykernel_launcher.py:53: FutureWarning: Pass y=[-2.62849862e-05 -3.32921336e-05 -1.09230905e-05 ... -5.30323850e-05\n",
      "  5.38141467e-06 -7.53029099e-06], sr=16000 as keyword args. From version 0.10 passing these as positional arguments will result in an error\n",
      "C:\\Users\\yutan\\anaconda3\\envs\\tensorflow\\lib\\site-packages\\ipykernel_launcher.py:53: FutureWarning: Pass y=[-0.006073    0.00012207  0.00323486 ...  0.00082397 -0.00039673\n",
      " -0.00064087], sr=16000 as keyword args. From version 0.10 passing these as positional arguments will result in an error\n",
      "C:\\Users\\yutan\\anaconda3\\envs\\tensorflow\\lib\\site-packages\\ipykernel_launcher.py:53: FutureWarning: Pass y=[-0.00021362 -0.00222778 -0.00366211 ...  0.00878906  0.00283813\n",
      " -0.00695801], sr=16000 as keyword args. From version 0.10 passing these as positional arguments will result in an error\n",
      "C:\\Users\\yutan\\anaconda3\\envs\\tensorflow\\lib\\site-packages\\ipykernel_launcher.py:53: FutureWarning: Pass y=[-0.01379395 -0.00787354  0.00033569 ...  0.00054932 -0.00091553\n",
      " -0.00082397], sr=16000 as keyword args. From version 0.10 passing these as positional arguments will result in an error\n",
      "C:\\Users\\yutan\\anaconda3\\envs\\tensorflow\\lib\\site-packages\\ipykernel_launcher.py:53: FutureWarning: Pass y=[-6.7231857e-05 -1.2614821e-05  2.7526818e-05 ... -6.1316961e-05\n",
      " -6.8969150e-08 -3.5213168e-06], sr=16000 as keyword args. From version 0.10 passing these as positional arguments will result in an error\n",
      "C:\\Users\\yutan\\anaconda3\\envs\\tensorflow\\lib\\site-packages\\ipykernel_launcher.py:53: FutureWarning: Pass y=[-0.0022583   0.00170898 -0.00674438 ... -0.00811768 -0.00552368\n",
      " -0.00042725], sr=16000 as keyword args. From version 0.10 passing these as positional arguments will result in an error\n",
      "C:\\Users\\yutan\\anaconda3\\envs\\tensorflow\\lib\\site-packages\\ipykernel_launcher.py:53: FutureWarning: Pass y=[ 0.0000000e+00  0.0000000e+00 -3.0517578e-05 ...  9.1552734e-05\n",
      " -3.0517578e-05 -6.1035156e-05], sr=16000 as keyword args. From version 0.10 passing these as positional arguments will result in an error\n"
     ]
    },
    {
     "name": "stdout",
     "output_type": "stream",
     "text": [
      "(20, 38)\n",
      "(20, 38)\n",
      "(20, 38)\n",
      "(20, 38)\n",
      "(20, 38)\n",
      "(20, 38)\n",
      "(20, 38)\n"
     ]
    },
    {
     "name": "stderr",
     "output_type": "stream",
     "text": [
      "C:\\Users\\yutan\\anaconda3\\envs\\tensorflow\\lib\\site-packages\\ipykernel_launcher.py:53: FutureWarning: Pass y=[ 7.8609936e-02  4.5642573e-02 -5.4978639e-02 ...  8.6761411e-06\n",
      "  1.9227859e-06 -4.4787135e-05], sr=16000 as keyword args. From version 0.10 passing these as positional arguments will result in an error\n",
      "C:\\Users\\yutan\\anaconda3\\envs\\tensorflow\\lib\\site-packages\\ipykernel_launcher.py:53: FutureWarning: Pass y=[ 0.00198364  0.00109863  0.00415039 ...  0.00439453 -0.00170898\n",
      " -0.00921631], sr=16000 as keyword args. From version 0.10 passing these as positional arguments will result in an error\n",
      "C:\\Users\\yutan\\anaconda3\\envs\\tensorflow\\lib\\site-packages\\ipykernel_launcher.py:53: FutureWarning: Pass y=[-3.0517578e-05 -3.0517578e-05 -6.1035156e-05 ...  3.0517578e-05\n",
      "  3.0517578e-05  0.0000000e+00], sr=16000 as keyword args. From version 0.10 passing these as positional arguments will result in an error\n"
     ]
    },
    {
     "name": "stdout",
     "output_type": "stream",
     "text": [
      "(20, 38)\n",
      "(20, 38)\n",
      "(20, 38)\n",
      "(20, 38)\n",
      "(20, 38)\n",
      "(20, 38)\n"
     ]
    },
    {
     "name": "stderr",
     "output_type": "stream",
     "text": [
      "C:\\Users\\yutan\\anaconda3\\envs\\tensorflow\\lib\\site-packages\\ipykernel_launcher.py:53: FutureWarning: Pass y=[ 2.7342856e-05 -2.6732929e-05 -6.6064422e-07 ...  5.5547636e-05\n",
      " -3.2453783e-04  2.6918104e-04], sr=16000 as keyword args. From version 0.10 passing these as positional arguments will result in an error\n",
      "C:\\Users\\yutan\\anaconda3\\envs\\tensorflow\\lib\\site-packages\\ipykernel_launcher.py:53: FutureWarning: Pass y=[-1.4060951e-06  2.1178719e-05 -4.0341474e-06 ...  4.9941118e-06\n",
      "  2.8853734e-05  6.6934925e-05], sr=16000 as keyword args. From version 0.10 passing these as positional arguments will result in an error\n",
      "C:\\Users\\yutan\\anaconda3\\envs\\tensorflow\\lib\\site-packages\\ipykernel_launcher.py:53: FutureWarning: Pass y=[ 0.00524902 -0.00415039  0.00057983 ...  0.0038147   0.00149536\n",
      " -0.00842285], sr=16000 as keyword args. From version 0.10 passing these as positional arguments will result in an error\n",
      "C:\\Users\\yutan\\anaconda3\\envs\\tensorflow\\lib\\site-packages\\ipykernel_launcher.py:53: FutureWarning: Pass y=[-0.00280762 -0.00338745 -0.00491333 ...  0.00067139  0.00183105\n",
      "  0.00921631], sr=16000 as keyword args. From version 0.10 passing these as positional arguments will result in an error\n"
     ]
    },
    {
     "name": "stdout",
     "output_type": "stream",
     "text": [
      "(20, 38)\n",
      "(20, 38)\n",
      "(20, 38)\n",
      "(20, 38)\n"
     ]
    },
    {
     "name": "stderr",
     "output_type": "stream",
     "text": [
      "C:\\Users\\yutan\\anaconda3\\envs\\tensorflow\\lib\\site-packages\\ipykernel_launcher.py:53: FutureWarning: Pass y=[-3.4245553e-05 -8.4166822e-06  1.3610781e-06 ...  2.4163892e-05\n",
      " -4.0877867e-06 -3.5781344e-05], sr=16000 as keyword args. From version 0.10 passing these as positional arguments will result in an error\n",
      "C:\\Users\\yutan\\anaconda3\\envs\\tensorflow\\lib\\site-packages\\ipykernel_launcher.py:53: FutureWarning: Pass y=[ 1.8234584e-06 -2.5252690e-05  1.7738119e-05 ... -4.0031820e-05\n",
      " -3.5502871e-05  3.0778494e-05], sr=16000 as keyword args. From version 0.10 passing these as positional arguments will result in an error\n",
      "C:\\Users\\yutan\\anaconda3\\envs\\tensorflow\\lib\\site-packages\\ipykernel_launcher.py:53: FutureWarning: Pass y=[-2.8631470e-05 -3.2421278e-05 -2.8821165e-05 ... -2.7830307e-05\n",
      " -6.1351144e-05 -8.6937158e-05], sr=16000 as keyword args. From version 0.10 passing these as positional arguments will result in an error\n"
     ]
    },
    {
     "name": "stdout",
     "output_type": "stream",
     "text": [
      "(20, 38)\n",
      "(20, 38)\n",
      "(20, 38)\n",
      "(20, 38)\n",
      "(20, 38)\n",
      "(20, 38)\n"
     ]
    },
    {
     "name": "stderr",
     "output_type": "stream",
     "text": [
      "C:\\Users\\yutan\\anaconda3\\envs\\tensorflow\\lib\\site-packages\\ipykernel_launcher.py:53: FutureWarning: Pass y=[ 1.0503961e-05  1.6759299e-05 -5.9540662e-06 ... -5.5412774e-04\n",
      " -5.8561290e-04 -5.6923542e-04], sr=16000 as keyword args. From version 0.10 passing these as positional arguments will result in an error\n",
      "C:\\Users\\yutan\\anaconda3\\envs\\tensorflow\\lib\\site-packages\\ipykernel_launcher.py:53: FutureWarning: Pass y=[ 0.02352905  0.02416992  0.02453613 ... -0.00448608  0.00082397\n",
      " -0.0085144 ], sr=16000 as keyword args. From version 0.10 passing these as positional arguments will result in an error\n",
      "C:\\Users\\yutan\\anaconda3\\envs\\tensorflow\\lib\\site-packages\\ipykernel_launcher.py:53: FutureWarning: Pass y=[-3.0517578e-05 -6.1035156e-05 -6.1035156e-05 ...  7.0190430e-04\n",
      "  6.4086914e-04  5.7983398e-04], sr=16000 as keyword args. From version 0.10 passing these as positional arguments will result in an error\n"
     ]
    },
    {
     "name": "stdout",
     "output_type": "stream",
     "text": [
      "(20, 38)\n",
      "(20, 38)\n",
      "(20, 38)\n",
      "(20, 38)\n"
     ]
    },
    {
     "name": "stderr",
     "output_type": "stream",
     "text": [
      "C:\\Users\\yutan\\anaconda3\\envs\\tensorflow\\lib\\site-packages\\ipykernel_launcher.py:53: FutureWarning: Pass y=[ 4.7010149e-06 -3.1893476e-06  2.7604458e-06 ... -4.5960536e-04\n",
      "  1.9573942e-03  3.6028177e-03], sr=16000 as keyword args. From version 0.10 passing these as positional arguments will result in an error\n",
      "C:\\Users\\yutan\\anaconda3\\envs\\tensorflow\\lib\\site-packages\\ipykernel_launcher.py:53: FutureWarning: Pass y=[-0.00628662  0.00146484 -0.0067749  ...  0.00408936 -0.00030518\n",
      " -0.00527954], sr=16000 as keyword args. From version 0.10 passing these as positional arguments will result in an error\n",
      "C:\\Users\\yutan\\anaconda3\\envs\\tensorflow\\lib\\site-packages\\ipykernel_launcher.py:53: FutureWarning: Pass y=[-0.11526489 -0.08087158 -0.03112793 ...  0.00839233 -0.0017395\n",
      " -0.01254272], sr=16000 as keyword args. From version 0.10 passing these as positional arguments will result in an error\n",
      "C:\\Users\\yutan\\anaconda3\\envs\\tensorflow\\lib\\site-packages\\ipykernel_launcher.py:53: FutureWarning: Pass y=[-8.9361911e-06  2.8074724e-06 -1.0190444e-06 ...  4.6445166e-06\n",
      " -3.2754867e-06  3.1613724e-06], sr=16000 as keyword args. From version 0.10 passing these as positional arguments will result in an error\n"
     ]
    },
    {
     "name": "stdout",
     "output_type": "stream",
     "text": [
      "(20, 38)\n",
      "(20, 38)\n",
      "(20, 38)\n"
     ]
    },
    {
     "name": "stderr",
     "output_type": "stream",
     "text": [
      "C:\\Users\\yutan\\anaconda3\\envs\\tensorflow\\lib\\site-packages\\ipykernel_launcher.py:53: FutureWarning: Pass y=[-2.1715205e-05 -2.8260956e-05  2.4758116e-05 ...  6.4105414e-05\n",
      "  5.7766119e-05  1.4408439e-05], sr=16000 as keyword args. From version 0.10 passing these as positional arguments will result in an error\n",
      "C:\\Users\\yutan\\anaconda3\\envs\\tensorflow\\lib\\site-packages\\ipykernel_launcher.py:53: FutureWarning: Pass y=[ 4.6691895e-03 -1.1108398e-02 -1.5319824e-02 ...  5.1879883e-04\n",
      " -9.1552734e-05 -2.1362305e-04], sr=16000 as keyword args. From version 0.10 passing these as positional arguments will result in an error\n",
      "C:\\Users\\yutan\\anaconda3\\envs\\tensorflow\\lib\\site-packages\\ipykernel_launcher.py:53: FutureWarning: Pass y=[ 1.7746648e-05 -1.9715490e-06  3.2941662e-07 ...  4.5060460e-06\n",
      "  7.9708489e-06 -4.0626968e-05], sr=16000 as keyword args. From version 0.10 passing these as positional arguments will result in an error\n",
      "C:\\Users\\yutan\\anaconda3\\envs\\tensorflow\\lib\\site-packages\\ipykernel_launcher.py:53: FutureWarning: Pass y=[0.00662231 0.01654053 0.01843262 ... 0.00109863 0.00012207 0.00262451], sr=16000 as keyword args. From version 0.10 passing these as positional arguments will result in an error\n",
      "C:\\Users\\yutan\\anaconda3\\envs\\tensorflow\\lib\\site-packages\\ipykernel_launcher.py:53: FutureWarning: Pass y=[ 0.00653076 -0.00183105  0.00076294 ... -0.00119019  0.00592041\n",
      "  0.00778198], sr=16000 as keyword args. From version 0.10 passing these as positional arguments will result in an error\n",
      "C:\\Users\\yutan\\anaconda3\\envs\\tensorflow\\lib\\site-packages\\ipykernel_launcher.py:53: FutureWarning: Pass y=[-3.0517578e-05  0.0000000e+00 -3.0517578e-05 ... -3.0517578e-05\n",
      " -6.1035156e-05 -1.2207031e-04], sr=16000 as keyword args. From version 0.10 passing these as positional arguments will result in an error\n"
     ]
    },
    {
     "name": "stdout",
     "output_type": "stream",
     "text": [
      "(20, 38)\n",
      "(20, 38)\n",
      "(20, 38)\n",
      "(20, 38)\n",
      "(20, 38)\n"
     ]
    },
    {
     "name": "stderr",
     "output_type": "stream",
     "text": [
      "C:\\Users\\yutan\\anaconda3\\envs\\tensorflow\\lib\\site-packages\\ipykernel_launcher.py:53: FutureWarning: Pass y=[-1.4728857e-05 -2.9140077e-05 -5.6000736e-05 ... -6.3721227e-06\n",
      "  8.6529872e-06  2.0513231e-05], sr=16000 as keyword args. From version 0.10 passing these as positional arguments will result in an error\n",
      "C:\\Users\\yutan\\anaconda3\\envs\\tensorflow\\lib\\site-packages\\ipykernel_launcher.py:53: FutureWarning: Pass y=[-3.3493507e-05  5.8280075e-06 -1.9827201e-05 ... -7.4801887e-05\n",
      "  2.7849685e-05  7.5910475e-06], sr=16000 as keyword args. From version 0.10 passing these as positional arguments will result in an error\n"
     ]
    },
    {
     "name": "stdout",
     "output_type": "stream",
     "text": [
      "(20, 38)\n",
      "(20, 38)\n",
      "(20, 38)\n"
     ]
    },
    {
     "name": "stderr",
     "output_type": "stream",
     "text": [
      "C:\\Users\\yutan\\anaconda3\\envs\\tensorflow\\lib\\site-packages\\ipykernel_launcher.py:53: FutureWarning: Pass y=[-3.0517578e-05  0.0000000e+00  0.0000000e+00 ... -6.1035156e-05\n",
      " -6.1035156e-05 -1.2207031e-04], sr=16000 as keyword args. From version 0.10 passing these as positional arguments will result in an error\n",
      "C:\\Users\\yutan\\anaconda3\\envs\\tensorflow\\lib\\site-packages\\ipykernel_launcher.py:53: FutureWarning: Pass y=[ 5.0881940e-06 -3.6946461e-05  1.0935695e-05 ... -1.5743344e-06\n",
      " -2.5255924e-06 -4.0674080e-05], sr=16000 as keyword args. From version 0.10 passing these as positional arguments will result in an error\n",
      "C:\\Users\\yutan\\anaconda3\\envs\\tensorflow\\lib\\site-packages\\ipykernel_launcher.py:53: FutureWarning: Pass y=[-0.00637817  0.00979614 -0.00546265 ... -0.00061035  0.00439453\n",
      "  0.00350952], sr=16000 as keyword args. From version 0.10 passing these as positional arguments will result in an error\n"
     ]
    },
    {
     "name": "stdout",
     "output_type": "stream",
     "text": [
      "(20, 38)\n",
      "(20, 38)\n",
      "(20, 38)\n",
      "(20, 38)\n",
      "(20, 38)\n",
      "(20, 38)\n"
     ]
    },
    {
     "name": "stderr",
     "output_type": "stream",
     "text": [
      "C:\\Users\\yutan\\anaconda3\\envs\\tensorflow\\lib\\site-packages\\ipykernel_launcher.py:53: FutureWarning: Pass y=[-1.05014396e-05  3.24514417e-06  2.38117882e-05 ...  1.18084545e-05\n",
      "  1.32133562e-06  3.40263396e-05], sr=16000 as keyword args. From version 0.10 passing these as positional arguments will result in an error\n",
      "C:\\Users\\yutan\\anaconda3\\envs\\tensorflow\\lib\\site-packages\\ipykernel_launcher.py:53: FutureWarning: Pass y=[ 0.01370239 -0.0145874  -0.04043579 ... -0.00018311  0.00015259\n",
      "  0.00064087], sr=16000 as keyword args. From version 0.10 passing these as positional arguments will result in an error\n",
      "C:\\Users\\yutan\\anaconda3\\envs\\tensorflow\\lib\\site-packages\\ipykernel_launcher.py:53: FutureWarning: Pass y=[-0.00256348  0.00244141 -0.01089478 ...  0.00747681  0.00378418\n",
      "  0.00726318], sr=16000 as keyword args. From version 0.10 passing these as positional arguments will result in an error\n",
      "C:\\Users\\yutan\\anaconda3\\envs\\tensorflow\\lib\\site-packages\\ipykernel_launcher.py:53: FutureWarning: Pass y=[-0.00180054 -0.00384521 -0.00076294 ... -0.00024414  0.0005188\n",
      " -0.00054932], sr=16000 as keyword args. From version 0.10 passing these as positional arguments will result in an error\n",
      "C:\\Users\\yutan\\anaconda3\\envs\\tensorflow\\lib\\site-packages\\ipykernel_launcher.py:53: FutureWarning: Pass y=[ 3.6410722e-05  3.9817674e-05  1.2137416e-05 ...  2.1492965e-06\n",
      " -2.4547382e-05  4.5253955e-06], sr=16000 as keyword args. From version 0.10 passing these as positional arguments will result in an error\n",
      "C:\\Users\\yutan\\anaconda3\\envs\\tensorflow\\lib\\site-packages\\ipykernel_launcher.py:53: FutureWarning: Pass y=[-0.00042725 -0.00296021 -0.00247192 ...  0.00314331 -0.00341797\n",
      "  0.00015259], sr=16000 as keyword args. From version 0.10 passing these as positional arguments will result in an error\n",
      "C:\\Users\\yutan\\anaconda3\\envs\\tensorflow\\lib\\site-packages\\ipykernel_launcher.py:53: FutureWarning: Pass y=[-0.00073242 -0.00021362  0.00012207 ... -0.00109863 -0.00137329\n",
      " -0.00085449], sr=16000 as keyword args. From version 0.10 passing these as positional arguments will result in an error\n"
     ]
    },
    {
     "name": "stdout",
     "output_type": "stream",
     "text": [
      "(20, 38)\n",
      "(20, 38)\n",
      "(20, 38)\n",
      "(20, 38)\n",
      "(20, 38)\n"
     ]
    },
    {
     "name": "stderr",
     "output_type": "stream",
     "text": [
      "C:\\Users\\yutan\\anaconda3\\envs\\tensorflow\\lib\\site-packages\\ipykernel_launcher.py:53: FutureWarning: Pass y=[ 2.8622184e-02  3.8041662e-02  4.0377170e-02 ... -1.2427862e-04\n",
      "  6.3064646e-05  5.9640643e-05], sr=16000 as keyword args. From version 0.10 passing these as positional arguments will result in an error\n",
      "C:\\Users\\yutan\\anaconda3\\envs\\tensorflow\\lib\\site-packages\\ipykernel_launcher.py:53: FutureWarning: Pass y=[-0.00640869 -0.00482178 -0.00253296 ... -0.00506592  0.006073\n",
      "  0.00033569], sr=16000 as keyword args. From version 0.10 passing these as positional arguments will result in an error\n",
      "C:\\Users\\yutan\\anaconda3\\envs\\tensorflow\\lib\\site-packages\\ipykernel_launcher.py:53: FutureWarning: Pass y=[ 3.5917822e-06  1.1959829e-05  2.5443132e-05 ...  2.8235798e-05\n",
      "  8.9199484e-06 -9.3248482e-06], sr=16000 as keyword args. From version 0.10 passing these as positional arguments will result in an error\n"
     ]
    },
    {
     "name": "stdout",
     "output_type": "stream",
     "text": [
      "(20, 38)\n",
      "(20, 38)\n",
      "(20, 38)\n"
     ]
    },
    {
     "name": "stderr",
     "output_type": "stream",
     "text": [
      "C:\\Users\\yutan\\anaconda3\\envs\\tensorflow\\lib\\site-packages\\ipykernel_launcher.py:53: FutureWarning: Pass y=[ 8.1962608e-06 -2.6911524e-05 -3.2708489e-05 ...  2.7764434e-04\n",
      " -3.8275850e-04  4.0590487e-05], sr=16000 as keyword args. From version 0.10 passing these as positional arguments will result in an error\n",
      "C:\\Users\\yutan\\anaconda3\\envs\\tensorflow\\lib\\site-packages\\ipykernel_launcher.py:53: FutureWarning: Pass y=[-4.8097008e-05 -5.7147736e-05 -6.8080539e-05 ... -6.4017899e-05\n",
      " -1.9374347e-05  1.6153274e-06], sr=16000 as keyword args. From version 0.10 passing these as positional arguments will result in an error\n",
      "C:\\Users\\yutan\\anaconda3\\envs\\tensorflow\\lib\\site-packages\\ipykernel_launcher.py:53: FutureWarning: Pass y=[-3.0517578e-05 -6.1035156e-05 -3.0517578e-05 ...  0.0000000e+00\n",
      " -3.0517578e-05  0.0000000e+00], sr=16000 as keyword args. From version 0.10 passing these as positional arguments will result in an error\n",
      "C:\\Users\\yutan\\anaconda3\\envs\\tensorflow\\lib\\site-packages\\ipykernel_launcher.py:53: FutureWarning: Pass y=[-2.0141602e-03 -3.0517578e-03 -2.4414062e-03 ... -1.8920898e-03\n",
      "  3.0517578e-04 -6.1035156e-05], sr=16000 as keyword args. From version 0.10 passing these as positional arguments will result in an error\n",
      "C:\\Users\\yutan\\anaconda3\\envs\\tensorflow\\lib\\site-packages\\ipykernel_launcher.py:53: FutureWarning: Pass y=[-1.5777588e-02 -1.6876221e-02 -1.6754150e-02 ...  6.1035156e-05\n",
      " -9.1552734e-05  3.0517578e-05], sr=16000 as keyword args. From version 0.10 passing these as positional arguments will result in an error\n",
      "C:\\Users\\yutan\\anaconda3\\envs\\tensorflow\\lib\\site-packages\\ipykernel_launcher.py:53: FutureWarning: Pass y=[ 0.01205444  0.00018311 -0.00228882 ... -0.00015259 -0.0005188\n",
      " -0.00280762], sr=16000 as keyword args. From version 0.10 passing these as positional arguments will result in an error\n",
      "C:\\Users\\yutan\\anaconda3\\envs\\tensorflow\\lib\\site-packages\\ipykernel_launcher.py:53: FutureWarning: Pass y=[ 0.00354004  0.01174927  0.01721191 ... -0.00073242  0.00054932\n",
      " -0.00030518], sr=16000 as keyword args. From version 0.10 passing these as positional arguments will result in an error\n"
     ]
    },
    {
     "name": "stdout",
     "output_type": "stream",
     "text": [
      "(20, 38)\n",
      "(20, 38)\n",
      "(20, 38)\n",
      "(20, 38)\n",
      "(20, 38)\n",
      "(20, 38)\n",
      "(20, 38)\n"
     ]
    },
    {
     "name": "stderr",
     "output_type": "stream",
     "text": [
      "C:\\Users\\yutan\\anaconda3\\envs\\tensorflow\\lib\\site-packages\\ipykernel_launcher.py:53: FutureWarning: Pass y=[-2.1424430e-05  2.9793891e-05  3.4743494e-05 ...  2.5528338e-06\n",
      " -3.4877634e-05 -1.0101481e-05], sr=16000 as keyword args. From version 0.10 passing these as positional arguments will result in an error\n"
     ]
    },
    {
     "name": "stdout",
     "output_type": "stream",
     "text": [
      "(20, 38)\n",
      "(20, 38)\n",
      "(20, 38)\n",
      "(20, 38)\n",
      "(20, 38)\n"
     ]
    },
    {
     "name": "stderr",
     "output_type": "stream",
     "text": [
      "C:\\Users\\yutan\\anaconda3\\envs\\tensorflow\\lib\\site-packages\\ipykernel_launcher.py:53: FutureWarning: Pass y=[-2.4277169e-05  3.2614200e-05  3.9736283e-06 ... -3.8213475e-08\n",
      " -1.9422914e-05 -2.3805535e-05], sr=16000 as keyword args. From version 0.10 passing these as positional arguments will result in an error\n",
      "C:\\Users\\yutan\\anaconda3\\envs\\tensorflow\\lib\\site-packages\\ipykernel_launcher.py:53: FutureWarning: Pass y=[-2.6550293e-03 -1.7089844e-03  3.0517578e-05 ...  1.4953613e-03\n",
      "  1.7395020e-03  2.3498535e-03], sr=16000 as keyword args. From version 0.10 passing these as positional arguments will result in an error\n",
      "C:\\Users\\yutan\\anaconda3\\envs\\tensorflow\\lib\\site-packages\\ipykernel_launcher.py:53: FutureWarning: Pass y=[ 5.9631348e-02  7.1960449e-02  5.9265137e-02 ...  2.4414062e-04\n",
      "  4.0588379e-03 -3.0517578e-05], sr=16000 as keyword args. From version 0.10 passing these as positional arguments will result in an error\n",
      "C:\\Users\\yutan\\anaconda3\\envs\\tensorflow\\lib\\site-packages\\ipykernel_launcher.py:53: FutureWarning: Pass y=[ 0.00390625  0.0116272  -0.00900269 ... -0.0090332   0.00723267\n",
      "  0.00570679], sr=16000 as keyword args. From version 0.10 passing these as positional arguments will result in an error\n",
      "C:\\Users\\yutan\\anaconda3\\envs\\tensorflow\\lib\\site-packages\\ipykernel_launcher.py:53: FutureWarning: Pass y=[ 2.1112093e-05  3.2741398e-05  2.5853891e-05 ... -3.6720488e-05\n",
      "  8.8272582e-06 -6.4499977e-06], sr=16000 as keyword args. From version 0.10 passing these as positional arguments will result in an error\n",
      "C:\\Users\\yutan\\anaconda3\\envs\\tensorflow\\lib\\site-packages\\ipykernel_launcher.py:53: FutureWarning: Pass y=[ 0.0000000e+00 -6.1035156e-05 -9.1552734e-05 ... -2.8076172e-03\n",
      " -2.5024414e-03 -2.2277832e-03], sr=16000 as keyword args. From version 0.10 passing these as positional arguments will result in an error\n"
     ]
    },
    {
     "name": "stdout",
     "output_type": "stream",
     "text": [
      "(20, 38)\n",
      "(20, 38)\n",
      "(20, 38)\n"
     ]
    },
    {
     "name": "stderr",
     "output_type": "stream",
     "text": [
      "C:\\Users\\yutan\\anaconda3\\envs\\tensorflow\\lib\\site-packages\\ipykernel_launcher.py:53: FutureWarning: Pass y=[ 4.2978777e-03  9.2772214e-04  4.3419888e-03 ... -3.7456364e-05\n",
      "  5.1639327e-06 -3.4865625e-05], sr=16000 as keyword args. From version 0.10 passing these as positional arguments will result in an error\n",
      "C:\\Users\\yutan\\anaconda3\\envs\\tensorflow\\lib\\site-packages\\ipykernel_launcher.py:53: FutureWarning: Pass y=[-0.01239014 -0.00900269  0.0015564  ... -0.00445557  0.003479\n",
      "  0.00143433], sr=16000 as keyword args. From version 0.10 passing these as positional arguments will result in an error\n",
      "C:\\Users\\yutan\\anaconda3\\envs\\tensorflow\\lib\\site-packages\\ipykernel_launcher.py:53: FutureWarning: Pass y=[ 2.0819914e-05  1.7533093e-05 -7.4000404e-06 ...  8.1467124e-06\n",
      "  1.9669131e-05 -2.8374930e-05], sr=16000 as keyword args. From version 0.10 passing these as positional arguments will result in an error\n",
      "C:\\Users\\yutan\\anaconda3\\envs\\tensorflow\\lib\\site-packages\\ipykernel_launcher.py:53: FutureWarning: Pass y=[ 4.2419434e-03  8.1176758e-03 -3.2348633e-03 ... -6.9274902e-03\n",
      " -9.1552734e-05 -5.0354004e-03], sr=16000 as keyword args. From version 0.10 passing these as positional arguments will result in an error\n",
      "C:\\Users\\yutan\\anaconda3\\envs\\tensorflow\\lib\\site-packages\\ipykernel_launcher.py:53: FutureWarning: Pass y=[ 6.9042413e-05 -1.7842864e-05 -3.3568023e-05 ...  3.5532026e-03\n",
      "  3.5068609e-03  3.3664957e-03], sr=16000 as keyword args. From version 0.10 passing these as positional arguments will result in an error\n"
     ]
    },
    {
     "name": "stdout",
     "output_type": "stream",
     "text": [
      "(20, 38)\n",
      "(20, 38)\n",
      "(20, 38)\n",
      "(20, 38)\n",
      "(20, 38)\n",
      "(20, 38)\n",
      "(20, 38)\n"
     ]
    },
    {
     "name": "stderr",
     "output_type": "stream",
     "text": [
      "C:\\Users\\yutan\\anaconda3\\envs\\tensorflow\\lib\\site-packages\\ipykernel_launcher.py:53: FutureWarning: Pass y=[ 5.5370333e-07  6.4873336e-07 -1.0973788e-06 ... -2.8934259e-05\n",
      " -2.6012885e-05 -2.1343969e-05], sr=16000 as keyword args. From version 0.10 passing these as positional arguments will result in an error\n",
      "C:\\Users\\yutan\\anaconda3\\envs\\tensorflow\\lib\\site-packages\\ipykernel_launcher.py:53: FutureWarning: Pass y=[ 5.4348930e-06 -2.7000951e-05 -3.8044996e-05 ... -1.7356175e-06\n",
      "  1.6735712e-05  9.9126573e-06], sr=16000 as keyword args. From version 0.10 passing these as positional arguments will result in an error\n",
      "C:\\Users\\yutan\\anaconda3\\envs\\tensorflow\\lib\\site-packages\\ipykernel_launcher.py:53: FutureWarning: Pass y=[-0.0015564   0.00231934 -0.00244141 ... -0.00500488 -0.00161743\n",
      " -0.00332642], sr=16000 as keyword args. From version 0.10 passing these as positional arguments will result in an error\n",
      "C:\\Users\\yutan\\anaconda3\\envs\\tensorflow\\lib\\site-packages\\ipykernel_launcher.py:53: FutureWarning: Pass y=[-0.00390625 -0.00494385 -0.01101685 ...  0.00653076  0.00042725\n",
      " -0.00140381], sr=16000 as keyword args. From version 0.10 passing these as positional arguments will result in an error\n",
      "C:\\Users\\yutan\\anaconda3\\envs\\tensorflow\\lib\\site-packages\\ipykernel_launcher.py:53: FutureWarning: Pass y=[-0.00216675 -0.00115967  0.0050354  ...  0.003479   -0.00698853\n",
      "  0.00250244], sr=16000 as keyword args. From version 0.10 passing these as positional arguments will result in an error\n",
      "C:\\Users\\yutan\\anaconda3\\envs\\tensorflow\\lib\\site-packages\\ipykernel_launcher.py:53: FutureWarning: Pass y=[ 0.02960205  0.04431152  0.03668213 ...  0.00302124 -0.00567627\n",
      "  0.00167847], sr=16000 as keyword args. From version 0.10 passing these as positional arguments will result in an error\n"
     ]
    },
    {
     "name": "stdout",
     "output_type": "stream",
     "text": [
      "(20, 38)\n",
      "(20, 38)\n",
      "(20, 38)\n",
      "(20, 38)\n",
      "(20, 38)\n",
      "(20, 38)\n"
     ]
    },
    {
     "name": "stderr",
     "output_type": "stream",
     "text": [
      "C:\\Users\\yutan\\anaconda3\\envs\\tensorflow\\lib\\site-packages\\ipykernel_launcher.py:53: FutureWarning: Pass y=[-2.1285367e-05  3.0409549e-06  4.1327159e-08 ... -1.2398956e-04\n",
      " -1.2068646e-04 -1.5340318e-04], sr=16000 as keyword args. From version 0.10 passing these as positional arguments will result in an error\n",
      "C:\\Users\\yutan\\anaconda3\\envs\\tensorflow\\lib\\site-packages\\ipykernel_launcher.py:53: FutureWarning: Pass y=[ 7.3154602e-06  3.8607373e-05  6.4315558e-05 ... -3.6831610e-05\n",
      " -2.7637874e-05 -3.2903241e-05], sr=16000 as keyword args. From version 0.10 passing these as positional arguments will result in an error\n"
     ]
    },
    {
     "name": "stdout",
     "output_type": "stream",
     "text": [
      "(20, 38)\n",
      "(20, 38)\n"
     ]
    },
    {
     "name": "stderr",
     "output_type": "stream",
     "text": [
      "C:\\Users\\yutan\\anaconda3\\envs\\tensorflow\\lib\\site-packages\\ipykernel_launcher.py:53: FutureWarning: Pass y=[ 2.0370060e-06 -2.7879046e-06  3.7382861e-06 ... -3.1934891e-05\n",
      " -6.7833189e-06  7.4082354e-06], sr=16000 as keyword args. From version 0.10 passing these as positional arguments will result in an error\n",
      "C:\\Users\\yutan\\anaconda3\\envs\\tensorflow\\lib\\site-packages\\ipykernel_launcher.py:53: FutureWarning: Pass y=[ 5.4696507e-06  2.7542774e-05 -2.6535515e-06 ... -2.9491080e-04\n",
      " -2.9385896e-04 -3.0998926e-04], sr=16000 as keyword args. From version 0.10 passing these as positional arguments will result in an error\n",
      "C:\\Users\\yutan\\anaconda3\\envs\\tensorflow\\lib\\site-packages\\ipykernel_launcher.py:53: FutureWarning: Pass y=[-2.1165564e-05 -3.9001534e-06  3.9350558e-05 ...  1.8954464e-06\n",
      "  3.0828574e-05  2.9605433e-05], sr=16000 as keyword args. From version 0.10 passing these as positional arguments will result in an error\n"
     ]
    },
    {
     "name": "stdout",
     "output_type": "stream",
     "text": [
      "(20, 38)\n",
      "(20, 38)\n",
      "(20, 38)\n",
      "Train 잃은거0.0\n",
      "Valid 잃은거0.0\n",
      "Test 잃은거0.0\n"
     ]
    },
    {
     "name": "stderr",
     "output_type": "stream",
     "text": [
      "C:\\Users\\yutan\\anaconda3\\envs\\tensorflow\\lib\\site-packages\\ipykernel_launcher.py:53: FutureWarning: Pass y=[-0.00823975 -0.00317383 -0.00125122 ...  0.00085449 -0.00958252\n",
      "  0.00463867], sr=16000 as keyword args. From version 0.10 passing these as positional arguments will result in an error\n"
     ]
    }
   ],
   "source": [
    "x_train, y_train, prob_train = extract_features(filenames_train, y_orig_train)\n",
    "x_val, y_val, prob_val = extract_features(filenames_val, y_orig_val)\n",
    "x_test, y_test, prob_test = extract_features(filenames_test, y_orig_test)\n",
    "\n",
    "print(\"Train 잃은거{}\".format(prob_train / len(y_orig_train)))\n",
    "print(\"Valid 잃은거{}\".format(prob_val / len(y_orig_val)))\n",
    "print(\"Test 잃은거{}\".format(prob_test / len(y_orig_test)))"
   ]
  },
  {
   "cell_type": "code",
   "execution_count": 49,
   "metadata": {
    "colab": {
     "base_uri": "https://localhost:8080/"
    },
    "executionInfo": {
     "elapsed": 45,
     "status": "ok",
     "timestamp": 1648628769325,
     "user": {
      "displayName": "김유탄",
      "userId": "04011767612525493979"
     },
     "user_tz": -540
    },
    "id": "DJWKGLRO1wSc",
    "outputId": "2eb5998a-98c4-44a6-b853-368d51cc16ea"
   },
   "outputs": [
    {
     "name": "stdout",
     "output_type": "stream",
     "text": [
      "(244, 20, 38)\n",
      "(244,)\n",
      "(80, 20, 38)\n",
      "(80,)\n",
      "(80, 20, 38)\n",
      "(80,)\n"
     ]
    }
   ],
   "source": [
    "print(np.array(x_train).shape)\n",
    "print(np.array(y_train).shape)\n",
    "print(np.array(x_val).shape)\n",
    "print(np.array(y_val).shape)\n",
    "print(np.array(x_test).shape)\n",
    "print(np.array(y_test).shape)"
   ]
  },
  {
   "cell_type": "code",
   "execution_count": 50,
   "metadata": {
    "executionInfo": {
     "elapsed": 44,
     "status": "ok",
     "timestamp": 1648628769326,
     "user": {
      "displayName": "김유탄",
      "userId": "04011767612525493979"
     },
     "user_tz": -540
    },
    "id": "BFEyc1kIG2oC"
   },
   "outputs": [],
   "source": [
    "# 학습에 사용할 모든 - MFCC 까지 모두 진행한 정보들\n",
    "#저장 할 곳\n",
    "np.savez(base_path +\"mfcc_set.npz\", \n",
    "         x_train=x_train, \n",
    "         y_train=y_train, \n",
    "         x_val=x_val, \n",
    "         y_val=y_val, \n",
    "         x_test=x_test, \n",
    "         y_test=y_test)"
   ]
  },
  {
   "cell_type": "code",
   "execution_count": 73,
   "metadata": {},
   "outputs": [
    {
     "name": "stdout",
     "output_type": "stream",
     "text": [
      "[0. 0. 0. 0. 0. 0. 0. 0. 0. 0. 0. 0. 0. 0. 0. 0. 0. 0. 0. 0. 0. 0. 0. 0.\n",
      " 0. 0. 0. 0. 0. 0. 0. 0. 0. 0. 0. 0. 0. 0. 0. 0. 0. 0. 0. 0. 0. 0. 0. 0.\n",
      " 0. 0. 0. 0. 0. 0. 0. 0. 0. 0. 0. 0. 0. 0. 0. 0. 0. 0. 0. 0. 0. 0. 0. 0.\n",
      " 0. 0. 0. 0. 0. 0. 0. 0. 0. 0. 0. 0. 0. 0. 0. 0. 0. 0. 0. 0. 0. 0. 0. 0.\n",
      " 0. 0. 0. 0. 0. 0. 0. 0. 0. 0. 0. 0. 0. 0. 0. 0. 0. 0. 0. 0. 0. 0. 0. 0.\n",
      " 0. 0. 0. 0. 0. 0. 0. 0. 0. 0. 0. 0. 0. 0. 0. 0. 0. 0. 0. 0. 0. 0. 0. 0.\n",
      " 0. 0. 0. 0. 0. 0. 0. 0. 0. 0. 0. 0. 0. 0. 0. 0. 0. 0. 0. 0. 0. 0. 0. 0.\n",
      " 0. 0. 0. 0. 0. 0. 0. 0. 0. 0. 0. 0. 0. 0. 0. 0. 0. 0. 0. 0. 0. 0. 0. 0.\n",
      " 0. 0. 0. 0. 0. 0. 0. 0. 0. 0. 0. 0. 0. 0. 0. 0. 0. 0. 0. 0. 0. 0. 0. 0.\n",
      " 0. 0. 0. 0. 0. 0. 0. 0. 0. 0. 0. 0. 0. 0. 0. 0. 0. 0. 0. 0. 0. 0. 0. 0.\n",
      " 0. 0. 0. 0.]\n"
     ]
    }
   ],
   "source": [
    "print(y_train)"
   ]
  },
  {
   "cell_type": "markdown",
   "metadata": {
    "id": "ugEWbEECEdR0"
   },
   "source": [
    "# 모델 학습"
   ]
  },
  {
   "cell_type": "code",
   "execution_count": 51,
   "metadata": {
    "executionInfo": {
     "elapsed": 43,
     "status": "ok",
     "timestamp": 1648628769327,
     "user": {
      "displayName": "김유탄",
      "userId": "04011767612525493979"
     },
     "user_tz": -540
    },
    "id": "UORwgpYuFs3a"
   },
   "outputs": [],
   "source": [
    "# 나중에 저장할 모델 - 2진 분류\n",
    "model_filename = 'hi_yutan_original_model.h5'\n",
    "wake_word = 'hi_yutan'\n",
    "feature_sets = np.load( base_path + \"mfcc_set.npz\")\n",
    "\n",
    "# 저장되어 있는 mfcc feature 들 불러 오기\n",
    "x_train = feature_sets['x_train']\n",
    "y_train = feature_sets['y_train']\n",
    "x_val = feature_sets['x_val']\n",
    "y_val = feature_sets['y_val']\n",
    "x_test = feature_sets['x_test']\n",
    "y_test = feature_sets['y_test']"
   ]
  },
  {
   "cell_type": "code",
   "execution_count": 52,
   "metadata": {
    "colab": {
     "base_uri": "https://localhost:8080/"
    },
    "executionInfo": {
     "elapsed": 43,
     "status": "ok",
     "timestamp": 1648628769328,
     "user": {
      "displayName": "김유탄",
      "userId": "04011767612525493979"
     },
     "user_tz": -540
    },
    "id": "iOdWs4rVoNX-",
    "outputId": "406a7c59-967f-427e-9919-1312703dcca0"
   },
   "outputs": [
    {
     "name": "stdout",
     "output_type": "stream",
     "text": [
      "(244, 20, 38)\n",
      "(80, 20, 38)\n",
      "(80, 20, 38)\n"
     ]
    }
   ],
   "source": [
    "print(x_train.shape)\n",
    "print(x_val.shape)\n",
    "print(x_test.shape)"
   ]
  },
  {
   "cell_type": "code",
   "execution_count": 70,
   "metadata": {
    "colab": {
     "base_uri": "https://localhost:8080/"
    },
    "executionInfo": {
     "elapsed": 39,
     "status": "ok",
     "timestamp": 1648628769329,
     "user": {
      "displayName": "김유탄",
      "userId": "04011767612525493979"
     },
     "user_tz": -540
    },
    "id": "gNjK8_proNIH",
    "outputId": "f425f295-b71f-4bb3-fd4f-ab2be5962543"
   },
   "outputs": [
    {
     "name": "stdout",
     "output_type": "stream",
     "text": [
      "2\n",
      "[0. 0. 0. 0. 0. 0. 0. 0. 0. 0. 0. 0. 0. 0. 0. 0. 0. 0. 0. 0. 0. 0. 0. 0.\n",
      " 0. 0. 0. 0. 0. 0. 0. 0. 0. 0. 0. 0. 0. 0. 0. 0. 0. 0. 0. 0. 0. 0. 0. 0.\n",
      " 0. 0. 0. 0. 0. 0. 0. 0. 0. 0. 0. 0. 0. 0. 0. 0. 0. 0. 0. 0. 0. 0. 0. 0.\n",
      " 0. 0. 0. 0. 0. 0. 0. 0. 0. 0. 0. 0. 0. 0. 0. 0. 0. 0. 0. 0. 0. 0. 0. 0.\n",
      " 0. 0. 0. 0. 0. 0. 0. 0. 0. 0. 0. 0. 0. 0. 0. 0. 0. 0. 0. 0. 0. 0. 0. 0.\n",
      " 0. 0. 0. 0. 0. 0. 0. 0. 0. 0. 0. 0. 0. 0. 0. 0. 0. 0. 0. 0. 0. 0. 0. 0.\n",
      " 0. 0. 0. 0. 0. 0. 0. 0. 0. 0. 0. 0. 0. 0. 0. 0. 0. 0. 0. 0. 0. 0. 0. 0.\n",
      " 0. 0. 0. 0. 0. 0. 0. 0. 0. 0. 0. 0. 0. 0. 0. 0. 0. 0. 0. 0. 0. 0. 0. 0.\n",
      " 0. 0. 0. 0. 0. 0. 0. 0. 0. 0. 0. 0. 0. 0. 0. 0. 0. 0. 0. 0. 0. 0. 0. 0.\n",
      " 0. 0. 0. 0. 0. 0. 0. 0. 0. 0. 0. 0. 0. 0. 0. 0. 0. 0. 0. 0. 0. 0. 0. 0.\n",
      " 0. 0. 0. 0.]\n"
     ]
    }
   ],
   "source": [
    "# 내가 수행 하고 싶은 \"기동어\" 설정\n",
    "# index (나는 하나니까 0) 이면, True 또는 False 반환 해주기 - 1아니면 0 ]\n",
    "wake_word_index = target_list.index(wake_word)\n",
    "y_train = np.equal(y_train, wake_word_index).astype('float64')\n",
    "y_val = np.equal(y_val, wake_word_index).astype('float64')\n",
    "y_test = np.equal(y_test, wake_word_index).astype('float64')\n",
    "print(wake_word_index)\n",
    "print(y_train)"
   ]
  },
  {
   "cell_type": "code",
   "execution_count": 54,
   "metadata": {
    "colab": {
     "base_uri": "https://localhost:8080/"
    },
    "executionInfo": {
     "elapsed": 39,
     "status": "ok",
     "timestamp": 1648628769330,
     "user": {
      "displayName": "김유탄",
      "userId": "04011767612525493979"
     },
     "user_tz": -540
    },
    "id": "eFsT1UyyoNbG",
    "outputId": "277ec184-6460-43c2-fea4-bacede8b4cf0"
   },
   "outputs": [
    {
     "name": "stdout",
     "output_type": "stream",
     "text": [
      "(244, 20, 38, 1)\n",
      "(80, 20, 38, 1)\n",
      "(80, 20, 38, 1)\n",
      "(20, 38, 1)\n"
     ]
    }
   ],
   "source": [
    "# CNN 에 넣기 이전에 Channel을 1로 만들어주기\n",
    "\n",
    "x_train = x_train.reshape(x_train.shape[0], \n",
    "                          x_train.shape[1], \n",
    "                          x_train.shape[2], \n",
    "                          1)\n",
    "x_val = x_val.reshape(x_val.shape[0], \n",
    "                      x_val.shape[1], \n",
    "                      x_val.shape[2], \n",
    "                      1)\n",
    "x_test = x_test.reshape(x_test.shape[0], \n",
    "                        x_test.shape[1], \n",
    "                        x_test.shape[2], \n",
    "                        1)\n",
    "print(x_train.shape)\n",
    "print(x_val.shape)\n",
    "print(x_test.shape)\n",
    "\n",
    "sample_shape = x_test.shape[1:]\n",
    "print(sample_shape)"
   ]
  },
  {
   "cell_type": "code",
   "execution_count": 55,
   "metadata": {
    "colab": {
     "base_uri": "https://localhost:8080/"
    },
    "executionInfo": {
     "elapsed": 38,
     "status": "ok",
     "timestamp": 1648628769330,
     "user": {
      "displayName": "김유탄",
      "userId": "04011767612525493979"
     },
     "user_tz": -540
    },
    "id": "TllWIRQ8NHt6",
    "outputId": "4e42d621-fa51-4bed-f871-c74862032835"
   },
   "outputs": [
    {
     "name": "stdout",
     "output_type": "stream",
     "text": [
      "Model: \"sequential_2\"\n",
      "_________________________________________________________________\n",
      "Layer (type)                 Output Shape              Param #   \n",
      "=================================================================\n",
      "sequential (Sequential)      (None, 1, 2, 128)         92672     \n",
      "_________________________________________________________________\n",
      "sequential_1 (Sequential)    (None, 1)                 49537     \n",
      "=================================================================\n",
      "Total params: 142,209\n",
      "Trainable params: 142,209\n",
      "Non-trainable params: 0\n",
      "_________________________________________________________________\n"
     ]
    }
   ],
   "source": [
    "# 모델 Conv-layer \n",
    "conv_layer = keras.Sequential([\n",
    "                             layers.Conv2D(32, (3,3), activation = 'relu', input_shape = sample_shape,padding='same'),\n",
    "                             layers.MaxPooling2D(pool_size=(3, 3)),\n",
    "                             layers.Conv2D(64, (3, 3), activation='relu',padding='same'),\n",
    "                             layers.MaxPooling2D(pool_size=(3, 3)),\n",
    "                             layers.Conv2D(128, (3, 3), activation='relu',padding='same'),\n",
    "                             layers.MaxPooling2D(pool_size=(3, 3),padding='same')\n",
    "                             ])\n",
    "\n",
    "\n",
    "# FC layer는 다른거 사용   --  Class 10 개 분류\n",
    "fc_layer = keras.Sequential([\n",
    "                             layers.Flatten(),\n",
    "                             layers.Dense(128, activation = 'relu'),\n",
    "                             layers.Dropout(0.5),\n",
    "                             layers.Dense(128, activation = 'relu'),\n",
    "                             layers.Dropout(0.5),\n",
    "                             layers.Dense(1, activation = \"sigmoid\")\n",
    "                             ])\n",
    "\n",
    "model = keras.Sequential([conv_layer,\n",
    "                          fc_layer\n",
    "                          ])\n",
    "model.summary()"
   ]
  },
  {
   "cell_type": "code",
   "execution_count": 56,
   "metadata": {
    "executionInfo": {
     "elapsed": 27,
     "status": "ok",
     "timestamp": 1648628769330,
     "user": {
      "displayName": "김유탄",
      "userId": "04011767612525493979"
     },
     "user_tz": -540
    },
    "id": "wnQ9lmkPOWzo"
   },
   "outputs": [],
   "source": [
    "# Callback 함수 지정 해주기      학습하는 동안 설정해줄것\n",
    "early_stop = EarlyStopping(patience=30) \n",
    "mc = ModelCheckpoint(base_path + \"best_model/wake_up_word_model\", \n",
    "                     save_best_only=True,\n",
    "                     monitor = 'val_loss',\n",
    "                     verbose = 1,\n",
    "                     mode = 'min') \n",
    "reduce_lr  = ReduceLROnPlateau(monitor = 'val_loss',\n",
    "                               factor=0.5, \n",
    "                               patience=5\n",
    "                               ) \n",
    "\n",
    "#optimizer 조정 해주기\n",
    "opt = tf.keras.optimizers.Adam(learning_rate=0.00001)"
   ]
  },
  {
   "cell_type": "code",
   "execution_count": 67,
   "metadata": {},
   "outputs": [
    {
     "name": "stdout",
     "output_type": "stream",
     "text": [
      "Val 에서 1의 비율 : 28.75%\n",
      "Test 에서 1의 비율 : 27.5%\n"
     ]
    }
   ],
   "source": [
    "print(\"Val 에서 1의 비율 : {}%\".format(  round(list(y_val).count(1) / len(y_val)*100 , 2 )))\n",
    "print(\"Test 에서 1의 비율 : {}%\".format(  round(list(y_test).count(1) / len(y_test)*100 , 2 )))"
   ]
  },
  {
   "cell_type": "code",
   "execution_count": 61,
   "metadata": {
    "colab": {
     "base_uri": "https://localhost:8080/"
    },
    "executionInfo": {
     "elapsed": 160931,
     "status": "ok",
     "timestamp": 1648628930234,
     "user": {
      "displayName": "김유탄",
      "userId": "04011767612525493979"
     },
     "user_tz": -540
    },
    "id": "znxHqYi_OW55",
    "outputId": "b4876f57-3796-4bb9-868e-c5b7980e5884"
   },
   "outputs": [
    {
     "name": "stdout",
     "output_type": "stream",
     "text": [
      "Epoch 1/300\n",
      "8/8 [==============================] - 1s 68ms/step - loss: 3.5215 - accuracy: 0.5943 - val_loss: 1.5747 - val_accuracy: 0.7125\n",
      "\n",
      "Epoch 00001: val_loss did not improve from 1.52552\n",
      "Epoch 2/300\n",
      "8/8 [==============================] - 0s 11ms/step - loss: 3.2891 - accuracy: 0.5820 - val_loss: 1.5673 - val_accuracy: 0.7125\n",
      "\n",
      "Epoch 00002: val_loss did not improve from 1.52552\n",
      "Epoch 3/300\n",
      "8/8 [==============================] - 0s 11ms/step - loss: 3.3091 - accuracy: 0.5738 - val_loss: 1.5676 - val_accuracy: 0.7125\n",
      "\n",
      "Epoch 00003: val_loss did not improve from 1.52552\n",
      "Epoch 4/300\n",
      "8/8 [==============================] - 0s 10ms/step - loss: 3.7997 - accuracy: 0.5328 - val_loss: 1.5699 - val_accuracy: 0.7125\n",
      "\n",
      "Epoch 00004: val_loss did not improve from 1.52552\n",
      "Epoch 5/300\n",
      "8/8 [==============================] - 0s 10ms/step - loss: 3.0709 - accuracy: 0.5984 - val_loss: 1.5613 - val_accuracy: 0.7125\n",
      "\n",
      "Epoch 00005: val_loss did not improve from 1.52552\n",
      "Epoch 6/300\n",
      "8/8 [==============================] - 0s 11ms/step - loss: 3.4674 - accuracy: 0.5779 - val_loss: 1.5443 - val_accuracy: 0.7125\n",
      "\n",
      "Epoch 00006: val_loss did not improve from 1.52552\n",
      "Epoch 7/300\n",
      "8/8 [==============================] - 0s 11ms/step - loss: 3.4406 - accuracy: 0.4877 - val_loss: 1.5295 - val_accuracy: 0.7125\n",
      "\n",
      "Epoch 00007: val_loss did not improve from 1.52552\n",
      "Epoch 8/300\n",
      "8/8 [==============================] - 0s 12ms/step - loss: 3.2298 - accuracy: 0.5861 - val_loss: 1.5218 - val_accuracy: 0.7125\n",
      "\n",
      "Epoch 00008: val_loss improved from 1.52552 to 1.52182, saving model to ./best_model\\wake_up_word_model\n",
      "INFO:tensorflow:Assets written to: ./best_model\\wake_up_word_model\\assets\n",
      "Epoch 9/300\n",
      "8/8 [==============================] - 0s 13ms/step - loss: 3.4556 - accuracy: 0.5615 - val_loss: 1.5182 - val_accuracy: 0.7125\n",
      "\n",
      "Epoch 00009: val_loss improved from 1.52182 to 1.51820, saving model to ./best_model\\wake_up_word_model\n",
      "INFO:tensorflow:Assets written to: ./best_model\\wake_up_word_model\\assets\n",
      "Epoch 10/300\n",
      "8/8 [==============================] - 0s 12ms/step - loss: 4.1392 - accuracy: 0.5656 - val_loss: 1.5162 - val_accuracy: 0.7125\n",
      "\n",
      "Epoch 00010: val_loss improved from 1.51820 to 1.51619, saving model to ./best_model\\wake_up_word_model\n",
      "INFO:tensorflow:Assets written to: ./best_model\\wake_up_word_model\\assets\n",
      "Epoch 11/300\n",
      "8/8 [==============================] - 0s 11ms/step - loss: 3.1950 - accuracy: 0.5451 - val_loss: 1.5094 - val_accuracy: 0.7125\n",
      "\n",
      "Epoch 00011: val_loss improved from 1.51619 to 1.50945, saving model to ./best_model\\wake_up_word_model\n",
      "INFO:tensorflow:Assets written to: ./best_model\\wake_up_word_model\\assets\n",
      "Epoch 12/300\n",
      "8/8 [==============================] - 0s 11ms/step - loss: 2.5091 - accuracy: 0.6352 - val_loss: 1.5130 - val_accuracy: 0.7125\n",
      "\n",
      "Epoch 00012: val_loss did not improve from 1.50945\n",
      "Epoch 13/300\n",
      "8/8 [==============================] - 0s 15ms/step - loss: 3.3844 - accuracy: 0.5820 - val_loss: 1.5068 - val_accuracy: 0.7125\n",
      "\n",
      "Epoch 00013: val_loss improved from 1.50945 to 1.50678, saving model to ./best_model\\wake_up_word_model\n",
      "INFO:tensorflow:Assets written to: ./best_model\\wake_up_word_model\\assets\n",
      "Epoch 14/300\n",
      "8/8 [==============================] - 0s 15ms/step - loss: 2.8535 - accuracy: 0.5861 - val_loss: 1.4987 - val_accuracy: 0.7125\n",
      "\n",
      "Epoch 00014: val_loss improved from 1.50678 to 1.49871, saving model to ./best_model\\wake_up_word_model\n",
      "INFO:tensorflow:Assets written to: ./best_model\\wake_up_word_model\\assets\n",
      "Epoch 15/300\n",
      "8/8 [==============================] - 0s 10ms/step - loss: 2.8245 - accuracy: 0.6066 - val_loss: 1.4939 - val_accuracy: 0.7125\n",
      "\n",
      "Epoch 00015: val_loss improved from 1.49871 to 1.49393, saving model to ./best_model\\wake_up_word_model\n",
      "INFO:tensorflow:Assets written to: ./best_model\\wake_up_word_model\\assets\n",
      "Epoch 16/300\n",
      "8/8 [==============================] - 0s 12ms/step - loss: 3.4300 - accuracy: 0.5574 - val_loss: 1.4886 - val_accuracy: 0.7125\n",
      "\n",
      "Epoch 00016: val_loss improved from 1.49393 to 1.48862, saving model to ./best_model\\wake_up_word_model\n",
      "INFO:tensorflow:Assets written to: ./best_model\\wake_up_word_model\\assets\n",
      "Epoch 17/300\n",
      "8/8 [==============================] - 0s 14ms/step - loss: 2.8041 - accuracy: 0.6107 - val_loss: 1.4765 - val_accuracy: 0.7125\n",
      "\n",
      "Epoch 00017: val_loss improved from 1.48862 to 1.47650, saving model to ./best_model\\wake_up_word_model\n",
      "INFO:tensorflow:Assets written to: ./best_model\\wake_up_word_model\\assets\n",
      "Epoch 18/300\n",
      "8/8 [==============================] - 0s 12ms/step - loss: 3.2811 - accuracy: 0.5943 - val_loss: 1.4598 - val_accuracy: 0.7125\n",
      "\n",
      "Epoch 00018: val_loss improved from 1.47650 to 1.45979, saving model to ./best_model\\wake_up_word_model\n",
      "INFO:tensorflow:Assets written to: ./best_model\\wake_up_word_model\\assets\n",
      "Epoch 19/300\n",
      "8/8 [==============================] - 0s 15ms/step - loss: 3.3043 - accuracy: 0.5492 - val_loss: 1.4369 - val_accuracy: 0.7125\n",
      "\n",
      "Epoch 00019: val_loss improved from 1.45979 to 1.43693, saving model to ./best_model\\wake_up_word_model\n",
      "INFO:tensorflow:Assets written to: ./best_model\\wake_up_word_model\\assets\n",
      "Epoch 20/300\n",
      "8/8 [==============================] - 0s 13ms/step - loss: 2.5032 - accuracy: 0.6393 - val_loss: 1.4151 - val_accuracy: 0.7125\n",
      "\n",
      "Epoch 00020: val_loss improved from 1.43693 to 1.41510, saving model to ./best_model\\wake_up_word_model\n",
      "INFO:tensorflow:Assets written to: ./best_model\\wake_up_word_model\\assets\n",
      "Epoch 21/300\n",
      "8/8 [==============================] - 0s 12ms/step - loss: 3.0685 - accuracy: 0.5779 - val_loss: 1.4003 - val_accuracy: 0.7125\n",
      "\n",
      "Epoch 00021: val_loss improved from 1.41510 to 1.40029, saving model to ./best_model\\wake_up_word_model\n",
      "INFO:tensorflow:Assets written to: ./best_model\\wake_up_word_model\\assets\n",
      "Epoch 22/300\n",
      "8/8 [==============================] - 0s 12ms/step - loss: 2.9289 - accuracy: 0.5779 - val_loss: 1.3948 - val_accuracy: 0.7125\n",
      "\n",
      "Epoch 00022: val_loss improved from 1.40029 to 1.39482, saving model to ./best_model\\wake_up_word_model\n",
      "INFO:tensorflow:Assets written to: ./best_model\\wake_up_word_model\\assets\n",
      "Epoch 23/300\n",
      "8/8 [==============================] - 0s 13ms/step - loss: 3.0242 - accuracy: 0.5984 - val_loss: 1.3906 - val_accuracy: 0.7125\n",
      "\n",
      "Epoch 00023: val_loss improved from 1.39482 to 1.39059, saving model to ./best_model\\wake_up_word_model\n",
      "INFO:tensorflow:Assets written to: ./best_model\\wake_up_word_model\\assets\n",
      "Epoch 24/300\n",
      "8/8 [==============================] - 0s 12ms/step - loss: 2.6932 - accuracy: 0.6270 - val_loss: 1.3834 - val_accuracy: 0.7125\n",
      "\n",
      "Epoch 00024: val_loss improved from 1.39059 to 1.38341, saving model to ./best_model\\wake_up_word_model\n",
      "INFO:tensorflow:Assets written to: ./best_model\\wake_up_word_model\\assets\n",
      "Epoch 25/300\n",
      "8/8 [==============================] - 0s 12ms/step - loss: 2.8290 - accuracy: 0.5820 - val_loss: 1.3704 - val_accuracy: 0.7125\n",
      "\n",
      "Epoch 00025: val_loss improved from 1.38341 to 1.37043, saving model to ./best_model\\wake_up_word_model\n",
      "INFO:tensorflow:Assets written to: ./best_model\\wake_up_word_model\\assets\n",
      "Epoch 26/300\n",
      "8/8 [==============================] - 0s 13ms/step - loss: 2.9955 - accuracy: 0.6066 - val_loss: 1.3647 - val_accuracy: 0.7125\n",
      "\n",
      "Epoch 00026: val_loss improved from 1.37043 to 1.36474, saving model to ./best_model\\wake_up_word_model\n",
      "INFO:tensorflow:Assets written to: ./best_model\\wake_up_word_model\\assets\n",
      "Epoch 27/300\n",
      "8/8 [==============================] - 0s 13ms/step - loss: 2.4511 - accuracy: 0.6230 - val_loss: 1.3609 - val_accuracy: 0.7125\n",
      "\n",
      "Epoch 00027: val_loss improved from 1.36474 to 1.36095, saving model to ./best_model\\wake_up_word_model\n",
      "INFO:tensorflow:Assets written to: ./best_model\\wake_up_word_model\\assets\n",
      "Epoch 28/300\n",
      "8/8 [==============================] - 0s 14ms/step - loss: 3.1571 - accuracy: 0.6311 - val_loss: 1.3588 - val_accuracy: 0.7125\n",
      "\n",
      "Epoch 00028: val_loss improved from 1.36095 to 1.35884, saving model to ./best_model\\wake_up_word_model\n",
      "INFO:tensorflow:Assets written to: ./best_model\\wake_up_word_model\\assets\n",
      "Epoch 29/300\n",
      "8/8 [==============================] - 0s 12ms/step - loss: 2.9330 - accuracy: 0.5656 - val_loss: 1.3569 - val_accuracy: 0.7125\n",
      "\n",
      "Epoch 00029: val_loss improved from 1.35884 to 1.35686, saving model to ./best_model\\wake_up_word_model\n",
      "INFO:tensorflow:Assets written to: ./best_model\\wake_up_word_model\\assets\n"
     ]
    },
    {
     "name": "stdout",
     "output_type": "stream",
     "text": [
      "Epoch 30/300\n",
      "8/8 [==============================] - 0s 12ms/step - loss: 2.7450 - accuracy: 0.5943 - val_loss: 1.3593 - val_accuracy: 0.7125\n",
      "\n",
      "Epoch 00030: val_loss did not improve from 1.35686\n",
      "Epoch 31/300\n",
      "8/8 [==============================] - 0s 15ms/step - loss: 2.7378 - accuracy: 0.5820 - val_loss: 1.3561 - val_accuracy: 0.7125\n",
      "\n",
      "Epoch 00031: val_loss improved from 1.35686 to 1.35606, saving model to ./best_model\\wake_up_word_model\n",
      "INFO:tensorflow:Assets written to: ./best_model\\wake_up_word_model\\assets\n",
      "Epoch 32/300\n",
      "8/8 [==============================] - 0s 13ms/step - loss: 2.8030 - accuracy: 0.5533 - val_loss: 1.3522 - val_accuracy: 0.7125\n",
      "\n",
      "Epoch 00032: val_loss improved from 1.35606 to 1.35222, saving model to ./best_model\\wake_up_word_model\n",
      "INFO:tensorflow:Assets written to: ./best_model\\wake_up_word_model\\assets\n",
      "Epoch 33/300\n",
      "8/8 [==============================] - 0s 18ms/step - loss: 2.8472 - accuracy: 0.5984 - val_loss: 1.3468 - val_accuracy: 0.7125\n",
      "\n",
      "Epoch 00033: val_loss improved from 1.35222 to 1.34681, saving model to ./best_model\\wake_up_word_model\n",
      "INFO:tensorflow:Assets written to: ./best_model\\wake_up_word_model\\assets\n",
      "Epoch 34/300\n",
      "8/8 [==============================] - 0s 15ms/step - loss: 3.0309 - accuracy: 0.5984 - val_loss: 1.3432 - val_accuracy: 0.7125\n",
      "\n",
      "Epoch 00034: val_loss improved from 1.34681 to 1.34322, saving model to ./best_model\\wake_up_word_model\n",
      "INFO:tensorflow:Assets written to: ./best_model\\wake_up_word_model\\assets\n",
      "Epoch 35/300\n",
      "8/8 [==============================] - 0s 13ms/step - loss: 2.9981 - accuracy: 0.5984 - val_loss: 1.3493 - val_accuracy: 0.7125\n",
      "\n",
      "Epoch 00035: val_loss did not improve from 1.34322\n",
      "Epoch 36/300\n",
      "8/8 [==============================] - 0s 12ms/step - loss: 2.9504 - accuracy: 0.5820 - val_loss: 1.3505 - val_accuracy: 0.7125\n",
      "\n",
      "Epoch 00036: val_loss did not improve from 1.34322\n",
      "Epoch 37/300\n",
      "8/8 [==============================] - 0s 12ms/step - loss: 2.9860 - accuracy: 0.5369 - val_loss: 1.3364 - val_accuracy: 0.7125\n",
      "\n",
      "Epoch 00037: val_loss improved from 1.34322 to 1.33635, saving model to ./best_model\\wake_up_word_model\n",
      "INFO:tensorflow:Assets written to: ./best_model\\wake_up_word_model\\assets\n",
      "Epoch 38/300\n",
      "8/8 [==============================] - 0s 15ms/step - loss: 3.0958 - accuracy: 0.5574 - val_loss: 1.3195 - val_accuracy: 0.7125\n",
      "\n",
      "Epoch 00038: val_loss improved from 1.33635 to 1.31948, saving model to ./best_model\\wake_up_word_model\n",
      "INFO:tensorflow:Assets written to: ./best_model\\wake_up_word_model\\assets\n",
      "Epoch 39/300\n",
      "8/8 [==============================] - 0s 13ms/step - loss: 2.3757 - accuracy: 0.6148 - val_loss: 1.3098 - val_accuracy: 0.7125\n",
      "\n",
      "Epoch 00039: val_loss improved from 1.31948 to 1.30981, saving model to ./best_model\\wake_up_word_model\n",
      "INFO:tensorflow:Assets written to: ./best_model\\wake_up_word_model\\assets\n",
      "Epoch 40/300\n",
      "8/8 [==============================] - 0s 14ms/step - loss: 2.7940 - accuracy: 0.5697 - val_loss: 1.2955 - val_accuracy: 0.7125\n",
      "\n",
      "Epoch 00040: val_loss improved from 1.30981 to 1.29553, saving model to ./best_model\\wake_up_word_model\n",
      "INFO:tensorflow:Assets written to: ./best_model\\wake_up_word_model\\assets\n",
      "Epoch 41/300\n",
      "8/8 [==============================] - 0s 13ms/step - loss: 2.6203 - accuracy: 0.5574 - val_loss: 1.2858 - val_accuracy: 0.7125\n",
      "\n",
      "Epoch 00041: val_loss improved from 1.29553 to 1.28582, saving model to ./best_model\\wake_up_word_model\n",
      "INFO:tensorflow:Assets written to: ./best_model\\wake_up_word_model\\assets\n",
      "Epoch 42/300\n",
      "8/8 [==============================] - 0s 16ms/step - loss: 2.7772 - accuracy: 0.5984 - val_loss: 1.2737 - val_accuracy: 0.7125\n",
      "\n",
      "Epoch 00042: val_loss improved from 1.28582 to 1.27369, saving model to ./best_model\\wake_up_word_model\n",
      "INFO:tensorflow:Assets written to: ./best_model\\wake_up_word_model\\assets\n",
      "Epoch 43/300\n",
      "8/8 [==============================] - 0s 17ms/step - loss: 2.7341 - accuracy: 0.6148 - val_loss: 1.2716 - val_accuracy: 0.7125\n",
      "\n",
      "Epoch 00043: val_loss improved from 1.27369 to 1.27164, saving model to ./best_model\\wake_up_word_model\n",
      "INFO:tensorflow:Assets written to: ./best_model\\wake_up_word_model\\assets\n",
      "Epoch 44/300\n",
      "8/8 [==============================] - 0s 13ms/step - loss: 2.9670 - accuracy: 0.5656 - val_loss: 1.2664 - val_accuracy: 0.7125\n",
      "\n",
      "Epoch 00044: val_loss improved from 1.27164 to 1.26641, saving model to ./best_model\\wake_up_word_model\n",
      "INFO:tensorflow:Assets written to: ./best_model\\wake_up_word_model\\assets\n",
      "Epoch 45/300\n",
      "8/8 [==============================] - 0s 13ms/step - loss: 2.8371 - accuracy: 0.5205 - val_loss: 1.2659 - val_accuracy: 0.7125\n",
      "\n",
      "Epoch 00045: val_loss improved from 1.26641 to 1.26591, saving model to ./best_model\\wake_up_word_model\n",
      "INFO:tensorflow:Assets written to: ./best_model\\wake_up_word_model\\assets\n",
      "Epoch 46/300\n",
      "8/8 [==============================] - 0s 14ms/step - loss: 2.7414 - accuracy: 0.5779 - val_loss: 1.2576 - val_accuracy: 0.7125\n",
      "\n",
      "Epoch 00046: val_loss improved from 1.26591 to 1.25757, saving model to ./best_model\\wake_up_word_model\n",
      "INFO:tensorflow:Assets written to: ./best_model\\wake_up_word_model\\assets\n",
      "Epoch 47/300\n",
      "8/8 [==============================] - 0s 14ms/step - loss: 2.9581 - accuracy: 0.5984 - val_loss: 1.2510 - val_accuracy: 0.7125\n",
      "\n",
      "Epoch 00047: val_loss improved from 1.25757 to 1.25099, saving model to ./best_model\\wake_up_word_model\n",
      "INFO:tensorflow:Assets written to: ./best_model\\wake_up_word_model\\assets\n",
      "Epoch 48/300\n",
      "8/8 [==============================] - 0s 17ms/step - loss: 2.2634 - accuracy: 0.6434 - val_loss: 1.2563 - val_accuracy: 0.7125\n",
      "\n",
      "Epoch 00048: val_loss did not improve from 1.25099\n",
      "Epoch 49/300\n",
      "8/8 [==============================] - 0s 22ms/step - loss: 2.6993 - accuracy: 0.5574 - val_loss: 1.2574 - val_accuracy: 0.7125\n",
      "\n",
      "Epoch 00049: val_loss did not improve from 1.25099\n",
      "Epoch 50/300\n",
      "8/8 [==============================] - 0s 25ms/step - loss: 2.3356 - accuracy: 0.6066 - val_loss: 1.2603 - val_accuracy: 0.7125\n",
      "\n",
      "Epoch 00050: val_loss did not improve from 1.25099\n",
      "Epoch 51/300\n",
      "8/8 [==============================] - 0s 32ms/step - loss: 2.6830 - accuracy: 0.5984 - val_loss: 1.2643 - val_accuracy: 0.7125\n",
      "\n",
      "Epoch 00051: val_loss did not improve from 1.25099\n",
      "Epoch 52/300\n",
      "8/8 [==============================] - 0s 14ms/step - loss: 2.7034 - accuracy: 0.5943 - val_loss: 1.2611 - val_accuracy: 0.7125\n",
      "\n",
      "Epoch 00052: val_loss did not improve from 1.25099\n",
      "Epoch 53/300\n",
      "8/8 [==============================] - 0s 15ms/step - loss: 2.4882 - accuracy: 0.5984 - val_loss: 1.2608 - val_accuracy: 0.7125\n",
      "\n",
      "Epoch 00053: val_loss did not improve from 1.25099\n",
      "Epoch 54/300\n",
      "8/8 [==============================] - 0s 14ms/step - loss: 2.3663 - accuracy: 0.5984 - val_loss: 1.2617 - val_accuracy: 0.7125\n",
      "\n",
      "Epoch 00054: val_loss did not improve from 1.25099\n",
      "Epoch 55/300\n",
      "8/8 [==============================] - 0s 11ms/step - loss: 2.5222 - accuracy: 0.6311 - val_loss: 1.2611 - val_accuracy: 0.7125\n",
      "\n",
      "Epoch 00055: val_loss did not improve from 1.25099\n",
      "Epoch 56/300\n",
      "8/8 [==============================] - 0s 14ms/step - loss: 2.8769 - accuracy: 0.5328 - val_loss: 1.2579 - val_accuracy: 0.7125\n",
      "\n",
      "Epoch 00056: val_loss did not improve from 1.25099\n",
      "Epoch 57/300\n",
      "8/8 [==============================] - 0s 11ms/step - loss: 2.7575 - accuracy: 0.5615 - val_loss: 1.2567 - val_accuracy: 0.7125\n",
      "\n",
      "Epoch 00057: val_loss did not improve from 1.25099\n",
      "Epoch 58/300\n",
      "8/8 [==============================] - 0s 13ms/step - loss: 2.6305 - accuracy: 0.6066 - val_loss: 1.2565 - val_accuracy: 0.7125\n",
      "\n",
      "Epoch 00058: val_loss did not improve from 1.25099\n",
      "Epoch 59/300\n",
      "8/8 [==============================] - 0s 12ms/step - loss: 2.9007 - accuracy: 0.5861 - val_loss: 1.2531 - val_accuracy: 0.7125\n",
      "\n",
      "Epoch 00059: val_loss did not improve from 1.25099\n",
      "Epoch 60/300\n",
      "8/8 [==============================] - 0s 14ms/step - loss: 2.1657 - accuracy: 0.6270 - val_loss: 1.2501 - val_accuracy: 0.7125\n",
      "\n",
      "Epoch 00060: val_loss improved from 1.25099 to 1.25006, saving model to ./best_model\\wake_up_word_model\n",
      "INFO:tensorflow:Assets written to: ./best_model\\wake_up_word_model\\assets\n",
      "Epoch 61/300\n",
      "8/8 [==============================] - 0s 13ms/step - loss: 2.3085 - accuracy: 0.5984 - val_loss: 1.2484 - val_accuracy: 0.7125\n",
      "\n",
      "Epoch 00061: val_loss improved from 1.25006 to 1.24842, saving model to ./best_model\\wake_up_word_model\n"
     ]
    },
    {
     "name": "stdout",
     "output_type": "stream",
     "text": [
      "INFO:tensorflow:Assets written to: ./best_model\\wake_up_word_model\\assets\n",
      "Epoch 62/300\n",
      "8/8 [==============================] - 0s 14ms/step - loss: 2.1128 - accuracy: 0.6598 - val_loss: 1.2472 - val_accuracy: 0.7125\n",
      "\n",
      "Epoch 00062: val_loss improved from 1.24842 to 1.24724, saving model to ./best_model\\wake_up_word_model\n",
      "INFO:tensorflow:Assets written to: ./best_model\\wake_up_word_model\\assets\n",
      "Epoch 63/300\n",
      "8/8 [==============================] - 0s 12ms/step - loss: 2.4583 - accuracy: 0.6270 - val_loss: 1.2443 - val_accuracy: 0.7125\n",
      "\n",
      "Epoch 00063: val_loss improved from 1.24724 to 1.24435, saving model to ./best_model\\wake_up_word_model\n",
      "INFO:tensorflow:Assets written to: ./best_model\\wake_up_word_model\\assets\n",
      "Epoch 64/300\n",
      "8/8 [==============================] - 0s 15ms/step - loss: 2.4737 - accuracy: 0.5820 - val_loss: 1.2422 - val_accuracy: 0.7125\n",
      "\n",
      "Epoch 00064: val_loss improved from 1.24435 to 1.24218, saving model to ./best_model\\wake_up_word_model\n",
      "INFO:tensorflow:Assets written to: ./best_model\\wake_up_word_model\\assets\n",
      "Epoch 65/300\n",
      "8/8 [==============================] - 0s 14ms/step - loss: 2.7732 - accuracy: 0.6107 - val_loss: 1.2403 - val_accuracy: 0.7125\n",
      "\n",
      "Epoch 00065: val_loss improved from 1.24218 to 1.24026, saving model to ./best_model\\wake_up_word_model\n",
      "INFO:tensorflow:Assets written to: ./best_model\\wake_up_word_model\\assets\n",
      "Epoch 66/300\n",
      "8/8 [==============================] - 0s 14ms/step - loss: 2.3697 - accuracy: 0.6393 - val_loss: 1.2383 - val_accuracy: 0.7125\n",
      "\n",
      "Epoch 00066: val_loss improved from 1.24026 to 1.23827, saving model to ./best_model\\wake_up_word_model\n",
      "INFO:tensorflow:Assets written to: ./best_model\\wake_up_word_model\\assets\n",
      "Epoch 67/300\n",
      "8/8 [==============================] - 0s 13ms/step - loss: 2.0199 - accuracy: 0.6393 - val_loss: 1.2381 - val_accuracy: 0.7125\n",
      "\n",
      "Epoch 00067: val_loss improved from 1.23827 to 1.23814, saving model to ./best_model\\wake_up_word_model\n",
      "INFO:tensorflow:Assets written to: ./best_model\\wake_up_word_model\\assets\n",
      "Epoch 68/300\n",
      "8/8 [==============================] - 0s 13ms/step - loss: 2.7142 - accuracy: 0.5533 - val_loss: 1.2372 - val_accuracy: 0.7125\n",
      "\n",
      "Epoch 00068: val_loss improved from 1.23814 to 1.23716, saving model to ./best_model\\wake_up_word_model\n",
      "INFO:tensorflow:Assets written to: ./best_model\\wake_up_word_model\\assets\n",
      "Epoch 69/300\n",
      "8/8 [==============================] - 0s 12ms/step - loss: 2.5517 - accuracy: 0.5943 - val_loss: 1.2361 - val_accuracy: 0.7125\n",
      "\n",
      "Epoch 00069: val_loss improved from 1.23716 to 1.23614, saving model to ./best_model\\wake_up_word_model\n",
      "INFO:tensorflow:Assets written to: ./best_model\\wake_up_word_model\\assets\n",
      "Epoch 70/300\n",
      "8/8 [==============================] - 0s 9ms/step - loss: 2.1973 - accuracy: 0.6107 - val_loss: 1.2345 - val_accuracy: 0.7125\n",
      "\n",
      "Epoch 00070: val_loss improved from 1.23614 to 1.23452, saving model to ./best_model\\wake_up_word_model\n",
      "INFO:tensorflow:Assets written to: ./best_model\\wake_up_word_model\\assets\n",
      "Epoch 71/300\n",
      "8/8 [==============================] - 0s 14ms/step - loss: 2.7850 - accuracy: 0.5902 - val_loss: 1.2339 - val_accuracy: 0.7125\n",
      "\n",
      "Epoch 00071: val_loss improved from 1.23452 to 1.23392, saving model to ./best_model\\wake_up_word_model\n",
      "INFO:tensorflow:Assets written to: ./best_model\\wake_up_word_model\\assets\n",
      "Epoch 72/300\n",
      "8/8 [==============================] - 0s 11ms/step - loss: 2.5570 - accuracy: 0.5533 - val_loss: 1.2338 - val_accuracy: 0.7125\n",
      "\n",
      "Epoch 00072: val_loss improved from 1.23392 to 1.23376, saving model to ./best_model\\wake_up_word_model\n",
      "INFO:tensorflow:Assets written to: ./best_model\\wake_up_word_model\\assets\n",
      "Epoch 73/300\n",
      "8/8 [==============================] - 0s 15ms/step - loss: 1.9195 - accuracy: 0.6639 - val_loss: 1.2326 - val_accuracy: 0.7125\n",
      "\n",
      "Epoch 00073: val_loss improved from 1.23376 to 1.23257, saving model to ./best_model\\wake_up_word_model\n",
      "INFO:tensorflow:Assets written to: ./best_model\\wake_up_word_model\\assets\n",
      "Epoch 74/300\n",
      "8/8 [==============================] - 0s 13ms/step - loss: 2.1073 - accuracy: 0.6434 - val_loss: 1.2310 - val_accuracy: 0.7125\n",
      "\n",
      "Epoch 00074: val_loss improved from 1.23257 to 1.23097, saving model to ./best_model\\wake_up_word_model\n",
      "INFO:tensorflow:Assets written to: ./best_model\\wake_up_word_model\\assets\n",
      "Epoch 75/300\n",
      "8/8 [==============================] - 0s 15ms/step - loss: 2.7566 - accuracy: 0.5656 - val_loss: 1.2300 - val_accuracy: 0.7125\n",
      "\n",
      "Epoch 00075: val_loss improved from 1.23097 to 1.23004, saving model to ./best_model\\wake_up_word_model\n",
      "INFO:tensorflow:Assets written to: ./best_model\\wake_up_word_model\\assets\n",
      "Epoch 76/300\n",
      "8/8 [==============================] - 0s 16ms/step - loss: 2.2714 - accuracy: 0.6189 - val_loss: 1.2297 - val_accuracy: 0.7125\n",
      "\n",
      "Epoch 00076: val_loss improved from 1.23004 to 1.22969, saving model to ./best_model\\wake_up_word_model\n",
      "INFO:tensorflow:Assets written to: ./best_model\\wake_up_word_model\\assets\n",
      "Epoch 77/300\n",
      "8/8 [==============================] - 0s 14ms/step - loss: 2.1630 - accuracy: 0.6270 - val_loss: 1.2259 - val_accuracy: 0.7125\n",
      "\n",
      "Epoch 00077: val_loss improved from 1.22969 to 1.22595, saving model to ./best_model\\wake_up_word_model\n",
      "INFO:tensorflow:Assets written to: ./best_model\\wake_up_word_model\\assets\n",
      "Epoch 78/300\n",
      "8/8 [==============================] - 0s 13ms/step - loss: 2.6390 - accuracy: 0.6066 - val_loss: 1.2224 - val_accuracy: 0.7125\n",
      "\n",
      "Epoch 00078: val_loss improved from 1.22595 to 1.22245, saving model to ./best_model\\wake_up_word_model\n",
      "INFO:tensorflow:Assets written to: ./best_model\\wake_up_word_model\\assets\n",
      "Epoch 79/300\n",
      "8/8 [==============================] - 0s 14ms/step - loss: 2.2726 - accuracy: 0.6025 - val_loss: 1.2213 - val_accuracy: 0.7125\n",
      "\n",
      "Epoch 00079: val_loss improved from 1.22245 to 1.22131, saving model to ./best_model\\wake_up_word_model\n",
      "INFO:tensorflow:Assets written to: ./best_model\\wake_up_word_model\\assets\n",
      "Epoch 80/300\n",
      "8/8 [==============================] - 0s 14ms/step - loss: 2.2843 - accuracy: 0.6475 - val_loss: 1.2204 - val_accuracy: 0.7125\n",
      "\n",
      "Epoch 00080: val_loss improved from 1.22131 to 1.22038, saving model to ./best_model\\wake_up_word_model\n",
      "INFO:tensorflow:Assets written to: ./best_model\\wake_up_word_model\\assets\n",
      "Epoch 81/300\n",
      "8/8 [==============================] - 0s 16ms/step - loss: 2.1456 - accuracy: 0.6270 - val_loss: 1.2192 - val_accuracy: 0.7125\n",
      "\n",
      "Epoch 00081: val_loss improved from 1.22038 to 1.21920, saving model to ./best_model\\wake_up_word_model\n",
      "INFO:tensorflow:Assets written to: ./best_model\\wake_up_word_model\\assets\n",
      "Epoch 82/300\n",
      "8/8 [==============================] - 0s 14ms/step - loss: 2.0950 - accuracy: 0.6311 - val_loss: 1.2179 - val_accuracy: 0.7125\n",
      "\n",
      "Epoch 00082: val_loss improved from 1.21920 to 1.21795, saving model to ./best_model\\wake_up_word_model\n",
      "INFO:tensorflow:Assets written to: ./best_model\\wake_up_word_model\\assets\n",
      "Epoch 83/300\n",
      "8/8 [==============================] - 0s 14ms/step - loss: 2.3067 - accuracy: 0.6148 - val_loss: 1.2159 - val_accuracy: 0.7125\n",
      "\n",
      "Epoch 00083: val_loss improved from 1.21795 to 1.21591, saving model to ./best_model\\wake_up_word_model\n",
      "INFO:tensorflow:Assets written to: ./best_model\\wake_up_word_model\\assets\n",
      "Epoch 84/300\n",
      "8/8 [==============================] - 0s 13ms/step - loss: 2.7978 - accuracy: 0.5410 - val_loss: 1.2164 - val_accuracy: 0.7125\n",
      "\n",
      "Epoch 00084: val_loss did not improve from 1.21591\n",
      "Epoch 85/300\n",
      "8/8 [==============================] - 0s 13ms/step - loss: 2.3435 - accuracy: 0.5943 - val_loss: 1.2163 - val_accuracy: 0.7125\n",
      "\n",
      "Epoch 00085: val_loss did not improve from 1.21591\n",
      "Epoch 86/300\n",
      "8/8 [==============================] - 0s 21ms/step - loss: 2.3916 - accuracy: 0.6352 - val_loss: 1.2155 - val_accuracy: 0.7125\n",
      "\n",
      "Epoch 00086: val_loss improved from 1.21591 to 1.21551, saving model to ./best_model\\wake_up_word_model\n",
      "INFO:tensorflow:Assets written to: ./best_model\\wake_up_word_model\\assets\n",
      "Epoch 87/300\n",
      "8/8 [==============================] - 0s 11ms/step - loss: 2.1263 - accuracy: 0.5820 - val_loss: 1.2149 - val_accuracy: 0.7125\n",
      "\n",
      "Epoch 00087: val_loss improved from 1.21551 to 1.21492, saving model to ./best_model\\wake_up_word_model\n",
      "INFO:tensorflow:Assets written to: ./best_model\\wake_up_word_model\\assets\n",
      "Epoch 88/300\n",
      "8/8 [==============================] - 0s 15ms/step - loss: 2.1185 - accuracy: 0.6025 - val_loss: 1.2141 - val_accuracy: 0.7125\n",
      "\n",
      "Epoch 00088: val_loss improved from 1.21492 to 1.21414, saving model to ./best_model\\wake_up_word_model\n",
      "INFO:tensorflow:Assets written to: ./best_model\\wake_up_word_model\\assets\n",
      "Epoch 89/300\n",
      "8/8 [==============================] - 0s 15ms/step - loss: 2.3867 - accuracy: 0.5697 - val_loss: 1.2152 - val_accuracy: 0.7125\n",
      "\n",
      "Epoch 00089: val_loss did not improve from 1.21414\n",
      "Epoch 90/300\n",
      "8/8 [==============================] - 0s 14ms/step - loss: 2.6794 - accuracy: 0.5533 - val_loss: 1.2160 - val_accuracy: 0.7125\n",
      "\n",
      "Epoch 00090: val_loss did not improve from 1.21414\n",
      "Epoch 91/300\n",
      "8/8 [==============================] - 0s 16ms/step - loss: 2.6560 - accuracy: 0.5615 - val_loss: 1.2140 - val_accuracy: 0.7125\n",
      "\n",
      "Epoch 00091: val_loss improved from 1.21414 to 1.21400, saving model to ./best_model\\wake_up_word_model\n",
      "INFO:tensorflow:Assets written to: ./best_model\\wake_up_word_model\\assets\n",
      "Epoch 92/300\n",
      "8/8 [==============================] - 0s 12ms/step - loss: 2.7224 - accuracy: 0.5779 - val_loss: 1.2103 - val_accuracy: 0.7125\n",
      "\n",
      "Epoch 00092: val_loss improved from 1.21400 to 1.21035, saving model to ./best_model\\wake_up_word_model\n",
      "INFO:tensorflow:Assets written to: ./best_model\\wake_up_word_model\\assets\n",
      "Epoch 93/300\n",
      "8/8 [==============================] - 0s 11ms/step - loss: 2.9465 - accuracy: 0.5656 - val_loss: 1.2070 - val_accuracy: 0.7125\n",
      "\n",
      "Epoch 00093: val_loss improved from 1.21035 to 1.20697, saving model to ./best_model\\wake_up_word_model\n",
      "INFO:tensorflow:Assets written to: ./best_model\\wake_up_word_model\\assets\n",
      "Epoch 94/300\n",
      "8/8 [==============================] - 0s 12ms/step - loss: 2.5281 - accuracy: 0.5779 - val_loss: 1.2034 - val_accuracy: 0.7125\n",
      "\n",
      "Epoch 00094: val_loss improved from 1.20697 to 1.20341, saving model to ./best_model\\wake_up_word_model\n",
      "INFO:tensorflow:Assets written to: ./best_model\\wake_up_word_model\\assets\n",
      "Epoch 95/300\n",
      "8/8 [==============================] - 0s 19ms/step - loss: 2.6697 - accuracy: 0.5943 - val_loss: 1.1998 - val_accuracy: 0.7125\n",
      "\n",
      "Epoch 00095: val_loss improved from 1.20341 to 1.19978, saving model to ./best_model\\wake_up_word_model\n",
      "INFO:tensorflow:Assets written to: ./best_model\\wake_up_word_model\\assets\n",
      "Epoch 96/300\n",
      "8/8 [==============================] - 0s 13ms/step - loss: 2.4609 - accuracy: 0.5574 - val_loss: 1.1982 - val_accuracy: 0.7125\n",
      "\n",
      "Epoch 00096: val_loss improved from 1.19978 to 1.19815, saving model to ./best_model\\wake_up_word_model\n",
      "INFO:tensorflow:Assets written to: ./best_model\\wake_up_word_model\\assets\n",
      "Epoch 97/300\n",
      "8/8 [==============================] - 0s 15ms/step - loss: 2.6382 - accuracy: 0.5861 - val_loss: 1.1975 - val_accuracy: 0.7125\n",
      "\n",
      "Epoch 00097: val_loss improved from 1.19815 to 1.19750, saving model to ./best_model\\wake_up_word_model\n",
      "INFO:tensorflow:Assets written to: ./best_model\\wake_up_word_model\\assets\n",
      "Epoch 98/300\n",
      "8/8 [==============================] - 0s 15ms/step - loss: 2.5032 - accuracy: 0.6025 - val_loss: 1.1953 - val_accuracy: 0.7125\n",
      "\n",
      "Epoch 00098: val_loss improved from 1.19750 to 1.19534, saving model to ./best_model\\wake_up_word_model\n",
      "INFO:tensorflow:Assets written to: ./best_model\\wake_up_word_model\\assets\n",
      "Epoch 99/300\n",
      "8/8 [==============================] - 0s 11ms/step - loss: 2.5136 - accuracy: 0.6189 - val_loss: 1.1938 - val_accuracy: 0.7125\n",
      "\n",
      "Epoch 00099: val_loss improved from 1.19534 to 1.19380, saving model to ./best_model\\wake_up_word_model\n",
      "INFO:tensorflow:Assets written to: ./best_model\\wake_up_word_model\\assets\n",
      "Epoch 100/300\n",
      "8/8 [==============================] - 0s 12ms/step - loss: 2.5338 - accuracy: 0.5943 - val_loss: 1.1912 - val_accuracy: 0.7125\n",
      "\n",
      "Epoch 00100: val_loss improved from 1.19380 to 1.19116, saving model to ./best_model\\wake_up_word_model\n",
      "INFO:tensorflow:Assets written to: ./best_model\\wake_up_word_model\\assets\n",
      "Epoch 101/300\n",
      "8/8 [==============================] - 0s 13ms/step - loss: 2.5366 - accuracy: 0.5533 - val_loss: 1.1902 - val_accuracy: 0.7125\n",
      "\n",
      "Epoch 00101: val_loss improved from 1.19116 to 1.19022, saving model to ./best_model\\wake_up_word_model\n",
      "INFO:tensorflow:Assets written to: ./best_model\\wake_up_word_model\\assets\n",
      "Epoch 102/300\n",
      "8/8 [==============================] - 0s 13ms/step - loss: 2.4440 - accuracy: 0.5861 - val_loss: 1.1894 - val_accuracy: 0.7125\n",
      "\n",
      "Epoch 00102: val_loss improved from 1.19022 to 1.18938, saving model to ./best_model\\wake_up_word_model\n",
      "INFO:tensorflow:Assets written to: ./best_model\\wake_up_word_model\\assets\n",
      "Epoch 103/300\n",
      "8/8 [==============================] - 0s 15ms/step - loss: 2.4928 - accuracy: 0.5697 - val_loss: 1.1891 - val_accuracy: 0.7125\n",
      "\n",
      "Epoch 00103: val_loss improved from 1.18938 to 1.18911, saving model to ./best_model\\wake_up_word_model\n",
      "INFO:tensorflow:Assets written to: ./best_model\\wake_up_word_model\\assets\n",
      "Epoch 104/300\n",
      "8/8 [==============================] - 0s 16ms/step - loss: 2.5497 - accuracy: 0.5656 - val_loss: 1.1876 - val_accuracy: 0.7125\n",
      "\n",
      "Epoch 00104: val_loss improved from 1.18911 to 1.18762, saving model to ./best_model\\wake_up_word_model\n",
      "INFO:tensorflow:Assets written to: ./best_model\\wake_up_word_model\\assets\n",
      "Epoch 105/300\n",
      "8/8 [==============================] - 0s 18ms/step - loss: 2.4083 - accuracy: 0.6025 - val_loss: 1.1863 - val_accuracy: 0.7125\n",
      "\n",
      "Epoch 00105: val_loss improved from 1.18762 to 1.18632, saving model to ./best_model\\wake_up_word_model\n",
      "INFO:tensorflow:Assets written to: ./best_model\\wake_up_word_model\\assets\n",
      "Epoch 106/300\n",
      "8/8 [==============================] - 0s 16ms/step - loss: 2.3356 - accuracy: 0.6352 - val_loss: 1.1835 - val_accuracy: 0.7125\n",
      "\n",
      "Epoch 00106: val_loss improved from 1.18632 to 1.18350, saving model to ./best_model\\wake_up_word_model\n",
      "INFO:tensorflow:Assets written to: ./best_model\\wake_up_word_model\\assets\n",
      "Epoch 107/300\n",
      "8/8 [==============================] - 0s 17ms/step - loss: 2.1087 - accuracy: 0.6393 - val_loss: 1.1819 - val_accuracy: 0.7125\n",
      "\n",
      "Epoch 00107: val_loss improved from 1.18350 to 1.18187, saving model to ./best_model\\wake_up_word_model\n",
      "INFO:tensorflow:Assets written to: ./best_model\\wake_up_word_model\\assets\n",
      "Epoch 108/300\n",
      "8/8 [==============================] - 0s 17ms/step - loss: 2.2641 - accuracy: 0.6270 - val_loss: 1.1810 - val_accuracy: 0.7125\n",
      "\n",
      "Epoch 00108: val_loss improved from 1.18187 to 1.18096, saving model to ./best_model\\wake_up_word_model\n",
      "INFO:tensorflow:Assets written to: ./best_model\\wake_up_word_model\\assets\n",
      "Epoch 109/300\n",
      "8/8 [==============================] - 0s 14ms/step - loss: 2.0410 - accuracy: 0.6516 - val_loss: 1.1790 - val_accuracy: 0.7125\n",
      "\n",
      "Epoch 00109: val_loss improved from 1.18096 to 1.17905, saving model to ./best_model\\wake_up_word_model\n",
      "INFO:tensorflow:Assets written to: ./best_model\\wake_up_word_model\\assets\n",
      "Epoch 110/300\n",
      "8/8 [==============================] - 0s 14ms/step - loss: 2.1052 - accuracy: 0.6107 - val_loss: 1.1763 - val_accuracy: 0.7125\n",
      "\n",
      "Epoch 00110: val_loss improved from 1.17905 to 1.17635, saving model to ./best_model\\wake_up_word_model\n",
      "INFO:tensorflow:Assets written to: ./best_model\\wake_up_word_model\\assets\n",
      "Epoch 111/300\n",
      "8/8 [==============================] - 0s 12ms/step - loss: 1.8039 - accuracy: 0.6680 - val_loss: 1.1757 - val_accuracy: 0.7125\n",
      "\n",
      "Epoch 00111: val_loss improved from 1.17635 to 1.17573, saving model to ./best_model\\wake_up_word_model\n",
      "INFO:tensorflow:Assets written to: ./best_model\\wake_up_word_model\\assets\n",
      "Epoch 112/300\n",
      "8/8 [==============================] - 0s 14ms/step - loss: 2.4071 - accuracy: 0.5779 - val_loss: 1.1734 - val_accuracy: 0.7125\n",
      "\n",
      "Epoch 00112: val_loss improved from 1.17573 to 1.17338, saving model to ./best_model\\wake_up_word_model\n",
      "INFO:tensorflow:Assets written to: ./best_model\\wake_up_word_model\\assets\n",
      "Epoch 113/300\n",
      "8/8 [==============================] - 0s 13ms/step - loss: 2.1183 - accuracy: 0.6230 - val_loss: 1.1717 - val_accuracy: 0.7125\n",
      "\n",
      "Epoch 00113: val_loss improved from 1.17338 to 1.17172, saving model to ./best_model\\wake_up_word_model\n",
      "INFO:tensorflow:Assets written to: ./best_model\\wake_up_word_model\\assets\n",
      "Epoch 114/300\n",
      "8/8 [==============================] - 0s 13ms/step - loss: 2.5595 - accuracy: 0.5615 - val_loss: 1.1696 - val_accuracy: 0.7125\n"
     ]
    },
    {
     "name": "stdout",
     "output_type": "stream",
     "text": [
      "\n",
      "Epoch 00114: val_loss improved from 1.17172 to 1.16962, saving model to ./best_model\\wake_up_word_model\n",
      "INFO:tensorflow:Assets written to: ./best_model\\wake_up_word_model\\assets\n",
      "Epoch 115/300\n",
      "8/8 [==============================] - 0s 14ms/step - loss: 2.8997 - accuracy: 0.5492 - val_loss: 1.1692 - val_accuracy: 0.7125\n",
      "\n",
      "Epoch 00115: val_loss improved from 1.16962 to 1.16922, saving model to ./best_model\\wake_up_word_model\n",
      "INFO:tensorflow:Assets written to: ./best_model\\wake_up_word_model\\assets\n",
      "Epoch 116/300\n",
      "8/8 [==============================] - 0s 14ms/step - loss: 2.1521 - accuracy: 0.5738 - val_loss: 1.1685 - val_accuracy: 0.7250\n",
      "\n",
      "Epoch 00116: val_loss improved from 1.16922 to 1.16845, saving model to ./best_model\\wake_up_word_model\n",
      "INFO:tensorflow:Assets written to: ./best_model\\wake_up_word_model\\assets\n",
      "Epoch 117/300\n",
      "8/8 [==============================] - 0s 14ms/step - loss: 2.9000 - accuracy: 0.5369 - val_loss: 1.1695 - val_accuracy: 0.7125\n",
      "\n",
      "Epoch 00117: val_loss did not improve from 1.16845\n",
      "Epoch 118/300\n",
      "8/8 [==============================] - 0s 14ms/step - loss: 1.8006 - accuracy: 0.6434 - val_loss: 1.1723 - val_accuracy: 0.7125\n",
      "\n",
      "Epoch 00118: val_loss did not improve from 1.16845\n",
      "Epoch 119/300\n",
      "8/8 [==============================] - 0s 19ms/step - loss: 2.4619 - accuracy: 0.5697 - val_loss: 1.1720 - val_accuracy: 0.7125\n",
      "\n",
      "Epoch 00119: val_loss did not improve from 1.16845\n",
      "Epoch 120/300\n",
      "8/8 [==============================] - 0s 22ms/step - loss: 2.3076 - accuracy: 0.5656 - val_loss: 1.1711 - val_accuracy: 0.7125\n",
      "\n",
      "Epoch 00120: val_loss did not improve from 1.16845\n",
      "Epoch 121/300\n",
      "8/8 [==============================] - 0s 28ms/step - loss: 1.8847 - accuracy: 0.6311 - val_loss: 1.1689 - val_accuracy: 0.7250\n",
      "\n",
      "Epoch 00121: val_loss did not improve from 1.16845\n",
      "Epoch 122/300\n",
      "8/8 [==============================] - 0s 29ms/step - loss: 2.1845 - accuracy: 0.6393 - val_loss: 1.1679 - val_accuracy: 0.7250\n",
      "\n",
      "Epoch 00122: val_loss improved from 1.16845 to 1.16785, saving model to ./best_model\\wake_up_word_model\n",
      "INFO:tensorflow:Assets written to: ./best_model\\wake_up_word_model\\assets\n",
      "Epoch 123/300\n",
      "8/8 [==============================] - 0s 14ms/step - loss: 2.0188 - accuracy: 0.6598 - val_loss: 1.1659 - val_accuracy: 0.7250\n",
      "\n",
      "Epoch 00123: val_loss improved from 1.16785 to 1.16588, saving model to ./best_model\\wake_up_word_model\n",
      "INFO:tensorflow:Assets written to: ./best_model\\wake_up_word_model\\assets\n",
      "Epoch 124/300\n",
      "8/8 [==============================] - 0s 14ms/step - loss: 2.1732 - accuracy: 0.6475 - val_loss: 1.1648 - val_accuracy: 0.7250\n",
      "\n",
      "Epoch 00124: val_loss improved from 1.16588 to 1.16481, saving model to ./best_model\\wake_up_word_model\n",
      "INFO:tensorflow:Assets written to: ./best_model\\wake_up_word_model\\assets\n",
      "Epoch 125/300\n",
      "8/8 [==============================] - 0s 12ms/step - loss: 2.3194 - accuracy: 0.6066 - val_loss: 1.1634 - val_accuracy: 0.7250\n",
      "\n",
      "Epoch 00125: val_loss improved from 1.16481 to 1.16337, saving model to ./best_model\\wake_up_word_model\n",
      "INFO:tensorflow:Assets written to: ./best_model\\wake_up_word_model\\assets\n",
      "Epoch 126/300\n",
      "8/8 [==============================] - 0s 13ms/step - loss: 2.2345 - accuracy: 0.5861 - val_loss: 1.1621 - val_accuracy: 0.7250\n",
      "\n",
      "Epoch 00126: val_loss improved from 1.16337 to 1.16213, saving model to ./best_model\\wake_up_word_model\n",
      "INFO:tensorflow:Assets written to: ./best_model\\wake_up_word_model\\assets\n",
      "Epoch 127/300\n",
      "8/8 [==============================] - 0s 16ms/step - loss: 2.3924 - accuracy: 0.6066 - val_loss: 1.1608 - val_accuracy: 0.7250\n",
      "\n",
      "Epoch 00127: val_loss improved from 1.16213 to 1.16083, saving model to ./best_model\\wake_up_word_model\n",
      "INFO:tensorflow:Assets written to: ./best_model\\wake_up_word_model\\assets\n",
      "Epoch 128/300\n",
      "8/8 [==============================] - 0s 13ms/step - loss: 2.1084 - accuracy: 0.6025 - val_loss: 1.1594 - val_accuracy: 0.7250\n",
      "\n",
      "Epoch 00128: val_loss improved from 1.16083 to 1.15940, saving model to ./best_model\\wake_up_word_model\n",
      "INFO:tensorflow:Assets written to: ./best_model\\wake_up_word_model\\assets\n",
      "Epoch 129/300\n",
      "8/8 [==============================] - 0s 14ms/step - loss: 2.1857 - accuracy: 0.6025 - val_loss: 1.1576 - val_accuracy: 0.7250\n",
      "\n",
      "Epoch 00129: val_loss improved from 1.15940 to 1.15765, saving model to ./best_model\\wake_up_word_model\n",
      "INFO:tensorflow:Assets written to: ./best_model\\wake_up_word_model\\assets\n",
      "Epoch 130/300\n",
      "8/8 [==============================] - 0s 18ms/step - loss: 2.5708 - accuracy: 0.5533 - val_loss: 1.1565 - val_accuracy: 0.7250\n",
      "\n",
      "Epoch 00130: val_loss improved from 1.15765 to 1.15652, saving model to ./best_model\\wake_up_word_model\n",
      "INFO:tensorflow:Assets written to: ./best_model\\wake_up_word_model\\assets\n",
      "Epoch 131/300\n",
      "8/8 [==============================] - 0s 12ms/step - loss: 1.9980 - accuracy: 0.6066 - val_loss: 1.1564 - val_accuracy: 0.7250\n",
      "\n",
      "Epoch 00131: val_loss improved from 1.15652 to 1.15636, saving model to ./best_model\\wake_up_word_model\n",
      "INFO:tensorflow:Assets written to: ./best_model\\wake_up_word_model\\assets\n",
      "Epoch 132/300\n",
      "8/8 [==============================] - 0s 14ms/step - loss: 2.3311 - accuracy: 0.5738 - val_loss: 1.1556 - val_accuracy: 0.7250\n",
      "\n",
      "Epoch 00132: val_loss improved from 1.15636 to 1.15560, saving model to ./best_model\\wake_up_word_model\n",
      "INFO:tensorflow:Assets written to: ./best_model\\wake_up_word_model\\assets\n",
      "Epoch 133/300\n",
      "8/8 [==============================] - 0s 15ms/step - loss: 2.2457 - accuracy: 0.5902 - val_loss: 1.1546 - val_accuracy: 0.7250\n",
      "\n",
      "Epoch 00133: val_loss improved from 1.15560 to 1.15459, saving model to ./best_model\\wake_up_word_model\n",
      "INFO:tensorflow:Assets written to: ./best_model\\wake_up_word_model\\assets\n",
      "Epoch 134/300\n",
      "8/8 [==============================] - 0s 14ms/step - loss: 2.3694 - accuracy: 0.5820 - val_loss: 1.1546 - val_accuracy: 0.7250\n",
      "\n",
      "Epoch 00134: val_loss improved from 1.15459 to 1.15458, saving model to ./best_model\\wake_up_word_model\n",
      "INFO:tensorflow:Assets written to: ./best_model\\wake_up_word_model\\assets\n",
      "Epoch 135/300\n",
      "8/8 [==============================] - 0s 12ms/step - loss: 2.0430 - accuracy: 0.5902 - val_loss: 1.1540 - val_accuracy: 0.7250\n",
      "\n",
      "Epoch 00135: val_loss improved from 1.15458 to 1.15400, saving model to ./best_model\\wake_up_word_model\n",
      "INFO:tensorflow:Assets written to: ./best_model\\wake_up_word_model\\assets\n",
      "Epoch 136/300\n",
      "8/8 [==============================] - 0s 14ms/step - loss: 2.5875 - accuracy: 0.5533 - val_loss: 1.1524 - val_accuracy: 0.7250\n",
      "\n",
      "Epoch 00136: val_loss improved from 1.15400 to 1.15239, saving model to ./best_model\\wake_up_word_model\n",
      "INFO:tensorflow:Assets written to: ./best_model\\wake_up_word_model\\assets\n",
      "Epoch 137/300\n",
      "8/8 [==============================] - 0s 14ms/step - loss: 2.4547 - accuracy: 0.5820 - val_loss: 1.1501 - val_accuracy: 0.7250\n",
      "\n",
      "Epoch 00137: val_loss improved from 1.15239 to 1.15011, saving model to ./best_model\\wake_up_word_model\n",
      "INFO:tensorflow:Assets written to: ./best_model\\wake_up_word_model\\assets\n",
      "Epoch 138/300\n",
      "8/8 [==============================] - 0s 15ms/step - loss: 2.1634 - accuracy: 0.6230 - val_loss: 1.1484 - val_accuracy: 0.7250\n",
      "\n",
      "Epoch 00138: val_loss improved from 1.15011 to 1.14839, saving model to ./best_model\\wake_up_word_model\n",
      "INFO:tensorflow:Assets written to: ./best_model\\wake_up_word_model\\assets\n",
      "Epoch 139/300\n",
      "8/8 [==============================] - 0s 14ms/step - loss: 2.3601 - accuracy: 0.5779 - val_loss: 1.1470 - val_accuracy: 0.7250\n",
      "\n",
      "Epoch 00139: val_loss improved from 1.14839 to 1.14700, saving model to ./best_model\\wake_up_word_model\n",
      "INFO:tensorflow:Assets written to: ./best_model\\wake_up_word_model\\assets\n",
      "Epoch 140/300\n",
      "8/8 [==============================] - 0s 13ms/step - loss: 2.3050 - accuracy: 0.5861 - val_loss: 1.1453 - val_accuracy: 0.7250\n",
      "\n",
      "Epoch 00140: val_loss improved from 1.14700 to 1.14525, saving model to ./best_model\\wake_up_word_model\n",
      "INFO:tensorflow:Assets written to: ./best_model\\wake_up_word_model\\assets\n",
      "Epoch 141/300\n",
      "8/8 [==============================] - 0s 15ms/step - loss: 1.8140 - accuracy: 0.6434 - val_loss: 1.1437 - val_accuracy: 0.7250\n",
      "\n",
      "Epoch 00141: val_loss improved from 1.14525 to 1.14373, saving model to ./best_model\\wake_up_word_model\n",
      "INFO:tensorflow:Assets written to: ./best_model\\wake_up_word_model\\assets\n"
     ]
    },
    {
     "name": "stdout",
     "output_type": "stream",
     "text": [
      "Epoch 142/300\n",
      "8/8 [==============================] - 0s 17ms/step - loss: 2.2194 - accuracy: 0.5779 - val_loss: 1.1425 - val_accuracy: 0.7250\n",
      "\n",
      "Epoch 00142: val_loss improved from 1.14373 to 1.14251, saving model to ./best_model\\wake_up_word_model\n",
      "INFO:tensorflow:Assets written to: ./best_model\\wake_up_word_model\\assets\n",
      "Epoch 143/300\n",
      "8/8 [==============================] - 0s 17ms/step - loss: 2.3977 - accuracy: 0.5533 - val_loss: 1.1416 - val_accuracy: 0.7250\n",
      "\n",
      "Epoch 00143: val_loss improved from 1.14251 to 1.14161, saving model to ./best_model\\wake_up_word_model\n",
      "INFO:tensorflow:Assets written to: ./best_model\\wake_up_word_model\\assets\n",
      "Epoch 144/300\n",
      "8/8 [==============================] - 0s 15ms/step - loss: 2.3586 - accuracy: 0.6066 - val_loss: 1.1404 - val_accuracy: 0.7250\n",
      "\n",
      "Epoch 00144: val_loss improved from 1.14161 to 1.14041, saving model to ./best_model\\wake_up_word_model\n",
      "INFO:tensorflow:Assets written to: ./best_model\\wake_up_word_model\\assets\n",
      "Epoch 145/300\n",
      "8/8 [==============================] - 0s 13ms/step - loss: 2.4770 - accuracy: 0.5697 - val_loss: 1.1384 - val_accuracy: 0.7250\n",
      "\n",
      "Epoch 00145: val_loss improved from 1.14041 to 1.13837, saving model to ./best_model\\wake_up_word_model\n",
      "INFO:tensorflow:Assets written to: ./best_model\\wake_up_word_model\\assets\n",
      "Epoch 146/300\n",
      "8/8 [==============================] - 0s 11ms/step - loss: 1.6699 - accuracy: 0.6434 - val_loss: 1.1368 - val_accuracy: 0.7250\n",
      "\n",
      "Epoch 00146: val_loss improved from 1.13837 to 1.13682, saving model to ./best_model\\wake_up_word_model\n",
      "INFO:tensorflow:Assets written to: ./best_model\\wake_up_word_model\\assets\n",
      "Epoch 147/300\n",
      "8/8 [==============================] - 0s 13ms/step - loss: 1.6956 - accuracy: 0.6557 - val_loss: 1.1360 - val_accuracy: 0.7250\n",
      "\n",
      "Epoch 00147: val_loss improved from 1.13682 to 1.13600, saving model to ./best_model\\wake_up_word_model\n",
      "INFO:tensorflow:Assets written to: ./best_model\\wake_up_word_model\\assets\n",
      "Epoch 148/300\n",
      "8/8 [==============================] - 0s 14ms/step - loss: 2.3117 - accuracy: 0.5984 - val_loss: 1.1352 - val_accuracy: 0.7250\n",
      "\n",
      "Epoch 00148: val_loss improved from 1.13600 to 1.13524, saving model to ./best_model\\wake_up_word_model\n",
      "INFO:tensorflow:Assets written to: ./best_model\\wake_up_word_model\\assets\n",
      "Epoch 149/300\n",
      "8/8 [==============================] - 0s 16ms/step - loss: 2.1803 - accuracy: 0.6066 - val_loss: 1.1352 - val_accuracy: 0.7250\n",
      "\n",
      "Epoch 00149: val_loss improved from 1.13524 to 1.13517, saving model to ./best_model\\wake_up_word_model\n",
      "INFO:tensorflow:Assets written to: ./best_model\\wake_up_word_model\\assets\n",
      "Epoch 150/300\n",
      "8/8 [==============================] - 0s 16ms/step - loss: 2.2752 - accuracy: 0.6270 - val_loss: 1.1350 - val_accuracy: 0.7250\n",
      "\n",
      "Epoch 00150: val_loss improved from 1.13517 to 1.13495, saving model to ./best_model\\wake_up_word_model\n",
      "INFO:tensorflow:Assets written to: ./best_model\\wake_up_word_model\\assets\n",
      "Epoch 151/300\n",
      "8/8 [==============================] - 0s 14ms/step - loss: 1.9330 - accuracy: 0.6434 - val_loss: 1.1346 - val_accuracy: 0.7250\n",
      "\n",
      "Epoch 00151: val_loss improved from 1.13495 to 1.13460, saving model to ./best_model\\wake_up_word_model\n",
      "INFO:tensorflow:Assets written to: ./best_model\\wake_up_word_model\\assets\n",
      "Epoch 152/300\n",
      "8/8 [==============================] - 0s 15ms/step - loss: 2.4431 - accuracy: 0.5902 - val_loss: 1.1345 - val_accuracy: 0.7250\n",
      "\n",
      "Epoch 00152: val_loss improved from 1.13460 to 1.13452, saving model to ./best_model\\wake_up_word_model\n",
      "INFO:tensorflow:Assets written to: ./best_model\\wake_up_word_model\\assets\n",
      "Epoch 153/300\n",
      "8/8 [==============================] - 0s 15ms/step - loss: 2.2761 - accuracy: 0.5779 - val_loss: 1.1350 - val_accuracy: 0.7250\n",
      "\n",
      "Epoch 00153: val_loss did not improve from 1.13452\n",
      "Epoch 154/300\n",
      "8/8 [==============================] - 0s 13ms/step - loss: 2.1545 - accuracy: 0.6516 - val_loss: 1.1351 - val_accuracy: 0.7250\n",
      "\n",
      "Epoch 00154: val_loss did not improve from 1.13452\n",
      "Epoch 155/300\n",
      "8/8 [==============================] - 0s 16ms/step - loss: 1.9838 - accuracy: 0.6352 - val_loss: 1.1348 - val_accuracy: 0.7250\n",
      "\n",
      "Epoch 00155: val_loss did not improve from 1.13452\n",
      "Epoch 156/300\n",
      "8/8 [==============================] - 0s 27ms/step - loss: 2.5584 - accuracy: 0.5779 - val_loss: 1.1349 - val_accuracy: 0.7250\n",
      "\n",
      "Epoch 00156: val_loss did not improve from 1.13452\n",
      "Epoch 157/300\n",
      "8/8 [==============================] - 0s 22ms/step - loss: 2.2968 - accuracy: 0.6189 - val_loss: 1.1350 - val_accuracy: 0.7250\n",
      "\n",
      "Epoch 00157: val_loss did not improve from 1.13452\n",
      "Epoch 158/300\n",
      "8/8 [==============================] - 0s 28ms/step - loss: 2.8064 - accuracy: 0.5123 - val_loss: 1.1345 - val_accuracy: 0.7250\n",
      "\n",
      "Epoch 00158: val_loss improved from 1.13452 to 1.13451, saving model to ./best_model\\wake_up_word_model\n",
      "INFO:tensorflow:Assets written to: ./best_model\\wake_up_word_model\\assets\n",
      "Epoch 159/300\n",
      "8/8 [==============================] - 0s 14ms/step - loss: 2.3387 - accuracy: 0.5738 - val_loss: 1.1342 - val_accuracy: 0.7250\n",
      "\n",
      "Epoch 00159: val_loss improved from 1.13451 to 1.13417, saving model to ./best_model\\wake_up_word_model\n",
      "INFO:tensorflow:Assets written to: ./best_model\\wake_up_word_model\\assets\n",
      "Epoch 160/300\n",
      "8/8 [==============================] - 0s 13ms/step - loss: 2.2947 - accuracy: 0.5820 - val_loss: 1.1338 - val_accuracy: 0.7250\n",
      "\n",
      "Epoch 00160: val_loss improved from 1.13417 to 1.13377, saving model to ./best_model\\wake_up_word_model\n",
      "INFO:tensorflow:Assets written to: ./best_model\\wake_up_word_model\\assets\n",
      "Epoch 161/300\n",
      "8/8 [==============================] - 0s 13ms/step - loss: 2.1938 - accuracy: 0.6598 - val_loss: 1.1340 - val_accuracy: 0.7250\n",
      "\n",
      "Epoch 00161: val_loss did not improve from 1.13377\n",
      "Epoch 162/300\n",
      "8/8 [==============================] - 0s 14ms/step - loss: 2.3474 - accuracy: 0.5943 - val_loss: 1.1343 - val_accuracy: 0.7250\n",
      "\n",
      "Epoch 00162: val_loss did not improve from 1.13377\n",
      "Epoch 163/300\n",
      "8/8 [==============================] - 0s 15ms/step - loss: 2.5286 - accuracy: 0.6311 - val_loss: 1.1343 - val_accuracy: 0.7250\n",
      "\n",
      "Epoch 00163: val_loss did not improve from 1.13377\n",
      "Epoch 164/300\n",
      "8/8 [==============================] - 0s 22ms/step - loss: 2.2015 - accuracy: 0.6066 - val_loss: 1.1340 - val_accuracy: 0.7250\n",
      "\n",
      "Epoch 00164: val_loss did not improve from 1.13377\n",
      "Epoch 165/300\n",
      "8/8 [==============================] - 0s 28ms/step - loss: 2.1490 - accuracy: 0.6311 - val_loss: 1.1340 - val_accuracy: 0.7250\n",
      "\n",
      "Epoch 00165: val_loss did not improve from 1.13377\n",
      "Epoch 166/300\n",
      "8/8 [==============================] - 0s 27ms/step - loss: 2.2476 - accuracy: 0.5574 - val_loss: 1.1339 - val_accuracy: 0.7250\n",
      "\n",
      "Epoch 00166: val_loss did not improve from 1.13377\n",
      "Epoch 167/300\n",
      "8/8 [==============================] - 0s 16ms/step - loss: 2.2779 - accuracy: 0.6148 - val_loss: 1.1338 - val_accuracy: 0.7250\n",
      "\n",
      "Epoch 00167: val_loss did not improve from 1.13377\n",
      "Epoch 168/300\n",
      "8/8 [==============================] - 0s 18ms/step - loss: 2.3668 - accuracy: 0.6230 - val_loss: 1.1336 - val_accuracy: 0.7250\n",
      "\n",
      "Epoch 00168: val_loss improved from 1.13377 to 1.13359, saving model to ./best_model\\wake_up_word_model\n",
      "INFO:tensorflow:Assets written to: ./best_model\\wake_up_word_model\\assets\n",
      "Epoch 169/300\n",
      "8/8 [==============================] - 0s 11ms/step - loss: 2.2508 - accuracy: 0.6066 - val_loss: 1.1335 - val_accuracy: 0.7250\n",
      "\n",
      "Epoch 00169: val_loss improved from 1.13359 to 1.13348, saving model to ./best_model\\wake_up_word_model\n",
      "INFO:tensorflow:Assets written to: ./best_model\\wake_up_word_model\\assets\n",
      "Epoch 170/300\n",
      "8/8 [==============================] - 0s 13ms/step - loss: 2.2159 - accuracy: 0.6230 - val_loss: 1.1333 - val_accuracy: 0.7250\n",
      "\n",
      "Epoch 00170: val_loss improved from 1.13348 to 1.13333, saving model to ./best_model\\wake_up_word_model\n",
      "INFO:tensorflow:Assets written to: ./best_model\\wake_up_word_model\\assets\n",
      "Epoch 171/300\n",
      "8/8 [==============================] - 0s 14ms/step - loss: 1.8768 - accuracy: 0.6516 - val_loss: 1.1330 - val_accuracy: 0.7250\n",
      "\n",
      "Epoch 00171: val_loss improved from 1.13333 to 1.13301, saving model to ./best_model\\wake_up_word_model\n",
      "INFO:tensorflow:Assets written to: ./best_model\\wake_up_word_model\\assets\n",
      "Epoch 172/300\n",
      "8/8 [==============================] - 0s 13ms/step - loss: 2.0904 - accuracy: 0.6434 - val_loss: 1.1329 - val_accuracy: 0.7250\n",
      "\n",
      "Epoch 00172: val_loss improved from 1.13301 to 1.13290, saving model to ./best_model\\wake_up_word_model\n",
      "INFO:tensorflow:Assets written to: ./best_model\\wake_up_word_model\\assets\n",
      "Epoch 173/300\n",
      "8/8 [==============================] - 0s 14ms/step - loss: 2.0095 - accuracy: 0.6107 - val_loss: 1.1330 - val_accuracy: 0.7250\n",
      "\n",
      "Epoch 00173: val_loss did not improve from 1.13290\n",
      "Epoch 174/300\n",
      "8/8 [==============================] - 0s 19ms/step - loss: 2.2281 - accuracy: 0.6270 - val_loss: 1.1330 - val_accuracy: 0.7250\n",
      "\n",
      "Epoch 00174: val_loss did not improve from 1.13290\n",
      "Epoch 175/300\n",
      "8/8 [==============================] - 0s 26ms/step - loss: 2.4043 - accuracy: 0.5820 - val_loss: 1.1328 - val_accuracy: 0.7250\n",
      "\n",
      "Epoch 00175: val_loss improved from 1.13290 to 1.13278, saving model to ./best_model\\wake_up_word_model\n",
      "INFO:tensorflow:Assets written to: ./best_model\\wake_up_word_model\\assets\n",
      "Epoch 176/300\n",
      "8/8 [==============================] - 0s 16ms/step - loss: 2.4514 - accuracy: 0.5943 - val_loss: 1.1325 - val_accuracy: 0.7250\n",
      "\n",
      "Epoch 00176: val_loss improved from 1.13278 to 1.13249, saving model to ./best_model\\wake_up_word_model\n",
      "INFO:tensorflow:Assets written to: ./best_model\\wake_up_word_model\\assets\n",
      "Epoch 177/300\n",
      "8/8 [==============================] - 0s 11ms/step - loss: 2.1756 - accuracy: 0.6189 - val_loss: 1.1322 - val_accuracy: 0.7250\n",
      "\n",
      "Epoch 00177: val_loss improved from 1.13249 to 1.13218, saving model to ./best_model\\wake_up_word_model\n",
      "INFO:tensorflow:Assets written to: ./best_model\\wake_up_word_model\\assets\n",
      "Epoch 178/300\n",
      "8/8 [==============================] - 0s 14ms/step - loss: 2.1483 - accuracy: 0.6148 - val_loss: 1.1320 - val_accuracy: 0.7250\n",
      "\n",
      "Epoch 00178: val_loss improved from 1.13218 to 1.13201, saving model to ./best_model\\wake_up_word_model\n",
      "INFO:tensorflow:Assets written to: ./best_model\\wake_up_word_model\\assets\n",
      "Epoch 179/300\n",
      "8/8 [==============================] - 0s 16ms/step - loss: 1.9424 - accuracy: 0.6189 - val_loss: 1.1318 - val_accuracy: 0.7250\n",
      "\n",
      "Epoch 00179: val_loss improved from 1.13201 to 1.13184, saving model to ./best_model\\wake_up_word_model\n",
      "INFO:tensorflow:Assets written to: ./best_model\\wake_up_word_model\\assets\n",
      "Epoch 180/300\n",
      "8/8 [==============================] - 0s 17ms/step - loss: 2.3903 - accuracy: 0.5902 - val_loss: 1.1315 - val_accuracy: 0.7250\n",
      "\n",
      "Epoch 00180: val_loss improved from 1.13184 to 1.13153, saving model to ./best_model\\wake_up_word_model\n",
      "INFO:tensorflow:Assets written to: ./best_model\\wake_up_word_model\\assets\n",
      "Epoch 181/300\n",
      "8/8 [==============================] - 0s 13ms/step - loss: 1.9639 - accuracy: 0.6434 - val_loss: 1.1313 - val_accuracy: 0.7250\n",
      "\n",
      "Epoch 00181: val_loss improved from 1.13153 to 1.13128, saving model to ./best_model\\wake_up_word_model\n",
      "INFO:tensorflow:Assets written to: ./best_model\\wake_up_word_model\\assets\n",
      "Epoch 182/300\n",
      "8/8 [==============================] - 0s 13ms/step - loss: 1.8553 - accuracy: 0.5943 - val_loss: 1.1312 - val_accuracy: 0.7250\n",
      "\n",
      "Epoch 00182: val_loss improved from 1.13128 to 1.13117, saving model to ./best_model\\wake_up_word_model\n",
      "INFO:tensorflow:Assets written to: ./best_model\\wake_up_word_model\\assets\n",
      "Epoch 183/300\n",
      "8/8 [==============================] - 0s 15ms/step - loss: 2.4071 - accuracy: 0.6148 - val_loss: 1.1311 - val_accuracy: 0.7250\n",
      "\n",
      "Epoch 00183: val_loss improved from 1.13117 to 1.13113, saving model to ./best_model\\wake_up_word_model\n",
      "INFO:tensorflow:Assets written to: ./best_model\\wake_up_word_model\\assets\n",
      "Epoch 184/300\n",
      "8/8 [==============================] - 0s 16ms/step - loss: 2.2441 - accuracy: 0.5533 - val_loss: 1.1311 - val_accuracy: 0.7250\n",
      "\n",
      "Epoch 00184: val_loss improved from 1.13113 to 1.13109, saving model to ./best_model\\wake_up_word_model\n",
      "INFO:tensorflow:Assets written to: ./best_model\\wake_up_word_model\\assets\n",
      "Epoch 185/300\n",
      "8/8 [==============================] - 0s 13ms/step - loss: 1.9005 - accuracy: 0.6557 - val_loss: 1.1311 - val_accuracy: 0.7250\n",
      "\n",
      "Epoch 00185: val_loss improved from 1.13109 to 1.13107, saving model to ./best_model\\wake_up_word_model\n",
      "INFO:tensorflow:Assets written to: ./best_model\\wake_up_word_model\\assets\n",
      "Epoch 186/300\n",
      "8/8 [==============================] - 0s 14ms/step - loss: 1.7992 - accuracy: 0.6680 - val_loss: 1.1309 - val_accuracy: 0.7250\n",
      "\n",
      "Epoch 00186: val_loss improved from 1.13107 to 1.13087, saving model to ./best_model\\wake_up_word_model\n",
      "INFO:tensorflow:Assets written to: ./best_model\\wake_up_word_model\\assets\n",
      "Epoch 187/300\n",
      "8/8 [==============================] - 0s 11ms/step - loss: 2.2603 - accuracy: 0.6270 - val_loss: 1.1307 - val_accuracy: 0.7250\n",
      "\n",
      "Epoch 00187: val_loss improved from 1.13087 to 1.13073, saving model to ./best_model\\wake_up_word_model\n",
      "INFO:tensorflow:Assets written to: ./best_model\\wake_up_word_model\\assets\n",
      "Epoch 188/300\n",
      "8/8 [==============================] - 0s 15ms/step - loss: 2.5341 - accuracy: 0.5984 - val_loss: 1.1307 - val_accuracy: 0.7250\n",
      "\n",
      "Epoch 00188: val_loss did not improve from 1.13073\n",
      "Epoch 189/300\n",
      "8/8 [==============================] - 0s 12ms/step - loss: 2.3733 - accuracy: 0.6148 - val_loss: 1.1304 - val_accuracy: 0.7250\n",
      "\n",
      "Epoch 00189: val_loss improved from 1.13073 to 1.13044, saving model to ./best_model\\wake_up_word_model\n",
      "INFO:tensorflow:Assets written to: ./best_model\\wake_up_word_model\\assets\n",
      "Epoch 190/300\n",
      "8/8 [==============================] - 0s 16ms/step - loss: 2.0749 - accuracy: 0.6066 - val_loss: 1.1302 - val_accuracy: 0.7250\n",
      "\n",
      "Epoch 00190: val_loss improved from 1.13044 to 1.13023, saving model to ./best_model\\wake_up_word_model\n",
      "INFO:tensorflow:Assets written to: ./best_model\\wake_up_word_model\\assets\n",
      "Epoch 191/300\n",
      "8/8 [==============================] - 0s 14ms/step - loss: 2.4037 - accuracy: 0.5984 - val_loss: 1.1302 - val_accuracy: 0.7250\n",
      "\n",
      "Epoch 00191: val_loss improved from 1.13023 to 1.13016, saving model to ./best_model\\wake_up_word_model\n",
      "INFO:tensorflow:Assets written to: ./best_model\\wake_up_word_model\\assets\n",
      "Epoch 192/300\n",
      "8/8 [==============================] - 0s 13ms/step - loss: 1.9175 - accuracy: 0.6025 - val_loss: 1.1300 - val_accuracy: 0.7250\n",
      "\n",
      "Epoch 00192: val_loss improved from 1.13016 to 1.13000, saving model to ./best_model\\wake_up_word_model\n",
      "INFO:tensorflow:Assets written to: ./best_model\\wake_up_word_model\\assets\n",
      "Epoch 193/300\n",
      "8/8 [==============================] - 0s 17ms/step - loss: 2.4729 - accuracy: 0.5697 - val_loss: 1.1300 - val_accuracy: 0.7250\n",
      "\n",
      "Epoch 00193: val_loss did not improve from 1.13000\n",
      "Epoch 194/300\n",
      "8/8 [==============================] - 0s 19ms/step - loss: 2.2697 - accuracy: 0.5533 - val_loss: 1.1299 - val_accuracy: 0.7250\n",
      "\n",
      "Epoch 00194: val_loss improved from 1.13000 to 1.12990, saving model to ./best_model\\wake_up_word_model\n",
      "INFO:tensorflow:Assets written to: ./best_model\\wake_up_word_model\\assets\n",
      "Epoch 195/300\n",
      "8/8 [==============================] - 0s 11ms/step - loss: 2.4127 - accuracy: 0.5656 - val_loss: 1.1300 - val_accuracy: 0.7250\n",
      "\n",
      "Epoch 00195: val_loss did not improve from 1.12990\n",
      "Epoch 196/300\n",
      "8/8 [==============================] - 0s 14ms/step - loss: 2.4613 - accuracy: 0.5820 - val_loss: 1.1299 - val_accuracy: 0.7250\n",
      "\n",
      "Epoch 00196: val_loss improved from 1.12990 to 1.12987, saving model to ./best_model\\wake_up_word_model\n",
      "INFO:tensorflow:Assets written to: ./best_model\\wake_up_word_model\\assets\n",
      "Epoch 197/300\n",
      "8/8 [==============================] - 0s 14ms/step - loss: 2.1694 - accuracy: 0.6025 - val_loss: 1.1295 - val_accuracy: 0.7250\n",
      "\n",
      "Epoch 00197: val_loss improved from 1.12987 to 1.12949, saving model to ./best_model\\wake_up_word_model\n",
      "INFO:tensorflow:Assets written to: ./best_model\\wake_up_word_model\\assets\n",
      "Epoch 198/300\n",
      "8/8 [==============================] - 0s 15ms/step - loss: 2.0419 - accuracy: 0.6230 - val_loss: 1.1293 - val_accuracy: 0.7250\n",
      "\n",
      "Epoch 00198: val_loss improved from 1.12949 to 1.12926, saving model to ./best_model\\wake_up_word_model\n",
      "INFO:tensorflow:Assets written to: ./best_model\\wake_up_word_model\\assets\n",
      "Epoch 199/300\n",
      "8/8 [==============================] - 0s 13ms/step - loss: 1.5122 - accuracy: 0.6967 - val_loss: 1.1293 - val_accuracy: 0.7250\n",
      "\n",
      "Epoch 00199: val_loss did not improve from 1.12926\n",
      "Epoch 200/300\n"
     ]
    },
    {
     "name": "stdout",
     "output_type": "stream",
     "text": [
      "8/8 [==============================] - 0s 15ms/step - loss: 2.3006 - accuracy: 0.6025 - val_loss: 1.1291 - val_accuracy: 0.7250\n",
      "\n",
      "Epoch 00200: val_loss improved from 1.12926 to 1.12905, saving model to ./best_model\\wake_up_word_model\n",
      "INFO:tensorflow:Assets written to: ./best_model\\wake_up_word_model\\assets\n",
      "Epoch 201/300\n",
      "8/8 [==============================] - 0s 14ms/step - loss: 2.4593 - accuracy: 0.6025 - val_loss: 1.1289 - val_accuracy: 0.7250\n",
      "\n",
      "Epoch 00201: val_loss improved from 1.12905 to 1.12886, saving model to ./best_model\\wake_up_word_model\n",
      "INFO:tensorflow:Assets written to: ./best_model\\wake_up_word_model\\assets\n",
      "Epoch 202/300\n",
      "8/8 [==============================] - 0s 14ms/step - loss: 2.3843 - accuracy: 0.5943 - val_loss: 1.1285 - val_accuracy: 0.7250\n",
      "\n",
      "Epoch 00202: val_loss improved from 1.12886 to 1.12850, saving model to ./best_model\\wake_up_word_model\n",
      "INFO:tensorflow:Assets written to: ./best_model\\wake_up_word_model\\assets\n",
      "Epoch 203/300\n",
      "8/8 [==============================] - 0s 13ms/step - loss: 2.1431 - accuracy: 0.6107 - val_loss: 1.1282 - val_accuracy: 0.7250\n",
      "\n",
      "Epoch 00203: val_loss improved from 1.12850 to 1.12815, saving model to ./best_model\\wake_up_word_model\n",
      "INFO:tensorflow:Assets written to: ./best_model\\wake_up_word_model\\assets\n",
      "Epoch 204/300\n",
      "8/8 [==============================] - 0s 12ms/step - loss: 2.2365 - accuracy: 0.6107 - val_loss: 1.1279 - val_accuracy: 0.7250\n",
      "\n",
      "Epoch 00204: val_loss improved from 1.12815 to 1.12791, saving model to ./best_model\\wake_up_word_model\n",
      "INFO:tensorflow:Assets written to: ./best_model\\wake_up_word_model\\assets\n",
      "Epoch 205/300\n",
      "8/8 [==============================] - 0s 15ms/step - loss: 1.7858 - accuracy: 0.6516 - val_loss: 1.1276 - val_accuracy: 0.7250\n",
      "\n",
      "Epoch 00205: val_loss improved from 1.12791 to 1.12762, saving model to ./best_model\\wake_up_word_model\n",
      "INFO:tensorflow:Assets written to: ./best_model\\wake_up_word_model\\assets\n",
      "Epoch 206/300\n",
      "8/8 [==============================] - 0s 13ms/step - loss: 1.7811 - accuracy: 0.6557 - val_loss: 1.1277 - val_accuracy: 0.7250\n",
      "\n",
      "Epoch 00206: val_loss did not improve from 1.12762\n",
      "Epoch 207/300\n",
      "8/8 [==============================] - 0s 20ms/step - loss: 2.6353 - accuracy: 0.5574 - val_loss: 1.1278 - val_accuracy: 0.7250\n",
      "\n",
      "Epoch 00207: val_loss did not improve from 1.12762\n",
      "Epoch 208/300\n",
      "8/8 [==============================] - 0s 31ms/step - loss: 2.1162 - accuracy: 0.5738 - val_loss: 1.1279 - val_accuracy: 0.7250\n",
      "\n",
      "Epoch 00208: val_loss did not improve from 1.12762\n",
      "Epoch 209/300\n",
      "8/8 [==============================] - 0s 23ms/step - loss: 1.9407 - accuracy: 0.6311 - val_loss: 1.1279 - val_accuracy: 0.7250\n",
      "\n",
      "Epoch 00209: val_loss did not improve from 1.12762\n",
      "Epoch 210/300\n",
      "8/8 [==============================] - 0s 22ms/step - loss: 2.2876 - accuracy: 0.6066 - val_loss: 1.1278 - val_accuracy: 0.7250\n",
      "\n",
      "Epoch 00210: val_loss did not improve from 1.12762\n",
      "Epoch 211/300\n",
      "8/8 [==============================] - 0s 15ms/step - loss: 2.2972 - accuracy: 0.5943 - val_loss: 1.1275 - val_accuracy: 0.7250\n",
      "\n",
      "Epoch 00211: val_loss improved from 1.12762 to 1.12754, saving model to ./best_model\\wake_up_word_model\n",
      "INFO:tensorflow:Assets written to: ./best_model\\wake_up_word_model\\assets\n",
      "Epoch 212/300\n",
      "8/8 [==============================] - 0s 16ms/step - loss: 2.2344 - accuracy: 0.6189 - val_loss: 1.1275 - val_accuracy: 0.7250\n",
      "\n",
      "Epoch 00212: val_loss improved from 1.12754 to 1.12752, saving model to ./best_model\\wake_up_word_model\n",
      "INFO:tensorflow:Assets written to: ./best_model\\wake_up_word_model\\assets\n",
      "Epoch 213/300\n",
      "8/8 [==============================] - 0s 15ms/step - loss: 1.9453 - accuracy: 0.6352 - val_loss: 1.1275 - val_accuracy: 0.7250\n",
      "\n",
      "Epoch 00213: val_loss did not improve from 1.12752\n",
      "Epoch 214/300\n",
      "8/8 [==============================] - 0s 15ms/step - loss: 2.1328 - accuracy: 0.6025 - val_loss: 1.1275 - val_accuracy: 0.7250\n",
      "\n",
      "Epoch 00214: val_loss did not improve from 1.12752\n",
      "Epoch 215/300\n",
      "8/8 [==============================] - 0s 15ms/step - loss: 2.3794 - accuracy: 0.5738 - val_loss: 1.1275 - val_accuracy: 0.7250\n",
      "\n",
      "Epoch 00215: val_loss did not improve from 1.12752\n",
      "Epoch 216/300\n",
      "8/8 [==============================] - 0s 22ms/step - loss: 2.4931 - accuracy: 0.5984 - val_loss: 1.1274 - val_accuracy: 0.7250\n",
      "\n",
      "Epoch 00216: val_loss improved from 1.12752 to 1.12744, saving model to ./best_model\\wake_up_word_model\n",
      "INFO:tensorflow:Assets written to: ./best_model\\wake_up_word_model\\assets\n",
      "Epoch 217/300\n",
      "8/8 [==============================] - 0s 14ms/step - loss: 2.6075 - accuracy: 0.5574 - val_loss: 1.1275 - val_accuracy: 0.7250\n",
      "\n",
      "Epoch 00217: val_loss did not improve from 1.12744\n",
      "Epoch 218/300\n",
      "8/8 [==============================] - 0s 15ms/step - loss: 2.2813 - accuracy: 0.5574 - val_loss: 1.1275 - val_accuracy: 0.7250\n",
      "\n",
      "Epoch 00218: val_loss did not improve from 1.12744\n",
      "Epoch 219/300\n",
      "8/8 [==============================] - 0s 19ms/step - loss: 2.3007 - accuracy: 0.5451 - val_loss: 1.1276 - val_accuracy: 0.7250\n",
      "\n",
      "Epoch 00219: val_loss did not improve from 1.12744\n",
      "Epoch 220/300\n",
      "8/8 [==============================] - 0s 23ms/step - loss: 2.0743 - accuracy: 0.5820 - val_loss: 1.1278 - val_accuracy: 0.7250\n",
      "\n",
      "Epoch 00220: val_loss did not improve from 1.12744\n",
      "Epoch 221/300\n",
      "8/8 [==============================] - 0s 34ms/step - loss: 2.1443 - accuracy: 0.6270 - val_loss: 1.1278 - val_accuracy: 0.7250\n",
      "\n",
      "Epoch 00221: val_loss did not improve from 1.12744\n",
      "Epoch 222/300\n",
      "8/8 [==============================] - 0s 28ms/step - loss: 2.2770 - accuracy: 0.6270 - val_loss: 1.1277 - val_accuracy: 0.7250\n",
      "\n",
      "Epoch 00222: val_loss did not improve from 1.12744\n",
      "Epoch 223/300\n",
      "8/8 [==============================] - 0s 15ms/step - loss: 2.0789 - accuracy: 0.6270 - val_loss: 1.1277 - val_accuracy: 0.7250\n",
      "\n",
      "Epoch 00223: val_loss did not improve from 1.12744\n",
      "Epoch 224/300\n",
      "8/8 [==============================] - 0s 16ms/step - loss: 2.3203 - accuracy: 0.6107 - val_loss: 1.1277 - val_accuracy: 0.7250\n",
      "\n",
      "Epoch 00224: val_loss did not improve from 1.12744\n",
      "Epoch 225/300\n",
      "8/8 [==============================] - 0s 14ms/step - loss: 2.2478 - accuracy: 0.6311 - val_loss: 1.1276 - val_accuracy: 0.7250\n",
      "\n",
      "Epoch 00225: val_loss did not improve from 1.12744\n",
      "Epoch 226/300\n",
      "8/8 [==============================] - 0s 15ms/step - loss: 2.1468 - accuracy: 0.6189 - val_loss: 1.1276 - val_accuracy: 0.7250\n",
      "\n",
      "Epoch 00226: val_loss did not improve from 1.12744\n",
      "Epoch 227/300\n",
      "8/8 [==============================] - 0s 17ms/step - loss: 2.3147 - accuracy: 0.6066 - val_loss: 1.1276 - val_accuracy: 0.7250\n",
      "\n",
      "Epoch 00227: val_loss did not improve from 1.12744\n",
      "Epoch 228/300\n",
      "8/8 [==============================] - 0s 18ms/step - loss: 2.2645 - accuracy: 0.5697 - val_loss: 1.1276 - val_accuracy: 0.7250\n",
      "\n",
      "Epoch 00228: val_loss did not improve from 1.12744\n",
      "Epoch 229/300\n",
      "8/8 [==============================] - 0s 14ms/step - loss: 1.9210 - accuracy: 0.6270 - val_loss: 1.1276 - val_accuracy: 0.7250\n",
      "\n",
      "Epoch 00229: val_loss did not improve from 1.12744\n",
      "Epoch 230/300\n",
      "8/8 [==============================] - 0s 15ms/step - loss: 1.9194 - accuracy: 0.6598 - val_loss: 1.1276 - val_accuracy: 0.7250\n",
      "\n",
      "Epoch 00230: val_loss did not improve from 1.12744\n",
      "Epoch 231/300\n",
      "8/8 [==============================] - 0s 15ms/step - loss: 1.9230 - accuracy: 0.6475 - val_loss: 1.1276 - val_accuracy: 0.7250\n",
      "\n",
      "Epoch 00231: val_loss did not improve from 1.12744\n",
      "Epoch 232/300\n",
      "8/8 [==============================] - 0s 14ms/step - loss: 2.7005 - accuracy: 0.5656 - val_loss: 1.1276 - val_accuracy: 0.7250\n",
      "\n",
      "Epoch 00232: val_loss did not improve from 1.12744\n",
      "Epoch 233/300\n",
      "8/8 [==============================] - 0s 11ms/step - loss: 1.8448 - accuracy: 0.6516 - val_loss: 1.1276 - val_accuracy: 0.7250\n",
      "\n",
      "Epoch 00233: val_loss did not improve from 1.12744\n",
      "Epoch 234/300\n",
      "8/8 [==============================] - 0s 13ms/step - loss: 2.4407 - accuracy: 0.5779 - val_loss: 1.1276 - val_accuracy: 0.7250\n",
      "\n",
      "Epoch 00234: val_loss did not improve from 1.12744\n",
      "Epoch 235/300\n",
      "8/8 [==============================] - 0s 14ms/step - loss: 2.1193 - accuracy: 0.6270 - val_loss: 1.1276 - val_accuracy: 0.7250\n",
      "\n",
      "Epoch 00235: val_loss did not improve from 1.12744\n",
      "Epoch 236/300\n",
      "8/8 [==============================] - 0s 14ms/step - loss: 2.4225 - accuracy: 0.6148 - val_loss: 1.1276 - val_accuracy: 0.7250\n",
      "\n",
      "Epoch 00236: val_loss did not improve from 1.12744\n",
      "Epoch 237/300\n",
      "8/8 [==============================] - 0s 10ms/step - loss: 2.1365 - accuracy: 0.6025 - val_loss: 1.1276 - val_accuracy: 0.7250\n",
      "\n",
      "Epoch 00237: val_loss did not improve from 1.12744\n",
      "Epoch 238/300\n",
      "8/8 [==============================] - 0s 13ms/step - loss: 2.0545 - accuracy: 0.6066 - val_loss: 1.1276 - val_accuracy: 0.7250\n",
      "\n",
      "Epoch 00238: val_loss did not improve from 1.12744\n",
      "Epoch 239/300\n",
      "8/8 [==============================] - 0s 13ms/step - loss: 1.7900 - accuracy: 0.6311 - val_loss: 1.1276 - val_accuracy: 0.7250\n",
      "\n",
      "Epoch 00239: val_loss did not improve from 1.12744\n",
      "Epoch 240/300\n",
      "8/8 [==============================] - 0s 14ms/step - loss: 2.2203 - accuracy: 0.6107 - val_loss: 1.1276 - val_accuracy: 0.7250\n",
      "\n",
      "Epoch 00240: val_loss did not improve from 1.12744\n",
      "Epoch 241/300\n",
      "8/8 [==============================] - 0s 12ms/step - loss: 2.2336 - accuracy: 0.6066 - val_loss: 1.1276 - val_accuracy: 0.7250\n",
      "\n",
      "Epoch 00241: val_loss did not improve from 1.12744\n",
      "Epoch 242/300\n",
      "8/8 [==============================] - 0s 12ms/step - loss: 2.3992 - accuracy: 0.6230 - val_loss: 1.1276 - val_accuracy: 0.7250\n",
      "\n",
      "Epoch 00242: val_loss did not improve from 1.12744\n",
      "Epoch 243/300\n",
      "8/8 [==============================] - 0s 12ms/step - loss: 2.5315 - accuracy: 0.5615 - val_loss: 1.1276 - val_accuracy: 0.7250\n",
      "\n",
      "Epoch 00243: val_loss did not improve from 1.12744\n",
      "Epoch 244/300\n",
      "8/8 [==============================] - 0s 13ms/step - loss: 2.3628 - accuracy: 0.5984 - val_loss: 1.1276 - val_accuracy: 0.7250\n",
      "\n",
      "Epoch 00244: val_loss did not improve from 1.12744\n",
      "Epoch 245/300\n",
      "8/8 [==============================] - 0s 12ms/step - loss: 2.1649 - accuracy: 0.6107 - val_loss: 1.1276 - val_accuracy: 0.7250\n",
      "\n",
      "Epoch 00245: val_loss did not improve from 1.12744\n",
      "Epoch 246/300\n",
      "8/8 [==============================] - 0s 12ms/step - loss: 2.1100 - accuracy: 0.6270 - val_loss: 1.1276 - val_accuracy: 0.7250\n",
      "\n",
      "Epoch 00246: val_loss did not improve from 1.12744\n"
     ]
    }
   ],
   "source": [
    "# optimizer, loss 함수를 정의하고,  학습 준비를 한다,  metrics 는 어떤 일이 발생하는지 보여줄 것들\n",
    "model.compile(optimizer=opt, loss=\"binary_crossentropy\", metrics=[\"accuracy\"])\n",
    "\n",
    "# 한번에 몇개의 데이터 학습하고 가중치 갱신할지 \n",
    "history = model.fit(x_train, y_train,\n",
    "          epochs= 300,\n",
    "          verbose=1,\n",
    "          batch_size=32,\n",
    "          #validation_split = 0.1\n",
    "          validation_data = (x_val, y_val),\n",
    "          callbacks = [early_stop, reduce_lr , mc]\n",
    "          )"
   ]
  },
  {
   "cell_type": "code",
   "execution_count": 62,
   "metadata": {
    "colab": {
     "base_uri": "https://localhost:8080/",
     "height": 264
    },
    "executionInfo": {
     "elapsed": 551,
     "status": "ok",
     "timestamp": 1648628930769,
     "user": {
      "displayName": "김유탄",
      "userId": "04011767612525493979"
     },
     "user_tz": -540
    },
    "id": "y2tEzOQEwZBr",
    "outputId": "43b3f3bf-27aa-4154-acf6-f85b17d360aa"
   },
   "outputs": [
    {
     "data": {
      "image/png": "[encoded data removed]",
      "text/plain": [
       "<Figure size 432x288 with 2 Axes>"
      ]
     },
     "metadata": {
      "needs_background": "light"
     },
     "output_type": "display_data"
    }
   ],
   "source": [
    "fig, ax = plt.subplots(2, 1)\n",
    "ax[0].plot(history.history['loss'], color = 'b', label = \"Training loss\")\n",
    "ax[0].plot(history.history['val_loss'], color='r', label = \"validation loss\", axes = ax[0])\n",
    "legend = ax[0].legend(loc='best', shadow = True)\n",
    "\n",
    "ax[1].plot(history.history['accuracy'], color = 'b', label = \"Training accuracy\")\n",
    "ax[1].plot(history.history['val_accuracy'], color = 'r', label = \"Validation accuracy\")\n",
    "legend = ax[1].legend(loc = 'best', shadow = True)"
   ]
  },
  {
   "cell_type": "code",
   "execution_count": 63,
   "metadata": {
    "colab": {
     "base_uri": "https://localhost:8080/"
    },
    "executionInfo": {
     "elapsed": 1337,
     "status": "ok",
     "timestamp": 1648628932099,
     "user": {
      "displayName": "김유탄",
      "userId": "04011767612525493979"
     },
     "user_tz": -540
    },
    "id": "dz9_EYVFPWya",
    "outputId": "9fc9363c-76ca-46f1-9370-b74c1c0c6aea"
   },
   "outputs": [
    {
     "name": "stdout",
     "output_type": "stream",
     "text": [
      "Answer: 0.0  Prediction: [[0.05864571]]\n",
      "Answer: 0.0  Prediction: [[0.00153388]]\n",
      "Answer: 0.0  Prediction: [[0.004821]]\n",
      "Answer: 0.0  Prediction: [[0.00014667]]\n",
      "Answer: 0.0  Prediction: [[0.07922951]]\n"
     ]
    }
   ],
   "source": [
    "# 학습한거에서 test 어떻게 나오는지 확인 해보기\n",
    "model = tf.keras.models.load_model(base_path + 'best_model/wake_up_word_model')\n",
    "for i in range(0, 5):\n",
    "    print('Answer:', y_test[i], ' Prediction:', model.predict(np.expand_dims(x_test[i], 0)))"
   ]
  },
  {
   "cell_type": "code",
   "execution_count": 64,
   "metadata": {
    "colab": {
     "base_uri": "https://localhost:8080/"
    },
    "executionInfo": {
     "elapsed": 14,
     "status": "ok",
     "timestamp": 1648628932100,
     "user": {
      "displayName": "김유탄",
      "userId": "04011767612525493979"
     },
     "user_tz": -540
    },
    "id": "pvyb-5m8PldX",
    "outputId": "d52b430a-07e1-4346-ade2-0921ada0b072"
   },
   "outputs": [
    {
     "name": "stdout",
     "output_type": "stream",
     "text": [
      "3/3 [==============================] - 0s 7ms/step - loss: 0.8451 - accuracy: 0.7250\n",
      "loss= 0.8451101183891296\n",
      "acc= 0.7250000238418579\n"
     ]
    }
   ],
   "source": [
    "loss, acc = model.evaluate(x=x_test, y=y_test)\n",
    "print(\"loss=\",loss)\n",
    "print(\"acc=\",acc)"
   ]
  },
  {
   "cell_type": "code",
   "execution_count": 65,
   "metadata": {
    "colab": {
     "base_uri": "https://localhost:8080/"
    },
    "executionInfo": {
     "elapsed": 9,
     "status": "ok",
     "timestamp": 1648628932101,
     "user": {
      "displayName": "김유탄",
      "userId": "04011767612525493979"
     },
     "user_tz": -540
    },
    "id": "Wl8PjvxjvrKu",
    "outputId": "954a1747-0679-4326-c163-fd0f14328fac"
   },
   "outputs": [
    {
     "name": "stdout",
     "output_type": "stream",
     "text": [
      "(80, 20, 38, 1) (80,)\n",
      "[0. 0. 0. 0. 0. 0. 0. 0. 1. 1. 0. 1. 1. 0. 0. 0. 1. 1. 0. 0. 0. 1. 1. 1.\n",
      " 1. 1. 1. 1. 0. 0. 0. 1. 0. 0. 0. 0. 0. 0. 0. 0. 1. 0. 0. 0. 1. 0. 1. 0.\n",
      " 0. 0. 0. 0. 0. 0. 0. 0. 0. 0. 0. 0. 0. 0. 1. 0. 0. 0. 0. 0. 0. 0. 1. 0.\n",
      " 0. 0. 1. 1. 1. 0. 0. 0.]\n"
     ]
    }
   ],
   "source": [
    "print(x_test.shape, y_test.shape)\n",
    "print(y_test)"
   ]
  },
  {
   "cell_type": "code",
   "execution_count": 66,
   "metadata": {
    "colab": {
     "base_uri": "https://localhost:8080/",
     "height": 395
    },
    "executionInfo": {
     "elapsed": 451,
     "status": "ok",
     "timestamp": 1648628932547,
     "user": {
      "displayName": "김유탄",
      "userId": "04011767612525493979"
     },
     "user_tz": -540
    },
    "id": "LfUfAf4-xIGj",
    "outputId": "90c4ec84-b04b-4e85-ed24-f9f9da7ebd56"
   },
   "outputs": [
    {
     "data": {
      "image/png": "[encoded data removed]",
      "text/plain": [
       "<Figure size 432x288 with 2 Axes>"
      ]
     },
     "metadata": {
      "needs_background": "light"
     },
     "output_type": "display_data"
    },
    {
     "name": "stdout",
     "output_type": "stream",
     "text": [
      "Test Accureacy:  0.725\n",
      "Test Precision:  0.0\n",
      "Test Recall:  0.0\n",
      "Test F1 score:  0.0\n",
      "Val 에서 1의 비율 : 28.75%\n",
      "Test 에서 1의 비율 : 27.5%\n"
     ]
    },
    {
     "name": "stderr",
     "output_type": "stream",
     "text": [
      "C:\\Users\\yutan\\anaconda3\\envs\\tensorflow\\lib\\site-packages\\sklearn\\metrics\\_classification.py:1248: UndefinedMetricWarning: Precision is ill-defined and being set to 0.0 due to no predicted samples. Use `zero_division` parameter to control this behavior.\n",
      "  _warn_prf(average, modifier, msg_start, len(result))\n"
     ]
    }
   ],
   "source": [
    "Y_pred = model.predict(x_test)\n",
    "\n",
    "thres_hold = 0.5\n",
    "predictions = []\n",
    "for result in Y_pred:\n",
    "  if result > thres_hold:\n",
    "      predictions.append(1)\n",
    "  else:\n",
    "      predictions.append(0)\n",
    "\n",
    "\n",
    "\n",
    "label = [\"other\", \"hi_yutan\"]\n",
    "\n",
    "confusion_mtx = metrics.confusion_matrix(y_test,predictions)\n",
    "sns.heatmap(confusion_mtx,\n",
    "            annot=True,\n",
    "            xticklabels = label,\n",
    "            yticklabels = label,\n",
    "            cmap='Blues')\n",
    "plt.show()\n",
    "\n",
    "print('Test Accureacy: ',metrics.accuracy_score( y_test,predictions))\n",
    "print('Test Precision: ',metrics.precision_score( y_test,predictions))\n",
    "print('Test Recall: ',metrics.recall_score( y_test,predictions ))\n",
    "print('Test F1 score: ',metrics.f1_score(y_test,predictions ))\n",
    "print(\"Val 에서 1의 비율 : {}%\".format(  round(list(y_val).count(1) / len(y_val)*100 , 2 )))\n",
    "print(\"Test 에서 1의 비율 : {}%\".format(  round(list(y_test).count(1) / len(y_test)*100 , 2 )))\n",
    "\n",
    "\n"
   ]
  },
  {
   "cell_type": "markdown",
   "metadata": {
    "id": "SeQMo6BUPpHn"
   },
   "source": [
    "# tflite 변환 해주기 / 평가"
   ]
  },
  {
   "cell_type": "code",
   "execution_count": 39,
   "metadata": {
    "colab": {
     "base_uri": "https://localhost:8080/"
    },
    "executionInfo": {
     "elapsed": 5207,
     "status": "ok",
     "timestamp": 1648628937749,
     "user": {
      "displayName": "김유탄",
      "userId": "04011767612525493979"
     },
     "user_tz": -540
    },
    "id": "54HAWoFDPoOp",
    "outputId": "774211a7-8f5f-4179-e3be-116f59538547"
   },
   "outputs": [
    {
     "name": "stdout",
     "output_type": "stream",
     "text": [
      "INFO:tensorflow:Assets written to: C:\\Users\\yutan\\AppData\\Local\\Temp\\tmptfovkohx\\assets\n"
     ]
    },
    {
     "name": "stderr",
     "output_type": "stream",
     "text": [
      "INFO:tensorflow:Assets written to: C:\\Users\\yutan\\AppData\\Local\\Temp\\tmptfovkohx\\assets\n"
     ]
    },
    {
     "data": {
      "text/plain": [
       "573484"
      ]
     },
     "execution_count": 39,
     "metadata": {},
     "output_type": "execute_result"
    }
   ],
   "source": [
    "tflite_file_path = base_path + 'tflite_model/wake_word_hi_yutan_lite.tflite'\n",
    "\n",
    "model = tf.keras.models.load_model(base_path + 'best_model/wake_up_word_model')\n",
    "converter = lite.TFLiteConverter.from_keras_model(model)\n",
    "tflite_model = converter.convert()\n",
    "open(tflite_file_path, 'wb').write(tflite_model)"
   ]
  },
  {
   "cell_type": "code",
   "execution_count": 40,
   "metadata": {
    "colab": {
     "base_uri": "https://localhost:8080/"
    },
    "executionInfo": {
     "elapsed": 9,
     "status": "ok",
     "timestamp": 1648628937750,
     "user": {
      "displayName": "김유탄",
      "userId": "04011767612525493979"
     },
     "user_tz": -540
    },
    "id": "nb5O8Ku0FVhi",
    "outputId": "ee2cf62e-b87f-4eff-caeb-cbfff70e82d0"
   },
   "outputs": [
    {
     "name": "stdout",
     "output_type": "stream",
     "text": [
      "[{'name': 'sequential_input', 'index': 0, 'shape': array([ 1, 20, 38,  1]), 'shape_signature': array([-1, 20, 38,  1]), 'dtype': <class 'numpy.float32'>, 'quantization': (0.0, 0), 'quantization_parameters': {'scales': array([], dtype=float32), 'zero_points': array([], dtype=int32), 'quantized_dimension': 0}, 'sparsity_parameters': {}}]\n",
      "[{'name': 'Identity', 'index': 24, 'shape': array([1, 1]), 'shape_signature': array([-1,  1]), 'dtype': <class 'numpy.float32'>, 'quantization': (0.0, 0), 'quantization_parameters': {'scales': array([], dtype=float32), 'zero_points': array([], dtype=int32), 'quantized_dimension': 0}, 'sparsity_parameters': {}}]\n"
     ]
    }
   ],
   "source": [
    "tflite_file_path = base_path + 'tflite_model/wake_word_hi_yutan_lite.tflite'\n",
    "interpreter = tf.lite.Interpreter(model_path=tflite_file_path)\n",
    "interpreter.allocate_tensors()\n",
    "\n",
    "input_details = interpreter.get_input_details()\n",
    "output_details = interpreter.get_output_details()\n",
    "\n",
    "print(input_details)\n",
    "print(output_details)"
   ]
  },
  {
   "cell_type": "code",
   "execution_count": 41,
   "metadata": {
    "executionInfo": {
     "elapsed": 425,
     "status": "ok",
     "timestamp": 1648628984860,
     "user": {
      "displayName": "김유탄",
      "userId": "04011767612525493979"
     },
     "user_tz": -540
    },
    "id": "5PXSB02VFVpe"
   },
   "outputs": [],
   "source": [
    "# tflite 모델 평가에서 사용되는 실행 함수\n",
    "thres_hold = 0.9\n",
    "def run_tflite_model(tflite_file, test_image_indices):\n",
    "  global x_test\n",
    "  global y_test\n",
    "\n",
    "  # Initialize the interpreter\n",
    "  interpreter = tf.lite.Interpreter(model_path=str(tflite_file))\n",
    "  interpreter.allocate_tensors()\n",
    "\n",
    "  input_details = interpreter.get_input_details()[0]\n",
    "  output_details = interpreter.get_output_details()[0]\n",
    "\n",
    "  predictions = np.zeros((len(test_image_indices),), dtype=int)\n",
    "  for i, test_image_index in enumerate(test_image_indices):\n",
    "    test_image = x_test[test_image_index]\n",
    "    test_label = y_test[test_image_index]\n",
    "\n",
    "    # Check if the input type is quantized, then rescale input data to uint8\n",
    "    if input_details['dtype'] == np.uint8:\n",
    "      input_scale, input_zero_point = input_details[\"quantization\"]\n",
    "      test_image = test_image / input_scale + input_zero_point\n",
    "\n",
    "    test_image = np.expand_dims(test_image, axis=0).astype(input_details[\"dtype\"])\n",
    "    interpreter.set_tensor(input_details[\"index\"], test_image)\n",
    "    interpreter.invoke()\n",
    "    output = interpreter.get_tensor(output_details[\"index\"])[0]\n",
    "\n",
    "    # thres_hold 설정 해주기\n",
    "\n",
    "    if output > thres_hold:\n",
    "      output = 1\n",
    "    else:\n",
    "      outut = 0\n",
    "\n",
    "    predictions[i] = output\n",
    "\n",
    "  return predictions"
   ]
  },
  {
   "cell_type": "code",
   "execution_count": 42,
   "metadata": {
    "executionInfo": {
     "elapsed": 6,
     "status": "ok",
     "timestamp": 1648628984862,
     "user": {
      "displayName": "김유탄",
      "userId": "04011767612525493979"
     },
     "user_tz": -540
    },
    "id": "rKGNMWrHFVtf"
   },
   "outputs": [],
   "source": [
    "def evaluate_tflite_model(tflite_file, model_type):\n",
    "  global test_x\n",
    "  global test_y\n",
    "\n",
    "  test_image_indices = range(x_test.shape[0])\n",
    "  predictions = run_tflite_model(tflite_file, test_image_indices)\n",
    "  accuracy = (np.sum(y_test.reshape(-1)== predictions) * 100) / len(x_test)\n",
    "\n",
    "  confusion_mtx = tf.math.confusion_matrix(y_test, predictions)\n",
    "\n",
    "  print('%s model accuracy is %.4f%% (Number of test samples=%d)' % (model_type, accuracy, len(x_test)))\n",
    "\n",
    "  \n",
    "  label = [\"other\", \"hi_yutan\"]\n",
    "  sns.heatmap(confusion_mtx,\n",
    "            annot=True,\n",
    "            xticklabels = label,\n",
    "            yticklabels = label,\n",
    "            cmap='Blues')\n",
    "  plt.show()\n",
    "  \n",
    "  print(\"Thres - hold : {}\".format(thres_hold))\n",
    "  print('Test Accureacy: ',metrics.accuracy_score( y_test,predictions))\n",
    "  print('Test Precision: ',metrics.precision_score( y_test,predictions))\n",
    "  print('Test Recall: ',metrics.recall_score( y_test,predictions ))\n",
    "  print('Test F1 score: ',metrics.f1_score(y_test,predictions ))\n",
    "  print(\"Val 에서 1의 비율 : {}%\".format(  round(list(y_val).count(1) / len(y_val)*100 , 2 )))\n",
    "  print(\"Test 에서 1의 비율 : {}%\".format(  round(list(y_test).count(1) / len(y_test)*100 , 2 )))\n",
    "\n",
    "\n",
    "\n"
   ]
  },
  {
   "cell_type": "code",
   "execution_count": 43,
   "metadata": {
    "colab": {
     "base_uri": "https://localhost:8080/",
     "height": 413
    },
    "executionInfo": {
     "elapsed": 10,
     "status": "ok",
     "timestamp": 1648628986031,
     "user": {
      "displayName": "김유탄",
      "userId": "04011767612525493979"
     },
     "user_tz": -540
    },
    "id": "ykS7YXtXHJGs",
    "outputId": "e04ec794-a93f-44f1-9d0d-ff8175d36151"
   },
   "outputs": [
    {
     "name": "stdout",
     "output_type": "stream",
     "text": [
      "Float model accuracy is 100.0000% (Number of test samples=53)\n"
     ]
    },
    {
     "data": {
      "image/png": "[encoded data removed]",
      "text/plain": [
       "<Figure size 432x288 with 2 Axes>"
      ]
     },
     "metadata": {
      "needs_background": "light"
     },
     "output_type": "display_data"
    },
    {
     "name": "stdout",
     "output_type": "stream",
     "text": [
      "Thres - hold : 0.9\n",
      "Test Accureacy:  1.0\n",
      "Test Precision:  1.0\n",
      "Test Recall:  1.0\n",
      "Test F1 score:  1.0\n",
      "Val 에서 1의 비율 : 79.25%\n",
      "Test 에서 1의 비율 : 83.02%\n"
     ]
    }
   ],
   "source": [
    "evaluate_model(tflite_file_path, model_type=\"Float\")\n",
    "# 세로 - True\n",
    "# 가로 - Prediction"
   ]
  },
  {
   "cell_type": "markdown",
   "metadata": {
    "id": "q3vFUtQZRCN1"
   },
   "source": [
    "# 추론 과정"
   ]
  },
  {
   "cell_type": "code",
   "execution_count": 103,
   "metadata": {
    "colab": {
     "base_uri": "https://localhost:8080/",
     "height": 0
    },
    "executionInfo": {
     "elapsed": 49,
     "status": "error",
     "timestamp": 1648627709554,
     "user": {
      "displayName": "김유탄",
      "userId": "04011767612525493979"
     },
     "user_tz": -540
    },
    "id": "Dztxh2RURmNs",
    "outputId": "f7c8950f-8423-4425-d437-b9e69473cbcd",
    "scrolled": true
   },
   "outputs": [
    {
     "ename": "ModuleNotFoundError",
     "errorDetails": {
      "actions": [
       {
        "action": "open_url",
        "actionText": "Open Examples",
        "url": "/notebooks/snippets/importing_libraries.ipynb"
       }
      ]
     },
     "evalue": "ignored",
     "output_type": "error",
     "traceback": [
      "\u001b[0;31m---------------------------------------------------------------------------\u001b[0m",
      "\u001b[0;31mModuleNotFoundError\u001b[0m                       Traceback (most recent call last)",
      "\u001b[0;32m<ipython-input-103-8bc60e4a0363>\u001b[0m in \u001b[0;36m<module>\u001b[0;34m()\u001b[0m\n\u001b[1;32m      1\u001b[0m \u001b[0;31m# 기본 형태\u001b[0m\u001b[0;34m\u001b[0m\u001b[0;34m\u001b[0m\u001b[0;34m\u001b[0m\u001b[0m\n\u001b[0;32m----> 2\u001b[0;31m \u001b[0;32mimport\u001b[0m \u001b[0mpyaudio\u001b[0m\u001b[0;34m\u001b[0m\u001b[0;34m\u001b[0m\u001b[0m\n\u001b[0m\u001b[1;32m      3\u001b[0m \u001b[0;32mimport\u001b[0m \u001b[0mnumpy\u001b[0m \u001b[0;32mas\u001b[0m \u001b[0mnp\u001b[0m\u001b[0;34m\u001b[0m\u001b[0;34m\u001b[0m\u001b[0m\n\u001b[1;32m      4\u001b[0m \u001b[0;34m\u001b[0m\u001b[0m\n\u001b[1;32m      5\u001b[0m \u001b[0mCHUNK\u001b[0m \u001b[0;34m=\u001b[0m \u001b[0;36m2\u001b[0m\u001b[0;34m**\u001b[0m\u001b[0;36m10\u001b[0m  \u001b[0;31m# 음성 데이터 불러올때, 한번에 몇개의 정수를 불러올지\u001b[0m\u001b[0;34m\u001b[0m\u001b[0;34m\u001b[0m\u001b[0m\n",
      "\u001b[0;31mModuleNotFoundError\u001b[0m: No module named 'pyaudio'",
      "",
      "\u001b[0;31m---------------------------------------------------------------------------\u001b[0;32m\nNOTE: If your import is failing due to a missing package, you can\nmanually install dependencies using either !pip or !apt.\n\nTo view examples of installing some common dependencies, click the\n\"Open Examples\" button below.\n\u001b[0;31m---------------------------------------------------------------------------\u001b[0m\n"
     ]
    }
   ],
   "source": [
    "# 기본 형태\n",
    "import pyaudio\n",
    "import numpy as np\n",
    " \n",
    "CHUNK = 2**10  # 음성 데이터 불러올때, 한번에 몇개의 정수를 불러올지\n",
    "RATE = 44100   # 음성 데이터의 sampleing rate , mfcc 에 나오는 거라 다른거니까 구분 해두기\n",
    "\n",
    "# 음성 데이터 스트리을 여는 코드\n",
    "\"\"\"\n",
    "foramt : 비트 깊이를 설정 ,   여기서는 16bit가 된다\n",
    "input : 우리가 지금 열려고 하는 것이기 떄문에 True\n",
    "frames_per_buffer : 한번에 몇개의 정수를 불러올지\n",
    "input_device_index : 원하는 입력 장치의 번호 (이거 없으면 자동으로 설정 해준다..)\n",
    "\"\"\"\n",
    "p=pyaudio.PyAudio()\n",
    "stream=p.open(format=pyaudio.paInt16,channels=1,rate=RATE,input=True,\n",
    "              frames_per_buffer=CHUNK,input_device_index=2)\n",
    " \n",
    "# 음성 데이터를 입력받아 출력하는 소스\n",
    "while(True):\n",
    "    data = np.fromstring(stream.read(CHUNK),dtype=np.int16)\n",
    "    print(int(np.average(np.abs(data))))\n",
    " \n",
    "stream.stop_stream()\n",
    "stream.close()\n",
    "p.terminate()\n"
   ]
  },
  {
   "cell_type": "code",
   "execution_count": null,
   "metadata": {
    "id": "PR2BRCGCWHL3"
   },
   "outputs": [],
   "source": [
    "\"\"\"\n",
    "Connect a resistor and LED to board pin 8 and run this script.\n",
    "Whenever you say \"stop\", the LED should flash briefly\n",
    "\"\"\"\n",
    "\n",
    "import sounddevice as sd\n",
    "import numpy as np\n",
    "import scipy.signal\n",
    "import timeit\n",
    "import python_speech_features\n",
    "import RPi.GPIO as GPIO\n",
    "\n",
    "from tflite_runtime.interpreter import Interpreter\n",
    "\n",
    "# Parameters\n",
    "debug_time = 1\n",
    "debug_acc = 0\n",
    "led_pin = 8\n",
    "word_threshold = 0.5\n",
    "rec_duration = 0.5 # 기동어 말 평균 길이로 하면 될듯 함\n",
    "window_stride = 0.5 # 이거는 유지 해주기\n",
    "sample_rate = 48000\n",
    "resample_rate = 8000\n",
    "num_channels = 1\n",
    "num_mfcc = 40\n",
    "model_path = base_path + 'wake_word_hi_yutan_lite.tflite'\n",
    "\n",
    "# Sliding window\n",
    "window = np.zeros(int(rec_duration * resample_rate) * 2)\n",
    "\n",
    "# GPIO \n",
    "GPIO.setwarnings(False)\n",
    "GPIO.setmode(GPIO.BOARD)\n",
    "GPIO.setup(8, GPIO.OUT, initial=GPIO.LOW)\n",
    "\n",
    "# Load model (interpreter)\n",
    "interpreter = Interpreter(model_path)\n",
    "interpreter.allocate_tensors()\n",
    "input_details = interpreter.get_input_details()\n",
    "output_details = interpreter.get_output_details()\n",
    "print(input_details)\n",
    "\n",
    "# Decimate (filter and downsample)\n",
    "def decimate(signal, old_fs, new_fs):\n",
    "    \n",
    "    # Check to make sure we're downsampling\n",
    "    if new_fs > old_fs:\n",
    "        print(\"Error: target sample rate higher than original\")\n",
    "        return signal, old_fs\n",
    "    \n",
    "    # We can only downsample by an integer factor\n",
    "    dec_factor = old_fs / new_fs\n",
    "    if not dec_factor.is_integer():\n",
    "        print(\"Error: can only decimate by integer factor\")\n",
    "        return signal, old_fs\n",
    "\n",
    "    # Do decimation\n",
    "    resampled_signal = scipy.signal.decimate(signal, int(dec_factor))\n",
    "\n",
    "    return resampled_signal, new_fs\n",
    "\n",
    "# This gets called every 0.5 seconds\n",
    "def sd_callback(rec, frames, time, status):\n",
    "\n",
    "    GPIO.output(led_pin, GPIO.LOW)\n",
    "\n",
    "    # Start timing for testing\n",
    "    start = timeit.default_timer()\n",
    "    \n",
    "    # Notify if errors\n",
    "    if status:\n",
    "        print('Error:', status)\n",
    "    \n",
    "    # Remove 2nd dimension from recording sample\n",
    "    rec = np.squeeze(rec)\n",
    "    \n",
    "    # Resample\n",
    "    rec, new_fs = decimate(rec, sample_rate, resample_rate)\n",
    "    \n",
    "    # Save recording onto sliding window\n",
    "    window[:len(window)//2] = window[len(window)//2:]\n",
    "    window[len(window)//2:] = rec\n",
    "\n",
    "    # Compute features\n",
    "    mfccs = python_speech_features.base.mfcc(window, \n",
    "                                        samplerate=new_fs,\n",
    "                                        winlen=0.256,\n",
    "                                        winstep=0.050,\n",
    "                                        numcep=num_mfcc,\n",
    "                                        nfilt=26,\n",
    "                                        nfft=2048,\n",
    "                                        preemph=0.0,\n",
    "                                        ceplifter=0,\n",
    "                                        appendEnergy=False,\n",
    "                                        winfunc=np.hanning)\n",
    "    mfccs = mfccs.transpose()\n",
    "\n",
    "    # Make prediction from model\n",
    "    in_tensor = np.float32(mfccs.reshape(1, mfccs.shape[0], mfccs.shape[1], 1))\n",
    "    interpreter.set_tensor(input_details[0]['index'], in_tensor)\n",
    "    interpreter.invoke()\n",
    "    output_data = interpreter.get_tensor(output_details[0]['index'])\n",
    "    val = output_data[0][0]\n",
    "    if val > word_threshold:\n",
    "        print('stop')\n",
    "        GPIO.output(led_pin, GPIO.HIGH)\n",
    "\n",
    "    if debug_acc:\n",
    "        print(val)\n",
    "    \n",
    "    if debug_time:\n",
    "        print(timeit.default_timer() - start)\n",
    "\n",
    "# Start streaming from microphone\n",
    "with sd.InputStream(channels=num_channels,\n",
    "                    samplerate=sample_rate,\n",
    "                    blocksize=int(sample_rate * rec_duration),  # 1초에 프레임 * 녹화 하는 기간\n",
    "                    callback=sd_callback):\n",
    "    while True:\n",
    "        pass"
   ]
  },
  {
   "cell_type": "code",
   "execution_count": null,
   "metadata": {
    "id": "YzgdBhdwvrKv"
   },
   "outputs": [],
   "source": []
  },
  {
   "cell_type": "code",
   "execution_count": null,
   "metadata": {
    "id": "wARhdsojvrKv"
   },
   "outputs": [],
   "source": []
  },
  {
   "cell_type": "markdown",
   "metadata": {
    "id": "EQUycMpiy41z"
   },
   "source": [
    "# TEMP"
   ]
  },
  {
   "cell_type": "code",
   "execution_count": null,
   "metadata": {
    "id": "uIPAG_6r3J8A"
   },
   "outputs": [],
   "source": [
    "\"\"\"\n",
    "1.\tD기동어 인식 개요\n",
    "    1.\t음성 인식 서비스 사례 – 케이티, 카카오, 구글 등 음성 인식 서비스 있음\n",
    "    2.\t문제점 및 해결 방안 – 서버에서 음성을 계속 받으면 비효율적 -> 기동어를 통해 서버와의 연결 제어\n",
    "2.\tAudio Processing\n",
    "    1.\t음성 신호 특성\n",
    "    2.\tFourrier Transform (각 주파수 대역별에서의 에너지 크기 측정)\n",
    "3.\t기동어 인식 시스템 구조\n",
    "4.\tMel Frequency Cepstral Coefficient (MFCC) \n",
    "    1.\tPe-emphasis\n",
    "    2.\tFast Fourier Transform (FFT) – 위에 FT랑 다르게 프레임으로 쪼개어 변환 함 -> Spectrum  계획\n",
    "        1.\tFrequency domain의 feature를 형성, 보통 10 ~ 25ms 을 기준으로 함\n",
    "        2.\tFrame 간의 간격 = 5 ~ 10ms 로 설정\n",
    "        3.\tFrame 만들때 보통 Hamming Window를 통해 연속성 확보\n",
    "        4.\tDiscrete Fourier Transorm(DFT)로  frame별 feature 추출  (주파수 별, 에너지 얼마나 있나)\n",
    "    3.\tMel Spectrum ( 인간의 귀를 따라 만든 Mel-Filter Bank를 적용해서 Mel Spectrum 추출)\n",
    "        1.\t사람이 잘 들을 수 있는 저주파 영역을 확장\n",
    "        2.\t위에서 나온 DFT는 각 주파수에 해당하는 에너지 양을 보여줌\n",
    "        3.\t여기에다 고막의 특성을 적용(log를 통해) 하기 위해 Mel Filter Bank(각 주파수 별로 에너지 모음) 적용\n",
    "        4.\t이거를 DFT의 결과로 나온 주파수에 맞게 곱해줘서 나온 값에, Log를 적용(사람 귀)\n",
    "    4.\tCepstral Analysis\n",
    "        1.\tDiscrete Cosine Transform(DCT)을 통해 smoothing된 Fourier Transform 값 추출\n",
    "        2.\t3번까지 Frequency에 대한 값이지만, 다시 시간에 대한 값으로 표현\n",
    "        3.\tFFT 보다 연속성을 잘 표현 가능 (더 Smoothing 되었기 때문에 )\n",
    "        4.\t여기서 나온 값에서 첫 12개의(선택) MFCC Vector를 추출\n",
    "    5.\tMFCC Feature 생성ㅇㄹ\n",
    "        1.\t위 과정에서 나온거 중에 저주파(coefficient) 구간을 몇 개(N)를 볼 것인지 선택\n",
    "5.\tDeep Learning\n",
    "6.\t차주 계획\n",
    "\n",
    "\"\"\""
   ]
  },
  {
   "cell_type": "code",
   "execution_count": null,
   "metadata": {
    "colab": {
     "base_uri": "https://localhost:8080/"
    },
    "executionInfo": {
     "elapsed": 8,
     "status": "ok",
     "timestamp": 1648617078951,
     "user": {
      "displayName": "김유탄",
      "userId": "04011767612525493979"
     },
     "user_tz": -540
    },
    "id": "RwAiwzW6oNC4",
    "outputId": "79399c87-e8bc-4447-b2be-1b2241c9f408"
   },
   "outputs": [
    {
     "name": "stdout",
     "output_type": "stream",
     "text": [
      "Model input size = ( 25 x 41 x 1)\n"
     ]
    }
   ],
   "source": [
    "\"\"\"\n",
    "# MFCC 추출 해주기\n",
    "# https://blog.naver.com/PostView.nhn?isHttpsRedirect=true&blogId=sooftware&logNo=221661644808 참고\n",
    "\n",
    "# frame 개수를 보여줌, output 세로\n",
    "num_mfcc = 25\n",
    "# output 가로\n",
    "len_mfcc = 41\n",
    "# input 음향 뒤에서 얼마나 잘라줄지\n",
    "sample_cut = 20000\n",
    "\n",
    "def get_librosa_mfcc(filepath):\n",
    "  sampling_rate = 16000  # 1초에 몇개의 signal이 들어가 있는가\n",
    "  hop_len = 500  # sig / hop_len 만큼 크기의 output 이 나옴\n",
    "   # 들어오는 음향 길이 설정\n",
    "  sig, sr = librosa.core.load(filepath, sampling_rate)\n",
    "  # 뒤에서 부터 자르는게 더 좋을거 같음\n",
    "  input_sig = sig[-sample_cut:]\n",
    "  print(\"signal 크기 :\",sig.shape)\n",
    "  # log mell 찾아 보기\n",
    "  # 120 만큼은 겹치게 된다.\n",
    "  mfccs = librosa.feature.mfcc(y = input_sig, sr = sr, hop_length =hop_len, n_mfcc = num_mfcc, n_fft = 512 )\n",
    "  return mfccs\n",
    "\n",
    "\n",
    "\n",
    "print(\"Model input size = ( {} x {} x {})\".format(num_mfcc, len_mfcc, 1))\n",
    "\n",
    "\n",
    "# n_mfcc : 음성데이터를 어느 단위로 쪼갤지 (사람은 20 ~ 40 ms 까지는 음소가 바뀌지 못함 - 말 자르는 가장 작은 단위 == frame_size\n",
    "# n_fft : frame의 length = window size,   잘린 음석이 n_ftt보다 작으면 0으로 Padding 해줌, \n",
    "   # n_fft는 winddow size보다 크거나 같아야함\n",
    "   # n_ftt = 8000 * 0.040 = 320\n",
    "# hop_legth : window 얼마 만큼씩 움질일 것인가\n",
    "\n",
    "  # n_mfcc = 40\n",
    "  # hop_length = 200  # 8000 * 0.040\n",
    "  # N_FFT = 320    # 8000 * 0.040\n",
    "\n",
    "# 이거 기준으로 나눈 다음에 Mel값을 뽑아서 Feature로 사용하게 된다.  (  50%는 겹치게 분할을 진행)\n",
    "# 각각의 frame에 대해서 Hamming Window 적용해서 연속성 맞춰주기 - Default 설정임\n",
    "# 각 프레임에 대하여 Fourier Transform 적용해서(FFT) 주파서 성분 알아내기\n",
    "# Mel Filter Banb(삶귀처럼, 주파수 증가할수록 큰 삼각형 filter가 생각다고 생각하기)\n",
    "# 여기까지하면 Mel-Spectrogram Feature가 추출된다.\n",
    "\n",
    "# Mel-Spectrogram 을 압축해서 표현해주는 DCT 연산 수행 -> Discrete Cosine Transform\n",
    "\"\"\"\n"
   ]
  }
 ],
 "metadata": {
  "colab": {
   "collapsed_sections": [
    "pnujyYpCLgxy",
    "kgMGr2GoLnkf",
    "eL10wX1siLGx"
   ],
   "name": "Wake_up_word_all.ipynb의 사본의 사본의 사본의 사본",
   "provenance": [
    {
     "file_id": "1BxPw7K8Y_59FqW9KQiUqNPdIOmHmvR32",
     "timestamp": 1648629043149
    },
    {
     "file_id": "1XhbiOuyCXG3sTAxrsGth7Dttr32afr4U",
     "timestamp": 1648618515987
    },
    {
     "file_id": "1hH9jqfOOMlsHHXcNbYUzFEi3m8mek3AD",
     "timestamp": 1648615546055
    },
    {
     "file_id": "15wXIygAC2xhkqlp0LJNlpskO9HTujQcz",
     "timestamp": 1648605838504
    }
   ]
  },
  "kernelspec": {
   "display_name": "Python 3",
   "language": "python",
   "name": "python3"
  },
  "language_info": {
   "codemirror_mode": {
    "name": "ipython",
    "version": 3
   },
   "file_extension": ".py",
   "mimetype": "text/x-python",
   "name": "python",
   "nbconvert_exporter": "python",
   "pygments_lexer": "ipython3",
   "version": "3.8.8"
  }
 },
 "nbformat": 4,
 "nbformat_minor": 1
}
