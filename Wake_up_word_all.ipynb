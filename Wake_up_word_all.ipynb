{
 "cells": [
  {
   "cell_type": "markdown",
   "metadata": {
    "id": "view-in-github"
   },
   "source": [
    "<a href=\"https://colab.research.google.com/github/yutan0565/Wake-up-Word_tensorflow2/blob/main/Wake_up_word_all.ipynb\" target=\"_parent\"><img src=\"https://colab.research.google.com/assets/colab-badge.svg\" alt=\"Open In Colab\"/></a>"
   ]
  },
  {
   "cell_type": "markdown",
   "metadata": {
    "id": "pnujyYpCLgxy"
   },
   "source": [
    "# 시작 전 세팅"
   ]
  },
  {
   "cell_type": "code",
   "execution_count": 2,
   "metadata": {
    "colab": {
     "base_uri": "https://localhost:8080/"
    },
    "executionInfo": {
     "elapsed": 28298,
     "status": "ok",
     "timestamp": 1648625571362,
     "user": {
      "displayName": "김유탄",
      "userId": "04011767612525493979"
     },
     "user_tz": -540
    },
    "id": "1tkm4FD8vtJ8",
    "outputId": "85f59978-f6d8-4155-b9d8-7a23b538d988"
   },
   "outputs": [
    {
     "name": "stdout",
     "output_type": "stream",
     "text": [
      "Mounted at /content/drive\n"
     ]
    }
   ],
   "source": [
    "from google.colab import drive\n",
    "drive.mount('/content/drive')"
   ]
  },
  {
   "cell_type": "code",
   "execution_count": 3,
   "metadata": {
    "colab": {
     "base_uri": "https://localhost:8080/"
    },
    "executionInfo": {
     "elapsed": 13801,
     "status": "ok",
     "timestamp": 1648625585149,
     "user": {
      "displayName": "김유탄",
      "userId": "04011767612525493979"
     },
     "user_tz": -540
    },
    "id": "kFceqLTOE0ZZ",
    "outputId": "4434b862-adc9-44a7-c54a-ff8c4e3a020e"
   },
   "outputs": [
    {
     "name": "stdout",
     "output_type": "stream",
     "text": [
      "Collecting python_speech_features\n",
      "  Downloading python_speech_features-0.6.tar.gz (5.6 kB)\n",
      "Building wheels for collected packages: python-speech-features\n",
      "  Building wheel for python-speech-features (setup.py) ... \u001b[?25l\u001b[?25hdone\n",
      "  Created wheel for python-speech-features: filename=python_speech_features-0.6-py3-none-any.whl size=5888 sha256=e817a939a53d0421e074377d058491afd9aae947cbb54da76a22ba6c279931c1\n",
      "  Stored in directory: /root/.cache/pip/wheels/b0/0e/94/28cd6afa3cd5998a63eef99fe31777acd7d758f59cf24839eb\n",
      "Successfully built python-speech-features\n",
      "Installing collected packages: python-speech-features\n",
      "Successfully installed python-speech-features-0.6\n",
      "Collecting playsound\n",
      "  Downloading playsound-1.3.0.tar.gz (7.7 kB)\n",
      "Building wheels for collected packages: playsound\n",
      "  Building wheel for playsound (setup.py) ... \u001b[?25l\u001b[?25hdone\n",
      "  Created wheel for playsound: filename=playsound-1.3.0-py3-none-any.whl size=7035 sha256=86753d349026e28b8f9c791d56f0a4758e19f8f1fec5f1aa64f27a3a429dbff4\n",
      "  Stored in directory: /root/.cache/pip/wheels/ba/f8/bb/ea57c0146b664dca3a0ada4199b0ecb5f9dfcb7b7e22b65ba2\n",
      "Successfully built playsound\n",
      "Installing collected packages: playsound\n",
      "Successfully installed playsound-1.3.0\n",
      "\u001b[K     |████████████████████████████████| 237 kB 5.7 MB/s \n",
      "\u001b[?25h"
     ]
    }
   ],
   "source": [
    "!pip install python_speech_features\n",
    "!pip install playsound\n",
    "!pip install -q tensorflow-model-optimization\n",
    "# !pip install pyaudio"
   ]
  },
  {
   "cell_type": "code",
   "execution_count": 1,
   "metadata": {
    "executionInfo": {
     "elapsed": 15,
     "status": "ok",
     "timestamp": 1648625585151,
     "user": {
      "displayName": "김유탄",
      "userId": "04011767612525493979"
     },
     "user_tz": -540
    },
    "id": "PJHzgmP6NTWb"
   },
   "outputs": [],
   "source": [
    "#$base_path = \"/content/drive/MyDrive/\"\n",
    "base_path = \"./\""
   ]
  },
  {
   "cell_type": "markdown",
   "metadata": {
    "id": "kgMGr2GoLnkf"
   },
   "source": [
    "# Data Augmentation"
   ]
  },
  {
   "cell_type": "code",
   "execution_count": 3,
   "metadata": {
    "executionInfo": {
     "elapsed": 1959,
     "status": "ok",
     "timestamp": 1648625587096,
     "user": {
      "displayName": "김유탄",
      "userId": "04011767612525493979"
     },
     "user_tz": -540
    },
    "id": "xPDLr60RTL-b"
   },
   "outputs": [],
   "source": [
    "import soundfile as sf\n",
    "import os\n",
    "from os import listdir\n",
    "from os.path import isdir, join\n",
    "import librosa\n",
    "import numpy as np\n",
    "import shutil\n",
    "from distutils.dir_util import copy_tree\n",
    "\n",
    "dataset_path = base_path + 'custum_dataset'"
   ]
  },
  {
   "cell_type": "code",
   "execution_count": 4,
   "metadata": {
    "executionInfo": {
     "elapsed": 27,
     "status": "ok",
     "timestamp": 1648625587097,
     "user": {
      "displayName": "김유탄",
      "userId": "04011767612525493979"
     },
     "user_tz": -540
    },
    "id": "Vr48q6SuSBaX"
   },
   "outputs": [],
   "source": [
    "def plot_time_series(data, title):\n",
    "    fig = plt.figure(figsize=(7, 4))\n",
    "    plt.title(title+'  wave')\n",
    "    plt.ylabel('Amplitude')\n",
    "    plt.plot(np.linspace(0, 5, len(data)), data)\n",
    "    plt.show()"
   ]
  },
  {
   "cell_type": "code",
   "execution_count": 5,
   "metadata": {
    "executionInfo": {
     "elapsed": 27,
     "status": "ok",
     "timestamp": 1648625587098,
     "user": {
      "displayName": "김유탄",
      "userId": "04011767612525493979"
     },
     "user_tz": -540
    },
    "id": "Ja3ZJw_pLmU4"
   },
   "outputs": [],
   "source": [
    "# Whit Noise\n",
    "# 기존 소리에 잡음을 넣어줌\n",
    "def adding_white_noise(data, type, count, sr=16000, noise_rate=0.005):\n",
    "    # noise 방식으로 일반적으로 쓰는 잡음 끼게 하는 겁니다.\n",
    "    sig, sr = librosa.load(data, sr=16000)\n",
    "    wn = np.random.randn(len(sig))\n",
    "    data_wn = sig + noise_rate*wn\n",
    "    sf.write( base_path+'augmentation_dataset/' + type +'/'+type+'_white_noise'+'{0:04d}'.format(count)+'.wav', data_wn, sr)\n",
    "    return data_wn"
   ]
  },
  {
   "cell_type": "code",
   "execution_count": 6,
   "metadata": {
    "executionInfo": {
     "elapsed": 25,
     "status": "ok",
     "timestamp": 1648625587098,
     "user": {
      "displayName": "김유탄",
      "userId": "04011767612525493979"
     },
     "user_tz": -540
    },
    "id": "mpTKNIQZLuwb"
   },
   "outputs": [],
   "source": [
    "#stretch_sound\n",
    "# 테이프 늘어진 것처럼 들린다.\n",
    "def stretch_sound(data, type, count, sr=16000, rate=0.8):\n",
    "    sig, sr = librosa.load(data, sr=16000)\n",
    "    stretch_data = librosa.effects.time_stretch(sig, rate)\n",
    "    sf.write( base_path+'augmentation_dataset/' + type +'/'+type+'_stretch_sound'+'{0:04d}'.format(count)+'.wav', stretch_data, sr)\n",
    "    return stretch_data"
   ]
  },
  {
   "cell_type": "code",
   "execution_count": 7,
   "metadata": {
    "executionInfo": {
     "elapsed": 25,
     "status": "ok",
     "timestamp": 1648625587099,
     "user": {
      "displayName": "김유탄",
      "userId": "04011767612525493979"
     },
     "user_tz": -540
    },
    "id": "xCwc2_rzLuzr"
   },
   "outputs": [],
   "source": [
    "# minus_sound\n",
    "# x 축 기준으로 뒤집기 (사람에게는 똑같이 들림)\n",
    "def minus_sound(data, type, count, sr=16000):\n",
    "    sig, sr = librosa.load(data, sr=16000)\n",
    "    temp_numpy = (-1)*sig\n",
    "    sf.write( base_path+'augmentation_dataset/' + type +'/'+type+'_reverse_data'+'{0:04d}'.format(count)+'.wav', temp_numpy, sr)\n",
    "    return temp_numpy"
   ]
  },
  {
   "cell_type": "code",
   "execution_count": 9,
   "metadata": {
    "colab": {
     "base_uri": "https://localhost:8080/"
    },
    "executionInfo": {
     "elapsed": 164720,
     "status": "ok",
     "timestamp": 1648625751797,
     "user": {
      "displayName": "김유탄",
      "userId": "04011767612525493979"
     },
     "user_tz": -540
    },
    "id": "8F14vBzsZTkF",
    "outputId": "a6e24b55-235b-42cd-cc42-ec2baf52ab03"
   },
   "outputs": [
    {
     "name": "stdout",
     "output_type": "stream",
     "text": [
      "['hi_yutan', 'no']\n",
      ".ipynb_checkpoints\n",
      "hi_yutan\n",
      "no\n",
      "_background_noise_\n",
      "./custum_dataset/hi_yutan\n",
      "./custum_dataset/hi_yutan/voice0001_hi_yutan.wav 1\n"
     ]
    },
    {
     "name": "stderr",
     "output_type": "stream",
     "text": [
      "C:\\Users\\yutan\\anaconda3\\envs\\tensorflow\\lib\\site-packages\\ipykernel_launcher.py:5: FutureWarning: Pass rate=0.8 as keyword args. From version 0.10 passing these as positional arguments will result in an error\n",
      "  \"\"\"\n"
     ]
    },
    {
     "name": "stdout",
     "output_type": "stream",
     "text": [
      "./custum_dataset/hi_yutan/voice0002_hi_yutan.wav 2\n"
     ]
    },
    {
     "name": "stderr",
     "output_type": "stream",
     "text": [
      "C:\\Users\\yutan\\anaconda3\\envs\\tensorflow\\lib\\site-packages\\ipykernel_launcher.py:5: FutureWarning: Pass rate=0.8 as keyword args. From version 0.10 passing these as positional arguments will result in an error\n",
      "  \"\"\"\n"
     ]
    },
    {
     "name": "stdout",
     "output_type": "stream",
     "text": [
      "./custum_dataset/hi_yutan/voice0003_hi_yutan.wav 3\n",
      "./custum_dataset/hi_yutan/voice0004_hi_yutan.wav 4\n",
      "./custum_dataset/hi_yutan/voice0005_hi_yutan.wav 5\n",
      "./custum_dataset/hi_yutan/voice0006_hi_yutan.wav 6\n"
     ]
    },
    {
     "name": "stderr",
     "output_type": "stream",
     "text": [
      "C:\\Users\\yutan\\anaconda3\\envs\\tensorflow\\lib\\site-packages\\ipykernel_launcher.py:5: FutureWarning: Pass rate=0.8 as keyword args. From version 0.10 passing these as positional arguments will result in an error\n",
      "  \"\"\"\n"
     ]
    },
    {
     "name": "stdout",
     "output_type": "stream",
     "text": [
      "./custum_dataset/hi_yutan/voice0007_hi_yutan.wav 7\n",
      "./custum_dataset/hi_yutan/voice0008_hi_yutan.wav 8\n",
      "./custum_dataset/hi_yutan/voice0009_hi_yutan.wav 9\n",
      "./custum_dataset/hi_yutan/voice0010_hi_yutan.wav 10\n",
      "./custum_dataset/hi_yutan/voice0011_hi_yutan.wav 11\n",
      "./custum_dataset/hi_yutan/voice0012_hi_yutan.wav 12\n",
      "./custum_dataset/hi_yutan/voice0013_hi_yutan.wav 13\n",
      "./custum_dataset/hi_yutan/voice0014_hi_yutan.wav 14\n",
      "./custum_dataset/hi_yutan/voice0015_hi_yutan.wav 15\n",
      "./custum_dataset/hi_yutan/voice0016_hi_yutan.wav 16\n",
      "./custum_dataset/hi_yutan/voice0017_hi_yutan.wav 17\n",
      "./custum_dataset/hi_yutan/voice0018_hi_yutan.wav 18\n",
      "./custum_dataset/hi_yutan/voice0019_hi_yutan.wav 19\n",
      "./custum_dataset/hi_yutan/voice0020_hi_yutan.wav 20\n",
      "./custum_dataset/hi_yutan/voice0021_hi_yutan.wav 21\n",
      "./custum_dataset/hi_yutan/voice0022_hi_yutan.wav 22\n",
      "./custum_dataset/hi_yutan/voice0023_hi_yutan.wav 23\n",
      "./custum_dataset/hi_yutan/voice0024_hi_yutan.wav 24\n",
      "./custum_dataset/hi_yutan/voice0025_hi_yutan.wav 25\n",
      "./custum_dataset/hi_yutan/voice0026_hi_yutan.wav 26\n",
      "./custum_dataset/hi_yutan/voice0027_hi_yutan.wav 27\n",
      "./custum_dataset/hi_yutan/voice0028_hi_yutan.wav 28\n",
      "./custum_dataset/hi_yutan/voice0029_hi_yutan.wav 29\n",
      "./custum_dataset/hi_yutan/voice0030_hi_yutan.wav 30\n",
      "./custum_dataset/hi_yutan/voice0031_hi_yutan.wav 31\n",
      "./custum_dataset/hi_yutan/voice0032_hi_yutan.wav 32\n",
      "./custum_dataset/hi_yutan/voice0033_hi_yutan.wav 33\n",
      "./custum_dataset/hi_yutan/voice0034_hi_yutan.wav 34\n",
      "./custum_dataset/hi_yutan/voice0035_hi_yutan.wav 35\n",
      "./custum_dataset/hi_yutan/voice0036_hi_yutan.wav 36\n",
      "./custum_dataset/hi_yutan/voice0037_hi_yutan.wav 37\n",
      "./custum_dataset/hi_yutan/voice0038_hi_yutan.wav 38\n",
      "./custum_dataset/no\n",
      "./custum_dataset/no/voice0001_no.wav 1\n",
      "./custum_dataset/no/voice0002_no.wav 2\n",
      "./custum_dataset/no/voice0003_no.wav 3\n",
      "./custum_dataset/no/voice0004_no.wav 4\n",
      "./custum_dataset/no/voice0005_no.wav 5\n",
      "./custum_dataset/no/voice0006_no.wav 6\n",
      "./custum_dataset/no/voice0007_no.wav 7\n",
      "./custum_dataset/no/voice0008_no.wav 8\n",
      "./custum_dataset/no/voice0009_no.wav 9\n",
      "./custum_dataset/no/voice0010_no.wav 10\n"
     ]
    }
   ],
   "source": [
    "# 모든 데이터에 대해서 rate 만큼 augmentation 진행\n",
    "# rate = 0.2 면,    총 데이터는 원본 : aug = 10 : 6\n",
    "target_list = [ name for name in listdir(dataset_path) if isdir(\"/\".join( [dataset_path,name ]))]\n",
    "\n",
    "non_target_list = ['_background_noise_', '.ipynb_checkpoints' ]\n",
    "for no_tar in non_target_list:\n",
    "  if no_tar in target_list:\n",
    "    target_list.remove(no_tar)\n",
    "\n",
    "print(target_list)\n",
    "\n",
    "\n",
    "\n",
    "non_target_list = ['_background_noise_', '.ipynb_checkpoints' ]\n",
    "\n",
    "# 폴더 안에 들어 있는 폴더명(class 이름 확인)\n",
    "for name in listdir(dataset_path): \n",
    "  if isdir( \"/\".join( [dataset_path,name ])) :  # 폴더가 존재 한다면\n",
    "    print(name)\n",
    "\n",
    "# 폴더명 = target ,  target이 들어가 있는 list 생성\n",
    "target_list = [ name for name in listdir(dataset_path) if isdir(\"/\".join( [dataset_path,name ]))]\n",
    "for no_tar in non_target_list:\n",
    "  if no_tar in target_list:\n",
    "    target_list.remove(no_tar)\n",
    "\n",
    "aug_rate = 0.4\n",
    "\n",
    "for index, type in enumerate(target_list):\n",
    "  print('/'.join([dataset_path, type])) \n",
    "  type_path = '/'.join([dataset_path, type])\n",
    "  if not os.path.exists(base_path+'augmentation_dataset'):\n",
    "            os.makedirs(base_path+'augmentation_dataset')\n",
    "\n",
    "  if not os.path.exists(base_path+'augmentation_dataset/' + type):\n",
    "            os.makedirs(base_path+'augmentation_dataset/' + type)\n",
    "  all_file = listdir(type_path)\n",
    "  count = 1\n",
    "  aug_cut = len(all_file) * aug_rate\n",
    "  for file_name in all_file:\n",
    "    if count > aug_cut:\n",
    "      break\n",
    "    file_path =  type_path + \"/\"+file_name\n",
    "    print(file_path, count)\n",
    "    adding_white_noise(file_path, type, count)\n",
    "    stretch_sound(file_path, type, count)\n",
    "    minus_sound(file_path, type, count)\n",
    "    # 원본 파일도 옮겨 주기\n",
    "    #shutil.copytree(type_path, base_path+'augmentation_dataset/' + type )\n",
    "    copy_tree(type_path, base_path+'augmentation_dataset/' + type )\n",
    "    count += 1"
   ]
  },
  {
   "cell_type": "code",
   "execution_count": 12,
   "metadata": {
    "executionInfo": {
     "elapsed": 11,
     "status": "ok",
     "timestamp": 1648625751798,
     "user": {
      "displayName": "김유탄",
      "userId": "04011767612525493979"
     },
     "user_tz": -540
    },
    "id": "UlLqqOpDNMY-"
   },
   "outputs": [],
   "source": [
    "# type = \"hi_yutan\"\n",
    "# file = \"/content/drive/MyDrive/custum_dataset/hi_yutan/voice0006_hi_yutan.wav\"\n",
    "\n",
    "# a = adding_white_noise(file, type)\n",
    "# b= stretch_sound(file, type)\n",
    "# c= minus_sound(file, type)\n",
    "\n",
    "# sig, sr = librosa.load(file, sr=16000)\n",
    "# plot_time_series(sig, \"original\")\n",
    "# plot_time_series(a,\"Noise\")\n",
    "# plot_time_series(b,\"Stretch\")\n",
    "# plot_time_series(c,\"Reverse\")"
   ]
  },
  {
   "cell_type": "markdown",
   "metadata": {
    "id": "eL10wX1siLGx"
   },
   "source": [
    "# 데이터 학습 준비"
   ]
  },
  {
   "cell_type": "code",
   "execution_count": 12,
   "metadata": {
    "executionInfo": {
     "elapsed": 452,
     "status": "ok",
     "timestamp": 1648628726560,
     "user": {
      "displayName": "김유탄",
      "userId": "04011767612525493979"
     },
     "user_tz": -540
    },
    "id": "LaIMW3_FdLEV"
   },
   "outputs": [],
   "source": [
    "from os import listdir\n",
    "from os.path import isdir, join\n",
    "import librosa\n",
    "import random\n",
    "import numpy as np\n",
    "import matplotlib.pyplot as plt\n",
    "import python_speech_features\n",
    "import librosa.display\n",
    "import seaborn as sns\n",
    "from sklearn import metrics\n",
    "#from playsound import playsound\n",
    "\n",
    "import tensorflow as tf\n",
    "from tensorflow.keras.applications import VGG16\n",
    "from tensorflow.keras import models\n",
    "from tensorflow.keras import layers\n",
    "from tensorflow import keras\n",
    "from tensorflow.keras.callbacks import EarlyStopping, ModelCheckpoint, ReduceLROnPlateau, CSVLogger, TensorBoard\n",
    "import tensorflow_model_optimization as tfmot\n",
    "from tensorflow import lite\n"
   ]
  },
  {
   "cell_type": "code",
   "execution_count": 13,
   "metadata": {
    "colab": {
     "base_uri": "https://localhost:8080/"
    },
    "executionInfo": {
     "elapsed": 12,
     "status": "ok",
     "timestamp": 1648628727230,
     "user": {
      "displayName": "김유탄",
      "userId": "04011767612525493979"
     },
     "user_tz": -540
    },
    "id": "iigZ1Z0diKbl",
    "outputId": "a27fdd9f-8733-4fe8-f51a-99bddbd608b7"
   },
   "outputs": [
    {
     "name": "stdout",
     "output_type": "stream",
     "text": [
      "./augmentation_dataset\n",
      "['hi_yutan', 'no']\n",
      "./augmentation_dataset/hi_yutan\n",
      "./augmentation_dataset/no\n"
     ]
    }
   ],
   "source": [
    "# 데이터가 저장되어 있는 경로 ( class 별로 묶여 있는 곳)\n",
    "dataset_path = base_path + 'augmentation_dataset' # custum_dataset\n",
    "\n",
    "# train, valid, test 나눠 주기\n",
    "val_ratio = 0.2\n",
    "test_ratio = 0.2\n",
    "\n",
    "print(dataset_path)\n",
    "\n",
    "# 여기다가는 내가 사용하지 않은 class 이름들 넣어두기 - 학습 시간이 너무 오래 걸리는 경우\n",
    "non_target_list = ['_background_noise_', '.ipynb_checkpoints' ]\n",
    "\n",
    "# 폴더명 = target ,  target이 들어가 있는 list 생성\n",
    "target_list = [ name for name in listdir(dataset_path) if isdir(\"/\".join( [dataset_path,name ]))]\n",
    "for no_tar in non_target_list:\n",
    "  if no_tar in target_list:\n",
    "    target_list.remove(no_tar)\n",
    "print(target_list)\n",
    "\n",
    "\n",
    "filenames = []\n",
    "y = []\n",
    "for index, target in enumerate(target_list):\n",
    "    print('/'.join([dataset_path, target]))  # class 에 맞는 폴더 이름 넣어주기\n",
    "    filenames.append(listdir('/'.join([dataset_path, target])))\n",
    "    y.append(np.ones(len(filenames[index])) * index) \n",
    "\n",
    "# 하나로 쭉 나열 하기\n",
    "filenames = [item for sublist in filenames for item in sublist]\n",
    "y = [item for sublist in y for item in sublist]\n",
    "\n",
    "# file 모아둔거 한번 섞어 주기\n",
    "filenames_y = list(zip(filenames, y))\n",
    "random.shuffle(filenames_y)\n",
    "filenames, y = zip(*filenames_y)\n",
    "\n",
    "val_set_size = int(len(filenames) * val_ratio)\n",
    "test_set_size = int(len(filenames) * test_ratio)\n",
    "\n",
    "filenames_val = filenames[:val_set_size]\n",
    "filenames_test = filenames[val_set_size:(val_set_size + test_set_size)]\n",
    "filenames_train = filenames[(val_set_size + test_set_size):]\n",
    "\n",
    "y_orig_val = y[:val_set_size]\n",
    "y_orig_test = y[val_set_size:(val_set_size + test_set_size)]\n",
    "y_orig_train = y[(val_set_size + test_set_size):]\n",
    "\n"
   ]
  },
  {
   "cell_type": "code",
   "execution_count": 14,
   "metadata": {
    "colab": {
     "base_uri": "https://localhost:8080/"
    },
    "executionInfo": {
     "elapsed": 11,
     "status": "ok",
     "timestamp": 1648628727231,
     "user": {
      "displayName": "김유탄",
      "userId": "04011767612525493979"
     },
     "user_tz": -540
    },
    "id": "NBNJ6Xw1vrKm",
    "outputId": "62e1b25d-7b28-47c8-c058-ff92fb86d1d2"
   },
   "outputs": [
    {
     "name": "stdout",
     "output_type": "stream",
     "text": [
      "53 53\n",
      "53 53\n",
      "159 159\n"
     ]
    }
   ],
   "source": [
    "print(len(filenames_val), len(y_orig_val))\n",
    "print(len(filenames_test), len(y_orig_test))\n",
    "print(len(filenames_train), len(y_orig_train))\n"
   ]
  },
  {
   "cell_type": "code",
   "execution_count": 15,
   "metadata": {
    "executionInfo": {
     "elapsed": 10,
     "status": "ok",
     "timestamp": 1648628727231,
     "user": {
      "displayName": "김유탄",
      "userId": "04011767612525493979"
     },
     "user_tz": -540
    },
    "id": "kWZz1TPpuz-J"
   },
   "outputs": [],
   "source": [
    "sample_rate = 16000\n",
    "wav_time = 1.2 #초단위\n",
    "sample_cut = int(16000*wav_time)  # 이거    sample_rate랑, 다른 변수랑 섞어서 만들기뒤에서 얼마 만큼 자를지 정해야함)\n",
    "\n",
    "num_mfcc=20   # frame 몇개로 할것인가\n",
    "n_fft=2048\n",
    "hop_length=512\n",
    "len_mfcc = 38\n",
    "\n",
    "\n",
    "ffts = []\n",
    "stfts = [] \n",
    "f_ffts = []\n",
    "log_specs = []\n",
    "MFCCs_list = []\n",
    "\n",
    "def get_librosa_mfcc(path):\n",
    "    #waveforms.append([signal, sample_rate]) \n",
    "    # FFT -> power spectrum\n",
    "    # perform Fourier transform\n",
    "\n",
    "    sig, sr = librosa.core.load(path, sample_rate)\n",
    "    signal = sig[-sample_cut:]\n",
    "    print('sr:', sr, ', sig shape:', sig.shape)\n",
    "    print('length:', sig.shape[0]/float(sr), 'secs')\n",
    "\n",
    "    \n",
    "    fft = np.fft.fft(signal)\n",
    "    magnitude = np.abs(fft)\n",
    "    frequency = np.linspace(0, sample_rate, len(magnitude))\n",
    "    f_ffts.append([frequency, magnitude])\n",
    "    \n",
    "    # calculate abs values on complex numbers to get magnitude\n",
    "    spectrum = np.abs(fft)\n",
    "    \n",
    "    # half frequency variable\n",
    "    f = np.linspace(0, sample_rate, len(spectrum))\n",
    "    left_spectrum = spectrum[:int(len(spectrum)/2)]\n",
    "    left_f = f[:int(len(spectrum)/2)]\n",
    "    ffts.append([left_f, left_spectrum])\n",
    "\n",
    "    #performing Short-time FT\n",
    "    stft = librosa.stft(signal, n_fft=n_fft, hop_length=hop_length)\n",
    "    spectrogram = np.abs(stft)\n",
    "    stfts.append([spectrogram, sample_rate, hop_length])\n",
    "    log_spectrogram = librosa.amplitude_to_db(spectrogram)\n",
    "    log_specs.append([log_spectrogram, sample_rate, hop_length])\n",
    "    MFCCs = librosa.feature.mfcc(signal, sample_rate, \n",
    "                                 n_mfcc=num_mfcc,\n",
    "                                 n_fft=n_fft,\n",
    "                                 hop_length=hop_length)\n",
    "    MFCCs_list.append([MFCCs, sample_rate, hop_length])\n",
    "    return MFCCs"
   ]
  },
  {
   "cell_type": "code",
   "execution_count": 16,
   "metadata": {
    "colab": {
     "base_uri": "https://localhost:8080/"
    },
    "executionInfo": {
     "elapsed": 15990,
     "status": "ok",
     "timestamp": 1648628743212,
     "user": {
      "displayName": "김유탄",
      "userId": "04011767612525493979"
     },
     "user_tz": -540
    },
    "id": "Ir7V_q_VoNFb",
    "outputId": "68e1d27d-d7e6-4edc-8cf4-28685547a43e"
   },
   "outputs": [
    {
     "name": "stderr",
     "output_type": "stream",
     "text": [
      "C:\\Users\\yutan\\anaconda3\\envs\\tensorflow\\lib\\site-packages\\ipykernel_launcher.py:22: FutureWarning: Pass sr=16000 as keyword args. From version 0.10 passing these as positional arguments will result in an error\n",
      "C:\\Users\\yutan\\anaconda3\\envs\\tensorflow\\lib\\site-packages\\ipykernel_launcher.py:51: FutureWarning: Pass y=[-3.0517578e-05  0.0000000e+00  3.0517578e-05 ...  0.0000000e+00\n",
      "  0.0000000e+00  0.0000000e+00], sr=16000 as keyword args. From version 0.10 passing these as positional arguments will result in an error\n",
      "C:\\Users\\yutan\\anaconda3\\envs\\tensorflow\\lib\\site-packages\\ipykernel_launcher.py:51: FutureWarning: Pass y=[-1.5349760e-02 -1.6172053e-02 -2.2888849e-02 ...  2.2137112e-11\n",
      " -1.1717506e-11  0.0000000e+00], sr=16000 as keyword args. From version 0.10 passing these as positional arguments will result in an error\n",
      "C:\\Users\\yutan\\anaconda3\\envs\\tensorflow\\lib\\site-packages\\ipykernel_launcher.py:51: FutureWarning: Pass y=[ 0.00274658  0.00143433  0.00076294 ... -0.00085449  0.00106812\n",
      " -0.00091553], sr=16000 as keyword args. From version 0.10 passing these as positional arguments will result in an error\n"
     ]
    },
    {
     "name": "stdout",
     "output_type": "stream",
     "text": [
      "sr: 16000 , sig shape: (33110,)\n",
      "length: 2.069375 secs\n",
      "mfccs 크기 : (20, 38)\n",
      "\n",
      "sr: 16000 , sig shape: (38571,)\n",
      "length: 2.4106875 secs\n",
      "mfccs 크기 : (20, 38)\n",
      "\n",
      "sr: 16000 , sig shape: (47788,)\n",
      "length: 2.98675 secs\n",
      "mfccs 크기 : (20, 38)\n",
      "\n",
      "sr: 16000 , sig shape: (38913,)\n",
      "length: 2.4320625 secs\n",
      "mfccs 크기 : (20, 38)\n",
      "\n",
      "sr: 16000 , sig shape: (33110,)\n",
      "length: 2.069375 secs\n",
      "mfccs 크기 : (20, 38)\n",
      "\n",
      "sr: 16000 , sig shape: (47788,)\n",
      "length: 2.98675 secs\n",
      "mfccs 크기 : (20, 38)\n",
      "\n",
      "sr: 16000 , sig shape: (48641,)\n",
      "length: 3.0400625 secs\n",
      "mfccs 크기 : (20, 38)\n",
      "\n"
     ]
    },
    {
     "name": "stderr",
     "output_type": "stream",
     "text": [
      "C:\\Users\\yutan\\anaconda3\\envs\\tensorflow\\lib\\site-packages\\ipykernel_launcher.py:51: FutureWarning: Pass y=[ 0.00692749 -0.00253296  0.00088501 ... -0.00094604 -0.00326538\n",
      "  0.00436401], sr=16000 as keyword args. From version 0.10 passing these as positional arguments will result in an error\n",
      "C:\\Users\\yutan\\anaconda3\\envs\\tensorflow\\lib\\site-packages\\ipykernel_launcher.py:51: FutureWarning: Pass y=[ 0.00234985 -0.00796509  0.00253296 ... -0.00292969  0.00714111\n",
      "  0.00015259], sr=16000 as keyword args. From version 0.10 passing these as positional arguments will result in an error\n",
      "C:\\Users\\yutan\\anaconda3\\envs\\tensorflow\\lib\\site-packages\\ipykernel_launcher.py:51: FutureWarning: Pass y=[-0.02203369 -0.01589966 -0.00790405 ... -0.00143433  0.00024414\n",
      " -0.00036621], sr=16000 as keyword args. From version 0.10 passing these as positional arguments will result in an error\n"
     ]
    },
    {
     "name": "stdout",
     "output_type": "stream",
     "text": [
      "sr: 16000 , sig shape: (37547,)\n",
      "length: 2.3466875 secs\n",
      "mfccs 크기 : (20, 38)\n",
      "\n",
      "sr: 16000 , sig shape: (48641,)\n",
      "length: 3.0400625 secs\n",
      "mfccs 크기 : (20, 38)\n",
      "\n",
      "sr: 16000 , sig shape: (38230,)\n",
      "length: 2.389375 secs\n",
      "mfccs 크기 : (20, 38)\n",
      "\n",
      "sr: 16000 , sig shape: (37547,)\n",
      "length: 2.3466875 secs\n",
      "mfccs 크기 : (20, 38)\n",
      "\n",
      "sr: 16000 , sig shape: (33110,)\n",
      "length: 2.069375 secs\n",
      "mfccs 크기 : (20, 38)\n",
      "\n",
      "sr: 16000 , sig shape: (27307,)\n"
     ]
    },
    {
     "name": "stderr",
     "output_type": "stream",
     "text": [
      "C:\\Users\\yutan\\anaconda3\\envs\\tensorflow\\lib\\site-packages\\ipykernel_launcher.py:51: FutureWarning: Pass y=[ 7.1190862e-04  1.4293985e-03  3.7318183e-04 ... -2.3045261e-06\n",
      "  9.0480688e-07  0.0000000e+00], sr=16000 as keyword args. From version 0.10 passing these as positional arguments will result in an error\n",
      "C:\\Users\\yutan\\anaconda3\\envs\\tensorflow\\lib\\site-packages\\ipykernel_launcher.py:51: FutureWarning: Pass y=[-9.5214844e-03  9.1552734e-05  7.7514648e-03 ...  0.0000000e+00\n",
      "  0.0000000e+00  0.0000000e+00], sr=16000 as keyword args. From version 0.10 passing these as positional arguments will result in an error\n",
      "C:\\Users\\yutan\\anaconda3\\envs\\tensorflow\\lib\\site-packages\\ipykernel_launcher.py:51: FutureWarning: Pass y=[-7.3242188e-04 -1.4343262e-03 -3.9672852e-04 ...  0.0000000e+00\n",
      " -3.0517578e-05  0.0000000e+00], sr=16000 as keyword args. From version 0.10 passing these as positional arguments will result in an error\n"
     ]
    },
    {
     "name": "stdout",
     "output_type": "stream",
     "text": [
      "length: 1.7066875 secs\n",
      "mfccs 크기 : (20, 38)\n",
      "\n",
      "sr: 16000 , sig shape: (38230,)\n",
      "length: 2.389375 secs\n",
      "mfccs 크기 : (20, 38)\n",
      "\n",
      "sr: 16000 , sig shape: (38571,)\n",
      "length: 2.4106875 secs\n",
      "mfccs 크기 : (20, 38)\n",
      "\n",
      "sr: 16000 , sig shape: (38571,)"
     ]
    },
    {
     "name": "stderr",
     "output_type": "stream",
     "text": [
      "C:\\Users\\yutan\\anaconda3\\envs\\tensorflow\\lib\\site-packages\\ipykernel_launcher.py:51: FutureWarning: Pass y=[ 1.4886714e-04  1.4071017e-04 -9.3109675e-06 ...  3.8913084e-05\n",
      " -4.0715381e-06  0.0000000e+00], sr=16000 as keyword args. From version 0.10 passing these as positional arguments will result in an error\n",
      "C:\\Users\\yutan\\anaconda3\\envs\\tensorflow\\lib\\site-packages\\ipykernel_launcher.py:51: FutureWarning: Pass y=[-0.02983066 -0.03118714 -0.03322427 ...  0.          0.\n",
      "  0.        ], sr=16000 as keyword args. From version 0.10 passing these as positional arguments will result in an error\n",
      "C:\\Users\\yutan\\anaconda3\\envs\\tensorflow\\lib\\site-packages\\ipykernel_launcher.py:51: FutureWarning: Pass y=[0.01531982 0.0161438  0.02288818 ... 0.         0.         0.        ], sr=16000 as keyword args. From version 0.10 passing these as positional arguments will result in an error\n"
     ]
    },
    {
     "name": "stdout",
     "output_type": "stream",
     "text": [
      "\n",
      "length: 2.4106875 secs\n",
      "mfccs 크기 : (20, 38)\n",
      "\n",
      "sr: 16000 , sig shape: (38913,)\n",
      "length: 2.4320625 secs\n",
      "mfccs 크기 : (20, 38)\n",
      "\n",
      "sr: 16000 , sig shape: (38913,)\n",
      "length: 2.4320625 secs\n",
      "mfccs 크기 : (20, 38)\n",
      "\n",
      "sr: 16000 , sig shape: (37547,)\n",
      "length: 2.3466875 secs\n",
      "mfccs 크기 : (20, 38)\n",
      "\n",
      "sr: 16000 , sig shape: (35840,)\n",
      "length: 2.24 "
     ]
    },
    {
     "name": "stderr",
     "output_type": "stream",
     "text": [
      "C:\\Users\\yutan\\anaconda3\\envs\\tensorflow\\lib\\site-packages\\ipykernel_launcher.py:51: FutureWarning: Pass y=[-8.8970650e-05 -9.7564371e-05 -4.8216014e-05 ...  3.1861928e-05\n",
      " -4.4911649e-05  0.0000000e+00], sr=16000 as keyword args. From version 0.10 passing these as positional arguments will result in an error\n",
      "C:\\Users\\yutan\\anaconda3\\envs\\tensorflow\\lib\\site-packages\\ipykernel_launcher.py:51: FutureWarning: Pass y=[ 6.1035156e-05  9.1552734e-05  3.0517578e-05 ... -6.1035156e-05\n",
      "  3.0517578e-05  0.0000000e+00], sr=16000 as keyword args. From version 0.10 passing these as positional arguments will result in an error\n",
      "C:\\Users\\yutan\\anaconda3\\envs\\tensorflow\\lib\\site-packages\\ipykernel_launcher.py:51: FutureWarning: Pass y=[ 4.7424316e-02  5.6884766e-02  4.8156738e-02 ...  1.0681152e-03\n",
      "  6.1035156e-05 -2.1667480e-03], sr=16000 as keyword args. From version 0.10 passing these as positional arguments will result in an error\n",
      "C:\\Users\\yutan\\anaconda3\\envs\\tensorflow\\lib\\site-packages\\ipykernel_launcher.py:51: FutureWarning: Pass y=[ 3.0517578e-05  0.0000000e+00  0.0000000e+00 ... -1.8310547e-04\n",
      "  4.5776367e-04 -6.1035156e-05], sr=16000 as keyword args. From version 0.10 passing these as positional arguments will result in an error\n",
      "C:\\Users\\yutan\\anaconda3\\envs\\tensorflow\\lib\\site-packages\\ipykernel_launcher.py:51: FutureWarning: Pass y=[-0.00665283 -0.00332642  0.00219727 ...  0.00039673 -0.00039673\n",
      "  0.00027466], sr=16000 as keyword args. From version 0.10 passing these as positional arguments will result in an error\n",
      "C:\\Users\\yutan\\anaconda3\\envs\\tensorflow\\lib\\site-packages\\ipykernel_launcher.py:51: FutureWarning: Pass y=[ 0.00253296  0.01550293  0.01635742 ...  0.00109863 -0.00180054\n",
      " -0.00167847], sr=16000 as keyword args. From version 0.10 passing these as positional arguments will result in an error\n",
      "C:\\Users\\yutan\\anaconda3\\envs\\tensorflow\\lib\\site-packages\\ipykernel_launcher.py:51: FutureWarning: Pass y=[ 0.00942993 -0.00497437 -0.00515747 ... -0.00100708  0.00701904\n",
      " -0.00549316], sr=16000 as keyword args. From version 0.10 passing these as positional arguments will result in an error\n",
      "C:\\Users\\yutan\\anaconda3\\envs\\tensorflow\\lib\\site-packages\\ipykernel_launcher.py:51: FutureWarning: Pass y=[-3.0517578e-05 -6.1035156e-05 -3.0517578e-05 ... -3.0517578e-05\n",
      " -3.0517578e-05  0.0000000e+00], sr=16000 as keyword args. From version 0.10 passing these as positional arguments will result in an error\n"
     ]
    },
    {
     "name": "stdout",
     "output_type": "stream",
     "text": [
      "secs\n",
      "mfccs 크기 : (20, 38)\n",
      "\n",
      "sr: 16000 , sig shape: (34134,)\n",
      "length: 2.133375 secs\n",
      "mfccs 크기 : (20, 38)\n",
      "\n",
      "sr: 16000 , sig shape: (41388,)\n",
      "length: 2.58675 secs\n",
      "mfccs 크기 : (20, 38)\n",
      "\n",
      "sr: 16000 , sig shape: (46934,)\n",
      "length: 2.933375 secs\n",
      "mfccs 크기 : (20, 38)\n",
      "\n",
      "sr: 16000 , sig shape: (38230,)\n",
      "length: 2.389375 secs\n",
      "mfccs 크기 : (20, 38)\n",
      "\n",
      "sr: 16000 , sig shape: (38913,)\n",
      "length: 2.4320625 secs\n",
      "mfccs 크기 : (20, 38)\n",
      "\n",
      "sr: 16000 , sig shape: (38230,)\n",
      "length: 2.389375 secs\n",
      "mfccs 크기 : (20, 38)\n",
      "\n",
      "sr: 16000 , sig shape: (48214,)\n",
      "length: 3.013375 secs\n",
      "mfccs 크기 : (20, 38)\n",
      "\n"
     ]
    },
    {
     "name": "stderr",
     "output_type": "stream",
     "text": [
      "C:\\Users\\yutan\\anaconda3\\envs\\tensorflow\\lib\\site-packages\\ipykernel_launcher.py:51: FutureWarning: Pass y=[ 6.1035156e-05 -5.4931641e-04  3.6621094e-04 ... -3.0517578e-05\n",
      " -5.7983398e-04 -1.2207031e-04], sr=16000 as keyword args. From version 0.10 passing these as positional arguments will result in an error\n",
      "C:\\Users\\yutan\\anaconda3\\envs\\tensorflow\\lib\\site-packages\\ipykernel_launcher.py:51: FutureWarning: Pass y=[ 0.05253606  0.05225622  0.04543332 ... -0.00262159  0.00021528\n",
      " -0.00156788], sr=16000 as keyword args. From version 0.10 passing these as positional arguments will result in an error\n"
     ]
    },
    {
     "name": "stdout",
     "output_type": "stream",
     "text": [
      "sr: 16000 , sig shape: (35840,)\n",
      "length: 2.24 secs\n",
      "mfccs 크기 : (20, 38)\n",
      "\n",
      "sr: 16000 , sig shape: (37547,)\n",
      "length: 2.3466875 secs\n",
      "mfccs 크기 : (20, 38)\n",
      "\n",
      "sr: 16000 , sig shape: (38913,)\n",
      "length: 2.4320625 secs\n",
      "mfccs 크기 : (20, 38)\n",
      "\n",
      "sr: 16000 , sig shape: (38913,)\n",
      "length: 2.4320625 secs\n",
      "mfccs 크기 : (20, 38)\n",
      "\n",
      "sr: 16000 , sig shape: (27307,)\n",
      "length: 1.7066875 secs\n",
      "mfccs 크기 : (20, 38)\n",
      "\n",
      "sr: 16000 , sig shape: (37547,)\n",
      "length: 2.3466875 secs\n",
      "mfccs 크기 : (20, 38)\n",
      "\n",
      "sr: 16000 , sig shape: (38913,)\n",
      "length: 2.4320625 secs\n"
     ]
    },
    {
     "name": "stderr",
     "output_type": "stream",
     "text": [
      "C:\\Users\\yutan\\anaconda3\\envs\\tensorflow\\lib\\site-packages\\ipykernel_launcher.py:51: FutureWarning: Pass y=[-0.00076294 -0.00378418 -0.00527954 ... -0.00662231  0.00033569\n",
      "  0.00512695], sr=16000 as keyword args. From version 0.10 passing these as positional arguments will result in an error\n",
      "C:\\Users\\yutan\\anaconda3\\envs\\tensorflow\\lib\\site-packages\\ipykernel_launcher.py:51: FutureWarning: Pass y=[ 0.00436401 -0.00112915 -0.00952148 ...  0.00778198 -0.00195312\n",
      "  0.00180054], sr=16000 as keyword args. From version 0.10 passing these as positional arguments will result in an error\n"
     ]
    },
    {
     "name": "stdout",
     "output_type": "stream",
     "text": [
      "mfccs 크기 : (20, 38)\n",
      "\n",
      "sr: 16000 , sig shape: (38230,)\n",
      "length: 2.389375 secs\n",
      "mfccs 크기 : (20, 38)\n",
      "\n",
      "sr: 16000 , sig shape: (27307,)\n",
      "length: 1.7066875 secs\n",
      "mfccs 크기 : (20, 38)\n"
     ]
    },
    {
     "name": "stderr",
     "output_type": "stream",
     "text": [
      "C:\\Users\\yutan\\anaconda3\\envs\\tensorflow\\lib\\site-packages\\ipykernel_launcher.py:51: FutureWarning: Pass y=[ 0.00952029 -0.00011234 -0.00777477 ...  0.          0.\n",
      "  0.        ], sr=16000 as keyword args. From version 0.10 passing these as positional arguments will result in an error\n",
      "C:\\Users\\yutan\\anaconda3\\envs\\tensorflow\\lib\\site-packages\\ipykernel_launcher.py:51: FutureWarning: Pass y=[ 0.0000000e+00 -3.0517578e-05 -3.0517578e-05 ... -3.0517578e-05\n",
      "  0.0000000e+00  0.0000000e+00], sr=16000 as keyword args. From version 0.10 passing these as positional arguments will result in an error\n",
      "C:\\Users\\yutan\\anaconda3\\envs\\tensorflow\\lib\\site-packages\\ipykernel_launcher.py:51: FutureWarning: Pass y=[-0.00128174 -0.00100708 -0.00192261 ...  0.0015564  -0.00091553\n",
      "  0.00189209], sr=16000 as keyword args. From version 0.10 passing these as positional arguments will result in an error\n"
     ]
    },
    {
     "name": "stdout",
     "output_type": "stream",
     "text": [
      "\n",
      "sr: 16000 , sig shape: (41388,)\n",
      "length: 2.58675 secs\n",
      "mfccs 크기 : (20, 38)\n",
      "\n",
      "sr: 16000 , sig shape: (38913,)\n",
      "length: 2.4320625 secs\n",
      "mfccs 크기 : (20, 38)\n",
      "\n",
      "sr: 16000 , sig shape: (31745,)\n",
      "length: 1.9840625 secs\n",
      "mfccs 크기 : (20, 38)\n",
      "\n",
      "sr: 16000 , sig shape: (51883,)\n",
      "length: 3.2426875 secs\n"
     ]
    },
    {
     "name": "stderr",
     "output_type": "stream",
     "text": [
      "C:\\Users\\yutan\\anaconda3\\envs\\tensorflow\\lib\\site-packages\\ipykernel_launcher.py:51: FutureWarning: Pass y=[ 4.94380686e-07 -8.94384266e-06 -3.02982826e-05 ... -1.00794705e-05\n",
      " -2.56311760e-05  0.00000000e+00], sr=16000 as keyword args. From version 0.10 passing these as positional arguments will result in an error\n",
      "C:\\Users\\yutan\\anaconda3\\envs\\tensorflow\\lib\\site-packages\\ipykernel_launcher.py:51: FutureWarning: Pass y=[-3.6913613e-04 -3.3435039e-04 -2.7817322e-04 ... -1.3519132e-06\n",
      "  7.4513974e-07  0.0000000e+00], sr=16000 as keyword args. From version 0.10 passing these as positional arguments will result in an error\n"
     ]
    },
    {
     "name": "stdout",
     "output_type": "stream",
     "text": [
      "mfccs 크기 : (20, 38)\n",
      "\n",
      "sr: 16000 , sig shape: (38230,)\n",
      "length: 2.389375 secs\n",
      "mfccs 크기 : (20, 38)\n",
      "\n",
      "sr: 16000 , sig shape: (38230,)\n",
      "length: 2.389375 secs\n",
      "mfccs 크기 : (20, 38)\n",
      "\n",
      "sr: 16000 , sig shape: (33110,)\n",
      "length: 2.069375 secs\n",
      "mfccs 크기 : (20, 38)\n",
      "\n",
      "sr: 16000 , sig shape: (37547,)\n",
      "length: 2.3466875 secs\n",
      "mfccs 크기 : (20, 38)\n",
      "\n"
     ]
    },
    {
     "name": "stderr",
     "output_type": "stream",
     "text": [
      "C:\\Users\\yutan\\anaconda3\\envs\\tensorflow\\lib\\site-packages\\ipykernel_launcher.py:51: FutureWarning: Pass y=[-0.00045776  0.00442505  0.00448608 ...  0.00192261 -0.00457764\n",
      "  0.0022583 ], sr=16000 as keyword args. From version 0.10 passing these as positional arguments will result in an error\n"
     ]
    },
    {
     "name": "stdout",
     "output_type": "stream",
     "text": [
      "sr: 16000 , sig shape: (27307,)\n",
      "length: 1.7066875 secs\n",
      "mfccs 크기 : (20, 38)\n",
      "\n",
      "sr: 16000 , sig shape: (46934,)\n",
      "length: 2.933375 secs\n",
      "mfccs 크기 : (20, 38)\n",
      "\n",
      "sr: 16000 , sig shape: (38571,)\n",
      "length: 2.4106875 secs\n",
      "mfccs 크기 : (20, 38)\n",
      "\n",
      "sr: 16000 , sig shape: (38230,)\n",
      "length: 2.389375 secs\n",
      "mfccs 크기 : (20, 38)\n",
      "\n",
      "sr: 16000 , sig shape: (51883,)\n",
      "length: 3.2426875 secs\n",
      "mfccs 크기 : (20, 38)\n",
      "\n",
      "sr: 16000 , sig shape: (38230,)\n",
      "length: 2.389375 secs\n",
      "mfccs 크기 : (20, 38)\n",
      "\n",
      "sr: 16000 , sig shape: (38230,)\n",
      "length: 2.389375 secs\n",
      "mfccs 크기 : (20, 38)\n",
      "\n",
      "sr: 16000 , sig shape: (33110,)\n",
      "length: 2.069375 secs\n",
      "mfccs 크기 : (20, 38)\n",
      "\n",
      "sr: 16000 , sig shape: (38230,)\n",
      "length: 2.389375 secs\n",
      "mfccs 크기 : (20, 38)\n",
      "\n",
      "sr: 16000 , sig shape: (27307,)\n",
      "length: 1.7066875 secs\n",
      "mfccs 크기 : (20, 38)\n",
      "\n",
      "sr: 16000 , sig shape: (38230,)\n",
      "length: 2.389375 secs\n",
      "mfccs 크기 : (20, 38)\n",
      "\n",
      "sr: 16000 , sig shape: (35840,)\n",
      "length: 2.24 secs\n",
      "mfccs 크기 : (20, 38)\n",
      "\n",
      "sr: 16000 , sig shape: (41388,)\n",
      "length: 2.58675 secs\n",
      "mfccs 크기 : (20, 38)\n",
      "\n",
      "sr: 16000 , sig shape: (37547,)\n",
      "length: 2.3466875 secs\n",
      "mfccs 크기 : (20, 38)\n",
      "\n",
      "sr: 16000 , sig shape: (38913,)\n",
      "length: 2.4320625 secs\n",
      "mfccs 크기 : (20, 38)\n",
      "\n",
      "sr: 16000 , sig shape: (38230,)\n",
      "length: 2.389375 secs\n",
      "mfccs 크기 : (20, 38)\n",
      "\n"
     ]
    },
    {
     "name": "stderr",
     "output_type": "stream",
     "text": [
      "C:\\Users\\yutan\\anaconda3\\envs\\tensorflow\\lib\\site-packages\\ipykernel_launcher.py:51: FutureWarning: Pass y=[2.6409436e-05 3.5782690e-05 1.3560666e-05 ... 9.1319607e-06 5.5717201e-06\n",
      " 0.0000000e+00], sr=16000 as keyword args. From version 0.10 passing these as positional arguments will result in an error\n"
     ]
    },
    {
     "name": "stdout",
     "output_type": "stream",
     "text": [
      "sr: 16000 , sig shape: (33110,)\n",
      "length: 2.069375 secs\n",
      "mfccs 크기 : (20, 38)\n",
      "\n",
      "sr: 16000 , sig shape: (38230,)\n",
      "length: 2.389375 secs\n",
      "mfccs 크기 : (20, 38)\n",
      "\n"
     ]
    },
    {
     "name": "stderr",
     "output_type": "stream",
     "text": [
      "C:\\Users\\yutan\\anaconda3\\envs\\tensorflow\\lib\\site-packages\\ipykernel_launcher.py:51: FutureWarning: Pass y=[ 1.4251637e-05 -1.3516690e-05 -3.2523560e-05 ...  8.7318000e-13\n",
      " -2.5943627e-13  0.0000000e+00], sr=16000 as keyword args. From version 0.10 passing these as positional arguments will result in an error\n"
     ]
    },
    {
     "name": "stdout",
     "output_type": "stream",
     "text": [
      "sr: 16000 , sig shape: (38913,)\n",
      "length: 2.4320625 secs\n",
      "mfccs 크기 : (20, 38)\n",
      "\n",
      "sr: 16000 , sig shape: (38230,)\n",
      "length: 2.389375 secs\n",
      "mfccs 크기 : (20, 38)\n",
      "\n",
      "sr: 16000 , sig shape: (38230,)\n",
      "length: 2.389375 secs\n",
      "mfccs 크기 : (20, 38)\n",
      "\n",
      "sr: 16000 , sig shape: (38230,)\n",
      "length: 2.389375 secs\n",
      "mfccs 크기 : (20, 38)\n",
      "\n",
      "sr: 16000 , sig shape: (33110,)\n",
      "length: 2.069375 secs\n",
      "mfccs 크기 : (20, 38)\n",
      "\n",
      "sr: 16000 , sig shape: (38571,)\n",
      "length: 2.4106875 secs\n",
      "mfccs 크기 : (20, 38)\n",
      "\n",
      "sr: "
     ]
    },
    {
     "name": "stderr",
     "output_type": "stream",
     "text": [
      "C:\\Users\\yutan\\anaconda3\\envs\\tensorflow\\lib\\site-packages\\ipykernel_launcher.py:51: FutureWarning: Pass y=[ 0.01361084  0.00860596 -0.00637817 ... -0.0017395  -0.003479\n",
      "  0.00106812], sr=16000 as keyword args. From version 0.10 passing these as positional arguments will result in an error\n",
      "C:\\Users\\yutan\\anaconda3\\envs\\tensorflow\\lib\\site-packages\\ipykernel_launcher.py:51: FutureWarning: Pass y=[-0.02001953 -0.01422119 -0.02032471 ...  0.00579834 -0.00106812\n",
      " -0.00021362], sr=16000 as keyword args. From version 0.10 passing these as positional arguments will result in an error\n"
     ]
    },
    {
     "name": "stdout",
     "output_type": "stream",
     "text": [
      "16000 , sig shape: (38230,)\n",
      "length: 2.389375 secs\n",
      "mfccs 크기 : (20, 38)\n",
      "\n",
      "sr: 16000 , sig shape: (35840,)\n",
      "length: 2.24 secs\n",
      "mfccs 크기 : (20, 38)\n",
      "\n",
      "sr: 16000 , sig shape: (31745,)\n",
      "length: 1.9840625 secs\n",
      "mfccs 크기 : (20, 38)\n",
      "\n",
      "sr: 16000 , sig shape: (38571,)\n",
      "length: 2.4106875 secs\n",
      "mfccs 크기 : (20, 38)\n",
      "\n",
      "sr: 16000 , sig shape: (27307,)\n",
      "length: 1.7066875 secs\n",
      "mfccs 크기 : (20, 38)\n",
      "\n",
      "sr: 16000 , sig shape: (44800,)\n",
      "length: 2.8 secs\n",
      "mfccs 크기 : (20, 38)\n",
      "\n"
     ]
    },
    {
     "name": "stderr",
     "output_type": "stream",
     "text": [
      "C:\\Users\\yutan\\anaconda3\\envs\\tensorflow\\lib\\site-packages\\ipykernel_launcher.py:51: FutureWarning: Pass y=[-0.021698   -0.01370239 -0.02227783 ... -0.00106812 -0.00341797\n",
      "  0.00057983], sr=16000 as keyword args. From version 0.10 passing these as positional arguments will result in an error\n",
      "C:\\Users\\yutan\\anaconda3\\envs\\tensorflow\\lib\\site-packages\\ipykernel_launcher.py:51: FutureWarning: Pass y=[-0.00115967 -0.0022583  -0.00234985 ... -0.00222778  0.00201416\n",
      " -0.00057983], sr=16000 as keyword args. From version 0.10 passing these as positional arguments will result in an error\n"
     ]
    },
    {
     "name": "stdout",
     "output_type": "stream",
     "text": [
      "sr: 16000 , sig shape: (31745,)\n",
      "length: 1.9840625 secs\n",
      "mfccs 크기 : (20, 38)\n",
      "\n",
      "sr: 16000 , sig shape: (41388,)\n",
      "length: 2.58675 secs\n",
      "mfccs 크기 : (20, 38)\n",
      "\n",
      "sr: 16000 , sig shape: (49153,)\n",
      "length: 3.0720625 secs\n",
      "mfccs 크기 : (20, 38)\n",
      "\n",
      "sr: 16000 , sig shape: (48641,)\n",
      "length: 3.0400625 secs\n",
      "mfccs 크기 : (20, 38)\n",
      "\n",
      "sr: 16000 , sig shape: (38230,)\n",
      "length: 2.389375 secs\n",
      "mfccs 크기 : (20, 38)\n",
      "\n",
      "sr: 16000 , sig shape: (37547,)\n",
      "length: 2.3466875 secs\n",
      "mfccs 크기 : (20, 38)\n",
      "\n"
     ]
    },
    {
     "name": "stderr",
     "output_type": "stream",
     "text": [
      "C:\\Users\\yutan\\anaconda3\\envs\\tensorflow\\lib\\site-packages\\ipykernel_launcher.py:51: FutureWarning: Pass y=[ 2.8709512e-05  2.6054471e-05 -3.1274506e-06 ... -3.8674017e-08\n",
      "  3.8383355e-08  0.0000000e+00], sr=16000 as keyword args. From version 0.10 passing these as positional arguments will result in an error\n",
      "C:\\Users\\yutan\\anaconda3\\envs\\tensorflow\\lib\\site-packages\\ipykernel_launcher.py:51: FutureWarning: Pass y=[-3.0517578e-05 -3.0517578e-05  0.0000000e+00 ...  6.7138672e-04\n",
      " -1.2207031e-03 -9.1552734e-05], sr=16000 as keyword args. From version 0.10 passing these as positional arguments will result in an error\n",
      "C:\\Users\\yutan\\anaconda3\\envs\\tensorflow\\lib\\site-packages\\ipykernel_launcher.py:51: FutureWarning: Pass y=[-0.00292969  0.00335693 -0.01449585 ...  0.01544189 -0.0038147\n",
      "  0.00631714], sr=16000 as keyword args. From version 0.10 passing these as positional arguments will result in an error\n"
     ]
    },
    {
     "name": "stdout",
     "output_type": "stream",
     "text": [
      "sr: 16000 , sig shape: (49153,)\n",
      "length: 3.0720625 secs\n",
      "mfccs 크기 : (20, 38)\n",
      "\n",
      "sr: 16000 , sig shape: (38230,)\n",
      "length: 2.389375 secs\n",
      "mfccs 크기 : (20, 38)\n",
      "\n",
      "sr: 16000 , sig shape: (38913,)\n",
      "length: 2.4320625 secs\n",
      "mfccs 크기 : (20, 38)\n",
      "\n",
      "sr: 16000 , sig shape: (37547,)\n",
      "length: 2.3466875 secs\n",
      "mfccs 크기 : (20, 38)\n",
      "\n",
      "sr: 16000 , sig shape: (27307,)\n",
      "length: 1.7066875 secs\n",
      "mfccs 크기 : (20, 38)\n",
      "\n",
      "sr: 16000 , sig shape: (48641,)\n",
      "length: 3.0400625 secs\n",
      "mfccs 크기 : (20, 38)\n",
      "\n",
      "sr: 16000 , sig shape: (37547,)\n",
      "length: 2.3466875 secs\n",
      "mfccs 크기 : (20, 38)\n",
      "\n",
      "sr: 16000 , sig shape: (38913,)\n",
      "length: 2.4320625 secs\n",
      "mfccs 크기 : (20, 38)\n",
      "\n",
      "sr: 16000 , sig shape: (38571,)\n",
      "length: 2.4106875 secs\n",
      "mfccs 크기 : (20, 38)\n",
      "\n",
      "sr: 16000 , sig shape: (27307,)\n",
      "length: 1.7066875 secs\n",
      "mfccs 크기 : (20, 38)\n",
      "\n"
     ]
    },
    {
     "name": "stderr",
     "output_type": "stream",
     "text": [
      "C:\\Users\\yutan\\anaconda3\\envs\\tensorflow\\lib\\site-packages\\ipykernel_launcher.py:51: FutureWarning: Pass y=[-0.0166626  -0.01937866 -0.02145386 ...  0.00411987 -0.00515747\n",
      " -0.00100708], sr=16000 as keyword args. From version 0.10 passing these as positional arguments will result in an error\n",
      "C:\\Users\\yutan\\anaconda3\\envs\\tensorflow\\lib\\site-packages\\ipykernel_launcher.py:51: FutureWarning: Pass y=[-3.6274724e-07  2.7239896e-05  8.2566421e-06 ...  2.6230900e-06\n",
      " -1.3001563e-06  0.0000000e+00], sr=16000 as keyword args. From version 0.10 passing these as positional arguments will result in an error\n"
     ]
    },
    {
     "name": "stdout",
     "output_type": "stream",
     "text": [
      "sr: 16000 , sig shape: (27307,)\n",
      "length: 1.7066875 secs\n",
      "mfccs 크기 : (20, 38)\n",
      "\n",
      "sr: 16000 , sig shape: (33110,)\n",
      "length: 2.069375 secs\n",
      "mfccs 크기 : (20, 38)\n",
      "\n",
      "sr: 16000 , sig shape: (34134,)\n",
      "length: 2.133375 secs\n",
      "mfccs 크기 : (20, 38)\n",
      "\n",
      "sr: 16000 , sig shape: (47788,)\n",
      "length: 2.98675 secs\n",
      "mfccs 크기 : (20, 38)\n",
      "\n",
      "sr: 16000 , sig shape: (38913,)\n",
      "length: 2.4320625 secs\n",
      "mfccs 크기 : (20, 38)\n",
      "\n",
      "sr: 16000 , sig shape: (49153,)\n",
      "length: 3.0720625 secs\n",
      "mfccs 크기 : (20, 38)\n",
      "\n",
      "sr: 16000 , sig shape: (27307,)\n",
      "length: 1.7066875 secs\n",
      "mfccs 크기 : (20, 38)\n",
      "\n",
      "sr: 16000 , sig shape: (47788,)\n",
      "length: 2.98675 secs\n",
      "mfccs 크기 : (20, 38)\n",
      "\n"
     ]
    },
    {
     "name": "stderr",
     "output_type": "stream",
     "text": [
      "C:\\Users\\yutan\\anaconda3\\envs\\tensorflow\\lib\\site-packages\\ipykernel_launcher.py:51: FutureWarning: Pass y=[ 0.00076294  0.00897217  0.00402832 ...  0.00656128 -0.00442505\n",
      " -0.00067139], sr=16000 as keyword args. From version 0.10 passing these as positional arguments will result in an error\n"
     ]
    },
    {
     "name": "stdout",
     "output_type": "stream",
     "text": [
      "sr: 16000 , sig shape: (38230,)\n",
      "length: 2.389375 secs\n",
      "mfccs 크기 : (20, 38)\n",
      "\n",
      "sr: 16000 , sig shape: (47788,)\n",
      "length: 2.98675 secs\n",
      "mfccs 크기 : (20, 38)\n",
      "\n",
      "sr: 16000 , sig shape: (33110,)\n",
      "length: 2.069375 secs\n",
      "mfccs 크기 : (20, 38)\n",
      "\n",
      "sr: 16000 , sig shape: (35840,)\n",
      "length: 2.24 secs\n",
      "mfccs 크기 : (20, 38)\n",
      "\n",
      "sr: 16000 , sig shape: (33110,)\n",
      "length: 2.069375 secs\n",
      "mfccs 크기 : (20, 38)\n",
      "\n",
      "sr: 16000 , sig shape: (35840,)\n",
      "length: 2.24 secs\n"
     ]
    },
    {
     "name": "stderr",
     "output_type": "stream",
     "text": [
      "C:\\Users\\yutan\\anaconda3\\envs\\tensorflow\\lib\\site-packages\\ipykernel_launcher.py:51: FutureWarning: Pass y=[-0.05255127 -0.05227661 -0.04544067 ...  0.00259399 -0.00024414\n",
      "  0.0015564 ], sr=16000 as keyword args. From version 0.10 passing these as positional arguments will result in an error\n"
     ]
    },
    {
     "name": "stdout",
     "output_type": "stream",
     "text": [
      "mfccs 크기 : (20, 38)\n",
      "\n",
      "sr: 16000 , sig shape: (35840,)\n",
      "length: 2.24 secs\n",
      "mfccs 크기 : (20, 38)\n",
      "\n",
      "sr: 16000 , sig shape: (38571,)\n",
      "length: 2.4106875 secs\n",
      "mfccs 크기 : (20, 38)\n",
      "\n",
      "sr: 16000 , sig shape: (38230,)\n",
      "length: 2.389375 secs\n",
      "mfccs 크기 : (20, 38)\n",
      "\n",
      "sr: 16000 , sig shape: (38913,)\n",
      "length: 2.4320625 secs\n",
      "mfccs 크기 : (20, 38)\n",
      "\n",
      "sr: 16000 , sig shape: (38913,)\n",
      "length: 2.4320625 secs\n",
      "mfccs 크기 : (20, 38)\n",
      "\n",
      "sr: 16000 , sig shape: (38913,)\n",
      "length: 2.4320625 secs\n",
      "mfccs 크기 : (20, 38)\n",
      "\n",
      "sr: 16000 , sig shape: (44800,)\n",
      "length: 2.8 secs\n",
      "mfccs 크기 : (20, 38)\n",
      "\n"
     ]
    },
    {
     "name": "stderr",
     "output_type": "stream",
     "text": [
      "C:\\Users\\yutan\\anaconda3\\envs\\tensorflow\\lib\\site-packages\\ipykernel_launcher.py:51: FutureWarning: Pass y=[ 0.00057983 -0.00125122  0.00082397 ... -0.00231934  0.0007019\n",
      " -0.0020752 ], sr=16000 as keyword args. From version 0.10 passing these as positional arguments will result in an error\n",
      "C:\\Users\\yutan\\anaconda3\\envs\\tensorflow\\lib\\site-packages\\ipykernel_launcher.py:51: FutureWarning: Pass y=[ 0.00466919 -0.00411987 -0.00164795 ...  0.00045776 -0.00323486\n",
      "  0.00076294], sr=16000 as keyword args. From version 0.10 passing these as positional arguments will result in an error\n",
      "C:\\Users\\yutan\\anaconda3\\envs\\tensorflow\\lib\\site-packages\\ipykernel_launcher.py:51: FutureWarning: Pass y=[-0.00219727 -0.00405884 -0.00723267 ...  0.00268555  0.00588989\n",
      " -0.00457764], sr=16000 as keyword args. From version 0.10 passing these as positional arguments will result in an error\n"
     ]
    },
    {
     "name": "stdout",
     "output_type": "stream",
     "text": [
      "sr: 16000 , sig shape: (38571,)\n",
      "length: 2.4106875 secs\n",
      "mfccs 크기 : (20, 38)\n",
      "\n",
      "sr: 16000 , sig shape: (41388,)\n",
      "length: 2.58675 secs\n",
      "mfccs 크기 : (20, 38)\n",
      "\n",
      "sr: 16000 , sig shape: (27307,)\n",
      "length: 1.7066875 secs\n",
      "mfccs 크기 : (20, 38)\n",
      "\n",
      "sr: 16000 , sig shape: (38913,)\n",
      "length: 2.4320625 secs\n",
      "mfccs 크기 : (20, 38)\n",
      "\n",
      "sr: 16000 , sig shape: (27307,)\n",
      "length: 1.7066875 secs\n",
      "mfccs 크기 : (20, 38)\n",
      "\n",
      "sr: 16000 , sig shape: (33110,)\n",
      "length: 2.069375 secs\n",
      "mfccs 크기 : (20, 38)\n",
      "\n",
      "sr: 16000 , sig shape: (33110,)\n",
      "length: 2.069375 secs\n",
      "mfccs 크기 : (20, 38)\n",
      "\n"
     ]
    },
    {
     "name": "stderr",
     "output_type": "stream",
     "text": [
      "C:\\Users\\yutan\\anaconda3\\envs\\tensorflow\\lib\\site-packages\\ipykernel_launcher.py:51: FutureWarning: Pass y=[-0.0043335   0.00387573  0.00088501 ...  0.01043701  0.00262451\n",
      "  0.00112915], sr=16000 as keyword args. From version 0.10 passing these as positional arguments will result in an error\n",
      "C:\\Users\\yutan\\anaconda3\\envs\\tensorflow\\lib\\site-packages\\ipykernel_launcher.py:51: FutureWarning: Pass y=[ 0.00918579  0.01065063 -0.0012207  ... -0.0022583   0.00402832\n",
      " -0.00137329], sr=16000 as keyword args. From version 0.10 passing these as positional arguments will result in an error\n"
     ]
    },
    {
     "name": "stdout",
     "output_type": "stream",
     "text": [
      "sr: 16000 , sig shape: (37547,)\n",
      "length: 2.3466875 secs\n",
      "mfccs 크기 : (20, 38)\n",
      "\n",
      "sr: 16000 , sig shape: (33110,)\n",
      "length: 2.069375 secs\n",
      "mfccs 크기 : (20, 38)\n",
      "\n",
      "sr: 16000 , sig shape: (35840,)\n",
      "length: 2.24 secs\n",
      "mfccs 크기 : (20, 38)\n",
      "\n",
      "sr: 16000 , sig shape: (38913,)\n",
      "length: 2.4320625 secs\n",
      "mfccs 크기 : (20, 38)\n",
      "\n",
      "sr: 16000 , sig shape: (33110,)\n",
      "length: 2.069375 secs\n",
      "mfccs 크기 : (20, 38)\n",
      "\n",
      "sr: 16000 , sig shape: (38571,)\n",
      "length: 2.4106875 secs\n",
      "mfccs 크기 : (20, 38)\n",
      "\n",
      "sr: 16000 , sig shape: (46934,)\n",
      "length: 2.933375 secs\n",
      "mfccs 크기 : (20, 38)\n",
      "\n",
      "sr: 16000 , sig shape: (35840,)\n",
      "length: 2.24 secs\n",
      "mfccs 크기 : (20, 38)\n",
      "\n",
      "sr: 16000 , sig shape: (38230,)\n",
      "length: 2.389375 secs\n",
      "mfccs 크기 : (20, 38)\n",
      "\n",
      "sr: 16000 , sig shape: (35840,)\n",
      "length: 2.24 secs\n",
      "mfccs 크기 : (20, 38)\n",
      "\n",
      "sr: 16000 , sig shape: (38230,)\n",
      "length: 2.389375 secs\n",
      "mfccs 크기 : (20, 38)\n",
      "\n",
      "sr: 16000 , sig shape: (33110,)\n",
      "length: 2.069375 secs\n",
      "mfccs 크기 : (20, 38)\n",
      "\n",
      "sr: 16000 , sig shape: (51883,)\n",
      "length: 3.2426875 secs\n",
      "mfccs 크기 : (20, 38)\n",
      "\n",
      "sr: 16000 , sig shape: (33110,)\n",
      "length: 2.069375 secs\n",
      "mfccs 크기 : (20, 38)\n",
      "\n",
      "sr: 16000 , sig shape: (37547,)\n",
      "length: 2.3466875 secs\n",
      "mfccs 크기 : (20, 38)\n",
      "\n",
      "sr: 16000 , sig shape: (38913,)\n",
      "length: 2.4320625 secs\n",
      "mfccs 크기 : (20, 38)\n",
      "\n",
      "sr: 16000 , sig shape: (35840,)\n",
      "length: 2.24 secs\n",
      "mfccs 크기 : (20, 38)\n",
      "\n",
      "sr: 16000 , sig shape: (38571,)\n",
      "length: 2.4106875 secs\n",
      "mfccs 크기 : (20, 38)\n",
      "\n",
      "sr: 16000 , sig shape: (48641,)\n",
      "length: 3.0400625 secs\n",
      "mfccs 크기 : (20, 38)\n",
      "\n"
     ]
    },
    {
     "name": "stderr",
     "output_type": "stream",
     "text": [
      "C:\\Users\\yutan\\anaconda3\\envs\\tensorflow\\lib\\site-packages\\ipykernel_launcher.py:51: FutureWarning: Pass y=[ 0.04904175  0.04925537  0.04125977 ... -0.00601196 -0.00576782\n",
      " -0.00601196], sr=16000 as keyword args. From version 0.10 passing these as positional arguments will result in an error\n"
     ]
    },
    {
     "name": "stdout",
     "output_type": "stream",
     "text": [
      "sr: 16000 , sig shape: (33110,)\n",
      "length: 2.069375 secs\n",
      "mfccs 크기 : (20, 38)\n",
      "\n",
      "sr: 16000 , sig shape: (38230,)\n",
      "length: 2.389375 secs\n",
      "mfccs 크기 : (20, 38)\n",
      "\n",
      "sr: 16000 , sig shape: (38571,)\n",
      "length: 2.4106875 secs\n",
      "mfccs 크기 : (20, 38)\n",
      "\n",
      "sr: 16000 , sig shape: (48641,)\n",
      "length: 3.0400625 secs\n",
      "mfccs 크기 : (20, 38)\n",
      "\n",
      "sr: 16000 , sig shape: (31745,)\n",
      "length: 1.9840625 secs\n",
      "mfccs 크기 : (20, 38)\n",
      "\n",
      "sr: 16000 , sig shape: (48214,)\n",
      "length: 3.013375 secs\n",
      "mfccs 크기 : (20, 38)\n",
      "\n",
      "sr: 16000 , sig shape: (38913,)\n",
      "length: 2.4320625 secs\n",
      "mfccs 크기 : (20, 38)\n",
      "\n"
     ]
    },
    {
     "name": "stderr",
     "output_type": "stream",
     "text": [
      "C:\\Users\\yutan\\anaconda3\\envs\\tensorflow\\lib\\site-packages\\ipykernel_launcher.py:51: FutureWarning: Pass y=[ 0.01266479 -0.00143433 -0.00250244 ... -0.00564575  0.00076294\n",
      "  0.00115967], sr=16000 as keyword args. From version 0.10 passing these as positional arguments will result in an error\n"
     ]
    },
    {
     "name": "stdout",
     "output_type": "stream",
     "text": [
      "sr: 16000 , sig shape: (33110,)\n",
      "length: 2.069375 secs\n",
      "mfccs 크기 : (20, 38)\n",
      "\n",
      "sr: 16000 , sig shape: (38913,)\n",
      "length: 2.4320625 secs\n",
      "mfccs 크기 : (20, 38)\n",
      "\n",
      "sr: 16000 , sig shape: (38913,)\n",
      "length: 2.4320625 secs\n",
      "mfccs 크기 : (20, 38)\n",
      "\n",
      "sr: 16000 , sig shape: (38230,)\n",
      "length: 2.389375 secs\n"
     ]
    },
    {
     "name": "stderr",
     "output_type": "stream",
     "text": [
      "C:\\Users\\yutan\\anaconda3\\envs\\tensorflow\\lib\\site-packages\\ipykernel_launcher.py:51: FutureWarning: Pass y=[-0.00341797 -0.00961304 -0.00238037 ... -0.00241089 -0.00982666\n",
      "  0.00021362], sr=16000 as keyword args. From version 0.10 passing these as positional arguments will result in an error\n"
     ]
    },
    {
     "name": "stdout",
     "output_type": "stream",
     "text": [
      "mfccs 크기 : (20, 38)\n",
      "\n",
      "sr: 16000 , sig shape: (38571,)\n",
      "length: 2.4106875 secs\n",
      "mfccs 크기 : (20, 38)\n",
      "\n",
      "sr: 16000 , sig shape: (38571,)\n",
      "length: 2.4106875 secs\n",
      "mfccs 크기 : (20, 38)\n",
      "\n",
      "sr: 16000 , sig shape: (33110,)\n",
      "length: 2.069375 secs\n",
      "mfccs 크기 : (20, 38)\n",
      "\n"
     ]
    },
    {
     "name": "stderr",
     "output_type": "stream",
     "text": [
      "C:\\Users\\yutan\\anaconda3\\envs\\tensorflow\\lib\\site-packages\\ipykernel_launcher.py:51: FutureWarning: Pass y=[-0.01376343 -0.01300049 -0.02120972 ...  0.00402832 -0.00546265\n",
      " -0.00735474], sr=16000 as keyword args. From version 0.10 passing these as positional arguments will result in an error\n"
     ]
    },
    {
     "name": "stdout",
     "output_type": "stream",
     "text": [
      "sr: 16000 , sig shape: (48641,)\n",
      "length: 3.0400625 secs\n",
      "mfccs 크기 : (20, 38)\n",
      "\n",
      "sr: 16000 , sig shape: (38571,)\n",
      "length: 2.4106875 secs\n",
      "mfccs 크기 : (20, 38)\n",
      "\n",
      "sr: 16000 , sig shape: (37547,)\n",
      "length: 2.3466875 secs\n"
     ]
    },
    {
     "name": "stderr",
     "output_type": "stream",
     "text": [
      "C:\\Users\\yutan\\anaconda3\\envs\\tensorflow\\lib\\site-packages\\ipykernel_launcher.py:51: FutureWarning: Pass y=[-0.01647949 -0.02145386 -0.0206604  ... -0.00042725 -0.00305176\n",
      "  0.00024414], sr=16000 as keyword args. From version 0.10 passing these as positional arguments will result in an error\n"
     ]
    },
    {
     "name": "stdout",
     "output_type": "stream",
     "text": [
      "mfccs 크기 : (20, 38)\n",
      "\n",
      "sr: 16000 , sig shape: (35840,)\n",
      "length: 2.24 secs\n",
      "mfccs 크기 : (20, 38)\n",
      "\n",
      "sr: 16000 , sig shape: (27307,)\n",
      "length: 1.7066875 secs\n",
      "mfccs 크기 : (20, 38)\n",
      "\n",
      "sr: 16000 , sig shape: (38913,)\n",
      "length: 2.4320625 secs\n",
      "mfccs 크기 : (20, 38)\n",
      "\n",
      "sr: 16000 , sig shape: (48641,)\n",
      "length: 3.0400625 secs\n",
      "mfccs 크기 : (20, 38)\n",
      "\n",
      "sr: 16000 , sig shape: (38913,)\n",
      "length: 2.4320625 secs\n",
      "mfccs 크기 : (20, 38)\n",
      "\n"
     ]
    }
   ],
   "source": [
    "# 지금 내가 가지고 있는 것을 다 변환 했을때  동일한 크기의 mfcc 파일이 나오는가, 이상한거는 버려주기\n",
    "prob_cnt = 0  \n",
    "x_test = []\n",
    "y_test = []\n",
    "for index, filename in enumerate(filenames_train):\n",
    "    \n",
    "    # Stop after 500\n",
    "    # if index >= 500:\n",
    "    #     break\n",
    "    \n",
    "    # Create path from given filename and target item\n",
    "    path = join(dataset_path, target_list[int(y_orig_train[index])], filename)\n",
    "    \n",
    "    # Create MFCCs\n",
    "    mfccs = get_librosa_mfcc(path)\n",
    "    print(\"mfccs 크기 :\",mfccs.shape)\n",
    "\n",
    "    if mfccs.shape[1] == len_mfcc:    # 지금은 40으로 설정되어 있음, ///  길이가 부족하면 나중에 버려야함\n",
    "        x_test.append(mfccs)\n",
    "        y_test.append(y_orig_train[index])\n",
    "    else:\n",
    "        print('Dropped:', index, mfccs.shape)\n",
    "        prob_cnt += 1\n",
    "    print()\n"
   ]
  },
  {
   "cell_type": "code",
   "execution_count": 17,
   "metadata": {
    "colab": {
     "base_uri": "https://localhost:8080/",
     "height": 278
    },
    "executionInfo": {
     "elapsed": 29,
     "status": "ok",
     "timestamp": 1648628743213,
     "user": {
      "displayName": "김유탄",
      "userId": "04011767612525493979"
     },
     "user_tz": -540
    },
    "id": "ImVwh1C9EDv-",
    "outputId": "60ec169c-97a3-4520-8f6a-79f932c9e48c"
   },
   "outputs": [
    {
     "name": "stderr",
     "output_type": "stream",
     "text": [
      "C:\\Users\\yutan\\anaconda3\\envs\\tensorflow\\lib\\site-packages\\ipykernel_launcher.py:22: FutureWarning: Pass sr=16000 as keyword args. From version 0.10 passing these as positional arguments will result in an error\n"
     ]
    },
    {
     "name": "stdout",
     "output_type": "stream",
     "text": [
      "sr: 16000 , sig shape: (38571,)\n",
      "length: 2.4106875 secs\n"
     ]
    },
    {
     "name": "stderr",
     "output_type": "stream",
     "text": [
      "C:\\Users\\yutan\\anaconda3\\envs\\tensorflow\\lib\\site-packages\\ipykernel_launcher.py:51: FutureWarning: Pass y=[-1.5349760e-02 -1.6172053e-02 -2.2888849e-02 ...  2.2137112e-11\n",
      " -1.1717506e-11  0.0000000e+00], sr=16000 as keyword args. From version 0.10 passing these as positional arguments will result in an error\n"
     ]
    },
    {
     "data": {
      "text/plain": [
       "<matplotlib.image.AxesImage at 0x1f06f6cce10>"
      ]
     },
     "execution_count": 17,
     "metadata": {},
     "output_type": "execute_result"
    },
    {
     "data": {
      "image/png": "[encoded data removed]",
      "text/plain": [
       "<Figure size 432x288 with 1 Axes>"
      ]
     },
     "metadata": {
      "needs_background": "light"
     },
     "output_type": "display_data"
    }
   ],
   "source": [
    "# 내가 확인 할 부분\n",
    "idx = 1\n",
    "\n",
    "# Create path from given filename and target item\n",
    "path = '/'.join([dataset_path, target_list[int(y_orig_train[idx])], \n",
    "            filenames_train[idx]])\n",
    "\n",
    "# mfcc 만들기\n",
    "mfccs = get_librosa_mfcc(path)\n",
    "\n",
    "# MFCC 그림으로 보기\n",
    "fig = plt.figure()\n",
    "plt.imshow(mfccs, cmap='inferno', origin='lower')\n",
    "\n",
    "# 소리 확인\n",
    "# print(target_list[int(y_orig_train[idx])])\n",
    "# print(path)\n",
    "# playsound(path)"
   ]
  },
  {
   "cell_type": "code",
   "execution_count": 18,
   "metadata": {
    "executionInfo": {
     "elapsed": 25,
     "status": "ok",
     "timestamp": 1648628743214,
     "user": {
      "displayName": "김유탄",
      "userId": "04011767612525493979"
     },
     "user_tz": -540
    },
    "id": "2O53qDlmF6pp"
   },
   "outputs": [],
   "source": [
    "# 학습 하기 전에 미리 모든 소리에 대해서 feature 추출해서 준비 해두는 단계, inpu을 맞추려고 \n",
    "def extract_features(in_files, in_y):\n",
    "    prob_cnt = 0\n",
    "    out_x = []\n",
    "    out_y = []\n",
    "        \n",
    "    for index, filename in enumerate(in_files):\n",
    "    \n",
    "        # Create path from given filename and target item\n",
    "        path = \"/\".join([dataset_path, target_list[int(in_y[index])], \n",
    "                    filename])\n",
    "        \n",
    "        # Check to make sure we're reading a .wav file\n",
    "        if not path.endswith('.wav'):\n",
    "            continue\n",
    "\n",
    "        # Create MFCCs\n",
    "        mfccs = get_librosa_mfcc(path)\n",
    "        print(mfccs.shape)\n",
    "\n",
    "        if mfccs.shape[1] == len_mfcc:\n",
    "            out_x.append(mfccs)\n",
    "            out_y.append(in_y[index])\n",
    "        else:\n",
    "            print('Dropped:', index, mfccs.shape)\n",
    "            prob_cnt += 1\n",
    "            \n",
    "    return out_x, out_y, prob_cnt"
   ]
  },
  {
   "cell_type": "code",
   "execution_count": 19,
   "metadata": {
    "colab": {
     "base_uri": "https://localhost:8080/"
    },
    "executionInfo": {
     "elapsed": 26134,
     "status": "ok",
     "timestamp": 1648628769324,
     "user": {
      "displayName": "김유탄",
      "userId": "04011767612525493979"
     },
     "user_tz": -540
    },
    "id": "TVOZN9PqGHe9",
    "outputId": "f03ea1aa-68ea-4b64-d0dc-12975d729779"
   },
   "outputs": [
    {
     "name": "stderr",
     "output_type": "stream",
     "text": [
      "C:\\Users\\yutan\\anaconda3\\envs\\tensorflow\\lib\\site-packages\\ipykernel_launcher.py:22: FutureWarning: Pass sr=16000 as keyword args. From version 0.10 passing these as positional arguments will result in an error\n",
      "C:\\Users\\yutan\\anaconda3\\envs\\tensorflow\\lib\\site-packages\\ipykernel_launcher.py:51: FutureWarning: Pass y=[-3.0517578e-05  0.0000000e+00  3.0517578e-05 ...  0.0000000e+00\n",
      "  0.0000000e+00  0.0000000e+00], sr=16000 as keyword args. From version 0.10 passing these as positional arguments will result in an error\n",
      "C:\\Users\\yutan\\anaconda3\\envs\\tensorflow\\lib\\site-packages\\ipykernel_launcher.py:51: FutureWarning: Pass y=[-1.5349760e-02 -1.6172053e-02 -2.2888849e-02 ...  2.2137112e-11\n",
      " -1.1717506e-11  0.0000000e+00], sr=16000 as keyword args. From version 0.10 passing these as positional arguments will result in an error\n",
      "C:\\Users\\yutan\\anaconda3\\envs\\tensorflow\\lib\\site-packages\\ipykernel_launcher.py:51: FutureWarning: Pass y=[ 0.00274658  0.00143433  0.00076294 ... -0.00085449  0.00106812\n",
      " -0.00091553], sr=16000 as keyword args. From version 0.10 passing these as positional arguments will result in an error\n",
      "C:\\Users\\yutan\\anaconda3\\envs\\tensorflow\\lib\\site-packages\\ipykernel_launcher.py:51: FutureWarning: Pass y=[ 0.00692749 -0.00253296  0.00088501 ... -0.00094604 -0.00326538\n",
      "  0.00436401], sr=16000 as keyword args. From version 0.10 passing these as positional arguments will result in an error\n"
     ]
    },
    {
     "name": "stdout",
     "output_type": "stream",
     "text": [
      "sr: 16000 , sig shape: (33110,)\n",
      "length: 2.069375 secs\n",
      "(20, 38)\n",
      "sr: 16000 , sig shape: (38571,)\n",
      "length: 2.4106875 secs\n",
      "(20, 38)\n",
      "sr: 16000 , sig shape: (47788,)\n",
      "length: 2.98675 secs\n",
      "(20, 38)\n",
      "sr: 16000 , sig shape: (38913,)\n",
      "length: 2.4320625 secs\n",
      "(20, 38)\n",
      "sr: 16000 , sig shape: (33110,)\n",
      "length: 2.069375 secs\n",
      "(20, 38)\n",
      "sr: 16000 , sig shape: (47788,)\n",
      "length: 2.98675 secs\n",
      "(20, 38)\n",
      "sr: 16000 , sig shape: (48641,)\n",
      "length: 3.0400625 secs\n",
      "(20, 38)\n",
      "sr: 16000 , sig shape: (37547,)\n",
      "length: 2.3466875 secs\n"
     ]
    },
    {
     "name": "stderr",
     "output_type": "stream",
     "text": [
      "C:\\Users\\yutan\\anaconda3\\envs\\tensorflow\\lib\\site-packages\\ipykernel_launcher.py:51: FutureWarning: Pass y=[ 0.00234985 -0.00796509  0.00253296 ... -0.00292969  0.00714111\n",
      "  0.00015259], sr=16000 as keyword args. From version 0.10 passing these as positional arguments will result in an error\n",
      "C:\\Users\\yutan\\anaconda3\\envs\\tensorflow\\lib\\site-packages\\ipykernel_launcher.py:51: FutureWarning: Pass y=[-0.02203369 -0.01589966 -0.00790405 ... -0.00143433  0.00024414\n",
      " -0.00036621], sr=16000 as keyword args. From version 0.10 passing these as positional arguments will result in an error\n",
      "C:\\Users\\yutan\\anaconda3\\envs\\tensorflow\\lib\\site-packages\\ipykernel_launcher.py:51: FutureWarning: Pass y=[ 7.1190862e-04  1.4293985e-03  3.7318183e-04 ... -2.3045261e-06\n",
      "  9.0480688e-07  0.0000000e+00], sr=16000 as keyword args. From version 0.10 passing these as positional arguments will result in an error\n",
      "C:\\Users\\yutan\\anaconda3\\envs\\tensorflow\\lib\\site-packages\\ipykernel_launcher.py:51: FutureWarning: Pass y=[-9.5214844e-03  9.1552734e-05  7.7514648e-03 ...  0.0000000e+00\n",
      "  0.0000000e+00  0.0000000e+00], sr=16000 as keyword args. From version 0.10 passing these as positional arguments will result in an error\n",
      "C:\\Users\\yutan\\anaconda3\\envs\\tensorflow\\lib\\site-packages\\ipykernel_launcher.py:51: FutureWarning: Pass y=[-7.3242188e-04 -1.4343262e-03 -3.9672852e-04 ...  0.0000000e+00\n",
      " -3.0517578e-05  0.0000000e+00], sr=16000 as keyword args. From version 0.10 passing these as positional arguments will result in an error\n"
     ]
    },
    {
     "name": "stdout",
     "output_type": "stream",
     "text": [
      "(20, 38)\n",
      "sr: 16000 , sig shape: (48641,)\n",
      "length: 3.0400625 secs\n",
      "(20, 38)\n",
      "sr: 16000 , sig shape: (38230,)\n",
      "length: 2.389375 secs\n",
      "(20, 38)\n",
      "sr: 16000 , sig shape: (37547,)\n",
      "length: 2.3466875 secs\n",
      "(20, 38)\n",
      "sr: 16000 , sig shape: (33110,)\n",
      "length: 2.069375 secs\n",
      "(20, 38)\n",
      "sr: 16000 , sig shape: (27307,)\n",
      "length: 1.7066875 secs\n",
      "(20, 38)\n",
      "sr: 16000 , sig shape: (38230,)\n",
      "length: 2.389375 secs\n",
      "(20, 38)\n",
      "sr: 16000 , sig shape: (38571,)\n",
      "length: 2.4106875 secs\n",
      "(20, 38)\n",
      "sr: 16000 , sig shape: (38571,)\n",
      "length: 2.4106875 secs\n",
      "(20, 38)\n"
     ]
    },
    {
     "name": "stderr",
     "output_type": "stream",
     "text": [
      "C:\\Users\\yutan\\anaconda3\\envs\\tensorflow\\lib\\site-packages\\ipykernel_launcher.py:51: FutureWarning: Pass y=[ 1.4886714e-04  1.4071017e-04 -9.3109675e-06 ...  3.8913084e-05\n",
      " -4.0715381e-06  0.0000000e+00], sr=16000 as keyword args. From version 0.10 passing these as positional arguments will result in an error\n",
      "C:\\Users\\yutan\\anaconda3\\envs\\tensorflow\\lib\\site-packages\\ipykernel_launcher.py:51: FutureWarning: Pass y=[-0.02983066 -0.03118714 -0.03322427 ...  0.          0.\n",
      "  0.        ], sr=16000 as keyword args. From version 0.10 passing these as positional arguments will result in an error\n",
      "C:\\Users\\yutan\\anaconda3\\envs\\tensorflow\\lib\\site-packages\\ipykernel_launcher.py:51: FutureWarning: Pass y=[0.01531982 0.0161438  0.02288818 ... 0.         0.         0.        ], sr=16000 as keyword args. From version 0.10 passing these as positional arguments will result in an error\n"
     ]
    },
    {
     "name": "stdout",
     "output_type": "stream",
     "text": [
      "sr: 16000 , sig shape: (38913,)\n",
      "length: 2.4320625 secs\n",
      "(20, 38)\n",
      "sr: 16000 , sig shape: (38913,)\n",
      "length: 2.4320625 secs\n",
      "(20, 38)\n",
      "sr: 16000 , sig shape: (37547,)\n",
      "length: 2.3466875 secs\n",
      "(20, 38)\n",
      "sr: 16000 , sig shape: (35840,)\n",
      "length: 2.24 secs\n",
      "(20, 38)\n",
      "sr: 16000 , sig shape: (34134,)\n",
      "length: 2.133375 secs\n",
      "(20, 38)\n",
      "sr: 16000 , sig shape: (41388,)\n",
      "length: 2.58675 secs\n",
      "(20, 38)\n",
      "sr: 16000 , sig shape: (46934,)\n",
      "length: 2.933375 secs\n",
      "(20, 38)\n",
      "sr: 16000 , sig shape: (38230,)\n",
      "length: 2.389375 secs\n",
      "(20, 38)\n",
      "sr: 16000 , sig shape: (38913,)\n",
      "length: 2.4320625 secs\n",
      "(20, 38)\n",
      "sr: 16000 , sig shape: (38230,)\n",
      "length: 2.389375 secs\n",
      "(20, 38)\n",
      "sr: 16000 , sig shape: (48214,)\n",
      "length: 3.013375 secs\n",
      "(20, 38)\n"
     ]
    },
    {
     "name": "stderr",
     "output_type": "stream",
     "text": [
      "C:\\Users\\yutan\\anaconda3\\envs\\tensorflow\\lib\\site-packages\\ipykernel_launcher.py:51: FutureWarning: Pass y=[-8.8970650e-05 -9.7564371e-05 -4.8216014e-05 ...  3.1861928e-05\n",
      " -4.4911649e-05  0.0000000e+00], sr=16000 as keyword args. From version 0.10 passing these as positional arguments will result in an error\n",
      "C:\\Users\\yutan\\anaconda3\\envs\\tensorflow\\lib\\site-packages\\ipykernel_launcher.py:51: FutureWarning: Pass y=[ 6.1035156e-05  9.1552734e-05  3.0517578e-05 ... -6.1035156e-05\n",
      "  3.0517578e-05  0.0000000e+00], sr=16000 as keyword args. From version 0.10 passing these as positional arguments will result in an error\n",
      "C:\\Users\\yutan\\anaconda3\\envs\\tensorflow\\lib\\site-packages\\ipykernel_launcher.py:51: FutureWarning: Pass y=[ 4.7424316e-02  5.6884766e-02  4.8156738e-02 ...  1.0681152e-03\n",
      "  6.1035156e-05 -2.1667480e-03], sr=16000 as keyword args. From version 0.10 passing these as positional arguments will result in an error\n",
      "C:\\Users\\yutan\\anaconda3\\envs\\tensorflow\\lib\\site-packages\\ipykernel_launcher.py:51: FutureWarning: Pass y=[ 3.0517578e-05  0.0000000e+00  0.0000000e+00 ... -1.8310547e-04\n",
      "  4.5776367e-04 -6.1035156e-05], sr=16000 as keyword args. From version 0.10 passing these as positional arguments will result in an error\n",
      "C:\\Users\\yutan\\anaconda3\\envs\\tensorflow\\lib\\site-packages\\ipykernel_launcher.py:51: FutureWarning: Pass y=[-0.00665283 -0.00332642  0.00219727 ...  0.00039673 -0.00039673\n",
      "  0.00027466], sr=16000 as keyword args. From version 0.10 passing these as positional arguments will result in an error\n",
      "C:\\Users\\yutan\\anaconda3\\envs\\tensorflow\\lib\\site-packages\\ipykernel_launcher.py:51: FutureWarning: Pass y=[ 0.00253296  0.01550293  0.01635742 ...  0.00109863 -0.00180054\n",
      " -0.00167847], sr=16000 as keyword args. From version 0.10 passing these as positional arguments will result in an error\n",
      "C:\\Users\\yutan\\anaconda3\\envs\\tensorflow\\lib\\site-packages\\ipykernel_launcher.py:51: FutureWarning: Pass y=[ 0.00942993 -0.00497437 -0.00515747 ... -0.00100708  0.00701904\n",
      " -0.00549316], sr=16000 as keyword args. From version 0.10 passing these as positional arguments will result in an error\n",
      "C:\\Users\\yutan\\anaconda3\\envs\\tensorflow\\lib\\site-packages\\ipykernel_launcher.py:51: FutureWarning: Pass y=[-3.0517578e-05 -6.1035156e-05 -3.0517578e-05 ... -3.0517578e-05\n",
      " -3.0517578e-05  0.0000000e+00], sr=16000 as keyword args. From version 0.10 passing these as positional arguments will result in an error\n",
      "C:\\Users\\yutan\\anaconda3\\envs\\tensorflow\\lib\\site-packages\\ipykernel_launcher.py:51: FutureWarning: Pass y=[ 6.1035156e-05 -5.4931641e-04  3.6621094e-04 ... -3.0517578e-05\n",
      " -5.7983398e-04 -1.2207031e-04], sr=16000 as keyword args. From version 0.10 passing these as positional arguments will result in an error\n"
     ]
    },
    {
     "name": "stdout",
     "output_type": "stream",
     "text": [
      "sr: 16000 , sig shape: (35840,)\n",
      "length: 2.24 secs\n",
      "(20, 38)\n",
      "sr: 16000 , sig shape: (37547,)\n",
      "length: 2.3466875 secs\n",
      "(20, 38)\n",
      "sr: 16000 , sig shape: (38913,)\n",
      "length: 2.4320625 secs\n",
      "(20, 38)\n",
      "sr: 16000 , sig shape: (38913,)\n",
      "length: 2.4320625 secs\n",
      "(20, 38)\n",
      "sr: 16000 , sig shape: (27307,)\n",
      "length: 1.7066875 secs\n",
      "(20, 38)\n"
     ]
    },
    {
     "name": "stderr",
     "output_type": "stream",
     "text": [
      "C:\\Users\\yutan\\anaconda3\\envs\\tensorflow\\lib\\site-packages\\ipykernel_launcher.py:51: FutureWarning: Pass y=[ 0.05253606  0.05225622  0.04543332 ... -0.00262159  0.00021528\n",
      " -0.00156788], sr=16000 as keyword args. From version 0.10 passing these as positional arguments will result in an error\n",
      "C:\\Users\\yutan\\anaconda3\\envs\\tensorflow\\lib\\site-packages\\ipykernel_launcher.py:51: FutureWarning: Pass y=[-0.00076294 -0.00378418 -0.00527954 ... -0.00662231  0.00033569\n",
      "  0.00512695], sr=16000 as keyword args. From version 0.10 passing these as positional arguments will result in an error\n"
     ]
    },
    {
     "name": "stdout",
     "output_type": "stream",
     "text": [
      "sr: 16000 , sig shape: (37547,)\n",
      "length: 2.3466875 secs\n",
      "(20, 38)\n",
      "sr: 16000 , sig shape: (38913,)\n",
      "length: 2.4320625 secs\n",
      "(20, 38)\n"
     ]
    },
    {
     "name": "stderr",
     "output_type": "stream",
     "text": [
      "C:\\Users\\yutan\\anaconda3\\envs\\tensorflow\\lib\\site-packages\\ipykernel_launcher.py:51: FutureWarning: Pass y=[ 0.00436401 -0.00112915 -0.00952148 ...  0.00778198 -0.00195312\n",
      "  0.00180054], sr=16000 as keyword args. From version 0.10 passing these as positional arguments will result in an error\n"
     ]
    },
    {
     "name": "stdout",
     "output_type": "stream",
     "text": [
      "sr: 16000 , sig shape: (38230,)\n",
      "length: 2.389375 secs\n",
      "(20, 38)\n",
      "sr: 16000 , sig shape: (27307,)\n",
      "length: 1.7066875 secs\n",
      "(20, 38)\n",
      "sr: 16000 , sig shape: (41388,)\n",
      "length: 2.58675 secs\n",
      "(20, 38)\n",
      "sr: 16000 , sig shape: (38913,)\n",
      "length: 2.4320625 secs\n",
      "(20, 38)\n",
      "sr: 16000 , sig shape: (31745,)\n",
      "length: 1.9840625 secs\n",
      "(20, 38)\n"
     ]
    },
    {
     "name": "stderr",
     "output_type": "stream",
     "text": [
      "C:\\Users\\yutan\\anaconda3\\envs\\tensorflow\\lib\\site-packages\\ipykernel_launcher.py:51: FutureWarning: Pass y=[ 0.00952029 -0.00011234 -0.00777477 ...  0.          0.\n",
      "  0.        ], sr=16000 as keyword args. From version 0.10 passing these as positional arguments will result in an error\n",
      "C:\\Users\\yutan\\anaconda3\\envs\\tensorflow\\lib\\site-packages\\ipykernel_launcher.py:51: FutureWarning: Pass y=[ 0.0000000e+00 -3.0517578e-05 -3.0517578e-05 ... -3.0517578e-05\n",
      "  0.0000000e+00  0.0000000e+00], sr=16000 as keyword args. From version 0.10 passing these as positional arguments will result in an error\n",
      "C:\\Users\\yutan\\anaconda3\\envs\\tensorflow\\lib\\site-packages\\ipykernel_launcher.py:51: FutureWarning: Pass y=[-0.00128174 -0.00100708 -0.00192261 ...  0.0015564  -0.00091553\n",
      "  0.00189209], sr=16000 as keyword args. From version 0.10 passing these as positional arguments will result in an error\n",
      "C:\\Users\\yutan\\anaconda3\\envs\\tensorflow\\lib\\site-packages\\ipykernel_launcher.py:51: FutureWarning: Pass y=[ 4.94380686e-07 -8.94384266e-06 -3.02982826e-05 ... -1.00794705e-05\n",
      " -2.56311760e-05  0.00000000e+00], sr=16000 as keyword args. From version 0.10 passing these as positional arguments will result in an error\n"
     ]
    },
    {
     "name": "stdout",
     "output_type": "stream",
     "text": [
      "sr: 16000 , sig shape: (51883,)\n",
      "length: 3.2426875 secs\n",
      "(20, 38)\n",
      "sr: 16000 , sig shape: (38230,)\n",
      "length: 2.389375 secs\n"
     ]
    },
    {
     "name": "stderr",
     "output_type": "stream",
     "text": [
      "C:\\Users\\yutan\\anaconda3\\envs\\tensorflow\\lib\\site-packages\\ipykernel_launcher.py:51: FutureWarning: Pass y=[-3.6913613e-04 -3.3435039e-04 -2.7817322e-04 ... -1.3519132e-06\n",
      "  7.4513974e-07  0.0000000e+00], sr=16000 as keyword args. From version 0.10 passing these as positional arguments will result in an error\n"
     ]
    },
    {
     "name": "stdout",
     "output_type": "stream",
     "text": [
      "(20, 38)\n",
      "sr: 16000 , sig shape: (38230,)\n",
      "length: 2.389375 secs\n",
      "(20, 38)\n",
      "sr: 16000 , sig shape: (33110,)\n",
      "length: 2.069375 secs\n",
      "(20, 38)\n"
     ]
    },
    {
     "name": "stderr",
     "output_type": "stream",
     "text": [
      "C:\\Users\\yutan\\anaconda3\\envs\\tensorflow\\lib\\site-packages\\ipykernel_launcher.py:51: FutureWarning: Pass y=[-0.00045776  0.00442505  0.00448608 ...  0.00192261 -0.00457764\n",
      "  0.0022583 ], sr=16000 as keyword args. From version 0.10 passing these as positional arguments will result in an error\n"
     ]
    },
    {
     "name": "stdout",
     "output_type": "stream",
     "text": [
      "sr: 16000 , sig shape: (37547,)\n",
      "length: 2.3466875 secs\n",
      "(20, 38)\n",
      "sr: 16000 , sig shape: (27307,)\n",
      "length: 1.7066875 secs\n",
      "(20, 38)\n",
      "sr: 16000 , sig shape: (46934,)\n",
      "length: 2.933375 secs\n",
      "(20, 38)\n",
      "sr: 16000 , sig shape: (38571,)\n",
      "length: 2.4106875 secs\n",
      "(20, 38)\n",
      "sr: 16000 , sig shape: (38230,)\n",
      "length: 2.389375 secs\n",
      "(20, 38)\n",
      "sr: 16000 , sig shape: (51883,)\n",
      "length: 3.2426875 secs\n",
      "(20, 38)\n",
      "sr: 16000 , sig shape: (38230,)\n",
      "length: 2.389375 secs\n",
      "(20, 38)\n",
      "sr: 16000 , sig shape: (38230,)\n",
      "length: 2.389375 secs\n",
      "(20, 38)\n",
      "sr: 16000 , sig shape: (33110,)\n",
      "length: 2.069375 secs\n",
      "(20, 38)\n",
      "sr: 16000 , sig shape: (38230,)\n",
      "length: 2.389375 secs\n",
      "(20, 38)\n",
      "sr: 16000 , sig shape: (27307,)\n",
      "length: 1.7066875 secs\n",
      "(20, 38)\n",
      "sr: 16000 , sig shape: (38230,)\n",
      "length: 2.389375 secs\n",
      "(20, 38)\n",
      "sr: 16000 , sig shape: (35840,)\n",
      "length: 2.24 secs\n",
      "(20, 38)\n",
      "sr: 16000 , sig shape: (41388,)\n",
      "length: 2.58675 secs\n",
      "(20, 38)\n",
      "sr: 16000 , sig shape: (37547,)\n",
      "length: 2.3466875 secs\n",
      "(20, 38)\n",
      "sr: 16000 , sig shape: (38913,)\n",
      "length: 2.4320625 secs\n",
      "(20, 38)\n",
      "sr: 16000 , sig shape: (38230,)\n",
      "length: 2.389375 secs\n",
      "(20, 38)\n"
     ]
    },
    {
     "name": "stderr",
     "output_type": "stream",
     "text": [
      "C:\\Users\\yutan\\anaconda3\\envs\\tensorflow\\lib\\site-packages\\ipykernel_launcher.py:51: FutureWarning: Pass y=[2.6409436e-05 3.5782690e-05 1.3560666e-05 ... 9.1319607e-06 5.5717201e-06\n",
      " 0.0000000e+00], sr=16000 as keyword args. From version 0.10 passing these as positional arguments will result in an error\n"
     ]
    },
    {
     "name": "stdout",
     "output_type": "stream",
     "text": [
      "sr: 16000 , sig shape: (33110,)\n",
      "length: 2.069375 secs\n",
      "(20, 38)\n",
      "sr: 16000 , sig shape: (38230,)\n",
      "length: 2.389375 secs\n",
      "(20, 38)\n",
      "sr: 16000 , sig shape: (38913,)\n",
      "length: 2.4320625 secs\n",
      "(20, 38)\n",
      "sr: 16000 , sig shape: (38230,)\n",
      "length: 2.389375 secs\n",
      "(20, 38)\n"
     ]
    },
    {
     "name": "stderr",
     "output_type": "stream",
     "text": [
      "C:\\Users\\yutan\\anaconda3\\envs\\tensorflow\\lib\\site-packages\\ipykernel_launcher.py:51: FutureWarning: Pass y=[ 1.4251637e-05 -1.3516690e-05 -3.2523560e-05 ...  8.7318000e-13\n",
      " -2.5943627e-13  0.0000000e+00], sr=16000 as keyword args. From version 0.10 passing these as positional arguments will result in an error\n"
     ]
    },
    {
     "name": "stdout",
     "output_type": "stream",
     "text": [
      "sr: 16000 , sig shape: (38230,)\n",
      "length: 2.389375 secs\n",
      "(20, 38)\n",
      "sr: 16000 , sig shape: (38230,)\n",
      "length: 2.389375 secs\n",
      "(20, 38)\n",
      "sr: 16000 , sig shape: (33110,)\n",
      "length: 2.069375 secs\n",
      "(20, 38)\n",
      "sr: 16000 , sig shape: (38571,)\n",
      "length: 2.4106875 secs\n",
      "(20, 38)\n",
      "sr: 16000 , sig shape: (38230,)\n",
      "length: "
     ]
    },
    {
     "name": "stderr",
     "output_type": "stream",
     "text": [
      "C:\\Users\\yutan\\anaconda3\\envs\\tensorflow\\lib\\site-packages\\ipykernel_launcher.py:51: FutureWarning: Pass y=[ 0.01361084  0.00860596 -0.00637817 ... -0.0017395  -0.003479\n",
      "  0.00106812], sr=16000 as keyword args. From version 0.10 passing these as positional arguments will result in an error\n",
      "C:\\Users\\yutan\\anaconda3\\envs\\tensorflow\\lib\\site-packages\\ipykernel_launcher.py:51: FutureWarning: Pass y=[-0.02001953 -0.01422119 -0.02032471 ...  0.00579834 -0.00106812\n",
      " -0.00021362], sr=16000 as keyword args. From version 0.10 passing these as positional arguments will result in an error\n"
     ]
    },
    {
     "name": "stdout",
     "output_type": "stream",
     "text": [
      "2.389375 secs\n",
      "(20, 38)\n",
      "sr: 16000 , sig shape: (35840,)\n",
      "length: 2.24 secs\n",
      "(20, 38)\n",
      "sr: 16000 , sig shape: (31745,)\n",
      "length: 1.9840625 secs\n",
      "(20, 38)\n",
      "sr: 16000 , sig shape: (38571,)\n",
      "length: 2.4106875 secs\n",
      "(20, 38)\n",
      "sr: 16000 , sig shape: (27307,)\n",
      "length: 1.7066875 secs\n",
      "(20, 38)\n",
      "sr: 16000 , sig shape: (44800,)\n",
      "length: 2.8 secs\n",
      "(20, 38)\n",
      "sr: 16000 , sig shape: (31745,)\n",
      "length: 1.9840625 secs\n",
      "(20, 38)\n",
      "sr: 16000 , sig shape: (41388,)\n",
      "length: 2.58675 secs\n",
      "(20, 38)\n"
     ]
    },
    {
     "name": "stderr",
     "output_type": "stream",
     "text": [
      "C:\\Users\\yutan\\anaconda3\\envs\\tensorflow\\lib\\site-packages\\ipykernel_launcher.py:51: FutureWarning: Pass y=[-0.021698   -0.01370239 -0.02227783 ... -0.00106812 -0.00341797\n",
      "  0.00057983], sr=16000 as keyword args. From version 0.10 passing these as positional arguments will result in an error\n",
      "C:\\Users\\yutan\\anaconda3\\envs\\tensorflow\\lib\\site-packages\\ipykernel_launcher.py:51: FutureWarning: Pass y=[-0.00115967 -0.0022583  -0.00234985 ... -0.00222778  0.00201416\n",
      " -0.00057983], sr=16000 as keyword args. From version 0.10 passing these as positional arguments will result in an error\n"
     ]
    },
    {
     "name": "stdout",
     "output_type": "stream",
     "text": [
      "sr: 16000 , sig shape: (49153,)\n",
      "length: 3.0720625 secs\n",
      "(20, 38)\n",
      "sr: 16000 , sig shape: (48641,)\n",
      "length: 3.0400625 secs\n",
      "(20, 38)\n",
      "sr: 16000 , sig shape: (38230,)\n",
      "length: 2.389375 secs\n",
      "(20, 38)\n",
      "sr: 16000 , sig shape: (37547,)\n",
      "length: 2.3466875 secs\n",
      "(20, 38)\n",
      "sr: 16000 , sig shape: (49153,)\n",
      "length: 3.0720625 secs\n"
     ]
    },
    {
     "name": "stderr",
     "output_type": "stream",
     "text": [
      "C:\\Users\\yutan\\anaconda3\\envs\\tensorflow\\lib\\site-packages\\ipykernel_launcher.py:51: FutureWarning: Pass y=[ 2.8709512e-05  2.6054471e-05 -3.1274506e-06 ... -3.8674017e-08\n",
      "  3.8383355e-08  0.0000000e+00], sr=16000 as keyword args. From version 0.10 passing these as positional arguments will result in an error\n",
      "C:\\Users\\yutan\\anaconda3\\envs\\tensorflow\\lib\\site-packages\\ipykernel_launcher.py:51: FutureWarning: Pass y=[-3.0517578e-05 -3.0517578e-05  0.0000000e+00 ...  6.7138672e-04\n",
      " -1.2207031e-03 -9.1552734e-05], sr=16000 as keyword args. From version 0.10 passing these as positional arguments will result in an error\n",
      "C:\\Users\\yutan\\anaconda3\\envs\\tensorflow\\lib\\site-packages\\ipykernel_launcher.py:51: FutureWarning: Pass y=[-0.00292969  0.00335693 -0.01449585 ...  0.01544189 -0.0038147\n",
      "  0.00631714], sr=16000 as keyword args. From version 0.10 passing these as positional arguments will result in an error\n"
     ]
    },
    {
     "name": "stdout",
     "output_type": "stream",
     "text": [
      "(20, 38)\n",
      "sr: 16000 , sig shape: (38230,)\n",
      "length: 2.389375 secs\n",
      "(20, 38)\n",
      "sr: 16000 , sig shape: (38913,)\n",
      "length: 2.4320625 secs\n",
      "(20, 38)\n",
      "sr: 16000 , sig shape: (37547,)\n",
      "length: 2.3466875 secs\n",
      "(20, 38)\n",
      "sr: 16000 , sig shape: (27307,)\n",
      "length: 1.7066875 secs\n",
      "(20, 38)\n",
      "sr: 16000 , sig shape: (48641,)\n",
      "length: 3.0400625 secs\n",
      "(20, 38)\n",
      "sr: 16000 , sig shape: (37547,)\n",
      "length: 2.3466875 secs\n",
      "(20, 38)\n",
      "sr: 16000 , sig shape: (38913,)\n",
      "length: 2.4320625 secs\n",
      "(20, 38)\n",
      "sr: 16000 , sig shape: (38571,)\n",
      "length: 2.4106875 secs\n",
      "(20, 38)\n",
      "sr: 16000 , sig shape: (27307,)\n",
      "length: 1.7066875 secs\n",
      "(20, 38)\n"
     ]
    },
    {
     "name": "stderr",
     "output_type": "stream",
     "text": [
      "C:\\Users\\yutan\\anaconda3\\envs\\tensorflow\\lib\\site-packages\\ipykernel_launcher.py:51: FutureWarning: Pass y=[-0.0166626  -0.01937866 -0.02145386 ...  0.00411987 -0.00515747\n",
      " -0.00100708], sr=16000 as keyword args. From version 0.10 passing these as positional arguments will result in an error\n",
      "C:\\Users\\yutan\\anaconda3\\envs\\tensorflow\\lib\\site-packages\\ipykernel_launcher.py:51: FutureWarning: Pass y=[-3.6274724e-07  2.7239896e-05  8.2566421e-06 ...  2.6230900e-06\n",
      " -1.3001563e-06  0.0000000e+00], sr=16000 as keyword args. From version 0.10 passing these as positional arguments will result in an error\n"
     ]
    },
    {
     "name": "stdout",
     "output_type": "stream",
     "text": [
      "sr: 16000 , sig shape: (27307,)\n",
      "length: 1.7066875 secs\n",
      "(20, 38)\n",
      "sr: 16000 , sig shape: (33110,)\n",
      "length: 2.069375 secs\n",
      "(20, 38)\n",
      "sr: 16000 , sig shape: (34134,)\n",
      "length: 2.133375 secs\n",
      "(20, 38)\n",
      "sr: 16000 , sig shape: (47788,)\n",
      "length: 2.98675 secs\n",
      "(20, 38)\n",
      "sr: 16000 , sig shape: (38913,)\n",
      "length: 2.4320625 secs\n",
      "(20, 38)\n",
      "sr: 16000 , sig shape: (49153,)\n",
      "length: 3.0720625 secs\n",
      "(20, 38)\n",
      "sr: 16000 , sig shape: (27307,)\n",
      "length: 1.7066875 secs\n",
      "(20, 38)\n",
      "sr: 16000 , sig shape: (47788,)\n",
      "length: 2.98675 secs\n",
      "(20, 38)\n",
      "sr: 16000 , sig shape: (38230,)\n",
      "length: 2.389375 secs\n",
      "(20, 38)\n",
      "sr: 16000 , sig shape: (47788,)\n",
      "length: 2.98675 secs\n",
      "(20, 38)\n"
     ]
    },
    {
     "name": "stderr",
     "output_type": "stream",
     "text": [
      "C:\\Users\\yutan\\anaconda3\\envs\\tensorflow\\lib\\site-packages\\ipykernel_launcher.py:51: FutureWarning: Pass y=[ 0.00076294  0.00897217  0.00402832 ...  0.00656128 -0.00442505\n",
      " -0.00067139], sr=16000 as keyword args. From version 0.10 passing these as positional arguments will result in an error\n"
     ]
    },
    {
     "name": "stdout",
     "output_type": "stream",
     "text": [
      "sr: 16000 , sig shape: (33110,)\n",
      "length: 2.069375 secs\n",
      "(20, 38)\n",
      "sr: 16000 , sig shape: (35840,)\n",
      "length: 2.24 secs\n",
      "(20, 38)\n",
      "sr: 16000 , sig shape: (33110,)\n",
      "length: 2.069375 secs\n",
      "(20, 38)\n",
      "sr: 16000 , sig shape: (35840,)\n",
      "length: 2.24 secs\n",
      "(20, 38)\n"
     ]
    },
    {
     "name": "stderr",
     "output_type": "stream",
     "text": [
      "C:\\Users\\yutan\\anaconda3\\envs\\tensorflow\\lib\\site-packages\\ipykernel_launcher.py:51: FutureWarning: Pass y=[-0.05255127 -0.05227661 -0.04544067 ...  0.00259399 -0.00024414\n",
      "  0.0015564 ], sr=16000 as keyword args. From version 0.10 passing these as positional arguments will result in an error\n"
     ]
    },
    {
     "name": "stdout",
     "output_type": "stream",
     "text": [
      "sr: 16000 , sig shape: (35840,)\n",
      "length: 2.24 secs\n",
      "(20, 38)\n",
      "sr: 16000 , sig shape: (38571,)\n",
      "length: 2.4106875 secs\n",
      "(20, 38)\n",
      "sr: 16000 , sig shape: (38230,)\n",
      "length: 2.389375 secs\n",
      "(20, 38)\n",
      "sr: 16000 , sig shape: (38913,)\n",
      "length: 2.4320625 secs\n",
      "(20, 38)\n",
      "sr: 16000 , sig shape: (38913,)\n",
      "length: 2.4320625 secs\n",
      "(20, 38)\n",
      "sr: 16000 , sig shape: (38913,)\n",
      "length: 2.4320625 secs\n",
      "(20, 38)\n"
     ]
    },
    {
     "name": "stderr",
     "output_type": "stream",
     "text": [
      "C:\\Users\\yutan\\anaconda3\\envs\\tensorflow\\lib\\site-packages\\ipykernel_launcher.py:51: FutureWarning: Pass y=[ 0.00057983 -0.00125122  0.00082397 ... -0.00231934  0.0007019\n",
      " -0.0020752 ], sr=16000 as keyword args. From version 0.10 passing these as positional arguments will result in an error\n",
      "C:\\Users\\yutan\\anaconda3\\envs\\tensorflow\\lib\\site-packages\\ipykernel_launcher.py:51: FutureWarning: Pass y=[ 0.00466919 -0.00411987 -0.00164795 ...  0.00045776 -0.00323486\n",
      "  0.00076294], sr=16000 as keyword args. From version 0.10 passing these as positional arguments will result in an error\n",
      "C:\\Users\\yutan\\anaconda3\\envs\\tensorflow\\lib\\site-packages\\ipykernel_launcher.py:51: FutureWarning: Pass y=[-0.00219727 -0.00405884 -0.00723267 ...  0.00268555  0.00588989\n",
      " -0.00457764], sr=16000 as keyword args. From version 0.10 passing these as positional arguments will result in an error\n"
     ]
    },
    {
     "name": "stdout",
     "output_type": "stream",
     "text": [
      "sr: 16000 , sig shape: (44800,)\n",
      "length: 2.8 secs\n",
      "(20, 38)\n",
      "sr: 16000 , sig shape: (38571,)\n",
      "length: 2.4106875 secs\n",
      "(20, 38)\n",
      "sr: 16000 , sig shape: (41388,)\n",
      "length: 2.58675 secs\n",
      "(20, 38)\n",
      "sr: 16000 , sig shape: (27307,)\n",
      "length: 1.7066875 secs\n",
      "(20, 38)\n",
      "sr: 16000 , sig shape: (38913,)\n",
      "length: 2.4320625 secs\n",
      "(20, 38)\n",
      "sr: 16000 , sig shape: (27307,)\n",
      "length: 1.7066875 secs\n",
      "(20, 38)\n",
      "sr: 16000 , sig shape: (33110,)\n",
      "length: 2.069375 secs\n",
      "(20, 38)\n",
      "sr: 16000 , sig shape: (33110,)\n",
      "length: 2.069375 secs\n",
      "(20, 38)\n",
      "sr: 16000 , sig shape: (37547,)\n",
      "length: 2.3466875 secs\n",
      "(20, 38)\n"
     ]
    },
    {
     "name": "stderr",
     "output_type": "stream",
     "text": [
      "C:\\Users\\yutan\\anaconda3\\envs\\tensorflow\\lib\\site-packages\\ipykernel_launcher.py:51: FutureWarning: Pass y=[-0.0043335   0.00387573  0.00088501 ...  0.01043701  0.00262451\n",
      "  0.00112915], sr=16000 as keyword args. From version 0.10 passing these as positional arguments will result in an error\n",
      "C:\\Users\\yutan\\anaconda3\\envs\\tensorflow\\lib\\site-packages\\ipykernel_launcher.py:51: FutureWarning: Pass y=[ 0.00918579  0.01065063 -0.0012207  ... -0.0022583   0.00402832\n",
      " -0.00137329], sr=16000 as keyword args. From version 0.10 passing these as positional arguments will result in an error\n"
     ]
    },
    {
     "name": "stdout",
     "output_type": "stream",
     "text": [
      "sr: 16000 , sig shape: (33110,)\n",
      "length: 2.069375 secs\n",
      "(20, 38)\n",
      "sr: 16000 , sig shape: (35840,)\n",
      "length: 2.24 secs\n",
      "(20, 38)\n",
      "sr: 16000 , sig shape: (38913,)\n",
      "length: 2.4320625 secs\n",
      "(20, 38)\n",
      "sr: 16000 , sig shape: (33110,)\n",
      "length: 2.069375 secs\n",
      "(20, 38)\n",
      "sr: 16000 , sig shape: (38571,)\n",
      "length: 2.4106875 secs\n",
      "(20, 38)\n",
      "sr: 16000 , sig shape: (46934,)\n",
      "length: 2.933375 secs\n",
      "(20, 38)\n",
      "sr: 16000 , sig shape: (35840,)\n",
      "length: 2.24 secs\n",
      "(20, 38)\n",
      "sr: 16000 , sig shape: (38230,)\n",
      "length: 2.389375 secs\n",
      "(20, 38)\n",
      "sr: 16000 , sig shape: (35840,)\n",
      "length: 2.24 secs\n",
      "(20, 38)\n",
      "sr: 16000 , sig shape: (38230,)\n",
      "length: 2.389375 secs\n",
      "(20, 38)\n",
      "sr: 16000 , sig shape: (33110,)\n",
      "length: 2.069375 secs\n",
      "(20, 38)\n",
      "sr: 16000 , sig shape: (51883,)\n",
      "length: 3.2426875 secs\n",
      "(20, 38)\n",
      "sr: 16000 , sig shape: (33110,)\n",
      "length: 2.069375 secs\n",
      "(20, 38)\n",
      "sr: 16000 , sig shape: (37547,)\n",
      "length: 2.3466875 secs\n",
      "(20, 38)\n",
      "sr: 16000 , sig shape: (38913,)\n",
      "length: 2.4320625 secs\n",
      "(20, 38)\n",
      "sr: 16000 , sig shape: (35840,)\n",
      "length: 2.24 secs\n",
      "(20, 38)\n",
      "sr: 16000 , sig shape: (38571,)\n",
      "length: 2.4106875 secs\n",
      "(20, 38)\n",
      "sr: 16000 , sig shape: (48641,)\n",
      "length: 3.0400625 secs\n",
      "(20, 38)\n",
      "sr: 16000 , sig shape: (33110,)\n",
      "length: 2.069375 secs\n",
      "(20, 38)\n"
     ]
    },
    {
     "name": "stderr",
     "output_type": "stream",
     "text": [
      "C:\\Users\\yutan\\anaconda3\\envs\\tensorflow\\lib\\site-packages\\ipykernel_launcher.py:51: FutureWarning: Pass y=[ 0.04904175  0.04925537  0.04125977 ... -0.00601196 -0.00576782\n",
      " -0.00601196], sr=16000 as keyword args. From version 0.10 passing these as positional arguments will result in an error\n"
     ]
    },
    {
     "name": "stdout",
     "output_type": "stream",
     "text": [
      "sr: 16000 , sig shape: (38230,)\n",
      "length: 2.389375 secs\n",
      "(20, 38)\n",
      "sr: 16000 , sig shape: (38571,)\n",
      "length: 2.4106875 secs\n",
      "(20, 38)\n",
      "sr: 16000 , sig shape: (48641,)\n",
      "length: 3.0400625 secs\n",
      "(20, 38)\n",
      "sr: 16000 , sig shape: (31745,)\n",
      "length: 1.9840625 secs\n",
      "(20, 38)\n",
      "sr: 16000 , sig shape: (48214,)\n",
      "length: 3.013375 secs\n",
      "(20, 38)\n",
      "sr: 16000 , sig shape: (38913,)\n",
      "length: 2.4320625 secs\n"
     ]
    },
    {
     "name": "stderr",
     "output_type": "stream",
     "text": [
      "C:\\Users\\yutan\\anaconda3\\envs\\tensorflow\\lib\\site-packages\\ipykernel_launcher.py:51: FutureWarning: Pass y=[ 0.01266479 -0.00143433 -0.00250244 ... -0.00564575  0.00076294\n",
      "  0.00115967], sr=16000 as keyword args. From version 0.10 passing these as positional arguments will result in an error\n"
     ]
    },
    {
     "name": "stdout",
     "output_type": "stream",
     "text": [
      "(20, 38)\n",
      "sr: 16000 , sig shape: (33110,)\n",
      "length: 2.069375 secs\n",
      "(20, 38)\n",
      "sr: 16000 , sig shape: (38913,)\n",
      "length: 2.4320625 secs\n",
      "(20, 38)\n",
      "sr: 16000 , sig shape: (38913,)\n",
      "length: 2.4320625 secs\n",
      "(20, 38)\n",
      "sr: 16000 , sig shape: (38230,)\n",
      "length: 2.389375 secs\n",
      "(20, 38)\n"
     ]
    },
    {
     "name": "stderr",
     "output_type": "stream",
     "text": [
      "C:\\Users\\yutan\\anaconda3\\envs\\tensorflow\\lib\\site-packages\\ipykernel_launcher.py:51: FutureWarning: Pass y=[-0.00341797 -0.00961304 -0.00238037 ... -0.00241089 -0.00982666\n",
      "  0.00021362], sr=16000 as keyword args. From version 0.10 passing these as positional arguments will result in an error\n"
     ]
    },
    {
     "name": "stdout",
     "output_type": "stream",
     "text": [
      "sr: 16000 , sig shape: (38571,)\n",
      "length: 2.4106875 secs\n",
      "(20, 38)\n",
      "sr: 16000 , sig shape: (38571,)\n",
      "length: 2.4106875 secs\n",
      "(20, 38)\n",
      "sr: 16000 , sig shape: (33110,)\n",
      "length: 2.069375 secs\n",
      "(20, 38)\n",
      "sr: 16000 , sig shape: (48641,)\n",
      "length: 3.0400625 secs\n",
      "(20, 38)\n",
      "sr: 16000 , sig shape: (38571,)\n",
      "length: 2.4106875 secs\n",
      "(20, 38)\n"
     ]
    },
    {
     "name": "stderr",
     "output_type": "stream",
     "text": [
      "C:\\Users\\yutan\\anaconda3\\envs\\tensorflow\\lib\\site-packages\\ipykernel_launcher.py:51: FutureWarning: Pass y=[-0.01376343 -0.01300049 -0.02120972 ...  0.00402832 -0.00546265\n",
      " -0.00735474], sr=16000 as keyword args. From version 0.10 passing these as positional arguments will result in an error\n",
      "C:\\Users\\yutan\\anaconda3\\envs\\tensorflow\\lib\\site-packages\\ipykernel_launcher.py:51: FutureWarning: Pass y=[-0.01647949 -0.02145386 -0.0206604  ... -0.00042725 -0.00305176\n",
      "  0.00024414], sr=16000 as keyword args. From version 0.10 passing these as positional arguments will result in an error\n"
     ]
    },
    {
     "name": "stdout",
     "output_type": "stream",
     "text": [
      "sr: 16000 , sig shape: (37547,)\n",
      "length: 2.3466875 secs\n",
      "(20, 38)\n",
      "sr: 16000 , sig shape: (35840,)\n",
      "length: 2.24 secs\n",
      "(20, 38)\n",
      "sr: 16000 , sig shape: (27307,)\n",
      "length: 1.7066875 secs\n",
      "(20, 38)\n",
      "sr: 16000 , sig shape: (38913,)\n",
      "length: 2.4320625 secs\n",
      "(20, 38)\n",
      "sr: 16000 , sig shape: (48641,)\n",
      "length: 3.0400625 secs\n",
      "(20, 38)\n",
      "sr: 16000 , sig shape: (38913,)\n",
      "length: 2.4320625 secs\n",
      "(20, 38)\n",
      "sr: 16000 , sig shape: (51883,)\n",
      "length: 3.2426875 secs\n",
      "(20, 38)\n",
      "sr: 16000 , sig shape: (37547,)\n",
      "length: 2.3466875 secs\n",
      "(20, 38)\n",
      "sr: 16000 , sig shape: (27307,)\n",
      "length: 1.7066875 secs\n",
      "(20, 38)\n",
      "sr: 16000 , sig shape: (38230,)\n",
      "length: 2.389375 secs\n",
      "(20, 38)\n",
      "sr: 16000 , sig shape: (38913,)\n",
      "length: 2.4320625 secs\n",
      "(20, 38)\n",
      "sr: 16000 , sig shape: (38571,)\n",
      "length: 2.4106875 secs\n",
      "(20, 38)\n",
      "sr: 16000 , sig shape: (37547,)\n",
      "length: 2.3466875 secs\n",
      "(20, 38)\n",
      "sr: 16000 , sig shape: (44800,)\n",
      "length: 2.8 secs\n",
      "(20, 38)\n",
      "sr: 16000 , sig shape: (47788,)\n",
      "length: 2.98675 secs\n",
      "(20, 38)\n"
     ]
    },
    {
     "name": "stderr",
     "output_type": "stream",
     "text": [
      "C:\\Users\\yutan\\anaconda3\\envs\\tensorflow\\lib\\site-packages\\ipykernel_launcher.py:51: FutureWarning: Pass y=[-0.01281738 -0.01837158 -0.02587891 ... -0.00579834  0.\n",
      " -0.00875854], sr=16000 as keyword args. From version 0.10 passing these as positional arguments will result in an error\n"
     ]
    },
    {
     "name": "stdout",
     "output_type": "stream",
     "text": [
      "sr: 16000 , sig shape: (35840,)\n",
      "length: 2.24 secs\n",
      "(20, 38)\n",
      "sr: 16000 , sig shape: (49153,)\n",
      "length: 3.0720625 secs\n",
      "(20, 38)\n",
      "sr: 16000 , sig shape: (48214,)\n",
      "length: 3.013375 secs\n",
      "(20, 38)\n",
      "sr: 16000 , sig shape: (51883,)\n",
      "length: 3.2426875 secs\n",
      "(20, 38)\n",
      "sr: 16000 , sig shape: (38913,)\n",
      "length: 2.4320625 secs\n",
      "(20, 38)\n"
     ]
    },
    {
     "name": "stderr",
     "output_type": "stream",
     "text": [
      "C:\\Users\\yutan\\anaconda3\\envs\\tensorflow\\lib\\site-packages\\ipykernel_launcher.py:51: FutureWarning: Pass y=[-0.00186157  0.00158691 -0.00387573 ...  0.0005188  -0.003479\n",
      "  0.01107788], sr=16000 as keyword args. From version 0.10 passing these as positional arguments will result in an error\n",
      "C:\\Users\\yutan\\anaconda3\\envs\\tensorflow\\lib\\site-packages\\ipykernel_launcher.py:51: FutureWarning: Pass y=[ 0.04980469  0.05532837  0.03942871 ...  0.00997925  0.00256348\n",
      " -0.00488281], sr=16000 as keyword args. From version 0.10 passing these as positional arguments will result in an error\n"
     ]
    },
    {
     "name": "stdout",
     "output_type": "stream",
     "text": [
      "sr: 16000 , sig shape: (44800,)\n",
      "length: 2.8 secs\n",
      "(20, 38)\n",
      "sr: 16000 , sig shape: (38230,)\n",
      "length: 2.389375 secs\n",
      "(20, 38)\n",
      "sr: 16000 , sig shape: (37547,)\n",
      "length: 2.3466875 secs\n",
      "(20, 38)\n",
      "sr: 16000 , sig shape: (35840,)\n",
      "length: 2.24 secs\n",
      "(20, 38)\n",
      "sr: 16000 , sig shape: (35840,)\n",
      "length: 2.24 secs\n",
      "(20, 38)\n",
      "sr: 16000 , sig shape: (48214,)\n",
      "length: 3.013375 secs\n",
      "(20, 38)\n",
      "sr: 16000 , sig shape: (27307,)\n",
      "length: 1.7066875 secs\n",
      "(20, 38)\n"
     ]
    },
    {
     "name": "stderr",
     "output_type": "stream",
     "text": [
      "C:\\Users\\yutan\\anaconda3\\envs\\tensorflow\\lib\\site-packages\\ipykernel_launcher.py:51: FutureWarning: Pass y=[-0.00665283 -0.00244141  0.00094604 ... -0.00708008  0.0045166\n",
      "  0.00454712], sr=16000 as keyword args. From version 0.10 passing these as positional arguments will result in an error\n"
     ]
    },
    {
     "name": "stdout",
     "output_type": "stream",
     "text": [
      "sr: 16000 , sig shape: (27307,)\n",
      "length: 1.7066875 secs\n",
      "(20, 38)\n",
      "sr: 16000 , sig shape: (38571,)\n",
      "length: 2.4106875 secs\n",
      "(20, 38)\n",
      "sr: 16000 , sig shape: (48214,)\n",
      "length: 3.013375 secs\n",
      "(20, 38)\n",
      "sr: 16000 , sig shape: (47788,)\n",
      "length: 2.98675 secs\n",
      "(20, 38)\n",
      "sr: 16000 , sig shape: (38913,)\n",
      "length: 2.4320625 secs\n",
      "(20, 38)\n",
      "sr: 16000 , sig shape: (34134,)\n",
      "length: 2.133375 secs\n",
      "(20, 38)\n",
      "sr: 16000 , sig shape: (41388,)\n",
      "length: 2.58675 secs\n",
      "(20, 38)\n",
      "sr: 16000 , sig shape: (38230,)\n",
      "length: 2.389375 secs\n",
      "(20, 38)\n",
      "sr: 16000 , sig shape: (27307,)\n",
      "length: 1.7066875 secs\n",
      "(20, 38)\n",
      "sr: 16000 , sig shape: (38230,)\n",
      "length: 2.389375 secs\n",
      "(20, 38)\n",
      "sr: 16000 , sig shape: (38571,)\n",
      "length: 2.4106875 secs\n",
      "(20, 38)\n",
      "sr: 16000 , sig shape: (34134,)\n",
      "length: 2.133375 secs\n",
      "(20, 38)\n",
      "sr: 16000 , sig shape: (38230,)\n",
      "length: 2.389375 secs\n",
      "(20, 38)\n"
     ]
    },
    {
     "name": "stderr",
     "output_type": "stream",
     "text": [
      "C:\\Users\\yutan\\anaconda3\\envs\\tensorflow\\lib\\site-packages\\ipykernel_launcher.py:51: FutureWarning: Pass y=[ 0.00778198 -0.00067139 -0.00549316 ...  0.00418091  0.00286865\n",
      "  0.00540161], sr=16000 as keyword args. From version 0.10 passing these as positional arguments will result in an error\n"
     ]
    },
    {
     "name": "stdout",
     "output_type": "stream",
     "text": [
      "sr: 16000 , sig shape: (38571,)\n",
      "length: 2.4106875 secs\n",
      "(20, 38)\n",
      "sr: 16000 , sig shape: (38913,)\n",
      "length: 2.4320625 secs\n",
      "(20, 38)\n",
      "sr: 16000 , sig shape: (51883,)\n",
      "length: 3.2426875 secs\n",
      "(20, 38)\n",
      "sr: 16000 , sig shape: (35840,)\n",
      "length: 2.24 secs\n",
      "(20, 38)\n",
      "sr: 16000 , sig shape: (35840,)\n",
      "length: 2.24 secs\n",
      "(20, 38)\n"
     ]
    },
    {
     "name": "stderr",
     "output_type": "stream",
     "text": [
      "C:\\Users\\yutan\\anaconda3\\envs\\tensorflow\\lib\\site-packages\\ipykernel_launcher.py:51: FutureWarning: Pass y=[ 0.04754639  0.05636597  0.04660034 ... -0.00445557  0.00384521\n",
      "  0.00283813], sr=16000 as keyword args. From version 0.10 passing these as positional arguments will result in an error\n"
     ]
    },
    {
     "name": "stdout",
     "output_type": "stream",
     "text": [
      "sr: 16000 , sig shape: (51883,)\n",
      "length: 3.2426875 secs\n",
      "(20, 38)\n",
      "sr: 16000 , sig shape: (35840,)\n",
      "length: 2.24 secs\n",
      "(20, 38)\n",
      "sr: 16000 , sig shape: (37547,)\n",
      "length: 2.3466875 secs\n",
      "(20, 38)\n",
      "sr: 16000 , sig shape: (44800,)\n",
      "length: 2.8 secs\n",
      "(20, 38)\n",
      "sr: 16000 , sig shape: (33110,)\n",
      "length: 2.069375 secs\n",
      "(20, 38)\n",
      "sr: 16000 , sig shape: (48641,)\n",
      "length: 3.0400625 secs\n",
      "(20, 38)\n",
      "sr: 16000 , sig shape: (38230,)\n",
      "length: 2.389375 secs\n",
      "(20, 38)\n"
     ]
    },
    {
     "name": "stderr",
     "output_type": "stream",
     "text": [
      "C:\\Users\\yutan\\anaconda3\\envs\\tensorflow\\lib\\site-packages\\ipykernel_launcher.py:51: FutureWarning: Pass y=[-0.00421143  0.00497437  0.00198364 ... -0.00668335  0.00143433\n",
      "  0.00158691], sr=16000 as keyword args. From version 0.10 passing these as positional arguments will result in an error\n",
      "C:\\Users\\yutan\\anaconda3\\envs\\tensorflow\\lib\\site-packages\\ipykernel_launcher.py:51: FutureWarning: Pass y=[ 0.01190186 -0.00445557 -0.00061035 ...  0.00216675  0.00247192\n",
      " -0.00518799], sr=16000 as keyword args. From version 0.10 passing these as positional arguments will result in an error\n"
     ]
    },
    {
     "name": "stdout",
     "output_type": "stream",
     "text": [
      "sr: 16000 , sig shape: (37547,)\n",
      "length: 2.3466875 secs\n",
      "(20, 38)\n",
      "sr: 16000 , sig shape: (38571,)\n",
      "length: 2.4106875 secs\n",
      "(20, 38)\n",
      "sr: 16000 , sig shape: (46934,)\n",
      "length: 2.933375 secs\n",
      "(20, 38)\n",
      "sr: 16000 , sig shape: (48214,)\n",
      "length: 3.013375 secs\n",
      "(20, 38)\n",
      "sr: 16000 , sig shape: (38913,)\n",
      "length: 2.4320625 secs\n",
      "(20, 38)\n",
      "sr: 16000 , sig shape: (35840,)\n",
      "length: 2.24 secs\n",
      "(20, 38)\n",
      "sr: 16000 , sig shape: (35840,)\n",
      "length: 2.24 secs\n",
      "(20, 38)\n",
      "sr: 16000 , sig shape: (35840,)\n",
      "length: 2.24 secs\n",
      "(20, 38)\n"
     ]
    },
    {
     "name": "stderr",
     "output_type": "stream",
     "text": [
      "C:\\Users\\yutan\\anaconda3\\envs\\tensorflow\\lib\\site-packages\\ipykernel_launcher.py:51: FutureWarning: Pass y=[ 0.05325317  0.06002808  0.04058838 ...  0.00222778 -0.00326538\n",
      " -0.00085449], sr=16000 as keyword args. From version 0.10 passing these as positional arguments will result in an error\n"
     ]
    },
    {
     "name": "stdout",
     "output_type": "stream",
     "text": [
      "sr: 16000 , sig shape: (49153,)\n",
      "length: 3.0720625 secs\n",
      "(20, 38)\n",
      "sr: 16000 , sig shape: (47788,)\n",
      "length: 2.98675 secs\n",
      "(20, 38)\n",
      "sr: 16000 , sig shape: (46934,)\n",
      "length: 2.933375 secs\n",
      "(20, 38)\n",
      "sr: 16000 , sig shape: (38913,)\n",
      "length: 2.4320625 secs\n",
      "(20, 38)\n",
      "sr: 16000 , sig shape: (35840,)\n",
      "length: 2.24 secs\n",
      "(20, 38)\n",
      "sr: 16000 , sig shape: (44800,)\n",
      "length: 2.8 secs\n",
      "(20, 38)\n",
      "sr: 16000 , sig shape: (35840,)\n",
      "length: 2.24 secs\n",
      "(20, 38)\n",
      "sr: 16000 , sig shape: (38571,)\n",
      "length: 2.4106875 secs\n",
      "(20, 38)\n",
      "sr: 16000 , sig shape: (38571,)\n",
      "length: 2.4106875 secs\n"
     ]
    },
    {
     "name": "stderr",
     "output_type": "stream",
     "text": [
      "C:\\Users\\yutan\\anaconda3\\envs\\tensorflow\\lib\\site-packages\\ipykernel_launcher.py:51: FutureWarning: Pass y=[ 0.0597229   0.05187988  0.04797363 ...  0.00161743  0.00033569\n",
      " -0.0017395 ], sr=16000 as keyword args. From version 0.10 passing these as positional arguments will result in an error\n",
      "C:\\Users\\yutan\\anaconda3\\envs\\tensorflow\\lib\\site-packages\\ipykernel_launcher.py:51: FutureWarning: Pass y=[-0.01367188 -0.01953125 -0.01879883 ...  0.00292969  0.00231934\n",
      " -0.00643921], sr=16000 as keyword args. From version 0.10 passing these as positional arguments will result in an error\n"
     ]
    },
    {
     "name": "stdout",
     "output_type": "stream",
     "text": [
      "(20, 38)\n",
      "sr: 16000 , sig shape: (51883,)\n",
      "length: 3.2426875 secs\n",
      "(20, 38)\n",
      "sr: 16000 , sig shape: (51883,)\n",
      "length: 3.2426875 secs\n",
      "(20, 38)\n",
      "sr: 16000 , sig shape: (51883,)\n",
      "length: 3.2426875 secs\n",
      "(20, 38)\n",
      "sr: 16000 , sig shape: (38913,)\n",
      "length: 2.4320625 secs\n",
      "(20, 38)\n",
      "sr: 16000 , sig shape: (38230,)\n",
      "length: 2.389375 secs\n",
      "(20, 38)\n",
      "sr: 16000 , sig shape: (37547,)\n",
      "length: 2.3466875 secs\n",
      "(20, 38)\n",
      "sr: 16000 , sig shape: (48641,)\n",
      "length: 3.0400625 secs\n",
      "(20, 38)\n",
      "sr: 16000 , sig shape: (27307,)\n",
      "length: 1.7066875 secs\n",
      "(20, 38)\n",
      "sr: 16000 , sig shape: (34134,)\n",
      "length: 2.133375 secs\n",
      "(20, 38)\n",
      "sr: 16000 , sig shape: (38913,)\n",
      "length: 2.4320625 secs\n",
      "(20, 38)\n",
      "sr: 16000 , sig shape: (38913,)\n",
      "length: 2.4320625 secs\n",
      "(20, 38)\n",
      "sr: 16000 , sig shape: (38230,)\n",
      "length: 2.389375 secs\n",
      "(20, 38)\n",
      "sr: 16000 , sig shape: (37547,)\n",
      "length: 2.3466875 secs\n",
      "(20, 38)\n",
      "sr: 16000 , sig shape: (48214,)\n",
      "length: 3.013375 secs\n",
      "(20, 38)\n",
      "sr: 16000 , sig shape: (33110,)\n",
      "length: 2.069375 secs\n",
      "(20, 38)\n"
     ]
    },
    {
     "name": "stderr",
     "output_type": "stream",
     "text": [
      "C:\\Users\\yutan\\anaconda3\\envs\\tensorflow\\lib\\site-packages\\ipykernel_launcher.py:51: FutureWarning: Pass y=[-0.00360107 -0.00183105 -0.00119019 ... -0.00045776  0.00170898\n",
      "  0.01309204], sr=16000 as keyword args. From version 0.10 passing these as positional arguments will result in an error\n",
      "C:\\Users\\yutan\\anaconda3\\envs\\tensorflow\\lib\\site-packages\\ipykernel_launcher.py:51: FutureWarning: Pass y=[-0.00537109 -0.01361084 -0.01303101 ... -0.0062561   0.00552368\n",
      "  0.00097656], sr=16000 as keyword args. From version 0.10 passing these as positional arguments will result in an error\n",
      "C:\\Users\\yutan\\anaconda3\\envs\\tensorflow\\lib\\site-packages\\ipykernel_launcher.py:51: FutureWarning: Pass y=[ 0.00283813  0.0038147  -0.003479   ... -0.00585938  0.00741577\n",
      " -0.00372314], sr=16000 as keyword args. From version 0.10 passing these as positional arguments will result in an error\n",
      "C:\\Users\\yutan\\anaconda3\\envs\\tensorflow\\lib\\site-packages\\ipykernel_launcher.py:51: FutureWarning: Pass y=[ 0.00024414  0.00143433 -0.00442505 ...  0.00408936 -0.00799561\n",
      " -0.00271606], sr=16000 as keyword args. From version 0.10 passing these as positional arguments will result in an error\n",
      "C:\\Users\\yutan\\anaconda3\\envs\\tensorflow\\lib\\site-packages\\ipykernel_launcher.py:51: FutureWarning: Pass y=[ 0.01904297  0.01260376  0.00744629 ... -0.00256348 -0.0071106\n",
      " -0.00494385], sr=16000 as keyword args. From version 0.10 passing these as positional arguments will result in an error\n",
      "C:\\Users\\yutan\\anaconda3\\envs\\tensorflow\\lib\\site-packages\\ipykernel_launcher.py:51: FutureWarning: Pass y=[-0.00500488  0.00134277  0.00595093 ... -0.00698853 -0.00701904\n",
      " -0.00704956], sr=16000 as keyword args. From version 0.10 passing these as positional arguments will result in an error\n"
     ]
    },
    {
     "name": "stdout",
     "output_type": "stream",
     "text": [
      "sr: 16000 , sig shape: (38230,)\n",
      "length: 2.389375 secs\n",
      "(20, 38)\n",
      "sr: 16000 , sig shape: (38913,)\n",
      "length: 2.4320625 secs\n",
      "(20, 38)\n",
      "sr: 16000 , sig shape: (37547,)\n",
      "length: 2.3466875 secs\n",
      "(20, 38)\n",
      "sr: 16000 , sig shape: (47788,)\n",
      "length: 2.98675 secs\n",
      "(20, 38)\n",
      "sr: 16000 , sig shape: (27307,)\n",
      "length: 1.7066875 secs\n",
      "(20, 38)\n",
      "sr: 16000 , sig shape: (38913,)\n",
      "length: 2.4320625 secs\n",
      "(20, 38)\n",
      "sr: 16000 , sig shape: (33110,)\n",
      "length: 2.069375 secs\n",
      "(20, 38)\n"
     ]
    },
    {
     "name": "stderr",
     "output_type": "stream",
     "text": [
      "C:\\Users\\yutan\\anaconda3\\envs\\tensorflow\\lib\\site-packages\\ipykernel_launcher.py:51: FutureWarning: Pass y=[ 0.00393677  0.00021362  0.00866699 ... -0.0050354   0.0010376\n",
      "  0.00088501], sr=16000 as keyword args. From version 0.10 passing these as positional arguments will result in an error\n",
      "C:\\Users\\yutan\\anaconda3\\envs\\tensorflow\\lib\\site-packages\\ipykernel_launcher.py:51: FutureWarning: Pass y=[-0.00158691 -0.00476074  0.00299072 ...  0.00210571 -0.00332642\n",
      "  0.00332642], sr=16000 as keyword args. From version 0.10 passing these as positional arguments will result in an error\n"
     ]
    },
    {
     "name": "stdout",
     "output_type": "stream",
     "text": [
      "sr: 16000 , sig shape: (38571,)\n",
      "length: 2.4106875 secs\n",
      "(20, 38)\n",
      "sr: 16000 , sig shape: (38571,)\n",
      "length: 2.4106875 secs\n",
      "(20, 38)\n",
      "sr: 16000 , sig shape: (37547,)\n",
      "length: 2.3466875 secs\n",
      "(20, 38)\n",
      "sr: 16000 , sig shape: (51883,)\n",
      "length: 3.2426875 secs\n",
      "(20, 38)\n"
     ]
    },
    {
     "name": "stderr",
     "output_type": "stream",
     "text": [
      "C:\\Users\\yutan\\anaconda3\\envs\\tensorflow\\lib\\site-packages\\ipykernel_launcher.py:51: FutureWarning: Pass y=[-0.00057983 -0.00772095 -0.00714111 ... -0.01116943 -0.00820923\n",
      " -0.00396729], sr=16000 as keyword args. From version 0.10 passing these as positional arguments will result in an error\n"
     ]
    },
    {
     "name": "stdout",
     "output_type": "stream",
     "text": [
      "sr: 16000 , sig shape: (27307,)\n",
      "length: 1.7066875 secs\n",
      "(20, 38)\n",
      "sr: 16000 , sig shape: (33110,)\n",
      "length: 2.069375 secs\n",
      "(20, 38)\n",
      "sr: 16000 , sig shape: (38571,)\n",
      "length: 2.4106875 secs\n",
      "(20, 38)\n",
      "sr: 16000 , sig shape: (38230,)\n",
      "length: 2.389375 secs\n",
      "(20, 38)\n",
      "sr: 16000 , sig shape: (38230,)\n",
      "length: 2.389375 secs\n",
      "(20, 38)\n"
     ]
    },
    {
     "name": "stderr",
     "output_type": "stream",
     "text": [
      "C:\\Users\\yutan\\anaconda3\\envs\\tensorflow\\lib\\site-packages\\ipykernel_launcher.py:51: FutureWarning: Pass y=[ 0.0140686   0.012146   -0.00570679 ...  0.0027771  -0.00030518\n",
      "  0.00396729], sr=16000 as keyword args. From version 0.10 passing these as positional arguments will result in an error\n"
     ]
    },
    {
     "name": "stdout",
     "output_type": "stream",
     "text": [
      "sr: 16000 , sig shape: (38913,)\n",
      "length: 2.4320625 secs\n",
      "(20, 38)\n",
      "sr: 16000 , sig shape: (38230,)\n",
      "length: 2.389375 secs\n",
      "(20, 38)\n",
      "sr: 16000 , sig shape: (33110,)\n",
      "length: 2.069375 secs\n",
      "(20, 38)\n",
      "sr: 16000 , sig shape: (38230,)\n",
      "length: 2.389375 secs\n",
      "(20, 38)\n"
     ]
    },
    {
     "name": "stderr",
     "output_type": "stream",
     "text": [
      "C:\\Users\\yutan\\anaconda3\\envs\\tensorflow\\lib\\site-packages\\ipykernel_launcher.py:51: FutureWarning: Pass y=[ 0.01428223 -0.00015259  0.00448608 ...  0.00424194 -0.00036621\n",
      " -0.00354004], sr=16000 as keyword args. From version 0.10 passing these as positional arguments will result in an error\n"
     ]
    },
    {
     "name": "stdout",
     "output_type": "stream",
     "text": [
      "sr: 16000 , sig shape: (38571,)\n",
      "length: 2.4106875 secs\n",
      "(20, 38)\n",
      "sr: 16000 , sig shape: (38230,)\n",
      "length: 2.389375 secs\n",
      "(20, 38)\n",
      "sr: 16000 , sig shape: (38230,)\n",
      "length: 2.389375 secs\n",
      "(20, 38)\n"
     ]
    },
    {
     "name": "stderr",
     "output_type": "stream",
     "text": [
      "C:\\Users\\yutan\\anaconda3\\envs\\tensorflow\\lib\\site-packages\\ipykernel_launcher.py:51: FutureWarning: Pass y=[ 0.00378418 -0.00054932 -0.00054932 ...  0.00256348  0.00369263\n",
      "  0.00476074], sr=16000 as keyword args. From version 0.10 passing these as positional arguments will result in an error\n"
     ]
    },
    {
     "name": "stdout",
     "output_type": "stream",
     "text": [
      "sr: 16000 , sig shape: (31745,)\n",
      "length: 1.9840625 secs\n",
      "(20, 38)\n",
      "sr: 16000 , sig shape: (51883,)\n",
      "length: 3.2426875 secs\n",
      "(20, 38)\n",
      "sr: 16000 , sig shape: (38230,)\n",
      "length: 2.389375 secs\n"
     ]
    },
    {
     "name": "stderr",
     "output_type": "stream",
     "text": [
      "C:\\Users\\yutan\\anaconda3\\envs\\tensorflow\\lib\\site-packages\\ipykernel_launcher.py:51: FutureWarning: Pass y=[ 0.01119995  0.00170898 -0.01348877 ...  0.00537109 -0.00289917\n",
      " -0.00045776], sr=16000 as keyword args. From version 0.10 passing these as positional arguments will result in an error\n"
     ]
    },
    {
     "name": "stdout",
     "output_type": "stream",
     "text": [
      "(20, 38)\n",
      "sr: 16000 , sig shape: (38913,)\n",
      "length: 2.4320625 secs\n",
      "(20, 38)\n",
      "sr: 16000 , sig shape: (35840,)\n",
      "length: 2.24 secs\n",
      "(20, 38)\n",
      "Train 잃은거0.0\n",
      "Valid 잃은거0.0\n",
      "Test 잃은거0.0\n"
     ]
    }
   ],
   "source": [
    "x_train, y_train, prob_train = extract_features(filenames_train, y_orig_train)\n",
    "x_val, y_val, prob_val = extract_features(filenames_val, y_orig_val)\n",
    "x_test, y_test, prob_test = extract_features(filenames_test, y_orig_test)\n",
    "\n",
    "print(\"Train 잃은거{}\".format(prob_train / len(y_orig_train)))\n",
    "print(\"Valid 잃은거{}\".format(prob_val / len(y_orig_val)))\n",
    "print(\"Test 잃은거{}\".format(prob_test / len(y_orig_test)))"
   ]
  },
  {
   "cell_type": "code",
   "execution_count": 20,
   "metadata": {
    "colab": {
     "base_uri": "https://localhost:8080/"
    },
    "executionInfo": {
     "elapsed": 45,
     "status": "ok",
     "timestamp": 1648628769325,
     "user": {
      "displayName": "김유탄",
      "userId": "04011767612525493979"
     },
     "user_tz": -540
    },
    "id": "DJWKGLRO1wSc",
    "outputId": "2eb5998a-98c4-44a6-b853-368d51cc16ea"
   },
   "outputs": [
    {
     "name": "stdout",
     "output_type": "stream",
     "text": [
      "(159, 20, 38)\n",
      "(159,)\n",
      "(53, 20, 38)\n",
      "(53,)\n",
      "(53, 20, 38)\n",
      "(53,)\n"
     ]
    }
   ],
   "source": [
    "print(np.array(x_train).shape)\n",
    "print(np.array(y_train).shape)\n",
    "print(np.array(x_val).shape)\n",
    "print(np.array(y_val).shape)\n",
    "print(np.array(x_test).shape)\n",
    "print(np.array(y_test).shape)"
   ]
  },
  {
   "cell_type": "code",
   "execution_count": 21,
   "metadata": {
    "executionInfo": {
     "elapsed": 44,
     "status": "ok",
     "timestamp": 1648628769326,
     "user": {
      "displayName": "김유탄",
      "userId": "04011767612525493979"
     },
     "user_tz": -540
    },
    "id": "BFEyc1kIG2oC"
   },
   "outputs": [],
   "source": [
    "# 학습에 사용할 모든 - MFCC 까지 모두 진행한 정보들\n",
    "#저장 할 곳\n",
    "np.savez(base_path +\"mfcc_set.npz\", \n",
    "         x_train=x_train, \n",
    "         y_train=y_train, \n",
    "         x_val=x_val, \n",
    "         y_val=y_val, \n",
    "         x_test=x_test, \n",
    "         y_test=y_test)"
   ]
  },
  {
   "cell_type": "markdown",
   "metadata": {
    "id": "ugEWbEECEdR0"
   },
   "source": [
    "# 모델 학습"
   ]
  },
  {
   "cell_type": "code",
   "execution_count": 22,
   "metadata": {
    "executionInfo": {
     "elapsed": 43,
     "status": "ok",
     "timestamp": 1648628769327,
     "user": {
      "displayName": "김유탄",
      "userId": "04011767612525493979"
     },
     "user_tz": -540
    },
    "id": "UORwgpYuFs3a"
   },
   "outputs": [],
   "source": [
    "# 나중에 저장할 모델 - 2진 분류\n",
    "model_filename = 'hi_yutan_original_model.h5'\n",
    "wake_word = 'hi_yutan'\n",
    "feature_sets = np.load( base_path + \"mfcc_set.npz\")\n",
    "\n",
    "# 저장되어 있는 mfcc feature 들 불러 오기\n",
    "x_train = feature_sets['x_train']\n",
    "y_train = feature_sets['y_train']\n",
    "x_val = feature_sets['x_val']\n",
    "y_val = feature_sets['y_val']\n",
    "x_test = feature_sets['x_test']\n",
    "y_test = feature_sets['y_test']"
   ]
  },
  {
   "cell_type": "code",
   "execution_count": 23,
   "metadata": {
    "colab": {
     "base_uri": "https://localhost:8080/"
    },
    "executionInfo": {
     "elapsed": 43,
     "status": "ok",
     "timestamp": 1648628769328,
     "user": {
      "displayName": "김유탄",
      "userId": "04011767612525493979"
     },
     "user_tz": -540
    },
    "id": "iOdWs4rVoNX-",
    "outputId": "406a7c59-967f-427e-9919-1312703dcca0"
   },
   "outputs": [
    {
     "name": "stdout",
     "output_type": "stream",
     "text": [
      "(159, 20, 38)\n",
      "(53, 20, 38)\n",
      "(53, 20, 38)\n"
     ]
    }
   ],
   "source": [
    "print(x_train.shape)\n",
    "print(x_val.shape)\n",
    "print(x_test.shape)"
   ]
  },
  {
   "cell_type": "code",
   "execution_count": 24,
   "metadata": {
    "colab": {
     "base_uri": "https://localhost:8080/"
    },
    "executionInfo": {
     "elapsed": 39,
     "status": "ok",
     "timestamp": 1648628769329,
     "user": {
      "displayName": "김유탄",
      "userId": "04011767612525493979"
     },
     "user_tz": -540
    },
    "id": "gNjK8_proNIH",
    "outputId": "f425f295-b71f-4bb3-fd4f-ab2be5962543"
   },
   "outputs": [
    {
     "name": "stdout",
     "output_type": "stream",
     "text": [
      "0\n"
     ]
    }
   ],
   "source": [
    "# 내가 수행 하고 싶은 \"기동어\" 설정\n",
    "# index (나는 하나니까 0) 이면, True 또는 False 반환 해주기 - 1아니면 0 ]\n",
    "wake_word_index = target_list.index(wake_word)\n",
    "y_train = np.equal(y_train, wake_word_index).astype('float64')\n",
    "y_val = np.equal(y_val, wake_word_index).astype('float64')\n",
    "y_test = np.equal(y_test, wake_word_index).astype('float64')\n",
    "print(wake_word_index)"
   ]
  },
  {
   "cell_type": "code",
   "execution_count": 25,
   "metadata": {
    "colab": {
     "base_uri": "https://localhost:8080/"
    },
    "executionInfo": {
     "elapsed": 39,
     "status": "ok",
     "timestamp": 1648628769330,
     "user": {
      "displayName": "김유탄",
      "userId": "04011767612525493979"
     },
     "user_tz": -540
    },
    "id": "eFsT1UyyoNbG",
    "outputId": "277ec184-6460-43c2-fea4-bacede8b4cf0"
   },
   "outputs": [
    {
     "name": "stdout",
     "output_type": "stream",
     "text": [
      "(159, 20, 38, 1)\n",
      "(53, 20, 38, 1)\n",
      "(53, 20, 38, 1)\n",
      "(20, 38, 1)\n"
     ]
    }
   ],
   "source": [
    "# CNN 에 넣기 이전에 Channel을 1로 만들어주기\n",
    "\n",
    "x_train = x_train.reshape(x_train.shape[0], \n",
    "                          x_train.shape[1], \n",
    "                          x_train.shape[2], \n",
    "                          1)\n",
    "x_val = x_val.reshape(x_val.shape[0], \n",
    "                      x_val.shape[1], \n",
    "                      x_val.shape[2], \n",
    "                      1)\n",
    "x_test = x_test.reshape(x_test.shape[0], \n",
    "                        x_test.shape[1], \n",
    "                        x_test.shape[2], \n",
    "                        1)\n",
    "print(x_train.shape)\n",
    "print(x_val.shape)\n",
    "print(x_test.shape)\n",
    "\n",
    "sample_shape = x_test.shape[1:]\n",
    "print(sample_shape)"
   ]
  },
  {
   "cell_type": "code",
   "execution_count": 26,
   "metadata": {
    "colab": {
     "base_uri": "https://localhost:8080/"
    },
    "executionInfo": {
     "elapsed": 38,
     "status": "ok",
     "timestamp": 1648628769330,
     "user": {
      "displayName": "김유탄",
      "userId": "04011767612525493979"
     },
     "user_tz": -540
    },
    "id": "TllWIRQ8NHt6",
    "outputId": "4e42d621-fa51-4bed-f871-c74862032835"
   },
   "outputs": [
    {
     "name": "stdout",
     "output_type": "stream",
     "text": [
      "Model: \"sequential_2\"\n",
      "_________________________________________________________________\n",
      "Layer (type)                 Output Shape              Param #   \n",
      "=================================================================\n",
      "sequential (Sequential)      (None, 1, 2, 128)         92672     \n",
      "_________________________________________________________________\n",
      "sequential_1 (Sequential)    (None, 1)                 49537     \n",
      "=================================================================\n",
      "Total params: 142,209\n",
      "Trainable params: 142,209\n",
      "Non-trainable params: 0\n",
      "_________________________________________________________________\n"
     ]
    }
   ],
   "source": [
    "# 모델 Conv-layer \n",
    "conv_layer = keras.Sequential([\n",
    "                             layers.Conv2D(32, (3,3), activation = 'relu', input_shape = sample_shape,padding='same'),\n",
    "                             layers.MaxPooling2D(pool_size=(3, 3)),\n",
    "                             layers.Conv2D(64, (3, 3), activation='relu',padding='same'),\n",
    "                             layers.MaxPooling2D(pool_size=(3, 3)),\n",
    "                             layers.Conv2D(128, (3, 3), activation='relu',padding='same'),\n",
    "                             layers.MaxPooling2D(pool_size=(3, 3),padding='same')\n",
    "                             ])\n",
    "\n",
    "\n",
    "# FC layer는 다른거 사용   --  Class 10 개 분류\n",
    "fc_layer = keras.Sequential([\n",
    "                             layers.Flatten(),\n",
    "                             layers.Dense(128, activation = 'relu'),\n",
    "                             layers.Dropout(0.5),\n",
    "                             layers.Dense(128, activation = 'relu'),\n",
    "                             layers.Dropout(0.5),\n",
    "                             layers.Dense(1, activation = \"sigmoid\")\n",
    "                             ])\n",
    "\n",
    "model = keras.Sequential([conv_layer,\n",
    "                          fc_layer\n",
    "                          ])\n",
    "model.summary()"
   ]
  },
  {
   "cell_type": "code",
   "execution_count": 27,
   "metadata": {
    "executionInfo": {
     "elapsed": 27,
     "status": "ok",
     "timestamp": 1648628769330,
     "user": {
      "displayName": "김유탄",
      "userId": "04011767612525493979"
     },
     "user_tz": -540
    },
    "id": "wnQ9lmkPOWzo"
   },
   "outputs": [],
   "source": [
    "# Callback 함수 지정 해주기      학습하는 동안 설정해줄것\n",
    "early_stop = EarlyStopping(patience=30) \n",
    "mc = ModelCheckpoint(base_path + \"best_model/wake_up_word_model\", \n",
    "                     save_best_only=True,\n",
    "                     monitor = 'val_loss',\n",
    "                     verbose = 1,\n",
    "                     mode = 'min') \n",
    "reduce_lr  = ReduceLROnPlateau(monitor = 'val_loss',\n",
    "                               factor=0.5, \n",
    "                               patience=5\n",
    "                               ) \n",
    "\n",
    "#optimizer 조정 해주기\n",
    "opt = tf.keras.optimizers.Adam(learning_rate=0.0001)"
   ]
  },
  {
   "cell_type": "code",
   "execution_count": 28,
   "metadata": {
    "colab": {
     "base_uri": "https://localhost:8080/"
    },
    "executionInfo": {
     "elapsed": 160931,
     "status": "ok",
     "timestamp": 1648628930234,
     "user": {
      "displayName": "김유탄",
      "userId": "04011767612525493979"
     },
     "user_tz": -540
    },
    "id": "znxHqYi_OW55",
    "outputId": "b4876f57-3796-4bb9-868e-c5b7980e5884"
   },
   "outputs": [
    {
     "name": "stdout",
     "output_type": "stream",
     "text": [
      "Epoch 1/100\n",
      "3/3 [==============================] - 12s 292ms/step - loss: 9.6142 - accuracy: 0.5031 - val_loss: 2.2497 - val_accuracy: 0.7925\n",
      "\n",
      "Epoch 00001: val_loss improved from inf to 2.24970, saving model to ./best_model\\wake_up_word_model\n",
      "INFO:tensorflow:Assets written to: ./best_model\\wake_up_word_model\\assets\n",
      "Epoch 2/100\n",
      "3/3 [==============================] - 0s 25ms/step - loss: 7.0060 - accuracy: 0.6101 - val_loss: 3.0235 - val_accuracy: 0.7925\n",
      "\n",
      "Epoch 00002: val_loss did not improve from 2.24970\n",
      "Epoch 3/100\n",
      "3/3 [==============================] - 0s 28ms/step - loss: 4.5397 - accuracy: 0.6918 - val_loss: 2.9032 - val_accuracy: 0.7925\n",
      "\n",
      "Epoch 00003: val_loss did not improve from 2.24970\n",
      "Epoch 4/100\n",
      "3/3 [==============================] - 0s 30ms/step - loss: 3.5329 - accuracy: 0.7107 - val_loss: 2.3049 - val_accuracy: 0.7925\n",
      "\n",
      "Epoch 00004: val_loss did not improve from 2.24970\n",
      "Epoch 5/100\n",
      "3/3 [==============================] - 0s 28ms/step - loss: 3.8417 - accuracy: 0.7170 - val_loss: 1.4820 - val_accuracy: 0.7925\n",
      "\n",
      "Epoch 00005: val_loss improved from 2.24970 to 1.48197, saving model to ./best_model\\wake_up_word_model\n",
      "INFO:tensorflow:Assets written to: ./best_model\\wake_up_word_model\\assets\n",
      "Epoch 6/100\n",
      "3/3 [==============================] - 0s 26ms/step - loss: 3.2747 - accuracy: 0.6730 - val_loss: 0.7235 - val_accuracy: 0.7925\n",
      "\n",
      "Epoch 00006: val_loss improved from 1.48197 to 0.72346, saving model to ./best_model\\wake_up_word_model\n",
      "INFO:tensorflow:Assets written to: ./best_model\\wake_up_word_model\\assets\n",
      "Epoch 7/100\n",
      "3/3 [==============================] - 0s 25ms/step - loss: 2.5570 - accuracy: 0.7358 - val_loss: 0.2773 - val_accuracy: 0.7925\n",
      "\n",
      "Epoch 00007: val_loss improved from 0.72346 to 0.27734, saving model to ./best_model\\wake_up_word_model\n",
      "INFO:tensorflow:Assets written to: ./best_model\\wake_up_word_model\\assets\n",
      "Epoch 8/100\n",
      "3/3 [==============================] - 0s 31ms/step - loss: 2.8210 - accuracy: 0.6918 - val_loss: 0.0905 - val_accuracy: 0.9623\n",
      "\n",
      "Epoch 00008: val_loss improved from 0.27734 to 0.09045, saving model to ./best_model\\wake_up_word_model\n",
      "INFO:tensorflow:Assets written to: ./best_model\\wake_up_word_model\\assets\n",
      "Epoch 9/100\n",
      "3/3 [==============================] - 0s 29ms/step - loss: 2.6278 - accuracy: 0.6730 - val_loss: 0.0637 - val_accuracy: 1.0000\n",
      "\n",
      "Epoch 00009: val_loss improved from 0.09045 to 0.06375, saving model to ./best_model\\wake_up_word_model\n",
      "INFO:tensorflow:Assets written to: ./best_model\\wake_up_word_model\\assets\n",
      "Epoch 10/100\n",
      "3/3 [==============================] - 0s 29ms/step - loss: 1.4908 - accuracy: 0.7610 - val_loss: 0.0535 - val_accuracy: 1.0000\n",
      "\n",
      "Epoch 00010: val_loss improved from 0.06375 to 0.05354, saving model to ./best_model\\wake_up_word_model\n",
      "INFO:tensorflow:Assets written to: ./best_model\\wake_up_word_model\\assets\n",
      "Epoch 11/100\n",
      "3/3 [==============================] - 0s 26ms/step - loss: 1.7666 - accuracy: 0.7610 - val_loss: 0.0434 - val_accuracy: 1.0000\n",
      "\n",
      "Epoch 00011: val_loss improved from 0.05354 to 0.04338, saving model to ./best_model\\wake_up_word_model\n",
      "INFO:tensorflow:Assets written to: ./best_model\\wake_up_word_model\\assets\n",
      "Epoch 12/100\n",
      "3/3 [==============================] - 0s 28ms/step - loss: 0.6495 - accuracy: 0.8176 - val_loss: 0.0371 - val_accuracy: 1.0000\n",
      "\n",
      "Epoch 00012: val_loss improved from 0.04338 to 0.03712, saving model to ./best_model\\wake_up_word_model\n",
      "INFO:tensorflow:Assets written to: ./best_model\\wake_up_word_model\\assets\n",
      "Epoch 13/100\n",
      "3/3 [==============================] - 0s 24ms/step - loss: 1.1120 - accuracy: 0.8113 - val_loss: 0.0259 - val_accuracy: 1.0000\n",
      "\n",
      "Epoch 00013: val_loss improved from 0.03712 to 0.02588, saving model to ./best_model\\wake_up_word_model\n",
      "INFO:tensorflow:Assets written to: ./best_model\\wake_up_word_model\\assets\n",
      "Epoch 14/100\n",
      "3/3 [==============================] - 0s 28ms/step - loss: 1.0152 - accuracy: 0.8113 - val_loss: 0.0209 - val_accuracy: 1.0000\n",
      "\n",
      "Epoch 00014: val_loss improved from 0.02588 to 0.02087, saving model to ./best_model\\wake_up_word_model\n",
      "INFO:tensorflow:Assets written to: ./best_model\\wake_up_word_model\\assets\n",
      "Epoch 15/100\n",
      "3/3 [==============================] - 0s 26ms/step - loss: 0.7245 - accuracy: 0.8050 - val_loss: 0.0208 - val_accuracy: 1.0000\n",
      "\n",
      "Epoch 00015: val_loss improved from 0.02087 to 0.02076, saving model to ./best_model\\wake_up_word_model\n",
      "INFO:tensorflow:Assets written to: ./best_model\\wake_up_word_model\\assets\n",
      "Epoch 16/100\n",
      "3/3 [==============================] - 0s 29ms/step - loss: 0.7438 - accuracy: 0.7987 - val_loss: 0.0251 - val_accuracy: 1.0000\n",
      "\n",
      "Epoch 00016: val_loss did not improve from 0.02076\n",
      "Epoch 17/100\n",
      "3/3 [==============================] - 0s 29ms/step - loss: 0.5360 - accuracy: 0.8428 - val_loss: 0.0305 - val_accuracy: 1.0000\n",
      "\n",
      "Epoch 00017: val_loss did not improve from 0.02076\n",
      "Epoch 18/100\n",
      "3/3 [==============================] - 0s 29ms/step - loss: 0.6003 - accuracy: 0.8365 - val_loss: 0.0341 - val_accuracy: 1.0000\n",
      "\n",
      "Epoch 00018: val_loss did not improve from 0.02076\n",
      "Epoch 19/100\n",
      "3/3 [==============================] - 0s 28ms/step - loss: 0.3405 - accuracy: 0.8805 - val_loss: 0.0328 - val_accuracy: 1.0000\n",
      "\n",
      "Epoch 00019: val_loss did not improve from 0.02076\n",
      "Epoch 20/100\n",
      "3/3 [==============================] - 0s 44ms/step - loss: 0.1872 - accuracy: 0.9308 - val_loss: 0.0277 - val_accuracy: 1.0000\n",
      "\n",
      "Epoch 00020: val_loss did not improve from 0.02076\n",
      "Epoch 21/100\n",
      "3/3 [==============================] - 0s 63ms/step - loss: 0.2628 - accuracy: 0.9182 - val_loss: 0.0217 - val_accuracy: 1.0000\n",
      "\n",
      "Epoch 00021: val_loss did not improve from 0.02076\n",
      "Epoch 22/100\n",
      "3/3 [==============================] - 0s 29ms/step - loss: 0.2879 - accuracy: 0.8994 - val_loss: 0.0169 - val_accuracy: 1.0000\n",
      "\n",
      "Epoch 00022: val_loss improved from 0.02076 to 0.01694, saving model to ./best_model\\wake_up_word_model\n",
      "INFO:tensorflow:Assets written to: ./best_model\\wake_up_word_model\\assets\n",
      "Epoch 23/100\n",
      "3/3 [==============================] - 0s 28ms/step - loss: 0.3265 - accuracy: 0.9119 - val_loss: 0.0126 - val_accuracy: 1.0000\n",
      "\n",
      "Epoch 00023: val_loss improved from 0.01694 to 0.01264, saving model to ./best_model\\wake_up_word_model\n",
      "INFO:tensorflow:Assets written to: ./best_model\\wake_up_word_model\\assets\n",
      "Epoch 24/100\n",
      "3/3 [==============================] - 0s 34ms/step - loss: 0.3011 - accuracy: 0.9182 - val_loss: 0.0106 - val_accuracy: 1.0000\n",
      "\n",
      "Epoch 00024: val_loss improved from 0.01264 to 0.01061, saving model to ./best_model\\wake_up_word_model\n",
      "INFO:tensorflow:Assets written to: ./best_model\\wake_up_word_model\\assets\n",
      "Epoch 25/100\n",
      "3/3 [==============================] - 0s 30ms/step - loss: 0.1682 - accuracy: 0.9560 - val_loss: 0.0094 - val_accuracy: 1.0000\n",
      "\n",
      "Epoch 00025: val_loss improved from 0.01061 to 0.00938, saving model to ./best_model\\wake_up_word_model\n",
      "INFO:tensorflow:Assets written to: ./best_model\\wake_up_word_model\\assets\n",
      "Epoch 26/100\n",
      "3/3 [==============================] - 0s 26ms/step - loss: 0.2748 - accuracy: 0.8994 - val_loss: 0.0089 - val_accuracy: 1.0000\n",
      "\n",
      "Epoch 00026: val_loss improved from 0.00938 to 0.00893, saving model to ./best_model\\wake_up_word_model\n",
      "INFO:tensorflow:Assets written to: ./best_model\\wake_up_word_model\\assets\n",
      "Epoch 27/100\n",
      "3/3 [==============================] - 0s 27ms/step - loss: 0.1757 - accuracy: 0.9371 - val_loss: 0.0090 - val_accuracy: 1.0000\n",
      "\n",
      "Epoch 00027: val_loss did not improve from 0.00893\n",
      "Epoch 28/100\n",
      "3/3 [==============================] - 0s 29ms/step - loss: 0.1409 - accuracy: 0.9434 - val_loss: 0.0091 - val_accuracy: 1.0000\n",
      "\n",
      "Epoch 00028: val_loss did not improve from 0.00893\n",
      "Epoch 29/100\n",
      "3/3 [==============================] - 0s 26ms/step - loss: 0.0537 - accuracy: 0.9874 - val_loss: 0.0092 - val_accuracy: 1.0000\n",
      "\n",
      "Epoch 00029: val_loss did not improve from 0.00893\n",
      "Epoch 30/100\n",
      "3/3 [==============================] - 0s 37ms/step - loss: 0.1733 - accuracy: 0.9245 - val_loss: 0.0093 - val_accuracy: 1.0000\n",
      "\n",
      "Epoch 00030: val_loss did not improve from 0.00893\n",
      "Epoch 31/100\n",
      "3/3 [==============================] - 0s 58ms/step - loss: 0.1364 - accuracy: 0.9434 - val_loss: 0.0097 - val_accuracy: 1.0000\n",
      "\n",
      "Epoch 00031: val_loss did not improve from 0.00893\n",
      "Epoch 32/100\n"
     ]
    },
    {
     "name": "stdout",
     "output_type": "stream",
     "text": [
      "3/3 [==============================] - 0s 28ms/step - loss: 0.1760 - accuracy: 0.9119 - val_loss: 0.0098 - val_accuracy: 1.0000\n",
      "\n",
      "Epoch 00032: val_loss did not improve from 0.00893\n",
      "Epoch 33/100\n",
      "3/3 [==============================] - 0s 26ms/step - loss: 0.0979 - accuracy: 0.9560 - val_loss: 0.0097 - val_accuracy: 1.0000\n",
      "\n",
      "Epoch 00033: val_loss did not improve from 0.00893\n",
      "Epoch 34/100\n",
      "3/3 [==============================] - 0s 25ms/step - loss: 0.1090 - accuracy: 0.9308 - val_loss: 0.0096 - val_accuracy: 1.0000\n",
      "\n",
      "Epoch 00034: val_loss did not improve from 0.00893\n",
      "Epoch 35/100\n",
      "3/3 [==============================] - 0s 26ms/step - loss: 0.2142 - accuracy: 0.9371 - val_loss: 0.0095 - val_accuracy: 1.0000\n",
      "\n",
      "Epoch 00035: val_loss did not improve from 0.00893\n",
      "Epoch 36/100\n",
      "3/3 [==============================] - 0s 28ms/step - loss: 0.2172 - accuracy: 0.9308 - val_loss: 0.0096 - val_accuracy: 1.0000\n",
      "\n",
      "Epoch 00036: val_loss did not improve from 0.00893\n",
      "Epoch 37/100\n",
      "3/3 [==============================] - 0s 27ms/step - loss: 0.2004 - accuracy: 0.9308 - val_loss: 0.0097 - val_accuracy: 1.0000\n",
      "\n",
      "Epoch 00037: val_loss did not improve from 0.00893\n",
      "Epoch 38/100\n",
      "3/3 [==============================] - 0s 28ms/step - loss: 0.0969 - accuracy: 0.9811 - val_loss: 0.0097 - val_accuracy: 1.0000\n",
      "\n",
      "Epoch 00038: val_loss did not improve from 0.00893\n",
      "Epoch 39/100\n",
      "3/3 [==============================] - 0s 28ms/step - loss: 0.1405 - accuracy: 0.9434 - val_loss: 0.0097 - val_accuracy: 1.0000\n",
      "\n",
      "Epoch 00039: val_loss did not improve from 0.00893\n",
      "Epoch 40/100\n",
      "3/3 [==============================] - 0s 24ms/step - loss: 0.1028 - accuracy: 0.9497 - val_loss: 0.0096 - val_accuracy: 1.0000\n",
      "\n",
      "Epoch 00040: val_loss did not improve from 0.00893\n",
      "Epoch 41/100\n",
      "3/3 [==============================] - 0s 25ms/step - loss: 0.1298 - accuracy: 0.9686 - val_loss: 0.0096 - val_accuracy: 1.0000\n",
      "\n",
      "Epoch 00041: val_loss did not improve from 0.00893\n",
      "Epoch 42/100\n",
      "3/3 [==============================] - 0s 30ms/step - loss: 0.1022 - accuracy: 0.9623 - val_loss: 0.0095 - val_accuracy: 1.0000\n",
      "\n",
      "Epoch 00042: val_loss did not improve from 0.00893\n",
      "Epoch 43/100\n",
      "3/3 [==============================] - 0s 24ms/step - loss: 0.1592 - accuracy: 0.9371 - val_loss: 0.0094 - val_accuracy: 1.0000\n",
      "\n",
      "Epoch 00043: val_loss did not improve from 0.00893\n",
      "Epoch 44/100\n",
      "3/3 [==============================] - 0s 24ms/step - loss: 0.1085 - accuracy: 0.9560 - val_loss: 0.0093 - val_accuracy: 1.0000\n",
      "\n",
      "Epoch 00044: val_loss did not improve from 0.00893\n",
      "Epoch 45/100\n",
      "3/3 [==============================] - 0s 28ms/step - loss: 0.1055 - accuracy: 0.9434 - val_loss: 0.0092 - val_accuracy: 1.0000\n",
      "\n",
      "Epoch 00045: val_loss did not improve from 0.00893\n",
      "Epoch 46/100\n",
      "3/3 [==============================] - 0s 25ms/step - loss: 0.0800 - accuracy: 0.9623 - val_loss: 0.0091 - val_accuracy: 1.0000\n",
      "\n",
      "Epoch 00046: val_loss did not improve from 0.00893\n",
      "Epoch 47/100\n",
      "3/3 [==============================] - 0s 25ms/step - loss: 0.0747 - accuracy: 0.9686 - val_loss: 0.0090 - val_accuracy: 1.0000\n",
      "\n",
      "Epoch 00047: val_loss did not improve from 0.00893\n",
      "Epoch 48/100\n",
      "3/3 [==============================] - 0s 29ms/step - loss: 0.1088 - accuracy: 0.9560 - val_loss: 0.0090 - val_accuracy: 1.0000\n",
      "\n",
      "Epoch 00048: val_loss did not improve from 0.00893\n",
      "Epoch 49/100\n",
      "3/3 [==============================] - 0s 26ms/step - loss: 0.1832 - accuracy: 0.9434 - val_loss: 0.0090 - val_accuracy: 1.0000\n",
      "\n",
      "Epoch 00049: val_loss did not improve from 0.00893\n",
      "Epoch 50/100\n",
      "3/3 [==============================] - 0s 27ms/step - loss: 0.1482 - accuracy: 0.9308 - val_loss: 0.0090 - val_accuracy: 1.0000\n",
      "\n",
      "Epoch 00050: val_loss did not improve from 0.00893\n",
      "Epoch 51/100\n",
      "3/3 [==============================] - 0s 24ms/step - loss: 0.0855 - accuracy: 0.9560 - val_loss: 0.0090 - val_accuracy: 1.0000\n",
      "\n",
      "Epoch 00051: val_loss did not improve from 0.00893\n",
      "Epoch 52/100\n",
      "3/3 [==============================] - 0s 25ms/step - loss: 0.1258 - accuracy: 0.9434 - val_loss: 0.0090 - val_accuracy: 1.0000\n",
      "\n",
      "Epoch 00052: val_loss did not improve from 0.00893\n",
      "Epoch 53/100\n",
      "3/3 [==============================] - 0s 25ms/step - loss: 0.1759 - accuracy: 0.9119 - val_loss: 0.0090 - val_accuracy: 1.0000\n",
      "\n",
      "Epoch 00053: val_loss did not improve from 0.00893\n",
      "Epoch 54/100\n",
      "3/3 [==============================] - 0s 26ms/step - loss: 0.1397 - accuracy: 0.9434 - val_loss: 0.0090 - val_accuracy: 1.0000\n",
      "\n",
      "Epoch 00054: val_loss did not improve from 0.00893\n",
      "Epoch 55/100\n",
      "3/3 [==============================] - 0s 28ms/step - loss: 0.1380 - accuracy: 0.9686 - val_loss: 0.0090 - val_accuracy: 1.0000\n",
      "\n",
      "Epoch 00055: val_loss did not improve from 0.00893\n",
      "Epoch 56/100\n",
      "3/3 [==============================] - 0s 25ms/step - loss: 0.0909 - accuracy: 0.9686 - val_loss: 0.0090 - val_accuracy: 1.0000\n",
      "\n",
      "Epoch 00056: val_loss did not improve from 0.00893\n"
     ]
    }
   ],
   "source": [
    "# optimizer, loss 함수를 정의하고,  학습 준비를 한다,  metrics 는 어떤 일이 발생하는지 보여줄 것들\n",
    "model.compile(optimizer=opt, loss=\"binary_crossentropy\", metrics=[\"accuracy\"])\n",
    "\n",
    "# 한번에 몇개의 데이터 학습하고 가중치 갱신할지 \n",
    "history = model.fit(x_train, y_train,\n",
    "          epochs=100,\n",
    "          verbose=1,\n",
    "          batch_size=64,\n",
    "          #validation_split = 0.1\n",
    "          validation_data = (x_val, y_val),\n",
    "          callbacks = [early_stop, reduce_lr , mc]\n",
    "          )"
   ]
  },
  {
   "cell_type": "code",
   "execution_count": 29,
   "metadata": {
    "colab": {
     "base_uri": "https://localhost:8080/",
     "height": 264
    },
    "executionInfo": {
     "elapsed": 551,
     "status": "ok",
     "timestamp": 1648628930769,
     "user": {
      "displayName": "김유탄",
      "userId": "04011767612525493979"
     },
     "user_tz": -540
    },
    "id": "y2tEzOQEwZBr",
    "outputId": "43b3f3bf-27aa-4154-acf6-f85b17d360aa"
   },
   "outputs": [
    {
     "data": {
      "image/png": "[encoded data removed]",
      "text/plain": [
       "<Figure size 432x288 with 2 Axes>"
      ]
     },
     "metadata": {
      "needs_background": "light"
     },
     "output_type": "display_data"
    }
   ],
   "source": [
    "fig, ax = plt.subplots(2, 1)\n",
    "ax[0].plot(history.history['loss'], color = 'b', label = \"Training loss\")\n",
    "ax[0].plot(history.history['val_loss'], color='r', label = \"validation loss\", axes = ax[0])\n",
    "legend = ax[0].legend(loc='best', shadow = True)\n",
    "\n",
    "ax[1].plot(history.history['accuracy'], color = 'b', label = \"Training accuracy\")\n",
    "ax[1].plot(history.history['val_accuracy'], color = 'r', label = \"Validation accuracy\")\n",
    "legend = ax[1].legend(loc = 'best', shadow = True)"
   ]
  },
  {
   "cell_type": "code",
   "execution_count": 30,
   "metadata": {
    "colab": {
     "base_uri": "https://localhost:8080/"
    },
    "executionInfo": {
     "elapsed": 1337,
     "status": "ok",
     "timestamp": 1648628932099,
     "user": {
      "displayName": "김유탄",
      "userId": "04011767612525493979"
     },
     "user_tz": -540
    },
    "id": "dz9_EYVFPWya",
    "outputId": "9fc9363c-76ca-46f1-9370-b74c1c0c6aea"
   },
   "outputs": [
    {
     "name": "stdout",
     "output_type": "stream",
     "text": [
      "Answer: 1.0  Prediction: [[0.9558532]]\n",
      "Answer: 0.0  Prediction: [[0.00205266]]\n",
      "Answer: 1.0  Prediction: [[0.9998641]]\n",
      "Answer: 1.0  Prediction: [[0.99999845]]\n",
      "Answer: 0.0  Prediction: [[0.00026757]]\n"
     ]
    }
   ],
   "source": [
    "# 학습한거에서 test 어떻게 나오는지 확인 해보기\n",
    "model = tf.keras.models.load_model(base_path + 'best_model/wake_up_word_model')\n",
    "for i in range(0, 5):\n",
    "    print('Answer:', y_test[i], ' Prediction:', model.predict(np.expand_dims(x_test[i], 0)))"
   ]
  },
  {
   "cell_type": "code",
   "execution_count": 31,
   "metadata": {
    "colab": {
     "base_uri": "https://localhost:8080/"
    },
    "executionInfo": {
     "elapsed": 14,
     "status": "ok",
     "timestamp": 1648628932100,
     "user": {
      "displayName": "김유탄",
      "userId": "04011767612525493979"
     },
     "user_tz": -540
    },
    "id": "pvyb-5m8PldX",
    "outputId": "d52b430a-07e1-4346-ade2-0921ada0b072"
   },
   "outputs": [
    {
     "name": "stdout",
     "output_type": "stream",
     "text": [
      "2/2 [==============================] - 0s 100ms/step - loss: 0.0138 - accuracy: 1.0000\n",
      "loss= 0.01378153171390295\n",
      "acc= 1.0\n"
     ]
    }
   ],
   "source": [
    "loss, acc = model.evaluate(x=x_test, y=y_test)\n",
    "print(\"loss=\",loss)\n",
    "print(\"acc=\",acc)"
   ]
  },
  {
   "cell_type": "code",
   "execution_count": 32,
   "metadata": {
    "colab": {
     "base_uri": "https://localhost:8080/"
    },
    "executionInfo": {
     "elapsed": 9,
     "status": "ok",
     "timestamp": 1648628932101,
     "user": {
      "displayName": "김유탄",
      "userId": "04011767612525493979"
     },
     "user_tz": -540
    },
    "id": "Wl8PjvxjvrKu",
    "outputId": "954a1747-0679-4326-c163-fd0f14328fac"
   },
   "outputs": [
    {
     "name": "stdout",
     "output_type": "stream",
     "text": [
      "(53, 20, 38, 1) (53,)\n",
      "[1. 0. 1. 1. 0. 1. 1. 1. 1. 1. 1. 1. 1. 0. 1. 1. 1. 0. 0. 1. 0. 1. 1. 1.\n",
      " 1. 1. 1. 1. 1. 0. 1. 1. 1. 1. 1. 1. 0. 1. 1. 1. 1. 1. 1. 1. 1. 1. 1. 1.\n",
      " 0. 1. 1. 1. 1.]\n"
     ]
    }
   ],
   "source": [
    "print(x_test.shape, y_test.shape)\n",
    "print(y_test)"
   ]
  },
  {
   "cell_type": "code",
   "execution_count": 33,
   "metadata": {
    "colab": {
     "base_uri": "https://localhost:8080/",
     "height": 395
    },
    "executionInfo": {
     "elapsed": 451,
     "status": "ok",
     "timestamp": 1648628932547,
     "user": {
      "displayName": "김유탄",
      "userId": "04011767612525493979"
     },
     "user_tz": -540
    },
    "id": "LfUfAf4-xIGj",
    "outputId": "90c4ec84-b04b-4e85-ed24-f9f9da7ebd56"
   },
   "outputs": [
    {
     "data": {
      "image/png": "[encoded data removed]",
      "text/plain": [
       "<Figure size 432x288 with 2 Axes>"
      ]
     },
     "metadata": {
      "needs_background": "light"
     },
     "output_type": "display_data"
    },
    {
     "name": "stdout",
     "output_type": "stream",
     "text": [
      "Test Accureacy:  1.0\n",
      "Test Precision:  1.0\n",
      "Test Recall:  1.0\n",
      "Test F1 score:  1.0\n",
      "Val 에서 1의 비율 : 79.25%\n",
      "Test 에서 1의 비율 : 83.02%\n"
     ]
    }
   ],
   "source": [
    "Y_pred = model.predict(x_test)\n",
    "\n",
    "\n",
    "thres_hold = 0.5\n",
    "predictions = []\n",
    "for result in Y_pred:\n",
    "  if result > thres_hold:\n",
    "      predictions.append(1)\n",
    "  else:\n",
    "      predictions.append(0)\n",
    "\n",
    "\n",
    "\n",
    "label = [\"other\", \"hi_yutan\"]\n",
    "\n",
    "confusion_mtx = metrics.confusion_matrix(y_test,predictions)\n",
    "sns.heatmap(confusion_mtx,\n",
    "            annot=True,\n",
    "            xticklabels = label,\n",
    "            yticklabels = label,\n",
    "            cmap='Blues')\n",
    "plt.show()\n",
    "\n",
    "print('Test Accureacy: ',metrics.accuracy_score( y_test,predictions))\n",
    "print('Test Precision: ',metrics.precision_score( y_test,predictions))\n",
    "print('Test Recall: ',metrics.recall_score( y_test,predictions ))\n",
    "print('Test F1 score: ',metrics.f1_score(y_test,predictions ))\n",
    "print(\"Val 에서 1의 비율 : {}%\".format(  round(list(y_val).count(1) / len(y_val)*100 , 2 )))\n",
    "print(\"Test 에서 1의 비율 : {}%\".format(  round(list(y_test).count(1) / len(y_test)*100 , 2 )))\n",
    "\n",
    "\n"
   ]
  },
  {
   "cell_type": "markdown",
   "metadata": {
    "id": "SeQMo6BUPpHn"
   },
   "source": [
    "# tflite 변환 해주기 / 평가"
   ]
  },
  {
   "cell_type": "code",
   "execution_count": 39,
   "metadata": {
    "colab": {
     "base_uri": "https://localhost:8080/"
    },
    "executionInfo": {
     "elapsed": 5207,
     "status": "ok",
     "timestamp": 1648628937749,
     "user": {
      "displayName": "김유탄",
      "userId": "04011767612525493979"
     },
     "user_tz": -540
    },
    "id": "54HAWoFDPoOp",
    "outputId": "774211a7-8f5f-4179-e3be-116f59538547"
   },
   "outputs": [
    {
     "name": "stdout",
     "output_type": "stream",
     "text": [
      "INFO:tensorflow:Assets written to: C:\\Users\\yutan\\AppData\\Local\\Temp\\tmptfovkohx\\assets\n"
     ]
    },
    {
     "name": "stderr",
     "output_type": "stream",
     "text": [
      "INFO:tensorflow:Assets written to: C:\\Users\\yutan\\AppData\\Local\\Temp\\tmptfovkohx\\assets\n"
     ]
    },
    {
     "data": {
      "text/plain": [
       "573484"
      ]
     },
     "execution_count": 39,
     "metadata": {},
     "output_type": "execute_result"
    }
   ],
   "source": [
    "tflite_file_path = base_path + 'tflite_model/wake_word_hi_yutan_lite.tflite'\n",
    "\n",
    "model = tf.keras.models.load_model(base_path + 'best_model/wake_up_word_model')\n",
    "converter = lite.TFLiteConverter.from_keras_model(model)\n",
    "tflite_model = converter.convert()\n",
    "open(tflite_file_path, 'wb').write(tflite_model)"
   ]
  },
  {
   "cell_type": "code",
   "execution_count": 40,
   "metadata": {
    "colab": {
     "base_uri": "https://localhost:8080/"
    },
    "executionInfo": {
     "elapsed": 9,
     "status": "ok",
     "timestamp": 1648628937750,
     "user": {
      "displayName": "김유탄",
      "userId": "04011767612525493979"
     },
     "user_tz": -540
    },
    "id": "nb5O8Ku0FVhi",
    "outputId": "ee2cf62e-b87f-4eff-caeb-cbfff70e82d0"
   },
   "outputs": [
    {
     "name": "stdout",
     "output_type": "stream",
     "text": [
      "[{'name': 'sequential_input', 'index': 0, 'shape': array([ 1, 20, 38,  1]), 'shape_signature': array([-1, 20, 38,  1]), 'dtype': <class 'numpy.float32'>, 'quantization': (0.0, 0), 'quantization_parameters': {'scales': array([], dtype=float32), 'zero_points': array([], dtype=int32), 'quantized_dimension': 0}, 'sparsity_parameters': {}}]\n",
      "[{'name': 'Identity', 'index': 24, 'shape': array([1, 1]), 'shape_signature': array([-1,  1]), 'dtype': <class 'numpy.float32'>, 'quantization': (0.0, 0), 'quantization_parameters': {'scales': array([], dtype=float32), 'zero_points': array([], dtype=int32), 'quantized_dimension': 0}, 'sparsity_parameters': {}}]\n"
     ]
    }
   ],
   "source": [
    "tflite_file_path = base_path + 'tflite_model/wake_word_hi_yutan_lite.tflite'\n",
    "interpreter = tf.lite.Interpreter(model_path=tflite_file_path)\n",
    "interpreter.allocate_tensors()\n",
    "\n",
    "input_details = interpreter.get_input_details()\n",
    "output_details = interpreter.get_output_details()\n",
    "\n",
    "print(input_details)\n",
    "print(output_details)"
   ]
  },
  {
   "cell_type": "code",
   "execution_count": 41,
   "metadata": {
    "executionInfo": {
     "elapsed": 425,
     "status": "ok",
     "timestamp": 1648628984860,
     "user": {
      "displayName": "김유탄",
      "userId": "04011767612525493979"
     },
     "user_tz": -540
    },
    "id": "5PXSB02VFVpe"
   },
   "outputs": [],
   "source": [
    "# tflite 모델 평가에서 사용되는 실행 함수\n",
    "thres_hold = 0.9\n",
    "def run_tflite_model(tflite_file, test_image_indices):\n",
    "  global x_test\n",
    "  global y_test\n",
    "\n",
    "  # Initialize the interpreter\n",
    "  interpreter = tf.lite.Interpreter(model_path=str(tflite_file))\n",
    "  interpreter.allocate_tensors()\n",
    "\n",
    "  input_details = interpreter.get_input_details()[0]\n",
    "  output_details = interpreter.get_output_details()[0]\n",
    "\n",
    "  predictions = np.zeros((len(test_image_indices),), dtype=int)\n",
    "  for i, test_image_index in enumerate(test_image_indices):\n",
    "    test_image = x_test[test_image_index]\n",
    "    test_label = y_test[test_image_index]\n",
    "\n",
    "    # Check if the input type is quantized, then rescale input data to uint8\n",
    "    if input_details['dtype'] == np.uint8:\n",
    "      input_scale, input_zero_point = input_details[\"quantization\"]\n",
    "      test_image = test_image / input_scale + input_zero_point\n",
    "\n",
    "    test_image = np.expand_dims(test_image, axis=0).astype(input_details[\"dtype\"])\n",
    "    interpreter.set_tensor(input_details[\"index\"], test_image)\n",
    "    interpreter.invoke()\n",
    "    output = interpreter.get_tensor(output_details[\"index\"])[0]\n",
    "\n",
    "    # thres_hold 설정 해주기\n",
    "\n",
    "    if output > thres_hold:\n",
    "      output = 1\n",
    "    else:\n",
    "      outut = 0\n",
    "\n",
    "    predictions[i] = output\n",
    "\n",
    "  return predictions"
   ]
  },
  {
   "cell_type": "code",
   "execution_count": 42,
   "metadata": {
    "executionInfo": {
     "elapsed": 6,
     "status": "ok",
     "timestamp": 1648628984862,
     "user": {
      "displayName": "김유탄",
      "userId": "04011767612525493979"
     },
     "user_tz": -540
    },
    "id": "rKGNMWrHFVtf"
   },
   "outputs": [],
   "source": [
    "def evaluate_model(tflite_file, model_type):\n",
    "  global test_x\n",
    "  global test_y\n",
    "\n",
    "  test_image_indices = range(x_test.shape[0])\n",
    "  predictions = run_tflite_model(tflite_file, test_image_indices)\n",
    "  accuracy = (np.sum(y_test.reshape(-1)== predictions) * 100) / len(x_test)\n",
    "\n",
    "  confusion_mtx = tf.math.confusion_matrix(y_test, predictions)\n",
    "\n",
    "  print('%s model accuracy is %.4f%% (Number of test samples=%d)' % (model_type, accuracy, len(x_test)))\n",
    "\n",
    "  \n",
    "  label = [\"other\", \"hi_yutan\"]\n",
    "  sns.heatmap(confusion_mtx,\n",
    "            annot=True,\n",
    "            xticklabels = label,\n",
    "            yticklabels = label,\n",
    "            cmap='Blues')\n",
    "  plt.show()\n",
    "  \n",
    "  print(\"Thres - hold : {}\".format(thres_hold))\n",
    "  print('Test Accureacy: ',metrics.accuracy_score( y_test,predictions))\n",
    "  print('Test Precision: ',metrics.precision_score( y_test,predictions))\n",
    "  print('Test Recall: ',metrics.recall_score( y_test,predictions ))\n",
    "  print('Test F1 score: ',metrics.f1_score(y_test,predictions ))\n",
    "  print(\"Val 에서 1의 비율 : {}%\".format(  round(list(y_val).count(1) / len(y_val)*100 , 2 )))\n",
    "  print(\"Test 에서 1의 비율 : {}%\".format(  round(list(y_test).count(1) / len(y_test)*100 , 2 )))\n",
    "\n",
    "\n",
    "\n"
   ]
  },
  {
   "cell_type": "code",
   "execution_count": 43,
   "metadata": {
    "colab": {
     "base_uri": "https://localhost:8080/",
     "height": 413
    },
    "executionInfo": {
     "elapsed": 10,
     "status": "ok",
     "timestamp": 1648628986031,
     "user": {
      "displayName": "김유탄",
      "userId": "04011767612525493979"
     },
     "user_tz": -540
    },
    "id": "ykS7YXtXHJGs",
    "outputId": "e04ec794-a93f-44f1-9d0d-ff8175d36151"
   },
   "outputs": [
    {
     "name": "stdout",
     "output_type": "stream",
     "text": [
      "Float model accuracy is 100.0000% (Number of test samples=53)\n"
     ]
    },
    {
     "data": {
      "image/png": "[encoded data removed]",
      "text/plain": [
       "<Figure size 432x288 with 2 Axes>"
      ]
     },
     "metadata": {
      "needs_background": "light"
     },
     "output_type": "display_data"
    },
    {
     "name": "stdout",
     "output_type": "stream",
     "text": [
      "Thres - hold : 0.9\n",
      "Test Accureacy:  1.0\n",
      "Test Precision:  1.0\n",
      "Test Recall:  1.0\n",
      "Test F1 score:  1.0\n",
      "Val 에서 1의 비율 : 79.25%\n",
      "Test 에서 1의 비율 : 83.02%\n"
     ]
    }
   ],
   "source": [
    "evaluate_model(tflite_file_path, model_type=\"Float\")\n",
    "# 세로 - True\n",
    "# 가로 - Prediction"
   ]
  },
  {
   "cell_type": "markdown",
   "metadata": {
    "id": "q3vFUtQZRCN1"
   },
   "source": [
    "# 추론 과정"
   ]
  },
  {
   "cell_type": "code",
   "execution_count": 103,
   "metadata": {
    "colab": {
     "base_uri": "https://localhost:8080/",
     "height": 0
    },
    "executionInfo": {
     "elapsed": 49,
     "status": "error",
     "timestamp": 1648627709554,
     "user": {
      "displayName": "김유탄",
      "userId": "04011767612525493979"
     },
     "user_tz": -540
    },
    "id": "Dztxh2RURmNs",
    "outputId": "f7c8950f-8423-4425-d437-b9e69473cbcd",
    "scrolled": true
   },
   "outputs": [
    {
     "ename": "ModuleNotFoundError",
     "errorDetails": {
      "actions": [
       {
        "action": "open_url",
        "actionText": "Open Examples",
        "url": "/notebooks/snippets/importing_libraries.ipynb"
       }
      ]
     },
     "evalue": "ignored",
     "output_type": "error",
     "traceback": [
      "\u001b[0;31m---------------------------------------------------------------------------\u001b[0m",
      "\u001b[0;31mModuleNotFoundError\u001b[0m                       Traceback (most recent call last)",
      "\u001b[0;32m<ipython-input-103-8bc60e4a0363>\u001b[0m in \u001b[0;36m<module>\u001b[0;34m()\u001b[0m\n\u001b[1;32m      1\u001b[0m \u001b[0;31m# 기본 형태\u001b[0m\u001b[0;34m\u001b[0m\u001b[0;34m\u001b[0m\u001b[0;34m\u001b[0m\u001b[0m\n\u001b[0;32m----> 2\u001b[0;31m \u001b[0;32mimport\u001b[0m \u001b[0mpyaudio\u001b[0m\u001b[0;34m\u001b[0m\u001b[0;34m\u001b[0m\u001b[0m\n\u001b[0m\u001b[1;32m      3\u001b[0m \u001b[0;32mimport\u001b[0m \u001b[0mnumpy\u001b[0m \u001b[0;32mas\u001b[0m \u001b[0mnp\u001b[0m\u001b[0;34m\u001b[0m\u001b[0;34m\u001b[0m\u001b[0m\n\u001b[1;32m      4\u001b[0m \u001b[0;34m\u001b[0m\u001b[0m\n\u001b[1;32m      5\u001b[0m \u001b[0mCHUNK\u001b[0m \u001b[0;34m=\u001b[0m \u001b[0;36m2\u001b[0m\u001b[0;34m**\u001b[0m\u001b[0;36m10\u001b[0m  \u001b[0;31m# 음성 데이터 불러올때, 한번에 몇개의 정수를 불러올지\u001b[0m\u001b[0;34m\u001b[0m\u001b[0;34m\u001b[0m\u001b[0m\n",
      "\u001b[0;31mModuleNotFoundError\u001b[0m: No module named 'pyaudio'",
      "",
      "\u001b[0;31m---------------------------------------------------------------------------\u001b[0;32m\nNOTE: If your import is failing due to a missing package, you can\nmanually install dependencies using either !pip or !apt.\n\nTo view examples of installing some common dependencies, click the\n\"Open Examples\" button below.\n\u001b[0;31m---------------------------------------------------------------------------\u001b[0m\n"
     ]
    }
   ],
   "source": [
    "# 기본 형태\n",
    "import pyaudio\n",
    "import numpy as np\n",
    " \n",
    "CHUNK = 2**10  # 음성 데이터 불러올때, 한번에 몇개의 정수를 불러올지\n",
    "RATE = 44100   # 음성 데이터의 sampleing rate , mfcc 에 나오는 거라 다른거니까 구분 해두기\n",
    "\n",
    "# 음성 데이터 스트리을 여는 코드\n",
    "\"\"\"\n",
    "foramt : 비트 깊이를 설정 ,   여기서는 16bit가 된다\n",
    "input : 우리가 지금 열려고 하는 것이기 떄문에 True\n",
    "frames_per_buffer : 한번에 몇개의 정수를 불러올지\n",
    "input_device_index : 원하는 입력 장치의 번호 (이거 없으면 자동으로 설정 해준다..)\n",
    "\"\"\"\n",
    "p=pyaudio.PyAudio()\n",
    "stream=p.open(format=pyaudio.paInt16,channels=1,rate=RATE,input=True,\n",
    "              frames_per_buffer=CHUNK,input_device_index=2)\n",
    " \n",
    "# 음성 데이터를 입력받아 출력하는 소스\n",
    "while(True):\n",
    "    data = np.fromstring(stream.read(CHUNK),dtype=np.int16)\n",
    "    print(int(np.average(np.abs(data))))\n",
    " \n",
    "stream.stop_stream()\n",
    "stream.close()\n",
    "p.terminate()\n"
   ]
  },
  {
   "cell_type": "code",
   "execution_count": null,
   "metadata": {
    "id": "PR2BRCGCWHL3"
   },
   "outputs": [],
   "source": [
    "\"\"\"\n",
    "Connect a resistor and LED to board pin 8 and run this script.\n",
    "Whenever you say \"stop\", the LED should flash briefly\n",
    "\"\"\"\n",
    "\n",
    "import sounddevice as sd\n",
    "import numpy as np\n",
    "import scipy.signal\n",
    "import timeit\n",
    "import python_speech_features\n",
    "import RPi.GPIO as GPIO\n",
    "\n",
    "from tflite_runtime.interpreter import Interpreter\n",
    "\n",
    "# Parameters\n",
    "debug_time = 1\n",
    "debug_acc = 0\n",
    "led_pin = 8\n",
    "word_threshold = 0.5\n",
    "rec_duration = 0.5 # 기동어 말 평균 길이로 하면 될듯 함\n",
    "window_stride = 0.5 # 이거는 유지 해주기\n",
    "sample_rate = 48000\n",
    "resample_rate = 8000\n",
    "num_channels = 1\n",
    "num_mfcc = 40\n",
    "model_path = base_path + 'wake_word_hi_yutan_lite.tflite'\n",
    "\n",
    "# Sliding window\n",
    "window = np.zeros(int(rec_duration * resample_rate) * 2)\n",
    "\n",
    "# GPIO \n",
    "GPIO.setwarnings(False)\n",
    "GPIO.setmode(GPIO.BOARD)\n",
    "GPIO.setup(8, GPIO.OUT, initial=GPIO.LOW)\n",
    "\n",
    "# Load model (interpreter)\n",
    "interpreter = Interpreter(model_path)\n",
    "interpreter.allocate_tensors()\n",
    "input_details = interpreter.get_input_details()\n",
    "output_details = interpreter.get_output_details()\n",
    "print(input_details)\n",
    "\n",
    "# Decimate (filter and downsample)\n",
    "def decimate(signal, old_fs, new_fs):\n",
    "    \n",
    "    # Check to make sure we're downsampling\n",
    "    if new_fs > old_fs:\n",
    "        print(\"Error: target sample rate higher than original\")\n",
    "        return signal, old_fs\n",
    "    \n",
    "    # We can only downsample by an integer factor\n",
    "    dec_factor = old_fs / new_fs\n",
    "    if not dec_factor.is_integer():\n",
    "        print(\"Error: can only decimate by integer factor\")\n",
    "        return signal, old_fs\n",
    "\n",
    "    # Do decimation\n",
    "    resampled_signal = scipy.signal.decimate(signal, int(dec_factor))\n",
    "\n",
    "    return resampled_signal, new_fs\n",
    "\n",
    "# This gets called every 0.5 seconds\n",
    "def sd_callback(rec, frames, time, status):\n",
    "\n",
    "    GPIO.output(led_pin, GPIO.LOW)\n",
    "\n",
    "    # Start timing for testing\n",
    "    start = timeit.default_timer()\n",
    "    \n",
    "    # Notify if errors\n",
    "    if status:\n",
    "        print('Error:', status)\n",
    "    \n",
    "    # Remove 2nd dimension from recording sample\n",
    "    rec = np.squeeze(rec)\n",
    "    \n",
    "    # Resample\n",
    "    rec, new_fs = decimate(rec, sample_rate, resample_rate)\n",
    "    \n",
    "    # Save recording onto sliding window\n",
    "    window[:len(window)//2] = window[len(window)//2:]\n",
    "    window[len(window)//2:] = rec\n",
    "\n",
    "    # Compute features\n",
    "    mfccs = python_speech_features.base.mfcc(window, \n",
    "                                        samplerate=new_fs,\n",
    "                                        winlen=0.256,\n",
    "                                        winstep=0.050,\n",
    "                                        numcep=num_mfcc,\n",
    "                                        nfilt=26,\n",
    "                                        nfft=2048,\n",
    "                                        preemph=0.0,\n",
    "                                        ceplifter=0,\n",
    "                                        appendEnergy=False,\n",
    "                                        winfunc=np.hanning)\n",
    "    mfccs = mfccs.transpose()\n",
    "\n",
    "    # Make prediction from model\n",
    "    in_tensor = np.float32(mfccs.reshape(1, mfccs.shape[0], mfccs.shape[1], 1))\n",
    "    interpreter.set_tensor(input_details[0]['index'], in_tensor)\n",
    "    interpreter.invoke()\n",
    "    output_data = interpreter.get_tensor(output_details[0]['index'])\n",
    "    val = output_data[0][0]\n",
    "    if val > word_threshold:\n",
    "        print('stop')\n",
    "        GPIO.output(led_pin, GPIO.HIGH)\n",
    "\n",
    "    if debug_acc:\n",
    "        print(val)\n",
    "    \n",
    "    if debug_time:\n",
    "        print(timeit.default_timer() - start)\n",
    "\n",
    "# Start streaming from microphone\n",
    "with sd.InputStream(channels=num_channels,\n",
    "                    samplerate=sample_rate,\n",
    "                    blocksize=int(sample_rate * rec_duration),  # 1초에 프레임 * 녹화 하는 기간\n",
    "                    callback=sd_callback):\n",
    "    while True:\n",
    "        pass"
   ]
  },
  {
   "cell_type": "code",
   "execution_count": null,
   "metadata": {
    "id": "YzgdBhdwvrKv"
   },
   "outputs": [],
   "source": []
  },
  {
   "cell_type": "code",
   "execution_count": null,
   "metadata": {
    "id": "wARhdsojvrKv"
   },
   "outputs": [],
   "source": []
  },
  {
   "cell_type": "markdown",
   "metadata": {
    "id": "EQUycMpiy41z"
   },
   "source": [
    "# TEMP"
   ]
  },
  {
   "cell_type": "code",
   "execution_count": null,
   "metadata": {
    "id": "uIPAG_6r3J8A"
   },
   "outputs": [],
   "source": [
    "\"\"\"\n",
    "1.\tD기동어 인식 개요\n",
    "    1.\t음성 인식 서비스 사례 – 케이티, 카카오, 구글 등 음성 인식 서비스 있음\n",
    "    2.\t문제점 및 해결 방안 – 서버에서 음성을 계속 받으면 비효율적 -> 기동어를 통해 서버와의 연결 제어\n",
    "2.\tAudio Processing\n",
    "    1.\t음성 신호 특성\n",
    "    2.\tFourrier Transform (각 주파수 대역별에서의 에너지 크기 측정)\n",
    "3.\t기동어 인식 시스템 구조\n",
    "4.\tMel Frequency Cepstral Coefficient (MFCC) \n",
    "    1.\tPe-emphasis\n",
    "    2.\tFast Fourier Transform (FFT) – 위에 FT랑 다르게 프레임으로 쪼개어 변환 함 -> Spectrum  계획\n",
    "        1.\tFrequency domain의 feature를 형성, 보통 10 ~ 25ms 을 기준으로 함\n",
    "        2.\tFrame 간의 간격 = 5 ~ 10ms 로 설정\n",
    "        3.\tFrame 만들때 보통 Hamming Window를 통해 연속성 확보\n",
    "        4.\tDiscrete Fourier Transorm(DFT)로  frame별 feature 추출  (주파수 별, 에너지 얼마나 있나)\n",
    "    3.\tMel Spectrum ( 인간의 귀를 따라 만든 Mel-Filter Bank를 적용해서 Mel Spectrum 추출)\n",
    "        1.\t사람이 잘 들을 수 있는 저주파 영역을 확장\n",
    "        2.\t위에서 나온 DFT는 각 주파수에 해당하는 에너지 양을 보여줌\n",
    "        3.\t여기에다 고막의 특성을 적용(log를 통해) 하기 위해 Mel Filter Bank(각 주파수 별로 에너지 모음) 적용\n",
    "        4.\t이거를 DFT의 결과로 나온 주파수에 맞게 곱해줘서 나온 값에, Log를 적용(사람 귀)\n",
    "    4.\tCepstral Analysis\n",
    "        1.\tDiscrete Cosine Transform(DCT)을 통해 smoothing된 Fourier Transform 값 추출\n",
    "        2.\t3번까지 Frequency에 대한 값이지만, 다시 시간에 대한 값으로 표현\n",
    "        3.\tFFT 보다 연속성을 잘 표현 가능 (더 Smoothing 되었기 때문에 )\n",
    "        4.\t여기서 나온 값에서 첫 12개의(선택) MFCC Vector를 추출\n",
    "    5.\tMFCC Feature 생성ㅇㄹ\n",
    "        1.\t위 과정에서 나온거 중에 저주파(coefficient) 구간을 몇 개(N)를 볼 것인지 선택\n",
    "5.\tDeep Learning\n",
    "6.\t차주 계획\n",
    "\n",
    "\"\"\""
   ]
  },
  {
   "cell_type": "code",
   "execution_count": null,
   "metadata": {
    "colab": {
     "base_uri": "https://localhost:8080/"
    },
    "executionInfo": {
     "elapsed": 8,
     "status": "ok",
     "timestamp": 1648617078951,
     "user": {
      "displayName": "김유탄",
      "userId": "04011767612525493979"
     },
     "user_tz": -540
    },
    "id": "RwAiwzW6oNC4",
    "outputId": "79399c87-e8bc-4447-b2be-1b2241c9f408"
   },
   "outputs": [
    {
     "name": "stdout",
     "output_type": "stream",
     "text": [
      "Model input size = ( 25 x 41 x 1)\n"
     ]
    }
   ],
   "source": [
    "\"\"\"\n",
    "# MFCC 추출 해주기\n",
    "# https://blog.naver.com/PostView.nhn?isHttpsRedirect=true&blogId=sooftware&logNo=221661644808 참고\n",
    "\n",
    "# frame 개수를 보여줌, output 세로\n",
    "num_mfcc = 25\n",
    "# output 가로\n",
    "len_mfcc = 41\n",
    "# input 음향 뒤에서 얼마나 잘라줄지\n",
    "sample_cut = 20000\n",
    "\n",
    "def get_librosa_mfcc(filepath):\n",
    "  sampling_rate = 16000  # 1초에 몇개의 signal이 들어가 있는가\n",
    "  hop_len = 500  # sig / hop_len 만큼 크기의 output 이 나옴\n",
    "   # 들어오는 음향 길이 설정\n",
    "  sig, sr = librosa.core.load(filepath, sampling_rate)\n",
    "  # 뒤에서 부터 자르는게 더 좋을거 같음\n",
    "  input_sig = sig[-sample_cut:]\n",
    "  print(\"signal 크기 :\",sig.shape)\n",
    "  # log mell 찾아 보기\n",
    "  # 120 만큼은 겹치게 된다.\n",
    "  mfccs = librosa.feature.mfcc(y = input_sig, sr = sr, hop_length =hop_len, n_mfcc = num_mfcc, n_fft = 512 )\n",
    "  return mfccs\n",
    "\n",
    "\n",
    "\n",
    "print(\"Model input size = ( {} x {} x {})\".format(num_mfcc, len_mfcc, 1))\n",
    "\n",
    "\n",
    "# n_mfcc : 음성데이터를 어느 단위로 쪼갤지 (사람은 20 ~ 40 ms 까지는 음소가 바뀌지 못함 - 말 자르는 가장 작은 단위 == frame_size\n",
    "# n_fft : frame의 length = window size,   잘린 음석이 n_ftt보다 작으면 0으로 Padding 해줌, \n",
    "   # n_fft는 winddow size보다 크거나 같아야함\n",
    "   # n_ftt = 8000 * 0.040 = 320\n",
    "# hop_legth : window 얼마 만큼씩 움질일 것인가\n",
    "\n",
    "  # n_mfcc = 40\n",
    "  # hop_length = 200  # 8000 * 0.040\n",
    "  # N_FFT = 320    # 8000 * 0.040\n",
    "\n",
    "# 이거 기준으로 나눈 다음에 Mel값을 뽑아서 Feature로 사용하게 된다.  (  50%는 겹치게 분할을 진행)\n",
    "# 각각의 frame에 대해서 Hamming Window 적용해서 연속성 맞춰주기 - Default 설정임\n",
    "# 각 프레임에 대하여 Fourier Transform 적용해서(FFT) 주파서 성분 알아내기\n",
    "# Mel Filter Banb(삶귀처럼, 주파수 증가할수록 큰 삼각형 filter가 생각다고 생각하기)\n",
    "# 여기까지하면 Mel-Spectrogram Feature가 추출된다.\n",
    "\n",
    "# Mel-Spectrogram 을 압축해서 표현해주는 DCT 연산 수행 -> Discrete Cosine Transform\n",
    "\"\"\"\n"
   ]
  }
 ],
 "metadata": {
  "colab": {
   "collapsed_sections": [
    "pnujyYpCLgxy",
    "kgMGr2GoLnkf",
    "eL10wX1siLGx"
   ],
   "name": "Wake_up_word_all.ipynb의 사본의 사본의 사본의 사본",
   "provenance": [
    {
     "file_id": "1BxPw7K8Y_59FqW9KQiUqNPdIOmHmvR32",
     "timestamp": 1648629043149
    },
    {
     "file_id": "1XhbiOuyCXG3sTAxrsGth7Dttr32afr4U",
     "timestamp": 1648618515987
    },
    {
     "file_id": "1hH9jqfOOMlsHHXcNbYUzFEi3m8mek3AD",
     "timestamp": 1648615546055
    },
    {
     "file_id": "15wXIygAC2xhkqlp0LJNlpskO9HTujQcz",
     "timestamp": 1648605838504
    }
   ]
  },
  "kernelspec": {
   "display_name": "Python 3 (ipykernel)",
   "language": "python",
   "name": "python3"
  },
  "language_info": {
   "codemirror_mode": {
    "name": "ipython",
    "version": 3
   },
   "file_extension": ".py",
   "mimetype": "text/x-python",
   "name": "python",
   "nbconvert_exporter": "python",
   "pygments_lexer": "ipython3",
   "version": "3.7.0"
  }
 },
 "nbformat": 4,
 "nbformat_minor": 1
}
