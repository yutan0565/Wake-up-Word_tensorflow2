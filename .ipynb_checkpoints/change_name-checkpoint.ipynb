{
 "cells": [
  {
   "cell_type": "code",
   "execution_count": 40,
   "id": "f7f872ab",
   "metadata": {},
   "outputs": [],
   "source": [
    "import os"
   ]
  },
  {
   "cell_type": "code",
   "execution_count": 43,
   "id": "07ca5d1a",
   "metadata": {},
   "outputs": [
    {
     "data": {
      "text/plain": [
       "['voice0001.jpg',\n",
       " 'voice0002.jpg',\n",
       " 'voice0003.jpg',\n",
       " 'voice0004.jpg',\n",
       " 'voice0005.jpg']"
      ]
     },
     "execution_count": 43,
     "metadata": {},
     "output_type": "execute_result"
    }
   ],
   "source": [
    "# file_path = './hi_yutan'\n",
    "type = \"_background_noise_\"\n",
    "file_path = './custum_dataset/' + type\n",
    "file_names = os.listdir(file_path)\n",
    "file_names"
   ]
  },
  {
   "cell_type": "code",
   "execution_count": 44,
   "id": "fed991d4",
   "metadata": {},
   "outputs": [
    {
     "name": "stdout",
     "output_type": "stream",
     "text": [
      "voice0001__background_noise_.wav\n",
      "voice0002__background_noise_.wav\n",
      "voice0003__background_noise_.wav\n",
      "voice0004__background_noise_.wav\n",
      "voice0005__background_noise_.wav\n"
     ]
    }
   ],
   "source": [
    "i = 1\n",
    "for name in file_names:\n",
    "    src = os.path.join(file_path, name)\n",
    "    src = file_path + '/' + name\n",
    "    new = 'voice'+'{0:04d}'.format(i)+\"_\"+type + '.wav'\n",
    "    print(new)\n",
    "    dst = file_path+'/'+new\n",
    "    os.rename(src, dst)\n",
    "    i += 1"
   ]
  }
 ],
 "metadata": {
  "kernelspec": {
   "display_name": "Python 3 (ipykernel)",
   "language": "python",
   "name": "python3"
  },
  "language_info": {
   "codemirror_mode": {
    "name": "ipython",
    "version": 3
   },
   "file_extension": ".py",
   "mimetype": "text/x-python",
   "name": "python",
   "nbconvert_exporter": "python",
   "pygments_lexer": "ipython3",
   "version": "3.7.0"
  }
 },
 "nbformat": 4,
 "nbformat_minor": 5
}
