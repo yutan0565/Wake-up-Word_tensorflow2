{
 "cells": [
  {
   "cell_type": "markdown",
   "metadata": {
    "colab_type": "text",
    "id": "view-in-github"
   },
   "source": [
    "<a href=\"https://colab.research.google.com/github/yutan0565/Wake-up-Word_tensorflow2/blob/main/Wake_up_word_all.ipynb\" target=\"_parent\"><img src=\"https://colab.research.google.com/assets/colab-badge.svg\" alt=\"Open In Colab\"/></a>"
   ]
  },
  {
   "cell_type": "code",
   "execution_count": 2,
   "metadata": {
    "colab": {
     "base_uri": "https://localhost:8080/"
    },
    "id": "kFceqLTOE0ZZ",
    "outputId": "246d14c1-9604-4087-87cb-f698a4823cbc"
   },
   "outputs": [
    {
     "name": "stdout",
     "output_type": "stream",
     "text": [
      "Requirement already satisfied: python_speech_features in c:\\users\\yutan\\anaconda3\\envs\\tensorflow\\lib\\site-packages (0.6)\n",
      "Requirement already satisfied: playsound in c:\\users\\yutan\\anaconda3\\envs\\tensorflow\\lib\\site-packages (1.3.0)\n"
     ]
    },
    {
     "name": "stderr",
     "output_type": "stream",
     "text": [
      "  ERROR: Command errored out with exit status 1:"
     ]
    },
    {
     "name": "stdout",
     "output_type": "stream",
     "text": [
      "Collecting pyaudio\n",
      "  Downloading PyAudio-0.2.11.tar.gz (37 kB)\n",
      "Building wheels for collected packages: pyaudio\n",
      "  Building wheel for pyaudio (setup.py): started\n",
      "  Building wheel for pyaudio (setup.py): finished with status 'error'\n",
      "  Running setup.py clean for pyaudio\n",
      "Failed to build pyaudio\n",
      "Installing collected packages: pyaudio\n",
      "    Running setup.py install for pyaudio: started\n",
      "    Running setup.py install for pyaudio: finished with status 'error'\n"
     ]
    },
    {
     "name": "stderr",
     "output_type": "stream",
     "text": [
      "\n",
      "   command: 'C:\\Users\\yutan\\anaconda3\\envs\\tensorflow\\python.exe' -u -c 'import io, os, sys, setuptools, tokenize; sys.argv[0] = '\"'\"'C:\\\\Users\\\\yutan\\\\AppData\\\\Local\\\\Temp\\\\pip-install-rkymhai7\\\\pyaudio_3e6424cbd9254abf8e2d3cc9b7c6c405\\\\setup.py'\"'\"'; __file__='\"'\"'C:\\\\Users\\\\yutan\\\\AppData\\\\Local\\\\Temp\\\\pip-install-rkymhai7\\\\pyaudio_3e6424cbd9254abf8e2d3cc9b7c6c405\\\\setup.py'\"'\"';f = getattr(tokenize, '\"'\"'open'\"'\"', open)(__file__) if os.path.exists(__file__) else io.StringIO('\"'\"'from setuptools import setup; setup()'\"'\"');code = f.read().replace('\"'\"'\\r\\n'\"'\"', '\"'\"'\\n'\"'\"');f.close();exec(compile(code, __file__, '\"'\"'exec'\"'\"'))' bdist_wheel -d 'C:\\Users\\yutan\\AppData\\Local\\Temp\\pip-wheel-7y4_g2u6'\n",
      "       cwd: C:\\Users\\yutan\\AppData\\Local\\Temp\\pip-install-rkymhai7\\pyaudio_3e6424cbd9254abf8e2d3cc9b7c6c405\\\n",
      "  Complete output (9 lines):\n",
      "  running bdist_wheel\n",
      "  running build\n",
      "  running build_py\n",
      "  creating build\n",
      "  creating build\\lib.win-amd64-3.7\n",
      "  copying src\\pyaudio.py -> build\\lib.win-amd64-3.7\n",
      "  running build_ext\n",
      "  building '_portaudio' extension\n",
      "  error: Microsoft Visual C++ 14.0 or greater is required. Get it with \"Microsoft C++ Build Tools\": https://visualstudio.microsoft.com/visual-cpp-build-tools/\n",
      "  ----------------------------------------\n",
      "  ERROR: Failed building wheel for pyaudio\n",
      "    ERROR: Command errored out with exit status 1:\n",
      "     command: 'C:\\Users\\yutan\\anaconda3\\envs\\tensorflow\\python.exe' -u -c 'import io, os, sys, setuptools, tokenize; sys.argv[0] = '\"'\"'C:\\\\Users\\\\yutan\\\\AppData\\\\Local\\\\Temp\\\\pip-install-rkymhai7\\\\pyaudio_3e6424cbd9254abf8e2d3cc9b7c6c405\\\\setup.py'\"'\"'; __file__='\"'\"'C:\\\\Users\\\\yutan\\\\AppData\\\\Local\\\\Temp\\\\pip-install-rkymhai7\\\\pyaudio_3e6424cbd9254abf8e2d3cc9b7c6c405\\\\setup.py'\"'\"';f = getattr(tokenize, '\"'\"'open'\"'\"', open)(__file__) if os.path.exists(__file__) else io.StringIO('\"'\"'from setuptools import setup; setup()'\"'\"');code = f.read().replace('\"'\"'\\r\\n'\"'\"', '\"'\"'\\n'\"'\"');f.close();exec(compile(code, __file__, '\"'\"'exec'\"'\"'))' install --record 'C:\\Users\\yutan\\AppData\\Local\\Temp\\pip-record-ihjo9ypo\\install-record.txt' --single-version-externally-managed --compile --install-headers 'C:\\Users\\yutan\\anaconda3\\envs\\tensorflow\\Include\\pyaudio'\n",
      "         cwd: C:\\Users\\yutan\\AppData\\Local\\Temp\\pip-install-rkymhai7\\pyaudio_3e6424cbd9254abf8e2d3cc9b7c6c405\\\n",
      "    Complete output (9 lines):\n",
      "    running install\n",
      "    running build\n",
      "    running build_py\n",
      "    creating build\n",
      "    creating build\\lib.win-amd64-3.7\n",
      "    copying src\\pyaudio.py -> build\\lib.win-amd64-3.7\n",
      "    running build_ext\n",
      "    building '_portaudio' extension\n",
      "    error: Microsoft Visual C++ 14.0 or greater is required. Get it with \"Microsoft C++ Build Tools\": https://visualstudio.microsoft.com/visual-cpp-build-tools/\n",
      "    ----------------------------------------\n",
      "ERROR: Command errored out with exit status 1: 'C:\\Users\\yutan\\anaconda3\\envs\\tensorflow\\python.exe' -u -c 'import io, os, sys, setuptools, tokenize; sys.argv[0] = '\"'\"'C:\\\\Users\\\\yutan\\\\AppData\\\\Local\\\\Temp\\\\pip-install-rkymhai7\\\\pyaudio_3e6424cbd9254abf8e2d3cc9b7c6c405\\\\setup.py'\"'\"'; __file__='\"'\"'C:\\\\Users\\\\yutan\\\\AppData\\\\Local\\\\Temp\\\\pip-install-rkymhai7\\\\pyaudio_3e6424cbd9254abf8e2d3cc9b7c6c405\\\\setup.py'\"'\"';f = getattr(tokenize, '\"'\"'open'\"'\"', open)(__file__) if os.path.exists(__file__) else io.StringIO('\"'\"'from setuptools import setup; setup()'\"'\"');code = f.read().replace('\"'\"'\\r\\n'\"'\"', '\"'\"'\\n'\"'\"');f.close();exec(compile(code, __file__, '\"'\"'exec'\"'\"'))' install --record 'C:\\Users\\yutan\\AppData\\Local\\Temp\\pip-record-ihjo9ypo\\install-record.txt' --single-version-externally-managed --compile --install-headers 'C:\\Users\\yutan\\anaconda3\\envs\\tensorflow\\Include\\pyaudio' Check the logs for full command output.\n"
     ]
    }
   ],
   "source": [
    "# !pip install python_speech_features\n",
    "# !pip install playsound\n",
    "# !pip install -q tensorflow-model-optimization\n",
    "# !pip install pyaudio"
   ]
  },
  {
   "cell_type": "markdown",
   "metadata": {
    "id": "eL10wX1siLGx"
   },
   "source": [
    "# 데이터 학습 준비"
   ]
  },
  {
   "cell_type": "code",
   "execution_count": 250,
   "metadata": {
    "id": "LaIMW3_FdLEV"
   },
   "outputs": [],
   "source": [
    "from os import listdir\n",
    "from os.path import isdir, join\n",
    "import librosa\n",
    "import random\n",
    "import numpy as np\n",
    "import matplotlib.pyplot as plt\n",
    "import python_speech_features\n",
    "from playsound import playsound\n",
    "\n",
    "import tensorflow as tf\n",
    "from tensorflow.keras.applications import VGG16\n",
    "from tensorflow.keras import models\n",
    "from tensorflow.keras import layers\n",
    "from tensorflow import keras\n",
    "from tensorflow.keras.callbacks import EarlyStopping, ModelCheckpoint, ReduceLROnPlateau, CSVLogger, TensorBoard\n",
    "import tensorflow_model_optimization as tfmot\n",
    "from tensorflow import lite\n",
    "\n",
    "#base_path = \"/content/drive/MyDrive/\"\n",
    "base_path = \"./\""
   ]
  },
  {
   "cell_type": "code",
   "execution_count": 251,
   "metadata": {
    "id": "RwAiwzW6oNC4"
   },
   "outputs": [],
   "source": [
    "# MFCC 추출 해주기\n",
    "# https://blog.naver.com/PostView.nhn?isHttpsRedirect=true&blogId=sooftware&logNo=221661644808 참고\n",
    "\n",
    "# frame 개수를 보여줌, output 세로\n",
    "num_mfcc = 40\n",
    "def get_librosa_mfcc(filepath):\n",
    "  samplie_rate = 16000\n",
    "  sig, sr = librosa.core.load(filepath, samplie_rate)\n",
    "  sig = sig[:20000]\n",
    "  print(sig.shape)\n",
    "  hop_len = 800  # sig / hop_len 만큼 크기의 output 이 나옴\n",
    "  # log mell 찾아 보기\n",
    "  # 120 만큼은 겹치게 된다.\n",
    "  mfccs = librosa.feature.mfcc(y = sig, sr = sr, hop_length =hop_len, n_mfcc = num_mfcc, n_fft = 512 )\n",
    "  return mfccs\n",
    "\n",
    "# output 가로\n",
    "len_mfcc = 26\n",
    "\n",
    "\n",
    "# n_mfcc : 음성데이터를 어느 단위로 쪼갤지 (사람은 20 ~ 40 ms 까지는 음소가 바뀌지 못함 - 말 자르는 가장 작은 단위 == frame_size\n",
    "# n_fft : frame의 length = window size,   잘린 음석이 n_ftt보다 작으면 0으로 Padding 해줌, \n",
    "   #n_fft는 winddow size보다 크거나 같아야함\n",
    "   # n_ftt = 8000 * 0.040 = 320\n",
    "# hop_legth : window 얼마 만큼씩 움질일 것인가\n",
    "\n",
    "  # n_mfcc = 40\n",
    "  # hop_length = 200  # 8000 * 0.040\n",
    "  # N_FFT = 320    # 8000 * 0.040\n",
    "\n",
    "# 이거 기준으로 나눈 다음에 Mel값을 뽑아서 Feature로 사용하게 된다.  (  50%는 겹치게 분할을 진행)\n",
    "# 각각의 frame에 대해서 Hamming Window 적용해서 연속성 맞춰주기 - Default 설정임\n",
    "# 각 프레임에 대하여 Fourier Transform 적용해서(FFT) 주파서 성분 알아내기\n",
    "# Mel Filter Banb(삶귀처럼, 주파수 증가할수록 큰 삼각형 filter가 생각다고 생각하기)\n",
    "# 여기까지하면 Mel-Spectrogram Feature가 추출된다.\n",
    "\n",
    "# Mel-Spectrogram 을 압축해서 표현해주는 DCT 연산 수행 -> Discrete Cosine Transform\n"
   ]
  },
  {
   "cell_type": "code",
   "execution_count": 252,
   "metadata": {
    "colab": {
     "base_uri": "https://localhost:8080/",
     "height": 266
    },
    "id": "iigZ1Z0diKbl",
    "outputId": "0cb0ca6b-8a24-407a-b0bb-ecce4a39c67e"
   },
   "outputs": [
    {
     "name": "stdout",
     "output_type": "stream",
     "text": [
      "./custum_dataset\n",
      ".ipynb_checkpoints\n",
      "hi_yutan\n",
      "no\n",
      "_background_noise_\n",
      "['hi_yutan', 'no']\n",
      "./custum_dataset/hi_yutan\n",
      "./custum_dataset/no\n"
     ]
    }
   ],
   "source": [
    "# 데이터가 저장되어 있는 경로 ( class 별로 묶여 있는 곳)\n",
    "dataset_path = base_path + 'custum_dataset'\n",
    "print(dataset_path)\n",
    "\n",
    "# 폴더 안에 들어 있는 폴더명(class 이름 확인)\n",
    "for name in listdir(dataset_path): \n",
    "  if isdir( \"/\".join( [dataset_path,name ])) :  # 폴더가 존재 한다면\n",
    "    print(name)\n",
    "\n",
    "# 폴더명 = target ,  target이 들어가 있는 list 생성\n",
    "target_list = [ name for name in listdir(dataset_path) if isdir(\"/\".join( [dataset_path,name ]))]\n",
    "target_list.remove('_background_noise_')  # 배경음 제거 해주기\n",
    "target_list.remove('.ipynb_checkpoints')\n",
    "print(target_list)\n",
    "\n",
    "# filname, 을 쪽 모아서,\n",
    "filenames = []\n",
    "y = []\n",
    "for index, target in enumerate(target_list):\n",
    "    print('/'.join([dataset_path, target]))  # class 에 맞는 폴더 이름 넣어주기\n",
    "    filenames.append(listdir('/'.join([dataset_path, target])))\n",
    "    y.append(np.ones(len(filenames[index])) * index) \n",
    "\n",
    "# 하나로 쭉 나열 하기\n",
    "filenames = [item for sublist in filenames for item in sublist]\n",
    "y = [item for sublist in y for item in sublist]\n",
    "\n",
    "# file 모아둔거 한번 섞어 주기\n",
    "filenames_y = list(zip(filenames, y))\n",
    "random.shuffle(filenames_y)\n",
    "filenames, y = zip(*filenames_y)\n",
    "\n",
    "# train, valid, test 나눠 주기\n",
    "val_ratio = 0.1\n",
    "test_ratio = 0.2\n",
    "\n",
    "val_set_size = int(len(filenames) * val_ratio)\n",
    "test_set_size = int(len(filenames) * test_ratio)\n",
    "\n",
    "filenames_val = filenames[:val_set_size]\n",
    "filenames_test = filenames[val_set_size:(val_set_size + test_set_size)]\n",
    "filenames_train = filenames[(val_set_size + test_set_size):]\n",
    "\n",
    "y_orig_val = y[:val_set_size]\n",
    "y_orig_test = y[val_set_size:(val_set_size + test_set_size)]\n",
    "y_orig_train = y[(val_set_size + test_set_size):]\n",
    "\n"
   ]
  },
  {
   "cell_type": "code",
   "execution_count": 253,
   "metadata": {},
   "outputs": [
    {
     "name": "stdout",
     "output_type": "stream",
     "text": [
      "12 12\n",
      "24 24\n",
      "85 85\n"
     ]
    }
   ],
   "source": [
    "print(len(filenames_val), len(y_orig_val))\n",
    "print(len(filenames_test), len(y_orig_test))\n",
    "print(len(filenames_train), len(y_orig_train))\n"
   ]
  },
  {
   "cell_type": "code",
   "execution_count": 254,
   "metadata": {
    "id": "Ir7V_q_VoNFb"
   },
   "outputs": [
    {
     "name": "stderr",
     "output_type": "stream",
     "text": [
      "C:\\Users\\yutan\\anaconda3\\envs\\tensorflow\\lib\\site-packages\\ipykernel_launcher.py:8: FutureWarning: Pass sr=16000 as keyword args. From version 0.10 passing these as positional arguments will result in an error\n",
      "  \n"
     ]
    },
    {
     "name": "stdout",
     "output_type": "stream",
     "text": [
      "(20000,)\n",
      "(40, 26)\n",
      "(20000,)\n",
      "(40, 26)\n",
      "(20000,)\n",
      "(40, 26)\n",
      "(20000,)\n",
      "(40, 26)\n",
      "(20000,)\n",
      "(40, 26)\n",
      "(20000,)\n",
      "(40, 26)\n",
      "(20000,)\n",
      "(40, 26)\n",
      "(20000,)\n",
      "(40, 26)\n",
      "(20000,)\n",
      "(40, 26)\n",
      "(20000,)\n",
      "(40, 26)\n",
      "(20000,)\n",
      "(40, 26)\n",
      "(20000,)\n",
      "(40, 26)\n",
      "(20000,)\n",
      "(40, 26)\n",
      "(20000,)\n",
      "(40, 26)\n",
      "(20000,)\n",
      "(40, 26)\n",
      "(20000,)\n",
      "(40, 26)\n",
      "(20000,)\n",
      "(40, 26)\n",
      "(20000,)\n",
      "(40, 26)\n",
      "(20000,)\n",
      "(40, 26)\n",
      "(20000,)\n",
      "(40, 26)\n",
      "(20000,)\n",
      "(40, 26)\n",
      "(20000,)\n",
      "(40, 26)\n",
      "(20000,)\n",
      "(40, 26)\n",
      "(20000,)\n",
      "(40, 26)\n",
      "(20000,)\n",
      "(40, 26)\n",
      "(20000,)\n",
      "(40, 26)\n",
      "(20000,)\n",
      "(40, 26)\n",
      "(20000,)\n",
      "(40, 26)\n",
      "(20000,)\n",
      "(40, 26)\n",
      "(20000,)\n",
      "(40, 26)\n",
      "(20000,)\n",
      "(40, 26)\n",
      "(20000,)\n",
      "(40, 26)\n",
      "(20000,)\n",
      "(40, 26)\n",
      "(20000,)\n",
      "(40, 26)\n",
      "(20000,)\n",
      "(40, 26)\n",
      "(20000,)\n",
      "(40, 26)\n",
      "(20000,)\n",
      "(40, 26)\n",
      "(20000,)\n",
      "(40, 26)\n",
      "(20000,)\n",
      "(40, 26)\n",
      "(20000,)\n",
      "(40, 26)\n",
      "(20000,)\n",
      "(40, 26)\n",
      "(20000,)\n",
      "(40, 26)\n",
      "(20000,)\n",
      "(40, 26)\n",
      "(20000,)\n",
      "(40, 26)\n",
      "(20000,)\n",
      "(40, 26)\n",
      "(20000,)\n",
      "(40, 26)\n",
      "(20000,)\n",
      "(40, 26)\n",
      "(20000,)\n",
      "(40, 26)\n",
      "(20000,)\n",
      "(40, 26)\n",
      "(20000,)\n",
      "(40, 26)\n",
      "(20000,)\n",
      "(40, 26)\n",
      "(20000,)\n",
      "(40, 26)\n",
      "(20000,)\n",
      "(40, 26)\n",
      "(20000,)\n",
      "(40, 26)\n",
      "(20000,)\n",
      "(40, 26)\n",
      "(20000,)\n",
      "(40, 26)\n",
      "(20000,)\n",
      "(40, 26)\n",
      "(20000,)\n",
      "(40, 26)\n",
      "(20000,)\n",
      "(40, 26)\n",
      "(20000,)\n",
      "(40, 26)\n",
      "(20000,)\n",
      "(40, 26)\n",
      "(20000,)\n",
      "(40, 26)\n",
      "(20000,)\n",
      "(40, 26)\n",
      "(20000,)\n",
      "(40, 26)\n",
      "(20000,)\n",
      "(40, 26)\n",
      "(20000,)\n",
      "(40, 26)\n",
      "(20000,)\n",
      "(40, 26)\n",
      "(20000,)\n",
      "(40, 26)\n",
      "(20000,)\n",
      "(40, 26)\n",
      "(20000,)\n",
      "(40, 26)\n",
      "(20000,)\n",
      "(40, 26)\n",
      "(20000,)\n",
      "(40, 26)\n",
      "(20000,)\n",
      "(40, 26)\n",
      "(20000,)\n",
      "(40, 26)\n",
      "(20000,)\n",
      "(40, 26)\n",
      "(20000,)\n",
      "(40, 26)\n",
      "(20000,)\n",
      "(40, 26)\n",
      "(20000,)\n",
      "(40, 26)\n",
      "(20000,)\n",
      "(40, 26)\n",
      "(20000,)\n",
      "(40, 26)\n",
      "(20000,)\n",
      "(40, 26)\n",
      "(20000,)\n",
      "(40, 26)\n",
      "(20000,)\n",
      "(40, 26)\n",
      "(20000,)\n",
      "(40, 26)\n",
      "(20000,)\n",
      "(40, 26)\n"
     ]
    }
   ],
   "source": [
    "# 지금 내가 가지고 있는 것을 다 변환 했을때  동일한 크기의 mfcc 파일이 나오는가, 이상한거는 버려주기\n",
    "prob_cnt = 0  \n",
    "x_test = []\n",
    "y_test = []\n",
    "for index, filename in enumerate(filenames_train):\n",
    "    \n",
    "    # Stop after 500\n",
    "    if index >= 500:\n",
    "        break\n",
    "    \n",
    "    # Create path from given filename and target item\n",
    "    path = join(dataset_path, target_list[int(y_orig_train[index])], filename)\n",
    "    \n",
    "    # Create MFCCs\n",
    "    mfccs = get_librosa_mfcc(path)\n",
    "    print(mfccs.shape)\n",
    "    if mfccs.shape[1] == len_mfcc:    # 지금은 40으로 설정되어 있음, ///  길이가 부족하면 나중에 버려야함\n",
    "        x_test.append(mfccs)\n",
    "        y_test.append(y_orig_train[index])\n",
    "    else:\n",
    "        print('Dropped:', index, mfccs.shape)\n",
    "        prob_cnt += 1\n"
   ]
  },
  {
   "cell_type": "code",
   "execution_count": 255,
   "metadata": {
    "id": "ImVwh1C9EDv-"
   },
   "outputs": [
    {
     "name": "stdout",
     "output_type": "stream",
     "text": [
      "(20000,)\n",
      "MFCCs: [[-9.8337433e+02 -8.6239093e+02 -8.7461609e+02 ... -9.6640649e+02\n",
      "  -9.5538092e+02 -9.7637097e+02]\n",
      " [ 7.3092896e+01  7.3710541e+01  6.2771656e+01 ...  4.1964104e+01\n",
      "   6.5123352e+01  4.8438751e+01]\n",
      " [ 4.3509502e+00 -1.1370981e+00 -2.6839967e+00 ...  1.0083340e+01\n",
      "   1.5607588e+01  1.4771362e+01]\n",
      " ...\n",
      " [-5.8871088e+00 -1.3188517e+00  2.3336666e+00 ...  5.6511869e+00\n",
      "   4.4412464e-01 -2.1316152e+00]\n",
      " [ 1.3874447e+00  1.5675896e+00 -9.7566214e+00 ... -4.8497584e-01\n",
      "   1.7370390e+00 -2.3408337e+00]\n",
      " [ 3.3631542e+00  2.8551254e+00 -2.3733077e+00 ...  5.9705108e-01\n",
      "   4.2792058e+00  3.1438589e+00]]\n"
     ]
    },
    {
     "name": "stderr",
     "output_type": "stream",
     "text": [
      "C:\\Users\\yutan\\anaconda3\\envs\\tensorflow\\lib\\site-packages\\ipykernel_launcher.py:8: FutureWarning: Pass sr=16000 as keyword args. From version 0.10 passing these as positional arguments will result in an error\n",
      "  \n"
     ]
    },
    {
     "data": {
      "text/plain": [
       "<matplotlib.image.AxesImage at 0x1d61959b048>"
      ]
     },
     "execution_count": 255,
     "metadata": {},
     "output_type": "execute_result"
    },
    {
     "data": {
      "image/png": "[encoded data removed]",
      "text/plain": [
       "<Figure size 432x288 with 1 Axes>"
      ]
     },
     "metadata": {
      "needs_background": "light"
     },
     "output_type": "display_data"
    }
   ],
   "source": [
    "# 내가 확인 할 부분\n",
    "idx = 1\n",
    "\n",
    "# Create path from given filename and target item\n",
    "path = '/'.join([dataset_path, target_list[int(y_orig_train[idx])], \n",
    "            filenames_train[idx]])\n",
    "\n",
    "# mfcc 만들기\n",
    "mfccs = get_librosa_mfcc(path)\n",
    "print(\"MFCCs:\", mfccs)\n",
    "\n",
    "# MFCC 그림으로 보기\n",
    "fig = plt.figure()\n",
    "plt.imshow(mfccs, cmap='inferno', origin='lower')\n",
    "\n",
    "# 소리 확인\n",
    "# print(target_list[int(y_orig_train[idx])])\n",
    "# print(path)\n",
    "# playsound(path)"
   ]
  },
  {
   "cell_type": "code",
   "execution_count": 256,
   "metadata": {
    "id": "2O53qDlmF6pp"
   },
   "outputs": [],
   "source": [
    "# 학습 하기 전에 미리 모든 소리에 대해서 feature 추출해서 준비 해두는 단계, inpu을 맞추려고 \n",
    "def extract_features(in_files, in_y):\n",
    "    prob_cnt = 0\n",
    "    out_x = []\n",
    "    out_y = []\n",
    "        \n",
    "    for index, filename in enumerate(in_files):\n",
    "    \n",
    "        # Create path from given filename and target item\n",
    "        path = \"/\".join([dataset_path, target_list[int(in_y[index])], \n",
    "                    filename])\n",
    "        \n",
    "        # Check to make sure we're reading a .wav file\n",
    "        if not path.endswith('.wav'):\n",
    "            continue\n",
    "\n",
    "        # Create MFCCs\n",
    "        mfccs = get_librosa_mfcc(path)\n",
    "        print(mfccs.shape)\n",
    "\n",
    "        if mfccs.shape[1] == len_mfcc:\n",
    "            out_x.append(mfccs)\n",
    "            out_y.append(in_y[index])\n",
    "        else:\n",
    "            print('Dropped:', index, mfccs.shape)\n",
    "            prob_cnt += 1\n",
    "            \n",
    "    return out_x, out_y, prob_cnt"
   ]
  },
  {
   "cell_type": "code",
   "execution_count": 257,
   "metadata": {},
   "outputs": [
    {
     "name": "stdout",
     "output_type": "stream",
     "text": [
      "55\n",
      "7\n",
      "85\n"
     ]
    }
   ],
   "source": [
    "print(len(y_train))\n",
    "print(len(y_val))\n",
    "print(len(y_test))"
   ]
  },
  {
   "cell_type": "code",
   "execution_count": 258,
   "metadata": {
    "id": "TVOZN9PqGHe9"
   },
   "outputs": [
    {
     "name": "stdout",
     "output_type": "stream",
     "text": [
      "(20000,)\n",
      "(40, 26)\n"
     ]
    },
    {
     "name": "stderr",
     "output_type": "stream",
     "text": [
      "C:\\Users\\yutan\\anaconda3\\envs\\tensorflow\\lib\\site-packages\\ipykernel_launcher.py:8: FutureWarning: Pass sr=16000 as keyword args. From version 0.10 passing these as positional arguments will result in an error\n",
      "  \n"
     ]
    },
    {
     "name": "stdout",
     "output_type": "stream",
     "text": [
      "(20000,)\n",
      "(40, 26)\n",
      "(20000,)\n",
      "(40, 26)\n",
      "(20000,)\n",
      "(40, 26)\n",
      "(20000,)\n",
      "(40, 26)\n",
      "(20000,)\n",
      "(40, 26)\n",
      "(20000,)\n",
      "(40, 26)\n",
      "(20000,)\n",
      "(40, 26)\n",
      "(20000,)\n",
      "(40, 26)\n",
      "(20000,)\n",
      "(40, 26)\n",
      "(20000,)\n",
      "(40, 26)\n",
      "(20000,)\n",
      "(40, 26)\n",
      "(20000,)\n",
      "(40, 26)\n",
      "(20000,)\n",
      "(40, 26)\n",
      "(20000,)\n",
      "(40, 26)\n",
      "(20000,)\n",
      "(40, 26)\n",
      "(20000,)\n",
      "(40, 26)\n",
      "(20000,)\n",
      "(40, 26)\n",
      "(20000,)\n",
      "(40, 26)\n",
      "(20000,)\n",
      "(40, 26)\n",
      "(20000,)\n",
      "(40, 26)\n",
      "(20000,)\n",
      "(40, 26)\n",
      "(20000,)\n",
      "(40, 26)\n",
      "(20000,)\n",
      "(40, 26)\n",
      "(20000,)\n",
      "(40, 26)\n",
      "(20000,)\n",
      "(40, 26)\n",
      "(20000,)\n",
      "(40, 26)\n",
      "(20000,)\n",
      "(40, 26)\n",
      "(20000,)\n",
      "(40, 26)\n",
      "(20000,)\n",
      "(40, 26)\n",
      "(20000,)\n",
      "(40, 26)\n",
      "(20000,)\n",
      "(40, 26)\n",
      "(20000,)\n",
      "(40, 26)\n",
      "(20000,)\n",
      "(40, 26)\n",
      "(20000,)\n",
      "(40, 26)\n",
      "(20000,)\n",
      "(40, 26)\n",
      "(20000,)\n",
      "(40, 26)\n",
      "(20000,)\n",
      "(40, 26)\n",
      "(20000,)\n",
      "(40, 26)\n",
      "(20000,)\n",
      "(40, 26)\n",
      "(20000,)\n",
      "(40, 26)\n",
      "(20000,)\n",
      "(40, 26)\n",
      "(20000,)\n",
      "(40, 26)\n",
      "(20000,)\n",
      "(40, 26)\n",
      "(20000,)\n",
      "(40, 26)\n",
      "(20000,)\n",
      "(40, 26)\n",
      "(20000,)\n",
      "(40, 26)\n",
      "(20000,)\n",
      "(40, 26)\n",
      "(20000,)\n",
      "(40, 26)\n",
      "(20000,)\n",
      "(40, 26)\n",
      "(20000,)\n",
      "(40, 26)\n",
      "(20000,)\n",
      "(40, 26)\n",
      "(20000,)\n",
      "(40, 26)\n",
      "(20000,)\n",
      "(40, 26)\n",
      "(20000,)\n",
      "(40, 26)\n",
      "(20000,)\n",
      "(40, 26)\n",
      "(20000,)\n",
      "(40, 26)\n",
      "(20000,)\n",
      "(40, 26)\n",
      "(20000,)\n",
      "(40, 26)\n",
      "(20000,)\n",
      "(40, 26)\n",
      "(20000,)\n",
      "(40, 26)\n",
      "(20000,)\n",
      "(40, 26)\n",
      "(20000,)\n",
      "(40, 26)\n",
      "(20000,)\n",
      "(40, 26)\n",
      "(20000,)\n",
      "(40, 26)\n",
      "(20000,)\n",
      "(40, 26)\n",
      "(20000,)\n",
      "(40, 26)\n",
      "(20000,)\n",
      "(40, 26)\n",
      "(20000,)\n",
      "(40, 26)\n",
      "(20000,)\n",
      "(40, 26)\n",
      "(20000,)\n",
      "(40, 26)\n",
      "(20000,)\n",
      "(40, 26)\n",
      "(20000,)\n",
      "(40, 26)\n",
      "(20000,)\n",
      "(40, 26)\n",
      "(20000,)\n",
      "(40, 26)\n",
      "(20000,)\n",
      "(40, 26)\n",
      "(20000,)\n",
      "(40, 26)\n",
      "(20000,)\n",
      "(40, 26)\n",
      "(20000,)\n",
      "(40, 26)\n",
      "(20000,)\n",
      "(40, 26)\n",
      "(20000,)\n",
      "(40, 26)\n",
      "(20000,)\n",
      "(40, 26)\n",
      "(20000,)\n",
      "(40, 26)\n",
      "(20000,)\n",
      "(40, 26)\n",
      "(20000,)\n",
      "(40, 26)\n",
      "(20000,)\n",
      "(40, 26)\n",
      "(20000,)\n",
      "(40, 26)\n",
      "(20000,)\n",
      "(40, 26)\n",
      "(20000,)\n",
      "(40, 26)\n",
      "(20000,)\n",
      "(40, 26)\n",
      "(20000,)\n",
      "(40, 26)\n",
      "(20000,)\n",
      "(40, 26)\n",
      "(20000,)\n",
      "(40, 26)\n",
      "(20000,)\n",
      "(40, 26)\n",
      "(20000,)\n",
      "(40, 26)\n",
      "(20000,)\n",
      "(40, 26)\n",
      "(20000,)\n",
      "(40, 26)\n",
      "(20000,)\n",
      "(40, 26)\n",
      "(20000,)\n",
      "(40, 26)\n",
      "(20000,)\n",
      "(40, 26)\n",
      "(20000,)\n",
      "(40, 26)\n",
      "(20000,)\n",
      "(40, 26)\n",
      "(20000,)\n",
      "(40, 26)\n",
      "(20000,)\n",
      "(40, 26)\n",
      "(20000,)\n",
      "(40, 26)\n",
      "(20000,)\n",
      "(40, 26)\n",
      "(20000,)\n",
      "(40, 26)\n",
      "(20000,)\n",
      "(40, 26)\n",
      "(20000,)\n",
      "(40, 26)\n",
      "(20000,)\n",
      "(40, 26)\n",
      "(20000,)\n",
      "(40, 26)\n",
      "(20000,)\n",
      "(40, 26)\n",
      "(20000,)\n",
      "(40, 26)\n",
      "(20000,)\n",
      "(40, 26)\n",
      "(20000,)\n",
      "(40, 26)\n",
      "(20000,)\n",
      "(40, 26)\n",
      "(20000,)\n",
      "(40, 26)\n",
      "(20000,)\n",
      "(40, 26)\n",
      "(20000,)\n",
      "(40, 26)\n",
      "(20000,)\n",
      "(40, 26)\n",
      "(20000,)\n",
      "(40, 26)\n",
      "Train 잃은거0.0\n",
      "Valid 잃은거0.0\n",
      "Test 잃은거0.0\n"
     ]
    }
   ],
   "source": [
    "x_train, y_train, prob_train = extract_features(filenames_train, y_orig_train)\n",
    "x_val, y_val, prob_val = extract_features(filenames_val, y_orig_val)\n",
    "x_test, y_test, prob_test = extract_features(filenames_test, y_orig_test)\n",
    "\n",
    "\n",
    "print(\"Train 잃은거{}\".format(prob_train / len(y_orig_train)))\n",
    "print(\"Valid 잃은거{}\".format(prob_val / len(y_orig_val)))\n",
    "print(\"Test 잃은거{}\".format(prob_test / len(y_orig_test)))"
   ]
  },
  {
   "cell_type": "code",
   "execution_count": 259,
   "metadata": {
    "id": "BFEyc1kIG2oC"
   },
   "outputs": [],
   "source": [
    "# 학습에 사용할 모든 - MFCC 까지 모두 진행한 정보들\n",
    "#저장 할 곳\n",
    "np.savez(\"./mfcc_set.npz\", \n",
    "         x_train=x_train, \n",
    "         y_train=y_train, \n",
    "         x_val=x_val, \n",
    "         y_val=y_val, \n",
    "         x_test=x_test, \n",
    "         y_test=y_test)"
   ]
  },
  {
   "cell_type": "markdown",
   "metadata": {
    "id": "XVQZDw7giaeS"
   },
   "source": [
    "# 모델 학습"
   ]
  },
  {
   "cell_type": "code",
   "execution_count": 260,
   "metadata": {
    "colab": {
     "base_uri": "https://localhost:8080/",
     "height": 0
    },
    "id": "UORwgpYuFs3a",
    "outputId": "916b60f5-4a5f-48d5-8de7-1c98daf7477b"
   },
   "outputs": [],
   "source": [
    "# 나중에 저장할 모델 - 2진 분류\n",
    "model_filename = 'hi_yutan_original_model.h5'\n",
    "wake_word = 'hi_yutan'\n",
    "feature_sets = np.load( base_path + \"mfcc_set.npz\")\n",
    "\n",
    "# 저장되어 있는 mfcc feature 들 불러 오기\n",
    "x_train = feature_sets['x_train']\n",
    "y_train = feature_sets['y_train']\n",
    "x_val = feature_sets['x_val']\n",
    "y_val = feature_sets['y_val']\n",
    "x_test = feature_sets['x_test']\n",
    "y_test = feature_sets['y_test']"
   ]
  },
  {
   "cell_type": "code",
   "execution_count": 261,
   "metadata": {
    "colab": {
     "base_uri": "https://localhost:8080/",
     "height": 0
    },
    "id": "iOdWs4rVoNX-",
    "outputId": "52a9eae8-a96b-4e60-a663-b856a489dbe3"
   },
   "outputs": [
    {
     "name": "stdout",
     "output_type": "stream",
     "text": [
      "(85, 40, 26)\n",
      "(12, 40, 26)\n",
      "(24, 40, 26)\n"
     ]
    }
   ],
   "source": [
    "print(x_train.shape)\n",
    "print(x_val.shape)\n",
    "print(x_test.shape)"
   ]
  },
  {
   "cell_type": "code",
   "execution_count": 262,
   "metadata": {
    "id": "gNjK8_proNIH"
   },
   "outputs": [
    {
     "name": "stdout",
     "output_type": "stream",
     "text": [
      "0\n"
     ]
    }
   ],
   "source": [
    "# 내가 수행 하고 싶은 \"기동어\" 설정\n",
    "# index (나는 하나니까 0) 이면, True 또는 False 반환 해주기 - 1아니면 0 ]\n",
    "wake_word_index = target_list.index(wake_word)\n",
    "y_train = np.equal(y_train, wake_word_index).astype('float64')\n",
    "y_val = np.equal(y_val, wake_word_index).astype('float64')\n",
    "y_test = np.equal(y_test, wake_word_index).astype('float64')\n",
    "print(wake_word_index)"
   ]
  },
  {
   "cell_type": "code",
   "execution_count": 263,
   "metadata": {
    "id": "eFsT1UyyoNbG"
   },
   "outputs": [
    {
     "name": "stdout",
     "output_type": "stream",
     "text": [
      "(85, 40, 26, 1)\n",
      "(12, 40, 26, 1)\n",
      "(24, 40, 26, 1)\n",
      "(40, 26, 1)\n"
     ]
    }
   ],
   "source": [
    "# CNN 에 넣기 이전에 Channel을 1로 만들어주기\n",
    "\n",
    "x_train = x_train.reshape(x_train.shape[0], \n",
    "                          x_train.shape[1], \n",
    "                          x_train.shape[2], \n",
    "                          1)\n",
    "x_val = x_val.reshape(x_val.shape[0], \n",
    "                      x_val.shape[1], \n",
    "                      x_val.shape[2], \n",
    "                      1)\n",
    "x_test = x_test.reshape(x_test.shape[0], \n",
    "                        x_test.shape[1], \n",
    "                        x_test.shape[2], \n",
    "                        1)\n",
    "print(x_train.shape)\n",
    "print(x_val.shape)\n",
    "print(x_test.shape)\n",
    "\n",
    "sample_shape = x_test.shape[1:]\n",
    "print(sample_shape)"
   ]
  },
  {
   "cell_type": "code",
   "execution_count": 264,
   "metadata": {
    "id": "TllWIRQ8NHt6"
   },
   "outputs": [
    {
     "name": "stdout",
     "output_type": "stream",
     "text": [
      "Model: \"sequential_11\"\n",
      "_________________________________________________________________\n",
      "Layer (type)                 Output Shape              Param #   \n",
      "=================================================================\n",
      "sequential_9 (Sequential)    (None, 4, 2, 64)          12544     \n",
      "_________________________________________________________________\n",
      "sequential_10 (Sequential)   (None, 1)                 32897     \n",
      "=================================================================\n",
      "Total params: 45,441\n",
      "Trainable params: 45,441\n",
      "Non-trainable params: 0\n",
      "_________________________________________________________________\n"
     ]
    }
   ],
   "source": [
    "# 모델 Conv-layer \n",
    "conv_layer = keras.Sequential([\n",
    "                             layers.Conv2D(32, (2,2), activation = 'relu', input_shape = sample_shape),\n",
    "                             layers.MaxPooling2D(pool_size=(2, 2)),\n",
    "                             layers.Conv2D(32, (2, 2), activation='relu'),\n",
    "                             layers.MaxPooling2D(pool_size=(2, 2)),\n",
    "                             layers.Conv2D(64, (2, 2), activation='relu'),\n",
    "                             layers.MaxPooling2D(pool_size=(2, 2))\n",
    "                             ])\n",
    "# FC layer는 다른거 사용   --  Class 10 개 분류\n",
    "fc_layer = keras.Sequential([\n",
    "                             layers.Flatten(),\n",
    "                             layers.Dense(64, activation = 'relu'),\n",
    "                             layers.Dropout(0.5),\n",
    "                             layers.Dense(1, activation = \"sigmoid\")\n",
    "                             ])\n",
    "\n",
    "model = keras.Sequential([conv_layer,\n",
    "                          fc_layer\n",
    "                          ])\n",
    "model.summary()"
   ]
  },
  {
   "cell_type": "code",
   "execution_count": 265,
   "metadata": {
    "id": "wnQ9lmkPOWzo"
   },
   "outputs": [],
   "source": [
    "# Callback 함수 지정 해주기      학습하는 동안 설정해줄것\n",
    "early_stop = EarlyStopping(patience=30) \n",
    "mc = ModelCheckpoint(base_path + \"best_model/wake_up_word_model\", \n",
    "                     save_best_only=True,\n",
    "                     monitor = 'val_loss',\n",
    "                     verbose = 1,\n",
    "                     mode = 'min') \n",
    "reduce_lr  = ReduceLROnPlateau(monitor = 'val_loss',\n",
    "                               factor=0.5, \n",
    "                               patience=5\n",
    "                               ) \n",
    "\n",
    "#optimizer 조정 해주기\n",
    "opt = tf.keras.optimizers.Adam(learning_rate=0.0001)"
   ]
  },
  {
   "cell_type": "code",
   "execution_count": 266,
   "metadata": {
    "id": "znxHqYi_OW55"
   },
   "outputs": [
    {
     "name": "stdout",
     "output_type": "stream",
     "text": [
      "Epoch 1/100\n",
      "3/3 [==============================] - 1s 235ms/step - loss: 4.0920 - accuracy: 0.6941 - val_loss: 0.8726 - val_accuracy: 0.9167\n",
      "\n",
      "Epoch 00001: val_loss improved from inf to 0.87264, saving model to ./best_model\\wake_up_word_model\n",
      "INFO:tensorflow:Assets written to: ./best_model\\wake_up_word_model\\assets\n"
     ]
    },
    {
     "name": "stderr",
     "output_type": "stream",
     "text": [
      "INFO:tensorflow:Assets written to: ./best_model\\wake_up_word_model\\assets\n"
     ]
    },
    {
     "name": "stdout",
     "output_type": "stream",
     "text": [
      "Epoch 2/100\n",
      "3/3 [==============================] - 0s 22ms/step - loss: 2.8243 - accuracy: 0.6941 - val_loss: 0.7020 - val_accuracy: 0.9167\n",
      "\n",
      "Epoch 00002: val_loss improved from 0.87264 to 0.70199, saving model to ./best_model\\wake_up_word_model\n",
      "INFO:tensorflow:Assets written to: ./best_model\\wake_up_word_model\\assets\n"
     ]
    },
    {
     "name": "stderr",
     "output_type": "stream",
     "text": [
      "INFO:tensorflow:Assets written to: ./best_model\\wake_up_word_model\\assets\n"
     ]
    },
    {
     "name": "stdout",
     "output_type": "stream",
     "text": [
      "Epoch 3/100\n",
      "3/3 [==============================] - 0s 23ms/step - loss: 2.5528 - accuracy: 0.6824 - val_loss: 0.5806 - val_accuracy: 0.9167\n",
      "\n",
      "Epoch 00003: val_loss improved from 0.70199 to 0.58063, saving model to ./best_model\\wake_up_word_model\n",
      "INFO:tensorflow:Assets written to: ./best_model\\wake_up_word_model\\assets\n"
     ]
    },
    {
     "name": "stderr",
     "output_type": "stream",
     "text": [
      "INFO:tensorflow:Assets written to: ./best_model\\wake_up_word_model\\assets\n"
     ]
    },
    {
     "name": "stdout",
     "output_type": "stream",
     "text": [
      "Epoch 4/100\n",
      "3/3 [==============================] - 0s 20ms/step - loss: 2.3099 - accuracy: 0.6824 - val_loss: 0.4684 - val_accuracy: 0.9167\n",
      "\n",
      "Epoch 00004: val_loss improved from 0.58063 to 0.46840, saving model to ./best_model\\wake_up_word_model\n",
      "INFO:tensorflow:Assets written to: ./best_model\\wake_up_word_model\\assets\n"
     ]
    },
    {
     "name": "stderr",
     "output_type": "stream",
     "text": [
      "INFO:tensorflow:Assets written to: ./best_model\\wake_up_word_model\\assets\n"
     ]
    },
    {
     "name": "stdout",
     "output_type": "stream",
     "text": [
      "Epoch 5/100\n",
      "3/3 [==============================] - 0s 21ms/step - loss: 3.0652 - accuracy: 0.6471 - val_loss: 0.3617 - val_accuracy: 0.9167\n",
      "\n",
      "Epoch 00005: val_loss improved from 0.46840 to 0.36170, saving model to ./best_model\\wake_up_word_model\n",
      "INFO:tensorflow:Assets written to: ./best_model\\wake_up_word_model\\assets\n"
     ]
    },
    {
     "name": "stderr",
     "output_type": "stream",
     "text": [
      "INFO:tensorflow:Assets written to: ./best_model\\wake_up_word_model\\assets\n"
     ]
    },
    {
     "name": "stdout",
     "output_type": "stream",
     "text": [
      "Epoch 6/100\n",
      "3/3 [==============================] - 0s 30ms/step - loss: 2.6118 - accuracy: 0.6706 - val_loss: 0.2748 - val_accuracy: 0.9167\n",
      "\n",
      "Epoch 00006: val_loss improved from 0.36170 to 0.27482, saving model to ./best_model\\wake_up_word_model\n",
      "INFO:tensorflow:Assets written to: ./best_model\\wake_up_word_model\\assets\n"
     ]
    },
    {
     "name": "stderr",
     "output_type": "stream",
     "text": [
      "INFO:tensorflow:Assets written to: ./best_model\\wake_up_word_model\\assets\n"
     ]
    },
    {
     "name": "stdout",
     "output_type": "stream",
     "text": [
      "Epoch 7/100\n",
      "3/3 [==============================] - 0s 22ms/step - loss: 2.5874 - accuracy: 0.6118 - val_loss: 0.2478 - val_accuracy: 0.9167\n",
      "\n",
      "Epoch 00007: val_loss improved from 0.27482 to 0.24783, saving model to ./best_model\\wake_up_word_model\n",
      "INFO:tensorflow:Assets written to: ./best_model\\wake_up_word_model\\assets\n"
     ]
    },
    {
     "name": "stderr",
     "output_type": "stream",
     "text": [
      "INFO:tensorflow:Assets written to: ./best_model\\wake_up_word_model\\assets\n"
     ]
    },
    {
     "name": "stdout",
     "output_type": "stream",
     "text": [
      "Epoch 8/100\n",
      "3/3 [==============================] - 0s 25ms/step - loss: 1.5092 - accuracy: 0.7294 - val_loss: 0.2239 - val_accuracy: 0.9167\n",
      "\n",
      "Epoch 00008: val_loss improved from 0.24783 to 0.22389, saving model to ./best_model\\wake_up_word_model\n",
      "INFO:tensorflow:Assets written to: ./best_model\\wake_up_word_model\\assets\n"
     ]
    },
    {
     "name": "stderr",
     "output_type": "stream",
     "text": [
      "INFO:tensorflow:Assets written to: ./best_model\\wake_up_word_model\\assets\n"
     ]
    },
    {
     "name": "stdout",
     "output_type": "stream",
     "text": [
      "Epoch 9/100\n",
      "3/3 [==============================] - 0s 22ms/step - loss: 1.2975 - accuracy: 0.6706 - val_loss: 0.2069 - val_accuracy: 0.9167\n",
      "\n",
      "Epoch 00009: val_loss improved from 0.22389 to 0.20694, saving model to ./best_model\\wake_up_word_model\n",
      "INFO:tensorflow:Assets written to: ./best_model\\wake_up_word_model\\assets\n"
     ]
    },
    {
     "name": "stderr",
     "output_type": "stream",
     "text": [
      "INFO:tensorflow:Assets written to: ./best_model\\wake_up_word_model\\assets\n"
     ]
    },
    {
     "name": "stdout",
     "output_type": "stream",
     "text": [
      "Epoch 10/100\n",
      "3/3 [==============================] - 0s 27ms/step - loss: 2.1069 - accuracy: 0.6235 - val_loss: 0.2160 - val_accuracy: 0.9167\n",
      "\n",
      "Epoch 00010: val_loss did not improve from 0.20694\n",
      "Epoch 11/100\n",
      "3/3 [==============================] - 0s 26ms/step - loss: 1.4764 - accuracy: 0.6706 - val_loss: 0.2020 - val_accuracy: 0.9167\n",
      "\n",
      "Epoch 00011: val_loss improved from 0.20694 to 0.20198, saving model to ./best_model\\wake_up_word_model\n",
      "INFO:tensorflow:Assets written to: ./best_model\\wake_up_word_model\\assets\n"
     ]
    },
    {
     "name": "stderr",
     "output_type": "stream",
     "text": [
      "INFO:tensorflow:Assets written to: ./best_model\\wake_up_word_model\\assets\n"
     ]
    },
    {
     "name": "stdout",
     "output_type": "stream",
     "text": [
      "Epoch 12/100\n",
      "3/3 [==============================] - 0s 25ms/step - loss: 0.8115 - accuracy: 0.7647 - val_loss: 0.1917 - val_accuracy: 0.9167\n",
      "\n",
      "Epoch 00012: val_loss improved from 0.20198 to 0.19165, saving model to ./best_model\\wake_up_word_model\n",
      "INFO:tensorflow:Assets written to: ./best_model\\wake_up_word_model\\assets\n"
     ]
    },
    {
     "name": "stderr",
     "output_type": "stream",
     "text": [
      "INFO:tensorflow:Assets written to: ./best_model\\wake_up_word_model\\assets\n"
     ]
    },
    {
     "name": "stdout",
     "output_type": "stream",
     "text": [
      "Epoch 13/100\n",
      "3/3 [==============================] - 0s 24ms/step - loss: 1.4106 - accuracy: 0.7176 - val_loss: 0.1786 - val_accuracy: 0.9167\n",
      "\n",
      "Epoch 00013: val_loss improved from 0.19165 to 0.17858, saving model to ./best_model\\wake_up_word_model\n",
      "INFO:tensorflow:Assets written to: ./best_model\\wake_up_word_model\\assets\n"
     ]
    },
    {
     "name": "stderr",
     "output_type": "stream",
     "text": [
      "INFO:tensorflow:Assets written to: ./best_model\\wake_up_word_model\\assets\n"
     ]
    },
    {
     "name": "stdout",
     "output_type": "stream",
     "text": [
      "Epoch 14/100\n",
      "3/3 [==============================] - 0s 20ms/step - loss: 0.8507 - accuracy: 0.8000 - val_loss: 0.1552 - val_accuracy: 0.9167\n",
      "\n",
      "Epoch 00014: val_loss improved from 0.17858 to 0.15525, saving model to ./best_model\\wake_up_word_model\n",
      "INFO:tensorflow:Assets written to: ./best_model\\wake_up_word_model\\assets\n"
     ]
    },
    {
     "name": "stderr",
     "output_type": "stream",
     "text": [
      "INFO:tensorflow:Assets written to: ./best_model\\wake_up_word_model\\assets\n"
     ]
    },
    {
     "name": "stdout",
     "output_type": "stream",
     "text": [
      "Epoch 15/100\n",
      "3/3 [==============================] - 0s 21ms/step - loss: 1.0283 - accuracy: 0.7647 - val_loss: 0.1222 - val_accuracy: 0.9167\n",
      "\n",
      "Epoch 00015: val_loss improved from 0.15525 to 0.12221, saving model to ./best_model\\wake_up_word_model\n",
      "INFO:tensorflow:Assets written to: ./best_model\\wake_up_word_model\\assets\n"
     ]
    },
    {
     "name": "stderr",
     "output_type": "stream",
     "text": [
      "INFO:tensorflow:Assets written to: ./best_model\\wake_up_word_model\\assets\n"
     ]
    },
    {
     "name": "stdout",
     "output_type": "stream",
     "text": [
      "Epoch 16/100\n",
      "3/3 [==============================] - 0s 27ms/step - loss: 0.9430 - accuracy: 0.7176 - val_loss: 0.1113 - val_accuracy: 0.9167\n",
      "\n",
      "Epoch 00016: val_loss improved from 0.12221 to 0.11128, saving model to ./best_model\\wake_up_word_model\n",
      "INFO:tensorflow:Assets written to: ./best_model\\wake_up_word_model\\assets\n"
     ]
    },
    {
     "name": "stderr",
     "output_type": "stream",
     "text": [
      "INFO:tensorflow:Assets written to: ./best_model\\wake_up_word_model\\assets\n"
     ]
    },
    {
     "name": "stdout",
     "output_type": "stream",
     "text": [
      "Epoch 17/100\n",
      "3/3 [==============================] - 0s 19ms/step - loss: 0.6880 - accuracy: 0.7529 - val_loss: 0.1123 - val_accuracy: 1.0000\n",
      "\n",
      "Epoch 00017: val_loss did not improve from 0.11128\n",
      "Epoch 18/100\n",
      "3/3 [==============================] - 0s 21ms/step - loss: 0.6618 - accuracy: 0.7647 - val_loss: 0.1234 - val_accuracy: 1.0000\n",
      "\n",
      "Epoch 00018: val_loss did not improve from 0.11128\n",
      "Epoch 19/100\n",
      "3/3 [==============================] - 0s 20ms/step - loss: 0.6757 - accuracy: 0.7647 - val_loss: 0.1449 - val_accuracy: 1.0000\n",
      "\n",
      "Epoch 00019: val_loss did not improve from 0.11128\n",
      "Epoch 20/100\n",
      "3/3 [==============================] - 0s 17ms/step - loss: 0.5587 - accuracy: 0.8118 - val_loss: 0.1489 - val_accuracy: 1.0000\n",
      "\n",
      "Epoch 00020: val_loss did not improve from 0.11128\n",
      "Epoch 21/100\n",
      "3/3 [==============================] - 0s 20ms/step - loss: 0.5422 - accuracy: 0.7529 - val_loss: 0.1199 - val_accuracy: 1.0000\n",
      "\n",
      "Epoch 00021: val_loss did not improve from 0.11128\n",
      "Epoch 22/100\n",
      "3/3 [==============================] - 0s 21ms/step - loss: 0.4113 - accuracy: 0.8235 - val_loss: 0.1088 - val_accuracy: 1.0000\n",
      "\n",
      "Epoch 00022: val_loss improved from 0.11128 to 0.10885, saving model to ./best_model\\wake_up_word_model\n",
      "INFO:tensorflow:Assets written to: ./best_model\\wake_up_word_model\\assets\n"
     ]
    },
    {
     "name": "stderr",
     "output_type": "stream",
     "text": [
      "INFO:tensorflow:Assets written to: ./best_model\\wake_up_word_model\\assets\n"
     ]
    },
    {
     "name": "stdout",
     "output_type": "stream",
     "text": [
      "Epoch 23/100\n",
      "3/3 [==============================] - 0s 23ms/step - loss: 0.5109 - accuracy: 0.8000 - val_loss: 0.1056 - val_accuracy: 1.0000\n",
      "\n",
      "Epoch 00023: val_loss improved from 0.10885 to 0.10558, saving model to ./best_model\\wake_up_word_model\n",
      "INFO:tensorflow:Assets written to: ./best_model\\wake_up_word_model\\assets\n"
     ]
    },
    {
     "name": "stderr",
     "output_type": "stream",
     "text": [
      "INFO:tensorflow:Assets written to: ./best_model\\wake_up_word_model\\assets\n"
     ]
    },
    {
     "name": "stdout",
     "output_type": "stream",
     "text": [
      "Epoch 24/100\n",
      "3/3 [==============================] - 0s 27ms/step - loss: 0.5111 - accuracy: 0.7647 - val_loss: 0.1025 - val_accuracy: 1.0000\n",
      "\n",
      "Epoch 00024: val_loss improved from 0.10558 to 0.10246, saving model to ./best_model\\wake_up_word_model\n",
      "INFO:tensorflow:Assets written to: ./best_model\\wake_up_word_model\\assets\n"
     ]
    },
    {
     "name": "stderr",
     "output_type": "stream",
     "text": [
      "INFO:tensorflow:Assets written to: ./best_model\\wake_up_word_model\\assets\n"
     ]
    },
    {
     "name": "stdout",
     "output_type": "stream",
     "text": [
      "Epoch 25/100\n",
      "3/3 [==============================] - 0s 22ms/step - loss: 0.4157 - accuracy: 0.8118 - val_loss: 0.0961 - val_accuracy: 1.0000\n",
      "\n",
      "Epoch 00025: val_loss improved from 0.10246 to 0.09610, saving model to ./best_model\\wake_up_word_model\n",
      "INFO:tensorflow:Assets written to: ./best_model\\wake_up_word_model\\assets\n"
     ]
    },
    {
     "name": "stderr",
     "output_type": "stream",
     "text": [
      "INFO:tensorflow:Assets written to: ./best_model\\wake_up_word_model\\assets\n"
     ]
    },
    {
     "name": "stdout",
     "output_type": "stream",
     "text": [
      "Epoch 26/100\n",
      "3/3 [==============================] - 0s 20ms/step - loss: 0.4605 - accuracy: 0.8235 - val_loss: 0.0932 - val_accuracy: 1.0000\n",
      "\n",
      "Epoch 00026: val_loss improved from 0.09610 to 0.09323, saving model to ./best_model\\wake_up_word_model\n",
      "INFO:tensorflow:Assets written to: ./best_model\\wake_up_word_model\\assets\n"
     ]
    },
    {
     "name": "stderr",
     "output_type": "stream",
     "text": [
      "INFO:tensorflow:Assets written to: ./best_model\\wake_up_word_model\\assets\n"
     ]
    },
    {
     "name": "stdout",
     "output_type": "stream",
     "text": [
      "Epoch 27/100\n",
      "3/3 [==============================] - 0s 22ms/step - loss: 0.3091 - accuracy: 0.9176 - val_loss: 0.0906 - val_accuracy: 1.0000\n",
      "\n",
      "Epoch 00027: val_loss improved from 0.09323 to 0.09056, saving model to ./best_model\\wake_up_word_model\n",
      "INFO:tensorflow:Assets written to: ./best_model\\wake_up_word_model\\assets\n"
     ]
    },
    {
     "name": "stderr",
     "output_type": "stream",
     "text": [
      "INFO:tensorflow:Assets written to: ./best_model\\wake_up_word_model\\assets\n"
     ]
    },
    {
     "name": "stdout",
     "output_type": "stream",
     "text": [
      "Epoch 28/100\n",
      "3/3 [==============================] - 0s 20ms/step - loss: 0.4349 - accuracy: 0.8118 - val_loss: 0.0925 - val_accuracy: 1.0000\n",
      "\n",
      "Epoch 00028: val_loss did not improve from 0.09056\n",
      "Epoch 29/100\n",
      "3/3 [==============================] - 0s 24ms/step - loss: 0.2172 - accuracy: 0.9059 - val_loss: 0.1024 - val_accuracy: 1.0000\n",
      "\n",
      "Epoch 00029: val_loss did not improve from 0.09056\n",
      "Epoch 30/100\n",
      "3/3 [==============================] - 0s 22ms/step - loss: 0.2078 - accuracy: 0.8941 - val_loss: 0.1132 - val_accuracy: 1.0000\n",
      "\n",
      "Epoch 00030: val_loss did not improve from 0.09056\n",
      "Epoch 31/100\n",
      "3/3 [==============================] - 0s 23ms/step - loss: 0.2956 - accuracy: 0.8471 - val_loss: 0.1230 - val_accuracy: 1.0000\n",
      "\n",
      "Epoch 00031: val_loss did not improve from 0.09056\n",
      "Epoch 32/100\n",
      "3/3 [==============================] - 0s 20ms/step - loss: 0.2833 - accuracy: 0.8353 - val_loss: 0.1189 - val_accuracy: 1.0000\n",
      "\n",
      "Epoch 00032: val_loss did not improve from 0.09056\n",
      "Epoch 33/100\n",
      "3/3 [==============================] - 0s 21ms/step - loss: 0.4149 - accuracy: 0.8353 - val_loss: 0.1088 - val_accuracy: 1.0000\n",
      "\n",
      "Epoch 00033: val_loss did not improve from 0.09056\n",
      "Epoch 34/100\n",
      "3/3 [==============================] - 0s 40ms/step - loss: 0.2640 - accuracy: 0.8824 - val_loss: 0.0985 - val_accuracy: 1.0000\n",
      "\n",
      "Epoch 00034: val_loss did not improve from 0.09056\n",
      "Epoch 35/100\n",
      "3/3 [==============================] - 0s 32ms/step - loss: 0.3140 - accuracy: 0.8353 - val_loss: 0.0881 - val_accuracy: 1.0000\n",
      "\n",
      "Epoch 00035: val_loss improved from 0.09056 to 0.08808, saving model to ./best_model\\wake_up_word_model\n",
      "INFO:tensorflow:Assets written to: ./best_model\\wake_up_word_model\\assets\n"
     ]
    },
    {
     "name": "stderr",
     "output_type": "stream",
     "text": [
      "INFO:tensorflow:Assets written to: ./best_model\\wake_up_word_model\\assets\n"
     ]
    },
    {
     "name": "stdout",
     "output_type": "stream",
     "text": [
      "Epoch 36/100\n",
      "3/3 [==============================] - 0s 19ms/step - loss: 0.2552 - accuracy: 0.8588 - val_loss: 0.0822 - val_accuracy: 1.0000\n",
      "\n",
      "Epoch 00036: val_loss improved from 0.08808 to 0.08219, saving model to ./best_model\\wake_up_word_model\n",
      "INFO:tensorflow:Assets written to: ./best_model\\wake_up_word_model\\assets\n"
     ]
    },
    {
     "name": "stderr",
     "output_type": "stream",
     "text": [
      "INFO:tensorflow:Assets written to: ./best_model\\wake_up_word_model\\assets\n"
     ]
    },
    {
     "name": "stdout",
     "output_type": "stream",
     "text": [
      "Epoch 37/100\n",
      "3/3 [==============================] - 0s 22ms/step - loss: 0.2477 - accuracy: 0.8941 - val_loss: 0.0799 - val_accuracy: 1.0000\n",
      "\n",
      "Epoch 00037: val_loss improved from 0.08219 to 0.07992, saving model to ./best_model\\wake_up_word_model\n",
      "INFO:tensorflow:Assets written to: ./best_model\\wake_up_word_model\\assets\n"
     ]
    },
    {
     "name": "stderr",
     "output_type": "stream",
     "text": [
      "INFO:tensorflow:Assets written to: ./best_model\\wake_up_word_model\\assets\n"
     ]
    },
    {
     "name": "stdout",
     "output_type": "stream",
     "text": [
      "Epoch 38/100\n",
      "3/3 [==============================] - 0s 27ms/step - loss: 0.4346 - accuracy: 0.8118 - val_loss: 0.0809 - val_accuracy: 1.0000\n",
      "\n",
      "Epoch 00038: val_loss did not improve from 0.07992\n",
      "Epoch 39/100\n",
      "3/3 [==============================] - 0s 27ms/step - loss: 0.3163 - accuracy: 0.8471 - val_loss: 0.0796 - val_accuracy: 1.0000\n",
      "\n",
      "Epoch 00039: val_loss improved from 0.07992 to 0.07959, saving model to ./best_model\\wake_up_word_model\n",
      "INFO:tensorflow:Assets written to: ./best_model\\wake_up_word_model\\assets\n"
     ]
    },
    {
     "name": "stderr",
     "output_type": "stream",
     "text": [
      "INFO:tensorflow:Assets written to: ./best_model\\wake_up_word_model\\assets\n"
     ]
    },
    {
     "name": "stdout",
     "output_type": "stream",
     "text": [
      "Epoch 40/100\n",
      "3/3 [==============================] - 0s 19ms/step - loss: 0.2279 - accuracy: 0.9059 - val_loss: 0.0787 - val_accuracy: 1.0000\n",
      "\n",
      "Epoch 00040: val_loss improved from 0.07959 to 0.07868, saving model to ./best_model\\wake_up_word_model\n",
      "INFO:tensorflow:Assets written to: ./best_model\\wake_up_word_model\\assets\n"
     ]
    },
    {
     "name": "stderr",
     "output_type": "stream",
     "text": [
      "INFO:tensorflow:Assets written to: ./best_model\\wake_up_word_model\\assets\n"
     ]
    },
    {
     "name": "stdout",
     "output_type": "stream",
     "text": [
      "Epoch 41/100\n",
      "3/3 [==============================] - 0s 20ms/step - loss: 0.3138 - accuracy: 0.8824 - val_loss: 0.0775 - val_accuracy: 1.0000\n",
      "\n",
      "Epoch 00041: val_loss improved from 0.07868 to 0.07749, saving model to ./best_model\\wake_up_word_model\n",
      "INFO:tensorflow:Assets written to: ./best_model\\wake_up_word_model\\assets\n"
     ]
    },
    {
     "name": "stderr",
     "output_type": "stream",
     "text": [
      "INFO:tensorflow:Assets written to: ./best_model\\wake_up_word_model\\assets\n"
     ]
    },
    {
     "name": "stdout",
     "output_type": "stream",
     "text": [
      "Epoch 42/100\n",
      "3/3 [==============================] - 0s 32ms/step - loss: 0.3525 - accuracy: 0.7882 - val_loss: 0.0789 - val_accuracy: 1.0000\n",
      "\n",
      "Epoch 00042: val_loss did not improve from 0.07749\n",
      "Epoch 43/100\n",
      "3/3 [==============================] - 0s 26ms/step - loss: 0.3231 - accuracy: 0.8941 - val_loss: 0.0792 - val_accuracy: 1.0000\n",
      "\n",
      "Epoch 00043: val_loss did not improve from 0.07749\n",
      "Epoch 44/100\n",
      "3/3 [==============================] - 0s 22ms/step - loss: 0.3774 - accuracy: 0.8000 - val_loss: 0.0799 - val_accuracy: 1.0000\n",
      "\n",
      "Epoch 00044: val_loss did not improve from 0.07749\n",
      "Epoch 45/100\n",
      "3/3 [==============================] - 0s 23ms/step - loss: 0.2526 - accuracy: 0.8588 - val_loss: 0.0832 - val_accuracy: 1.0000\n",
      "\n",
      "Epoch 00045: val_loss did not improve from 0.07749\n",
      "Epoch 46/100\n",
      "3/3 [==============================] - 0s 17ms/step - loss: 0.1628 - accuracy: 0.9176 - val_loss: 0.0846 - val_accuracy: 1.0000\n",
      "\n",
      "Epoch 00046: val_loss did not improve from 0.07749\n",
      "Epoch 47/100\n",
      "3/3 [==============================] - 0s 20ms/step - loss: 0.2203 - accuracy: 0.8941 - val_loss: 0.0853 - val_accuracy: 1.0000\n",
      "\n",
      "Epoch 00047: val_loss did not improve from 0.07749\n",
      "Epoch 48/100\n",
      "3/3 [==============================] - 0s 20ms/step - loss: 0.2890 - accuracy: 0.8588 - val_loss: 0.0849 - val_accuracy: 1.0000\n",
      "\n",
      "Epoch 00048: val_loss did not improve from 0.07749\n",
      "Epoch 49/100\n",
      "3/3 [==============================] - 0s 27ms/step - loss: 0.4108 - accuracy: 0.8235 - val_loss: 0.0841 - val_accuracy: 1.0000\n",
      "\n",
      "Epoch 00049: val_loss did not improve from 0.07749\n",
      "Epoch 50/100\n",
      "3/3 [==============================] - 0s 23ms/step - loss: 0.2542 - accuracy: 0.8824 - val_loss: 0.0825 - val_accuracy: 1.0000\n",
      "\n",
      "Epoch 00050: val_loss did not improve from 0.07749\n",
      "Epoch 51/100\n",
      "3/3 [==============================] - 0s 17ms/step - loss: 0.2969 - accuracy: 0.8471 - val_loss: 0.0794 - val_accuracy: 1.0000\n",
      "\n",
      "Epoch 00051: val_loss did not improve from 0.07749\n",
      "Epoch 52/100\n",
      "3/3 [==============================] - 0s 18ms/step - loss: 0.2138 - accuracy: 0.9059 - val_loss: 0.0782 - val_accuracy: 1.0000\n",
      "\n",
      "Epoch 00052: val_loss did not improve from 0.07749\n",
      "Epoch 53/100\n",
      "3/3 [==============================] - 0s 23ms/step - loss: 0.2792 - accuracy: 0.8824 - val_loss: 0.0774 - val_accuracy: 1.0000\n",
      "\n",
      "Epoch 00053: val_loss improved from 0.07749 to 0.07738, saving model to ./best_model\\wake_up_word_model\n",
      "INFO:tensorflow:Assets written to: ./best_model\\wake_up_word_model\\assets\n"
     ]
    },
    {
     "name": "stderr",
     "output_type": "stream",
     "text": [
      "INFO:tensorflow:Assets written to: ./best_model\\wake_up_word_model\\assets\n"
     ]
    },
    {
     "name": "stdout",
     "output_type": "stream",
     "text": [
      "Epoch 54/100\n",
      "3/3 [==============================] - 0s 27ms/step - loss: 0.2472 - accuracy: 0.8941 - val_loss: 0.0768 - val_accuracy: 1.0000\n",
      "\n",
      "Epoch 00054: val_loss improved from 0.07738 to 0.07679, saving model to ./best_model\\wake_up_word_model\n",
      "INFO:tensorflow:Assets written to: ./best_model\\wake_up_word_model\\assets\n"
     ]
    },
    {
     "name": "stderr",
     "output_type": "stream",
     "text": [
      "INFO:tensorflow:Assets written to: ./best_model\\wake_up_word_model\\assets\n"
     ]
    },
    {
     "name": "stdout",
     "output_type": "stream",
     "text": [
      "Epoch 55/100\n",
      "3/3 [==============================] - 0s 20ms/step - loss: 0.2230 - accuracy: 0.8941 - val_loss: 0.0768 - val_accuracy: 1.0000\n",
      "\n",
      "Epoch 00055: val_loss improved from 0.07679 to 0.07678, saving model to ./best_model\\wake_up_word_model\n",
      "INFO:tensorflow:Assets written to: ./best_model\\wake_up_word_model\\assets\n"
     ]
    },
    {
     "name": "stderr",
     "output_type": "stream",
     "text": [
      "INFO:tensorflow:Assets written to: ./best_model\\wake_up_word_model\\assets\n"
     ]
    },
    {
     "name": "stdout",
     "output_type": "stream",
     "text": [
      "Epoch 56/100\n",
      "3/3 [==============================] - 0s 17ms/step - loss: 0.2326 - accuracy: 0.8824 - val_loss: 0.0771 - val_accuracy: 1.0000\n",
      "\n",
      "Epoch 00056: val_loss did not improve from 0.07678\n",
      "Epoch 57/100\n",
      "3/3 [==============================] - 0s 20ms/step - loss: 0.2754 - accuracy: 0.8353 - val_loss: 0.0781 - val_accuracy: 1.0000\n",
      "\n",
      "Epoch 00057: val_loss did not improve from 0.07678\n",
      "Epoch 58/100\n",
      "3/3 [==============================] - 0s 17ms/step - loss: 0.2134 - accuracy: 0.8824 - val_loss: 0.0790 - val_accuracy: 1.0000\n",
      "\n",
      "Epoch 00058: val_loss did not improve from 0.07678\n",
      "Epoch 59/100\n",
      "3/3 [==============================] - 0s 18ms/step - loss: 0.2074 - accuracy: 0.9294 - val_loss: 0.0794 - val_accuracy: 1.0000\n",
      "\n",
      "Epoch 00059: val_loss did not improve from 0.07678\n",
      "Epoch 60/100\n",
      "3/3 [==============================] - 0s 20ms/step - loss: 0.1707 - accuracy: 0.9412 - val_loss: 0.0794 - val_accuracy: 1.0000\n",
      "\n",
      "Epoch 00060: val_loss did not improve from 0.07678\n",
      "Epoch 61/100\n",
      "3/3 [==============================] - 0s 23ms/step - loss: 0.2215 - accuracy: 0.9176 - val_loss: 0.0792 - val_accuracy: 1.0000\n",
      "\n",
      "Epoch 00061: val_loss did not improve from 0.07678\n",
      "Epoch 62/100\n",
      "3/3 [==============================] - 0s 24ms/step - loss: 0.2061 - accuracy: 0.9059 - val_loss: 0.0790 - val_accuracy: 1.0000\n",
      "\n",
      "Epoch 00062: val_loss did not improve from 0.07678\n",
      "Epoch 63/100\n",
      "3/3 [==============================] - 0s 28ms/step - loss: 0.1840 - accuracy: 0.9176 - val_loss: 0.0788 - val_accuracy: 1.0000\n",
      "\n",
      "Epoch 00063: val_loss did not improve from 0.07678\n",
      "Epoch 64/100\n",
      "3/3 [==============================] - 0s 28ms/step - loss: 0.1713 - accuracy: 0.9529 - val_loss: 0.0785 - val_accuracy: 1.0000\n",
      "\n",
      "Epoch 00064: val_loss did not improve from 0.07678\n",
      "Epoch 65/100\n",
      "3/3 [==============================] - 0s 27ms/step - loss: 0.2190 - accuracy: 0.9059 - val_loss: 0.0783 - val_accuracy: 1.0000\n",
      "\n",
      "Epoch 00065: val_loss did not improve from 0.07678\n",
      "Epoch 66/100\n",
      "3/3 [==============================] - 0s 24ms/step - loss: 0.2718 - accuracy: 0.8824 - val_loss: 0.0782 - val_accuracy: 1.0000\n",
      "\n",
      "Epoch 00066: val_loss did not improve from 0.07678\n",
      "Epoch 67/100\n",
      "3/3 [==============================] - 0s 25ms/step - loss: 0.2104 - accuracy: 0.9176 - val_loss: 0.0781 - val_accuracy: 1.0000\n",
      "\n",
      "Epoch 00067: val_loss did not improve from 0.07678\n",
      "Epoch 68/100\n",
      "3/3 [==============================] - 0s 18ms/step - loss: 0.2333 - accuracy: 0.9176 - val_loss: 0.0781 - val_accuracy: 1.0000\n",
      "\n",
      "Epoch 00068: val_loss did not improve from 0.07678\n",
      "Epoch 69/100\n",
      "3/3 [==============================] - 0s 18ms/step - loss: 0.2230 - accuracy: 0.9059 - val_loss: 0.0780 - val_accuracy: 1.0000\n",
      "\n",
      "Epoch 00069: val_loss did not improve from 0.07678\n",
      "Epoch 70/100\n",
      "3/3 [==============================] - 0s 17ms/step - loss: 0.3137 - accuracy: 0.8471 - val_loss: 0.0780 - val_accuracy: 1.0000\n",
      "\n",
      "Epoch 00070: val_loss did not improve from 0.07678\n",
      "Epoch 71/100\n",
      "3/3 [==============================] - 0s 26ms/step - loss: 0.3110 - accuracy: 0.8824 - val_loss: 0.0778 - val_accuracy: 1.0000\n",
      "\n",
      "Epoch 00071: val_loss did not improve from 0.07678\n",
      "Epoch 72/100\n",
      "3/3 [==============================] - 0s 27ms/step - loss: 0.1959 - accuracy: 0.9294 - val_loss: 0.0776 - val_accuracy: 1.0000\n",
      "\n",
      "Epoch 00072: val_loss did not improve from 0.07678\n",
      "Epoch 73/100\n",
      "3/3 [==============================] - 0s 27ms/step - loss: 0.2732 - accuracy: 0.8706 - val_loss: 0.0775 - val_accuracy: 1.0000\n",
      "\n",
      "Epoch 00073: val_loss did not improve from 0.07678\n",
      "Epoch 74/100\n",
      "3/3 [==============================] - 0s 21ms/step - loss: 0.2306 - accuracy: 0.9059 - val_loss: 0.0773 - val_accuracy: 1.0000\n",
      "\n",
      "Epoch 00074: val_loss did not improve from 0.07678\n",
      "Epoch 75/100\n",
      "3/3 [==============================] - 0s 19ms/step - loss: 0.2660 - accuracy: 0.8941 - val_loss: 0.0773 - val_accuracy: 1.0000\n",
      "\n",
      "Epoch 00075: val_loss did not improve from 0.07678\n",
      "Epoch 76/100\n",
      "3/3 [==============================] - 0s 21ms/step - loss: 0.2005 - accuracy: 0.9412 - val_loss: 0.0772 - val_accuracy: 1.0000\n",
      "\n",
      "Epoch 00076: val_loss did not improve from 0.07678\n",
      "Epoch 77/100\n",
      "3/3 [==============================] - 0s 25ms/step - loss: 0.2502 - accuracy: 0.8941 - val_loss: 0.0771 - val_accuracy: 1.0000\n",
      "\n",
      "Epoch 00077: val_loss did not improve from 0.07678\n",
      "Epoch 78/100\n",
      "3/3 [==============================] - 0s 18ms/step - loss: 0.2570 - accuracy: 0.8941 - val_loss: 0.0771 - val_accuracy: 1.0000\n",
      "\n",
      "Epoch 00078: val_loss did not improve from 0.07678\n",
      "Epoch 79/100\n",
      "3/3 [==============================] - 0s 22ms/step - loss: 0.1986 - accuracy: 0.9059 - val_loss: 0.0770 - val_accuracy: 1.0000\n",
      "\n",
      "Epoch 00079: val_loss did not improve from 0.07678\n",
      "Epoch 80/100\n",
      "3/3 [==============================] - 0s 26ms/step - loss: 0.1872 - accuracy: 0.9059 - val_loss: 0.0770 - val_accuracy: 1.0000\n",
      "\n",
      "Epoch 00080: val_loss did not improve from 0.07678\n",
      "Epoch 81/100\n",
      "3/3 [==============================] - 0s 20ms/step - loss: 0.1581 - accuracy: 0.9529 - val_loss: 0.0770 - val_accuracy: 1.0000\n",
      "\n",
      "Epoch 00081: val_loss did not improve from 0.07678\n",
      "Epoch 82/100\n",
      "3/3 [==============================] - 0s 23ms/step - loss: 0.2676 - accuracy: 0.9059 - val_loss: 0.0770 - val_accuracy: 1.0000\n",
      "\n",
      "Epoch 00082: val_loss did not improve from 0.07678\n",
      "Epoch 83/100\n",
      "3/3 [==============================] - 0s 23ms/step - loss: 0.2620 - accuracy: 0.8588 - val_loss: 0.0770 - val_accuracy: 1.0000\n",
      "\n",
      "Epoch 00083: val_loss did not improve from 0.07678\n",
      "Epoch 84/100\n",
      "3/3 [==============================] - 0s 22ms/step - loss: 0.1788 - accuracy: 0.9412 - val_loss: 0.0770 - val_accuracy: 1.0000\n",
      "\n",
      "Epoch 00084: val_loss did not improve from 0.07678\n",
      "Epoch 85/100\n",
      "3/3 [==============================] - 0s 21ms/step - loss: 0.2442 - accuracy: 0.8824 - val_loss: 0.0770 - val_accuracy: 1.0000\n",
      "\n",
      "Epoch 00085: val_loss did not improve from 0.07678\n"
     ]
    }
   ],
   "source": [
    "# optimizer, loss 함수를 정의하고,  학습 준비를 한다,  metrics 는 어떤 일이 발생하는지 보여줄 것들\n",
    "model.compile(optimizer=opt, loss=\"binary_crossentropy\", metrics=[\"accuracy\"])\n",
    "\n",
    "# 한번에 몇개의 데이터 학습하고 가중치 갱신할지 \n",
    "history = model.fit(x_train, y_train,\n",
    "          epochs=100,\n",
    "          verbose=1,\n",
    "          batch_size=32,\n",
    "          #validation_split = 0.1\n",
    "          validation_data = (x_val, y_val),\n",
    "          callbacks = [early_stop, reduce_lr , mc]\n",
    "          )"
   ]
  },
  {
   "cell_type": "code",
   "execution_count": 267,
   "metadata": {
    "id": "QGP-e_TnOW8-"
   },
   "outputs": [
    {
     "data": {
      "image/png": "[encoded data removed]",
      "text/plain": [
       "<Figure size 432x288 with 1 Axes>"
      ]
     },
     "metadata": {
      "needs_background": "light"
     },
     "output_type": "display_data"
    },
    {
     "data": {
      "image/png": "[encoded data removed]",
      "text/plain": [
       "<Figure size 432x288 with 1 Axes>"
      ]
     },
     "metadata": {
      "needs_background": "light"
     },
     "output_type": "display_data"
    }
   ],
   "source": [
    "# 학습 과정 점검 하기\n",
    "acc = history.history['accuracy']\n",
    "val_acc = history.history['val_accuracy']\n",
    "loss = history.history['loss']\n",
    "val_loss = history.history['val_loss']\n",
    "\n",
    "epochs = range(1, len(acc) + 1)\n",
    "\n",
    "plt.plot(epochs, acc, 'bo', label='Training acc')\n",
    "plt.plot(epochs, val_acc, 'b', label='Validation acc')\n",
    "plt.title('Training and validation accuracy')\n",
    "plt.legend()\n",
    "\n",
    "plt.figure()\n",
    "\n",
    "plt.plot(epochs, loss, 'bo', label='Training loss')\n",
    "plt.plot(epochs, val_loss, 'b', label='Validation loss')\n",
    "plt.title('Training and validation loss')\n",
    "plt.legend()\n",
    "\n",
    "plt.show()"
   ]
  },
  {
   "cell_type": "code",
   "execution_count": 268,
   "metadata": {
    "id": "YliEVeZhO3TU"
   },
   "outputs": [
    {
     "name": "stdout",
     "output_type": "stream",
     "text": [
      "2\n",
      "3\n",
      "4\n",
      "5\n",
      "7\n",
      "8\n",
      "9\n",
      "10\n",
      "11\n",
      "12\n",
      "13\n",
      "14\n",
      "15\n",
      "16\n",
      "17\n",
      "19\n",
      "22\n",
      "23\n"
     ]
    }
   ],
   "source": [
    "for idx, y in enumerate(y_test):\n",
    "    if y == 1:\n",
    "        print(idx)"
   ]
  },
  {
   "cell_type": "code",
   "execution_count": 272,
   "metadata": {
    "id": "dz9_EYVFPWya"
   },
   "outputs": [
    {
     "name": "stdout",
     "output_type": "stream",
     "text": [
      "WARNING:tensorflow:5 out of the last 5 calls to <function Model.make_predict_function.<locals>.predict_function at 0x000001D5E24F8048> triggered tf.function retracing. Tracing is expensive and the excessive number of tracings could be due to (1) creating @tf.function repeatedly in a loop, (2) passing tensors with different shapes, (3) passing Python objects instead of tensors. For (1), please define your @tf.function outside of the loop. For (2), @tf.function has experimental_relax_shapes=True option that relaxes argument shapes that can avoid unnecessary retracing. For (3), please refer to https://www.tensorflow.org/guide/function#controlling_retracing and https://www.tensorflow.org/api_docs/python/tf/function for  more details.\n"
     ]
    },
    {
     "name": "stderr",
     "output_type": "stream",
     "text": [
      "WARNING:tensorflow:5 out of the last 5 calls to <function Model.make_predict_function.<locals>.predict_function at 0x000001D5E24F8048> triggered tf.function retracing. Tracing is expensive and the excessive number of tracings could be due to (1) creating @tf.function repeatedly in a loop, (2) passing tensors with different shapes, (3) passing Python objects instead of tensors. For (1), please define your @tf.function outside of the loop. For (2), @tf.function has experimental_relax_shapes=True option that relaxes argument shapes that can avoid unnecessary retracing. For (3), please refer to https://www.tensorflow.org/guide/function#controlling_retracing and https://www.tensorflow.org/api_docs/python/tf/function for  more details.\n"
     ]
    },
    {
     "name": "stdout",
     "output_type": "stream",
     "text": [
      "Answer: 0.0  Prediction: [[0.15034735]]\n",
      "Answer: 0.0  Prediction: [[0.42904747]]\n",
      "Answer: 1.0  Prediction: [[0.97209847]]\n",
      "Answer: 1.0  Prediction: [[0.9646726]]\n",
      "Answer: 1.0  Prediction: [[0.97209847]]\n"
     ]
    }
   ],
   "source": [
    "# 학습한거에서 test 어떻게 나오는지 확인 해보기\n",
    "model = tf.keras.models.load_model(base_path + 'best_model/wake_up_word_model')\n",
    "for i in range(0, 5):\n",
    "    print('Answer:', y_test[i], ' Prediction:', model.predict(np.expand_dims(x_test[i], 0)))"
   ]
  },
  {
   "cell_type": "code",
   "execution_count": 270,
   "metadata": {
    "id": "pvyb-5m8PldX"
   },
   "outputs": [
    {
     "name": "stdout",
     "output_type": "stream",
     "text": [
      "1/1 [==============================] - 0s 253ms/step - loss: 0.1094 - accuracy: 1.0000\n"
     ]
    },
    {
     "data": {
      "text/plain": [
       "[0.10943608731031418, 1.0]"
      ]
     },
     "execution_count": 270,
     "metadata": {},
     "output_type": "execute_result"
    }
   ],
   "source": [
    "model.evaluate(x=x_test, y=y_test)"
   ]
  },
  {
   "cell_type": "code",
   "execution_count": 274,
   "metadata": {},
   "outputs": [
    {
     "name": "stdout",
     "output_type": "stream",
     "text": [
      "(24, 40, 26, 1) (24,)\n",
      "[0. 0. 1. 1. 1. 1. 0. 1. 1. 1. 1. 1. 1. 1. 1. 1. 1. 1. 0. 1. 0. 0. 1. 1.]\n"
     ]
    }
   ],
   "source": [
    "print(x_test.shape, y_test.shape)\n",
    "print(y_test)"
   ]
  },
  {
   "cell_type": "markdown",
   "metadata": {
    "id": "SeQMo6BUPpHn"
   },
   "source": [
    "# tflite 변환 해주기"
   ]
  },
  {
   "cell_type": "code",
   "execution_count": null,
   "metadata": {
    "id": "54HAWoFDPoOp"
   },
   "outputs": [],
   "source": [
    "tflite_filename = 'wake_word_hi_yutan_lite.tflite'\n",
    "\n",
    "model = tf.keras.models.load_model(base_path + 'best_model/wake_up_word_model')\n",
    "converter = lite.TFLiteConverter.from_keras_model(model)\n",
    "tflite_model = converter.convert()\n",
    "open(tflite_filename, 'wb').write(tflite_model)"
   ]
  },
  {
   "cell_type": "markdown",
   "metadata": {
    "id": "q3vFUtQZRCN1"
   },
   "source": [
    "# 추론 과정"
   ]
  },
  {
   "cell_type": "code",
   "execution_count": 81,
   "metadata": {
    "colab": {
     "base_uri": "https://localhost:8080/",
     "height": 340
    },
    "id": "Dztxh2RURmNs",
    "outputId": "7dfbfcd6-dbfb-479d-c3b8-b7f226c079f5",
    "scrolled": true
   },
   "outputs": [
    {
     "name": "stdout",
     "output_type": "stream",
     "text": [
      "Collecting pyaudio\n",
      "  Using cached PyAudio-0.2.11.tar.gz (37 kB)\n",
      "Building wheels for collected packages: pyaudio\n",
      "  Building wheel for pyaudio (setup.py): started\n",
      "  Building wheel for pyaudio (setup.py): finished with status 'error'\n",
      "  Running setup.py clean for pyaudio\n",
      "Failed to build pyaudio\n",
      "Installing collected packages: pyaudio\n",
      "    Running setup.py install for pyaudio: started\n",
      "    Running setup.py install for pyaudio: finished with status 'error'\n"
     ]
    },
    {
     "name": "stderr",
     "output_type": "stream",
     "text": [
      "  ERROR: Command errored out with exit status 1:\n",
      "   command: 'C:\\Users\\yutan\\anaconda3\\envs\\tensorflow\\python.exe' -u -c 'import io, os, sys, setuptools, tokenize; sys.argv[0] = '\"'\"'C:\\\\Users\\\\yutan\\\\AppData\\\\Local\\\\Temp\\\\pip-install-zgpxs60p\\\\pyaudio_880cf6d2742844508cfcbcf7ff1b29e5\\\\setup.py'\"'\"'; __file__='\"'\"'C:\\\\Users\\\\yutan\\\\AppData\\\\Local\\\\Temp\\\\pip-install-zgpxs60p\\\\pyaudio_880cf6d2742844508cfcbcf7ff1b29e5\\\\setup.py'\"'\"';f = getattr(tokenize, '\"'\"'open'\"'\"', open)(__file__) if os.path.exists(__file__) else io.StringIO('\"'\"'from setuptools import setup; setup()'\"'\"');code = f.read().replace('\"'\"'\\r\\n'\"'\"', '\"'\"'\\n'\"'\"');f.close();exec(compile(code, __file__, '\"'\"'exec'\"'\"'))' bdist_wheel -d 'C:\\Users\\yutan\\AppData\\Local\\Temp\\pip-wheel-lophh8k5'\n",
      "       cwd: C:\\Users\\yutan\\AppData\\Local\\Temp\\pip-install-zgpxs60p\\pyaudio_880cf6d2742844508cfcbcf7ff1b29e5\\\n",
      "  Complete output (9 lines):\n",
      "  running bdist_wheel\n",
      "  running build\n",
      "  running build_py\n",
      "  creating build\n",
      "  creating build\\lib.win-amd64-3.7\n",
      "  copying src\\pyaudio.py -> build\\lib.win-amd64-3.7\n",
      "  running build_ext\n",
      "  building '_portaudio' extension\n",
      "  error: Microsoft Visual C++ 14.0 or greater is required. Get it with \"Microsoft C++ Build Tools\": https://visualstudio.microsoft.com/visual-cpp-build-tools/\n",
      "  ----------------------------------------\n",
      "  ERROR: Failed building wheel for pyaudio\n",
      "    ERROR: Command errored out with exit status 1:\n",
      "     command: 'C:\\Users\\yutan\\anaconda3\\envs\\tensorflow\\python.exe' -u -c 'import io, os, sys, setuptools, tokenize; sys.argv[0] = '\"'\"'C:\\\\Users\\\\yutan\\\\AppData\\\\Local\\\\Temp\\\\pip-install-zgpxs60p\\\\pyaudio_880cf6d2742844508cfcbcf7ff1b29e5\\\\setup.py'\"'\"'; __file__='\"'\"'C:\\\\Users\\\\yutan\\\\AppData\\\\Local\\\\Temp\\\\pip-install-zgpxs60p\\\\pyaudio_880cf6d2742844508cfcbcf7ff1b29e5\\\\setup.py'\"'\"';f = getattr(tokenize, '\"'\"'open'\"'\"', open)(__file__) if os.path.exists(__file__) else io.StringIO('\"'\"'from setuptools import setup; setup()'\"'\"');code = f.read().replace('\"'\"'\\r\\n'\"'\"', '\"'\"'\\n'\"'\"');f.close();exec(compile(code, __file__, '\"'\"'exec'\"'\"'))' install --record 'C:\\Users\\yutan\\AppData\\Local\\Temp\\pip-record-lpmmfva0\\install-record.txt' --single-version-externally-managed --compile --install-headers 'C:\\Users\\yutan\\anaconda3\\envs\\tensorflow\\Include\\pyaudio'\n",
      "         cwd: C:\\Users\\yutan\\AppData\\Local\\Temp\\pip-install-zgpxs60p\\pyaudio_880cf6d2742844508cfcbcf7ff1b29e5\\\n",
      "    Complete output (9 lines):\n",
      "    running install\n",
      "    running build\n",
      "    running build_py\n",
      "    creating build\n",
      "    creating build\\lib.win-amd64-3.7\n",
      "    copying src\\pyaudio.py -> build\\lib.win-amd64-3.7\n",
      "    running build_ext\n",
      "    building '_portaudio' extension\n",
      "    error: Microsoft Visual C++ 14.0 or greater is required. Get it with \"Microsoft C++ Build Tools\": https://visualstudio.microsoft.com/visual-cpp-build-tools/\n",
      "    ----------------------------------------\n",
      "ERROR: Command errored out with exit status 1: 'C:\\Users\\yutan\\anaconda3\\envs\\tensorflow\\python.exe' -u -c 'import io, os, sys, setuptools, tokenize; sys.argv[0] = '\"'\"'C:\\\\Users\\\\yutan\\\\AppData\\\\Local\\\\Temp\\\\pip-install-zgpxs60p\\\\pyaudio_880cf6d2742844508cfcbcf7ff1b29e5\\\\setup.py'\"'\"'; __file__='\"'\"'C:\\\\Users\\\\yutan\\\\AppData\\\\Local\\\\Temp\\\\pip-install-zgpxs60p\\\\pyaudio_880cf6d2742844508cfcbcf7ff1b29e5\\\\setup.py'\"'\"';f = getattr(tokenize, '\"'\"'open'\"'\"', open)(__file__) if os.path.exists(__file__) else io.StringIO('\"'\"'from setuptools import setup; setup()'\"'\"');code = f.read().replace('\"'\"'\\r\\n'\"'\"', '\"'\"'\\n'\"'\"');f.close();exec(compile(code, __file__, '\"'\"'exec'\"'\"'))' install --record 'C:\\Users\\yutan\\AppData\\Local\\Temp\\pip-record-lpmmfva0\\install-record.txt' --single-version-externally-managed --compile --install-headers 'C:\\Users\\yutan\\anaconda3\\envs\\tensorflow\\Include\\pyaudio' Check the logs for full command output.\n"
     ]
    },
    {
     "ename": "ModuleNotFoundError",
     "evalue": "No module named 'pyaudio'",
     "output_type": "error",
     "traceback": [
      "\u001b[1;31m---------------------------------------------------------------------------\u001b[0m",
      "\u001b[1;31mModuleNotFoundError\u001b[0m                       Traceback (most recent call last)",
      "\u001b[1;32m~\\AppData\\Local\\Temp/ipykernel_28824/3671692615.py\u001b[0m in \u001b[0;36m<module>\u001b[1;34m\u001b[0m\n\u001b[0;32m      1\u001b[0m \u001b[1;31m# 기본 형태\u001b[0m\u001b[1;33m\u001b[0m\u001b[1;33m\u001b[0m\u001b[0m\n\u001b[0;32m      2\u001b[0m \u001b[0mget_ipython\u001b[0m\u001b[1;33m(\u001b[0m\u001b[1;33m)\u001b[0m\u001b[1;33m.\u001b[0m\u001b[0msystem\u001b[0m\u001b[1;33m(\u001b[0m\u001b[1;34m'pip install pyaudio'\u001b[0m\u001b[1;33m)\u001b[0m\u001b[1;33m\u001b[0m\u001b[0m\n\u001b[1;32m----> 3\u001b[1;33m \u001b[1;32mimport\u001b[0m \u001b[0mpyaudio\u001b[0m\u001b[1;33m\u001b[0m\u001b[0m\n\u001b[0m\u001b[0;32m      4\u001b[0m \u001b[1;32mimport\u001b[0m \u001b[0mnumpy\u001b[0m \u001b[1;32mas\u001b[0m \u001b[0mnp\u001b[0m\u001b[1;33m\u001b[0m\u001b[0m\n\u001b[0;32m      5\u001b[0m \u001b[1;33m\u001b[0m\u001b[0m\n",
      "\u001b[1;31mModuleNotFoundError\u001b[0m: No module named 'pyaudio'"
     ]
    }
   ],
   "source": [
    "# 기본 형태\n",
    "import pyaudio\n",
    "import numpy as np\n",
    " \n",
    "CHUNK = 2**10  # 음성 데이터 불러올때, 한번에 몇개의 정수를 불러올지\n",
    "RATE = 44100   # 음성 데이터의 sampleing rate , mfcc 에 나오는 거라 다른거니까 구분 해두기\n",
    "\n",
    "# 음성 데이터 스트리을 여는 코드\n",
    "\"\"\"\n",
    "foramt : 비트 깊이를 설정 ,   여기서는 16bit가 된다\n",
    "input : 우리가 지금 열려고 하는 것이기 떄문에 True\n",
    "frames_per_buffer : 한번에 몇개의 정수를 불러올지\n",
    "input_device_index : 원하는 입력 장치의 번호 (이거 없으면 자동으로 설정 해준다..)\n",
    "\"\"\"\n",
    "p=pyaudio.PyAudio()\n",
    "stream=p.open(format=pyaudio.paInt16,channels=1,rate=RATE,input=True,\n",
    "              frames_per_buffer=CHUNK,input_device_index=2)\n",
    " \n",
    "# 음성 데이터를 입력받아 출력하는 소스\n",
    "while(True):\n",
    "    data = np.fromstring(stream.read(CHUNK),dtype=np.int16)\n",
    "    print(int(np.average(np.abs(data))))\n",
    " \n",
    "stream.stop_stream()\n",
    "stream.close()\n",
    "p.terminate()\n"
   ]
  },
  {
   "cell_type": "code",
   "execution_count": 80,
   "metadata": {
    "id": "PR2BRCGCWHL3"
   },
   "outputs": [
    {
     "ename": "ModuleNotFoundError",
     "evalue": "No module named 'sounddevice'",
     "output_type": "error",
     "traceback": [
      "\u001b[1;31m---------------------------------------------------------------------------\u001b[0m",
      "\u001b[1;31mModuleNotFoundError\u001b[0m                       Traceback (most recent call last)",
      "\u001b[1;32m~\\AppData\\Local\\Temp/ipykernel_28824/170868512.py\u001b[0m in \u001b[0;36m<module>\u001b[1;34m\u001b[0m\n\u001b[0;32m      4\u001b[0m \"\"\"\n\u001b[0;32m      5\u001b[0m \u001b[1;33m\u001b[0m\u001b[0m\n\u001b[1;32m----> 6\u001b[1;33m \u001b[1;32mimport\u001b[0m \u001b[0msounddevice\u001b[0m \u001b[1;32mas\u001b[0m \u001b[0msd\u001b[0m\u001b[1;33m\u001b[0m\u001b[0m\n\u001b[0m\u001b[0;32m      7\u001b[0m \u001b[1;32mimport\u001b[0m \u001b[0mnumpy\u001b[0m \u001b[1;32mas\u001b[0m \u001b[0mnp\u001b[0m\u001b[1;33m\u001b[0m\u001b[0m\n\u001b[0;32m      8\u001b[0m \u001b[1;32mimport\u001b[0m \u001b[0mscipy\u001b[0m\u001b[1;33m.\u001b[0m\u001b[0msignal\u001b[0m\u001b[1;33m\u001b[0m\u001b[0m\n",
      "\u001b[1;31mModuleNotFoundError\u001b[0m: No module named 'sounddevice'"
     ]
    }
   ],
   "source": [
    "\"\"\"\n",
    "Connect a resistor and LED to board pin 8 and run this script.\n",
    "Whenever you say \"stop\", the LED should flash briefly\n",
    "\"\"\"\n",
    "\n",
    "import sounddevice as sd\n",
    "import numpy as np\n",
    "import scipy.signal\n",
    "import timeit\n",
    "import python_speech_features\n",
    "import RPi.GPIO as GPIO\n",
    "\n",
    "from tflite_runtime.interpreter import Interpreter\n",
    "\n",
    "# Parameters\n",
    "debug_time = 1\n",
    "debug_acc = 0\n",
    "led_pin = 8\n",
    "word_threshold = 0.5\n",
    "rec_duration = 0.5 # 기동어 말 평균 길이로 하면 될듯 함\n",
    "window_stride = 0.5 # 이거는 유지 해주기\n",
    "sample_rate = 48000\n",
    "resample_rate = 8000\n",
    "num_channels = 1\n",
    "num_mfcc = 40\n",
    "model_path = base_path + 'wake_word_hi_yutan_lite.tflite'\n",
    "\n",
    "# Sliding window\n",
    "window = np.zeros(int(rec_duration * resample_rate) * 2)\n",
    "\n",
    "# GPIO \n",
    "GPIO.setwarnings(False)\n",
    "GPIO.setmode(GPIO.BOARD)\n",
    "GPIO.setup(8, GPIO.OUT, initial=GPIO.LOW)\n",
    "\n",
    "# Load model (interpreter)\n",
    "interpreter = Interpreter(model_path)\n",
    "interpreter.allocate_tensors()\n",
    "input_details = interpreter.get_input_details()\n",
    "output_details = interpreter.get_output_details()\n",
    "print(input_details)\n",
    "\n",
    "# Decimate (filter and downsample)\n",
    "def decimate(signal, old_fs, new_fs):\n",
    "    \n",
    "    # Check to make sure we're downsampling\n",
    "    if new_fs > old_fs:\n",
    "        print(\"Error: target sample rate higher than original\")\n",
    "        return signal, old_fs\n",
    "    \n",
    "    # We can only downsample by an integer factor\n",
    "    dec_factor = old_fs / new_fs\n",
    "    if not dec_factor.is_integer():\n",
    "        print(\"Error: can only decimate by integer factor\")\n",
    "        return signal, old_fs\n",
    "\n",
    "    # Do decimation\n",
    "    resampled_signal = scipy.signal.decimate(signal, int(dec_factor))\n",
    "\n",
    "    return resampled_signal, new_fs\n",
    "\n",
    "# This gets called every 0.5 seconds\n",
    "def sd_callback(rec, frames, time, status):\n",
    "\n",
    "    GPIO.output(led_pin, GPIO.LOW)\n",
    "\n",
    "    # Start timing for testing\n",
    "    start = timeit.default_timer()\n",
    "    \n",
    "    # Notify if errors\n",
    "    if status:\n",
    "        print('Error:', status)\n",
    "    \n",
    "    # Remove 2nd dimension from recording sample\n",
    "    rec = np.squeeze(rec)\n",
    "    \n",
    "    # Resample\n",
    "    rec, new_fs = decimate(rec, sample_rate, resample_rate)\n",
    "    \n",
    "    # Save recording onto sliding window\n",
    "    window[:len(window)//2] = window[len(window)//2:]\n",
    "    window[len(window)//2:] = rec\n",
    "\n",
    "    # Compute features\n",
    "    mfccs = python_speech_features.base.mfcc(window, \n",
    "                                        samplerate=new_fs,\n",
    "                                        winlen=0.256,\n",
    "                                        winstep=0.050,\n",
    "                                        numcep=num_mfcc,\n",
    "                                        nfilt=26,\n",
    "                                        nfft=2048,\n",
    "                                        preemph=0.0,\n",
    "                                        ceplifter=0,\n",
    "                                        appendEnergy=False,\n",
    "                                        winfunc=np.hanning)\n",
    "    mfccs = mfccs.transpose()\n",
    "\n",
    "    # Make prediction from model\n",
    "    in_tensor = np.float32(mfccs.reshape(1, mfccs.shape[0], mfccs.shape[1], 1))\n",
    "    interpreter.set_tensor(input_details[0]['index'], in_tensor)\n",
    "    interpreter.invoke()\n",
    "    output_data = interpreter.get_tensor(output_details[0]['index'])\n",
    "    val = output_data[0][0]\n",
    "    if val > word_threshold:\n",
    "        print('stop')\n",
    "        GPIO.output(led_pin, GPIO.HIGH)\n",
    "\n",
    "    if debug_acc:\n",
    "        print(val)\n",
    "    \n",
    "    if debug_time:\n",
    "        print(timeit.default_timer() - start)\n",
    "\n",
    "# Start streaming from microphone\n",
    "with sd.InputStream(channels=num_channels,\n",
    "                    samplerate=sample_rate,\n",
    "                    blocksize=int(sample_rate * rec_duration),  # 1초에 프레임 * 녹화 하는 기간\n",
    "                    callback=sd_callback):\n",
    "    while True:\n",
    "        pass"
   ]
  },
  {
   "cell_type": "code",
   "execution_count": null,
   "metadata": {},
   "outputs": [],
   "source": []
  },
  {
   "cell_type": "code",
   "execution_count": null,
   "metadata": {},
   "outputs": [],
   "source": []
  }
 ],
 "metadata": {
  "colab": {
   "authorship_tag": "ABX9TyNDYLFa4VOdRPa2dkC4xL9I",
   "collapsed_sections": [
    "XVQZDw7giaeS",
    "SeQMo6BUPpHn"
   ],
   "include_colab_link": true,
   "mount_file_id": "1V3vMmYINqXBZajvEXLv_9LdNh_6e2wIN",
   "name": "Wake_up_word_all",
   "provenance": []
  },
  "kernelspec": {
   "display_name": "Python 3 (ipykernel)",
   "language": "python",
   "name": "python3"
  },
  "language_info": {
   "codemirror_mode": {
    "name": "ipython",
    "version": 3
   },
   "file_extension": ".py",
   "mimetype": "text/x-python",
   "name": "python",
   "nbconvert_exporter": "python",
   "pygments_lexer": "ipython3",
   "version": "3.7.0"
  }
 },
 "nbformat": 4,
 "nbformat_minor": 1
}
