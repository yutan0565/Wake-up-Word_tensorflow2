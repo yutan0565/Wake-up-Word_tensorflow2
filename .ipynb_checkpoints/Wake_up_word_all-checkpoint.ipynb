{
 "cells": [
  {
   "cell_type": "markdown",
   "metadata": {
    "id": "view-in-github"
   },
   "source": [
    "<a href=\"https://colab.research.google.com/github/yutan0565/Wake-up-Word_tensorflow2/blob/main/Wake_up_word_all.ipynb\" target=\"_parent\"><img src=\"https://colab.research.google.com/assets/colab-badge.svg\" alt=\"Open In Colab\"/></a>"
   ]
  },
  {
   "cell_type": "markdown",
   "metadata": {
    "id": "pnujyYpCLgxy"
   },
   "source": [
    "# 시작 전 세팅"
   ]
  },
  {
   "cell_type": "code",
   "execution_count": 2,
   "metadata": {
    "colab": {
     "base_uri": "https://localhost:8080/"
    },
    "executionInfo": {
     "elapsed": 23053,
     "status": "ok",
     "timestamp": 1648708390946,
     "user": {
      "displayName": "김유탄",
      "userId": "04011767612525493979"
     },
     "user_tz": -540
    },
    "id": "1tkm4FD8vtJ8",
    "outputId": "e2f12373-399f-401a-bafd-01d8d051dbce"
   },
   "outputs": [
    {
     "name": "stdout",
     "output_type": "stream",
     "text": [
      "Mounted at /content/drive\n"
     ]
    }
   ],
   "source": [
    "from google.colab import drive\n",
    "drive.mount('/content/drive')"
   ]
  },
  {
   "cell_type": "code",
   "execution_count": 3,
   "metadata": {
    "colab": {
     "base_uri": "https://localhost:8080/"
    },
    "executionInfo": {
     "elapsed": 11932,
     "status": "ok",
     "timestamp": 1648708402870,
     "user": {
      "displayName": "김유탄",
      "userId": "04011767612525493979"
     },
     "user_tz": -540
    },
    "id": "kFceqLTOE0ZZ",
    "outputId": "a3eb0d80-55cc-4090-97b8-aef83f2df0f9"
   },
   "outputs": [
    {
     "name": "stdout",
     "output_type": "stream",
     "text": [
      "Collecting python_speech_features\n",
      "  Downloading python_speech_features-0.6.tar.gz (5.6 kB)\n",
      "Building wheels for collected packages: python-speech-features\n",
      "  Building wheel for python-speech-features (setup.py) ... \u001b[?25l\u001b[?25hdone\n",
      "  Created wheel for python-speech-features: filename=python_speech_features-0.6-py3-none-any.whl size=5888 sha256=5ace48755ac4d832415f37436ca9a0be5cb6b8b2a5a56c52d84756bf0100301a\n",
      "  Stored in directory: /root/.cache/pip/wheels/b0/0e/94/28cd6afa3cd5998a63eef99fe31777acd7d758f59cf24839eb\n",
      "Successfully built python-speech-features\n",
      "Installing collected packages: python-speech-features\n",
      "Successfully installed python-speech-features-0.6\n",
      "Collecting playsound\n",
      "  Downloading playsound-1.3.0.tar.gz (7.7 kB)\n",
      "Building wheels for collected packages: playsound\n",
      "  Building wheel for playsound (setup.py) ... \u001b[?25l\u001b[?25hdone\n",
      "  Created wheel for playsound: filename=playsound-1.3.0-py3-none-any.whl size=7035 sha256=7fe907b15dcc33dc2ece2187d06ff2eda591deb120997e3f861b62b46df8ac40\n",
      "  Stored in directory: /root/.cache/pip/wheels/ba/f8/bb/ea57c0146b664dca3a0ada4199b0ecb5f9dfcb7b7e22b65ba2\n",
      "Successfully built playsound\n",
      "Installing collected packages: playsound\n",
      "Successfully installed playsound-1.3.0\n",
      "\u001b[K     |████████████████████████████████| 237 kB 8.4 MB/s \n",
      "\u001b[?25h"
     ]
    }
   ],
   "source": [
    "!pip install python_speech_features\n",
    "!pip install playsound\n",
    "!pip install -q tensorflow-model-optimization\n",
    "# !pip install pyaudio"
   ]
  },
  {
   "cell_type": "code",
   "execution_count": 113,
   "metadata": {},
   "outputs": [],
   "source": [
    "from configuration import Config"
   ]
  },
  {
   "cell_type": "markdown",
   "metadata": {
    "id": "kgMGr2GoLnkf"
   },
   "source": [
    "# Data Augmentation"
   ]
  },
  {
   "cell_type": "code",
   "execution_count": 114,
   "metadata": {
    "executionInfo": {
     "elapsed": 2561,
     "status": "ok",
     "timestamp": 1648687441560,
     "user": {
      "displayName": "김유탄",
      "userId": "04011767612525493979"
     },
     "user_tz": -540
    },
    "id": "xPDLr60RTL-b"
   },
   "outputs": [],
   "source": [
    "import soundfile as sf\n",
    "import os\n",
    "from os import listdir\n",
    "from os.path import isdir, join\n",
    "import librosa\n",
    "import numpy as np\n",
    "import shutil\n",
    "from distutils.dir_util import copy_tree\n",
    "import matplotlib.pyplot as plt"
   ]
  },
  {
   "cell_type": "code",
   "execution_count": 56,
   "metadata": {
    "executionInfo": {
     "elapsed": 15,
     "status": "ok",
     "timestamp": 1648687441561,
     "user": {
      "displayName": "김유탄",
      "userId": "04011767612525493979"
     },
     "user_tz": -540
    },
    "id": "Vr48q6SuSBaX"
   },
   "outputs": [],
   "source": [
    "def plot_time_series(data, title):\n",
    "    fig = plt.figure(figsize=(7, 4))\n",
    "    plt.title(title+'  wave')\n",
    "    plt.ylabel('Amplitude')\n",
    "    plt.plot(np.linspace(0, 5, len(data)), data)\n",
    "    plt.show()"
   ]
  },
  {
   "cell_type": "code",
   "execution_count": 57,
   "metadata": {
    "executionInfo": {
     "elapsed": 15,
     "status": "ok",
     "timestamp": 1648687441562,
     "user": {
      "displayName": "김유탄",
      "userId": "04011767612525493979"
     },
     "user_tz": -540
    },
    "id": "Ja3ZJw_pLmU4"
   },
   "outputs": [],
   "source": [
    "# Whit Noise\n",
    "# 기존 소리에 잡음을 넣어줌\n",
    "def adding_white_noise(data, type, count, sr=16000, noise_rate=0.001):\n",
    "    # noise 방식으로 일반적으로 쓰는 잡음 끼게 하는 겁니다.\n",
    "    sig, sr = librosa.load(data, sr=16000)\n",
    "    wn = np.random.randn(len(sig))\n",
    "    data_wn = sig + noise_rate*wn\n",
    "    sf.write( Config.base_path+ Config.dataset_type+'/' + type +'/'+type+'_white_noise'+'{0:04d}'.format(count)+'.wav', data_wn, sr)\n",
    "    return data_wn"
   ]
  },
  {
   "cell_type": "code",
   "execution_count": 58,
   "metadata": {
    "executionInfo": {
     "elapsed": 16,
     "status": "ok",
     "timestamp": 1648687441563,
     "user": {
      "displayName": "김유탄",
      "userId": "04011767612525493979"
     },
     "user_tz": -540
    },
    "id": "mpTKNIQZLuwb"
   },
   "outputs": [],
   "source": [
    "#stretch_sound\n",
    "# 테이프 늘어진 것처럼 들린다.\n",
    "def stretch_sound(data, type, count, sr=16000, rate=0.8):\n",
    "    sig, sr = librosa.load(data, sr=16000)\n",
    "    stretch_data = librosa.effects.time_stretch(sig, rate)\n",
    "    sf.write( Config.base_path+Config.dataset_type+'/' + type +'/'+type+'_stretch_sound'+'{0:04d}'.format(count)+'.wav', stretch_data, sr)\n",
    "    return stretch_data"
   ]
  },
  {
   "cell_type": "code",
   "execution_count": 59,
   "metadata": {
    "executionInfo": {
     "elapsed": 16,
     "status": "ok",
     "timestamp": 1648687441564,
     "user": {
      "displayName": "김유탄",
      "userId": "04011767612525493979"
     },
     "user_tz": -540
    },
    "id": "xCwc2_rzLuzr"
   },
   "outputs": [],
   "source": [
    "# minus_sound\n",
    "# x 축 기준으로 뒤집기 (사람에게는 똑같이 들림)\n",
    "def minus_sound(data, type, count, sr=16000):\n",
    "    sig, sr = librosa.load(data, sr=16000)\n",
    "    temp_numpy = (-1)*sig\n",
    "    sf.write( Config.base_path+Config.dataset_type+'/' + type +'/'+type+'_reverse_data'+'{0:04d}'.format(count)+'.wav', temp_numpy, sr)\n",
    "    return temp_numpy"
   ]
  },
  {
   "cell_type": "code",
   "execution_count": 60,
   "metadata": {
    "colab": {
     "base_uri": "https://localhost:8080/"
    },
    "executionInfo": {
     "elapsed": 244727,
     "status": "ok",
     "timestamp": 1648687686275,
     "user": {
      "displayName": "김유탄",
      "userId": "04011767612525493979"
     },
     "user_tz": -540
    },
    "id": "8F14vBzsZTkF",
    "outputId": "6c176375-4fed-42ba-8e54-9051f6d52a0f"
   },
   "outputs": [
    {
     "name": "stdout",
     "output_type": "stream",
     "text": [
      "['hey_tantan', 'hi_byeonghyeon', 'hi_jeonglyul', 'hi_sungwoo', 'hi_yutan', 'no']\n",
      "./custum_dataset/hey_tantan\n",
      "./custum_dataset/hey_tantan/voice0001_hey_tantan.wav 1\n"
     ]
    },
    {
     "name": "stderr",
     "output_type": "stream",
     "text": [
      "C:\\Users\\yutan\\anaconda3\\envs\\tensorflow\\lib\\site-packages\\ipykernel_launcher.py:5: FutureWarning: Pass rate=0.8 as keyword args. From version 0.10 passing these as positional arguments will result in an error\n",
      "  \"\"\"\n"
     ]
    },
    {
     "name": "stdout",
     "output_type": "stream",
     "text": [
      "./custum_dataset/hey_tantan/voice0002_hey_tantan.wav 2\n",
      "./custum_dataset/hey_tantan/voice0003_hey_tantan.wav 3\n",
      "./custum_dataset/hey_tantan/voice0004_hey_tantan.wav 4\n",
      "./custum_dataset/hey_tantan/voice0005_hey_tantan.wav 5\n",
      "./custum_dataset/hey_tantan/voice0006_hey_tantan.wav 6\n",
      "./custum_dataset/hey_tantan/voice0007_hey_tantan.wav 7\n",
      "./custum_dataset/hey_tantan/voice0008_hey_tantan.wav 8\n",
      "./custum_dataset/hey_tantan/voice0009_hey_tantan.wav 9\n",
      "./custum_dataset/hey_tantan/voice0010_hey_tantan.wav 10\n",
      "./custum_dataset/hey_tantan/voice0011_hey_tantan.wav 11\n",
      "./custum_dataset/hey_tantan/voice0012_hey_tantan.wav 12\n",
      "./custum_dataset/hey_tantan/voice0013_hey_tantan.wav 13\n",
      "./custum_dataset/hey_tantan/voice0014_hey_tantan.wav 14\n",
      "./custum_dataset/hey_tantan/voice0015_hey_tantan.wav 15\n",
      "./custum_dataset/hey_tantan/voice0016_hey_tantan.wav 16\n",
      "./custum_dataset/hey_tantan/voice0017_hey_tantan.wav 17\n",
      "./custum_dataset/hey_tantan/voice0018_hey_tantan.wav 18\n",
      "./custum_dataset/hey_tantan/voice0019_hey_tantan.wav 19\n",
      "./custum_dataset/hey_tantan/voice0020_hey_tantan.wav 20\n",
      "./custum_dataset/hey_tantan/voice0021_hey_tantan.wav 21\n",
      "./custum_dataset/hey_tantan/voice0022_hey_tantan.wav 22\n",
      "./custum_dataset/hey_tantan/voice0023_hey_tantan.wav 23\n",
      "./custum_dataset/hey_tantan/voice0024_hey_tantan.wav 24\n",
      "./custum_dataset/hey_tantan/voice0025_hey_tantan.wav 25\n",
      "./custum_dataset/hey_tantan/voice0026_hey_tantan.wav 26\n",
      "./custum_dataset/hey_tantan/voice0027_hey_tantan.wav 27\n",
      "./custum_dataset/hey_tantan/voice0028_hey_tantan.wav 28\n",
      "./custum_dataset/hey_tantan/voice0029_hey_tantan.wav 29\n",
      "./custum_dataset/hey_tantan/voice0030_hey_tantan.wav 30\n",
      "./custum_dataset/hey_tantan/voice0031_hey_tantan.wav 31\n",
      "./custum_dataset/hey_tantan/voice0032_hey_tantan.wav 32\n",
      "./custum_dataset/hey_tantan/voice0033_hey_tantan.wav 33\n",
      "./custum_dataset/hey_tantan/voice0034_hey_tantan.wav 34\n",
      "./custum_dataset/hey_tantan/voice0035_hey_tantan.wav 35\n",
      "./custum_dataset/hey_tantan/voice0036_hey_tantan.wav 36\n",
      "./custum_dataset/hey_tantan/voice0037_hey_tantan.wav 37\n",
      "./custum_dataset/hey_tantan/voice0038_hey_tantan.wav 38\n",
      "./custum_dataset/hey_tantan/voice0039_hey_tantan.wav 39\n",
      "./custum_dataset/hey_tantan/voice0040_hey_tantan.wav 40\n",
      "./custum_dataset/hey_tantan/voice0041_hey_tantan.wav 41\n",
      "./custum_dataset/hey_tantan/voice0042_hey_tantan.wav 42\n",
      "./custum_dataset/hey_tantan/voice0043_hey_tantan.wav 43\n",
      "./custum_dataset/hey_tantan/voice0044_hey_tantan.wav 44\n",
      "./custum_dataset/hey_tantan/voice0045_hey_tantan.wav 45\n",
      "./custum_dataset/hi_byeonghyeon\n",
      "./custum_dataset/hi_byeonghyeon/voice0001_hi_byeonghyeon.wav 1\n",
      "./custum_dataset/hi_byeonghyeon/voice0002_hi_byeonghyeon.wav 2\n",
      "./custum_dataset/hi_byeonghyeon/voice0003_hi_byeonghyeon.wav 3\n",
      "./custum_dataset/hi_byeonghyeon/voice0004_hi_byeonghyeon.wav 4\n",
      "./custum_dataset/hi_byeonghyeon/voice0005_hi_byeonghyeon.wav 5\n",
      "./custum_dataset/hi_byeonghyeon/voice0006_hi_byeonghyeon.wav 6\n",
      "./custum_dataset/hi_byeonghyeon/voice0007_hi_byeonghyeon.wav 7\n",
      "./custum_dataset/hi_byeonghyeon/voice0008_hi_byeonghyeon.wav 8\n",
      "./custum_dataset/hi_byeonghyeon/voice0009_hi_byeonghyeon.wav 9\n",
      "./custum_dataset/hi_byeonghyeon/voice0010_hi_byeonghyeon.wav 10\n",
      "./custum_dataset/hi_byeonghyeon/voice0011_hi_byeonghyeon.wav 11\n",
      "./custum_dataset/hi_byeonghyeon/voice0012_hi_byeonghyeon.wav 12\n",
      "./custum_dataset/hi_byeonghyeon/voice0013_hi_byeonghyeon.wav 13\n",
      "./custum_dataset/hi_byeonghyeon/voice0014_hi_byeonghyeon.wav 14\n",
      "./custum_dataset/hi_byeonghyeon/voice0015_hi_byeonghyeon.wav 15\n",
      "./custum_dataset/hi_byeonghyeon/voice0016_hi_byeonghyeon.wav 16\n",
      "./custum_dataset/hi_byeonghyeon/voice0017_hi_byeonghyeon.wav 17\n",
      "./custum_dataset/hi_byeonghyeon/voice0018_hi_byeonghyeon.wav 18\n",
      "./custum_dataset/hi_byeonghyeon/voice0019_hi_byeonghyeon.wav 19\n",
      "./custum_dataset/hi_byeonghyeon/voice0020_hi_byeonghyeon.wav 20\n",
      "./custum_dataset/hi_byeonghyeon/voice0021_hi_byeonghyeon.wav 21\n",
      "./custum_dataset/hi_byeonghyeon/voice0022_hi_byeonghyeon.wav 22\n",
      "./custum_dataset/hi_byeonghyeon/voice0023_hi_byeonghyeon.wav 23\n",
      "./custum_dataset/hi_byeonghyeon/voice0024_hi_byeonghyeon.wav 24\n",
      "./custum_dataset/hi_byeonghyeon/voice0025_hi_byeonghyeon.wav 25\n",
      "./custum_dataset/hi_byeonghyeon/voice0026_hi_byeonghyeon.wav 26\n",
      "./custum_dataset/hi_byeonghyeon/voice0027_hi_byeonghyeon.wav 27\n",
      "./custum_dataset/hi_byeonghyeon/voice0028_hi_byeonghyeon.wav 28\n",
      "./custum_dataset/hi_byeonghyeon/voice0029_hi_byeonghyeon.wav 29\n",
      "./custum_dataset/hi_byeonghyeon/voice0030_hi_byeonghyeon.wav 30\n",
      "./custum_dataset/hi_byeonghyeon/voice0031_hi_byeonghyeon.wav 31\n",
      "./custum_dataset/hi_byeonghyeon/voice0032_hi_byeonghyeon.wav 32\n",
      "./custum_dataset/hi_byeonghyeon/voice0033_hi_byeonghyeon.wav 33\n",
      "./custum_dataset/hi_byeonghyeon/voice0034_hi_byeonghyeon.wav 34\n",
      "./custum_dataset/hi_byeonghyeon/voice0035_hi_byeonghyeon.wav 35\n",
      "./custum_dataset/hi_byeonghyeon/voice0036_hi_byeonghyeon.wav 36\n",
      "./custum_dataset/hi_byeonghyeon/voice0037_hi_byeonghyeon.wav 37\n",
      "./custum_dataset/hi_byeonghyeon/voice0038_hi_byeonghyeon.wav 38\n",
      "./custum_dataset/hi_byeonghyeon/voice0039_hi_byeonghyeon.wav 39\n",
      "./custum_dataset/hi_byeonghyeon/voice0040_hi_byeonghyeon.wav 40\n",
      "./custum_dataset/hi_byeonghyeon/voice0041_hi_byeonghyeon.wav 41\n",
      "./custum_dataset/hi_byeonghyeon/voice0042_hi_byeonghyeon.wav 42\n",
      "./custum_dataset/hi_byeonghyeon/voice0043_hi_byeonghyeon.wav 43\n",
      "./custum_dataset/hi_byeonghyeon/voice0044_hi_byeonghyeon.wav 44\n",
      "./custum_dataset/hi_byeonghyeon/voice0045_hi_byeonghyeon.wav 45\n",
      "./custum_dataset/hi_jeonglyul\n",
      "./custum_dataset/hi_jeonglyul/voice0001_hi_jeonglyul.wav 1\n",
      "./custum_dataset/hi_jeonglyul/voice0002_hi_jeonglyul.wav 2\n",
      "./custum_dataset/hi_jeonglyul/voice0003_hi_jeonglyul.wav 3\n",
      "./custum_dataset/hi_jeonglyul/voice0004_hi_jeonglyul.wav 4\n",
      "./custum_dataset/hi_jeonglyul/voice0005_hi_jeonglyul.wav 5\n",
      "./custum_dataset/hi_jeonglyul/voice0006_hi_jeonglyul.wav 6\n",
      "./custum_dataset/hi_jeonglyul/voice0007_hi_jeonglyul.wav 7\n",
      "./custum_dataset/hi_jeonglyul/voice0008_hi_jeonglyul.wav 8\n",
      "./custum_dataset/hi_jeonglyul/voice0009_hi_jeonglyul.wav 9\n",
      "./custum_dataset/hi_jeonglyul/voice0010_hi_jeonglyul.wav 10\n",
      "./custum_dataset/hi_jeonglyul/voice0011_hi_jeonglyul.wav 11\n",
      "./custum_dataset/hi_jeonglyul/voice0012_hi_jeonglyul.wav 12\n",
      "./custum_dataset/hi_jeonglyul/voice0013_hi_jeonglyul.wav 13\n",
      "./custum_dataset/hi_jeonglyul/voice0014_hi_jeonglyul.wav 14\n",
      "./custum_dataset/hi_jeonglyul/voice0015_hi_jeonglyul.wav 15\n",
      "./custum_dataset/hi_jeonglyul/voice0016_hi_jeonglyul.wav 16\n",
      "./custum_dataset/hi_jeonglyul/voice0017_hi_jeonglyul.wav 17\n",
      "./custum_dataset/hi_jeonglyul/voice0018_hi_jeonglyul.wav 18\n",
      "./custum_dataset/hi_jeonglyul/voice0019_hi_jeonglyul.wav 19\n",
      "./custum_dataset/hi_jeonglyul/voice0020_hi_jeonglyul.wav 20\n",
      "./custum_dataset/hi_jeonglyul/voice0021_hi_jeonglyul.wav 21\n",
      "./custum_dataset/hi_jeonglyul/voice0022_hi_jeonglyul.wav 22\n",
      "./custum_dataset/hi_jeonglyul/voice0023_hi_jeonglyul.wav 23\n",
      "./custum_dataset/hi_jeonglyul/voice0024_hi_jeonglyul.wav 24\n",
      "./custum_dataset/hi_jeonglyul/voice0025_hi_jeonglyul.wav 25\n",
      "./custum_dataset/hi_jeonglyul/voice0026_hi_jeonglyul.wav 26\n",
      "./custum_dataset/hi_jeonglyul/voice0027_hi_jeonglyul.wav 27\n",
      "./custum_dataset/hi_jeonglyul/voice0028_hi_jeonglyul.wav 28\n",
      "./custum_dataset/hi_jeonglyul/voice0029_hi_jeonglyul.wav 29\n",
      "./custum_dataset/hi_jeonglyul/voice0030_hi_jeonglyul.wav 30\n",
      "./custum_dataset/hi_jeonglyul/voice0031_hi_jeonglyul.wav 31\n",
      "./custum_dataset/hi_jeonglyul/voice0032_hi_jeonglyul.wav 32\n",
      "./custum_dataset/hi_jeonglyul/voice0033_hi_jeonglyul.wav 33\n",
      "./custum_dataset/hi_jeonglyul/voice0034_hi_jeonglyul.wav 34\n",
      "./custum_dataset/hi_jeonglyul/voice0035_hi_jeonglyul.wav 35\n",
      "./custum_dataset/hi_jeonglyul/voice0036_hi_jeonglyul.wav 36\n",
      "./custum_dataset/hi_jeonglyul/voice0037_hi_jeonglyul.wav 37\n",
      "./custum_dataset/hi_jeonglyul/voice0038_hi_jeonglyul.wav 38\n",
      "./custum_dataset/hi_jeonglyul/voice0039_hi_jeonglyul.wav 39\n",
      "./custum_dataset/hi_jeonglyul/voice0040_hi_jeonglyul.wav 40\n",
      "./custum_dataset/hi_jeonglyul/voice0041_hi_jeonglyul.wav 41\n",
      "./custum_dataset/hi_jeonglyul/voice0042_hi_jeonglyul.wav 42\n",
      "./custum_dataset/hi_jeonglyul/voice0043_hi_jeonglyul.wav 43\n",
      "./custum_dataset/hi_jeonglyul/voice0044_hi_jeonglyul.wav 44\n",
      "./custum_dataset/hi_jeonglyul/voice0045_hi_jeonglyul.wav 45\n",
      "./custum_dataset/hi_sungwoo\n",
      "./custum_dataset/hi_sungwoo/voice0001_hi_sungwoo.wav 1\n",
      "./custum_dataset/hi_sungwoo/voice0002_hi_sungwoo.wav 2\n"
     ]
    },
    {
     "name": "stdout",
     "output_type": "stream",
     "text": [
      "./custum_dataset/hi_sungwoo/voice0003_hi_sungwoo.wav 3\n",
      "./custum_dataset/hi_sungwoo/voice0004_hi_sungwoo.wav 4\n",
      "./custum_dataset/hi_sungwoo/voice0005_hi_sungwoo.wav 5\n",
      "./custum_dataset/hi_sungwoo/voice0006_hi_sungwoo.wav 6\n",
      "./custum_dataset/hi_sungwoo/voice0007_hi_sungwoo.wav 7\n",
      "./custum_dataset/hi_sungwoo/voice0008_hi_sungwoo.wav 8\n",
      "./custum_dataset/hi_sungwoo/voice0009_hi_sungwoo.wav 9\n",
      "./custum_dataset/hi_sungwoo/voice0010_hi_sungwoo.wav 10\n",
      "./custum_dataset/hi_sungwoo/voice0011_hi_sungwoo.wav 11\n",
      "./custum_dataset/hi_sungwoo/voice0012_hi_sungwoo.wav 12\n",
      "./custum_dataset/hi_sungwoo/voice0013_hi_sungwoo.wav 13\n",
      "./custum_dataset/hi_sungwoo/voice0014_hi_sungwoo.wav 14\n",
      "./custum_dataset/hi_sungwoo/voice0015_hi_sungwoo.wav 15\n",
      "./custum_dataset/hi_sungwoo/voice0016_hi_sungwoo.wav 16\n",
      "./custum_dataset/hi_sungwoo/voice0017_hi_sungwoo.wav 17\n",
      "./custum_dataset/hi_sungwoo/voice0018_hi_sungwoo.wav 18\n",
      "./custum_dataset/hi_sungwoo/voice0019_hi_sungwoo.wav 19\n",
      "./custum_dataset/hi_sungwoo/voice0020_hi_sungwoo.wav 20\n",
      "./custum_dataset/hi_sungwoo/voice0021_hi_sungwoo.wav 21\n",
      "./custum_dataset/hi_sungwoo/voice0022_hi_sungwoo.wav 22\n",
      "./custum_dataset/hi_sungwoo/voice0023_hi_sungwoo.wav 23\n",
      "./custum_dataset/hi_sungwoo/voice0024_hi_sungwoo.wav 24\n",
      "./custum_dataset/hi_sungwoo/voice0025_hi_sungwoo.wav 25\n",
      "./custum_dataset/hi_sungwoo/voice0026_hi_sungwoo.wav 26\n",
      "./custum_dataset/hi_sungwoo/voice0027_hi_sungwoo.wav 27\n",
      "./custum_dataset/hi_sungwoo/voice0028_hi_sungwoo.wav 28\n",
      "./custum_dataset/hi_sungwoo/voice0029_hi_sungwoo.wav 29\n",
      "./custum_dataset/hi_sungwoo/voice0030_hi_sungwoo.wav 30\n",
      "./custum_dataset/hi_sungwoo/voice0031_hi_sungwoo.wav 31\n",
      "./custum_dataset/hi_sungwoo/voice0032_hi_sungwoo.wav 32\n",
      "./custum_dataset/hi_sungwoo/voice0033_hi_sungwoo.wav 33\n",
      "./custum_dataset/hi_sungwoo/voice0034_hi_sungwoo.wav 34\n",
      "./custum_dataset/hi_sungwoo/voice0035_hi_sungwoo.wav 35\n",
      "./custum_dataset/hi_sungwoo/voice0036_hi_sungwoo.wav 36\n",
      "./custum_dataset/hi_sungwoo/voice0037_hi_sungwoo.wav 37\n",
      "./custum_dataset/hi_sungwoo/voice0038_hi_sungwoo.wav 38\n",
      "./custum_dataset/hi_sungwoo/voice0039_hi_sungwoo.wav 39\n",
      "./custum_dataset/hi_sungwoo/voice0040_hi_sungwoo.wav 40\n",
      "./custum_dataset/hi_sungwoo/voice0041_hi_sungwoo.wav 41\n",
      "./custum_dataset/hi_sungwoo/voice0042_hi_sungwoo.wav 42\n",
      "./custum_dataset/hi_sungwoo/voice0043_hi_sungwoo.wav 43\n",
      "./custum_dataset/hi_sungwoo/voice0044_hi_sungwoo.wav 44\n",
      "./custum_dataset/hi_sungwoo/voice0045_hi_sungwoo.wav 45\n",
      "./custum_dataset/hi_sungwoo/voice0046_hi_sungwoo.wav 46\n",
      "./custum_dataset/hi_sungwoo/voice0047_hi_sungwoo.wav 47\n",
      "./custum_dataset/hi_yutan\n",
      "./custum_dataset/hi_yutan/voice0001_hi_yutan.wav 1\n",
      "./custum_dataset/hi_yutan/voice0002_hi_yutan.wav 2\n",
      "./custum_dataset/hi_yutan/voice0003_hi_yutan.wav 3\n",
      "./custum_dataset/hi_yutan/voice0004_hi_yutan.wav 4\n",
      "./custum_dataset/hi_yutan/voice0005_hi_yutan.wav 5\n",
      "./custum_dataset/hi_yutan/voice0006_hi_yutan.wav 6\n",
      "./custum_dataset/hi_yutan/voice0007_hi_yutan.wav 7\n",
      "./custum_dataset/hi_yutan/voice0008_hi_yutan.wav 8\n",
      "./custum_dataset/hi_yutan/voice0009_hi_yutan.wav 9\n",
      "./custum_dataset/hi_yutan/voice0010_hi_yutan.wav 10\n",
      "./custum_dataset/hi_yutan/voice0011_hi_yutan.wav 11\n",
      "./custum_dataset/hi_yutan/voice0012_hi_yutan.wav 12\n",
      "./custum_dataset/hi_yutan/voice0013_hi_yutan.wav 13\n",
      "./custum_dataset/hi_yutan/voice0014_hi_yutan.wav 14\n",
      "./custum_dataset/hi_yutan/voice0015_hi_yutan.wav 15\n",
      "./custum_dataset/hi_yutan/voice0016_hi_yutan.wav 16\n",
      "./custum_dataset/hi_yutan/voice0017_hi_yutan.wav 17\n",
      "./custum_dataset/hi_yutan/voice0018_hi_yutan.wav 18\n",
      "./custum_dataset/hi_yutan/voice0019_hi_yutan.wav 19\n",
      "./custum_dataset/hi_yutan/voice0020_hi_yutan.wav 20\n",
      "./custum_dataset/hi_yutan/voice0021_hi_yutan.wav 21\n",
      "./custum_dataset/hi_yutan/voice0022_hi_yutan.wav 22\n",
      "./custum_dataset/hi_yutan/voice0023_hi_yutan.wav 23\n",
      "./custum_dataset/hi_yutan/voice0024_hi_yutan.wav 24\n",
      "./custum_dataset/hi_yutan/voice0025_hi_yutan.wav 25\n",
      "./custum_dataset/hi_yutan/voice0026_hi_yutan.wav 26\n",
      "./custum_dataset/hi_yutan/voice0027_hi_yutan.wav 27\n",
      "./custum_dataset/hi_yutan/voice0028_hi_yutan.wav 28\n",
      "./custum_dataset/hi_yutan/voice0029_hi_yutan.wav 29\n",
      "./custum_dataset/hi_yutan/voice0030_hi_yutan.wav 30\n",
      "./custum_dataset/hi_yutan/voice0031_hi_yutan.wav 31\n",
      "./custum_dataset/hi_yutan/voice0032_hi_yutan.wav 32\n",
      "./custum_dataset/hi_yutan/voice0033_hi_yutan.wav 33\n",
      "./custum_dataset/hi_yutan/voice0034_hi_yutan.wav 34\n",
      "./custum_dataset/hi_yutan/voice0035_hi_yutan.wav 35\n",
      "./custum_dataset/hi_yutan/voice0036_hi_yutan.wav 36\n",
      "./custum_dataset/hi_yutan/voice0037_hi_yutan.wav 37\n",
      "./custum_dataset/hi_yutan/voice0038_hi_yutan.wav 38\n",
      "./custum_dataset/hi_yutan/voice0039_hi_yutan.wav 39\n",
      "./custum_dataset/hi_yutan/voice0040_hi_yutan.wav 40\n",
      "./custum_dataset/hi_yutan/voice0041_hi_yutan.wav 41\n",
      "./custum_dataset/hi_yutan/voice0042_hi_yutan.wav 42\n",
      "./custum_dataset/hi_yutan/voice0043_hi_yutan.wav 43\n",
      "./custum_dataset/hi_yutan/voice0044_hi_yutan.wav 44\n",
      "./custum_dataset/hi_yutan/voice0045_hi_yutan.wav 45\n",
      "./custum_dataset/hi_yutan/voice0046_hi_yutan.wav 46\n",
      "./custum_dataset/hi_yutan/voice0047_hi_yutan.wav 47\n",
      "./custum_dataset/hi_yutan/voice0048_hi_yutan.wav 48\n",
      "./custum_dataset/hi_yutan/voice0049_hi_yutan.wav 49\n",
      "./custum_dataset/hi_yutan/voice0050_hi_yutan.wav 50\n",
      "./custum_dataset/hi_yutan/voice0051_hi_yutan.wav 51\n",
      "./custum_dataset/no\n",
      "./custum_dataset/no/voice0001_no.wav 1\n",
      "./custum_dataset/no/voice0002_no.wav 2\n",
      "./custum_dataset/no/voice0003_no.wav 3\n",
      "./custum_dataset/no/voice0004_no.wav 4\n",
      "./custum_dataset/no/voice0005_no.wav 5\n",
      "./custum_dataset/no/voice0006_no.wav 6\n",
      "./custum_dataset/no/voice0007_no.wav 7\n",
      "./custum_dataset/no/voice0008_no.wav 8\n",
      "./custum_dataset/no/voice0009_no.wav 9\n",
      "./custum_dataset/no/voice0010_no.wav 10\n",
      "./custum_dataset/no/voice0011_no.wav 11\n",
      "./custum_dataset/no/voice0012_no.wav 12\n",
      "./custum_dataset/no/voice0013_no.wav 13\n",
      "./custum_dataset/no/voice0014_no.wav 14\n",
      "./custum_dataset/no/voice0015_no.wav 15\n",
      "./custum_dataset/no/voice0016_no.wav 16\n",
      "./custum_dataset/no/voice0017_no.wav 17\n",
      "./custum_dataset/no/voice0018_no.wav 18\n",
      "./custum_dataset/no/voice0019_no.wav 19\n",
      "./custum_dataset/no/voice0020_no.wav 20\n",
      "./custum_dataset/no/voice0021_no.wav 21\n",
      "./custum_dataset/no/voice0022_no.wav 22\n"
     ]
    }
   ],
   "source": [
    "target_list = [ name for name in listdir(Config.aug_dataset_path) if isdir(\"/\".join( [Config.aug_dataset_path,name ]))]\n",
    "for no_tar in Config.non_target_list:\n",
    "  if no_tar in target_list:\n",
    "    target_list.remove(no_tar)\n",
    "\n",
    "print(target_list)\n",
    "\n",
    "for index, type in enumerate(target_list):\n",
    "  print('/'.join([Config.aug_dataset_path, type])) \n",
    "  type_path = '/'.join([Config.aug_dataset_path, type])\n",
    "  if not os.path.exists(Config.dataset_path):\n",
    "            os.makedirs(Config.dataset_path)\n",
    "\n",
    "  if not os.path.exists(Config.dataset_path+'/' + type):\n",
    "            os.makedirs(Config.dataset_path+'/' + type)\n",
    "  all_file = listdir(type_path)\n",
    "  count = 1\n",
    "  aug_cut = len(all_file) * Config.aug_rate\n",
    "  for file_name in all_file:\n",
    "    if count > aug_cut:\n",
    "      break\n",
    "    file_path =  type_path + \"/\"+file_name\n",
    "    print(file_path, count)\n",
    "    adding_white_noise(file_path, type, count)\n",
    "    stretch_sound(file_path, type, count)\n",
    "    minus_sound(file_path, type, count)\n",
    "    copy_tree(type_path, Config.dataset_path+'/' + type )\n",
    "    count += 1"
   ]
  },
  {
   "cell_type": "code",
   "execution_count": 61,
   "metadata": {
    "colab": {
     "base_uri": "https://localhost:8080/",
     "height": 0
    },
    "executionInfo": {
     "elapsed": 511,
     "status": "ok",
     "timestamp": 1648687686739,
     "user": {
      "displayName": "김유탄",
      "userId": "04011767612525493979"
     },
     "user_tz": -540
    },
    "id": "UlLqqOpDNMY-",
    "outputId": "797935ab-5443-4ee9-8ba1-521fad99c10b"
   },
   "outputs": [
    {
     "name": "stdout",
     "output_type": "stream",
     "text": [
      "sr: 16000 , sig shape: (44033,)\n",
      "length: 2.7520625 secs\n"
     ]
    },
    {
     "data": {
      "image/png": "[encoded data removed]",
      "text/plain": [
       "<Figure size 504x288 with 1 Axes>"
      ]
     },
     "metadata": {
      "needs_background": "light"
     },
     "output_type": "display_data"
    }
   ],
   "source": [
    "type = \"hi_yutan\"\n",
    "file = Config.base_path+\"/custum_dataset/hi_yutan/voice0015_hi_yutan.wav\"\n",
    "\n",
    "# a = adding_white_noise(file, type)\n",
    "# b= stretch_sound(file, type)\n",
    "# c= minus_sound(file, type)\n",
    "\n",
    "sig, sr = librosa.load(file, sr=16000)\n",
    "print('sr:', sr, ', sig shape:', sig.shape)\n",
    "print('length:', sig.shape[0]/float(sr), 'secs')\n",
    "\n",
    "plot_time_series(sig, \"original\")\n",
    "# plot_time_series(a,\"Noise\")\n",
    "# plot_time_series(b,\"Stretch\")\n",
    "# plot_time_series(c,\"Reverse\")"
   ]
  },
  {
   "cell_type": "markdown",
   "metadata": {
    "id": "eL10wX1siLGx"
   },
   "source": [
    "# 데이터 나눠 주기"
   ]
  },
  {
   "cell_type": "code",
   "execution_count": 226,
   "metadata": {
    "executionInfo": {
     "elapsed": 4959,
     "status": "ok",
     "timestamp": 1648708407821,
     "user": {
      "displayName": "김유탄",
      "userId": "04011767612525493979"
     },
     "user_tz": -540
    },
    "id": "LaIMW3_FdLEV"
   },
   "outputs": [],
   "source": [
    "from os import listdir\n",
    "from os.path import isdir, join\n",
    "import librosa\n",
    "import random\n",
    "import numpy as np\n",
    "import matplotlib.pyplot as plt\n",
    "# import python_speech_features\n",
    "import librosa.display\n",
    "import seaborn as sns\n",
    "from sklearn import metrics\n",
    "#from playsound import playsound\n",
    "\n",
    "import tensorflow as tf\n",
    "from tensorflow.keras import models\n",
    "\n",
    "from tensorflow import keras\n",
    "from tensorflow.keras.callbacks import EarlyStopping, ModelCheckpoint, ReduceLROnPlateau, CSVLogger, TensorBoard\n",
    "import tensorflow_model_optimization as tfmot\n",
    "from tensorflow import lite\n",
    "\n",
    "from tensorflow.keras import layers\n",
    "from keras.layers import Dense, Activation, Dropout, Input, Masking, TimeDistributed, LSTM, Conv1D\n",
    "from keras.layers import GRU, Bidirectional, BatchNormalization, Reshape, Conv2D, MaxPooling2D, Flatten\n",
    "\n",
    "from keras.models import Model, load_model, Sequential\n",
    "\n",
    "from model import MyModel\n",
    "\n",
    "np.random.seed(77)"
   ]
  },
  {
   "cell_type": "code",
   "execution_count": 227,
   "metadata": {
    "colab": {
     "base_uri": "https://localhost:8080/"
    },
    "executionInfo": {
     "elapsed": 2341,
     "status": "ok",
     "timestamp": 1648708410152,
     "user": {
      "displayName": "김유탄",
      "userId": "04011767612525493979"
     },
     "user_tz": -540
    },
    "id": "iigZ1Z0diKbl",
    "outputId": "fbea2d87-93a4-447a-e4cd-13a471e52ffb"
   },
   "outputs": [
    {
     "name": "stdout",
     "output_type": "stream",
     "text": [
      "./augmentation_dataset/hey_tantan\n",
      "./augmentation_dataset/hi_byeonghyeon\n",
      "./augmentation_dataset/hi_jeonglyul\n",
      "./augmentation_dataset/hi_sungwoo\n",
      "./augmentation_dataset/hi_yutan\n",
      "./augmentation_dataset/no\n"
     ]
    }
   ],
   "source": [
    "# 데이터가 저장되어 있는 경로 ( class 별로 묶여 있는 곳)\n",
    "Config.dataset_path = Config.base_path + Config.dataset_type   # custum_dataset\n",
    "\n",
    "# 여기다가는 내가 사용하지 않은 class 이름들 넣어두기 - 학습 시간이 너무 오래 걸리는 경우\n",
    "\n",
    "# 폴더명 = target ,  target이 들어가 있는 list 생성\n",
    "target_list = [ name for name in listdir(Config.dataset_path) if isdir(\"/\".join( [Config.dataset_path,name ]))]\n",
    "for no_tar in Config.non_target_list:\n",
    "  if no_tar in target_list:\n",
    "    target_list.remove(no_tar)\n",
    "\n",
    "\n",
    "filenames = []\n",
    "y = []\n",
    "for index, target in enumerate(target_list):\n",
    "    print('/'.join([Config.dataset_path, target]))  # class 에 맞는 폴더 이름 넣어주기\n",
    "    filenames.append(listdir('/'.join([Config.dataset_path, target])))\n",
    "    y.append(np.ones(len(filenames[index])) * index) "
   ]
  },
  {
   "cell_type": "code",
   "execution_count": 228,
   "metadata": {
    "executionInfo": {
     "elapsed": 10,
     "status": "ok",
     "timestamp": 1648708410153,
     "user": {
      "displayName": "김유탄",
      "userId": "04011767612525493979"
     },
     "user_tz": -540
    },
    "id": "t8Sozaa4FMzz"
   },
   "outputs": [],
   "source": [
    "# 하나로 쭉 나열 하기\n",
    "filenames = [item for sublist in filenames for item in sublist]\n",
    "y = [item for sublist in y for item in sublist]\n",
    "\n",
    "# 여기부터 분배를 잘 해줘야함\n",
    "# file 모아둔거 한번 섞어 주기\n",
    "filenames_y = list(zip(filenames, y))\n",
    "random.shuffle(filenames_y)\n",
    "filenames, y = zip(*filenames_y)\n",
    "\n",
    "val_set_size = int(len(filenames) * Config.val_ratio)\n",
    "test_set_size = int(len(filenames) * Config.test_ratio)\n",
    "\n",
    "filenames_val = filenames[:val_set_size]\n",
    "filenames_test = filenames[val_set_size:(val_set_size + test_set_size)]\n",
    "filenames_train = filenames[(val_set_size + test_set_size):]\n",
    "\n",
    "y_orig_val = y[:val_set_size]\n",
    "y_orig_test = y[val_set_size:(val_set_size + test_set_size)]\n",
    "y_orig_train = y[(val_set_size + test_set_size):]"
   ]
  },
  {
   "cell_type": "code",
   "execution_count": 229,
   "metadata": {
    "colab": {
     "base_uri": "https://localhost:8080/"
    },
    "executionInfo": {
     "elapsed": 10,
     "status": "ok",
     "timestamp": 1648708410154,
     "user": {
      "displayName": "김유탄",
      "userId": "04011767612525493979"
     },
     "user_tz": -540
    },
    "id": "NBNJ6Xw1vrKm",
    "outputId": "ddfb346b-cc7c-4f66-ec0c-d4b38be67192"
   },
   "outputs": [
    {
     "name": "stdout",
     "output_type": "stream",
     "text": [
      "737 737\n",
      "105 105\n",
      "210 210\n"
     ]
    }
   ],
   "source": [
    "print(len(filenames_train), len(y_orig_train))\n",
    "print(len(filenames_val), len(y_orig_val))\n",
    "print(len(filenames_test), len(y_orig_test))"
   ]
  },
  {
   "cell_type": "markdown",
   "metadata": {
    "id": "vMS-O9jxWMXi"
   },
   "source": [
    "# MFCC feature 추출"
   ]
  },
  {
   "cell_type": "code",
   "execution_count": 230,
   "metadata": {
    "executionInfo": {
     "elapsed": 9,
     "status": "ok",
     "timestamp": 1648708410154,
     "user": {
      "displayName": "김유탄",
      "userId": "04011767612525493979"
     },
     "user_tz": -540
    },
    "id": "kWZz1TPpuz-J"
   },
   "outputs": [],
   "source": [
    "ffts = []\n",
    "stfts = [] \n",
    "f_ffts = []\n",
    "log_specs = []\n",
    "MFCCs_list = []\n",
    "\n",
    "def get_librosa_mfcc(path):\n",
    "    #waveforms.append([signal, Config.sample_rate]) \n",
    "    # FFT -> power spectrum\n",
    "    # perform Fourier transform\n",
    "\n",
    "    sig, sr = librosa.core.load(path, Config.sample_rate)\n",
    "    signal = sig[-Config.sample_cut-Config.click:-Config.click]\n",
    "#     print('sr:', sr, ', sig shape:', sig.shape)\n",
    "#     print('length:', sig.shape[0]/float(sr), 'secs')\n",
    "#     plot_time_series(signal, \"original\")\n",
    "    \n",
    "    fft = np.fft.fft(signal)\n",
    "    magnitude = np.abs(fft)\n",
    "    frequency = np.linspace(0, Config.sample_rate, len(magnitude))\n",
    "    f_ffts.append([frequency, magnitude])\n",
    "    \n",
    "    # calculate abs values on complex numbers to get magnitude\n",
    "    spectrum = np.abs(fft)\n",
    "    \n",
    "    # half frequency variable\n",
    "    f = np.linspace(0, Config.sample_rate, len(spectrum))\n",
    "    left_spectrum = spectrum[:int(len(spectrum)/2)]\n",
    "    left_f = f[:int(len(spectrum)/2)]\n",
    "    ffts.append([left_f, left_spectrum])\n",
    "\n",
    "    #performing Short-time FT\n",
    "    stft = librosa.stft(signal, n_fft=Config.n_fft, hop_length=Config.hop_length)\n",
    "    spectrogram = np.abs(stft)\n",
    "    stfts.append([spectrogram, Config.sample_rate, Config.hop_length])\n",
    "    log_spectrogram = librosa.amplitude_to_db(spectrogram)\n",
    "    log_specs.append([log_spectrogram, Config.sample_rate, Config.hop_length])\n",
    "    MFCCs = librosa.feature.mfcc(signal, Config.sample_rate, \n",
    "                                 n_mfcc=Config.num_mfcc,\n",
    "                                 n_fft=Config.n_fft,\n",
    "                                 hop_length=Config.hop_length)\n",
    "    MFCCs_list.append([MFCCs, Config.sample_rate, Config.hop_length])\n",
    "    return MFCCs"
   ]
  },
  {
   "cell_type": "code",
   "execution_count": 231,
   "metadata": {
    "colab": {
     "base_uri": "https://localhost:8080/",
     "height": 260
    },
    "executionInfo": {
     "elapsed": 27,
     "status": "ok",
     "timestamp": 1648708544017,
     "user": {
      "displayName": "김유탄",
      "userId": "04011767612525493979"
     },
     "user_tz": -540
    },
    "id": "ImVwh1C9EDv-",
    "outputId": "4954f160-ae0e-4c03-d348-c4c0e61bdfa2"
   },
   "outputs": [
    {
     "name": "stderr",
     "output_type": "stream",
     "text": [
      "C:\\Users\\yutan\\anaconda3\\envs\\tensorflow\\lib\\site-packages\\ipykernel_launcher.py:12: FutureWarning: Pass sr=16000 as keyword args. From version 0.10 passing these as positional arguments will result in an error\n",
      "  if sys.path[0] == '':\n",
      "C:\\Users\\yutan\\anaconda3\\envs\\tensorflow\\lib\\site-packages\\ipykernel_launcher.py:41: FutureWarning: Pass y=[-0.03274536 -0.01040649  0.00234985 ... -0.0015564  -0.00057983\n",
      " -0.00024414], sr=16000 as keyword args. From version 0.10 passing these as positional arguments will result in an error\n"
     ]
    },
    {
     "data": {
      "text/plain": [
       "<matplotlib.image.AxesImage at 0x28723e277f0>"
      ]
     },
     "execution_count": 231,
     "metadata": {},
     "output_type": "execute_result"
    },
    {
     "data": {
      "image/png": "[encoded data removed]",
      "text/plain": [
       "<Figure size 432x288 with 1 Axes>"
      ]
     },
     "metadata": {
      "needs_background": "light"
     },
     "output_type": "display_data"
    }
   ],
   "source": [
    "# 내가 확인 할 부분\n",
    "idx = 1\n",
    "\n",
    "# Create path from given filename and target item\n",
    "path = '/'.join([Config.dataset_path, target_list[int(y_orig_train[idx])], \n",
    "            filenames_train[idx]])\n",
    "\n",
    "# mfcc 만들기\n",
    "mfccs = get_librosa_mfcc(path)\n",
    "\n",
    "# MFCC 그림으로 보기\n",
    "fig = plt.figure()\n",
    "plt.imshow(mfccs, cmap='inferno', origin='lower')\n",
    "\n",
    "# # 소리 확인\n",
    "# print(target_list[int(y_orig_train[idx])])\n",
    "# print(path)\n",
    "# playsound(path)"
   ]
  },
  {
   "cell_type": "code",
   "execution_count": 232,
   "metadata": {
    "executionInfo": {
     "elapsed": 11,
     "status": "ok",
     "timestamp": 1648708544018,
     "user": {
      "displayName": "김유탄",
      "userId": "04011767612525493979"
     },
     "user_tz": -540
    },
    "id": "2O53qDlmF6pp"
   },
   "outputs": [],
   "source": [
    "# 학습 하기 전에 미리 모든 소리에 대해서 feature 추출해서 준비 해두는 단계, inpu을 맞추려고 \n",
    "def extract_features(in_files, in_y):\n",
    "    prob_cnt = 0\n",
    "    out_x = []\n",
    "    out_y = []\n",
    "        \n",
    "    for index, filename in enumerate(in_files):\n",
    "    \n",
    "        # Create path from given filename and target item\n",
    "        path = \"/\".join([Config.dataset_path, target_list[int(in_y[index])], \n",
    "                    filename])\n",
    "        \n",
    "        # Check to make sure we're reading a .wav file\n",
    "        if not path.endswith('.wav'):\n",
    "            continue\n",
    "\n",
    "        # Create MFCCs\n",
    "        mfccs = get_librosa_mfcc(path)\n",
    "\n",
    "        if mfccs.shape[1] == Config.len_mfcc:\n",
    "            out_x.append(mfccs)\n",
    "            out_y.append(in_y[index])\n",
    "        else:\n",
    "            print('Dropped:', index, mfccs.shape)\n",
    "            prob_cnt += 1\n",
    "            \n",
    "    return out_x, out_y, prob_cnt"
   ]
  },
  {
   "cell_type": "code",
   "execution_count": 233,
   "metadata": {
    "colab": {
     "base_uri": "https://localhost:8080/"
    },
    "executionInfo": {
     "elapsed": 83690,
     "status": "ok",
     "timestamp": 1648708627698,
     "user": {
      "displayName": "김유탄",
      "userId": "04011767612525493979"
     },
     "user_tz": -540
    },
    "id": "TVOZN9PqGHe9",
    "outputId": "c649e7ee-bece-473a-b872-ce96c3e88252"
   },
   "outputs": [
    {
     "name": "stderr",
     "output_type": "stream",
     "text": [
      "C:\\Users\\yutan\\anaconda3\\envs\\tensorflow\\lib\\site-packages\\ipykernel_launcher.py:12: FutureWarning: Pass sr=16000 as keyword args. From version 0.10 passing these as positional arguments will result in an error\n",
      "  if sys.path[0] == '':\n",
      "C:\\Users\\yutan\\anaconda3\\envs\\tensorflow\\lib\\site-packages\\ipykernel_launcher.py:41: FutureWarning: Pass y=[ 1.5258789e-04 -1.0070801e-03 -1.2512207e-03 ... -2.1362305e-03\n",
      " -8.8500977e-04 -6.1035156e-05], sr=16000 as keyword args. From version 0.10 passing these as positional arguments will result in an error\n",
      "C:\\Users\\yutan\\anaconda3\\envs\\tensorflow\\lib\\site-packages\\ipykernel_launcher.py:41: FutureWarning: Pass y=[-0.03274536 -0.01040649  0.00234985 ... -0.0015564  -0.00057983\n",
      " -0.00024414], sr=16000 as keyword args. From version 0.10 passing these as positional arguments will result in an error\n",
      "C:\\Users\\yutan\\anaconda3\\envs\\tensorflow\\lib\\site-packages\\ipykernel_launcher.py:41: FutureWarning: Pass y=[ 1.8310547e-04 -3.0517578e-05 -2.7465820e-04 ... -9.4604492e-04\n",
      " -6.4086914e-04 -1.2817383e-03], sr=16000 as keyword args. From version 0.10 passing these as positional arguments will result in an error\n",
      "C:\\Users\\yutan\\anaconda3\\envs\\tensorflow\\lib\\site-packages\\ipykernel_launcher.py:41: FutureWarning: Pass y=[ 0.00039673 -0.00170898 -0.00048828 ...  0.0010376   0.00012207\n",
      " -0.00146484], sr=16000 as keyword args. From version 0.10 passing these as positional arguments will result in an error\n",
      "C:\\Users\\yutan\\anaconda3\\envs\\tensorflow\\lib\\site-packages\\ipykernel_launcher.py:41: FutureWarning: Pass y=[-2.4353378e-05  1.3616614e-06 -1.5147970e-05 ... -7.0243253e-04\n",
      "  1.0792071e-03 -3.8690635e-04], sr=16000 as keyword args. From version 0.10 passing these as positional arguments will result in an error\n",
      "C:\\Users\\yutan\\anaconda3\\envs\\tensorflow\\lib\\site-packages\\ipykernel_launcher.py:41: FutureWarning: Pass y=[ 0.00109863  0.00045776  0.00244141 ... -0.00100708  0.0005188\n",
      " -0.00161743], sr=16000 as keyword args. From version 0.10 passing these as positional arguments will result in an error\n",
      "C:\\Users\\yutan\\anaconda3\\envs\\tensorflow\\lib\\site-packages\\ipykernel_launcher.py:41: FutureWarning: Pass y=[ 6.2380910e-05  4.6876768e-05  2.9767145e-05 ...  5.1038762e-05\n",
      " -2.7326355e-06  2.2291511e-05], sr=16000 as keyword args. From version 0.10 passing these as positional arguments will result in an error\n",
      "C:\\Users\\yutan\\anaconda3\\envs\\tensorflow\\lib\\site-packages\\ipykernel_launcher.py:41: FutureWarning: Pass y=[ 0.00021362 -0.00073242 -0.00021362 ... -0.00012207  0.\n",
      "  0.00039673], sr=16000 as keyword args. From version 0.10 passing these as positional arguments will result in an error\n",
      "C:\\Users\\yutan\\anaconda3\\envs\\tensorflow\\lib\\site-packages\\ipykernel_launcher.py:41: FutureWarning: Pass y=[-0.00038872 -0.00034091 -0.00040217 ... -0.0011116  -0.00012344\n",
      " -0.00022203], sr=16000 as keyword args. From version 0.10 passing these as positional arguments will result in an error\n",
      "C:\\Users\\yutan\\anaconda3\\envs\\tensorflow\\lib\\site-packages\\ipykernel_launcher.py:41: FutureWarning: Pass y=[-4.2960477e-05 -3.2109845e-06 -2.2127169e-06 ... -1.5068492e-04\n",
      " -1.5383132e-04 -1.2245680e-04], sr=16000 as keyword args. From version 0.10 passing these as positional arguments will result in an error\n",
      "C:\\Users\\yutan\\anaconda3\\envs\\tensorflow\\lib\\site-packages\\ipykernel_launcher.py:41: FutureWarning: Pass y=[ 3.0517578e-05  1.0681152e-03  1.4953613e-03 ...  1.8310547e-04\n",
      " -5.7983398e-04 -8.8500977e-04], sr=16000 as keyword args. From version 0.10 passing these as positional arguments will result in an error\n",
      "C:\\Users\\yutan\\anaconda3\\envs\\tensorflow\\lib\\site-packages\\ipykernel_launcher.py:41: FutureWarning: Pass y=[-3.0517578e-05 -3.0517578e-05 -6.1035156e-05 ...  2.1362305e-04\n",
      "  2.4414062e-04  1.5258789e-04], sr=16000 as keyword args. From version 0.10 passing these as positional arguments will result in an error\n",
      "C:\\Users\\yutan\\anaconda3\\envs\\tensorflow\\lib\\site-packages\\ipykernel_launcher.py:41: FutureWarning: Pass y=[-2.1424430e-05  2.9793891e-05  3.4743494e-05 ...  2.5528338e-06\n",
      " -3.4877634e-05 -1.0101481e-05], sr=16000 as keyword args. From version 0.10 passing these as positional arguments will result in an error\n",
      "C:\\Users\\yutan\\anaconda3\\envs\\tensorflow\\lib\\site-packages\\ipykernel_launcher.py:41: FutureWarning: Pass y=[-0.00054932 -0.00100708 -0.00094604 ...  0.00210571  0.00079346\n",
      " -0.00067139], sr=16000 as keyword args. From version 0.10 passing these as positional arguments will result in an error\n",
      "C:\\Users\\yutan\\anaconda3\\envs\\tensorflow\\lib\\site-packages\\ipykernel_launcher.py:41: FutureWarning: Pass y=[-3.0517578e-05  3.0517578e-05  6.1035156e-05 ... -6.1035156e-05\n",
      " -3.0517578e-05  0.0000000e+00], sr=16000 as keyword args. From version 0.10 passing these as positional arguments will result in an error\n",
      "C:\\Users\\yutan\\anaconda3\\envs\\tensorflow\\lib\\site-packages\\ipykernel_launcher.py:41: FutureWarning: Pass y=[-3.0517578e-05  3.0517578e-05  6.1035156e-05 ...  0.0000000e+00\n",
      " -3.0517578e-05 -3.0517578e-05], sr=16000 as keyword args. From version 0.10 passing these as positional arguments will result in an error\n",
      "C:\\Users\\yutan\\anaconda3\\envs\\tensorflow\\lib\\site-packages\\ipykernel_launcher.py:41: FutureWarning: Pass y=[-3.3493507e-05  5.8280075e-06 -1.9827201e-05 ... -7.4801887e-05\n",
      "  2.7849685e-05  7.5910475e-06], sr=16000 as keyword args. From version 0.10 passing these as positional arguments will result in an error\n",
      "C:\\Users\\yutan\\anaconda3\\envs\\tensorflow\\lib\\site-packages\\ipykernel_launcher.py:41: FutureWarning: Pass y=[-9.1552734e-05 -6.1035156e-05 -6.1035156e-05 ... -6.1035156e-05\n",
      " -9.1552734e-05 -3.0517578e-05], sr=16000 as keyword args. From version 0.10 passing these as positional arguments will result in an error\n",
      "C:\\Users\\yutan\\anaconda3\\envs\\tensorflow\\lib\\site-packages\\ipykernel_launcher.py:41: FutureWarning: Pass y=[ 0.00152588  0.00018311  0.00149536 ... -0.00128174  0.00247192\n",
      "  0.00137329], sr=16000 as keyword args. From version 0.10 passing these as positional arguments will result in an error\n",
      "C:\\Users\\yutan\\anaconda3\\envs\\tensorflow\\lib\\site-packages\\ipykernel_launcher.py:41: FutureWarning: Pass y=[-0.00030518 -0.0007019  -0.00143433 ...  0.00119019  0.00180054\n",
      " -0.00180054], sr=16000 as keyword args. From version 0.10 passing these as positional arguments will result in an error\n",
      "C:\\Users\\yutan\\anaconda3\\envs\\tensorflow\\lib\\site-packages\\ipykernel_launcher.py:41: FutureWarning: Pass y=[ 2.9727878e-05 -1.5496842e-05  1.9945988e-05 ... -2.7356333e-05\n",
      " -7.7163922e-06  2.8619615e-06], sr=16000 as keyword args. From version 0.10 passing these as positional arguments will result in an error\n",
      "C:\\Users\\yutan\\anaconda3\\envs\\tensorflow\\lib\\site-packages\\ipykernel_launcher.py:41: FutureWarning: Pass y=[-3.3447266e-02 -2.5146484e-02 -1.9287109e-02 ... -9.1552734e-05\n",
      "  6.1035156e-04  3.0517578e-04], sr=16000 as keyword args. From version 0.10 passing these as positional arguments will result in an error\n",
      "C:\\Users\\yutan\\anaconda3\\envs\\tensorflow\\lib\\site-packages\\ipykernel_launcher.py:41: FutureWarning: Pass y=[0.         0.         0.         ... 0.00054932 0.00054932 0.00057983], sr=16000 as keyword args. From version 0.10 passing these as positional arguments will result in an error\n",
      "C:\\Users\\yutan\\anaconda3\\envs\\tensorflow\\lib\\site-packages\\ipykernel_launcher.py:41: FutureWarning: Pass y=[-3.37263773e-05 -2.89777272e-05 -3.11153599e-05 ... -2.94359168e-04\n",
      "  7.24466809e-05  1.01508274e-04], sr=16000 as keyword args. From version 0.10 passing these as positional arguments will result in an error\n",
      "C:\\Users\\yutan\\anaconda3\\envs\\tensorflow\\lib\\site-packages\\ipykernel_launcher.py:41: FutureWarning: Pass y=[ 0.0000000e+00  0.0000000e+00 -3.0517578e-05 ... -2.7465820e-04\n",
      " -3.3569336e-04 -2.7465820e-04], sr=16000 as keyword args. From version 0.10 passing these as positional arguments will result in an error\n",
      "C:\\Users\\yutan\\anaconda3\\envs\\tensorflow\\lib\\site-packages\\ipykernel_launcher.py:41: FutureWarning: Pass y=[ 3.3569336e-04 -1.1413574e-02 -2.0111084e-02 ... -3.0517578e-05\n",
      "  9.4604492e-04 -6.4086914e-04], sr=16000 as keyword args. From version 0.10 passing these as positional arguments will result in an error\n",
      "C:\\Users\\yutan\\anaconda3\\envs\\tensorflow\\lib\\site-packages\\ipykernel_launcher.py:41: FutureWarning: Pass y=[ 0.0022583   0.00125122 -0.00054932 ... -0.00033569  0.00180054\n",
      "  0.00061035], sr=16000 as keyword args. From version 0.10 passing these as positional arguments will result in an error\n",
      "C:\\Users\\yutan\\anaconda3\\envs\\tensorflow\\lib\\site-packages\\ipykernel_launcher.py:41: FutureWarning: Pass y=[ 0.0020752   0.00057983 -0.00024414 ... -0.00079346  0.00137329\n",
      " -0.00091553], sr=16000 as keyword args. From version 0.10 passing these as positional arguments will result in an error\n",
      "C:\\Users\\yutan\\anaconda3\\envs\\tensorflow\\lib\\site-packages\\ipykernel_launcher.py:41: FutureWarning: Pass y=[-3.0517578e-05  0.0000000e+00  3.0517578e-05 ... -9.1552734e-05\n",
      " -9.1552734e-05 -1.2207031e-04], sr=16000 as keyword args. From version 0.10 passing these as positional arguments will result in an error\n",
      "C:\\Users\\yutan\\anaconda3\\envs\\tensorflow\\lib\\site-packages\\ipykernel_launcher.py:41: FutureWarning: Pass y=[ 1.0986328e-03 -1.6479492e-03 -3.9672852e-04 ...  1.4343262e-03\n",
      " -5.4931641e-04  6.1035156e-05], sr=16000 as keyword args. From version 0.10 passing these as positional arguments will result in an error\n"
     ]
    },
    {
     "name": "stderr",
     "output_type": "stream",
     "text": [
      "C:\\Users\\yutan\\anaconda3\\envs\\tensorflow\\lib\\site-packages\\ipykernel_launcher.py:41: FutureWarning: Pass y=[ 1.0503961e-05  1.6759299e-05 -5.9540662e-06 ... -5.5412774e-04\n",
      " -5.8561290e-04 -5.6923542e-04], sr=16000 as keyword args. From version 0.10 passing these as positional arguments will result in an error\n",
      "C:\\Users\\yutan\\anaconda3\\envs\\tensorflow\\lib\\site-packages\\ipykernel_launcher.py:41: FutureWarning: Pass y=[ 0.00140381 -0.00036621 -0.00268555 ... -0.00076294  0.00015259\n",
      "  0.00076294], sr=16000 as keyword args. From version 0.10 passing these as positional arguments will result in an error\n",
      "C:\\Users\\yutan\\anaconda3\\envs\\tensorflow\\lib\\site-packages\\ipykernel_launcher.py:41: FutureWarning: Pass y=[ 0.0000000e+00  0.0000000e+00  3.0517578e-05 ...  6.1035156e-05\n",
      " -3.6621094e-04  6.1035156e-05], sr=16000 as keyword args. From version 0.10 passing these as positional arguments will result in an error\n",
      "C:\\Users\\yutan\\anaconda3\\envs\\tensorflow\\lib\\site-packages\\ipykernel_launcher.py:41: FutureWarning: Pass y=[-0.00170898 -0.00045776  0.00189209 ... -0.00021362  0.00021362\n",
      "  0.00094604], sr=16000 as keyword args. From version 0.10 passing these as positional arguments will result in an error\n",
      "C:\\Users\\yutan\\anaconda3\\envs\\tensorflow\\lib\\site-packages\\ipykernel_launcher.py:41: FutureWarning: Pass y=[ 6.3298066e-04  3.7657924e-04 -1.4243186e-04 ...  1.3957368e-04\n",
      "  4.2437394e-05  4.6855435e-05], sr=16000 as keyword args. From version 0.10 passing these as positional arguments will result in an error\n",
      "C:\\Users\\yutan\\anaconda3\\envs\\tensorflow\\lib\\site-packages\\ipykernel_launcher.py:41: FutureWarning: Pass y=[ 7.4768066e-03  8.6059570e-03  8.3618164e-03 ... -6.1035156e-05\n",
      " -6.1035156e-05 -3.0517578e-05], sr=16000 as keyword args. From version 0.10 passing these as positional arguments will result in an error\n",
      "C:\\Users\\yutan\\anaconda3\\envs\\tensorflow\\lib\\site-packages\\ipykernel_launcher.py:41: FutureWarning: Pass y=[-0.0002031   0.00046205 -0.00010847 ... -0.00504572 -0.00574634\n",
      " -0.00636155], sr=16000 as keyword args. From version 0.10 passing these as positional arguments will result in an error\n",
      "C:\\Users\\yutan\\anaconda3\\envs\\tensorflow\\lib\\site-packages\\ipykernel_launcher.py:41: FutureWarning: Pass y=[-5.7983398e-04  9.1552734e-05  2.7465820e-04 ...  1.8310547e-03\n",
      "  1.2512207e-03 -6.7138672e-04], sr=16000 as keyword args. From version 0.10 passing these as positional arguments will result in an error\n",
      "C:\\Users\\yutan\\anaconda3\\envs\\tensorflow\\lib\\site-packages\\ipykernel_launcher.py:41: FutureWarning: Pass y=[1.1502075e-01 7.8582764e-02 2.2491455e-02 ... 0.0000000e+00 3.0517578e-05\n",
      " 0.0000000e+00], sr=16000 as keyword args. From version 0.10 passing these as positional arguments will result in an error\n",
      "C:\\Users\\yutan\\anaconda3\\envs\\tensorflow\\lib\\site-packages\\ipykernel_launcher.py:41: FutureWarning: Pass y=[-3.0517578e-05 -1.5258789e-04  4.2724609e-04 ...  1.0986328e-03\n",
      " -1.3122559e-03 -1.8310547e-04], sr=16000 as keyword args. From version 0.10 passing these as positional arguments will result in an error\n",
      "C:\\Users\\yutan\\anaconda3\\envs\\tensorflow\\lib\\site-packages\\ipykernel_launcher.py:41: FutureWarning: Pass y=[ 0.05911255  0.05291748  0.04577637 ...  0.00073242  0.00189209\n",
      " -0.00195312], sr=16000 as keyword args. From version 0.10 passing these as positional arguments will result in an error\n",
      "C:\\Users\\yutan\\anaconda3\\envs\\tensorflow\\lib\\site-packages\\ipykernel_launcher.py:41: FutureWarning: Pass y=[ 0.03240967  0.0111084  -0.01345825 ...  0.00045776 -0.00039673\n",
      " -0.00061035], sr=16000 as keyword args. From version 0.10 passing these as positional arguments will result in an error\n",
      "C:\\Users\\yutan\\anaconda3\\envs\\tensorflow\\lib\\site-packages\\ipykernel_launcher.py:41: FutureWarning: Pass y=[-6.1035156e-05 -3.0517578e-05 -3.0517578e-05 ... -9.1552734e-05\n",
      "  1.8310547e-04 -3.3569336e-04], sr=16000 as keyword args. From version 0.10 passing these as positional arguments will result in an error\n",
      "C:\\Users\\yutan\\anaconda3\\envs\\tensorflow\\lib\\site-packages\\ipykernel_launcher.py:41: FutureWarning: Pass y=[ 0.00024414 -0.00030518 -0.00152588 ... -0.00018311  0.00106812\n",
      " -0.0005188 ], sr=16000 as keyword args. From version 0.10 passing these as positional arguments will result in an error\n",
      "C:\\Users\\yutan\\anaconda3\\envs\\tensorflow\\lib\\site-packages\\ipykernel_launcher.py:41: FutureWarning: Pass y=[ 6.1035156e-05  3.0517578e-05  3.0517578e-05 ... -3.0517578e-05\n",
      "  0.0000000e+00 -3.0517578e-05], sr=16000 as keyword args. From version 0.10 passing these as positional arguments will result in an error\n",
      "C:\\Users\\yutan\\anaconda3\\envs\\tensorflow\\lib\\site-packages\\ipykernel_launcher.py:41: FutureWarning: Pass y=[ 0.00067139 -0.00030518 -0.00106812 ... -0.00390625 -0.00408936\n",
      " -0.00427246], sr=16000 as keyword args. From version 0.10 passing these as positional arguments will result in an error\n",
      "C:\\Users\\yutan\\anaconda3\\envs\\tensorflow\\lib\\site-packages\\ipykernel_launcher.py:41: FutureWarning: Pass y=[-5.5011351e-06 -1.7823812e-05 -2.9664870e-06 ...  7.4538321e-04\n",
      "  7.6579436e-04  6.6449959e-04], sr=16000 as keyword args. From version 0.10 passing these as positional arguments will result in an error\n",
      "C:\\Users\\yutan\\anaconda3\\envs\\tensorflow\\lib\\site-packages\\ipykernel_launcher.py:41: FutureWarning: Pass y=[-0.00012207  0.0043335  -0.00488281 ...  0.00085449 -0.0007019\n",
      "  0.0007019 ], sr=16000 as keyword args. From version 0.10 passing these as positional arguments will result in an error\n",
      "C:\\Users\\yutan\\anaconda3\\envs\\tensorflow\\lib\\site-packages\\ipykernel_launcher.py:41: FutureWarning: Pass y=[ 0.00112915 -0.00012207 -0.00106812 ...  0.00125122 -0.00119019\n",
      "  0.00204468], sr=16000 as keyword args. From version 0.10 passing these as positional arguments will result in an error\n",
      "C:\\Users\\yutan\\anaconda3\\envs\\tensorflow\\lib\\site-packages\\ipykernel_launcher.py:41: FutureWarning: Pass y=[-0.00088501 -0.00097656  0.00112915 ...  0.00042725  0.00082397\n",
      " -0.00091553], sr=16000 as keyword args. From version 0.10 passing these as positional arguments will result in an error\n",
      "C:\\Users\\yutan\\anaconda3\\envs\\tensorflow\\lib\\site-packages\\ipykernel_launcher.py:41: FutureWarning: Pass y=[-2.0033734e-05 -2.8038436e-05 -2.0211783e-05 ... -2.6629824e-04\n",
      " -2.5272500e-04 -2.3258926e-04], sr=16000 as keyword args. From version 0.10 passing these as positional arguments will result in an error\n",
      "C:\\Users\\yutan\\anaconda3\\envs\\tensorflow\\lib\\site-packages\\ipykernel_launcher.py:41: FutureWarning: Pass y=[ 3.3244298e-05  2.7784627e-05  3.7269980e-05 ...  8.5098778e-05\n",
      "  4.7997251e-05 -3.5345420e-05], sr=16000 as keyword args. From version 0.10 passing these as positional arguments will result in an error\n",
      "C:\\Users\\yutan\\anaconda3\\envs\\tensorflow\\lib\\site-packages\\ipykernel_launcher.py:41: FutureWarning: Pass y=[-9.1552734e-05 -6.1035156e-05 -9.1552734e-05 ... -1.1596680e-03\n",
      " -1.1901855e-03 -1.1596680e-03], sr=16000 as keyword args. From version 0.10 passing these as positional arguments will result in an error\n",
      "C:\\Users\\yutan\\anaconda3\\envs\\tensorflow\\lib\\site-packages\\ipykernel_launcher.py:41: FutureWarning: Pass y=[ 0.0000000e+00 -3.0517578e-05 -3.0517578e-05 ...  1.2207031e-04\n",
      "  9.1552734e-05  1.5258789e-04], sr=16000 as keyword args. From version 0.10 passing these as positional arguments will result in an error\n",
      "C:\\Users\\yutan\\anaconda3\\envs\\tensorflow\\lib\\site-packages\\ipykernel_launcher.py:41: FutureWarning: Pass y=[ 0.          0.          0.         ... -0.00076294 -0.00079346\n",
      " -0.00067139], sr=16000 as keyword args. From version 0.10 passing these as positional arguments will result in an error\n",
      "C:\\Users\\yutan\\anaconda3\\envs\\tensorflow\\lib\\site-packages\\ipykernel_launcher.py:41: FutureWarning: Pass y=[-3.0517578e-05 -3.0517578e-05  0.0000000e+00 ... -3.0517578e-05\n",
      " -3.0517578e-05  0.0000000e+00], sr=16000 as keyword args. From version 0.10 passing these as positional arguments will result in an error\n",
      "C:\\Users\\yutan\\anaconda3\\envs\\tensorflow\\lib\\site-packages\\ipykernel_launcher.py:41: FutureWarning: Pass y=[-0.00485229 -0.00463867 -0.02099609 ... -0.00039673  0.00137329\n",
      " -0.00134277], sr=16000 as keyword args. From version 0.10 passing these as positional arguments will result in an error\n",
      "C:\\Users\\yutan\\anaconda3\\envs\\tensorflow\\lib\\site-packages\\ipykernel_launcher.py:41: FutureWarning: Pass y=[-0.00152588 -0.0015564  -0.00286865 ...  0.00073242  0.00033569\n",
      " -0.00137329], sr=16000 as keyword args. From version 0.10 passing these as positional arguments will result in an error\n",
      "C:\\Users\\yutan\\anaconda3\\envs\\tensorflow\\lib\\site-packages\\ipykernel_launcher.py:41: FutureWarning: Pass y=[ 0.0000000e+00  0.0000000e+00  0.0000000e+00 ... -3.0517578e-05\n",
      "  0.0000000e+00  0.0000000e+00], sr=16000 as keyword args. From version 0.10 passing these as positional arguments will result in an error\n"
     ]
    },
    {
     "name": "stderr",
     "output_type": "stream",
     "text": [
      "C:\\Users\\yutan\\anaconda3\\envs\\tensorflow\\lib\\site-packages\\ipykernel_launcher.py:41: FutureWarning: Pass y=[ 1.9092009e-05 -2.8336963e-05  5.4776287e-06 ... -9.1933092e-05\n",
      " -5.5174228e-06  1.0193119e-04], sr=16000 as keyword args. From version 0.10 passing these as positional arguments will result in an error\n",
      "C:\\Users\\yutan\\anaconda3\\envs\\tensorflow\\lib\\site-packages\\ipykernel_launcher.py:41: FutureWarning: Pass y=[ 0.00021362  0.00024414 -0.00265503 ...  0.00033569  0.00027466\n",
      " -0.00042725], sr=16000 as keyword args. From version 0.10 passing these as positional arguments will result in an error\n",
      "C:\\Users\\yutan\\anaconda3\\envs\\tensorflow\\lib\\site-packages\\ipykernel_launcher.py:41: FutureWarning: Pass y=[ 6.1035156e-05  9.1552734e-05  9.1552734e-05 ... -6.1035156e-05\n",
      " -9.1552734e-05 -9.1552734e-05], sr=16000 as keyword args. From version 0.10 passing these as positional arguments will result in an error\n",
      "C:\\Users\\yutan\\anaconda3\\envs\\tensorflow\\lib\\site-packages\\ipykernel_launcher.py:41: FutureWarning: Pass y=[-6.1035156e-05 -3.0517578e-05 -6.1035156e-05 ... -9.1552734e-05\n",
      " -1.2207031e-04 -6.1035156e-05], sr=16000 as keyword args. From version 0.10 passing these as positional arguments will result in an error\n",
      "C:\\Users\\yutan\\anaconda3\\envs\\tensorflow\\lib\\site-packages\\ipykernel_launcher.py:41: FutureWarning: Pass y=[0.0000000e+00 3.0517578e-05 0.0000000e+00 ... 0.0000000e+00 6.1035156e-05\n",
      " 6.1035156e-05], sr=16000 as keyword args. From version 0.10 passing these as positional arguments will result in an error\n",
      "C:\\Users\\yutan\\anaconda3\\envs\\tensorflow\\lib\\site-packages\\ipykernel_launcher.py:41: FutureWarning: Pass y=[ 0.0000000e+00  0.0000000e+00 -3.0517578e-05 ...  2.1362305e-04\n",
      " -1.8310547e-04  6.1035156e-05], sr=16000 as keyword args. From version 0.10 passing these as positional arguments will result in an error\n",
      "C:\\Users\\yutan\\anaconda3\\envs\\tensorflow\\lib\\site-packages\\ipykernel_launcher.py:41: FutureWarning: Pass y=[ 0.00137329  0.00164795 -0.00131226 ...  0.00115967 -0.00140381\n",
      " -0.00061035], sr=16000 as keyword args. From version 0.10 passing these as positional arguments will result in an error\n",
      "C:\\Users\\yutan\\anaconda3\\envs\\tensorflow\\lib\\site-packages\\ipykernel_launcher.py:41: FutureWarning: Pass y=[-0.00165737 -0.00151694 -0.00145931 ...  0.00027591 -0.00024034\n",
      " -0.00047083], sr=16000 as keyword args. From version 0.10 passing these as positional arguments will result in an error\n",
      "C:\\Users\\yutan\\anaconda3\\envs\\tensorflow\\lib\\site-packages\\ipykernel_launcher.py:41: FutureWarning: Pass y=[ 0.05978394  0.105896    0.12081909 ... -0.00024414 -0.00018311\n",
      " -0.00018311], sr=16000 as keyword args. From version 0.10 passing these as positional arguments will result in an error\n",
      "C:\\Users\\yutan\\anaconda3\\envs\\tensorflow\\lib\\site-packages\\ipykernel_launcher.py:41: FutureWarning: Pass y=[0.00019982 0.00029108 0.0002815  ... 0.00015022 0.00015582 0.00018098], sr=16000 as keyword args. From version 0.10 passing these as positional arguments will result in an error\n",
      "C:\\Users\\yutan\\anaconda3\\envs\\tensorflow\\lib\\site-packages\\ipykernel_launcher.py:41: FutureWarning: Pass y=[ 1.4862061e-02  1.5777588e-02  1.5991211e-02 ...  5.1879883e-04\n",
      "  6.1035156e-04 -9.1552734e-05], sr=16000 as keyword args. From version 0.10 passing these as positional arguments will result in an error\n",
      "C:\\Users\\yutan\\anaconda3\\envs\\tensorflow\\lib\\site-packages\\ipykernel_launcher.py:41: FutureWarning: Pass y=[3.1528667e-05 2.9591652e-05 3.1793537e-05 ... 7.8778918e-05 1.0335069e-04\n",
      " 5.6088007e-05], sr=16000 as keyword args. From version 0.10 passing these as positional arguments will result in an error\n",
      "C:\\Users\\yutan\\anaconda3\\envs\\tensorflow\\lib\\site-packages\\ipykernel_launcher.py:41: FutureWarning: Pass y=[ 0.00570679  0.00567627  0.01473999 ...  0.00027466 -0.00042725\n",
      "  0.00073242], sr=16000 as keyword args. From version 0.10 passing these as positional arguments will result in an error\n",
      "C:\\Users\\yutan\\anaconda3\\envs\\tensorflow\\lib\\site-packages\\ipykernel_launcher.py:41: FutureWarning: Pass y=[-0.0088501  -0.00622559 -0.00512695 ...  0.0010376  -0.00112915\n",
      " -0.00030518], sr=16000 as keyword args. From version 0.10 passing these as positional arguments will result in an error\n",
      "C:\\Users\\yutan\\anaconda3\\envs\\tensorflow\\lib\\site-packages\\ipykernel_launcher.py:41: FutureWarning: Pass y=[-4.8097008e-05 -5.7147736e-05 -6.8080539e-05 ... -6.4017899e-05\n",
      " -1.9374347e-05  1.6153274e-06], sr=16000 as keyword args. From version 0.10 passing these as positional arguments will result in an error\n",
      "C:\\Users\\yutan\\anaconda3\\envs\\tensorflow\\lib\\site-packages\\ipykernel_launcher.py:41: FutureWarning: Pass y=[ 2.3028929e-06 -6.6722993e-07  2.4898196e-05 ... -1.6257854e-05\n",
      "  5.3642045e-05 -9.9486476e-07], sr=16000 as keyword args. From version 0.10 passing these as positional arguments will result in an error\n",
      "C:\\Users\\yutan\\anaconda3\\envs\\tensorflow\\lib\\site-packages\\ipykernel_launcher.py:41: FutureWarning: Pass y=[ 6.1035156e-05  0.0000000e+00 -3.0517578e-05 ...  6.1035156e-05\n",
      "  0.0000000e+00  0.0000000e+00], sr=16000 as keyword args. From version 0.10 passing these as positional arguments will result in an error\n",
      "C:\\Users\\yutan\\anaconda3\\envs\\tensorflow\\lib\\site-packages\\ipykernel_launcher.py:41: FutureWarning: Pass y=[ 1.0138269e-06 -3.7980139e-06  2.2419588e-05 ...  6.3772663e-05\n",
      "  5.8176553e-05  6.5576511e-05], sr=16000 as keyword args. From version 0.10 passing these as positional arguments will result in an error\n",
      "C:\\Users\\yutan\\anaconda3\\envs\\tensorflow\\lib\\site-packages\\ipykernel_launcher.py:41: FutureWarning: Pass y=[ 3.0517578e-05  3.0517578e-05  3.0517578e-05 ... -4.5776367e-04\n",
      " -3.0517578e-05 -2.7465820e-04], sr=16000 as keyword args. From version 0.10 passing these as positional arguments will result in an error\n",
      "C:\\Users\\yutan\\anaconda3\\envs\\tensorflow\\lib\\site-packages\\ipykernel_launcher.py:41: FutureWarning: Pass y=[0.00036621 0.00033569 0.00039673 ... 0.00109863 0.00012207 0.00021362], sr=16000 as keyword args. From version 0.10 passing these as positional arguments will result in an error\n",
      "C:\\Users\\yutan\\anaconda3\\envs\\tensorflow\\lib\\site-packages\\ipykernel_launcher.py:41: FutureWarning: Pass y=[-1.2512207e-03 -7.6293945e-04 -2.5024414e-03 ...  1.8920898e-03\n",
      " -1.2207031e-03 -3.0517578e-05], sr=16000 as keyword args. From version 0.10 passing these as positional arguments will result in an error\n",
      "C:\\Users\\yutan\\anaconda3\\envs\\tensorflow\\lib\\site-packages\\ipykernel_launcher.py:41: FutureWarning: Pass y=[ 9.1552734e-05  9.1552734e-05  9.1552734e-05 ... -1.8310547e-04\n",
      "  1.2207031e-04  0.0000000e+00], sr=16000 as keyword args. From version 0.10 passing these as positional arguments will result in an error\n",
      "C:\\Users\\yutan\\anaconda3\\envs\\tensorflow\\lib\\site-packages\\ipykernel_launcher.py:41: FutureWarning: Pass y=[ 2.9956738e-05  7.5046237e-06 -4.8929132e-06 ...  6.5786176e-04\n",
      " -5.7325087e-04 -1.7362428e-04], sr=16000 as keyword args. From version 0.10 passing these as positional arguments will result in an error\n",
      "C:\\Users\\yutan\\anaconda3\\envs\\tensorflow\\lib\\site-packages\\ipykernel_launcher.py:41: FutureWarning: Pass y=[-0.00228882  0.0010376   0.00167847 ... -0.00027466  0.00057983\n",
      " -0.00033569], sr=16000 as keyword args. From version 0.10 passing these as positional arguments will result in an error\n",
      "C:\\Users\\yutan\\anaconda3\\envs\\tensorflow\\lib\\site-packages\\ipykernel_launcher.py:41: FutureWarning: Pass y=[-6.46057129e-02 -3.90625000e-02  1.54418945e-02 ... -6.10351562e-05\n",
      "  2.13623047e-04 -4.27246094e-04], sr=16000 as keyword args. From version 0.10 passing these as positional arguments will result in an error\n",
      "C:\\Users\\yutan\\anaconda3\\envs\\tensorflow\\lib\\site-packages\\ipykernel_launcher.py:41: FutureWarning: Pass y=[-0.00039673 -0.00082397 -0.00115967 ... -0.00112915  0.00152588\n",
      " -0.00152588], sr=16000 as keyword args. From version 0.10 passing these as positional arguments will result in an error\n",
      "C:\\Users\\yutan\\anaconda3\\envs\\tensorflow\\lib\\site-packages\\ipykernel_launcher.py:41: FutureWarning: Pass y=[-8.8500977e-04  1.2207031e-04  0.0000000e+00 ... -6.1035156e-05\n",
      " -1.3732910e-03  1.7700195e-03], sr=16000 as keyword args. From version 0.10 passing these as positional arguments will result in an error\n",
      "C:\\Users\\yutan\\anaconda3\\envs\\tensorflow\\lib\\site-packages\\ipykernel_launcher.py:41: FutureWarning: Pass y=[ 2.9844437e-05  3.2925964e-05  1.6619910e-05 ... -3.1294756e-05\n",
      " -3.1312331e-05 -2.1638347e-05], sr=16000 as keyword args. From version 0.10 passing these as positional arguments will result in an error\n"
     ]
    },
    {
     "name": "stderr",
     "output_type": "stream",
     "text": [
      "C:\\Users\\yutan\\anaconda3\\envs\\tensorflow\\lib\\site-packages\\ipykernel_launcher.py:41: FutureWarning: Pass y=[ 2.59943681e-06  1.10471365e-05 -1.18160115e-05 ... -3.64500775e-05\n",
      " -5.47191576e-06 -3.26675327e-05], sr=16000 as keyword args. From version 0.10 passing these as positional arguments will result in an error\n",
      "C:\\Users\\yutan\\anaconda3\\envs\\tensorflow\\lib\\site-packages\\ipykernel_launcher.py:41: FutureWarning: Pass y=[-1.7456055e-02 -8.1787109e-03 -1.0345459e-02 ...  3.3569336e-04\n",
      " -3.6621094e-04 -3.0517578e-05], sr=16000 as keyword args. From version 0.10 passing these as positional arguments will result in an error\n",
      "C:\\Users\\yutan\\anaconda3\\envs\\tensorflow\\lib\\site-packages\\ipykernel_launcher.py:41: FutureWarning: Pass y=[-1.6751726e-05 -2.3910588e-05  2.2961704e-05 ... -1.1563338e-04\n",
      "  1.7144301e-05  5.2251562e-05], sr=16000 as keyword args. From version 0.10 passing these as positional arguments will result in an error\n",
      "C:\\Users\\yutan\\anaconda3\\envs\\tensorflow\\lib\\site-packages\\ipykernel_launcher.py:41: FutureWarning: Pass y=[-0.01057216 -0.00247699  0.00947679 ...  0.00109458 -0.00075908\n",
      "  0.00043042], sr=16000 as keyword args. From version 0.10 passing these as positional arguments will result in an error\n",
      "C:\\Users\\yutan\\anaconda3\\envs\\tensorflow\\lib\\site-packages\\ipykernel_launcher.py:41: FutureWarning: Pass y=[0.0000000e+00 3.0517578e-05 3.0517578e-05 ... 3.0517578e-05 0.0000000e+00\n",
      " 0.0000000e+00], sr=16000 as keyword args. From version 0.10 passing these as positional arguments will result in an error\n",
      "C:\\Users\\yutan\\anaconda3\\envs\\tensorflow\\lib\\site-packages\\ipykernel_launcher.py:41: FutureWarning: Pass y=[-9.1552734e-05 -9.1552734e-05 -3.0517578e-05 ... -8.5449219e-04\n",
      " -8.5449219e-04 -4.2724609e-04], sr=16000 as keyword args. From version 0.10 passing these as positional arguments will result in an error\n",
      "C:\\Users\\yutan\\anaconda3\\envs\\tensorflow\\lib\\site-packages\\ipykernel_launcher.py:41: FutureWarning: Pass y=[3.0517578e-05 3.0517578e-05 0.0000000e+00 ... 9.1552734e-05 6.1035156e-05\n",
      " 9.1552734e-05], sr=16000 as keyword args. From version 0.10 passing these as positional arguments will result in an error\n",
      "C:\\Users\\yutan\\anaconda3\\envs\\tensorflow\\lib\\site-packages\\ipykernel_launcher.py:41: FutureWarning: Pass y=[-3.0378591e-05 -1.5460069e-05  2.7770493e-06 ...  9.4779636e-05\n",
      "  3.0199832e-05  2.6072543e-05], sr=16000 as keyword args. From version 0.10 passing these as positional arguments will result in an error\n",
      "C:\\Users\\yutan\\anaconda3\\envs\\tensorflow\\lib\\site-packages\\ipykernel_launcher.py:41: FutureWarning: Pass y=[-3.0517578e-05 -6.1035156e-05 -3.0517578e-05 ...  3.0517578e-05\n",
      " -3.0517578e-05  0.0000000e+00], sr=16000 as keyword args. From version 0.10 passing these as positional arguments will result in an error\n",
      "C:\\Users\\yutan\\anaconda3\\envs\\tensorflow\\lib\\site-packages\\ipykernel_launcher.py:41: FutureWarning: Pass y=[ 0.0000000e+00 -3.0517578e-05  0.0000000e+00 ... -3.0517578e-05\n",
      " -3.0517578e-05  0.0000000e+00], sr=16000 as keyword args. From version 0.10 passing these as positional arguments will result in an error\n",
      "C:\\Users\\yutan\\anaconda3\\envs\\tensorflow\\lib\\site-packages\\ipykernel_launcher.py:41: FutureWarning: Pass y=[-0.00842285 -0.01113892 -0.01544189 ...  0.0020752   0.00112915\n",
      " -0.00268555], sr=16000 as keyword args. From version 0.10 passing these as positional arguments will result in an error\n",
      "C:\\Users\\yutan\\anaconda3\\envs\\tensorflow\\lib\\site-packages\\ipykernel_launcher.py:41: FutureWarning: Pass y=[ 0.00958252  0.01055908  0.0088501  ...  0.00027466  0.00073242\n",
      " -0.00033569], sr=16000 as keyword args. From version 0.10 passing these as positional arguments will result in an error\n",
      "C:\\Users\\yutan\\anaconda3\\envs\\tensorflow\\lib\\site-packages\\ipykernel_launcher.py:41: FutureWarning: Pass y=[ 2.5291333e-02  2.3202028e-02  2.6060104e-02 ... -2.4456604e-04\n",
      " -3.2056760e-04  8.6089181e-05], sr=16000 as keyword args. From version 0.10 passing these as positional arguments will result in an error\n",
      "C:\\Users\\yutan\\anaconda3\\envs\\tensorflow\\lib\\site-packages\\ipykernel_launcher.py:41: FutureWarning: Pass y=[-9.5390862e-07 -3.1876979e-07  8.8898599e-07 ...  2.7030354e-04\n",
      "  3.1821177e-04  2.6629117e-04], sr=16000 as keyword args. From version 0.10 passing these as positional arguments will result in an error\n",
      "C:\\Users\\yutan\\anaconda3\\envs\\tensorflow\\lib\\site-packages\\ipykernel_launcher.py:41: FutureWarning: Pass y=[ 3.0517578e-05  0.0000000e+00 -6.1035156e-05 ...  2.7465820e-04\n",
      "  3.3569336e-04 -8.8500977e-04], sr=16000 as keyword args. From version 0.10 passing these as positional arguments will result in an error\n",
      "C:\\Users\\yutan\\anaconda3\\envs\\tensorflow\\lib\\site-packages\\ipykernel_launcher.py:41: FutureWarning: Pass y=[-3.0517578e-05 -3.0517578e-05 -6.1035156e-05 ... -1.2207031e-04\n",
      " -1.2207031e-04 -9.1552734e-05], sr=16000 as keyword args. From version 0.10 passing these as positional arguments will result in an error\n",
      "C:\\Users\\yutan\\anaconda3\\envs\\tensorflow\\lib\\site-packages\\ipykernel_launcher.py:41: FutureWarning: Pass y=[ 2.1245263e-05 -3.5498673e-05 -6.2725776e-05 ... -6.4703477e-06\n",
      "  1.8869585e-05  2.0615156e-05], sr=16000 as keyword args. From version 0.10 passing these as positional arguments will result in an error\n",
      "C:\\Users\\yutan\\anaconda3\\envs\\tensorflow\\lib\\site-packages\\ipykernel_launcher.py:41: FutureWarning: Pass y=[-0.00033569  0.00024414  0.00109863 ...  0.00018311  0.00073242\n",
      " -0.00164795], sr=16000 as keyword args. From version 0.10 passing these as positional arguments will result in an error\n",
      "C:\\Users\\yutan\\anaconda3\\envs\\tensorflow\\lib\\site-packages\\ipykernel_launcher.py:41: FutureWarning: Pass y=[ 0.01882935  0.01428223  0.00482178 ...  0.00088501 -0.00048828\n",
      " -0.00045776], sr=16000 as keyword args. From version 0.10 passing these as positional arguments will result in an error\n",
      "C:\\Users\\yutan\\anaconda3\\envs\\tensorflow\\lib\\site-packages\\ipykernel_launcher.py:41: FutureWarning: Pass y=[-4.3583350e-05  6.1757669e-06 -2.8281293e-06 ... -1.4021570e-05\n",
      " -3.1098050e-05 -1.4926326e-06], sr=16000 as keyword args. From version 0.10 passing these as positional arguments will result in an error\n",
      "C:\\Users\\yutan\\anaconda3\\envs\\tensorflow\\lib\\site-packages\\ipykernel_launcher.py:41: FutureWarning: Pass y=[-2.0446777e-03 -2.1972656e-03 -1.5258789e-04 ... -1.8920898e-03\n",
      "  4.2724609e-04  3.0517578e-05], sr=16000 as keyword args. From version 0.10 passing these as positional arguments will result in an error\n",
      "C:\\Users\\yutan\\anaconda3\\envs\\tensorflow\\lib\\site-packages\\ipykernel_launcher.py:41: FutureWarning: Pass y=[-0.00357056 -0.0043335   0.00158691 ... -0.00015259  0.00158691\n",
      " -0.0015564 ], sr=16000 as keyword args. From version 0.10 passing these as positional arguments will result in an error\n",
      "C:\\Users\\yutan\\anaconda3\\envs\\tensorflow\\lib\\site-packages\\ipykernel_launcher.py:41: FutureWarning: Pass y=[-0.00180054 -0.00384521 -0.00076294 ... -0.00024414  0.0005188\n",
      " -0.00054932], sr=16000 as keyword args. From version 0.10 passing these as positional arguments will result in an error\n",
      "C:\\Users\\yutan\\anaconda3\\envs\\tensorflow\\lib\\site-packages\\ipykernel_launcher.py:41: FutureWarning: Pass y=[ 5.4696507e-06  2.7542774e-05 -2.6535515e-06 ... -2.9491080e-04\n",
      " -2.9385896e-04 -3.0998926e-04], sr=16000 as keyword args. From version 0.10 passing these as positional arguments will result in an error\n",
      "C:\\Users\\yutan\\anaconda3\\envs\\tensorflow\\lib\\site-packages\\ipykernel_launcher.py:41: FutureWarning: Pass y=[-7.0190430e-04  1.1291504e-03  9.7656250e-04 ...  8.2397461e-04\n",
      " -9.1552734e-05  6.7138672e-04], sr=16000 as keyword args. From version 0.10 passing these as positional arguments will result in an error\n",
      "C:\\Users\\yutan\\anaconda3\\envs\\tensorflow\\lib\\site-packages\\ipykernel_launcher.py:41: FutureWarning: Pass y=[-0.02139282 -0.04327393 -0.03561401 ... -0.00042725 -0.00054932\n",
      " -0.00048828], sr=16000 as keyword args. From version 0.10 passing these as positional arguments will result in an error\n",
      "C:\\Users\\yutan\\anaconda3\\envs\\tensorflow\\lib\\site-packages\\ipykernel_launcher.py:41: FutureWarning: Pass y=[1.2644099e-04 1.0514744e-04 8.9251313e-05 ... 1.7277192e-04 9.7430755e-05\n",
      " 1.1991117e-04], sr=16000 as keyword args. From version 0.10 passing these as positional arguments will result in an error\n",
      "C:\\Users\\yutan\\anaconda3\\envs\\tensorflow\\lib\\site-packages\\ipykernel_launcher.py:41: FutureWarning: Pass y=[ 9.1552734e-05  6.1035156e-05  3.0517578e-05 ... -2.1362305e-04\n",
      " -3.9672852e-04 -2.7465820e-04], sr=16000 as keyword args. From version 0.10 passing these as positional arguments will result in an error\n",
      "C:\\Users\\yutan\\anaconda3\\envs\\tensorflow\\lib\\site-packages\\ipykernel_launcher.py:41: FutureWarning: Pass y=[ 0.0000000e+00 -3.0517578e-05  3.0517578e-05 ...  3.9672852e-04\n",
      " -6.1035156e-05 -1.5258789e-04], sr=16000 as keyword args. From version 0.10 passing these as positional arguments will result in an error\n",
      "C:\\Users\\yutan\\anaconda3\\envs\\tensorflow\\lib\\site-packages\\ipykernel_launcher.py:41: FutureWarning: Pass y=[-3.0517578e-05  0.0000000e+00  3.0517578e-05 ...  6.1035156e-05\n",
      "  0.0000000e+00  0.0000000e+00], sr=16000 as keyword args. From version 0.10 passing these as positional arguments will result in an error\n"
     ]
    },
    {
     "name": "stderr",
     "output_type": "stream",
     "text": [
      "C:\\Users\\yutan\\anaconda3\\envs\\tensorflow\\lib\\site-packages\\ipykernel_launcher.py:41: FutureWarning: Pass y=[-3.0517578e-05 -3.0517578e-05  0.0000000e+00 ...  3.0517578e-05\n",
      "  6.1035156e-05  3.0517578e-05], sr=16000 as keyword args. From version 0.10 passing these as positional arguments will result in an error\n",
      "C:\\Users\\yutan\\anaconda3\\envs\\tensorflow\\lib\\site-packages\\ipykernel_launcher.py:41: FutureWarning: Pass y=[ 1.46484375e-02  9.61303711e-03  4.97436523e-03 ...  6.10351562e-05\n",
      "  2.74658203e-04 -1.52587891e-04], sr=16000 as keyword args. From version 0.10 passing these as positional arguments will result in an error\n",
      "C:\\Users\\yutan\\anaconda3\\envs\\tensorflow\\lib\\site-packages\\ipykernel_launcher.py:41: FutureWarning: Pass y=[-8.8500977e-04 -1.5258789e-04 -9.1552734e-05 ... -5.7983398e-04\n",
      "  3.9672852e-04  2.1362305e-04], sr=16000 as keyword args. From version 0.10 passing these as positional arguments will result in an error\n",
      "C:\\Users\\yutan\\anaconda3\\envs\\tensorflow\\lib\\site-packages\\ipykernel_launcher.py:41: FutureWarning: Pass y=[ 0.00189209 -0.00097656  0.00158691 ...  0.00018311 -0.0020752\n",
      " -0.00106812], sr=16000 as keyword args. From version 0.10 passing these as positional arguments will result in an error\n",
      "C:\\Users\\yutan\\anaconda3\\envs\\tensorflow\\lib\\site-packages\\ipykernel_launcher.py:41: FutureWarning: Pass y=[0.0000000e+00 3.0517578e-05 0.0000000e+00 ... 1.5258789e-04 9.1552734e-05\n",
      " 6.1035156e-05], sr=16000 as keyword args. From version 0.10 passing these as positional arguments will result in an error\n",
      "C:\\Users\\yutan\\anaconda3\\envs\\tensorflow\\lib\\site-packages\\ipykernel_launcher.py:41: FutureWarning: Pass y=[-8.06005664e-06 -5.69416443e-05 -4.39766955e-05 ... -5.58364191e-05\n",
      " -2.78441912e-05 -1.21124085e-05], sr=16000 as keyword args. From version 0.10 passing these as positional arguments will result in an error\n",
      "C:\\Users\\yutan\\anaconda3\\envs\\tensorflow\\lib\\site-packages\\ipykernel_launcher.py:41: FutureWarning: Pass y=[ 2.8622184e-02  3.8041662e-02  4.0377170e-02 ... -1.2427862e-04\n",
      "  6.3064646e-05  5.9640643e-05], sr=16000 as keyword args. From version 0.10 passing these as positional arguments will result in an error\n",
      "C:\\Users\\yutan\\anaconda3\\envs\\tensorflow\\lib\\site-packages\\ipykernel_launcher.py:41: FutureWarning: Pass y=[ 0.00799561 -0.00234985  0.006073   ...  0.00091553 -0.00091553\n",
      " -0.00036621], sr=16000 as keyword args. From version 0.10 passing these as positional arguments will result in an error\n",
      "C:\\Users\\yutan\\anaconda3\\envs\\tensorflow\\lib\\site-packages\\ipykernel_launcher.py:41: FutureWarning: Pass y=[-9.1552734e-05 -1.2207031e-04 -1.2207031e-04 ... -1.5258789e-04\n",
      " -9.1552734e-05 -9.1552734e-05], sr=16000 as keyword args. From version 0.10 passing these as positional arguments will result in an error\n",
      "C:\\Users\\yutan\\anaconda3\\envs\\tensorflow\\lib\\site-packages\\ipykernel_launcher.py:41: FutureWarning: Pass y=[-0.00326538 -0.00231934 -0.00241089 ...  0.0010376  -0.00061035\n",
      "  0.00112915], sr=16000 as keyword args. From version 0.10 passing these as positional arguments will result in an error\n",
      "C:\\Users\\yutan\\anaconda3\\envs\\tensorflow\\lib\\site-packages\\ipykernel_launcher.py:41: FutureWarning: Pass y=[-2.6550293e-03 -1.7089844e-03  3.0517578e-05 ...  1.4953613e-03\n",
      "  1.7395020e-03  2.3498535e-03], sr=16000 as keyword args. From version 0.10 passing these as positional arguments will result in an error\n",
      "C:\\Users\\yutan\\anaconda3\\envs\\tensorflow\\lib\\site-packages\\ipykernel_launcher.py:41: FutureWarning: Pass y=[-3.0517578e-05  0.0000000e+00  0.0000000e+00 ... -3.0517578e-05\n",
      " -3.0517578e-05  0.0000000e+00], sr=16000 as keyword args. From version 0.10 passing these as positional arguments will result in an error\n",
      "C:\\Users\\yutan\\anaconda3\\envs\\tensorflow\\lib\\site-packages\\ipykernel_launcher.py:41: FutureWarning: Pass y=[-5.0048828e-03 -5.6762695e-03 -1.4373779e-02 ...  2.7465820e-04\n",
      " -3.3569336e-04  9.1552734e-05], sr=16000 as keyword args. From version 0.10 passing these as positional arguments will result in an error\n",
      "C:\\Users\\yutan\\anaconda3\\envs\\tensorflow\\lib\\site-packages\\ipykernel_launcher.py:41: FutureWarning: Pass y=[-3.0517578e-05 -6.1035156e-05 -3.0517578e-05 ...  0.0000000e+00\n",
      " -6.1035156e-05 -3.0517578e-05], sr=16000 as keyword args. From version 0.10 passing these as positional arguments will result in an error\n",
      "C:\\Users\\yutan\\anaconda3\\envs\\tensorflow\\lib\\site-packages\\ipykernel_launcher.py:41: FutureWarning: Pass y=[6.5886539e-05 5.9007347e-05 6.1189370e-05 ... 1.1383650e-03 1.1617953e-03\n",
      " 1.1565989e-03], sr=16000 as keyword args. From version 0.10 passing these as positional arguments will result in an error\n",
      "C:\\Users\\yutan\\anaconda3\\envs\\tensorflow\\lib\\site-packages\\ipykernel_launcher.py:41: FutureWarning: Pass y=[ 0.00042725 -0.00067139 -0.00048828 ...  0.          0.00064087\n",
      " -0.0005188 ], sr=16000 as keyword args. From version 0.10 passing these as positional arguments will result in an error\n",
      "C:\\Users\\yutan\\anaconda3\\envs\\tensorflow\\lib\\site-packages\\ipykernel_launcher.py:41: FutureWarning: Pass y=[-5.7130113e-05 -5.9689031e-05 -2.9249471e-05 ... -4.9088781e-06\n",
      "  2.5109070e-05 -8.2843362e-06], sr=16000 as keyword args. From version 0.10 passing these as positional arguments will result in an error\n",
      "C:\\Users\\yutan\\anaconda3\\envs\\tensorflow\\lib\\site-packages\\ipykernel_launcher.py:41: FutureWarning: Pass y=[-0.00048828  0.00061035  0.00015259 ...  0.00015259  0.00061035\n",
      " -0.00036621], sr=16000 as keyword args. From version 0.10 passing these as positional arguments will result in an error\n",
      "C:\\Users\\yutan\\anaconda3\\envs\\tensorflow\\lib\\site-packages\\ipykernel_launcher.py:41: FutureWarning: Pass y=[-2.62849862e-05 -3.32921336e-05 -1.09230905e-05 ... -5.30323850e-05\n",
      "  5.38141467e-06 -7.53029099e-06], sr=16000 as keyword args. From version 0.10 passing these as positional arguments will result in an error\n",
      "C:\\Users\\yutan\\anaconda3\\envs\\tensorflow\\lib\\site-packages\\ipykernel_launcher.py:41: FutureWarning: Pass y=[-5.4260198e-07  2.2128788e-05 -3.6168807e-05 ... -4.0406993e-04\n",
      "  5.7987898e-05  1.5073190e-04], sr=16000 as keyword args. From version 0.10 passing these as positional arguments will result in an error\n",
      "C:\\Users\\yutan\\anaconda3\\envs\\tensorflow\\lib\\site-packages\\ipykernel_launcher.py:41: FutureWarning: Pass y=[0.0000000e+00 0.0000000e+00 0.0000000e+00 ... 6.1035156e-05 3.0517578e-05\n",
      " 3.0517578e-05], sr=16000 as keyword args. From version 0.10 passing these as positional arguments will result in an error\n",
      "C:\\Users\\yutan\\anaconda3\\envs\\tensorflow\\lib\\site-packages\\ipykernel_launcher.py:41: FutureWarning: Pass y=[-8.9361911e-06  2.8074724e-06 -1.0190444e-06 ...  4.6445166e-06\n",
      " -3.2754867e-06  3.1613724e-06], sr=16000 as keyword args. From version 0.10 passing these as positional arguments will result in an error\n",
      "C:\\Users\\yutan\\anaconda3\\envs\\tensorflow\\lib\\site-packages\\ipykernel_launcher.py:41: FutureWarning: Pass y=[-1.5777588e-02 -1.6876221e-02 -1.6754150e-02 ...  6.1035156e-05\n",
      " -9.1552734e-05  3.0517578e-05], sr=16000 as keyword args. From version 0.10 passing these as positional arguments will result in an error\n",
      "C:\\Users\\yutan\\anaconda3\\envs\\tensorflow\\lib\\site-packages\\ipykernel_launcher.py:41: FutureWarning: Pass y=[0.0005188  0.0005188  0.00073242 ... 0.00085449 0.00091553 0.00326538], sr=16000 as keyword args. From version 0.10 passing these as positional arguments will result in an error\n",
      "C:\\Users\\yutan\\anaconda3\\envs\\tensorflow\\lib\\site-packages\\ipykernel_launcher.py:41: FutureWarning: Pass y=[ 9.1552734e-04  3.0517578e-04 -6.1035156e-05 ...  6.4086914e-04\n",
      "  2.8076172e-03 -3.6621094e-04], sr=16000 as keyword args. From version 0.10 passing these as positional arguments will result in an error\n",
      "C:\\Users\\yutan\\anaconda3\\envs\\tensorflow\\lib\\site-packages\\ipykernel_launcher.py:41: FutureWarning: Pass y=[-0.00073242 -0.00067139  0.00057983 ...  0.00039673  0.00097656\n",
      "  0.00238037], sr=16000 as keyword args. From version 0.10 passing these as positional arguments will result in an error\n",
      "C:\\Users\\yutan\\anaconda3\\envs\\tensorflow\\lib\\site-packages\\ipykernel_launcher.py:41: FutureWarning: Pass y=[-0.00213623 -0.00112915  0.00024414 ... -0.0012207  -0.00067139\n",
      "  0.00106812], sr=16000 as keyword args. From version 0.10 passing these as positional arguments will result in an error\n",
      "C:\\Users\\yutan\\anaconda3\\envs\\tensorflow\\lib\\site-packages\\ipykernel_launcher.py:41: FutureWarning: Pass y=[ 8.1548824e-06  3.0020537e-05  2.4037574e-05 ... -2.3730954e-03\n",
      " -1.9774707e-03 -1.6305475e-03], sr=16000 as keyword args. From version 0.10 passing these as positional arguments will result in an error\n"
     ]
    },
    {
     "name": "stderr",
     "output_type": "stream",
     "text": [
      "C:\\Users\\yutan\\anaconda3\\envs\\tensorflow\\lib\\site-packages\\ipykernel_launcher.py:41: FutureWarning: Pass y=[-1.5563965e-03  3.3569336e-04  2.4414062e-04 ... -6.1035156e-05\n",
      " -2.2583008e-03  7.0190430e-04], sr=16000 as keyword args. From version 0.10 passing these as positional arguments will result in an error\n",
      "C:\\Users\\yutan\\anaconda3\\envs\\tensorflow\\lib\\site-packages\\ipykernel_launcher.py:41: FutureWarning: Pass y=[ 0.04873657  0.04763794  0.04568481 ...  0.00045776  0.0007019\n",
      " -0.00021362], sr=16000 as keyword args. From version 0.10 passing these as positional arguments will result in an error\n",
      "C:\\Users\\yutan\\anaconda3\\envs\\tensorflow\\lib\\site-packages\\ipykernel_launcher.py:41: FutureWarning: Pass y=[-3.0517578e-05 -3.0517578e-05  0.0000000e+00 ... -1.2207031e-04\n",
      " -9.1552734e-05 -9.1552734e-05], sr=16000 as keyword args. From version 0.10 passing these as positional arguments will result in an error\n",
      "C:\\Users\\yutan\\anaconda3\\envs\\tensorflow\\lib\\site-packages\\ipykernel_launcher.py:41: FutureWarning: Pass y=[ 7.0800781e-03  9.6130371e-03  1.4556885e-02 ... -9.1552734e-05\n",
      " -6.1035156e-05 -9.1552734e-05], sr=16000 as keyword args. From version 0.10 passing these as positional arguments will result in an error\n",
      "C:\\Users\\yutan\\anaconda3\\envs\\tensorflow\\lib\\site-packages\\ipykernel_launcher.py:41: FutureWarning: Pass y=[ 0.00073242 -0.00088501  0.00039673 ... -0.0015564  -0.00015259\n",
      "  0.0007019 ], sr=16000 as keyword args. From version 0.10 passing these as positional arguments will result in an error\n",
      "C:\\Users\\yutan\\anaconda3\\envs\\tensorflow\\lib\\site-packages\\ipykernel_launcher.py:41: FutureWarning: Pass y=[-1.3183674e-06  1.6969417e-06 -2.6124017e-05 ...  2.3903484e-02\n",
      "  2.5414521e-02  2.7649438e-02], sr=16000 as keyword args. From version 0.10 passing these as positional arguments will result in an error\n",
      "C:\\Users\\yutan\\anaconda3\\envs\\tensorflow\\lib\\site-packages\\ipykernel_launcher.py:41: FutureWarning: Pass y=[-3.0517578e-05  0.0000000e+00 -3.0517578e-05 ...  3.0517578e-05\n",
      " -3.0517578e-05 -3.0517578e-05], sr=16000 as keyword args. From version 0.10 passing these as positional arguments will result in an error\n",
      "C:\\Users\\yutan\\anaconda3\\envs\\tensorflow\\lib\\site-packages\\ipykernel_launcher.py:41: FutureWarning: Pass y=[ 6.1035156e-05  3.0517578e-05  6.1035156e-05 ...  9.1552734e-05\n",
      "  3.0517578e-05 -6.1035156e-05], sr=16000 as keyword args. From version 0.10 passing these as positional arguments will result in an error\n",
      "C:\\Users\\yutan\\anaconda3\\envs\\tensorflow\\lib\\site-packages\\ipykernel_launcher.py:41: FutureWarning: Pass y=[-0.00137329 -0.00018311  0.00115967 ...  0.00204468  0.00143433\n",
      "  0.0015564 ], sr=16000 as keyword args. From version 0.10 passing these as positional arguments will result in an error\n",
      "C:\\Users\\yutan\\anaconda3\\envs\\tensorflow\\lib\\site-packages\\ipykernel_launcher.py:41: FutureWarning: Pass y=[-3.0517578e-05 -3.0517578e-05 -3.0517578e-05 ...  2.3498535e-03\n",
      "  1.9531250e-03  1.6174316e-03], sr=16000 as keyword args. From version 0.10 passing these as positional arguments will result in an error\n",
      "C:\\Users\\yutan\\anaconda3\\envs\\tensorflow\\lib\\site-packages\\ipykernel_launcher.py:41: FutureWarning: Pass y=[-2.9363204e-05 -6.0512233e-05 -8.3579507e-06 ...  3.1354342e-05\n",
      " -2.1225385e-05 -6.4220958e-06], sr=16000 as keyword args. From version 0.10 passing these as positional arguments will result in an error\n",
      "C:\\Users\\yutan\\anaconda3\\envs\\tensorflow\\lib\\site-packages\\ipykernel_launcher.py:41: FutureWarning: Pass y=[-6.1035156e-05 -6.1035156e-05 -3.0517578e-05 ...  1.8615723e-03\n",
      "  1.9226074e-03  1.9836426e-03], sr=16000 as keyword args. From version 0.10 passing these as positional arguments will result in an error\n",
      "C:\\Users\\yutan\\anaconda3\\envs\\tensorflow\\lib\\site-packages\\ipykernel_launcher.py:41: FutureWarning: Pass y=[ 0.00085449 -0.00030518  0.00027466 ...  0.00085449  0.00024414\n",
      " -0.00042725], sr=16000 as keyword args. From version 0.10 passing these as positional arguments will result in an error\n",
      "C:\\Users\\yutan\\anaconda3\\envs\\tensorflow\\lib\\site-packages\\ipykernel_launcher.py:41: FutureWarning: Pass y=[-0.0007019  -0.00079346  0.00039673 ... -0.00125122 -0.00045776\n",
      "  0.00073242], sr=16000 as keyword args. From version 0.10 passing these as positional arguments will result in an error\n",
      "C:\\Users\\yutan\\anaconda3\\envs\\tensorflow\\lib\\site-packages\\ipykernel_launcher.py:41: FutureWarning: Pass y=[6.6578861e-05 5.6526649e-05 3.1963893e-05 ... 5.3438693e-05 8.1432205e-05\n",
      " 3.0455874e-05], sr=16000 as keyword args. From version 0.10 passing these as positional arguments will result in an error\n",
      "C:\\Users\\yutan\\anaconda3\\envs\\tensorflow\\lib\\site-packages\\ipykernel_launcher.py:41: FutureWarning: Pass y=[ 0.00552368 -0.00424194 -0.01538086 ...  0.00094604 -0.0012207\n",
      "  0.00149536], sr=16000 as keyword args. From version 0.10 passing these as positional arguments will result in an error\n",
      "C:\\Users\\yutan\\anaconda3\\envs\\tensorflow\\lib\\site-packages\\ipykernel_launcher.py:41: FutureWarning: Pass y=[-3.4744299e-03 -1.6445820e-03 -4.7122451e-04 ...  3.5915880e-05\n",
      "  4.8075945e-05 -1.9265439e-05], sr=16000 as keyword args. From version 0.10 passing these as positional arguments will result in an error\n",
      "C:\\Users\\yutan\\anaconda3\\envs\\tensorflow\\lib\\site-packages\\ipykernel_launcher.py:41: FutureWarning: Pass y=[-3.2196045e-02 -3.2135010e-02 -3.2928467e-02 ... -3.9672852e-04\n",
      " -3.0517578e-05  6.4086914e-04], sr=16000 as keyword args. From version 0.10 passing these as positional arguments will result in an error\n",
      "C:\\Users\\yutan\\anaconda3\\envs\\tensorflow\\lib\\site-packages\\ipykernel_launcher.py:41: FutureWarning: Pass y=[ 0.0291748   0.02880859  0.01766968 ... -0.00021362 -0.00012207\n",
      "  0.00033569], sr=16000 as keyword args. From version 0.10 passing these as positional arguments will result in an error\n",
      "C:\\Users\\yutan\\anaconda3\\envs\\tensorflow\\lib\\site-packages\\ipykernel_launcher.py:41: FutureWarning: Pass y=[ 0.0000000e+00 -6.1035156e-05 -3.0517578e-05 ...  5.7983398e-04\n",
      "  6.4086914e-04  7.3242188e-04], sr=16000 as keyword args. From version 0.10 passing these as positional arguments will result in an error\n",
      "C:\\Users\\yutan\\anaconda3\\envs\\tensorflow\\lib\\site-packages\\ipykernel_launcher.py:41: FutureWarning: Pass y=[-7.9112397e-06  1.5037444e-06 -2.4552584e-05 ...  3.8324335e-05\n",
      "  3.6294379e-05  1.8558025e-05], sr=16000 as keyword args. From version 0.10 passing these as positional arguments will result in an error\n",
      "C:\\Users\\yutan\\anaconda3\\envs\\tensorflow\\lib\\site-packages\\ipykernel_launcher.py:41: FutureWarning: Pass y=[ 0.0000000e+00  3.0517578e-05  3.0517578e-05 ...  0.0000000e+00\n",
      " -3.0517578e-05 -6.1035156e-05], sr=16000 as keyword args. From version 0.10 passing these as positional arguments will result in an error\n",
      "C:\\Users\\yutan\\anaconda3\\envs\\tensorflow\\lib\\site-packages\\ipykernel_launcher.py:41: FutureWarning: Pass y=[-2.0272713e-05 -4.4993158e-06 -2.4988358e-05 ...  8.1055359e-06\n",
      " -1.1349176e-05 -2.6641303e-05], sr=16000 as keyword args. From version 0.10 passing these as positional arguments will result in an error\n",
      "C:\\Users\\yutan\\anaconda3\\envs\\tensorflow\\lib\\site-packages\\ipykernel_launcher.py:41: FutureWarning: Pass y=[ 0.00048828  0.00042725  0.00045776 ...  0.00088501 -0.00085449\n",
      "  0.00076294], sr=16000 as keyword args. From version 0.10 passing these as positional arguments will result in an error\n",
      "C:\\Users\\yutan\\anaconda3\\envs\\tensorflow\\lib\\site-packages\\ipykernel_launcher.py:41: FutureWarning: Pass y=[ 0.01071167  0.01309204  0.01123047 ...  0.0027771  -0.00012207\n",
      " -0.00186157], sr=16000 as keyword args. From version 0.10 passing these as positional arguments will result in an error\n",
      "C:\\Users\\yutan\\anaconda3\\envs\\tensorflow\\lib\\site-packages\\ipykernel_launcher.py:41: FutureWarning: Pass y=[ 6.1035156e-05  1.2207031e-04  1.5258789e-04 ... -1.6784668e-03\n",
      " -1.2817383e-03 -1.2512207e-03], sr=16000 as keyword args. From version 0.10 passing these as positional arguments will result in an error\n",
      "C:\\Users\\yutan\\anaconda3\\envs\\tensorflow\\lib\\site-packages\\ipykernel_launcher.py:41: FutureWarning: Pass y=[ 8.1098545e-07 -3.5662456e-06  7.0742713e-06 ...  1.3187242e-04\n",
      " -4.9300241e-05 -1.3682568e-05], sr=16000 as keyword args. From version 0.10 passing these as positional arguments will result in an error\n",
      "C:\\Users\\yutan\\anaconda3\\envs\\tensorflow\\lib\\site-packages\\ipykernel_launcher.py:41: FutureWarning: Pass y=[ 0.00045776 -0.00137329 -0.00057983 ...  0.00088501  0.00042725\n",
      " -0.00100708], sr=16000 as keyword args. From version 0.10 passing these as positional arguments will result in an error\n",
      "C:\\Users\\yutan\\anaconda3\\envs\\tensorflow\\lib\\site-packages\\ipykernel_launcher.py:41: FutureWarning: Pass y=[ 7.8609936e-02  4.5642573e-02 -5.4978639e-02 ...  8.6761411e-06\n",
      "  1.9227859e-06 -4.4787135e-05], sr=16000 as keyword args. From version 0.10 passing these as positional arguments will result in an error\n"
     ]
    },
    {
     "name": "stderr",
     "output_type": "stream",
     "text": [
      "C:\\Users\\yutan\\anaconda3\\envs\\tensorflow\\lib\\site-packages\\ipykernel_launcher.py:41: FutureWarning: Pass y=[ 3.0517578e-05  0.0000000e+00 -3.0517578e-05 ... -9.1552734e-05\n",
      " -6.1035156e-05 -9.1552734e-05], sr=16000 as keyword args. From version 0.10 passing these as positional arguments will result in an error\n",
      "C:\\Users\\yutan\\anaconda3\\envs\\tensorflow\\lib\\site-packages\\ipykernel_launcher.py:41: FutureWarning: Pass y=[ 6.6717796e-05  4.8557681e-06 -1.7275876e-05 ... -1.0195511e-04\n",
      " -6.7481204e-05 -9.9072800e-05], sr=16000 as keyword args. From version 0.10 passing these as positional arguments will result in an error\n",
      "C:\\Users\\yutan\\anaconda3\\envs\\tensorflow\\lib\\site-packages\\ipykernel_launcher.py:41: FutureWarning: Pass y=[-0.0010376  -0.00076294 -0.00076294 ... -0.00057983 -0.00073242\n",
      "  0.00067139], sr=16000 as keyword args. From version 0.10 passing these as positional arguments will result in an error\n",
      "C:\\Users\\yutan\\anaconda3\\envs\\tensorflow\\lib\\site-packages\\ipykernel_launcher.py:41: FutureWarning: Pass y=[-6.1035156e-05 -2.4414062e-04 -1.6784668e-03 ...  6.4086914e-04\n",
      " -9.1552734e-04 -1.4038086e-03], sr=16000 as keyword args. From version 0.10 passing these as positional arguments will result in an error\n",
      "C:\\Users\\yutan\\anaconda3\\envs\\tensorflow\\lib\\site-packages\\ipykernel_launcher.py:41: FutureWarning: Pass y=[ 0.00106812  0.00057983  0.00167847 ... -0.00030518  0.00115967\n",
      "  0.00033569], sr=16000 as keyword args. From version 0.10 passing these as positional arguments will result in an error\n",
      "C:\\Users\\yutan\\anaconda3\\envs\\tensorflow\\lib\\site-packages\\ipykernel_launcher.py:41: FutureWarning: Pass y=[ 3.0517578e-05  3.0517578e-05  0.0000000e+00 ... -1.2207031e-04\n",
      " -1.2207031e-04 -1.2207031e-04], sr=16000 as keyword args. From version 0.10 passing these as positional arguments will result in an error\n",
      "C:\\Users\\yutan\\anaconda3\\envs\\tensorflow\\lib\\site-packages\\ipykernel_launcher.py:41: FutureWarning: Pass y=[9.7656250e-04 7.6293945e-04 9.1552734e-05 ... 9.7656250e-04 5.7983398e-04\n",
      " 5.7983398e-04], sr=16000 as keyword args. From version 0.10 passing these as positional arguments will result in an error\n",
      "C:\\Users\\yutan\\anaconda3\\envs\\tensorflow\\lib\\site-packages\\ipykernel_launcher.py:41: FutureWarning: Pass y=[ 9.3656628e-05  9.1348506e-05  7.8381272e-05 ...  2.1480015e-05\n",
      "  2.5168445e-05 -1.1700594e-05], sr=16000 as keyword args. From version 0.10 passing these as positional arguments will result in an error\n",
      "C:\\Users\\yutan\\anaconda3\\envs\\tensorflow\\lib\\site-packages\\ipykernel_launcher.py:41: FutureWarning: Pass y=[-3.4245553e-05 -8.4166822e-06  1.3610781e-06 ...  2.4163892e-05\n",
      " -4.0877867e-06 -3.5781344e-05], sr=16000 as keyword args. From version 0.10 passing these as positional arguments will result in an error\n",
      "C:\\Users\\yutan\\anaconda3\\envs\\tensorflow\\lib\\site-packages\\ipykernel_launcher.py:41: FutureWarning: Pass y=[-0.03900146 -0.03253174 -0.01626587 ...  0.00033569 -0.00067139\n",
      " -0.00048828], sr=16000 as keyword args. From version 0.10 passing these as positional arguments will result in an error\n",
      "C:\\Users\\yutan\\anaconda3\\envs\\tensorflow\\lib\\site-packages\\ipykernel_launcher.py:41: FutureWarning: Pass y=[ 0.0000000e+00  1.4648438e-03  3.6621094e-04 ... -5.4931641e-04\n",
      " -6.1035156e-04 -6.1035156e-05], sr=16000 as keyword args. From version 0.10 passing these as positional arguments will result in an error\n",
      "C:\\Users\\yutan\\anaconda3\\envs\\tensorflow\\lib\\site-packages\\ipykernel_launcher.py:41: FutureWarning: Pass y=[-0.0012207   0.00030518 -0.00061035 ...  0.0007019   0.00021362\n",
      "  0.00033569], sr=16000 as keyword args. From version 0.10 passing these as positional arguments will result in an error\n",
      "C:\\Users\\yutan\\anaconda3\\envs\\tensorflow\\lib\\site-packages\\ipykernel_launcher.py:41: FutureWarning: Pass y=[9.4669878e-05 8.8284134e-05 6.4804161e-05 ... 2.0581020e-04 2.1366177e-04\n",
      " 2.4835311e-04], sr=16000 as keyword args. From version 0.10 passing these as positional arguments will result in an error\n",
      "C:\\Users\\yutan\\anaconda3\\envs\\tensorflow\\lib\\site-packages\\ipykernel_launcher.py:41: FutureWarning: Pass y=[ 8.1238519e-05  9.2105161e-05  1.0431537e-04 ...  2.6357557e-05\n",
      "  9.0852712e-09 -2.1965374e-05], sr=16000 as keyword args. From version 0.10 passing these as positional arguments will result in an error\n",
      "C:\\Users\\yutan\\anaconda3\\envs\\tensorflow\\lib\\site-packages\\ipykernel_launcher.py:41: FutureWarning: Pass y=[-4.2969823e-06 -5.6626268e-05 -3.2913489e-05 ... -2.6654266e-04\n",
      " -2.6868528e-04 -2.4405212e-04], sr=16000 as keyword args. From version 0.10 passing these as positional arguments will result in an error\n",
      "C:\\Users\\yutan\\anaconda3\\envs\\tensorflow\\lib\\site-packages\\ipykernel_launcher.py:41: FutureWarning: Pass y=[-3.0517578e-05  0.0000000e+00  3.0517578e-05 ... -1.5258789e-04\n",
      " -1.2207031e-04 -1.5258789e-04], sr=16000 as keyword args. From version 0.10 passing these as positional arguments will result in an error\n",
      "C:\\Users\\yutan\\anaconda3\\envs\\tensorflow\\lib\\site-packages\\ipykernel_launcher.py:41: FutureWarning: Pass y=[ 0.00064087 -0.00094604 -0.00119019 ... -0.00119019 -0.00112915\n",
      "  0.00057983], sr=16000 as keyword args. From version 0.10 passing these as positional arguments will result in an error\n",
      "C:\\Users\\yutan\\anaconda3\\envs\\tensorflow\\lib\\site-packages\\ipykernel_launcher.py:41: FutureWarning: Pass y=[ 3.0517578e-05 -3.0517578e-05  0.0000000e+00 ...  6.1035156e-05\n",
      " -3.0517578e-05 -3.0517578e-05], sr=16000 as keyword args. From version 0.10 passing these as positional arguments will result in an error\n",
      "C:\\Users\\yutan\\anaconda3\\envs\\tensorflow\\lib\\site-packages\\ipykernel_launcher.py:41: FutureWarning: Pass y=[-6.1035156e-04 -3.0517578e-05  5.1879883e-04 ... -8.2397461e-04\n",
      " -6.4086914e-04 -1.5258789e-04], sr=16000 as keyword args. From version 0.10 passing these as positional arguments will result in an error\n",
      "C:\\Users\\yutan\\anaconda3\\envs\\tensorflow\\lib\\site-packages\\ipykernel_launcher.py:41: FutureWarning: Pass y=[-0.0010376   0.00042725 -0.00018311 ...  0.00091553  0.00030518\n",
      "  0.00027466], sr=16000 as keyword args. From version 0.10 passing these as positional arguments will result in an error\n",
      "C:\\Users\\yutan\\anaconda3\\envs\\tensorflow\\lib\\site-packages\\ipykernel_launcher.py:41: FutureWarning: Pass y=[ 1.8114111e-05 -1.6032651e-05  2.0721925e-05 ... -3.0972860e-05\n",
      "  1.7570181e-05  1.9298725e-05], sr=16000 as keyword args. From version 0.10 passing these as positional arguments will result in an error\n",
      "C:\\Users\\yutan\\anaconda3\\envs\\tensorflow\\lib\\site-packages\\ipykernel_launcher.py:41: FutureWarning: Pass y=[-3.0517578e-05 -6.1035156e-05 -9.1552734e-05 ...  3.0517578e-05\n",
      "  0.0000000e+00  3.0517578e-05], sr=16000 as keyword args. From version 0.10 passing these as positional arguments will result in an error\n",
      "C:\\Users\\yutan\\anaconda3\\envs\\tensorflow\\lib\\site-packages\\ipykernel_launcher.py:41: FutureWarning: Pass y=[ 7.3242188e-04  1.1291504e-03  1.2512207e-03 ...  3.3569336e-04\n",
      "  1.8310547e-04 -3.0517578e-05], sr=16000 as keyword args. From version 0.10 passing these as positional arguments will result in an error\n",
      "C:\\Users\\yutan\\anaconda3\\envs\\tensorflow\\lib\\site-packages\\ipykernel_launcher.py:41: FutureWarning: Pass y=[-1.8310547e-04 -2.1362305e-04 -1.2207031e-04 ...  3.0517578e-05\n",
      "  0.0000000e+00 -3.0517578e-05], sr=16000 as keyword args. From version 0.10 passing these as positional arguments will result in an error\n",
      "C:\\Users\\yutan\\anaconda3\\envs\\tensorflow\\lib\\site-packages\\ipykernel_launcher.py:41: FutureWarning: Pass y=[ 1.2207031e-04  6.1035156e-05  3.0517578e-05 ...  8.2397461e-04\n",
      "  6.1035156e-04 -1.2207031e-03], sr=16000 as keyword args. From version 0.10 passing these as positional arguments will result in an error\n",
      "C:\\Users\\yutan\\anaconda3\\envs\\tensorflow\\lib\\site-packages\\ipykernel_launcher.py:41: FutureWarning: Pass y=[ 6.5917969e-03  6.3171387e-03  5.4626465e-03 ... -2.1362305e-04\n",
      " -6.1035156e-05  0.0000000e+00], sr=16000 as keyword args. From version 0.10 passing these as positional arguments will result in an error\n",
      "C:\\Users\\yutan\\anaconda3\\envs\\tensorflow\\lib\\site-packages\\ipykernel_launcher.py:41: FutureWarning: Pass y=[-0.05645752 -0.0838623  -0.10006714 ...  0.00079346  0.00036621\n",
      " -0.00045776], sr=16000 as keyword args. From version 0.10 passing these as positional arguments will result in an error\n",
      "C:\\Users\\yutan\\anaconda3\\envs\\tensorflow\\lib\\site-packages\\ipykernel_launcher.py:41: FutureWarning: Pass y=[-6.1035156e-05 -3.0517578e-05  0.0000000e+00 ... -6.1035156e-05\n",
      " -3.0517578e-05  0.0000000e+00], sr=16000 as keyword args. From version 0.10 passing these as positional arguments will result in an error\n",
      "C:\\Users\\yutan\\anaconda3\\envs\\tensorflow\\lib\\site-packages\\ipykernel_launcher.py:41: FutureWarning: Pass y=[ 2.1881104e-02  1.2969971e-02  1.4648438e-03 ...  1.8005371e-03\n",
      " -7.3242188e-04  6.1035156e-05], sr=16000 as keyword args. From version 0.10 passing these as positional arguments will result in an error\n"
     ]
    },
    {
     "name": "stderr",
     "output_type": "stream",
     "text": [
      "C:\\Users\\yutan\\anaconda3\\envs\\tensorflow\\lib\\site-packages\\ipykernel_launcher.py:41: FutureWarning: Pass y=[-3.7306396e-05 -3.5797548e-05 -3.3241820e-05 ... -6.1421459e-05\n",
      " -8.2736740e-05 -4.3403550e-05], sr=16000 as keyword args. From version 0.10 passing these as positional arguments will result in an error\n",
      "C:\\Users\\yutan\\anaconda3\\envs\\tensorflow\\lib\\site-packages\\ipykernel_launcher.py:41: FutureWarning: Pass y=[ 1.5258789e-04  7.3242188e-04  1.9836426e-03 ... -9.1552734e-05\n",
      " -1.1901855e-03 -3.6621094e-04], sr=16000 as keyword args. From version 0.10 passing these as positional arguments will result in an error\n",
      "C:\\Users\\yutan\\anaconda3\\envs\\tensorflow\\lib\\site-packages\\ipykernel_launcher.py:41: FutureWarning: Pass y=[-2.1715205e-05 -2.8260956e-05  2.4758116e-05 ...  6.4105414e-05\n",
      "  5.7766119e-05  1.4408439e-05], sr=16000 as keyword args. From version 0.10 passing these as positional arguments will result in an error\n",
      "C:\\Users\\yutan\\anaconda3\\envs\\tensorflow\\lib\\site-packages\\ipykernel_launcher.py:41: FutureWarning: Pass y=[ 1.3580322e-02  1.4465332e-02  1.8371582e-02 ... -3.0517578e-05\n",
      " -1.8310547e-04 -3.0517578e-05], sr=16000 as keyword args. From version 0.10 passing these as positional arguments will result in an error\n",
      "C:\\Users\\yutan\\anaconda3\\envs\\tensorflow\\lib\\site-packages\\ipykernel_launcher.py:41: FutureWarning: Pass y=[ 1.0681152e-03  1.0681152e-03  9.1552734e-04 ...  6.1035156e-05\n",
      " -3.0517578e-05 -9.1552734e-05], sr=16000 as keyword args. From version 0.10 passing these as positional arguments will result in an error\n",
      "C:\\Users\\yutan\\anaconda3\\envs\\tensorflow\\lib\\site-packages\\ipykernel_launcher.py:41: FutureWarning: Pass y=[ 0.01193237  0.00592041  0.0078125  ... -0.00125122  0.00149536\n",
      "  0.00228882], sr=16000 as keyword args. From version 0.10 passing these as positional arguments will result in an error\n",
      "C:\\Users\\yutan\\anaconda3\\envs\\tensorflow\\lib\\site-packages\\ipykernel_launcher.py:41: FutureWarning: Pass y=[-3.0517578e-05 -9.1552734e-05 -1.2207031e-04 ... -1.2207031e-04\n",
      " -9.1552734e-05 -9.1552734e-05], sr=16000 as keyword args. From version 0.10 passing these as positional arguments will result in an error\n",
      "C:\\Users\\yutan\\anaconda3\\envs\\tensorflow\\lib\\site-packages\\ipykernel_launcher.py:41: FutureWarning: Pass y=[ 1.5760791e-02  1.6871421e-02  1.6740201e-02 ... -8.3072744e-05\n",
      "  8.2154547e-05 -4.6583311e-05], sr=16000 as keyword args. From version 0.10 passing these as positional arguments will result in an error\n",
      "C:\\Users\\yutan\\anaconda3\\envs\\tensorflow\\lib\\site-packages\\ipykernel_launcher.py:41: FutureWarning: Pass y=[-2.0812988e-02 -2.0935059e-02 -1.7639160e-02 ...  0.0000000e+00\n",
      " -3.0517578e-05 -6.1035156e-05], sr=16000 as keyword args. From version 0.10 passing these as positional arguments will result in an error\n",
      "C:\\Users\\yutan\\anaconda3\\envs\\tensorflow\\lib\\site-packages\\ipykernel_launcher.py:41: FutureWarning: Pass y=[ 8.5449219e-04  8.2397461e-04 -1.1596680e-03 ...  1.7700195e-03\n",
      "  9.1552734e-05  6.1035156e-05], sr=16000 as keyword args. From version 0.10 passing these as positional arguments will result in an error\n",
      "C:\\Users\\yutan\\anaconda3\\envs\\tensorflow\\lib\\site-packages\\ipykernel_launcher.py:41: FutureWarning: Pass y=[ 3.0517578e-05 -3.0517578e-05  0.0000000e+00 ...  0.0000000e+00\n",
      "  3.0517578e-05  0.0000000e+00], sr=16000 as keyword args. From version 0.10 passing these as positional arguments will result in an error\n",
      "C:\\Users\\yutan\\anaconda3\\envs\\tensorflow\\lib\\site-packages\\ipykernel_launcher.py:41: FutureWarning: Pass y=[ 0.0000000e+00 -3.0517578e-05 -3.0517578e-05 ...  0.0000000e+00\n",
      " -9.1552734e-05 -3.0517578e-05], sr=16000 as keyword args. From version 0.10 passing these as positional arguments will result in an error\n",
      "C:\\Users\\yutan\\anaconda3\\envs\\tensorflow\\lib\\site-packages\\ipykernel_launcher.py:41: FutureWarning: Pass y=[ 0.0000000e+00  0.0000000e+00 -3.0517578e-05 ...  3.0517578e-05\n",
      "  6.1035156e-05  6.1035156e-05], sr=16000 as keyword args. From version 0.10 passing these as positional arguments will result in an error\n",
      "C:\\Users\\yutan\\anaconda3\\envs\\tensorflow\\lib\\site-packages\\ipykernel_launcher.py:41: FutureWarning: Pass y=[ 1.0681152e-03 -1.7700195e-03 -3.0517578e-05 ...  9.1552734e-05\n",
      "  1.8310547e-04  1.4953613e-03], sr=16000 as keyword args. From version 0.10 passing these as positional arguments will result in an error\n",
      "C:\\Users\\yutan\\anaconda3\\envs\\tensorflow\\lib\\site-packages\\ipykernel_launcher.py:41: FutureWarning: Pass y=[ 0.00048828 -0.00082397  0.00061035 ... -0.0012207   0.00061035\n",
      "  0.00015259], sr=16000 as keyword args. From version 0.10 passing these as positional arguments will result in an error\n",
      "C:\\Users\\yutan\\anaconda3\\envs\\tensorflow\\lib\\site-packages\\ipykernel_launcher.py:41: FutureWarning: Pass y=[-3.6621094e-04 -6.1035156e-05  7.6293945e-04 ... -1.6479492e-03\n",
      " -3.6621094e-04  6.4086914e-04], sr=16000 as keyword args. From version 0.10 passing these as positional arguments will result in an error\n",
      "C:\\Users\\yutan\\anaconda3\\envs\\tensorflow\\lib\\site-packages\\ipykernel_launcher.py:41: FutureWarning: Pass y=[ 0.00094604 -0.00762939 -0.01583862 ... -0.00024414  0.00119019\n",
      " -0.0012207 ], sr=16000 as keyword args. From version 0.10 passing these as positional arguments will result in an error\n",
      "C:\\Users\\yutan\\anaconda3\\envs\\tensorflow\\lib\\site-packages\\ipykernel_launcher.py:41: FutureWarning: Pass y=[-3.0517578e-05 -6.1035156e-05 -3.0517578e-05 ...  3.0517578e-05\n",
      "  3.0517578e-05  0.0000000e+00], sr=16000 as keyword args. From version 0.10 passing these as positional arguments will result in an error\n",
      "C:\\Users\\yutan\\anaconda3\\envs\\tensorflow\\lib\\site-packages\\ipykernel_launcher.py:41: FutureWarning: Pass y=[ 1.9087029e-06 -3.8378716e-06  1.4505592e-05 ...  1.9804067e-05\n",
      "  5.8542424e-05  9.7454045e-05], sr=16000 as keyword args. From version 0.10 passing these as positional arguments will result in an error\n",
      "C:\\Users\\yutan\\anaconda3\\envs\\tensorflow\\lib\\site-packages\\ipykernel_launcher.py:41: FutureWarning: Pass y=[-3.0517578e-05  0.0000000e+00  3.0517578e-05 ...  0.0000000e+00\n",
      " -3.0517578e-05 -3.0517578e-05], sr=16000 as keyword args. From version 0.10 passing these as positional arguments will result in an error\n",
      "C:\\Users\\yutan\\anaconda3\\envs\\tensorflow\\lib\\site-packages\\ipykernel_launcher.py:41: FutureWarning: Pass y=[ 0.00094604  0.00015259  0.00015259 ... -0.00042725  0.00024414\n",
      " -0.00189209], sr=16000 as keyword args. From version 0.10 passing these as positional arguments will result in an error\n",
      "C:\\Users\\yutan\\anaconda3\\envs\\tensorflow\\lib\\site-packages\\ipykernel_launcher.py:41: FutureWarning: Pass y=[ 0.01171875  0.01644897  0.02124023 ... -0.00024414  0.00021362\n",
      " -0.00021362], sr=16000 as keyword args. From version 0.10 passing these as positional arguments will result in an error\n",
      "C:\\Users\\yutan\\anaconda3\\envs\\tensorflow\\lib\\site-packages\\ipykernel_launcher.py:41: FutureWarning: Pass y=[ 0.00012207 -0.00048828  0.00054932 ...  0.00039673 -0.00088501\n",
      "  0.00085449], sr=16000 as keyword args. From version 0.10 passing these as positional arguments will result in an error\n",
      "C:\\Users\\yutan\\anaconda3\\envs\\tensorflow\\lib\\site-packages\\ipykernel_launcher.py:41: FutureWarning: Pass y=[ 4.14753849e-05  1.21064244e-04  3.77075412e-05 ... -9.81212361e-05\n",
      " -1.14407565e-04 -1.04496219e-04], sr=16000 as keyword args. From version 0.10 passing these as positional arguments will result in an error\n",
      "C:\\Users\\yutan\\anaconda3\\envs\\tensorflow\\lib\\site-packages\\ipykernel_launcher.py:41: FutureWarning: Pass y=[ 6.1035156e-05  6.1035156e-05  6.1035156e-05 ...  3.0517578e-05\n",
      " -3.0517578e-05 -6.1035156e-05], sr=16000 as keyword args. From version 0.10 passing these as positional arguments will result in an error\n",
      "C:\\Users\\yutan\\anaconda3\\envs\\tensorflow\\lib\\site-packages\\ipykernel_launcher.py:41: FutureWarning: Pass y=[-2.6138558e-05 -2.1295104e-05 -1.3473068e-05 ...  1.7139236e-04\n",
      " -1.9418439e-04  2.0283906e-05], sr=16000 as keyword args. From version 0.10 passing these as positional arguments will result in an error\n",
      "C:\\Users\\yutan\\anaconda3\\envs\\tensorflow\\lib\\site-packages\\ipykernel_launcher.py:41: FutureWarning: Pass y=[-0.02850342 -0.03082275 -0.02545166 ... -0.0015564  -0.00082397\n",
      " -0.0007019 ], sr=16000 as keyword args. From version 0.10 passing these as positional arguments will result in an error\n"
     ]
    },
    {
     "name": "stderr",
     "output_type": "stream",
     "text": [
      "C:\\Users\\yutan\\anaconda3\\envs\\tensorflow\\lib\\site-packages\\ipykernel_launcher.py:41: FutureWarning: Pass y=[-6.4401247e-05 -3.0612948e-05 -5.8257207e-05 ...  2.4323156e-06\n",
      " -5.0654571e-06  1.4281187e-05], sr=16000 as keyword args. From version 0.10 passing these as positional arguments will result in an error\n",
      "C:\\Users\\yutan\\anaconda3\\envs\\tensorflow\\lib\\site-packages\\ipykernel_launcher.py:41: FutureWarning: Pass y=[ 7.3154602e-06  3.8607373e-05  6.4315558e-05 ... -3.6831610e-05\n",
      " -2.7637874e-05 -3.2903241e-05], sr=16000 as keyword args. From version 0.10 passing these as positional arguments will result in an error\n",
      "C:\\Users\\yutan\\anaconda3\\envs\\tensorflow\\lib\\site-packages\\ipykernel_launcher.py:41: FutureWarning: Pass y=[-1.1901855e-03 -3.0517578e-05 -6.1035156e-05 ...  8.8500977e-04\n",
      " -6.7138672e-04 -2.4414062e-04], sr=16000 as keyword args. From version 0.10 passing these as positional arguments will result in an error\n",
      "C:\\Users\\yutan\\anaconda3\\envs\\tensorflow\\lib\\site-packages\\ipykernel_launcher.py:41: FutureWarning: Pass y=[-0.01370239 -0.01361084 -0.01092529 ... -0.00219727 -0.00076294\n",
      "  0.00210571], sr=16000 as keyword args. From version 0.10 passing these as positional arguments will result in an error\n",
      "C:\\Users\\yutan\\anaconda3\\envs\\tensorflow\\lib\\site-packages\\ipykernel_launcher.py:41: FutureWarning: Pass y=[ 0.00354004  0.01174927  0.01721191 ... -0.00073242  0.00054932\n",
      " -0.00030518], sr=16000 as keyword args. From version 0.10 passing these as positional arguments will result in an error\n",
      "C:\\Users\\yutan\\anaconda3\\envs\\tensorflow\\lib\\site-packages\\ipykernel_launcher.py:41: FutureWarning: Pass y=[ 6.2443137e-06 -2.4355757e-05 -5.0800747e-05 ...  1.4680870e-04\n",
      "  1.1821759e-04  1.4897315e-04], sr=16000 as keyword args. From version 0.10 passing these as positional arguments will result in an error\n",
      "C:\\Users\\yutan\\anaconda3\\envs\\tensorflow\\lib\\site-packages\\ipykernel_launcher.py:41: FutureWarning: Pass y=[-6.1035156e-05 -9.1552734e-05 -6.1035156e-05 ...  1.5258789e-04\n",
      "  3.0517578e-05 -9.1552734e-05], sr=16000 as keyword args. From version 0.10 passing these as positional arguments will result in an error\n",
      "C:\\Users\\yutan\\anaconda3\\envs\\tensorflow\\lib\\site-packages\\ipykernel_launcher.py:41: FutureWarning: Pass y=[-0.00097656  0.00042725  0.00201416 ...  0.00021362  0.00119019\n",
      "  0.00097656], sr=16000 as keyword args. From version 0.10 passing these as positional arguments will result in an error\n",
      "C:\\Users\\yutan\\anaconda3\\envs\\tensorflow\\lib\\site-packages\\ipykernel_launcher.py:41: FutureWarning: Pass y=[ 0.00909424 -0.00814819 -0.02606201 ...  0.00042725  0.00039673\n",
      " -0.00048828], sr=16000 as keyword args. From version 0.10 passing these as positional arguments will result in an error\n",
      "C:\\Users\\yutan\\anaconda3\\envs\\tensorflow\\lib\\site-packages\\ipykernel_launcher.py:41: FutureWarning: Pass y=[ 0.00015259  0.00109863 -0.00018311 ...  0.00085449  0.00219727\n",
      "  0.00039673], sr=16000 as keyword args. From version 0.10 passing these as positional arguments will result in an error\n",
      "C:\\Users\\yutan\\anaconda3\\envs\\tensorflow\\lib\\site-packages\\ipykernel_launcher.py:41: FutureWarning: Pass y=[-4.2724609e-04  3.0517578e-05  3.0517578e-05 ...  2.7465820e-04\n",
      " -5.4931641e-04 -2.1362305e-04], sr=16000 as keyword args. From version 0.10 passing these as positional arguments will result in an error\n",
      "C:\\Users\\yutan\\anaconda3\\envs\\tensorflow\\lib\\site-packages\\ipykernel_launcher.py:41: FutureWarning: Pass y=[ 0.00189209  0.00283813  0.00326538 ... -0.00079346 -0.00177002\n",
      "  0.00158691], sr=16000 as keyword args. From version 0.10 passing these as positional arguments will result in an error\n",
      "C:\\Users\\yutan\\anaconda3\\envs\\tensorflow\\lib\\site-packages\\ipykernel_launcher.py:41: FutureWarning: Pass y=[-5.9505951e-06 -3.3020449e-05 -7.6176602e-06 ...  1.6977863e-06\n",
      " -2.8416609e-06  7.9740217e-05], sr=16000 as keyword args. From version 0.10 passing these as positional arguments will result in an error\n",
      "C:\\Users\\yutan\\anaconda3\\envs\\tensorflow\\lib\\site-packages\\ipykernel_launcher.py:41: FutureWarning: Pass y=[ 0.00726318  0.00830078  0.01211548 ...  0.00045776  0.0027771\n",
      " -0.00100708], sr=16000 as keyword args. From version 0.10 passing these as positional arguments will result in an error\n",
      "C:\\Users\\yutan\\anaconda3\\envs\\tensorflow\\lib\\site-packages\\ipykernel_launcher.py:41: FutureWarning: Pass y=[ 1.0650635e-02  7.5073242e-03 -6.0424805e-03 ...  9.1552734e-05\n",
      " -1.5258789e-04 -1.2207031e-04], sr=16000 as keyword args. From version 0.10 passing these as positional arguments will result in an error\n",
      "C:\\Users\\yutan\\anaconda3\\envs\\tensorflow\\lib\\site-packages\\ipykernel_launcher.py:41: FutureWarning: Pass y=[ 0.00088501 -0.00073242 -0.00033569 ...  0.00106812 -0.0005188\n",
      "  0.0007019 ], sr=16000 as keyword args. From version 0.10 passing these as positional arguments will result in an error\n",
      "C:\\Users\\yutan\\anaconda3\\envs\\tensorflow\\lib\\site-packages\\ipykernel_launcher.py:41: FutureWarning: Pass y=[ 5.9027741e-05  4.3354732e-05  5.5559409e-05 ... -6.6408757e-05\n",
      " -8.3533407e-05 -4.1439594e-05], sr=16000 as keyword args. From version 0.10 passing these as positional arguments will result in an error\n",
      "C:\\Users\\yutan\\anaconda3\\envs\\tensorflow\\lib\\site-packages\\ipykernel_launcher.py:41: FutureWarning: Pass y=[ 9.6416887e-04  1.8302796e-03 -1.1688373e-03 ...  7.7318728e-05\n",
      "  2.7067876e-05  4.8425998e-05], sr=16000 as keyword args. From version 0.10 passing these as positional arguments will result in an error\n",
      "C:\\Users\\yutan\\anaconda3\\envs\\tensorflow\\lib\\site-packages\\ipykernel_launcher.py:41: FutureWarning: Pass y=[-0.00106812 -0.00228882 -0.00100708 ...  0.00018311  0.00030518\n",
      " -0.00079346], sr=16000 as keyword args. From version 0.10 passing these as positional arguments will result in an error\n",
      "C:\\Users\\yutan\\anaconda3\\envs\\tensorflow\\lib\\site-packages\\ipykernel_launcher.py:41: FutureWarning: Pass y=[-0.01669312 -0.01574707 -0.00881958 ...  0.00015259  0.00106812\n",
      " -0.00201416], sr=16000 as keyword args. From version 0.10 passing these as positional arguments will result in an error\n",
      "C:\\Users\\yutan\\anaconda3\\envs\\tensorflow\\lib\\site-packages\\ipykernel_launcher.py:41: FutureWarning: Pass y=[ 2.1112093e-05  3.2741398e-05  2.5853891e-05 ... -3.6720488e-05\n",
      "  8.8272582e-06 -6.4499977e-06], sr=16000 as keyword args. From version 0.10 passing these as positional arguments will result in an error\n",
      "C:\\Users\\yutan\\anaconda3\\envs\\tensorflow\\lib\\site-packages\\ipykernel_launcher.py:41: FutureWarning: Pass y=[-9.1890637e-05 -6.9610243e-05 -4.9080620e-05 ...  2.1234337e-04\n",
      "  3.8410153e-04  2.5004786e-04], sr=16000 as keyword args. From version 0.10 passing these as positional arguments will result in an error\n",
      "C:\\Users\\yutan\\anaconda3\\envs\\tensorflow\\lib\\site-packages\\ipykernel_launcher.py:41: FutureWarning: Pass y=[ 0.01617432  0.01147461  0.00418091 ... -0.00085449  0.00164795\n",
      " -0.00161743], sr=16000 as keyword args. From version 0.10 passing these as positional arguments will result in an error\n",
      "C:\\Users\\yutan\\anaconda3\\envs\\tensorflow\\lib\\site-packages\\ipykernel_launcher.py:41: FutureWarning: Pass y=[-3.4790039e-03 -3.0517578e-05  2.1362305e-04 ... -1.7700195e-03\n",
      "  9.1552734e-05  3.3569336e-04], sr=16000 as keyword args. From version 0.10 passing these as positional arguments will result in an error\n",
      "C:\\Users\\yutan\\anaconda3\\envs\\tensorflow\\lib\\site-packages\\ipykernel_launcher.py:41: FutureWarning: Pass y=[-9.7397628e-05 -3.3694072e-04  1.7550329e-04 ... -2.5238389e-05\n",
      " -9.3048020e-06 -1.9443323e-05], sr=16000 as keyword args. From version 0.10 passing these as positional arguments will result in an error\n",
      "C:\\Users\\yutan\\anaconda3\\envs\\tensorflow\\lib\\site-packages\\ipykernel_launcher.py:41: FutureWarning: Pass y=[ 0.00039673 -0.00057983  0.00030518 ...  0.00057983  0.00042725\n",
      " -0.00054932], sr=16000 as keyword args. From version 0.10 passing these as positional arguments will result in an error\n",
      "C:\\Users\\yutan\\anaconda3\\envs\\tensorflow\\lib\\site-packages\\ipykernel_launcher.py:41: FutureWarning: Pass y=[-9.5520020e-03 -1.2908936e-02 -9.6130371e-03 ... -7.9345703e-04\n",
      "  6.1035156e-05  2.7465820e-04], sr=16000 as keyword args. From version 0.10 passing these as positional arguments will result in an error\n",
      "C:\\Users\\yutan\\anaconda3\\envs\\tensorflow\\lib\\site-packages\\ipykernel_launcher.py:41: FutureWarning: Pass y=[1.3732910e-03 3.3569336e-04 1.6784668e-03 ... 9.1552734e-05 4.8828125e-04\n",
      " 0.0000000e+00], sr=16000 as keyword args. From version 0.10 passing these as positional arguments will result in an error\n"
     ]
    },
    {
     "name": "stderr",
     "output_type": "stream",
     "text": [
      "C:\\Users\\yutan\\anaconda3\\envs\\tensorflow\\lib\\site-packages\\ipykernel_launcher.py:41: FutureWarning: Pass y=[-3.0517578e-05  0.0000000e+00  0.0000000e+00 ... -6.1035156e-05\n",
      "  3.0517578e-04 -2.7465820e-04], sr=16000 as keyword args. From version 0.10 passing these as positional arguments will result in an error\n",
      "C:\\Users\\yutan\\anaconda3\\envs\\tensorflow\\lib\\site-packages\\ipykernel_launcher.py:41: FutureWarning: Pass y=[-3.5098467e-06  1.5552987e-05  3.3004730e-05 ... -3.4987796e-05\n",
      " -5.0195904e-05  2.1890719e-05], sr=16000 as keyword args. From version 0.10 passing these as positional arguments will result in an error\n",
      "C:\\Users\\yutan\\anaconda3\\envs\\tensorflow\\lib\\site-packages\\ipykernel_launcher.py:41: FutureWarning: Pass y=[-0.01452637 -0.02172852 -0.0211792  ...  0.0007019  -0.00015259\n",
      " -0.00109863], sr=16000 as keyword args. From version 0.10 passing these as positional arguments will result in an error\n",
      "C:\\Users\\yutan\\anaconda3\\envs\\tensorflow\\lib\\site-packages\\ipykernel_launcher.py:41: FutureWarning: Pass y=[ 0.00082397  0.00170898  0.00128174 ...  0.00164795  0.0010376\n",
      " -0.0007019 ], sr=16000 as keyword args. From version 0.10 passing these as positional arguments will result in an error\n",
      "C:\\Users\\yutan\\anaconda3\\envs\\tensorflow\\lib\\site-packages\\ipykernel_launcher.py:41: FutureWarning: Pass y=[ 1.3824463e-02  2.6794434e-02  3.5888672e-02 ...  0.0000000e+00\n",
      " -1.2207031e-04  6.1035156e-05], sr=16000 as keyword args. From version 0.10 passing these as positional arguments will result in an error\n",
      "C:\\Users\\yutan\\anaconda3\\envs\\tensorflow\\lib\\site-packages\\ipykernel_launcher.py:41: FutureWarning: Pass y=[ 0.00109618  0.00108     0.00091094 ... -0.01202689 -0.01248335\n",
      " -0.0133513 ], sr=16000 as keyword args. From version 0.10 passing these as positional arguments will result in an error\n",
      "C:\\Users\\yutan\\anaconda3\\envs\\tensorflow\\lib\\site-packages\\ipykernel_launcher.py:41: FutureWarning: Pass y=[-0.0953064  -0.07733154 -0.06445312 ...  0.00115967 -0.0012207\n",
      " -0.00091553], sr=16000 as keyword args. From version 0.10 passing these as positional arguments will result in an error\n",
      "C:\\Users\\yutan\\anaconda3\\envs\\tensorflow\\lib\\site-packages\\ipykernel_launcher.py:41: FutureWarning: Pass y=[-6.1035156e-05 -3.0517578e-05 -6.1035156e-05 ... -1.2207031e-04\n",
      " -9.1552734e-05 -6.1035156e-05], sr=16000 as keyword args. From version 0.10 passing these as positional arguments will result in an error\n",
      "C:\\Users\\yutan\\anaconda3\\envs\\tensorflow\\lib\\site-packages\\ipykernel_launcher.py:41: FutureWarning: Pass y=[-3.0517578e-05  0.0000000e+00  0.0000000e+00 ...  7.9345703e-04\n",
      "  1.1596680e-03  3.3569336e-04], sr=16000 as keyword args. From version 0.10 passing these as positional arguments will result in an error\n",
      "C:\\Users\\yutan\\anaconda3\\envs\\tensorflow\\lib\\site-packages\\ipykernel_launcher.py:41: FutureWarning: Pass y=[-9.7656250e-04 -1.8310547e-03  1.1596680e-03 ... -9.1552734e-05\n",
      " -3.0517578e-05 -6.1035156e-05], sr=16000 as keyword args. From version 0.10 passing these as positional arguments will result in an error\n",
      "C:\\Users\\yutan\\anaconda3\\envs\\tensorflow\\lib\\site-packages\\ipykernel_launcher.py:41: FutureWarning: Pass y=[-0.00018311  0.00170898 -0.00076294 ...  0.00021362 -0.00079346\n",
      "  0.00146484], sr=16000 as keyword args. From version 0.10 passing these as positional arguments will result in an error\n",
      "C:\\Users\\yutan\\anaconda3\\envs\\tensorflow\\lib\\site-packages\\ipykernel_launcher.py:41: FutureWarning: Pass y=[ 9.1552734e-05 -1.4953613e-03  3.3569336e-04 ... -3.3569336e-04\n",
      " -1.8005371e-03  1.2817383e-03], sr=16000 as keyword args. From version 0.10 passing these as positional arguments will result in an error\n",
      "C:\\Users\\yutan\\anaconda3\\envs\\tensorflow\\lib\\site-packages\\ipykernel_launcher.py:41: FutureWarning: Pass y=[-6.1035156e-05 -3.0517578e-05 -6.1035156e-05 ... -1.5258789e-04\n",
      " -1.8310547e-04 -1.8310547e-04], sr=16000 as keyword args. From version 0.10 passing these as positional arguments will result in an error\n",
      "C:\\Users\\yutan\\anaconda3\\envs\\tensorflow\\lib\\site-packages\\ipykernel_launcher.py:41: FutureWarning: Pass y=[ 0.02490234  0.02679443  0.02642822 ... -0.00042725  0.00033569\n",
      "  0.00073242], sr=16000 as keyword args. From version 0.10 passing these as positional arguments will result in an error\n",
      "C:\\Users\\yutan\\anaconda3\\envs\\tensorflow\\lib\\site-packages\\ipykernel_launcher.py:41: FutureWarning: Pass y=[-2.0371092e-05 -3.2812801e-05 -3.3085780e-05 ... -8.3265741e-06\n",
      "  1.3868566e-05  3.6499394e-05], sr=16000 as keyword args. From version 0.10 passing these as positional arguments will result in an error\n",
      "C:\\Users\\yutan\\anaconda3\\envs\\tensorflow\\lib\\site-packages\\ipykernel_launcher.py:41: FutureWarning: Pass y=[ 6.5293962e-06  1.4341742e-05  3.4446457e-05 ...  4.8603670e-05\n",
      " -4.7388685e-06  5.3846379e-05], sr=16000 as keyword args. From version 0.10 passing these as positional arguments will result in an error\n",
      "C:\\Users\\yutan\\anaconda3\\envs\\tensorflow\\lib\\site-packages\\ipykernel_launcher.py:41: FutureWarning: Pass y=[-6.1035156e-05  3.0517578e-05  6.1035156e-05 ...  2.7465820e-04\n",
      " -3.9672852e-04  3.0517578e-05], sr=16000 as keyword args. From version 0.10 passing these as positional arguments will result in an error\n",
      "C:\\Users\\yutan\\anaconda3\\envs\\tensorflow\\lib\\site-packages\\ipykernel_launcher.py:41: FutureWarning: Pass y=[ 0.00131226  0.00021362 -0.00033569 ...  0.00457764  0.00479126\n",
      "  0.0062561 ], sr=16000 as keyword args. From version 0.10 passing these as positional arguments will result in an error\n",
      "C:\\Users\\yutan\\anaconda3\\envs\\tensorflow\\lib\\site-packages\\ipykernel_launcher.py:41: FutureWarning: Pass y=[ 1.0070801e-03 -6.1035156e-05  1.0681152e-03 ... -7.3242188e-04\n",
      " -5.4931641e-04 -1.8310547e-04], sr=16000 as keyword args. From version 0.10 passing these as positional arguments will result in an error\n",
      "C:\\Users\\yutan\\anaconda3\\envs\\tensorflow\\lib\\site-packages\\ipykernel_launcher.py:41: FutureWarning: Pass y=[-3.8870279e-05  8.0706741e-07  2.7162097e-05 ... -3.5573258e-03\n",
      " -3.6752445e-03 -3.5017910e-03], sr=16000 as keyword args. From version 0.10 passing these as positional arguments will result in an error\n",
      "C:\\Users\\yutan\\anaconda3\\envs\\tensorflow\\lib\\site-packages\\ipykernel_launcher.py:41: FutureWarning: Pass y=[-0.02389526 -0.0145874  -0.01742554 ...  0.00076294 -0.00054932\n",
      " -0.00054932], sr=16000 as keyword args. From version 0.10 passing these as positional arguments will result in an error\n",
      "C:\\Users\\yutan\\anaconda3\\envs\\tensorflow\\lib\\site-packages\\ipykernel_launcher.py:41: FutureWarning: Pass y=[-8.1542814e-05 -1.0851971e-04 -1.2934719e-04 ... -3.0103281e-06\n",
      "  4.2409697e-06 -1.4164243e-05], sr=16000 as keyword args. From version 0.10 passing these as positional arguments will result in an error\n",
      "C:\\Users\\yutan\\anaconda3\\envs\\tensorflow\\lib\\site-packages\\ipykernel_launcher.py:41: FutureWarning: Pass y=[-0.00140381 -0.00054932  0.00115967 ...  0.0012207   0.00024414\n",
      "  0.0007019 ], sr=16000 as keyword args. From version 0.10 passing these as positional arguments will result in an error\n",
      "C:\\Users\\yutan\\anaconda3\\envs\\tensorflow\\lib\\site-packages\\ipykernel_launcher.py:41: FutureWarning: Pass y=[ 0.0000000e+00  0.0000000e+00 -6.1035156e-05 ... -3.0517578e-05\n",
      " -6.1035156e-05 -3.0517578e-05], sr=16000 as keyword args. From version 0.10 passing these as positional arguments will result in an error\n",
      "C:\\Users\\yutan\\anaconda3\\envs\\tensorflow\\lib\\site-packages\\ipykernel_launcher.py:41: FutureWarning: Pass y=[ 0.0000000e+00  3.0517578e-05  3.0517578e-05 ...  2.7465820e-04\n",
      " -1.5258789e-04 -3.0517578e-05], sr=16000 as keyword args. From version 0.10 passing these as positional arguments will result in an error\n",
      "C:\\Users\\yutan\\anaconda3\\envs\\tensorflow\\lib\\site-packages\\ipykernel_launcher.py:41: FutureWarning: Pass y=[ 0.00076294 -0.00088501 -0.00039673 ...  0.00326538  0.0038147\n",
      "  0.00265503], sr=16000 as keyword args. From version 0.10 passing these as positional arguments will result in an error\n",
      "C:\\Users\\yutan\\anaconda3\\envs\\tensorflow\\lib\\site-packages\\ipykernel_launcher.py:41: FutureWarning: Pass y=[-3.0517578e-05 -3.0517578e-05  3.0517578e-05 ... -1.8310547e-04\n",
      "  0.0000000e+00  1.5869141e-03], sr=16000 as keyword args. From version 0.10 passing these as positional arguments will result in an error\n"
     ]
    },
    {
     "name": "stderr",
     "output_type": "stream",
     "text": [
      "C:\\Users\\yutan\\anaconda3\\envs\\tensorflow\\lib\\site-packages\\ipykernel_launcher.py:41: FutureWarning: Pass y=[-9.4007101e-04 -1.0853119e-03 -1.1647739e-03 ... -9.9755736e-05\n",
      " -1.1723875e-04 -9.7917728e-05], sr=16000 as keyword args. From version 0.10 passing these as positional arguments will result in an error\n",
      "C:\\Users\\yutan\\anaconda3\\envs\\tensorflow\\lib\\site-packages\\ipykernel_launcher.py:41: FutureWarning: Pass y=[-3.0517578e-05 -6.1035156e-05 -3.0517578e-05 ... -6.1035156e-05\n",
      " -6.1035156e-05 -3.0517578e-05], sr=16000 as keyword args. From version 0.10 passing these as positional arguments will result in an error\n",
      "C:\\Users\\yutan\\anaconda3\\envs\\tensorflow\\lib\\site-packages\\ipykernel_launcher.py:41: FutureWarning: Pass y=[-5.0244789e-06  3.6491550e-05  6.5810797e-05 ...  2.7854582e-03\n",
      "  2.4805365e-03  2.2111754e-03], sr=16000 as keyword args. From version 0.10 passing these as positional arguments will result in an error\n",
      "C:\\Users\\yutan\\anaconda3\\envs\\tensorflow\\lib\\site-packages\\ipykernel_launcher.py:41: FutureWarning: Pass y=[ 0.01370239 -0.0145874  -0.04043579 ... -0.00018311  0.00015259\n",
      "  0.00064087], sr=16000 as keyword args. From version 0.10 passing these as positional arguments will result in an error\n",
      "C:\\Users\\yutan\\anaconda3\\envs\\tensorflow\\lib\\site-packages\\ipykernel_launcher.py:41: FutureWarning: Pass y=[-3.0517578e-05 -6.1035156e-05 -3.0517578e-05 ... -6.1035156e-05\n",
      " -3.0517578e-05  1.2207031e-04], sr=16000 as keyword args. From version 0.10 passing these as positional arguments will result in an error\n",
      "C:\\Users\\yutan\\anaconda3\\envs\\tensorflow\\lib\\site-packages\\ipykernel_launcher.py:41: FutureWarning: Pass y=[-4.0440514e-06  1.0180772e-05  3.1132397e-05 ... -1.7233748e-05\n",
      " -5.7222675e-05 -1.9419285e-06], sr=16000 as keyword args. From version 0.10 passing these as positional arguments will result in an error\n",
      "C:\\Users\\yutan\\anaconda3\\envs\\tensorflow\\lib\\site-packages\\ipykernel_launcher.py:41: FutureWarning: Pass y=[ 0.00674438  0.01028442  0.00588989 ...  0.00143433 -0.00042725\n",
      "  0.00012207], sr=16000 as keyword args. From version 0.10 passing these as positional arguments will result in an error\n",
      "C:\\Users\\yutan\\anaconda3\\envs\\tensorflow\\lib\\site-packages\\ipykernel_launcher.py:41: FutureWarning: Pass y=[-5.9297654e-06  1.2957813e-05 -4.5414713e-06 ... -2.3804932e-05\n",
      "  1.0896164e-05  2.7802189e-05], sr=16000 as keyword args. From version 0.10 passing these as positional arguments will result in an error\n",
      "C:\\Users\\yutan\\anaconda3\\envs\\tensorflow\\lib\\site-packages\\ipykernel_launcher.py:41: FutureWarning: Pass y=[ 0.00421143  0.00180054 -0.00024414 ... -0.00033569  0.00018311\n",
      "  0.00042725], sr=16000 as keyword args. From version 0.10 passing these as positional arguments will result in an error\n",
      "C:\\Users\\yutan\\anaconda3\\envs\\tensorflow\\lib\\site-packages\\ipykernel_launcher.py:41: FutureWarning: Pass y=[-2.3090715e-05 -3.2374483e-05 -3.0527641e-05 ... -6.4301727e-05\n",
      " -5.8653553e-05 -6.4303880e-05], sr=16000 as keyword args. From version 0.10 passing these as positional arguments will result in an error\n",
      "C:\\Users\\yutan\\anaconda3\\envs\\tensorflow\\lib\\site-packages\\ipykernel_launcher.py:41: FutureWarning: Pass y=[-0.00119019 -0.0007019   0.00112915 ...  0.00247192  0.00067139\n",
      " -0.00109863], sr=16000 as keyword args. From version 0.10 passing these as positional arguments will result in an error\n",
      "C:\\Users\\yutan\\anaconda3\\envs\\tensorflow\\lib\\site-packages\\ipykernel_launcher.py:41: FutureWarning: Pass y=[-3.0517578e-05 -3.0517578e-05 -3.0517578e-05 ...  0.0000000e+00\n",
      " -1.5258789e-04  6.1035156e-05], sr=16000 as keyword args. From version 0.10 passing these as positional arguments will result in an error\n",
      "C:\\Users\\yutan\\anaconda3\\envs\\tensorflow\\lib\\site-packages\\ipykernel_launcher.py:41: FutureWarning: Pass y=[-0.00082397  0.0017395   0.00045776 ...  0.00024414  0.00143433\n",
      " -0.00131226], sr=16000 as keyword args. From version 0.10 passing these as positional arguments will result in an error\n",
      "C:\\Users\\yutan\\anaconda3\\envs\\tensorflow\\lib\\site-packages\\ipykernel_launcher.py:41: FutureWarning: Pass y=[-1.0070801e-03  6.7138672e-04  5.4931641e-04 ... -8.2397461e-04\n",
      " -9.1552734e-05 -5.7983398e-04], sr=16000 as keyword args. From version 0.10 passing these as positional arguments will result in an error\n",
      "C:\\Users\\yutan\\anaconda3\\envs\\tensorflow\\lib\\site-packages\\ipykernel_launcher.py:41: FutureWarning: Pass y=[-1.50645965e-05 -3.88297740e-05  4.77342019e-06 ...  1.98395242e-06\n",
      " -8.16604370e-07  1.08624512e-07], sr=16000 as keyword args. From version 0.10 passing these as positional arguments will result in an error\n",
      "C:\\Users\\yutan\\anaconda3\\envs\\tensorflow\\lib\\site-packages\\ipykernel_launcher.py:41: FutureWarning: Pass y=[-3.0517578e-05 -1.1901855e-03  6.1035156e-05 ...  1.7395020e-03\n",
      "  2.7465820e-04 -2.4414062e-04], sr=16000 as keyword args. From version 0.10 passing these as positional arguments will result in an error\n",
      "C:\\Users\\yutan\\anaconda3\\envs\\tensorflow\\lib\\site-packages\\ipykernel_launcher.py:41: FutureWarning: Pass y=[-3.0517578e-05 -3.0517578e-05 -6.1035156e-05 ...  3.0517578e-05\n",
      "  3.0517578e-05  0.0000000e+00], sr=16000 as keyword args. From version 0.10 passing these as positional arguments will result in an error\n",
      "C:\\Users\\yutan\\anaconda3\\envs\\tensorflow\\lib\\site-packages\\ipykernel_launcher.py:41: FutureWarning: Pass y=[-0.01416016 -0.02185059 -0.02062988 ... -0.00018311  0.00012207\n",
      " -0.00140381], sr=16000 as keyword args. From version 0.10 passing these as positional arguments will result in an error\n",
      "C:\\Users\\yutan\\anaconda3\\envs\\tensorflow\\lib\\site-packages\\ipykernel_launcher.py:41: FutureWarning: Pass y=[-1.66625977e-02 -1.32751465e-02 -2.83813477e-03 ... -9.15527344e-05\n",
      "  1.22070312e-04 -6.10351562e-05], sr=16000 as keyword args. From version 0.10 passing these as positional arguments will result in an error\n",
      "C:\\Users\\yutan\\anaconda3\\envs\\tensorflow\\lib\\site-packages\\ipykernel_launcher.py:41: FutureWarning: Pass y=[-0.00082397 -0.00061035 -0.00015259 ... -0.00109863  0.00109863\n",
      " -0.00140381], sr=16000 as keyword args. From version 0.10 passing these as positional arguments will result in an error\n",
      "C:\\Users\\yutan\\anaconda3\\envs\\tensorflow\\lib\\site-packages\\ipykernel_launcher.py:41: FutureWarning: Pass y=[ 0.00018311 -0.00057983  0.00036621 ...  0.00161743  0.00137329\n",
      " -0.00015259], sr=16000 as keyword args. From version 0.10 passing these as positional arguments will result in an error\n",
      "C:\\Users\\yutan\\anaconda3\\envs\\tensorflow\\lib\\site-packages\\ipykernel_launcher.py:41: FutureWarning: Pass y=[ 0.00906372  0.00894165  0.01071167 ... -0.00082397 -0.00030518\n",
      " -0.00061035], sr=16000 as keyword args. From version 0.10 passing these as positional arguments will result in an error\n",
      "C:\\Users\\yutan\\anaconda3\\envs\\tensorflow\\lib\\site-packages\\ipykernel_launcher.py:41: FutureWarning: Pass y=[-1.4650356e-05  4.1857747e-06 -4.6110990e-06 ...  7.3501992e-04\n",
      "  7.3525292e-04  7.6406298e-04], sr=16000 as keyword args. From version 0.10 passing these as positional arguments will result in an error\n",
      "C:\\Users\\yutan\\anaconda3\\envs\\tensorflow\\lib\\site-packages\\ipykernel_launcher.py:41: FutureWarning: Pass y=[-1.2207031e-04 -9.1552734e-05 -9.1552734e-05 ... -2.1362305e-04\n",
      " -2.4414062e-04 -2.7465820e-04], sr=16000 as keyword args. From version 0.10 passing these as positional arguments will result in an error\n",
      "C:\\Users\\yutan\\anaconda3\\envs\\tensorflow\\lib\\site-packages\\ipykernel_launcher.py:41: FutureWarning: Pass y=[-0.0199585  -0.02246094 -0.02438354 ... -0.00012207 -0.00024414\n",
      "  0.00012207], sr=16000 as keyword args. From version 0.10 passing these as positional arguments will result in an error\n",
      "C:\\Users\\yutan\\anaconda3\\envs\\tensorflow\\lib\\site-packages\\ipykernel_launcher.py:41: FutureWarning: Pass y=[3.8353643e-05 3.3028457e-05 5.5892044e-05 ... 2.7239827e-05 3.8926941e-05\n",
      " 5.7405206e-05], sr=16000 as keyword args. From version 0.10 passing these as positional arguments will result in an error\n",
      "C:\\Users\\yutan\\anaconda3\\envs\\tensorflow\\lib\\site-packages\\ipykernel_launcher.py:41: FutureWarning: Pass y=[ 0.0000000e+00  0.0000000e+00 -3.0517578e-05 ... -9.1552734e-05\n",
      " -6.1035156e-05 -3.0517578e-05], sr=16000 as keyword args. From version 0.10 passing these as positional arguments will result in an error\n",
      "C:\\Users\\yutan\\anaconda3\\envs\\tensorflow\\lib\\site-packages\\ipykernel_launcher.py:41: FutureWarning: Pass y=[ 0.00189209 -0.00064087  0.0005188  ... -0.00033569  0.00021362\n",
      "  0.00183105], sr=16000 as keyword args. From version 0.10 passing these as positional arguments will result in an error\n",
      "C:\\Users\\yutan\\anaconda3\\envs\\tensorflow\\lib\\site-packages\\ipykernel_launcher.py:41: FutureWarning: Pass y=[ 0.08099365  0.06106567  0.03683472 ...  0.00030518  0.00045776\n",
      " -0.00021362], sr=16000 as keyword args. From version 0.10 passing these as positional arguments will result in an error\n",
      "C:\\Users\\yutan\\anaconda3\\envs\\tensorflow\\lib\\site-packages\\ipykernel_launcher.py:41: FutureWarning: Pass y=[0.         0.         0.         ... 0.00027466 0.00109863 0.00140381], sr=16000 as keyword args. From version 0.10 passing these as positional arguments will result in an error\n"
     ]
    },
    {
     "name": "stderr",
     "output_type": "stream",
     "text": [
      "C:\\Users\\yutan\\anaconda3\\envs\\tensorflow\\lib\\site-packages\\ipykernel_launcher.py:41: FutureWarning: Pass y=[ 0.06096057  0.04348496  0.03057063 ...  0.00041781 -0.00864156\n",
      " -0.00133432], sr=16000 as keyword args. From version 0.10 passing these as positional arguments will result in an error\n",
      "C:\\Users\\yutan\\anaconda3\\envs\\tensorflow\\lib\\site-packages\\ipykernel_launcher.py:41: FutureWarning: Pass y=[-9.1552734e-05  0.0000000e+00  3.0517578e-05 ... -3.5705566e-03\n",
      " -3.5095215e-03 -3.3874512e-03], sr=16000 as keyword args. From version 0.10 passing these as positional arguments will result in an error\n",
      "C:\\Users\\yutan\\anaconda3\\envs\\tensorflow\\lib\\site-packages\\ipykernel_launcher.py:41: FutureWarning: Pass y=[-6.1035156e-05 -3.0517578e-05 -6.1035156e-05 ...  0.0000000e+00\n",
      "  0.0000000e+00  0.0000000e+00], sr=16000 as keyword args. From version 0.10 passing these as positional arguments will result in an error\n",
      "C:\\Users\\yutan\\anaconda3\\envs\\tensorflow\\lib\\site-packages\\ipykernel_launcher.py:41: FutureWarning: Pass y=[-1.12795915e-05 -5.83746150e-05 -2.11200086e-06 ... -1.68454877e-04\n",
      " -1.17061201e-04 -7.68568643e-05], sr=16000 as keyword args. From version 0.10 passing these as positional arguments will result in an error\n",
      "C:\\Users\\yutan\\anaconda3\\envs\\tensorflow\\lib\\site-packages\\ipykernel_launcher.py:41: FutureWarning: Pass y=[ 0.00079346 -0.00045776  0.00024414 ... -0.00021362 -0.00045776\n",
      "  0.00054932], sr=16000 as keyword args. From version 0.10 passing these as positional arguments will result in an error\n",
      "C:\\Users\\yutan\\anaconda3\\envs\\tensorflow\\lib\\site-packages\\ipykernel_launcher.py:41: FutureWarning: Pass y=[-2.5299072e-02 -2.3223877e-02 -2.6062012e-02 ...  2.4414062e-04\n",
      "  3.0517578e-04 -9.1552734e-05], sr=16000 as keyword args. From version 0.10 passing these as positional arguments will result in an error\n",
      "C:\\Users\\yutan\\anaconda3\\envs\\tensorflow\\lib\\site-packages\\ipykernel_launcher.py:41: FutureWarning: Pass y=[ 3.3640779e-05 -6.8009649e-07  7.0318270e-06 ... -1.0347943e-05\n",
      "  3.3257289e-05  2.8671768e-05], sr=16000 as keyword args. From version 0.10 passing these as positional arguments will result in an error\n",
      "C:\\Users\\yutan\\anaconda3\\envs\\tensorflow\\lib\\site-packages\\ipykernel_launcher.py:41: FutureWarning: Pass y=[-3.0517578e-05 -6.1035156e-05 -6.1035156e-05 ...  0.0000000e+00\n",
      "  0.0000000e+00 -3.0517578e-05], sr=16000 as keyword args. From version 0.10 passing these as positional arguments will result in an error\n",
      "C:\\Users\\yutan\\anaconda3\\envs\\tensorflow\\lib\\site-packages\\ipykernel_launcher.py:41: FutureWarning: Pass y=[ 5.6274715e-05  4.1595536e-05  2.4771178e-05 ... -1.8891870e-03\n",
      " -1.9306011e-03 -2.0117930e-03], sr=16000 as keyword args. From version 0.10 passing these as positional arguments will result in an error\n",
      "C:\\Users\\yutan\\anaconda3\\envs\\tensorflow\\lib\\site-packages\\ipykernel_launcher.py:41: FutureWarning: Pass y=[ 0.00030518 -0.00073242 -0.00109863 ...  0.00027466  0.00082397\n",
      " -0.00042725], sr=16000 as keyword args. From version 0.10 passing these as positional arguments will result in an error\n",
      "C:\\Users\\yutan\\anaconda3\\envs\\tensorflow\\lib\\site-packages\\ipykernel_launcher.py:41: FutureWarning: Pass y=[-2.7404785e-02 -2.4536133e-02 -1.9836426e-02 ...  6.7138672e-04\n",
      "  3.0517578e-05 -3.6621094e-04], sr=16000 as keyword args. From version 0.10 passing these as positional arguments will result in an error\n",
      "C:\\Users\\yutan\\anaconda3\\envs\\tensorflow\\lib\\site-packages\\ipykernel_launcher.py:41: FutureWarning: Pass y=[-0.00985718 -0.00698853 -0.00436401 ... -0.00112915  0.00125122\n",
      "  0.00061035], sr=16000 as keyword args. From version 0.10 passing these as positional arguments will result in an error\n",
      "C:\\Users\\yutan\\anaconda3\\envs\\tensorflow\\lib\\site-packages\\ipykernel_launcher.py:41: FutureWarning: Pass y=[-3.0517578e-05 -3.0517578e-05  0.0000000e+00 ...  5.4931641e-04\n",
      "  5.7983398e-04  5.4931641e-04], sr=16000 as keyword args. From version 0.10 passing these as positional arguments will result in an error\n",
      "C:\\Users\\yutan\\anaconda3\\envs\\tensorflow\\lib\\site-packages\\ipykernel_launcher.py:41: FutureWarning: Pass y=[ 1.2207031e-04 -2.6855469e-03 -1.0314941e-02 ... -1.3122559e-03\n",
      " -6.1035156e-05  1.2512207e-03], sr=16000 as keyword args. From version 0.10 passing these as positional arguments will result in an error\n",
      "C:\\Users\\yutan\\anaconda3\\envs\\tensorflow\\lib\\site-packages\\ipykernel_launcher.py:41: FutureWarning: Pass y=[ 0.01229858  0.01150513  0.01177979 ... -0.00115967 -0.00057983\n",
      "  0.00012207], sr=16000 as keyword args. From version 0.10 passing these as positional arguments will result in an error\n",
      "C:\\Users\\yutan\\anaconda3\\envs\\tensorflow\\lib\\site-packages\\ipykernel_launcher.py:41: FutureWarning: Pass y=[-2.4652527e-06  3.0659015e-05  1.6465709e-05 ... -5.9418927e-04\n",
      " -6.5976125e-04 -7.4847520e-04], sr=16000 as keyword args. From version 0.10 passing these as positional arguments will result in an error\n",
      "C:\\Users\\yutan\\anaconda3\\envs\\tensorflow\\lib\\site-packages\\ipykernel_launcher.py:41: FutureWarning: Pass y=[-2.2163631e-04 -1.7957437e-04 -1.5532672e-04 ... -2.0961455e-05\n",
      " -1.5104038e-05 -4.3371645e-05], sr=16000 as keyword args. From version 0.10 passing these as positional arguments will result in an error\n",
      "C:\\Users\\yutan\\anaconda3\\envs\\tensorflow\\lib\\site-packages\\ipykernel_launcher.py:41: FutureWarning: Pass y=[ 0.00030518  0.          0.00064087 ...  0.00064087 -0.00012207\n",
      "  0.00027466], sr=16000 as keyword args. From version 0.10 passing these as positional arguments will result in an error\n",
      "C:\\Users\\yutan\\anaconda3\\envs\\tensorflow\\lib\\site-packages\\ipykernel_launcher.py:41: FutureWarning: Pass y=[-0.00262451  0.00097656  0.00091553 ... -0.00015259  0.00088501\n",
      " -0.00088501], sr=16000 as keyword args. From version 0.10 passing these as positional arguments will result in an error\n",
      "C:\\Users\\yutan\\anaconda3\\envs\\tensorflow\\lib\\site-packages\\ipykernel_launcher.py:41: FutureWarning: Pass y=[-3.0517578e-05 -3.0517578e-05  0.0000000e+00 ...  2.7465820e-04\n",
      "  2.7465820e-04  3.0517578e-04], sr=16000 as keyword args. From version 0.10 passing these as positional arguments will result in an error\n",
      "C:\\Users\\yutan\\anaconda3\\envs\\tensorflow\\lib\\site-packages\\ipykernel_launcher.py:41: FutureWarning: Pass y=[ 3.1150092e-05 -3.7556812e-05  1.2319845e-05 ...  4.4949284e-05\n",
      " -1.2039545e-05  3.0606490e-05], sr=16000 as keyword args. From version 0.10 passing these as positional arguments will result in an error\n",
      "C:\\Users\\yutan\\anaconda3\\envs\\tensorflow\\lib\\site-packages\\ipykernel_launcher.py:41: FutureWarning: Pass y=[-1.0742559e-03 -1.0837545e-03 -9.2689041e-04 ... -8.5424334e-05\n",
      "  1.5718386e-05  7.7248296e-05], sr=16000 as keyword args. From version 0.10 passing these as positional arguments will result in an error\n",
      "C:\\Users\\yutan\\anaconda3\\envs\\tensorflow\\lib\\site-packages\\ipykernel_launcher.py:41: FutureWarning: Pass y=[ 1.3122559e-02  2.6947021e-02  2.5299072e-02 ...  9.1552734e-05\n",
      "  4.2724609e-04 -3.0517578e-04], sr=16000 as keyword args. From version 0.10 passing these as positional arguments will result in an error\n",
      "C:\\Users\\yutan\\anaconda3\\envs\\tensorflow\\lib\\site-packages\\ipykernel_launcher.py:41: FutureWarning: Pass y=[-1.3183594e-02 -3.0273438e-02 -5.4992676e-02 ... -9.1552734e-05\n",
      " -7.0190430e-04  1.2207031e-03], sr=16000 as keyword args. From version 0.10 passing these as positional arguments will result in an error\n",
      "C:\\Users\\yutan\\anaconda3\\envs\\tensorflow\\lib\\site-packages\\ipykernel_launcher.py:41: FutureWarning: Pass y=[ 1.9958496e-02  2.6855469e-02  2.5970459e-02 ...  2.1362305e-04\n",
      " -3.0517578e-05  2.1362305e-04], sr=16000 as keyword args. From version 0.10 passing these as positional arguments will result in an error\n",
      "C:\\Users\\yutan\\anaconda3\\envs\\tensorflow\\lib\\site-packages\\ipykernel_launcher.py:41: FutureWarning: Pass y=[ 0.00057983  0.00018311  0.00189209 ... -0.00085449 -0.00036621\n",
      " -0.00109863], sr=16000 as keyword args. From version 0.10 passing these as positional arguments will result in an error\n",
      "C:\\Users\\yutan\\anaconda3\\envs\\tensorflow\\lib\\site-packages\\ipykernel_launcher.py:41: FutureWarning: Pass y=[-0.00119019 -0.00262451  0.00085449 ...  0.00140381 -0.00067139\n",
      "  0.00033569], sr=16000 as keyword args. From version 0.10 passing these as positional arguments will result in an error\n",
      "C:\\Users\\yutan\\anaconda3\\envs\\tensorflow\\lib\\site-packages\\ipykernel_launcher.py:41: FutureWarning: Pass y=[-0.00015259 -0.00018311  0.00036621 ... -0.00079346  0.00048828\n",
      " -0.00125122], sr=16000 as keyword args. From version 0.10 passing these as positional arguments will result in an error\n",
      "C:\\Users\\yutan\\anaconda3\\envs\\tensorflow\\lib\\site-packages\\ipykernel_launcher.py:41: FutureWarning: Pass y=[-6.1035156e-05 -3.0517578e-05 -6.1035156e-05 ... -3.0517578e-05\n",
      " -6.1035156e-05 -3.0517578e-05], sr=16000 as keyword args. From version 0.10 passing these as positional arguments will result in an error\n",
      "C:\\Users\\yutan\\anaconda3\\envs\\tensorflow\\lib\\site-packages\\ipykernel_launcher.py:41: FutureWarning: Pass y=[-0.00115967  0.00021362 -0.00177002 ...  0.00180054  0.00128174\n",
      "  0.00234985], sr=16000 as keyword args. From version 0.10 passing these as positional arguments will result in an error\n",
      "C:\\Users\\yutan\\anaconda3\\envs\\tensorflow\\lib\\site-packages\\ipykernel_launcher.py:41: FutureWarning: Pass y=[ 0.00033569  0.00018311 -0.00100708 ...  0.00125122  0.00128174\n",
      " -0.00018311], sr=16000 as keyword args. From version 0.10 passing these as positional arguments will result in an error\n"
     ]
    },
    {
     "name": "stderr",
     "output_type": "stream",
     "text": [
      "C:\\Users\\yutan\\anaconda3\\envs\\tensorflow\\lib\\site-packages\\ipykernel_launcher.py:41: FutureWarning: Pass y=[0.         0.00085449 0.00048828 ... 0.00030518 0.00085449 0.00210571], sr=16000 as keyword args. From version 0.10 passing these as positional arguments will result in an error\n",
      "C:\\Users\\yutan\\anaconda3\\envs\\tensorflow\\lib\\site-packages\\ipykernel_launcher.py:41: FutureWarning: Pass y=[ 9.4604492e-04  9.4604492e-04  9.1552734e-05 ... -1.3122559e-03\n",
      "  3.0517578e-05 -7.0190430e-04], sr=16000 as keyword args. From version 0.10 passing these as positional arguments will result in an error\n",
      "C:\\Users\\yutan\\anaconda3\\envs\\tensorflow\\lib\\site-packages\\ipykernel_launcher.py:41: FutureWarning: Pass y=[ 0.00115967 -0.00149536 -0.00057983 ...  0.00195312 -0.00079346\n",
      " -0.0007019 ], sr=16000 as keyword args. From version 0.10 passing these as positional arguments will result in an error\n",
      "C:\\Users\\yutan\\anaconda3\\envs\\tensorflow\\lib\\site-packages\\ipykernel_launcher.py:41: FutureWarning: Pass y=[-3.8718013e-06 -8.0908276e-06 -2.6390671e-05 ... -3.7804517e-04\n",
      " -2.3504226e-05 -5.3155428e-04], sr=16000 as keyword args. From version 0.10 passing these as positional arguments will result in an error\n",
      "C:\\Users\\yutan\\anaconda3\\envs\\tensorflow\\lib\\site-packages\\ipykernel_launcher.py:41: FutureWarning: Pass y=[ 1.0571185e-03 -6.8815616e-03 -1.4941155e-02 ...  2.0005098e-06\n",
      " -2.0348680e-06  2.0292714e-06], sr=16000 as keyword args. From version 0.10 passing these as positional arguments will result in an error\n",
      "C:\\Users\\yutan\\anaconda3\\envs\\tensorflow\\lib\\site-packages\\ipykernel_launcher.py:41: FutureWarning: Pass y=[ 0.00177002 -0.0007019  -0.00149536 ...  0.00064087 -0.00170898\n",
      "  0.0015564 ], sr=16000 as keyword args. From version 0.10 passing these as positional arguments will result in an error\n",
      "C:\\Users\\yutan\\anaconda3\\envs\\tensorflow\\lib\\site-packages\\ipykernel_launcher.py:41: FutureWarning: Pass y=[-3.0517578e-05 -3.0517578e-05  3.0517578e-05 ... -1.2207031e-03\n",
      " -1.2207031e-03 -1.2207031e-03], sr=16000 as keyword args. From version 0.10 passing these as positional arguments will result in an error\n",
      "C:\\Users\\yutan\\anaconda3\\envs\\tensorflow\\lib\\site-packages\\ipykernel_launcher.py:41: FutureWarning: Pass y=[-3.0517578e-05  0.0000000e+00 -3.0517578e-05 ...  3.0517578e-05\n",
      "  3.0517578e-05 -6.1035156e-05], sr=16000 as keyword args. From version 0.10 passing these as positional arguments will result in an error\n",
      "C:\\Users\\yutan\\anaconda3\\envs\\tensorflow\\lib\\site-packages\\ipykernel_launcher.py:41: FutureWarning: Pass y=[ 8.0464710e-04  1.2884238e-03  6.7255518e-04 ... -8.8375826e-05\n",
      " -1.2091106e-04 -8.9208239e-05], sr=16000 as keyword args. From version 0.10 passing these as positional arguments will result in an error\n",
      "C:\\Users\\yutan\\anaconda3\\envs\\tensorflow\\lib\\site-packages\\ipykernel_launcher.py:41: FutureWarning: Pass y=[ 2.0080097e-05  3.0625222e-05  3.2204825e-05 ... -7.2770886e-04\n",
      " -6.5261754e-04 -5.9902883e-04], sr=16000 as keyword args. From version 0.10 passing these as positional arguments will result in an error\n",
      "C:\\Users\\yutan\\anaconda3\\envs\\tensorflow\\lib\\site-packages\\ipykernel_launcher.py:41: FutureWarning: Pass y=[-3.0517578e-05  0.0000000e+00 -3.0517578e-05 ...  4.5776367e-04\n",
      " -1.9836426e-03 -3.6315918e-03], sr=16000 as keyword args. From version 0.10 passing these as positional arguments will result in an error\n",
      "C:\\Users\\yutan\\anaconda3\\envs\\tensorflow\\lib\\site-packages\\ipykernel_launcher.py:41: FutureWarning: Pass y=[ 0.04901123  0.02416992 -0.01153564 ...  0.00048828  0.00244141\n",
      " -0.00170898], sr=16000 as keyword args. From version 0.10 passing these as positional arguments will result in an error\n",
      "C:\\Users\\yutan\\anaconda3\\envs\\tensorflow\\lib\\site-packages\\ipykernel_launcher.py:41: FutureWarning: Pass y=[-0.00140381 -0.00112915  0.00137329 ...  0.00015259  0.00048828\n",
      " -0.00164795], sr=16000 as keyword args. From version 0.10 passing these as positional arguments will result in an error\n",
      "C:\\Users\\yutan\\anaconda3\\envs\\tensorflow\\lib\\site-packages\\ipykernel_launcher.py:41: FutureWarning: Pass y=[-9.1552734e-05  3.9672852e-04  2.4719238e-03 ...  0.0000000e+00\n",
      " -7.3242188e-04 -1.2207031e-04], sr=16000 as keyword args. From version 0.10 passing these as positional arguments will result in an error\n",
      "C:\\Users\\yutan\\anaconda3\\envs\\tensorflow\\lib\\site-packages\\ipykernel_launcher.py:41: FutureWarning: Pass y=[ 0.0000000e+00 -3.0517578e-05 -3.0517578e-05 ...  2.0446777e-03\n",
      "  1.7700195e-03  1.4953613e-03], sr=16000 as keyword args. From version 0.10 passing these as positional arguments will result in an error\n",
      "C:\\Users\\yutan\\anaconda3\\envs\\tensorflow\\lib\\site-packages\\ipykernel_launcher.py:41: FutureWarning: Pass y=[-5.6457520e-02 -6.0913086e-02 -5.2642822e-02 ...  3.0517578e-05\n",
      "  6.1035156e-05  6.1035156e-05], sr=16000 as keyword args. From version 0.10 passing these as positional arguments will result in an error\n",
      "C:\\Users\\yutan\\anaconda3\\envs\\tensorflow\\lib\\site-packages\\ipykernel_launcher.py:41: FutureWarning: Pass y=[ 0.00018311  0.00079346  0.0005188  ... -0.00054932 -0.00161743\n",
      "  0.0007019 ], sr=16000 as keyword args. From version 0.10 passing these as positional arguments will result in an error\n",
      "C:\\Users\\yutan\\anaconda3\\envs\\tensorflow\\lib\\site-packages\\ipykernel_launcher.py:41: FutureWarning: Pass y=[-2.3803711e-03 -1.0070801e-03 -3.0517578e-05 ...  1.8920898e-03\n",
      " -1.1596680e-03  1.5869141e-03], sr=16000 as keyword args. From version 0.10 passing these as positional arguments will result in an error\n",
      "C:\\Users\\yutan\\anaconda3\\envs\\tensorflow\\lib\\site-packages\\ipykernel_launcher.py:41: FutureWarning: Pass y=[-0.00079346  0.00091553  0.0012207  ... -0.00061035 -0.00042725\n",
      "  0.00244141], sr=16000 as keyword args. From version 0.10 passing these as positional arguments will result in an error\n",
      "C:\\Users\\yutan\\anaconda3\\envs\\tensorflow\\lib\\site-packages\\ipykernel_launcher.py:41: FutureWarning: Pass y=[ 0.00064087  0.00115967  0.00131226 ... -0.00082397 -0.00079346\n",
      " -0.00152588], sr=16000 as keyword args. From version 0.10 passing these as positional arguments will result in an error\n",
      "C:\\Users\\yutan\\anaconda3\\envs\\tensorflow\\lib\\site-packages\\ipykernel_launcher.py:41: FutureWarning: Pass y=[-0.01205444 -0.01318359 -0.01742554 ...  0.00033569  0.00048828\n",
      "  0.00067139], sr=16000 as keyword args. From version 0.10 passing these as positional arguments will result in an error\n",
      "C:\\Users\\yutan\\anaconda3\\envs\\tensorflow\\lib\\site-packages\\ipykernel_launcher.py:41: FutureWarning: Pass y=[-1.35984495e-02 -1.44657344e-02 -1.83832385e-02 ...  1.52349949e-05\n",
      "  1.60345095e-04  2.30663204e-06], sr=16000 as keyword args. From version 0.10 passing these as positional arguments will result in an error\n",
      "C:\\Users\\yutan\\anaconda3\\envs\\tensorflow\\lib\\site-packages\\ipykernel_launcher.py:41: FutureWarning: Pass y=[ 4.7906524e-05  2.4901932e-05  3.6708214e-05 ... -3.2098396e-05\n",
      " -1.6016591e-06 -3.4700531e-06], sr=16000 as keyword args. From version 0.10 passing these as positional arguments will result in an error\n",
      "C:\\Users\\yutan\\anaconda3\\envs\\tensorflow\\lib\\site-packages\\ipykernel_launcher.py:41: FutureWarning: Pass y=[ 0.0715332   0.08163452  0.0770874  ... -0.0005188  -0.00076294\n",
      "  0.0007019 ], sr=16000 as keyword args. From version 0.10 passing these as positional arguments will result in an error\n",
      "C:\\Users\\yutan\\anaconda3\\envs\\tensorflow\\lib\\site-packages\\ipykernel_launcher.py:41: FutureWarning: Pass y=[3.0517578e-05 0.0000000e+00 0.0000000e+00 ... 1.2207031e-04 1.5258789e-04\n",
      " 1.2207031e-04], sr=16000 as keyword args. From version 0.10 passing these as positional arguments will result in an error\n",
      "C:\\Users\\yutan\\anaconda3\\envs\\tensorflow\\lib\\site-packages\\ipykernel_launcher.py:41: FutureWarning: Pass y=[-6.1040417e-05 -9.5580224e-05 -1.0053523e-04 ...  6.0863214e-05\n",
      "  6.1157327e-05  6.1926003e-05], sr=16000 as keyword args. From version 0.10 passing these as positional arguments will result in an error\n",
      "C:\\Users\\yutan\\anaconda3\\envs\\tensorflow\\lib\\site-packages\\ipykernel_launcher.py:41: FutureWarning: Pass y=[-0.06185913 -0.10443115 -0.12106323 ...  0.00064087  0.00131226\n",
      "  0.00012207], sr=16000 as keyword args. From version 0.10 passing these as positional arguments will result in an error\n",
      "C:\\Users\\yutan\\anaconda3\\envs\\tensorflow\\lib\\site-packages\\ipykernel_launcher.py:41: FutureWarning: Pass y=[-3.9672852e-04  4.2114258e-03  8.6975098e-03 ...  9.1552734e-05\n",
      " -1.5258789e-04 -1.0070801e-03], sr=16000 as keyword args. From version 0.10 passing these as positional arguments will result in an error\n"
     ]
    },
    {
     "name": "stderr",
     "output_type": "stream",
     "text": [
      "C:\\Users\\yutan\\anaconda3\\envs\\tensorflow\\lib\\site-packages\\ipykernel_launcher.py:41: FutureWarning: Pass y=[-7.8366320e-06 -2.7450757e-05  2.5986947e-06 ... -1.9395163e-03\n",
      " -1.8396267e-03 -2.4520787e-03], sr=16000 as keyword args. From version 0.10 passing these as positional arguments will result in an error\n",
      "C:\\Users\\yutan\\anaconda3\\envs\\tensorflow\\lib\\site-packages\\ipykernel_launcher.py:41: FutureWarning: Pass y=[ 7.9345703e-04 -1.4953613e-03 -5.1879883e-04 ... -1.2817383e-03\n",
      " -3.0517578e-05  7.3242188e-04], sr=16000 as keyword args. From version 0.10 passing these as positional arguments will result in an error\n",
      "C:\\Users\\yutan\\anaconda3\\envs\\tensorflow\\lib\\site-packages\\ipykernel_launcher.py:41: FutureWarning: Pass y=[ 0.00076294 -0.00073242 -0.00085449 ...  0.00076294  0.00158691\n",
      "  0.00067139], sr=16000 as keyword args. From version 0.10 passing these as positional arguments will result in an error\n",
      "C:\\Users\\yutan\\anaconda3\\envs\\tensorflow\\lib\\site-packages\\ipykernel_launcher.py:41: FutureWarning: Pass y=[-3.0517578e-05 -3.0517578e-05  0.0000000e+00 ...  3.0517578e-05\n",
      "  0.0000000e+00  3.0517578e-05], sr=16000 as keyword args. From version 0.10 passing these as positional arguments will result in an error\n",
      "C:\\Users\\yutan\\anaconda3\\envs\\tensorflow\\lib\\site-packages\\ipykernel_launcher.py:41: FutureWarning: Pass y=[-3.0517578e-05  0.0000000e+00 -3.0517578e-05 ...  3.0517578e-05\n",
      "  0.0000000e+00 -3.0517578e-05], sr=16000 as keyword args. From version 0.10 passing these as positional arguments will result in an error\n",
      "C:\\Users\\yutan\\anaconda3\\envs\\tensorflow\\lib\\site-packages\\ipykernel_launcher.py:41: FutureWarning: Pass y=[ 0.00302124  0.00363159  0.00332642 ...  0.00106812  0.00146484\n",
      " -0.00061035], sr=16000 as keyword args. From version 0.10 passing these as positional arguments will result in an error\n",
      "C:\\Users\\yutan\\anaconda3\\envs\\tensorflow\\lib\\site-packages\\ipykernel_launcher.py:41: FutureWarning: Pass y=[-0.02426147 -0.04129028 -0.05117798 ... -0.00128174 -0.00027466\n",
      "  0.0007019 ], sr=16000 as keyword args. From version 0.10 passing these as positional arguments will result in an error\n",
      "C:\\Users\\yutan\\anaconda3\\envs\\tensorflow\\lib\\site-packages\\ipykernel_launcher.py:41: FutureWarning: Pass y=[ 3.8858348e-06 -1.4110301e-05 -5.3472409e-05 ...  7.4921438e-05\n",
      "  7.7385354e-05  9.3611074e-05], sr=16000 as keyword args. From version 0.10 passing these as positional arguments will result in an error\n",
      "C:\\Users\\yutan\\anaconda3\\envs\\tensorflow\\lib\\site-packages\\ipykernel_launcher.py:41: FutureWarning: Pass y=[ 3.4484863e-03  1.6174316e-03  4.5776367e-04 ... -6.1035156e-05\n",
      " -6.1035156e-05  0.0000000e+00], sr=16000 as keyword args. From version 0.10 passing these as positional arguments will result in an error\n",
      "C:\\Users\\yutan\\anaconda3\\envs\\tensorflow\\lib\\site-packages\\ipykernel_launcher.py:41: FutureWarning: Pass y=[ 0.00744629  0.00784302  0.00546265 ...  0.00088501 -0.00027466\n",
      " -0.00079346], sr=16000 as keyword args. From version 0.10 passing these as positional arguments will result in an error\n",
      "C:\\Users\\yutan\\anaconda3\\envs\\tensorflow\\lib\\site-packages\\ipykernel_launcher.py:41: FutureWarning: Pass y=[ 3.0517578e-05 -3.0517578e-05  0.0000000e+00 ... -3.0517578e-05\n",
      "  0.0000000e+00  0.0000000e+00], sr=16000 as keyword args. From version 0.10 passing these as positional arguments will result in an error\n",
      "C:\\Users\\yutan\\anaconda3\\envs\\tensorflow\\lib\\site-packages\\ipykernel_launcher.py:41: FutureWarning: Pass y=[ 0.00036621  0.0007019  -0.00054932 ...  0.00024414  0.00115967\n",
      "  0.00057983], sr=16000 as keyword args. From version 0.10 passing these as positional arguments will result in an error\n",
      "C:\\Users\\yutan\\anaconda3\\envs\\tensorflow\\lib\\site-packages\\ipykernel_launcher.py:41: FutureWarning: Pass y=[ 9.1552734e-05  3.3569336e-04 -1.8310547e-04 ...  0.0000000e+00\n",
      "  0.0000000e+00  0.0000000e+00], sr=16000 as keyword args. From version 0.10 passing these as positional arguments will result in an error\n",
      "C:\\Users\\yutan\\anaconda3\\envs\\tensorflow\\lib\\site-packages\\ipykernel_launcher.py:41: FutureWarning: Pass y=[ 1.3205930e-05  8.1674461e-06 -6.4969754e-06 ...  7.1781201e-06\n",
      "  8.1141998e-06 -1.0179091e-05], sr=16000 as keyword args. From version 0.10 passing these as positional arguments will result in an error\n",
      "C:\\Users\\yutan\\anaconda3\\envs\\tensorflow\\lib\\site-packages\\ipykernel_launcher.py:41: FutureWarning: Pass y=[ 0.00057983 -0.00033569 -0.00027466 ...  0.0010376  -0.00137329\n",
      " -0.00112915], sr=16000 as keyword args. From version 0.10 passing these as positional arguments will result in an error\n",
      "C:\\Users\\yutan\\anaconda3\\envs\\tensorflow\\lib\\site-packages\\ipykernel_launcher.py:41: FutureWarning: Pass y=[-1.5606576e-05  9.7025259e-07  2.3013969e-07 ...  1.7475108e-05\n",
      "  5.0177032e-06  3.5897639e-05], sr=16000 as keyword args. From version 0.10 passing these as positional arguments will result in an error\n",
      "C:\\Users\\yutan\\anaconda3\\envs\\tensorflow\\lib\\site-packages\\ipykernel_launcher.py:41: FutureWarning: Pass y=[ 8.1962608e-06 -2.6911524e-05 -3.2708489e-05 ...  2.7764434e-04\n",
      " -3.8275850e-04  4.0590487e-05], sr=16000 as keyword args. From version 0.10 passing these as positional arguments will result in an error\n",
      "C:\\Users\\yutan\\anaconda3\\envs\\tensorflow\\lib\\site-packages\\ipykernel_launcher.py:41: FutureWarning: Pass y=[ 5.5527067e-05  1.7852402e-05 -3.2495675e-05 ... -2.3504945e-05\n",
      " -3.7601811e-05 -2.1724758e-05], sr=16000 as keyword args. From version 0.10 passing these as positional arguments will result in an error\n",
      "C:\\Users\\yutan\\anaconda3\\envs\\tensorflow\\lib\\site-packages\\ipykernel_launcher.py:41: FutureWarning: Pass y=[ 0.0000000e+00 -3.0517578e-05 -6.1035156e-05 ... -9.1552734e-05\n",
      "  3.0517578e-05  6.1035156e-05], sr=16000 as keyword args. From version 0.10 passing these as positional arguments will result in an error\n",
      "C:\\Users\\yutan\\anaconda3\\envs\\tensorflow\\lib\\site-packages\\ipykernel_launcher.py:41: FutureWarning: Pass y=[-3.0043151e-05 -3.0739709e-05 -3.0831256e-05 ... -4.0992287e-05\n",
      " -9.3826609e-05 -6.6095068e-05], sr=16000 as keyword args. From version 0.10 passing these as positional arguments will result in an error\n",
      "C:\\Users\\yutan\\anaconda3\\envs\\tensorflow\\lib\\site-packages\\ipykernel_launcher.py:41: FutureWarning: Pass y=[ 0.0000000e+00  0.0000000e+00 -3.0517578e-05 ... -4.2114258e-03\n",
      " -2.4414062e-03 -4.5166016e-03], sr=16000 as keyword args. From version 0.10 passing these as positional arguments will result in an error\n",
      "C:\\Users\\yutan\\anaconda3\\envs\\tensorflow\\lib\\site-packages\\ipykernel_launcher.py:41: FutureWarning: Pass y=[-2.1362305e-04 -9.1552734e-05 -9.1552734e-04 ...  1.3122559e-03\n",
      " -3.9672852e-04  1.3122559e-03], sr=16000 as keyword args. From version 0.10 passing these as positional arguments will result in an error\n",
      "C:\\Users\\yutan\\anaconda3\\envs\\tensorflow\\lib\\site-packages\\ipykernel_launcher.py:41: FutureWarning: Pass y=[-1.17850730e-04 -1.14888935e-04 -9.42028710e-05 ...  1.70958388e-04\n",
      " -1.33134585e-04 -1.94644181e-05], sr=16000 as keyword args. From version 0.10 passing these as positional arguments will result in an error\n",
      "C:\\Users\\yutan\\anaconda3\\envs\\tensorflow\\lib\\site-packages\\ipykernel_launcher.py:41: FutureWarning: Pass y=[-1.8721048e-05 -4.7907229e-06 -2.6557545e-05 ...  1.4597189e-03\n",
      "  1.8072973e-03  2.1017173e-03], sr=16000 as keyword args. From version 0.10 passing these as positional arguments will result in an error\n",
      "C:\\Users\\yutan\\anaconda3\\envs\\tensorflow\\lib\\site-packages\\ipykernel_launcher.py:41: FutureWarning: Pass y=[ 0.0000000e+00  9.1552734e-05  0.0000000e+00 ...  0.0000000e+00\n",
      " -3.0517578e-05  0.0000000e+00], sr=16000 as keyword args. From version 0.10 passing these as positional arguments will result in an error\n",
      "C:\\Users\\yutan\\anaconda3\\envs\\tensorflow\\lib\\site-packages\\ipykernel_launcher.py:41: FutureWarning: Pass y=[-0.00064087 -0.00128174 -0.00106812 ... -0.00024414 -0.00024414\n",
      "  0.        ], sr=16000 as keyword args. From version 0.10 passing these as positional arguments will result in an error\n",
      "C:\\Users\\yutan\\anaconda3\\envs\\tensorflow\\lib\\site-packages\\ipykernel_launcher.py:41: FutureWarning: Pass y=[-3.0517578e-05  0.0000000e+00 -3.0517578e-05 ... -9.1552734e-05\n",
      " -6.1035156e-05 -9.1552734e-05], sr=16000 as keyword args. From version 0.10 passing these as positional arguments will result in an error\n",
      "C:\\Users\\yutan\\anaconda3\\envs\\tensorflow\\lib\\site-packages\\ipykernel_launcher.py:41: FutureWarning: Pass y=[ 0.00024414  0.00106812 -0.00027466 ... -0.00012207 -0.00100708\n",
      " -0.00030518], sr=16000 as keyword args. From version 0.10 passing these as positional arguments will result in an error\n"
     ]
    },
    {
     "name": "stderr",
     "output_type": "stream",
     "text": [
      "C:\\Users\\yutan\\anaconda3\\envs\\tensorflow\\lib\\site-packages\\ipykernel_launcher.py:41: FutureWarning: Pass y=[-6.7231857e-05 -1.2614821e-05  2.7526818e-05 ... -6.1316961e-05\n",
      " -6.8969150e-08 -3.5213168e-06], sr=16000 as keyword args. From version 0.10 passing these as positional arguments will result in an error\n",
      "C:\\Users\\yutan\\anaconda3\\envs\\tensorflow\\lib\\site-packages\\ipykernel_launcher.py:41: FutureWarning: Pass y=[ 3.0517578e-05  3.0517578e-05  6.1035156e-05 ... -6.1035156e-05\n",
      " -3.0517578e-05 -6.1035156e-05], sr=16000 as keyword args. From version 0.10 passing these as positional arguments will result in an error\n",
      "C:\\Users\\yutan\\anaconda3\\envs\\tensorflow\\lib\\site-packages\\ipykernel_launcher.py:41: FutureWarning: Pass y=[ 3.0517578e-05  4.5776367e-04  1.0070801e-03 ... -9.1552734e-05\n",
      " -2.1362305e-04  1.1291504e-03], sr=16000 as keyword args. From version 0.10 passing these as positional arguments will result in an error\n",
      "C:\\Users\\yutan\\anaconda3\\envs\\tensorflow\\lib\\site-packages\\ipykernel_launcher.py:41: FutureWarning: Pass y=[ 0.006073    0.02731323  0.04550171 ... -0.00061035  0.\n",
      "  0.00030518], sr=16000 as keyword args. From version 0.10 passing these as positional arguments will result in an error\n",
      "C:\\Users\\yutan\\anaconda3\\envs\\tensorflow\\lib\\site-packages\\ipykernel_launcher.py:41: FutureWarning: Pass y=[ 3.9758575e-05  3.1037147e-05  2.9110670e-05 ... -1.0094559e-04\n",
      " -6.3952291e-05 -7.9918747e-05], sr=16000 as keyword args. From version 0.10 passing these as positional arguments will result in an error\n",
      "C:\\Users\\yutan\\anaconda3\\envs\\tensorflow\\lib\\site-packages\\ipykernel_launcher.py:41: FutureWarning: Pass y=[ 2.9511599e-05  3.1831682e-05  2.9337596e-05 ...  3.5877678e-05\n",
      "  1.4985470e-05 -1.4106302e-04], sr=16000 as keyword args. From version 0.10 passing these as positional arguments will result in an error\n",
      "C:\\Users\\yutan\\anaconda3\\envs\\tensorflow\\lib\\site-packages\\ipykernel_launcher.py:41: FutureWarning: Pass y=[ 1.7395020e-02  1.5502930e-02  7.9956055e-03 ... -6.1035156e-05\n",
      " -4.2724609e-04  0.0000000e+00], sr=16000 as keyword args. From version 0.10 passing these as positional arguments will result in an error\n",
      "C:\\Users\\yutan\\anaconda3\\envs\\tensorflow\\lib\\site-packages\\ipykernel_launcher.py:41: FutureWarning: Pass y=[-2.0111084e-02 -1.5655518e-02 -1.3763428e-02 ... -4.5776367e-04\n",
      " -6.1035156e-05  9.4604492e-04], sr=16000 as keyword args. From version 0.10 passing these as positional arguments will result in an error\n",
      "C:\\Users\\yutan\\anaconda3\\envs\\tensorflow\\lib\\site-packages\\ipykernel_launcher.py:41: FutureWarning: Pass y=[-1.4728857e-05 -2.9140077e-05 -5.6000736e-05 ... -6.3721227e-06\n",
      "  8.6529872e-06  2.0513231e-05], sr=16000 as keyword args. From version 0.10 passing these as positional arguments will result in an error\n",
      "C:\\Users\\yutan\\anaconda3\\envs\\tensorflow\\lib\\site-packages\\ipykernel_launcher.py:41: FutureWarning: Pass y=[-1.0831078e-04 -9.9006218e-05 -1.2617075e-04 ... -4.0483908e-05\n",
      " -5.7184585e-05  8.7895330e-08], sr=16000 as keyword args. From version 0.10 passing these as positional arguments will result in an error\n",
      "C:\\Users\\yutan\\anaconda3\\envs\\tensorflow\\lib\\site-packages\\ipykernel_launcher.py:41: FutureWarning: Pass y=[ 0.0005188   0.00042725  0.00012207 ... -0.00021362  0.00027466\n",
      "  0.00039673], sr=16000 as keyword args. From version 0.10 passing these as positional arguments will result in an error\n",
      "C:\\Users\\yutan\\anaconda3\\envs\\tensorflow\\lib\\site-packages\\ipykernel_launcher.py:41: FutureWarning: Pass y=[ 0.00280762  0.00274658  0.00256348 ...  0.00057983 -0.00021362\n",
      "  0.00015259], sr=16000 as keyword args. From version 0.10 passing these as positional arguments will result in an error\n",
      "C:\\Users\\yutan\\anaconda3\\envs\\tensorflow\\lib\\site-packages\\ipykernel_launcher.py:41: FutureWarning: Pass y=[-0.00213623  0.00042725  0.00283813 ... -0.00015259  0.00027466\n",
      " -0.00030518], sr=16000 as keyword args. From version 0.10 passing these as positional arguments will result in an error\n",
      "C:\\Users\\yutan\\anaconda3\\envs\\tensorflow\\lib\\site-packages\\ipykernel_launcher.py:41: FutureWarning: Pass y=[-2.4283374e-05 -6.2954600e-06 -2.2104716e-05 ... -5.5003277e-04\n",
      " -5.6589651e-04 -5.8365113e-04], sr=16000 as keyword args. From version 0.10 passing these as positional arguments will result in an error\n",
      "C:\\Users\\yutan\\anaconda3\\envs\\tensorflow\\lib\\site-packages\\ipykernel_launcher.py:41: FutureWarning: Pass y=[ 0.02304077  0.02655029  0.02319336 ... -0.00057983 -0.00021362\n",
      "  0.00027466], sr=16000 as keyword args. From version 0.10 passing these as positional arguments will result in an error\n",
      "C:\\Users\\yutan\\anaconda3\\envs\\tensorflow\\lib\\site-packages\\ipykernel_launcher.py:41: FutureWarning: Pass y=[ 3.0517578e-05  3.0517578e-05  0.0000000e+00 ... -6.1035156e-05\n",
      " -9.1552734e-05 -9.1552734e-05], sr=16000 as keyword args. From version 0.10 passing these as positional arguments will result in an error\n",
      "C:\\Users\\yutan\\anaconda3\\envs\\tensorflow\\lib\\site-packages\\ipykernel_launcher.py:41: FutureWarning: Pass y=[ 0.06939697  0.07876587  0.0760498  ... -0.00036621  0.00085449\n",
      " -0.00079346], sr=16000 as keyword args. From version 0.10 passing these as positional arguments will result in an error\n",
      "C:\\Users\\yutan\\anaconda3\\envs\\tensorflow\\lib\\site-packages\\ipykernel_launcher.py:41: FutureWarning: Pass y=[ 1.8310547e-04 -4.8828125e-04  9.1552734e-05 ...  5.0354004e-03\n",
      "  5.7373047e-03  6.3476562e-03], sr=16000 as keyword args. From version 0.10 passing these as positional arguments will result in an error\n",
      "C:\\Users\\yutan\\anaconda3\\envs\\tensorflow\\lib\\site-packages\\ipykernel_launcher.py:41: FutureWarning: Pass y=[-3.0517578e-05  0.0000000e+00 -3.0517578e-05 ... -3.0517578e-05\n",
      " -6.1035156e-05 -1.2207031e-04], sr=16000 as keyword args. From version 0.10 passing these as positional arguments will result in an error\n",
      "C:\\Users\\yutan\\anaconda3\\envs\\tensorflow\\lib\\site-packages\\ipykernel_launcher.py:41: FutureWarning: Pass y=[ 8.1182261e-06 -1.3333121e-05  2.1096039e-06 ... -2.7975379e-05\n",
      "  5.9312902e-06 -4.6856690e-05], sr=16000 as keyword args. From version 0.10 passing these as positional arguments will result in an error\n",
      "C:\\Users\\yutan\\anaconda3\\envs\\tensorflow\\lib\\site-packages\\ipykernel_launcher.py:41: FutureWarning: Pass y=[-3.0517578e-05 -3.0517578e-05 -3.0517578e-05 ... -3.0517578e-05\n",
      " -3.0517578e-05  0.0000000e+00], sr=16000 as keyword args. From version 0.10 passing these as positional arguments will result in an error\n",
      "C:\\Users\\yutan\\anaconda3\\envs\\tensorflow\\lib\\site-packages\\ipykernel_launcher.py:41: FutureWarning: Pass y=[-0.01663208 -0.01696777 -0.01062012 ...  0.00161743 -0.00152588\n",
      "  0.00073242], sr=16000 as keyword args. From version 0.10 passing these as positional arguments will result in an error\n",
      "C:\\Users\\yutan\\anaconda3\\envs\\tensorflow\\lib\\site-packages\\ipykernel_launcher.py:41: FutureWarning: Pass y=[-2.1924127e-03 -4.9480877e-04  2.1795451e-03 ... -8.6036191e-05\n",
      " -9.0295478e-05 -1.1208783e-04], sr=16000 as keyword args. From version 0.10 passing these as positional arguments will result in an error\n",
      "C:\\Users\\yutan\\anaconda3\\envs\\tensorflow\\lib\\site-packages\\ipykernel_launcher.py:41: FutureWarning: Pass y=[-8.0270685e-05 -4.2365168e-06  1.1586628e-04 ... -1.7968318e-04\n",
      "  6.6735745e-05  1.2822611e-04], sr=16000 as keyword args. From version 0.10 passing these as positional arguments will result in an error\n",
      "C:\\Users\\yutan\\anaconda3\\envs\\tensorflow\\lib\\site-packages\\ipykernel_launcher.py:41: FutureWarning: Pass y=[ 2.5091509e-05 -1.1881132e-05  3.3826622e-05 ... -3.4057401e-05\n",
      " -2.9271338e-05 -4.4751341e-06], sr=16000 as keyword args. From version 0.10 passing these as positional arguments will result in an error\n",
      "C:\\Users\\yutan\\anaconda3\\envs\\tensorflow\\lib\\site-packages\\ipykernel_launcher.py:41: FutureWarning: Pass y=[ 9.1552734e-05  9.1552734e-05  1.2207031e-04 ...  3.0517578e-05\n",
      "  3.0517578e-05 -3.0517578e-05], sr=16000 as keyword args. From version 0.10 passing these as positional arguments will result in an error\n",
      "C:\\Users\\yutan\\anaconda3\\envs\\tensorflow\\lib\\site-packages\\ipykernel_launcher.py:41: FutureWarning: Pass y=[-0.02560425 -0.01000977  0.0138855  ...  0.00201416  0.00036621\n",
      " -0.00039673], sr=16000 as keyword args. From version 0.10 passing these as positional arguments will result in an error\n",
      "C:\\Users\\yutan\\anaconda3\\envs\\tensorflow\\lib\\site-packages\\ipykernel_launcher.py:41: FutureWarning: Pass y=[-0.00128174  0.00018311 -0.00091553 ...  0.00115967 -0.00021362\n",
      "  0.00177002], sr=16000 as keyword args. From version 0.10 passing these as positional arguments will result in an error\n"
     ]
    },
    {
     "name": "stderr",
     "output_type": "stream",
     "text": [
      "C:\\Users\\yutan\\anaconda3\\envs\\tensorflow\\lib\\site-packages\\ipykernel_launcher.py:41: FutureWarning: Pass y=[ 8.5390030e-07 -2.3443301e-06  1.8867468e-05 ... -7.2123017e-05\n",
      " -4.0109552e-04 -3.4769246e-04], sr=16000 as keyword args. From version 0.10 passing these as positional arguments will result in an error\n",
      "C:\\Users\\yutan\\anaconda3\\envs\\tensorflow\\lib\\site-packages\\ipykernel_launcher.py:41: FutureWarning: Pass y=[ 6.1035156e-05 -5.7067871e-03 -1.2451172e-02 ... -1.4953613e-03\n",
      "  1.3427734e-03  1.2207031e-03], sr=16000 as keyword args. From version 0.10 passing these as positional arguments will result in an error\n",
      "C:\\Users\\yutan\\anaconda3\\envs\\tensorflow\\lib\\site-packages\\ipykernel_launcher.py:41: FutureWarning: Pass y=[ 1.1596680e-03 -3.0517578e-05 -3.0517578e-04 ... -2.1667480e-03\n",
      " -1.4343262e-03 -1.0070801e-03], sr=16000 as keyword args. From version 0.10 passing these as positional arguments will result in an error\n",
      "C:\\Users\\yutan\\anaconda3\\envs\\tensorflow\\lib\\site-packages\\ipykernel_launcher.py:41: FutureWarning: Pass y=[-0.00369263 -0.0007019   0.00115967 ...  0.00109863 -0.00027466\n",
      " -0.00061035], sr=16000 as keyword args. From version 0.10 passing these as positional arguments will result in an error\n",
      "C:\\Users\\yutan\\anaconda3\\envs\\tensorflow\\lib\\site-packages\\ipykernel_launcher.py:41: FutureWarning: Pass y=[-0.01193237 -0.00338745  0.00387573 ...  0.00045776 -0.00082397\n",
      " -0.00177002], sr=16000 as keyword args. From version 0.10 passing these as positional arguments will result in an error\n",
      "C:\\Users\\yutan\\anaconda3\\envs\\tensorflow\\lib\\site-packages\\ipykernel_launcher.py:41: FutureWarning: Pass y=[ 3.0517578e-05 -3.0517578e-05 -3.0517578e-05 ...  3.5400391e-03\n",
      "  3.6621094e-03  3.4790039e-03], sr=16000 as keyword args. From version 0.10 passing these as positional arguments will result in an error\n",
      "C:\\Users\\yutan\\anaconda3\\envs\\tensorflow\\lib\\site-packages\\ipykernel_launcher.py:41: FutureWarning: Pass y=[ 0.0000000e+00 -3.0517578e-05 -6.1035156e-05 ...  0.0000000e+00\n",
      "  3.0517578e-05  0.0000000e+00], sr=16000 as keyword args. From version 0.10 passing these as positional arguments will result in an error\n",
      "C:\\Users\\yutan\\anaconda3\\envs\\tensorflow\\lib\\site-packages\\ipykernel_launcher.py:41: FutureWarning: Pass y=[ 3.2057007e-05  2.6807460e-05 -3.5647234e-05 ...  5.7094043e-05\n",
      "  2.7691973e-05  5.3037773e-05], sr=16000 as keyword args. From version 0.10 passing these as positional arguments will result in an error\n",
      "C:\\Users\\yutan\\anaconda3\\envs\\tensorflow\\lib\\site-packages\\ipykernel_launcher.py:41: FutureWarning: Pass y=[-1.8920898e-03  6.1035156e-05  4.8828125e-04 ... -1.6784668e-03\n",
      " -3.0517578e-04 -9.1552734e-05], sr=16000 as keyword args. From version 0.10 passing these as positional arguments will result in an error\n",
      "C:\\Users\\yutan\\anaconda3\\envs\\tensorflow\\lib\\site-packages\\ipykernel_launcher.py:41: FutureWarning: Pass y=[ 6.1035156e-05  0.0000000e+00 -1.2207031e-04 ...  1.5258789e-04\n",
      " -9.1552734e-05 -1.5258789e-04], sr=16000 as keyword args. From version 0.10 passing these as positional arguments will result in an error\n",
      "C:\\Users\\yutan\\anaconda3\\envs\\tensorflow\\lib\\site-packages\\ipykernel_launcher.py:41: FutureWarning: Pass y=[ 6.9781730e-05  7.8028519e-05 -3.2536889e-07 ...  1.6206202e-04\n",
      "  2.0136358e-04  1.9008019e-04], sr=16000 as keyword args. From version 0.10 passing these as positional arguments will result in an error\n",
      "C:\\Users\\yutan\\anaconda3\\envs\\tensorflow\\lib\\site-packages\\ipykernel_launcher.py:41: FutureWarning: Pass y=[-0.00027466  0.0012207   0.00033569 ...  0.         -0.00100708\n",
      " -0.00119019], sr=16000 as keyword args. From version 0.10 passing these as positional arguments will result in an error\n",
      "C:\\Users\\yutan\\anaconda3\\envs\\tensorflow\\lib\\site-packages\\ipykernel_launcher.py:41: FutureWarning: Pass y=[-0.006073    0.00012207  0.00323486 ...  0.00082397 -0.00039673\n",
      " -0.00064087], sr=16000 as keyword args. From version 0.10 passing these as positional arguments will result in an error\n",
      "C:\\Users\\yutan\\anaconda3\\envs\\tensorflow\\lib\\site-packages\\ipykernel_launcher.py:41: FutureWarning: Pass y=[ 2.1057129e-03 -3.0517578e-05 -1.0070801e-03 ...  1.0375977e-03\n",
      "  1.0986328e-03 -2.1362305e-04], sr=16000 as keyword args. From version 0.10 passing these as positional arguments will result in an error\n",
      "C:\\Users\\yutan\\anaconda3\\envs\\tensorflow\\lib\\site-packages\\ipykernel_launcher.py:41: FutureWarning: Pass y=[-7.6904297e-03 -2.2155762e-02 -2.9388428e-02 ... -1.1901855e-03\n",
      "  3.6621094e-04  9.1552734e-05], sr=16000 as keyword args. From version 0.10 passing these as positional arguments will result in an error\n",
      "C:\\Users\\yutan\\anaconda3\\envs\\tensorflow\\lib\\site-packages\\ipykernel_launcher.py:41: FutureWarning: Pass y=[ 1.58544877e-04  1.90349063e-04  1.13304355e-04 ... -3.23963577e-05\n",
      " -2.61269215e-05  1.50052201e-05], sr=16000 as keyword args. From version 0.10 passing these as positional arguments will result in an error\n",
      "C:\\Users\\yutan\\anaconda3\\envs\\tensorflow\\lib\\site-packages\\ipykernel_launcher.py:41: FutureWarning: Pass y=[0.0000000e+00 3.0517578e-05 3.0517578e-05 ... 2.4414062e-04 2.4414062e-04\n",
      " 2.1362305e-04], sr=16000 as keyword args. From version 0.10 passing these as positional arguments will result in an error\n",
      "C:\\Users\\yutan\\anaconda3\\envs\\tensorflow\\lib\\site-packages\\ipykernel_launcher.py:41: FutureWarning: Pass y=[-3.0517578e-05 -3.0517578e-05 -3.0517578e-05 ... -2.4414062e-04\n",
      " -9.1552734e-05  1.2207031e-04], sr=16000 as keyword args. From version 0.10 passing these as positional arguments will result in an error\n",
      "C:\\Users\\yutan\\anaconda3\\envs\\tensorflow\\lib\\site-packages\\ipykernel_launcher.py:41: FutureWarning: Pass y=[-3.0517578e-05 -6.1035156e-05 -6.1035156e-05 ...  7.0190430e-04\n",
      "  6.4086914e-04  5.7983398e-04], sr=16000 as keyword args. From version 0.10 passing these as positional arguments will result in an error\n",
      "C:\\Users\\yutan\\anaconda3\\envs\\tensorflow\\lib\\site-packages\\ipykernel_launcher.py:41: FutureWarning: Pass y=[-8.2397461e-04  2.1362305e-04  6.7138672e-04 ...  3.0517578e-05\n",
      "  1.5258789e-03 -1.0986328e-03], sr=16000 as keyword args. From version 0.10 passing these as positional arguments will result in an error\n",
      "C:\\Users\\yutan\\anaconda3\\envs\\tensorflow\\lib\\site-packages\\ipykernel_launcher.py:41: FutureWarning: Pass y=[ 3.4715540e-05 -3.4131328e-05 -6.4654640e-05 ... -2.9967318e-04\n",
      "  3.9103688e-04 -6.0133218e-05], sr=16000 as keyword args. From version 0.10 passing these as positional arguments will result in an error\n",
      "C:\\Users\\yutan\\anaconda3\\envs\\tensorflow\\lib\\site-packages\\ipykernel_launcher.py:41: FutureWarning: Pass y=[ 3.0517578e-05  3.0517578e-05  6.1035156e-05 ...  0.0000000e+00\n",
      " -3.0517578e-05 -6.1035156e-05], sr=16000 as keyword args. From version 0.10 passing these as positional arguments will result in an error\n",
      "C:\\Users\\yutan\\anaconda3\\envs\\tensorflow\\lib\\site-packages\\ipykernel_launcher.py:41: FutureWarning: Pass y=[-8.06947282e-05 -5.72361387e-05 -7.43170531e-05 ... -1.10272806e-04\n",
      " -4.80647832e-05  3.70342677e-05], sr=16000 as keyword args. From version 0.10 passing these as positional arguments will result in an error\n",
      "C:\\Users\\yutan\\anaconda3\\envs\\tensorflow\\lib\\site-packages\\ipykernel_launcher.py:41: FutureWarning: Pass y=[-3.0517578e-05  0.0000000e+00 -3.0517578e-05 ...  0.0000000e+00\n",
      " -6.1035156e-05  0.0000000e+00], sr=16000 as keyword args. From version 0.10 passing these as positional arguments will result in an error\n",
      "C:\\Users\\yutan\\anaconda3\\envs\\tensorflow\\lib\\site-packages\\ipykernel_launcher.py:41: FutureWarning: Pass y=[ 5.0881940e-06 -3.6946461e-05  1.0935695e-05 ... -1.5743344e-06\n",
      " -2.5255924e-06 -4.0674080e-05], sr=16000 as keyword args. From version 0.10 passing these as positional arguments will result in an error\n",
      "C:\\Users\\yutan\\anaconda3\\envs\\tensorflow\\lib\\site-packages\\ipykernel_launcher.py:41: FutureWarning: Pass y=[ 4.7818071e-07  4.5235229e-06  5.9736169e-05 ... -5.5735301e-05\n",
      " -5.2942294e-05 -2.4186420e-05], sr=16000 as keyword args. From version 0.10 passing these as positional arguments will result in an error\n",
      "C:\\Users\\yutan\\anaconda3\\envs\\tensorflow\\lib\\site-packages\\ipykernel_launcher.py:41: FutureWarning: Pass y=[-0.012146   -0.00888062 -0.00048828 ... -0.0005188   0.00021362\n",
      "  0.00067139], sr=16000 as keyword args. From version 0.10 passing these as positional arguments will result in an error\n"
     ]
    },
    {
     "name": "stderr",
     "output_type": "stream",
     "text": [
      "C:\\Users\\yutan\\anaconda3\\envs\\tensorflow\\lib\\site-packages\\ipykernel_launcher.py:41: FutureWarning: Pass y=[ 3.6839551e-06 -1.7107483e-05 -4.5732755e-05 ...  1.0013624e-02\n",
      "  1.1570403e-02  1.3792728e-02], sr=16000 as keyword args. From version 0.10 passing these as positional arguments will result in an error\n",
      "C:\\Users\\yutan\\anaconda3\\envs\\tensorflow\\lib\\site-packages\\ipykernel_launcher.py:41: FutureWarning: Pass y=[ 4.7819726e-06 -2.0362626e-05 -2.4536503e-06 ...  3.3948931e-05\n",
      "  3.6085348e-05  9.7878517e-05], sr=16000 as keyword args. From version 0.10 passing these as positional arguments will result in an error\n",
      "C:\\Users\\yutan\\anaconda3\\envs\\tensorflow\\lib\\site-packages\\ipykernel_launcher.py:41: FutureWarning: Pass y=[2.7539389e-05 3.4575954e-05 1.1615641e-05 ... 2.8671979e-05 1.3928925e-05\n",
      " 6.8485319e-06], sr=16000 as keyword args. From version 0.10 passing these as positional arguments will result in an error\n",
      "C:\\Users\\yutan\\anaconda3\\envs\\tensorflow\\lib\\site-packages\\ipykernel_launcher.py:41: FutureWarning: Pass y=[ 0.01730347  0.01574707  0.01205444 ...  0.00067139  0.00067139\n",
      " -0.00061035], sr=16000 as keyword args. From version 0.10 passing these as positional arguments will result in an error\n",
      "C:\\Users\\yutan\\anaconda3\\envs\\tensorflow\\lib\\site-packages\\ipykernel_launcher.py:41: FutureWarning: Pass y=[-0.0430603  -0.04864502 -0.04806519 ... -0.00036621  0.0010376\n",
      " -0.00067139], sr=16000 as keyword args. From version 0.10 passing these as positional arguments will result in an error\n",
      "C:\\Users\\yutan\\anaconda3\\envs\\tensorflow\\lib\\site-packages\\ipykernel_launcher.py:41: FutureWarning: Pass y=[ 4.2978777e-03  9.2772214e-04  4.3419888e-03 ... -3.7456364e-05\n",
      "  5.1639327e-06 -3.4865625e-05], sr=16000 as keyword args. From version 0.10 passing these as positional arguments will result in an error\n",
      "C:\\Users\\yutan\\anaconda3\\envs\\tensorflow\\lib\\site-packages\\ipykernel_launcher.py:41: FutureWarning: Pass y=[-0.00097656 -0.00082397 -0.00021362 ...  0.00079346  0.00048828\n",
      "  0.00057983], sr=16000 as keyword args. From version 0.10 passing these as positional arguments will result in an error\n",
      "C:\\Users\\yutan\\anaconda3\\envs\\tensorflow\\lib\\site-packages\\ipykernel_launcher.py:41: FutureWarning: Pass y=[ 3.0822754e-03  8.6975098e-03  9.7351074e-03 ... -3.0517578e-05\n",
      " -4.8828125e-04  6.7138672e-04], sr=16000 as keyword args. From version 0.10 passing these as positional arguments will result in an error\n",
      "C:\\Users\\yutan\\anaconda3\\envs\\tensorflow\\lib\\site-packages\\ipykernel_launcher.py:41: FutureWarning: Pass y=[-3.0517578e-05  0.0000000e+00 -6.1035156e-05 ...  3.0517578e-05\n",
      "  0.0000000e+00  0.0000000e+00], sr=16000 as keyword args. From version 0.10 passing these as positional arguments will result in an error\n",
      "C:\\Users\\yutan\\anaconda3\\envs\\tensorflow\\lib\\site-packages\\ipykernel_launcher.py:41: FutureWarning: Pass y=[ 2.7865583e-05  5.3234107e-05  1.2832933e-05 ... -2.4568668e-05\n",
      "  7.0781971e-06 -1.9251809e-05], sr=16000 as keyword args. From version 0.10 passing these as positional arguments will result in an error\n",
      "C:\\Users\\yutan\\anaconda3\\envs\\tensorflow\\lib\\site-packages\\ipykernel_launcher.py:41: FutureWarning: Pass y=[-2.5004556e-05 -9.2452370e-05 -1.9079207e-05 ... -2.6214637e-05\n",
      "  2.8829140e-06 -1.9847405e-06], sr=16000 as keyword args. From version 0.10 passing these as positional arguments will result in an error\n",
      "C:\\Users\\yutan\\anaconda3\\envs\\tensorflow\\lib\\site-packages\\ipykernel_launcher.py:41: FutureWarning: Pass y=[-3.0517578e-05 -6.1035156e-05  0.0000000e+00 ... -1.2207031e-03\n",
      " -1.4648438e-03 -1.4038086e-03], sr=16000 as keyword args. From version 0.10 passing these as positional arguments will result in an error\n",
      "C:\\Users\\yutan\\anaconda3\\envs\\tensorflow\\lib\\site-packages\\ipykernel_launcher.py:41: FutureWarning: Pass y=[ 1.4404297e-02  1.2847900e-02  4.7302246e-03 ...  3.6621094e-04\n",
      " -6.1035156e-05 -1.8310547e-04], sr=16000 as keyword args. From version 0.10 passing these as positional arguments will result in an error\n",
      "C:\\Users\\yutan\\anaconda3\\envs\\tensorflow\\lib\\site-packages\\ipykernel_launcher.py:41: FutureWarning: Pass y=[-9.92141486e-06 -1.25147699e-05 -3.31757692e-05 ...  1.37925745e-04\n",
      "  5.99200357e-05 -1.16772484e-04], sr=16000 as keyword args. From version 0.10 passing these as positional arguments will result in an error\n",
      "C:\\Users\\yutan\\anaconda3\\envs\\tensorflow\\lib\\site-packages\\ipykernel_launcher.py:41: FutureWarning: Pass y=[-0.00152588 -0.00158691  0.00152588 ... -0.00042725  0.00054932\n",
      " -0.00134277], sr=16000 as keyword args. From version 0.10 passing these as positional arguments will result in an error\n",
      "C:\\Users\\yutan\\anaconda3\\envs\\tensorflow\\lib\\site-packages\\ipykernel_launcher.py:41: FutureWarning: Pass y=[-3.0517578e-05 -3.0517578e-05  0.0000000e+00 ... -6.7138672e-04\n",
      "  5.4931641e-04  1.5258789e-04], sr=16000 as keyword args. From version 0.10 passing these as positional arguments will result in an error\n",
      "C:\\Users\\yutan\\anaconda3\\envs\\tensorflow\\lib\\site-packages\\ipykernel_launcher.py:41: FutureWarning: Pass y=[ 0.0000000e+00 -3.0517578e-05 -3.0517578e-05 ... -4.2724609e-04\n",
      " -4.5776367e-04 -4.5776367e-04], sr=16000 as keyword args. From version 0.10 passing these as positional arguments will result in an error\n",
      "C:\\Users\\yutan\\anaconda3\\envs\\tensorflow\\lib\\site-packages\\ipykernel_launcher.py:41: FutureWarning: Pass y=[3.5493471e-05 2.6078364e-05 4.1065137e-05 ... 1.4743872e-04 1.7795770e-04\n",
      " 1.6223200e-04], sr=16000 as keyword args. From version 0.10 passing these as positional arguments will result in an error\n",
      "C:\\Users\\yutan\\anaconda3\\envs\\tensorflow\\lib\\site-packages\\ipykernel_launcher.py:41: FutureWarning: Pass y=[ 0.00076294  0.00097656  0.00164795 ... -0.00149536 -0.00042725\n",
      " -0.00027466], sr=16000 as keyword args. From version 0.10 passing these as positional arguments will result in an error\n",
      "C:\\Users\\yutan\\anaconda3\\envs\\tensorflow\\lib\\site-packages\\ipykernel_launcher.py:41: FutureWarning: Pass y=[ 0.00027466  0.00076294 -0.00033569 ...  0.00054932  0.00054932\n",
      "  0.00189209], sr=16000 as keyword args. From version 0.10 passing these as positional arguments will result in an error\n",
      "C:\\Users\\yutan\\anaconda3\\envs\\tensorflow\\lib\\site-packages\\ipykernel_launcher.py:41: FutureWarning: Pass y=[ 0.00033569  0.00012207 -0.00350952 ... -0.00271606 -0.00201416\n",
      "  0.00042725], sr=16000 as keyword args. From version 0.10 passing these as positional arguments will result in an error\n",
      "C:\\Users\\yutan\\anaconda3\\envs\\tensorflow\\lib\\site-packages\\ipykernel_launcher.py:41: FutureWarning: Pass y=[ 2.0446777e-03  1.3122559e-03 -3.9672852e-04 ... -8.8500977e-04\n",
      "  2.1362305e-04 -9.1552734e-05], sr=16000 as keyword args. From version 0.10 passing these as positional arguments will result in an error\n",
      "C:\\Users\\yutan\\anaconda3\\envs\\tensorflow\\lib\\site-packages\\ipykernel_launcher.py:41: FutureWarning: Pass y=[-6.1035156e-05 -6.1035156e-05 -3.0517578e-05 ... -3.0517578e-05\n",
      "  0.0000000e+00 -3.0517578e-05], sr=16000 as keyword args. From version 0.10 passing these as positional arguments will result in an error\n",
      "C:\\Users\\yutan\\anaconda3\\envs\\tensorflow\\lib\\site-packages\\ipykernel_launcher.py:41: FutureWarning: Pass y=[-0.00115967  0.0005188  -0.00057983 ...  0.00161743  0.00125122\n",
      " -0.00036621], sr=16000 as keyword args. From version 0.10 passing these as positional arguments will result in an error\n",
      "C:\\Users\\yutan\\anaconda3\\envs\\tensorflow\\lib\\site-packages\\ipykernel_launcher.py:41: FutureWarning: Pass y=[ 3.0517578e-05  3.0517578e-05  0.0000000e+00 ...  0.0000000e+00\n",
      " -3.0517578e-05  0.0000000e+00], sr=16000 as keyword args. From version 0.10 passing these as positional arguments will result in an error\n",
      "C:\\Users\\yutan\\anaconda3\\envs\\tensorflow\\lib\\site-packages\\ipykernel_launcher.py:41: FutureWarning: Pass y=[ 0.00054932 -0.00033569  0.00042725 ... -0.00048828 -0.00039673\n",
      "  0.0005188 ], sr=16000 as keyword args. From version 0.10 passing these as positional arguments will result in an error\n",
      "C:\\Users\\yutan\\anaconda3\\envs\\tensorflow\\lib\\site-packages\\ipykernel_launcher.py:41: FutureWarning: Pass y=[ 3.0517578e-05 -3.0517578e-05 -4.8828125e-04 ... -6.1035156e-05\n",
      "  1.2207031e-04 -8.2397461e-04], sr=16000 as keyword args. From version 0.10 passing these as positional arguments will result in an error\n",
      "C:\\Users\\yutan\\anaconda3\\envs\\tensorflow\\lib\\site-packages\\ipykernel_launcher.py:41: FutureWarning: Pass y=[3.0517578e-05 3.0517578e-05 3.0517578e-05 ... 6.1035156e-05 6.1035156e-05\n",
      " 3.0517578e-05], sr=16000 as keyword args. From version 0.10 passing these as positional arguments will result in an error\n",
      "C:\\Users\\yutan\\anaconda3\\envs\\tensorflow\\lib\\site-packages\\ipykernel_launcher.py:41: FutureWarning: Pass y=[-0.01031494 -0.02084351 -0.04174805 ... -0.00030518 -0.00042725\n",
      "  0.00036621], sr=16000 as keyword args. From version 0.10 passing these as positional arguments will result in an error\n"
     ]
    },
    {
     "name": "stderr",
     "output_type": "stream",
     "text": [
      "C:\\Users\\yutan\\anaconda3\\envs\\tensorflow\\lib\\site-packages\\ipykernel_launcher.py:41: FutureWarning: Pass y=[-3.7589205e-05  5.3044940e-05  4.9680388e-05 ... -9.7737233e-05\n",
      "  3.5120358e-04 -4.4858988e-04], sr=16000 as keyword args. From version 0.10 passing these as positional arguments will result in an error\n",
      "C:\\Users\\yutan\\anaconda3\\envs\\tensorflow\\lib\\site-packages\\ipykernel_launcher.py:41: FutureWarning: Pass y=[-8.0026097e-05 -8.9024317e-05 -6.4357446e-05 ... -3.6000954e-05\n",
      "  3.5172907e-06  3.2650434e-05], sr=16000 as keyword args. From version 0.10 passing these as positional arguments will result in an error\n",
      "C:\\Users\\yutan\\anaconda3\\envs\\tensorflow\\lib\\site-packages\\ipykernel_launcher.py:41: FutureWarning: Pass y=[-2.2583008e-03 -3.5400391e-03  2.1972656e-03 ... -9.1552734e-05\n",
      " -2.1362305e-04 -1.8615723e-03], sr=16000 as keyword args. From version 0.10 passing these as positional arguments will result in an error\n",
      "C:\\Users\\yutan\\anaconda3\\envs\\tensorflow\\lib\\site-packages\\ipykernel_launcher.py:41: FutureWarning: Pass y=[ 5.2247586e-05  6.3882027e-05  4.9263588e-05 ... -1.8145183e-04\n",
      " -5.3296772e-05  6.7283007e-05], sr=16000 as keyword args. From version 0.10 passing these as positional arguments will result in an error\n",
      "C:\\Users\\yutan\\anaconda3\\envs\\tensorflow\\lib\\site-packages\\ipykernel_launcher.py:41: FutureWarning: Pass y=[-3.0517578e-05  0.0000000e+00 -3.0517578e-05 ...  5.7983398e-04\n",
      " -8.2397461e-04  7.6293945e-04], sr=16000 as keyword args. From version 0.10 passing these as positional arguments will result in an error\n",
      "C:\\Users\\yutan\\anaconda3\\envs\\tensorflow\\lib\\site-packages\\ipykernel_launcher.py:41: FutureWarning: Pass y=[ 0.0000000e+00 -3.0517578e-05  0.0000000e+00 ... -3.0517578e-05\n",
      " -3.0517578e-05 -9.1552734e-05], sr=16000 as keyword args. From version 0.10 passing these as positional arguments will result in an error\n",
      "C:\\Users\\yutan\\anaconda3\\envs\\tensorflow\\lib\\site-packages\\ipykernel_launcher.py:41: FutureWarning: Pass y=[7.70783754e-06 1.55908856e-05 3.69021182e-05 ... 1.03774866e-04\n",
      " 1.16557319e-04 9.14911070e-05], sr=16000 as keyword args. From version 0.10 passing these as positional arguments will result in an error\n",
      "C:\\Users\\yutan\\anaconda3\\envs\\tensorflow\\lib\\site-packages\\ipykernel_launcher.py:41: FutureWarning: Pass y=[ 1.4038086e-03  3.0517578e-05 -5.4931641e-04 ... -6.1035156e-05\n",
      " -8.8500977e-04  9.7656250e-04], sr=16000 as keyword args. From version 0.10 passing these as positional arguments will result in an error\n",
      "C:\\Users\\yutan\\anaconda3\\envs\\tensorflow\\lib\\site-packages\\ipykernel_launcher.py:41: FutureWarning: Pass y=[ 0.02304077  0.01593018  0.01251221 ... -0.00073242  0.00015259\n",
      "  0.00054932], sr=16000 as keyword args. From version 0.10 passing these as positional arguments will result in an error\n",
      "C:\\Users\\yutan\\anaconda3\\envs\\tensorflow\\lib\\site-packages\\ipykernel_launcher.py:41: FutureWarning: Pass y=[-9.1552734e-05 -6.4086914e-04 -1.2817383e-03 ... -4.5776367e-04\n",
      " -3.0517578e-04  1.5258789e-04], sr=16000 as keyword args. From version 0.10 passing these as positional arguments will result in an error\n",
      "C:\\Users\\yutan\\anaconda3\\envs\\tensorflow\\lib\\site-packages\\ipykernel_launcher.py:41: FutureWarning: Pass y=[4.9296326e-05 3.1078682e-06 5.2974523e-05 ... 1.0144196e-05 3.2503056e-05\n",
      " 2.3229438e-06], sr=16000 as keyword args. From version 0.10 passing these as positional arguments will result in an error\n",
      "C:\\Users\\yutan\\anaconda3\\envs\\tensorflow\\lib\\site-packages\\ipykernel_launcher.py:41: FutureWarning: Pass y=[-6.1035156e-05  0.0000000e+00 -3.0517578e-05 ...  0.0000000e+00\n",
      " -6.1035156e-05 -3.0517578e-05], sr=16000 as keyword args. From version 0.10 passing these as positional arguments will result in an error\n",
      "C:\\Users\\yutan\\anaconda3\\envs\\tensorflow\\lib\\site-packages\\ipykernel_launcher.py:41: FutureWarning: Pass y=[-2.0324707e-02  1.8310547e-03  3.8574219e-02 ...  4.8828125e-04\n",
      " -3.0517578e-05 -4.5776367e-04], sr=16000 as keyword args. From version 0.10 passing these as positional arguments will result in an error\n",
      "C:\\Users\\yutan\\anaconda3\\envs\\tensorflow\\lib\\site-packages\\ipykernel_launcher.py:41: FutureWarning: Pass y=[-6.1175117e-05 -5.9858448e-05 -8.8204593e-05 ...  5.1426138e-03\n",
      "  5.3877244e-03  5.5875727e-03], sr=16000 as keyword args. From version 0.10 passing these as positional arguments will result in an error\n",
      "C:\\Users\\yutan\\anaconda3\\envs\\tensorflow\\lib\\site-packages\\ipykernel_launcher.py:41: FutureWarning: Pass y=[-0.00753784 -0.02618408 -0.02850342 ...  0.00067139  0.00128174\n",
      " -0.00204468], sr=16000 as keyword args. From version 0.10 passing these as positional arguments will result in an error\n",
      "C:\\Users\\yutan\\anaconda3\\envs\\tensorflow\\lib\\site-packages\\ipykernel_launcher.py:41: FutureWarning: Pass y=[-0.00064087  0.00030518 -0.00039673 ...  0.00119019 -0.00033569\n",
      "  0.00106812], sr=16000 as keyword args. From version 0.10 passing these as positional arguments will result in an error\n",
      "C:\\Users\\yutan\\anaconda3\\envs\\tensorflow\\lib\\site-packages\\ipykernel_launcher.py:41: FutureWarning: Pass y=[ 1.3510153e-05 -5.0379258e-05 -1.0824397e-04 ...  1.7175112e-04\n",
      "  1.4458495e-04  7.9954785e-05], sr=16000 as keyword args. From version 0.10 passing these as positional arguments will result in an error\n",
      "C:\\Users\\yutan\\anaconda3\\envs\\tensorflow\\lib\\site-packages\\ipykernel_launcher.py:41: FutureWarning: Pass y=[ 1.9407031e-05  4.2907348e-05 -1.0706498e-05 ...  1.2151510e-03\n",
      "  1.4510992e-03  1.3916596e-03], sr=16000 as keyword args. From version 0.10 passing these as positional arguments will result in an error\n",
      "C:\\Users\\yutan\\anaconda3\\envs\\tensorflow\\lib\\site-packages\\ipykernel_launcher.py:41: FutureWarning: Pass y=[-2.4108887e-03 -2.6855469e-03  1.2817383e-03 ...  3.0517578e-05\n",
      "  6.1035156e-05  1.2207031e-04], sr=16000 as keyword args. From version 0.10 passing these as positional arguments will result in an error\n",
      "C:\\Users\\yutan\\anaconda3\\envs\\tensorflow\\lib\\site-packages\\ipykernel_launcher.py:41: FutureWarning: Pass y=[0.0000000e+00 3.0517578e-05 3.0517578e-05 ... 3.0517578e-05 9.1552734e-05\n",
      " 6.1035156e-05], sr=16000 as keyword args. From version 0.10 passing these as positional arguments will result in an error\n",
      "C:\\Users\\yutan\\anaconda3\\envs\\tensorflow\\lib\\site-packages\\ipykernel_launcher.py:41: FutureWarning: Pass y=[ 0.00076294  0.00152588  0.00045776 ...  0.00137329 -0.0007019\n",
      "  0.00195312], sr=16000 as keyword args. From version 0.10 passing these as positional arguments will result in an error\n",
      "C:\\Users\\yutan\\anaconda3\\envs\\tensorflow\\lib\\site-packages\\ipykernel_launcher.py:41: FutureWarning: Pass y=[-3.0517578e-05 -3.0517578e-05 -6.1035156e-05 ... -6.1035156e-05\n",
      "  0.0000000e+00 -6.1035156e-05], sr=16000 as keyword args. From version 0.10 passing these as positional arguments will result in an error\n",
      "C:\\Users\\yutan\\anaconda3\\envs\\tensorflow\\lib\\site-packages\\ipykernel_launcher.py:41: FutureWarning: Pass y=[0.00372314 0.0116272  0.01925659 ... 0.00088501 0.00024414 0.00039673], sr=16000 as keyword args. From version 0.10 passing these as positional arguments will result in an error\n",
      "C:\\Users\\yutan\\anaconda3\\envs\\tensorflow\\lib\\site-packages\\ipykernel_launcher.py:41: FutureWarning: Pass y=[-6.1035156e-05 -3.0517578e-05  3.0517578e-05 ...  0.0000000e+00\n",
      "  3.0517578e-05  0.0000000e+00], sr=16000 as keyword args. From version 0.10 passing these as positional arguments will result in an error\n",
      "C:\\Users\\yutan\\anaconda3\\envs\\tensorflow\\lib\\site-packages\\ipykernel_launcher.py:41: FutureWarning: Pass y=[ 7.0374062e-06  1.8076107e-05 -3.6700927e-05 ...  1.1979047e-03\n",
      "  1.2127894e-03  1.2025052e-03], sr=16000 as keyword args. From version 0.10 passing these as positional arguments will result in an error\n",
      "C:\\Users\\yutan\\anaconda3\\envs\\tensorflow\\lib\\site-packages\\ipykernel_launcher.py:41: FutureWarning: Pass y=[ 1.3033104e-04  6.7597641e-05  8.0935199e-05 ...  2.8474782e-05\n",
      "  4.9221080e-06 -1.3857829e-06], sr=16000 as keyword args. From version 0.10 passing these as positional arguments will result in an error\n",
      "C:\\Users\\yutan\\anaconda3\\envs\\tensorflow\\lib\\site-packages\\ipykernel_launcher.py:41: FutureWarning: Pass y=[ 0.00137329 -0.00073242 -0.00100708 ... -0.00073242  0.00137329\n",
      " -0.00073242], sr=16000 as keyword args. From version 0.10 passing these as positional arguments will result in an error\n",
      "C:\\Users\\yutan\\anaconda3\\envs\\tensorflow\\lib\\site-packages\\ipykernel_launcher.py:41: FutureWarning: Pass y=[ 6.2866211e-03  5.7067871e-03  7.0495605e-03 ... -3.0517578e-05\n",
      " -3.0517578e-05 -6.1035156e-05], sr=16000 as keyword args. From version 0.10 passing these as positional arguments will result in an error\n",
      "C:\\Users\\yutan\\anaconda3\\envs\\tensorflow\\lib\\site-packages\\ipykernel_launcher.py:41: FutureWarning: Pass y=[ 5.4931641e-04 -2.7465820e-04  1.4038086e-03 ... -8.2397461e-04\n",
      " -1.2207031e-04 -6.1035156e-05], sr=16000 as keyword args. From version 0.10 passing these as positional arguments will result in an error\n",
      "C:\\Users\\yutan\\anaconda3\\envs\\tensorflow\\lib\\site-packages\\ipykernel_launcher.py:41: FutureWarning: Pass y=[-3.0517578e-05  0.0000000e+00 -3.0517578e-05 ...  0.0000000e+00\n",
      " -3.0517578e-05  3.0517578e-05], sr=16000 as keyword args. From version 0.10 passing these as positional arguments will result in an error\n",
      "C:\\Users\\yutan\\anaconda3\\envs\\tensorflow\\lib\\site-packages\\ipykernel_launcher.py:41: FutureWarning: Pass y=[ 4.2416073e-06 -3.1100637e-05 -6.8549729e-05 ...  3.1775402e-05\n",
      "  1.3732666e-05 -5.7102106e-06], sr=16000 as keyword args. From version 0.10 passing these as positional arguments will result in an error\n"
     ]
    },
    {
     "name": "stderr",
     "output_type": "stream",
     "text": [
      "C:\\Users\\yutan\\anaconda3\\envs\\tensorflow\\lib\\site-packages\\ipykernel_launcher.py:41: FutureWarning: Pass y=[ 0.00436401  0.00018311  0.00054932 ... -0.00061035  0.00305176\n",
      " -0.00076294], sr=16000 as keyword args. From version 0.10 passing these as positional arguments will result in an error\n",
      "C:\\Users\\yutan\\anaconda3\\envs\\tensorflow\\lib\\site-packages\\ipykernel_launcher.py:41: FutureWarning: Pass y=[ 6.3154262e-06  1.6456173e-05  2.7375056e-05 ...  7.8781435e-05\n",
      " -1.8516055e-04  1.9781332e-04], sr=16000 as keyword args. From version 0.10 passing these as positional arguments will result in an error\n",
      "C:\\Users\\yutan\\anaconda3\\envs\\tensorflow\\lib\\site-packages\\ipykernel_launcher.py:41: FutureWarning: Pass y=[-0.00091553  0.00036621 -0.00061035 ... -0.0022583  -0.00180054\n",
      "  0.00216675], sr=16000 as keyword args. From version 0.10 passing these as positional arguments will result in an error\n",
      "C:\\Users\\yutan\\anaconda3\\envs\\tensorflow\\lib\\site-packages\\ipykernel_launcher.py:41: FutureWarning: Pass y=[ 2.0446777e-02  2.3590088e-02  2.5482178e-02 ...  3.3569336e-04\n",
      " -6.1035156e-04  3.0517578e-05], sr=16000 as keyword args. From version 0.10 passing these as positional arguments will result in an error\n",
      "C:\\Users\\yutan\\anaconda3\\envs\\tensorflow\\lib\\site-packages\\ipykernel_launcher.py:41: FutureWarning: Pass y=[-1.1940515e-05  4.0477942e-05  6.4162457e-08 ...  7.0333836e-04\n",
      "  6.3268654e-04  5.3365721e-04], sr=16000 as keyword args. From version 0.10 passing these as positional arguments will result in an error\n",
      "C:\\Users\\yutan\\anaconda3\\envs\\tensorflow\\lib\\site-packages\\ipykernel_launcher.py:41: FutureWarning: Pass y=[-3.4300502e-02 -1.1847337e-02 -8.0928480e-04 ...  7.5977776e-05\n",
      "  6.2010986e-05  8.5197287e-05], sr=16000 as keyword args. From version 0.10 passing these as positional arguments will result in an error\n",
      "C:\\Users\\yutan\\anaconda3\\envs\\tensorflow\\lib\\site-packages\\ipykernel_launcher.py:41: FutureWarning: Pass y=[-1.0986328e-03 -2.1362305e-04 -3.0517578e-05 ... -1.1596680e-03\n",
      " -5.1879883e-04 -1.9226074e-03], sr=16000 as keyword args. From version 0.10 passing these as positional arguments will result in an error\n",
      "C:\\Users\\yutan\\anaconda3\\envs\\tensorflow\\lib\\site-packages\\ipykernel_launcher.py:41: FutureWarning: Pass y=[ 0.0194397   0.01596069  0.01043701 ...  0.00021362 -0.00112915\n",
      "  0.00042725], sr=16000 as keyword args. From version 0.10 passing these as positional arguments will result in an error\n",
      "C:\\Users\\yutan\\anaconda3\\envs\\tensorflow\\lib\\site-packages\\ipykernel_launcher.py:41: FutureWarning: Pass y=[6.1645508e-03 5.6762695e-03 4.7912598e-03 ... 9.1552734e-05 1.5258789e-04\n",
      " 9.7656250e-04], sr=16000 as keyword args. From version 0.10 passing these as positional arguments will result in an error\n",
      "C:\\Users\\yutan\\anaconda3\\envs\\tensorflow\\lib\\site-packages\\ipykernel_launcher.py:41: FutureWarning: Pass y=[-0.00888062 -0.00976562 -0.00894165 ... -0.00158691  0.0010376\n",
      "  0.00100708], sr=16000 as keyword args. From version 0.10 passing these as positional arguments will result in an error\n",
      "C:\\Users\\yutan\\anaconda3\\envs\\tensorflow\\lib\\site-packages\\ipykernel_launcher.py:41: FutureWarning: Pass y=[-3.0517578e-05  3.0517578e-05 -3.0517578e-05 ... -3.0517578e-05\n",
      " -3.0517578e-05  0.0000000e+00], sr=16000 as keyword args. From version 0.10 passing these as positional arguments will result in an error\n",
      "C:\\Users\\yutan\\anaconda3\\envs\\tensorflow\\lib\\site-packages\\ipykernel_launcher.py:41: FutureWarning: Pass y=[-6.1035156e-05 -6.1035156e-05 -6.1035156e-05 ... -3.0517578e-05\n",
      " -6.1035156e-05 -6.1035156e-05], sr=16000 as keyword args. From version 0.10 passing these as positional arguments will result in an error\n",
      "C:\\Users\\yutan\\anaconda3\\envs\\tensorflow\\lib\\site-packages\\ipykernel_launcher.py:41: FutureWarning: Pass y=[ 0.0000000e+00  0.0000000e+00 -3.0517578e-05 ... -1.2207031e-04\n",
      " -3.0517578e-05 -3.0517578e-05], sr=16000 as keyword args. From version 0.10 passing these as positional arguments will result in an error\n",
      "C:\\Users\\yutan\\anaconda3\\envs\\tensorflow\\lib\\site-packages\\ipykernel_launcher.py:41: FutureWarning: Pass y=[-2.4414062e-04 -1.5258789e-04 -4.8828125e-04 ... -3.0517578e-05\n",
      " -1.2207031e-04 -1.2207031e-04], sr=16000 as keyword args. From version 0.10 passing these as positional arguments will result in an error\n",
      "C:\\Users\\yutan\\anaconda3\\envs\\tensorflow\\lib\\site-packages\\ipykernel_launcher.py:41: FutureWarning: Pass y=[ 0.00189209 -0.00454712 -0.01104736 ...  0.0007019   0.00076294\n",
      " -0.00253296], sr=16000 as keyword args. From version 0.10 passing these as positional arguments will result in an error\n",
      "C:\\Users\\yutan\\anaconda3\\envs\\tensorflow\\lib\\site-packages\\ipykernel_launcher.py:41: FutureWarning: Pass y=[9.1552734e-04 1.0681152e-03 1.1596680e-03 ... 9.1552734e-05 9.1552734e-05\n",
      " 9.1552734e-05], sr=16000 as keyword args. From version 0.10 passing these as positional arguments will result in an error\n",
      "C:\\Users\\yutan\\anaconda3\\envs\\tensorflow\\lib\\site-packages\\ipykernel_launcher.py:41: FutureWarning: Pass y=[-1.4060951e-06  2.1178719e-05 -4.0341474e-06 ...  4.9941118e-06\n",
      "  2.8853734e-05  6.6934925e-05], sr=16000 as keyword args. From version 0.10 passing these as positional arguments will result in an error\n",
      "C:\\Users\\yutan\\anaconda3\\envs\\tensorflow\\lib\\site-packages\\ipykernel_launcher.py:41: FutureWarning: Pass y=[ 3.0517578e-05  3.0517578e-05 -3.0517578e-05 ...  0.0000000e+00\n",
      " -3.0517578e-05 -9.1552734e-05], sr=16000 as keyword args. From version 0.10 passing these as positional arguments will result in an error\n",
      "C:\\Users\\yutan\\anaconda3\\envs\\tensorflow\\lib\\site-packages\\ipykernel_launcher.py:41: FutureWarning: Pass y=[ 0.00845337  0.00244141 -0.00473022 ... -0.00100708  0.00152588\n",
      " -0.00097656], sr=16000 as keyword args. From version 0.10 passing these as positional arguments will result in an error\n",
      "C:\\Users\\yutan\\anaconda3\\envs\\tensorflow\\lib\\site-packages\\ipykernel_launcher.py:41: FutureWarning: Pass y=[-0.01373291 -0.01376343 -0.01309204 ...  0.00192261  0.00247192\n",
      " -0.00204468], sr=16000 as keyword args. From version 0.10 passing these as positional arguments will result in an error\n",
      "C:\\Users\\yutan\\anaconda3\\envs\\tensorflow\\lib\\site-packages\\ipykernel_launcher.py:41: FutureWarning: Pass y=[-7.8343392e-06 -3.6178586e-05 -2.6229134e-05 ... -1.6484989e-03\n",
      " -1.2634764e-03 -5.7257077e-04], sr=16000 as keyword args. From version 0.10 passing these as positional arguments will result in an error\n",
      "C:\\Users\\yutan\\anaconda3\\envs\\tensorflow\\lib\\site-packages\\ipykernel_launcher.py:41: FutureWarning: Pass y=[-0.00079346  0.00030518 -0.0007019  ... -0.0007019  -0.00119019\n",
      " -0.00146484], sr=16000 as keyword args. From version 0.10 passing these as positional arguments will result in an error\n",
      "C:\\Users\\yutan\\anaconda3\\envs\\tensorflow\\lib\\site-packages\\ipykernel_launcher.py:41: FutureWarning: Pass y=[-7.0671085e-06 -3.8403421e-05 -1.0235246e-05 ...  2.7074854e-04\n",
      "  1.8103783e-04  8.1032224e-05], sr=16000 as keyword args. From version 0.10 passing these as positional arguments will result in an error\n",
      "C:\\Users\\yutan\\anaconda3\\envs\\tensorflow\\lib\\site-packages\\ipykernel_launcher.py:41: FutureWarning: Pass y=[ 1.1199951e-02  2.2003174e-02  4.0557861e-02 ...  0.0000000e+00\n",
      "  0.0000000e+00 -3.0517578e-05], sr=16000 as keyword args. From version 0.10 passing these as positional arguments will result in an error\n",
      "C:\\Users\\yutan\\anaconda3\\envs\\tensorflow\\lib\\site-packages\\ipykernel_launcher.py:41: FutureWarning: Pass y=[ 9.1552734e-05  6.1035156e-05  3.0517578e-05 ... -6.1035156e-05\n",
      " -3.0517578e-05 -6.1035156e-05], sr=16000 as keyword args. From version 0.10 passing these as positional arguments will result in an error\n",
      "C:\\Users\\yutan\\anaconda3\\envs\\tensorflow\\lib\\site-packages\\ipykernel_launcher.py:41: FutureWarning: Pass y=[ 0.00164795  0.00149536  0.00143433 ... -0.00030518  0.00021362\n",
      "  0.00045776], sr=16000 as keyword args. From version 0.10 passing these as positional arguments will result in an error\n",
      "C:\\Users\\yutan\\anaconda3\\envs\\tensorflow\\lib\\site-packages\\ipykernel_launcher.py:41: FutureWarning: Pass y=[-3.0517578e-05 -3.0517578e-05 -3.0517578e-05 ... -9.1552734e-05\n",
      "  1.8310547e-04 -2.1362305e-04], sr=16000 as keyword args. From version 0.10 passing these as positional arguments will result in an error\n",
      "C:\\Users\\yutan\\anaconda3\\envs\\tensorflow\\lib\\site-packages\\ipykernel_launcher.py:41: FutureWarning: Pass y=[ 0.00112915  0.0010376  -0.00042725 ...  0.00036621  0.00100708\n",
      " -0.00036621], sr=16000 as keyword args. From version 0.10 passing these as positional arguments will result in an error\n"
     ]
    },
    {
     "name": "stderr",
     "output_type": "stream",
     "text": [
      "C:\\Users\\yutan\\anaconda3\\envs\\tensorflow\\lib\\site-packages\\ipykernel_launcher.py:41: FutureWarning: Pass y=[-5.99495652e-05 -5.64762340e-05 -2.91987617e-05 ...  1.15575065e-04\n",
      "  9.18270380e-05  9.18411242e-05], sr=16000 as keyword args. From version 0.10 passing these as positional arguments will result in an error\n",
      "C:\\Users\\yutan\\anaconda3\\envs\\tensorflow\\lib\\site-packages\\ipykernel_launcher.py:41: FutureWarning: Pass y=[-0.00723267 -0.00482178 -0.01062012 ... -0.00042725 -0.00048828\n",
      "  0.00115967], sr=16000 as keyword args. From version 0.10 passing these as positional arguments will result in an error\n",
      "C:\\Users\\yutan\\anaconda3\\envs\\tensorflow\\lib\\site-packages\\ipykernel_launcher.py:41: FutureWarning: Pass y=[ 5.5370333e-07  6.4873336e-07 -1.0973788e-06 ... -2.8934259e-05\n",
      " -2.6012885e-05 -2.1343969e-05], sr=16000 as keyword args. From version 0.10 passing these as positional arguments will result in an error\n",
      "C:\\Users\\yutan\\anaconda3\\envs\\tensorflow\\lib\\site-packages\\ipykernel_launcher.py:41: FutureWarning: Pass y=[ 3.1850293e-05 -1.0876223e-05 -3.9770730e-05 ...  1.7439945e-05\n",
      "  2.0869000e-05 -1.1266638e-05], sr=16000 as keyword args. From version 0.10 passing these as positional arguments will result in an error\n",
      "C:\\Users\\yutan\\anaconda3\\envs\\tensorflow\\lib\\site-packages\\ipykernel_launcher.py:41: FutureWarning: Pass y=[-0.00866699 -0.01760864 -0.0218811  ...  0.00018311 -0.00067139\n",
      "  0.00241089], sr=16000 as keyword args. From version 0.10 passing these as positional arguments will result in an error\n",
      "C:\\Users\\yutan\\anaconda3\\envs\\tensorflow\\lib\\site-packages\\ipykernel_launcher.py:41: FutureWarning: Pass y=[3.1653090e-05 2.9622031e-05 3.1140924e-05 ... 8.0840422e-05 7.7213910e-05\n",
      " 8.4487627e-05], sr=16000 as keyword args. From version 0.10 passing these as positional arguments will result in an error\n",
      "C:\\Users\\yutan\\anaconda3\\envs\\tensorflow\\lib\\site-packages\\ipykernel_launcher.py:41: FutureWarning: Pass y=[ 3.0517578e-05  3.0517578e-05  6.1035156e-05 ...  6.1035156e-05\n",
      "  0.0000000e+00 -3.0517578e-05], sr=16000 as keyword args. From version 0.10 passing these as positional arguments will result in an error\n",
      "C:\\Users\\yutan\\anaconda3\\envs\\tensorflow\\lib\\site-packages\\ipykernel_launcher.py:41: FutureWarning: Pass y=[-9.1552734e-05 -6.1035156e-05 -3.0517578e-05 ... -6.1035156e-05\n",
      "  0.0000000e+00 -3.0517578e-05], sr=16000 as keyword args. From version 0.10 passing these as positional arguments will result in an error\n",
      "C:\\Users\\yutan\\anaconda3\\envs\\tensorflow\\lib\\site-packages\\ipykernel_launcher.py:41: FutureWarning: Pass y=[ 3.0517578e-05  0.0000000e+00  0.0000000e+00 ... -9.1552734e-05\n",
      "  1.5258789e-04 -9.1552734e-05], sr=16000 as keyword args. From version 0.10 passing these as positional arguments will result in an error\n",
      "C:\\Users\\yutan\\anaconda3\\envs\\tensorflow\\lib\\site-packages\\ipykernel_launcher.py:41: FutureWarning: Pass y=[ 0.05007935  0.05670166  0.05230713 ... -0.00033569 -0.00045776\n",
      " -0.00036621], sr=16000 as keyword args. From version 0.10 passing these as positional arguments will result in an error\n",
      "C:\\Users\\yutan\\anaconda3\\envs\\tensorflow\\lib\\site-packages\\ipykernel_launcher.py:41: FutureWarning: Pass y=[-6.1035156e-04  4.2724609e-04 -7.9345703e-04 ...  1.4038086e-03\n",
      "  9.1552734e-05 -3.0517578e-04], sr=16000 as keyword args. From version 0.10 passing these as positional arguments will result in an error\n",
      "C:\\Users\\yutan\\anaconda3\\envs\\tensorflow\\lib\\site-packages\\ipykernel_launcher.py:41: FutureWarning: Pass y=[-8.2397461e-04 -1.3122559e-03 -7.0190430e-04 ...  6.1035156e-05\n",
      "  9.1552734e-05  6.1035156e-05], sr=16000 as keyword args. From version 0.10 passing these as positional arguments will result in an error\n",
      "C:\\Users\\yutan\\anaconda3\\envs\\tensorflow\\lib\\site-packages\\ipykernel_launcher.py:41: FutureWarning: Pass y=[-7.0190430e-04  8.8500977e-04  2.7465820e-04 ...  2.7465820e-04\n",
      " -6.7138672e-04  3.0517578e-05], sr=16000 as keyword args. From version 0.10 passing these as positional arguments will result in an error\n",
      "C:\\Users\\yutan\\anaconda3\\envs\\tensorflow\\lib\\site-packages\\ipykernel_launcher.py:41: FutureWarning: Pass y=[ 0.0000000e+00 -3.0517578e-05  0.0000000e+00 ...  0.0000000e+00\n",
      " -3.0517578e-05  3.0517578e-05], sr=16000 as keyword args. From version 0.10 passing these as positional arguments will result in an error\n",
      "C:\\Users\\yutan\\anaconda3\\envs\\tensorflow\\lib\\site-packages\\ipykernel_launcher.py:41: FutureWarning: Pass y=[ 0.0000000e+00 -3.0517578e-05  3.0517578e-05 ... -3.0517578e-04\n",
      " -3.3569336e-04 -3.6621094e-04], sr=16000 as keyword args. From version 0.10 passing these as positional arguments will result in an error\n",
      "C:\\Users\\yutan\\anaconda3\\envs\\tensorflow\\lib\\site-packages\\ipykernel_launcher.py:41: FutureWarning: Pass y=[ 0.          0.          0.         ... -0.00146484 -0.00183105\n",
      " -0.00210571], sr=16000 as keyword args. From version 0.10 passing these as positional arguments will result in an error\n",
      "C:\\Users\\yutan\\anaconda3\\envs\\tensorflow\\lib\\site-packages\\ipykernel_launcher.py:41: FutureWarning: Pass y=[-4.0917465e-05 -9.0818285e-06 -2.4987914e-05 ...  7.7096367e-05\n",
      " -1.6501540e-04  7.6032120e-05], sr=16000 as keyword args. From version 0.10 passing these as positional arguments will result in an error\n",
      "C:\\Users\\yutan\\anaconda3\\envs\\tensorflow\\lib\\site-packages\\ipykernel_launcher.py:41: FutureWarning: Pass y=[-1.7700195e-02 -1.1199951e-02 -4.9438477e-03 ...  9.1552734e-05\n",
      "  6.1035156e-05  9.1552734e-05], sr=16000 as keyword args. From version 0.10 passing these as positional arguments will result in an error\n",
      "C:\\Users\\yutan\\anaconda3\\envs\\tensorflow\\lib\\site-packages\\ipykernel_launcher.py:41: FutureWarning: Pass y=[ 0.01901245  0.00949097  0.00994873 ... -0.00036621 -0.00036621\n",
      "  0.00039673], sr=16000 as keyword args. From version 0.10 passing these as positional arguments will result in an error\n",
      "C:\\Users\\yutan\\anaconda3\\envs\\tensorflow\\lib\\site-packages\\ipykernel_launcher.py:41: FutureWarning: Pass y=[ 0.0010376   0.00021362  0.00024414 ... -0.00131226  0.0010376\n",
      " -0.00039673], sr=16000 as keyword args. From version 0.10 passing these as positional arguments will result in an error\n",
      "C:\\Users\\yutan\\anaconda3\\envs\\tensorflow\\lib\\site-packages\\ipykernel_launcher.py:41: FutureWarning: Pass y=[ 1.4566507e-05 -1.5466750e-05 -1.9353909e-05 ...  1.2669741e-05\n",
      "  2.5915569e-05 -2.6272106e-05], sr=16000 as keyword args. From version 0.10 passing these as positional arguments will result in an error\n",
      "C:\\Users\\yutan\\anaconda3\\envs\\tensorflow\\lib\\site-packages\\ipykernel_launcher.py:41: FutureWarning: Pass y=[ 6.8967797e-06 -2.0153686e-06  1.3925547e-06 ... -3.2231007e-03\n",
      " -3.0456420e-03 -2.8498862e-03], sr=16000 as keyword args. From version 0.10 passing these as positional arguments will result in an error\n",
      "C:\\Users\\yutan\\anaconda3\\envs\\tensorflow\\lib\\site-packages\\ipykernel_launcher.py:41: FutureWarning: Pass y=[-3.0517578e-05  0.0000000e+00  0.0000000e+00 ... -6.1035156e-05\n",
      " -6.1035156e-05 -1.2207031e-04], sr=16000 as keyword args. From version 0.10 passing these as positional arguments will result in an error\n",
      "C:\\Users\\yutan\\anaconda3\\envs\\tensorflow\\lib\\site-packages\\ipykernel_launcher.py:41: FutureWarning: Pass y=[ 0.02435303  0.02529907  0.01818848 ... -0.00106812 -0.00061035\n",
      "  0.00192261], sr=16000 as keyword args. From version 0.10 passing these as positional arguments will result in an error\n",
      "C:\\Users\\yutan\\anaconda3\\envs\\tensorflow\\lib\\site-packages\\ipykernel_launcher.py:41: FutureWarning: Pass y=[-1.05014396e-05  3.24514417e-06  2.38117882e-05 ...  1.18084545e-05\n",
      "  1.32133562e-06  3.40263396e-05], sr=16000 as keyword args. From version 0.10 passing these as positional arguments will result in an error\n",
      "C:\\Users\\yutan\\anaconda3\\envs\\tensorflow\\lib\\site-packages\\ipykernel_launcher.py:41: FutureWarning: Pass y=[-6.4086914e-04 -3.9672852e-04  1.2207031e-04 ... -1.5258789e-04\n",
      " -6.1035156e-05 -6.1035156e-05], sr=16000 as keyword args. From version 0.10 passing these as positional arguments will result in an error\n",
      "C:\\Users\\yutan\\anaconda3\\envs\\tensorflow\\lib\\site-packages\\ipykernel_launcher.py:41: FutureWarning: Pass y=[-0.00408936 -0.00057983 -0.00018311 ...  0.00137329 -0.00045776\n",
      " -0.00033569], sr=16000 as keyword args. From version 0.10 passing these as positional arguments will result in an error\n",
      "C:\\Users\\yutan\\anaconda3\\envs\\tensorflow\\lib\\site-packages\\ipykernel_launcher.py:41: FutureWarning: Pass y=[ 0.05621338  0.04431152  0.02838135 ... -0.0015564  -0.0005188\n",
      "  0.0012207 ], sr=16000 as keyword args. From version 0.10 passing these as positional arguments will result in an error\n",
      "C:\\Users\\yutan\\anaconda3\\envs\\tensorflow\\lib\\site-packages\\ipykernel_launcher.py:41: FutureWarning: Pass y=[-7.6293945e-03 -9.0026855e-03 -8.4838867e-03 ... -3.0517578e-05\n",
      " -1.1901855e-03  1.1596680e-03], sr=16000 as keyword args. From version 0.10 passing these as positional arguments will result in an error\n"
     ]
    },
    {
     "name": "stderr",
     "output_type": "stream",
     "text": [
      "C:\\Users\\yutan\\anaconda3\\envs\\tensorflow\\lib\\site-packages\\ipykernel_launcher.py:41: FutureWarning: Pass y=[ 2.0819914e-05  1.7533093e-05 -7.4000404e-06 ...  8.1467124e-06\n",
      "  1.9669131e-05 -2.8374930e-05], sr=16000 as keyword args. From version 0.10 passing these as positional arguments will result in an error\n",
      "C:\\Users\\yutan\\anaconda3\\envs\\tensorflow\\lib\\site-packages\\ipykernel_launcher.py:41: FutureWarning: Pass y=[-0.00067139 -0.00109863 -0.00033569 ...  0.00021362 -0.00131226\n",
      " -0.00030518], sr=16000 as keyword args. From version 0.10 passing these as positional arguments will result in an error\n",
      "C:\\Users\\yutan\\anaconda3\\envs\\tensorflow\\lib\\site-packages\\ipykernel_launcher.py:41: FutureWarning: Pass y=[ 1.0681152e-03 -3.0517578e-04 -9.1552734e-05 ... -1.5258789e-03\n",
      "  1.0070801e-03  1.5258789e-04], sr=16000 as keyword args. From version 0.10 passing these as positional arguments will result in an error\n",
      "C:\\Users\\yutan\\anaconda3\\envs\\tensorflow\\lib\\site-packages\\ipykernel_launcher.py:41: FutureWarning: Pass y=[ 0.00466919 -0.01922607 -0.01174927 ... -0.00073242 -0.00030518\n",
      "  0.00018311], sr=16000 as keyword args. From version 0.10 passing these as positional arguments will result in an error\n",
      "C:\\Users\\yutan\\anaconda3\\envs\\tensorflow\\lib\\site-packages\\ipykernel_launcher.py:41: FutureWarning: Pass y=[ 0.0000000e+00  0.0000000e+00  0.0000000e+00 ... -1.8310547e-04\n",
      "  1.8310547e-04 -3.0517578e-05], sr=16000 as keyword args. From version 0.10 passing these as positional arguments will result in an error\n",
      "C:\\Users\\yutan\\anaconda3\\envs\\tensorflow\\lib\\site-packages\\ipykernel_launcher.py:41: FutureWarning: Pass y=[-0.1144104  -0.07745361 -0.02270508 ... -0.00283813 -0.00042725\n",
      "  0.00100708], sr=16000 as keyword args. From version 0.10 passing these as positional arguments will result in an error\n",
      "C:\\Users\\yutan\\anaconda3\\envs\\tensorflow\\lib\\site-packages\\ipykernel_launcher.py:41: FutureWarning: Pass y=[ 1.1209100e-05  2.8572931e-05  4.5903966e-05 ... -2.2038228e-04\n",
      " -2.4954198e-04 -1.6039568e-04], sr=16000 as keyword args. From version 0.10 passing these as positional arguments will result in an error\n",
      "C:\\Users\\yutan\\anaconda3\\envs\\tensorflow\\lib\\site-packages\\ipykernel_launcher.py:41: FutureWarning: Pass y=[ 0.00021362  0.00094604  0.00219727 ... -0.00024414  0.00082397\n",
      " -0.00015259], sr=16000 as keyword args. From version 0.10 passing these as positional arguments will result in an error\n",
      "C:\\Users\\yutan\\anaconda3\\envs\\tensorflow\\lib\\site-packages\\ipykernel_launcher.py:41: FutureWarning: Pass y=[3.1735832e-05 2.9026332e-05 3.2923683e-05 ... 1.2086448e-04 7.8639285e-05\n",
      " 4.8474460e-05], sr=16000 as keyword args. From version 0.10 passing these as positional arguments will result in an error\n",
      "C:\\Users\\yutan\\anaconda3\\envs\\tensorflow\\lib\\site-packages\\ipykernel_launcher.py:41: FutureWarning: Pass y=[ 0.00085449 -0.00018311  0.         ... -0.00198364  0.0012207\n",
      " -0.00109863], sr=16000 as keyword args. From version 0.10 passing these as positional arguments will result in an error\n",
      "C:\\Users\\yutan\\anaconda3\\envs\\tensorflow\\lib\\site-packages\\ipykernel_launcher.py:41: FutureWarning: Pass y=[ 0.00033569  0.00027466  0.00112915 ... -0.00094604 -0.00192261\n",
      " -0.0007019 ], sr=16000 as keyword args. From version 0.10 passing these as positional arguments will result in an error\n",
      "C:\\Users\\yutan\\anaconda3\\envs\\tensorflow\\lib\\site-packages\\ipykernel_launcher.py:41: FutureWarning: Pass y=[0.         0.         0.         ... 0.00024414 0.00024414 0.00021362], sr=16000 as keyword args. From version 0.10 passing these as positional arguments will result in an error\n",
      "C:\\Users\\yutan\\anaconda3\\envs\\tensorflow\\lib\\site-packages\\ipykernel_launcher.py:41: FutureWarning: Pass y=[ 0.0000000e+00 -3.0517578e-05  0.0000000e+00 ... -2.4414062e-04\n",
      " -2.7465820e-04 -3.9672852e-04], sr=16000 as keyword args. From version 0.10 passing these as positional arguments will result in an error\n",
      "C:\\Users\\yutan\\anaconda3\\envs\\tensorflow\\lib\\site-packages\\ipykernel_launcher.py:41: FutureWarning: Pass y=[-0.0005188   0.00067139 -0.00152588 ...  0.00204468 -0.00018311\n",
      "  0.00067139], sr=16000 as keyword args. From version 0.10 passing these as positional arguments will result in an error\n",
      "C:\\Users\\yutan\\anaconda3\\envs\\tensorflow\\lib\\site-packages\\ipykernel_launcher.py:41: FutureWarning: Pass y=[-6.1035156e-05  0.0000000e+00  3.0517578e-05 ... -3.0517578e-05\n",
      " -3.0517578e-05  0.0000000e+00], sr=16000 as keyword args. From version 0.10 passing these as positional arguments will result in an error\n",
      "C:\\Users\\yutan\\anaconda3\\envs\\tensorflow\\lib\\site-packages\\ipykernel_launcher.py:41: FutureWarning: Pass y=[ 1.2535710e-02  6.2887520e-03  7.0161433e-03 ... -3.3155673e-05\n",
      " -1.9729963e-05  8.1406921e-07], sr=16000 as keyword args. From version 0.10 passing these as positional arguments will result in an error\n",
      "C:\\Users\\yutan\\anaconda3\\envs\\tensorflow\\lib\\site-packages\\ipykernel_launcher.py:41: FutureWarning: Pass y=[1.1726670e-05 6.3824140e-05 4.6774632e-05 ... 1.3655302e-03 1.2575145e-03\n",
      " 1.1381692e-03], sr=16000 as keyword args. From version 0.10 passing these as positional arguments will result in an error\n",
      "C:\\Users\\yutan\\anaconda3\\envs\\tensorflow\\lib\\site-packages\\ipykernel_launcher.py:41: FutureWarning: Pass y=[ 0.02346802  0.02441406  0.02389526 ...  0.00042725  0.00030518\n",
      " -0.0010376 ], sr=16000 as keyword args. From version 0.10 passing these as positional arguments will result in an error\n",
      "C:\\Users\\yutan\\anaconda3\\envs\\tensorflow\\lib\\site-packages\\ipykernel_launcher.py:41: FutureWarning: Pass y=[ 0.0000000e+00  3.0517578e-05  0.0000000e+00 ... -6.1035156e-05\n",
      "  0.0000000e+00  0.0000000e+00], sr=16000 as keyword args. From version 0.10 passing these as positional arguments will result in an error\n",
      "C:\\Users\\yutan\\anaconda3\\envs\\tensorflow\\lib\\site-packages\\ipykernel_launcher.py:41: FutureWarning: Pass y=[-9.1552734e-05 -1.2207031e-04 -1.2207031e-04 ... -3.0517578e-05\n",
      " -3.0517578e-05  0.0000000e+00], sr=16000 as keyword args. From version 0.10 passing these as positional arguments will result in an error\n",
      "C:\\Users\\yutan\\anaconda3\\envs\\tensorflow\\lib\\site-packages\\ipykernel_launcher.py:41: FutureWarning: Pass y=[ 2.1362305e-04  4.9133301e-03  9.5825195e-03 ...  4.8828125e-04\n",
      " -1.5258789e-04 -6.1035156e-05], sr=16000 as keyword args. From version 0.10 passing these as positional arguments will result in an error\n",
      "C:\\Users\\yutan\\anaconda3\\envs\\tensorflow\\lib\\site-packages\\ipykernel_launcher.py:41: FutureWarning: Pass y=[-3.3353645e-05 -5.3489755e-05 -1.2238973e-05 ... -9.6385193e-05\n",
      " -8.9288143e-05 -9.2682814e-05], sr=16000 as keyword args. From version 0.10 passing these as positional arguments will result in an error\n",
      "C:\\Users\\yutan\\anaconda3\\envs\\tensorflow\\lib\\site-packages\\ipykernel_launcher.py:41: FutureWarning: Pass y=[-1.0681152e-03  6.8664551e-03  1.4923096e-02 ... -3.0517578e-05\n",
      "  0.0000000e+00 -3.0517578e-05], sr=16000 as keyword args. From version 0.10 passing these as positional arguments will result in an error\n",
      "C:\\Users\\yutan\\anaconda3\\envs\\tensorflow\\lib\\site-packages\\ipykernel_launcher.py:41: FutureWarning: Pass y=[-0.00820923 -0.00540161 -0.00442505 ... -0.00161743  0.00128174\n",
      " -0.0015564 ], sr=16000 as keyword args. From version 0.10 passing these as positional arguments will result in an error\n",
      "C:\\Users\\yutan\\anaconda3\\envs\\tensorflow\\lib\\site-packages\\ipykernel_launcher.py:41: FutureWarning: Pass y=[-2.1165564e-05 -3.9001534e-06  3.9350558e-05 ...  1.8954464e-06\n",
      "  3.0828574e-05  2.9605433e-05], sr=16000 as keyword args. From version 0.10 passing these as positional arguments will result in an error\n",
      "C:\\Users\\yutan\\anaconda3\\envs\\tensorflow\\lib\\site-packages\\ipykernel_launcher.py:41: FutureWarning: Pass y=[-6.1035156e-05 -3.0517578e-05 -6.1035156e-05 ...  3.0517578e-05\n",
      "  0.0000000e+00  0.0000000e+00], sr=16000 as keyword args. From version 0.10 passing these as positional arguments will result in an error\n",
      "C:\\Users\\yutan\\anaconda3\\envs\\tensorflow\\lib\\site-packages\\ipykernel_launcher.py:41: FutureWarning: Pass y=[ 0.0000000e+00 -6.1035156e-05 -3.0517578e-05 ... -1.8310547e-04\n",
      " -1.5258789e-04 -1.2207031e-04], sr=16000 as keyword args. From version 0.10 passing these as positional arguments will result in an error\n"
     ]
    },
    {
     "name": "stderr",
     "output_type": "stream",
     "text": [
      "C:\\Users\\yutan\\anaconda3\\envs\\tensorflow\\lib\\site-packages\\ipykernel_launcher.py:41: FutureWarning: Pass y=[ 0.00079346 -0.00045776 -0.00082397 ...  0.00137329  0.00027466\n",
      "  0.00027466], sr=16000 as keyword args. From version 0.10 passing these as positional arguments will result in an error\n",
      "C:\\Users\\yutan\\anaconda3\\envs\\tensorflow\\lib\\site-packages\\ipykernel_launcher.py:41: FutureWarning: Pass y=[-0.00061035  0.00039673 -0.00085449 ...  0.0015564  -0.00222778\n",
      " -0.00088501], sr=16000 as keyword args. From version 0.10 passing these as positional arguments will result in an error\n",
      "C:\\Users\\yutan\\anaconda3\\envs\\tensorflow\\lib\\site-packages\\ipykernel_launcher.py:41: FutureWarning: Pass y=[-1.0894043e-05  1.7848197e-05  2.9585895e-05 ... -2.0731033e-03\n",
      " -1.7746442e-03 -1.5046560e-03], sr=16000 as keyword args. From version 0.10 passing these as positional arguments will result in an error\n",
      "C:\\Users\\yutan\\anaconda3\\envs\\tensorflow\\lib\\site-packages\\ipykernel_launcher.py:41: FutureWarning: Pass y=[-0.02200317 -0.02770996 -0.02127075 ...  0.00100708 -0.0012207\n",
      " -0.00045776], sr=16000 as keyword args. From version 0.10 passing these as positional arguments will result in an error\n",
      "C:\\Users\\yutan\\anaconda3\\envs\\tensorflow\\lib\\site-packages\\ipykernel_launcher.py:41: FutureWarning: Pass y=[ 3.4743174e-05 -2.2586042e-05 -2.4666462e-05 ... -2.0321552e-06\n",
      "  2.5123316e-05 -8.2453495e-05], sr=16000 as keyword args. From version 0.10 passing these as positional arguments will result in an error\n",
      "C:\\Users\\yutan\\anaconda3\\envs\\tensorflow\\lib\\site-packages\\ipykernel_launcher.py:41: FutureWarning: Pass y=[ 0.00686646 -0.02261353 -0.04058838 ...  0.00073242 -0.00079346\n",
      " -0.00085449], sr=16000 as keyword args. From version 0.10 passing these as positional arguments will result in an error\n",
      "C:\\Users\\yutan\\anaconda3\\envs\\tensorflow\\lib\\site-packages\\ipykernel_launcher.py:41: FutureWarning: Pass y=[-9.52148438e-03 -1.40075684e-02 -1.40686035e-02 ...  3.05175781e-05\n",
      "  0.00000000e+00  0.00000000e+00], sr=16000 as keyword args. From version 0.10 passing these as positional arguments will result in an error\n",
      "C:\\Users\\yutan\\anaconda3\\envs\\tensorflow\\lib\\site-packages\\ipykernel_launcher.py:41: FutureWarning: Pass y=[-0.05722046 -0.03591919 -0.01324463 ...  0.00021362 -0.00109863\n",
      " -0.00015259], sr=16000 as keyword args. From version 0.10 passing these as positional arguments will result in an error\n",
      "C:\\Users\\yutan\\anaconda3\\envs\\tensorflow\\lib\\site-packages\\ipykernel_launcher.py:41: FutureWarning: Pass y=[-2.0141602e-03 -3.0517578e-03 -2.4414062e-03 ... -1.8920898e-03\n",
      "  3.0517578e-04 -6.1035156e-05], sr=16000 as keyword args. From version 0.10 passing these as positional arguments will result in an error\n",
      "C:\\Users\\yutan\\anaconda3\\envs\\tensorflow\\lib\\site-packages\\ipykernel_launcher.py:41: FutureWarning: Pass y=[ 0.00115967  0.00137329  0.00024414 ...  0.00115967 -0.00131226\n",
      "  0.00106812], sr=16000 as keyword args. From version 0.10 passing these as positional arguments will result in an error\n",
      "C:\\Users\\yutan\\anaconda3\\envs\\tensorflow\\lib\\site-packages\\ipykernel_launcher.py:41: FutureWarning: Pass y=[ 0.01364136  0.00552368  0.00238037 ...  0.00036621 -0.00030518\n",
      " -0.00021362], sr=16000 as keyword args. From version 0.10 passing these as positional arguments will result in an error\n",
      "C:\\Users\\yutan\\anaconda3\\envs\\tensorflow\\lib\\site-packages\\ipykernel_launcher.py:41: FutureWarning: Pass y=[ 0.0000000e+00 -3.0517578e-05  0.0000000e+00 ... -6.1035156e-05\n",
      " -6.1035156e-05 -3.0517578e-05], sr=16000 as keyword args. From version 0.10 passing these as positional arguments will result in an error\n",
      "C:\\Users\\yutan\\anaconda3\\envs\\tensorflow\\lib\\site-packages\\ipykernel_launcher.py:41: FutureWarning: Pass y=[8.5720174e-05 8.8358989e-05 1.8821102e-05 ... 1.0675986e-05 3.6266953e-05\n",
      " 6.5356980e-05], sr=16000 as keyword args. From version 0.10 passing these as positional arguments will result in an error\n",
      "C:\\Users\\yutan\\anaconda3\\envs\\tensorflow\\lib\\site-packages\\ipykernel_launcher.py:41: FutureWarning: Pass y=[ 2.1667480e-03  4.8828125e-04 -2.1972656e-03 ...  6.1035156e-05\n",
      "  6.1035156e-05  9.1552734e-05], sr=16000 as keyword args. From version 0.10 passing these as positional arguments will result in an error\n",
      "C:\\Users\\yutan\\anaconda3\\envs\\tensorflow\\lib\\site-packages\\ipykernel_launcher.py:41: FutureWarning: Pass y=[ 0.05584717  0.06088257  0.05389404 ... -0.00088501  0.00085449\n",
      "  0.00054932], sr=16000 as keyword args. From version 0.10 passing these as positional arguments will result in an error\n",
      "C:\\Users\\yutan\\anaconda3\\envs\\tensorflow\\lib\\site-packages\\ipykernel_launcher.py:41: FutureWarning: Pass y=[-0.00134277  0.0005188  -0.00234985 ...  0.00057983 -0.00021362\n",
      " -0.0005188 ], sr=16000 as keyword args. From version 0.10 passing these as positional arguments will result in an error\n",
      "C:\\Users\\yutan\\anaconda3\\envs\\tensorflow\\lib\\site-packages\\ipykernel_launcher.py:41: FutureWarning: Pass y=[-1.3588309e-05  2.5839496e-05  1.2005369e-05 ...  3.1335163e-05\n",
      "  7.2285227e-05  6.1141531e-05], sr=16000 as keyword args. From version 0.10 passing these as positional arguments will result in an error\n",
      "C:\\Users\\yutan\\anaconda3\\envs\\tensorflow\\lib\\site-packages\\ipykernel_launcher.py:41: FutureWarning: Pass y=[ 5.4348930e-06 -2.7000951e-05 -3.8044996e-05 ... -1.7356175e-06\n",
      "  1.6735712e-05  9.9126573e-06], sr=16000 as keyword args. From version 0.10 passing these as positional arguments will result in an error\n",
      "C:\\Users\\yutan\\anaconda3\\envs\\tensorflow\\lib\\site-packages\\ipykernel_launcher.py:41: FutureWarning: Pass y=[-4.3029785e-03 -9.4604492e-04 -4.3640137e-03 ...  3.0517578e-05\n",
      " -3.0517578e-05  3.0517578e-05], sr=16000 as keyword args. From version 0.10 passing these as positional arguments will result in an error\n",
      "C:\\Users\\yutan\\anaconda3\\envs\\tensorflow\\lib\\site-packages\\ipykernel_launcher.py:41: FutureWarning: Pass y=[ 1.1901855e-03  9.1552734e-04  4.5776367e-04 ...  0.0000000e+00\n",
      "  0.0000000e+00 -3.0517578e-05], sr=16000 as keyword args. From version 0.10 passing these as positional arguments will result in an error\n",
      "C:\\Users\\yutan\\anaconda3\\envs\\tensorflow\\lib\\site-packages\\ipykernel_launcher.py:41: FutureWarning: Pass y=[-0.00030518  0.00152588  0.00048828 ...  0.00033569 -0.00030518\n",
      "  0.00094604], sr=16000 as keyword args. From version 0.10 passing these as positional arguments will result in an error\n",
      "C:\\Users\\yutan\\anaconda3\\envs\\tensorflow\\lib\\site-packages\\ipykernel_launcher.py:41: FutureWarning: Pass y=[-6.3758525e-05 -1.2924288e-05 -5.8251957e-05 ...  4.9581224e-05\n",
      "  1.4143563e-05  1.9373513e-04], sr=16000 as keyword args. From version 0.10 passing these as positional arguments will result in an error\n",
      "C:\\Users\\yutan\\anaconda3\\envs\\tensorflow\\lib\\site-packages\\ipykernel_launcher.py:41: FutureWarning: Pass y=[0.00219727 0.00018311 0.00024414 ... 0.00027466 0.00180054 0.00128174], sr=16000 as keyword args. From version 0.10 passing these as positional arguments will result in an error\n",
      "C:\\Users\\yutan\\anaconda3\\envs\\tensorflow\\lib\\site-packages\\ipykernel_launcher.py:41: FutureWarning: Pass y=[-2.4414062e-04 -5.7983398e-04 -3.9672852e-04 ...  6.1035156e-05\n",
      " -5.7983398e-04  2.7465820e-04], sr=16000 as keyword args. From version 0.10 passing these as positional arguments will result in an error\n",
      "C:\\Users\\yutan\\anaconda3\\envs\\tensorflow\\lib\\site-packages\\ipykernel_launcher.py:41: FutureWarning: Pass y=[-0.01177979 -0.0067749  -0.01037598 ... -0.00082397 -0.00057983\n",
      " -0.00039673], sr=16000 as keyword args. From version 0.10 passing these as positional arguments will result in an error\n",
      "C:\\Users\\yutan\\anaconda3\\envs\\tensorflow\\lib\\site-packages\\ipykernel_launcher.py:41: FutureWarning: Pass y=[ 1.9296187e-06 -1.8845321e-05 -4.5044948e-05 ... -1.7008830e-05\n",
      " -2.4297649e-04  1.1786987e-04], sr=16000 as keyword args. From version 0.10 passing these as positional arguments will result in an error\n",
      "C:\\Users\\yutan\\anaconda3\\envs\\tensorflow\\lib\\site-packages\\ipykernel_launcher.py:41: FutureWarning: Pass y=[-0.01187134 -0.00732422 -0.01043701 ...  0.00247192 -0.00073242\n",
      " -0.00115967], sr=16000 as keyword args. From version 0.10 passing these as positional arguments will result in an error\n",
      "C:\\Users\\yutan\\anaconda3\\envs\\tensorflow\\lib\\site-packages\\ipykernel_launcher.py:41: FutureWarning: Pass y=[ 1.6821225e-06 -1.9621431e-05 -3.5253073e-05 ... -7.3379269e-05\n",
      " -1.2798022e-05 -9.3240569e-06], sr=16000 as keyword args. From version 0.10 passing these as positional arguments will result in an error\n",
      "C:\\Users\\yutan\\anaconda3\\envs\\tensorflow\\lib\\site-packages\\ipykernel_launcher.py:41: FutureWarning: Pass y=[ 0.02709961 -0.01651001 -0.04400635 ... -0.0012207   0.00115967\n",
      "  0.00015259], sr=16000 as keyword args. From version 0.10 passing these as positional arguments will result in an error\n",
      "C:\\Users\\yutan\\anaconda3\\envs\\tensorflow\\lib\\site-packages\\ipykernel_launcher.py:41: FutureWarning: Pass y=[ 6.1035156e-05  3.0517578e-05  6.1035156e-05 ... -5.1574707e-03\n",
      " -5.4016113e-03 -5.6152344e-03], sr=16000 as keyword args. From version 0.10 passing these as positional arguments will result in an error\n",
      "C:\\Users\\yutan\\anaconda3\\envs\\tensorflow\\lib\\site-packages\\ipykernel_launcher.py:41: FutureWarning: Pass y=[ 0.00067139  0.0010376  -0.00021362 ... -0.00039673  0.00021362\n",
      " -0.00143433], sr=16000 as keyword args. From version 0.10 passing these as positional arguments will result in an error\n",
      "C:\\Users\\yutan\\anaconda3\\envs\\tensorflow\\lib\\site-packages\\ipykernel_launcher.py:41: FutureWarning: Pass y=[-3.0517578e-05  0.0000000e+00  0.0000000e+00 ...  3.0517578e-05\n",
      " -3.0517578e-05  0.0000000e+00], sr=16000 as keyword args. From version 0.10 passing these as positional arguments will result in an error\n"
     ]
    },
    {
     "name": "stderr",
     "output_type": "stream",
     "text": [
      "C:\\Users\\yutan\\anaconda3\\envs\\tensorflow\\lib\\site-packages\\ipykernel_launcher.py:41: FutureWarning: Pass y=[-2.4277169e-05  3.2614200e-05  3.9736283e-06 ... -3.8213475e-08\n",
      " -1.9422914e-05 -2.3805535e-05], sr=16000 as keyword args. From version 0.10 passing these as positional arguments will result in an error\n",
      "C:\\Users\\yutan\\anaconda3\\envs\\tensorflow\\lib\\site-packages\\ipykernel_launcher.py:41: FutureWarning: Pass y=[ 2.0804040e-02  2.0930463e-02  1.7636467e-02 ... -3.2261112e-06\n",
      "  2.7430528e-05  4.9304854e-05], sr=16000 as keyword args. From version 0.10 passing these as positional arguments will result in an error\n",
      "C:\\Users\\yutan\\anaconda3\\envs\\tensorflow\\lib\\site-packages\\ipykernel_launcher.py:41: FutureWarning: Pass y=[ 3.6793008e-06 -4.5016818e-06  1.0503689e-05 ... -9.2894206e-06\n",
      "  3.0609881e-05 -4.8593709e-05], sr=16000 as keyword args. From version 0.10 passing these as positional arguments will result in an error\n",
      "C:\\Users\\yutan\\anaconda3\\envs\\tensorflow\\lib\\site-packages\\ipykernel_launcher.py:41: FutureWarning: Pass y=[ 0.00039673  0.01034546  0.01742554 ...  0.00045776  0.00030518\n",
      " -0.00027466], sr=16000 as keyword args. From version 0.10 passing these as positional arguments will result in an error\n",
      "C:\\Users\\yutan\\anaconda3\\envs\\tensorflow\\lib\\site-packages\\ipykernel_launcher.py:41: FutureWarning: Pass y=[ 3.7292480e-02  2.8167725e-02  1.3031006e-02 ... -3.0517578e-05\n",
      "  6.1035156e-05 -6.1035156e-05], sr=16000 as keyword args. From version 0.10 passing these as positional arguments will result in an error\n",
      "C:\\Users\\yutan\\anaconda3\\envs\\tensorflow\\lib\\site-packages\\ipykernel_launcher.py:41: FutureWarning: Pass y=[-2.1362305e-04 -4.2724609e-04 -1.3732910e-03 ...  6.4086914e-04\n",
      "  9.1552734e-05  6.1035156e-04], sr=16000 as keyword args. From version 0.10 passing these as positional arguments will result in an error\n",
      "C:\\Users\\yutan\\anaconda3\\envs\\tensorflow\\lib\\site-packages\\ipykernel_launcher.py:41: FutureWarning: Pass y=[-0.0223999  -0.00405884 -0.0088501  ... -0.00048828  0.00036621\n",
      "  0.0005188 ], sr=16000 as keyword args. From version 0.10 passing these as positional arguments will result in an error\n",
      "C:\\Users\\yutan\\anaconda3\\envs\\tensorflow\\lib\\site-packages\\ipykernel_launcher.py:41: FutureWarning: Pass y=[-0.01956177 -0.01382446 -0.00494385 ...  0.00167847 -0.00134277\n",
      " -0.00015259], sr=16000 as keyword args. From version 0.10 passing these as positional arguments will result in an error\n",
      "C:\\Users\\yutan\\anaconda3\\envs\\tensorflow\\lib\\site-packages\\ipykernel_launcher.py:41: FutureWarning: Pass y=[-4.0919567e-06  2.8636591e-06 -1.0595651e-05 ... -9.0222366e-06\n",
      "  3.1964055e-06 -3.2794604e-05], sr=16000 as keyword args. From version 0.10 passing these as positional arguments will result in an error\n",
      "C:\\Users\\yutan\\anaconda3\\envs\\tensorflow\\lib\\site-packages\\ipykernel_launcher.py:41: FutureWarning: Pass y=[-0.00073242 -0.00021362  0.00012207 ... -0.00109863 -0.00137329\n",
      " -0.00085449], sr=16000 as keyword args. From version 0.10 passing these as positional arguments will result in an error\n",
      "C:\\Users\\yutan\\anaconda3\\envs\\tensorflow\\lib\\site-packages\\ipykernel_launcher.py:41: FutureWarning: Pass y=[-0.00097656  0.00015259 -0.00045776 ... -0.0007019  -0.00076294\n",
      " -0.00091553], sr=16000 as keyword args. From version 0.10 passing these as positional arguments will result in an error\n",
      "C:\\Users\\yutan\\anaconda3\\envs\\tensorflow\\lib\\site-packages\\ipykernel_launcher.py:41: FutureWarning: Pass y=[-0.00094604  0.00021362 -0.00021362 ... -0.00027466  0.00082397\n",
      "  0.00033569], sr=16000 as keyword args. From version 0.10 passing these as positional arguments will result in an error\n",
      "C:\\Users\\yutan\\anaconda3\\envs\\tensorflow\\lib\\site-packages\\ipykernel_launcher.py:41: FutureWarning: Pass y=[ 0.00509644  0.00210571  0.00439453 ... -0.00064087 -0.00073242\n",
      "  0.00027466], sr=16000 as keyword args. From version 0.10 passing these as positional arguments will result in an error\n",
      "C:\\Users\\yutan\\anaconda3\\envs\\tensorflow\\lib\\site-packages\\ipykernel_launcher.py:41: FutureWarning: Pass y=[ 0.00048828  0.00228882 -0.00085449 ...  0.00057983  0.00097656\n",
      "  0.00149536], sr=16000 as keyword args. From version 0.10 passing these as positional arguments will result in an error\n",
      "C:\\Users\\yutan\\anaconda3\\envs\\tensorflow\\lib\\site-packages\\ipykernel_launcher.py:41: FutureWarning: Pass y=[ 1.2817383e-03 -1.8310547e-04  9.1552734e-05 ... -6.7138672e-04\n",
      "  9.1552734e-05 -3.9672852e-04], sr=16000 as keyword args. From version 0.10 passing these as positional arguments will result in an error\n",
      "C:\\Users\\yutan\\anaconda3\\envs\\tensorflow\\lib\\site-packages\\ipykernel_launcher.py:41: FutureWarning: Pass y=[ 0.00357056 -0.0116272  -0.01251221 ...  0.00064087 -0.00042725\n",
      "  0.00088501], sr=16000 as keyword args. From version 0.10 passing these as positional arguments will result in an error\n",
      "C:\\Users\\yutan\\anaconda3\\envs\\tensorflow\\lib\\site-packages\\ipykernel_launcher.py:41: FutureWarning: Pass y=[0.00021362 0.00033569 0.00015259 ... 0.00100708 0.00216675 0.00280762], sr=16000 as keyword args. From version 0.10 passing these as positional arguments will result in an error\n",
      "C:\\Users\\yutan\\anaconda3\\envs\\tensorflow\\lib\\site-packages\\ipykernel_launcher.py:41: FutureWarning: Pass y=[-6.0851471e-05 -1.8066781e-05  8.0833934e-06 ...  8.2952385e-05\n",
      "  5.9305599e-05  8.3865503e-05], sr=16000 as keyword args. From version 0.10 passing these as positional arguments will result in an error\n",
      "C:\\Users\\yutan\\anaconda3\\envs\\tensorflow\\lib\\site-packages\\ipykernel_launcher.py:41: FutureWarning: Pass y=[-0.04925537 -0.03894043 -0.01345825 ...  0.00012207  0.00036621\n",
      "  0.00027466], sr=16000 as keyword args. From version 0.10 passing these as positional arguments will result in an error\n",
      "C:\\Users\\yutan\\anaconda3\\envs\\tensorflow\\lib\\site-packages\\ipykernel_launcher.py:41: FutureWarning: Pass y=[ 0.00015259 -0.00012207 -0.00115967 ...  0.00073242 -0.00079346\n",
      " -0.00152588], sr=16000 as keyword args. From version 0.10 passing these as positional arguments will result in an error\n",
      "C:\\Users\\yutan\\anaconda3\\envs\\tensorflow\\lib\\site-packages\\ipykernel_launcher.py:41: FutureWarning: Pass y=[ 0.03771973  0.00274658 -0.01461792 ...  0.00177002  0.00091553\n",
      " -0.00418091], sr=16000 as keyword args. From version 0.10 passing these as positional arguments will result in an error\n",
      "C:\\Users\\yutan\\anaconda3\\envs\\tensorflow\\lib\\site-packages\\ipykernel_launcher.py:41: FutureWarning: Pass y=[-3.0517578e-05 -6.1035156e-05 -3.0517578e-05 ... -3.0517578e-05\n",
      " -3.0517578e-05 -3.0517578e-05], sr=16000 as keyword args. From version 0.10 passing these as positional arguments will result in an error\n",
      "C:\\Users\\yutan\\anaconda3\\envs\\tensorflow\\lib\\site-packages\\ipykernel_launcher.py:41: FutureWarning: Pass y=[-1.2207031e-04 -9.1552734e-05 -9.1552734e-05 ... -3.0517578e-05\n",
      " -3.0517578e-05  0.0000000e+00], sr=16000 as keyword args. From version 0.10 passing these as positional arguments will result in an error\n",
      "C:\\Users\\yutan\\anaconda3\\envs\\tensorflow\\lib\\site-packages\\ipykernel_launcher.py:41: FutureWarning: Pass y=[ 0.0027771   0.00338745 -0.00149536 ... -0.00064087 -0.00018311\n",
      " -0.00048828], sr=16000 as keyword args. From version 0.10 passing these as positional arguments will result in an error\n",
      "C:\\Users\\yutan\\anaconda3\\envs\\tensorflow\\lib\\site-packages\\ipykernel_launcher.py:41: FutureWarning: Pass y=[ 0.00296021  0.00012207  0.00296021 ...  0.00024414  0.00036621\n",
      " -0.00015259], sr=16000 as keyword args. From version 0.10 passing these as positional arguments will result in an error\n",
      "C:\\Users\\yutan\\anaconda3\\envs\\tensorflow\\lib\\site-packages\\ipykernel_launcher.py:41: FutureWarning: Pass y=[ 6.1035156e-05  0.0000000e+00  3.0517578e-05 ... -6.1035156e-05\n",
      " -3.0517578e-05 -2.1362305e-04], sr=16000 as keyword args. From version 0.10 passing these as positional arguments will result in an error\n",
      "C:\\Users\\yutan\\anaconda3\\envs\\tensorflow\\lib\\site-packages\\ipykernel_launcher.py:41: FutureWarning: Pass y=[-3.0517578e-05  1.5258789e-04  5.7983398e-04 ... -1.2207031e-04\n",
      " -1.1901855e-03 -6.4086914e-04], sr=16000 as keyword args. From version 0.10 passing these as positional arguments will result in an error\n",
      "C:\\Users\\yutan\\anaconda3\\envs\\tensorflow\\lib\\site-packages\\ipykernel_launcher.py:41: FutureWarning: Pass y=[ 2.1636963e-02  2.1118164e-02  1.5533447e-02 ...  3.0517578e-05\n",
      " -3.3569336e-04 -1.1596680e-03], sr=16000 as keyword args. From version 0.10 passing these as positional arguments will result in an error\n",
      "C:\\Users\\yutan\\anaconda3\\envs\\tensorflow\\lib\\site-packages\\ipykernel_launcher.py:41: FutureWarning: Pass y=[0.07333374 0.05578613 0.02056885 ... 0.00018311 0.         0.00024414], sr=16000 as keyword args. From version 0.10 passing these as positional arguments will result in an error\n",
      "C:\\Users\\yutan\\anaconda3\\envs\\tensorflow\\lib\\site-packages\\ipykernel_launcher.py:41: FutureWarning: Pass y=[-3.0517578e-05 -3.0517578e-05  0.0000000e+00 ... -9.1552734e-05\n",
      "  9.1552734e-05 -3.0517578e-05], sr=16000 as keyword args. From version 0.10 passing these as positional arguments will result in an error\n",
      "C:\\Users\\yutan\\anaconda3\\envs\\tensorflow\\lib\\site-packages\\ipykernel_launcher.py:41: FutureWarning: Pass y=[-2.4780273e-02 -3.3813477e-02 -4.6417236e-02 ... -3.0517578e-04\n",
      " -6.1035156e-05  0.0000000e+00], sr=16000 as keyword args. From version 0.10 passing these as positional arguments will result in an error\n",
      "C:\\Users\\yutan\\anaconda3\\envs\\tensorflow\\lib\\site-packages\\ipykernel_launcher.py:41: FutureWarning: Pass y=[ 0.0000000e+00 -3.0517578e-05  0.0000000e+00 ... -2.3925781e-02\n",
      " -2.5421143e-02 -2.7679443e-02], sr=16000 as keyword args. From version 0.10 passing these as positional arguments will result in an error\n",
      "C:\\Users\\yutan\\anaconda3\\envs\\tensorflow\\lib\\site-packages\\ipykernel_launcher.py:41: FutureWarning: Pass y=[ 0.00082397 -0.00054932 -0.00018311 ...  0.00149536  0.00088501\n",
      " -0.00143433], sr=16000 as keyword args. From version 0.10 passing these as positional arguments will result in an error\n"
     ]
    },
    {
     "name": "stderr",
     "output_type": "stream",
     "text": [
      "C:\\Users\\yutan\\anaconda3\\envs\\tensorflow\\lib\\site-packages\\ipykernel_launcher.py:41: FutureWarning: Pass y=[ 0.0000000e+00 -3.0517578e-05 -6.1035156e-05 ...  3.0517578e-05\n",
      "  3.0517578e-05  0.0000000e+00], sr=16000 as keyword args. From version 0.10 passing these as positional arguments will result in an error\n",
      "C:\\Users\\yutan\\anaconda3\\envs\\tensorflow\\lib\\site-packages\\ipykernel_launcher.py:41: FutureWarning: Pass y=[ 7.0190430e-04 -4.5776367e-04 -1.1901855e-03 ...  5.4931641e-04\n",
      " -3.0517578e-05  1.2207031e-04], sr=16000 as keyword args. From version 0.10 passing these as positional arguments will result in an error\n",
      "C:\\Users\\yutan\\anaconda3\\envs\\tensorflow\\lib\\site-packages\\ipykernel_launcher.py:41: FutureWarning: Pass y=[-0.00015259  0.00039673  0.00042725 ... -0.00210571 -0.00228882\n",
      " -0.00204468], sr=16000 as keyword args. From version 0.10 passing these as positional arguments will result in an error\n",
      "C:\\Users\\yutan\\anaconda3\\envs\\tensorflow\\lib\\site-packages\\ipykernel_launcher.py:41: FutureWarning: Pass y=[-6.1035156e-05 -3.0517578e-05  3.0517578e-05 ... -6.1035156e-05\n",
      " -3.0517578e-05 -6.1035156e-05], sr=16000 as keyword args. From version 0.10 passing these as positional arguments will result in an error\n",
      "C:\\Users\\yutan\\anaconda3\\envs\\tensorflow\\lib\\site-packages\\ipykernel_launcher.py:41: FutureWarning: Pass y=[ 0.0000000e+00 -6.1035156e-05 -3.0517578e-05 ...  0.0000000e+00\n",
      "  0.0000000e+00  0.0000000e+00], sr=16000 as keyword args. From version 0.10 passing these as positional arguments will result in an error\n",
      "C:\\Users\\yutan\\anaconda3\\envs\\tensorflow\\lib\\site-packages\\ipykernel_launcher.py:41: FutureWarning: Pass y=[ 9.1552734e-05  1.0986328e-03  3.6621094e-04 ... -1.2512207e-03\n",
      "  1.8920898e-03  1.0070801e-03], sr=16000 as keyword args. From version 0.10 passing these as positional arguments will result in an error\n",
      "C:\\Users\\yutan\\anaconda3\\envs\\tensorflow\\lib\\site-packages\\ipykernel_launcher.py:41: FutureWarning: Pass y=[-0.046875   -0.03555298 -0.00671387 ...  0.00064087 -0.00137329\n",
      "  0.00048828], sr=16000 as keyword args. From version 0.10 passing these as positional arguments will result in an error\n",
      "C:\\Users\\yutan\\anaconda3\\envs\\tensorflow\\lib\\site-packages\\ipykernel_launcher.py:41: FutureWarning: Pass y=[-1.7925153e-05 -2.0852025e-05  1.9776264e-06 ... -2.4186565e-04\n",
      "  1.5746638e-04 -8.5377033e-05], sr=16000 as keyword args. From version 0.10 passing these as positional arguments will result in an error\n",
      "C:\\Users\\yutan\\anaconda3\\envs\\tensorflow\\lib\\site-packages\\ipykernel_launcher.py:41: FutureWarning: Pass y=[ 4.8828125e-04 -1.1901855e-03 -7.3242188e-04 ... -8.8500977e-04\n",
      " -3.9672852e-04 -9.1552734e-05], sr=16000 as keyword args. From version 0.10 passing these as positional arguments will result in an error\n",
      "C:\\Users\\yutan\\anaconda3\\envs\\tensorflow\\lib\\site-packages\\ipykernel_launcher.py:41: FutureWarning: Pass y=[ 9.1552734e-05  9.4604492e-04  1.6784668e-03 ...  9.1552734e-05\n",
      " -2.1362305e-04 -2.7465820e-04], sr=16000 as keyword args. From version 0.10 passing these as positional arguments will result in an error\n",
      "C:\\Users\\yutan\\anaconda3\\envs\\tensorflow\\lib\\site-packages\\ipykernel_launcher.py:41: FutureWarning: Pass y=[-6.5047634e-06  7.7623918e-06  3.4048258e-05 ... -1.1161097e-04\n",
      " -8.2627288e-05 -2.3771419e-05], sr=16000 as keyword args. From version 0.10 passing these as positional arguments will result in an error\n",
      "C:\\Users\\yutan\\anaconda3\\envs\\tensorflow\\lib\\site-packages\\ipykernel_launcher.py:41: FutureWarning: Pass y=[0.00662231 0.01654053 0.01843262 ... 0.00109863 0.00012207 0.00262451], sr=16000 as keyword args. From version 0.10 passing these as positional arguments will result in an error\n",
      "C:\\Users\\yutan\\anaconda3\\envs\\tensorflow\\lib\\site-packages\\ipykernel_launcher.py:41: FutureWarning: Pass y=[ 4.5776367e-04  6.1035156e-05  9.1552734e-05 ... -3.0517578e-05\n",
      " -1.2207031e-04  1.5258789e-04], sr=16000 as keyword args. From version 0.10 passing these as positional arguments will result in an error\n",
      "C:\\Users\\yutan\\anaconda3\\envs\\tensorflow\\lib\\site-packages\\ipykernel_launcher.py:41: FutureWarning: Pass y=[-9.907459e-05 -9.135259e-05 -1.230012e-04 ... -3.364997e-05 -6.126928e-05\n",
      " -9.009241e-05], sr=16000 as keyword args. From version 0.10 passing these as positional arguments will result in an error\n",
      "C:\\Users\\yutan\\anaconda3\\envs\\tensorflow\\lib\\site-packages\\ipykernel_launcher.py:41: FutureWarning: Pass y=[ 7.0190430e-04 -8.2397461e-04 -1.2817383e-03 ...  6.1035156e-05\n",
      "  3.6621094e-04 -6.4086914e-04], sr=16000 as keyword args. From version 0.10 passing these as positional arguments will result in an error\n",
      "C:\\Users\\yutan\\anaconda3\\envs\\tensorflow\\lib\\site-packages\\ipykernel_launcher.py:41: FutureWarning: Pass y=[ 0.00012207  0.00048828  0.00253296 ...  0.00076294  0.00033569\n",
      " -0.00100708], sr=16000 as keyword args. From version 0.10 passing these as positional arguments will result in an error\n",
      "C:\\Users\\yutan\\anaconda3\\envs\\tensorflow\\lib\\site-packages\\ipykernel_launcher.py:41: FutureWarning: Pass y=[-2.4414062e-04  2.1362305e-04  2.2888184e-03 ...  4.5776367e-04\n",
      "  9.1552734e-05 -2.8076172e-03], sr=16000 as keyword args. From version 0.10 passing these as positional arguments will result in an error\n",
      "C:\\Users\\yutan\\anaconda3\\envs\\tensorflow\\lib\\site-packages\\ipykernel_launcher.py:41: FutureWarning: Pass y=[-0.00067139  0.00048828 -0.00091553 ...  0.00128174 -0.00100708\n",
      " -0.00164795], sr=16000 as keyword args. From version 0.10 passing these as positional arguments will result in an error\n",
      "C:\\Users\\yutan\\anaconda3\\envs\\tensorflow\\lib\\site-packages\\ipykernel_launcher.py:41: FutureWarning: Pass y=[-0.00021362  0.00036621  0.00021362 ...  0.0010376  -0.00021362\n",
      " -0.00015259], sr=16000 as keyword args. From version 0.10 passing these as positional arguments will result in an error\n",
      "C:\\Users\\yutan\\anaconda3\\envs\\tensorflow\\lib\\site-packages\\ipykernel_launcher.py:41: FutureWarning: Pass y=[ 0.00106812 -0.00024414 -0.00027466 ...  0.00061035 -0.0012207\n",
      "  0.00045776], sr=16000 as keyword args. From version 0.10 passing these as positional arguments will result in an error\n",
      "C:\\Users\\yutan\\anaconda3\\envs\\tensorflow\\lib\\site-packages\\ipykernel_launcher.py:41: FutureWarning: Pass y=[-6.0812690e-05 -6.0826114e-05 -6.2341387e-05 ... -6.4482347e-06\n",
      "  1.6864949e-05  3.6296911e-05], sr=16000 as keyword args. From version 0.10 passing these as positional arguments will result in an error\n",
      "C:\\Users\\yutan\\anaconda3\\envs\\tensorflow\\lib\\site-packages\\ipykernel_launcher.py:41: FutureWarning: Pass y=[ 0.0000000e+00  3.0517578e-05  0.0000000e+00 ... -2.7465820e-04\n",
      " -1.8310547e-04 -9.1552734e-05], sr=16000 as keyword args. From version 0.10 passing these as positional arguments will result in an error\n",
      "C:\\Users\\yutan\\anaconda3\\envs\\tensorflow\\lib\\site-packages\\ipykernel_launcher.py:41: FutureWarning: Pass y=[-9.4105824e-05 -7.2316288e-05 -5.9069436e-05 ...  3.1816719e-05\n",
      "  2.7363796e-05  4.6165238e-05], sr=16000 as keyword args. From version 0.10 passing these as positional arguments will result in an error\n",
      "C:\\Users\\yutan\\anaconda3\\envs\\tensorflow\\lib\\site-packages\\ipykernel_launcher.py:41: FutureWarning: Pass y=[-9.1552734e-05 -9.1552734e-05  0.0000000e+00 ... -1.8310547e-04\n",
      " -2.1362305e-04 -2.1362305e-04], sr=16000 as keyword args. From version 0.10 passing these as positional arguments will result in an error\n",
      "C:\\Users\\yutan\\anaconda3\\envs\\tensorflow\\lib\\site-packages\\ipykernel_launcher.py:41: FutureWarning: Pass y=[-5.4321289e-03 -6.1645508e-03 -6.8359375e-03 ...  0.0000000e+00\n",
      " -6.1035156e-05  3.0517578e-05], sr=16000 as keyword args. From version 0.10 passing these as positional arguments will result in an error\n",
      "C:\\Users\\yutan\\anaconda3\\envs\\tensorflow\\lib\\site-packages\\ipykernel_launcher.py:41: FutureWarning: Pass y=[ 0.          0.          0.         ...  0.00015259 -0.00091553\n",
      " -0.00088501], sr=16000 as keyword args. From version 0.10 passing these as positional arguments will result in an error\n",
      "C:\\Users\\yutan\\anaconda3\\envs\\tensorflow\\lib\\site-packages\\ipykernel_launcher.py:41: FutureWarning: Pass y=[-6.1035156e-05 -1.8310547e-04 -2.7465820e-04 ...  1.5258789e-03\n",
      "  1.2817383e-03  1.0681152e-03], sr=16000 as keyword args. From version 0.10 passing these as positional arguments will result in an error\n",
      "C:\\Users\\yutan\\anaconda3\\envs\\tensorflow\\lib\\site-packages\\ipykernel_launcher.py:41: FutureWarning: Pass y=[-1.5258789e-04 -1.2207031e-04 -9.1552734e-05 ... -1.8310547e-04\n",
      " -1.2207031e-04 -1.2207031e-04], sr=16000 as keyword args. From version 0.10 passing these as positional arguments will result in an error\n",
      "C:\\Users\\yutan\\anaconda3\\envs\\tensorflow\\lib\\site-packages\\ipykernel_launcher.py:41: FutureWarning: Pass y=[-0.0010376  -0.00115967  0.00131226 ...  0.00149536 -0.00027466\n",
      "  0.00012207], sr=16000 as keyword args. From version 0.10 passing these as positional arguments will result in an error\n",
      "C:\\Users\\yutan\\anaconda3\\envs\\tensorflow\\lib\\site-packages\\ipykernel_launcher.py:41: FutureWarning: Pass y=[ 0.0000000e+00 -6.1035156e-05 -3.0517578e-05 ... -7.3242188e-04\n",
      " -6.4086914e-04 -5.4931641e-04], sr=16000 as keyword args. From version 0.10 passing these as positional arguments will result in an error\n",
      "C:\\Users\\yutan\\anaconda3\\envs\\tensorflow\\lib\\site-packages\\ipykernel_launcher.py:41: FutureWarning: Pass y=[ 0.0017395   0.0005188  -0.00036621 ...  0.00021362  0.00057983\n",
      "  0.00140381], sr=16000 as keyword args. From version 0.10 passing these as positional arguments will result in an error\n",
      "C:\\Users\\yutan\\anaconda3\\envs\\tensorflow\\lib\\site-packages\\ipykernel_launcher.py:41: FutureWarning: Pass y=[-0.03652954 -0.02966309 -0.02722168 ...  0.0010376   0.00036621\n",
      " -0.00134277], sr=16000 as keyword args. From version 0.10 passing these as positional arguments will result in an error\n",
      "C:\\Users\\yutan\\anaconda3\\envs\\tensorflow\\lib\\site-packages\\ipykernel_launcher.py:41: FutureWarning: Pass y=[ 3.0517578e-05  0.0000000e+00  3.0517578e-05 ...  2.7465820e-04\n",
      " -9.1552734e-05 -1.2207031e-04], sr=16000 as keyword args. From version 0.10 passing these as positional arguments will result in an error\n"
     ]
    },
    {
     "name": "stderr",
     "output_type": "stream",
     "text": [
      "C:\\Users\\yutan\\anaconda3\\envs\\tensorflow\\lib\\site-packages\\ipykernel_launcher.py:41: FutureWarning: Pass y=[-1.0697445e-05 -2.5345300e-05 -5.4135667e-06 ...  6.9477534e-07\n",
      " -2.6917756e-05 -9.3618792e-06], sr=16000 as keyword args. From version 0.10 passing these as positional arguments will result in an error\n",
      "C:\\Users\\yutan\\anaconda3\\envs\\tensorflow\\lib\\site-packages\\ipykernel_launcher.py:41: FutureWarning: Pass y=[ 0.0000000e+00  0.0000000e+00 -3.0517578e-05 ...  9.1552734e-05\n",
      " -3.0517578e-05 -6.1035156e-05], sr=16000 as keyword args. From version 0.10 passing these as positional arguments will result in an error\n",
      "C:\\Users\\yutan\\anaconda3\\envs\\tensorflow\\lib\\site-packages\\ipykernel_launcher.py:41: FutureWarning: Pass y=[-0.00100708  0.00161743  0.00820923 ... -0.00097656 -0.00015259\n",
      " -0.00018311], sr=16000 as keyword args. From version 0.10 passing these as positional arguments will result in an error\n",
      "C:\\Users\\yutan\\anaconda3\\envs\\tensorflow\\lib\\site-packages\\ipykernel_launcher.py:41: FutureWarning: Pass y=[-1.1214538e-02 -2.2023167e-02 -4.0577773e-02 ... -6.9878301e-06\n",
      " -1.2929967e-06  4.7486474e-06], sr=16000 as keyword args. From version 0.10 passing these as positional arguments will result in an error\n",
      "C:\\Users\\yutan\\anaconda3\\envs\\tensorflow\\lib\\site-packages\\ipykernel_launcher.py:41: FutureWarning: Pass y=[ 0.00039673  0.00033569  0.00030518 ... -0.00054932  0.00036621\n",
      "  0.00146484], sr=16000 as keyword args. From version 0.10 passing these as positional arguments will result in an error\n",
      "C:\\Users\\yutan\\anaconda3\\envs\\tensorflow\\lib\\site-packages\\ipykernel_launcher.py:41: FutureWarning: Pass y=[ 6.1035156e-05  9.1552734e-05  1.2207031e-04 ...  0.0000000e+00\n",
      " -3.0517578e-05  0.0000000e+00], sr=16000 as keyword args. From version 0.10 passing these as positional arguments will result in an error\n",
      "C:\\Users\\yutan\\anaconda3\\envs\\tensorflow\\lib\\site-packages\\ipykernel_launcher.py:41: FutureWarning: Pass y=[-0.00527954  0.00137329  0.01846313 ... -0.00018311  0.00073242\n",
      " -0.00018311], sr=16000 as keyword args. From version 0.10 passing these as positional arguments will result in an error\n",
      "C:\\Users\\yutan\\anaconda3\\envs\\tensorflow\\lib\\site-packages\\ipykernel_launcher.py:41: FutureWarning: Pass y=[-3.0517578e-05  0.0000000e+00  3.0517578e-05 ...  0.0000000e+00\n",
      "  2.1362305e-04 -1.2207031e-04], sr=16000 as keyword args. From version 0.10 passing these as positional arguments will result in an error\n",
      "C:\\Users\\yutan\\anaconda3\\envs\\tensorflow\\lib\\site-packages\\ipykernel_launcher.py:41: FutureWarning: Pass y=[-3.4407516e-05 -2.5038909e-05  3.8556347e-05 ...  1.3656308e-03\n",
      "  1.6970229e-03  1.7410256e-03], sr=16000 as keyword args. From version 0.10 passing these as positional arguments will result in an error\n",
      "C:\\Users\\yutan\\anaconda3\\envs\\tensorflow\\lib\\site-packages\\ipykernel_launcher.py:41: FutureWarning: Pass y=[-6.6528320e-03 -1.2664795e-02 -1.1077881e-02 ...  1.4343262e-03\n",
      "  6.1035156e-05  3.0517578e-04], sr=16000 as keyword args. From version 0.10 passing these as positional arguments will result in an error\n",
      "C:\\Users\\yutan\\anaconda3\\envs\\tensorflow\\lib\\site-packages\\ipykernel_launcher.py:41: FutureWarning: Pass y=[-3.0252735e-05 -1.7874880e-05  4.3341297e-06 ...  4.1940371e-03\n",
      "  2.4395860e-03  4.5137610e-03], sr=16000 as keyword args. From version 0.10 passing these as positional arguments will result in an error\n",
      "C:\\Users\\yutan\\anaconda3\\envs\\tensorflow\\lib\\site-packages\\ipykernel_launcher.py:41: FutureWarning: Pass y=[-2.6301020e-06 -4.6816829e-05 -5.3727017e-05 ... -3.7459638e-06\n",
      "  6.9296239e-06  5.5940091e-05], sr=16000 as keyword args. From version 0.10 passing these as positional arguments will result in an error\n",
      "C:\\Users\\yutan\\anaconda3\\envs\\tensorflow\\lib\\site-packages\\ipykernel_launcher.py:41: FutureWarning: Pass y=[3.0517578e-05 0.0000000e+00 3.0517578e-05 ... 3.0517578e-05 3.0517578e-05\n",
      " 3.0517578e-05], sr=16000 as keyword args. From version 0.10 passing these as positional arguments will result in an error\n",
      "C:\\Users\\yutan\\anaconda3\\envs\\tensorflow\\lib\\site-packages\\ipykernel_launcher.py:41: FutureWarning: Pass y=[-0.00534058 -0.00189209  0.00201416 ...  0.00109863 -0.00088501\n",
      "  0.00021362], sr=16000 as keyword args. From version 0.10 passing these as positional arguments will result in an error\n",
      "C:\\Users\\yutan\\anaconda3\\envs\\tensorflow\\lib\\site-packages\\ipykernel_launcher.py:41: FutureWarning: Pass y=[-4.9387741e-05 -1.9902471e-05  3.5381556e-05 ... -1.0157627e-03\n",
      "  2.2403226e-04  4.6120438e-04], sr=16000 as keyword args. From version 0.10 passing these as positional arguments will result in an error\n",
      "C:\\Users\\yutan\\anaconda3\\envs\\tensorflow\\lib\\site-packages\\ipykernel_launcher.py:41: FutureWarning: Pass y=[ 1.7686144e-02  1.1179686e-02  4.9281185e-03 ... -9.7224067e-05\n",
      " -8.6155778e-05 -1.1319807e-04], sr=16000 as keyword args. From version 0.10 passing these as positional arguments will result in an error\n",
      "C:\\Users\\yutan\\anaconda3\\envs\\tensorflow\\lib\\site-packages\\ipykernel_launcher.py:41: FutureWarning: Pass y=[ 0.0000000e+00  3.0517578e-05  0.0000000e+00 ... -3.0517578e-05\n",
      "  0.0000000e+00 -9.1552734e-05], sr=16000 as keyword args. From version 0.10 passing these as positional arguments will result in an error\n",
      "C:\\Users\\yutan\\anaconda3\\envs\\tensorflow\\lib\\site-packages\\ipykernel_launcher.py:41: FutureWarning: Pass y=[-0.01257324 -0.01824951 -0.01351929 ... -0.00128174  0.00054932\n",
      "  0.00143433], sr=16000 as keyword args. From version 0.10 passing these as positional arguments will result in an error\n",
      "C:\\Users\\yutan\\anaconda3\\envs\\tensorflow\\lib\\site-packages\\ipykernel_launcher.py:41: FutureWarning: Pass y=[-0.01010132 -0.01751709 -0.01751709 ... -0.00057983  0.0007019\n",
      "  0.0017395 ], sr=16000 as keyword args. From version 0.10 passing these as positional arguments will result in an error\n",
      "C:\\Users\\yutan\\anaconda3\\envs\\tensorflow\\lib\\site-packages\\ipykernel_launcher.py:41: FutureWarning: Pass y=[-0.00018311  0.00036621 -0.00115967 ... -0.00393677 -0.00289917\n",
      " -0.00231934], sr=16000 as keyword args. From version 0.10 passing these as positional arguments will result in an error\n",
      "C:\\Users\\yutan\\anaconda3\\envs\\tensorflow\\lib\\site-packages\\ipykernel_launcher.py:41: FutureWarning: Pass y=[ 3.0517578e-05  0.0000000e+00 -6.1035156e-05 ... -1.3732910e-03\n",
      " -1.7089844e-03 -1.7700195e-03], sr=16000 as keyword args. From version 0.10 passing these as positional arguments will result in an error\n",
      "C:\\Users\\yutan\\anaconda3\\envs\\tensorflow\\lib\\site-packages\\ipykernel_launcher.py:41: FutureWarning: Pass y=[-9.1552734e-05  7.7514648e-03  8.0871582e-03 ...  2.7465820e-04\n",
      " -1.5258789e-04  1.1901855e-03], sr=16000 as keyword args. From version 0.10 passing these as positional arguments will result in an error\n",
      "C:\\Users\\yutan\\anaconda3\\envs\\tensorflow\\lib\\site-packages\\ipykernel_launcher.py:41: FutureWarning: Pass y=[ 3.4886536e-05  6.4048650e-06 -2.3310246e-05 ...  3.1758449e-05\n",
      "  1.2754948e-05 -2.1441742e-06], sr=16000 as keyword args. From version 0.10 passing these as positional arguments will result in an error\n",
      "C:\\Users\\yutan\\anaconda3\\envs\\tensorflow\\lib\\site-packages\\ipykernel_launcher.py:41: FutureWarning: Pass y=[-1.6067930e-05 -7.1473369e-06 -3.9116458e-05 ...  6.0840754e-05\n",
      "  5.2805928e-05  5.0668110e-05], sr=16000 as keyword args. From version 0.10 passing these as positional arguments will result in an error\n",
      "C:\\Users\\yutan\\anaconda3\\envs\\tensorflow\\lib\\site-packages\\ipykernel_launcher.py:41: FutureWarning: Pass y=[-1.5258789e-03  3.9672852e-04 -1.5869141e-03 ...  6.1035156e-05\n",
      " -9.1552734e-05 -7.3242188e-04], sr=16000 as keyword args. From version 0.10 passing these as positional arguments will result in an error\n",
      "C:\\Users\\yutan\\anaconda3\\envs\\tensorflow\\lib\\site-packages\\ipykernel_launcher.py:41: FutureWarning: Pass y=[ 1.8310547e-03 -1.8920898e-03  9.1552734e-05 ...  1.8310547e-04\n",
      " -4.8828125e-04  1.5869141e-03], sr=16000 as keyword args. From version 0.10 passing these as positional arguments will result in an error\n",
      "C:\\Users\\yutan\\anaconda3\\envs\\tensorflow\\lib\\site-packages\\ipykernel_launcher.py:41: FutureWarning: Pass y=[0.00042725 0.00042725 0.0005188  ... 0.00015259 0.00228882 0.0015564 ], sr=16000 as keyword args. From version 0.10 passing these as positional arguments will result in an error\n",
      "C:\\Users\\yutan\\anaconda3\\envs\\tensorflow\\lib\\site-packages\\ipykernel_launcher.py:41: FutureWarning: Pass y=[-1.18172611e-05  4.60975207e-06 -1.42204835e-05 ...  2.34641848e-04\n",
      "  2.59790308e-04  3.68386274e-04], sr=16000 as keyword args. From version 0.10 passing these as positional arguments will result in an error\n",
      "C:\\Users\\yutan\\anaconda3\\envs\\tensorflow\\lib\\site-packages\\ipykernel_launcher.py:41: FutureWarning: Pass y=[-3.0517578e-05  3.0517578e-05 -3.0517578e-05 ...  0.0000000e+00\n",
      "  0.0000000e+00  3.0517578e-05], sr=16000 as keyword args. From version 0.10 passing these as positional arguments will result in an error\n"
     ]
    },
    {
     "name": "stderr",
     "output_type": "stream",
     "text": [
      "C:\\Users\\yutan\\anaconda3\\envs\\tensorflow\\lib\\site-packages\\ipykernel_launcher.py:41: FutureWarning: Pass y=[-7.6293945e-04 -2.1667480e-03 -8.2397461e-04 ...  1.5563965e-03\n",
      "  6.1035156e-05  1.5258789e-04], sr=16000 as keyword args. From version 0.10 passing these as positional arguments will result in an error\n",
      "C:\\Users\\yutan\\anaconda3\\envs\\tensorflow\\lib\\site-packages\\ipykernel_launcher.py:41: FutureWarning: Pass y=[ 1.6754150e-02  2.0416260e-02  2.4902344e-02 ... -6.1035156e-05\n",
      "  5.1879883e-04 -6.1035156e-05], sr=16000 as keyword args. From version 0.10 passing these as positional arguments will result in an error\n",
      "C:\\Users\\yutan\\anaconda3\\envs\\tensorflow\\lib\\site-packages\\ipykernel_launcher.py:41: FutureWarning: Pass y=[-3.0517578e-05  0.0000000e+00 -3.0517578e-05 ... -1.5258789e-04\n",
      "  3.0517578e-05  0.0000000e+00], sr=16000 as keyword args. From version 0.10 passing these as positional arguments will result in an error\n",
      "C:\\Users\\yutan\\anaconda3\\envs\\tensorflow\\lib\\site-packages\\ipykernel_launcher.py:41: FutureWarning: Pass y=[ 0.00015259 -0.00064087  0.00061035 ...  0.0012207  -0.00073242\n",
      "  0.00091553], sr=16000 as keyword args. From version 0.10 passing these as positional arguments will result in an error\n",
      "C:\\Users\\yutan\\anaconda3\\envs\\tensorflow\\lib\\site-packages\\ipykernel_launcher.py:41: FutureWarning: Pass y=[2.5892838e-05 6.2952517e-05 9.5948271e-05 ... 1.0321358e-04 6.6424058e-05\n",
      " 6.4376240e-05], sr=16000 as keyword args. From version 0.10 passing these as positional arguments will result in an error\n",
      "C:\\Users\\yutan\\anaconda3\\envs\\tensorflow\\lib\\site-packages\\ipykernel_launcher.py:41: FutureWarning: Pass y=[-8.8500977e-04  0.0000000e+00 -1.0375977e-03 ...  3.0517578e-05\n",
      " -1.4648438e-03  1.5563965e-03], sr=16000 as keyword args. From version 0.10 passing these as positional arguments will result in an error\n",
      "C:\\Users\\yutan\\anaconda3\\envs\\tensorflow\\lib\\site-packages\\ipykernel_launcher.py:41: FutureWarning: Pass y=[-2.9108754e-05 -3.4185698e-05  3.0276424e-06 ... -1.0346817e-07\n",
      "  5.5963847e-07 -9.2945976e-07], sr=16000 as keyword args. From version 0.10 passing these as positional arguments will result in an error\n",
      "C:\\Users\\yutan\\anaconda3\\envs\\tensorflow\\lib\\site-packages\\ipykernel_launcher.py:41: FutureWarning: Pass y=[-6.1035156e-05 -6.1035156e-05 -6.1035156e-05 ...  6.1035156e-05\n",
      "  6.1035156e-05  3.0517578e-05], sr=16000 as keyword args. From version 0.10 passing these as positional arguments will result in an error\n",
      "C:\\Users\\yutan\\anaconda3\\envs\\tensorflow\\lib\\site-packages\\ipykernel_launcher.py:41: FutureWarning: Pass y=[-0.00082397  0.00073242  0.00152588 ... -0.00112915 -0.00167847\n",
      "  0.00106812], sr=16000 as keyword args. From version 0.10 passing these as positional arguments will result in an error\n",
      "C:\\Users\\yutan\\anaconda3\\envs\\tensorflow\\lib\\site-packages\\ipykernel_launcher.py:41: FutureWarning: Pass y=[ 6.1035156e-05  6.1035156e-05  3.0517578e-05 ...  1.0681152e-03\n",
      " -9.1552734e-05  5.4931641e-04], sr=16000 as keyword args. From version 0.10 passing these as positional arguments will result in an error\n",
      "C:\\Users\\yutan\\anaconda3\\envs\\tensorflow\\lib\\site-packages\\ipykernel_launcher.py:41: FutureWarning: Pass y=[ 9.1552734e-05 -4.5776367e-04 -1.3427734e-03 ...  4.2724609e-04\n",
      "  0.0000000e+00  1.0681152e-03], sr=16000 as keyword args. From version 0.10 passing these as positional arguments will result in an error\n",
      "C:\\Users\\yutan\\anaconda3\\envs\\tensorflow\\lib\\site-packages\\ipykernel_launcher.py:41: FutureWarning: Pass y=[-2.1362305e-04 -3.0517578e-05 -5.4931641e-04 ... -1.3122559e-03\n",
      " -6.4086914e-04  3.0517578e-04], sr=16000 as keyword args. From version 0.10 passing these as positional arguments will result in an error\n",
      "C:\\Users\\yutan\\anaconda3\\envs\\tensorflow\\lib\\site-packages\\ipykernel_launcher.py:41: FutureWarning: Pass y=[-0.00158691 -0.00021362  0.00180054 ... -0.00045776 -0.00015259\n",
      "  0.00094604], sr=16000 as keyword args. From version 0.10 passing these as positional arguments will result in an error\n",
      "C:\\Users\\yutan\\anaconda3\\envs\\tensorflow\\lib\\site-packages\\ipykernel_launcher.py:41: FutureWarning: Pass y=[ 2.4063885e-03  2.6688061e-03 -1.3033033e-03 ... -6.0154733e-05\n",
      " -8.0942067e-05 -1.2505235e-04], sr=16000 as keyword args. From version 0.10 passing these as positional arguments will result in an error\n",
      "C:\\Users\\yutan\\anaconda3\\envs\\tensorflow\\lib\\site-packages\\ipykernel_launcher.py:41: FutureWarning: Pass y=[ 0.00018311  0.00024414 -0.00024414 ...  0.00195312 -0.00015259\n",
      "  0.00137329], sr=16000 as keyword args. From version 0.10 passing these as positional arguments will result in an error\n",
      "C:\\Users\\yutan\\anaconda3\\envs\\tensorflow\\lib\\site-packages\\ipykernel_launcher.py:41: FutureWarning: Pass y=[ 7.9288920e-06  4.4141075e-06  1.0662952e-05 ... -1.1373828e-05\n",
      "  4.0164073e-06 -4.3552814e-06], sr=16000 as keyword args. From version 0.10 passing these as positional arguments will result in an error\n",
      "C:\\Users\\yutan\\anaconda3\\envs\\tensorflow\\lib\\site-packages\\ipykernel_launcher.py:41: FutureWarning: Pass y=[ 3.1622309e-05  3.0484069e-05  5.2886804e-05 ... -1.0408943e-05\n",
      " -2.5474948e-05 -1.6957065e-06], sr=16000 as keyword args. From version 0.10 passing these as positional arguments will result in an error\n",
      "C:\\Users\\yutan\\anaconda3\\envs\\tensorflow\\lib\\site-packages\\ipykernel_launcher.py:41: FutureWarning: Pass y=[6.4263193e-05 5.9133359e-05 9.3241295e-05 ... 9.4628238e-05 1.8258783e-04\n",
      " 2.3380705e-04], sr=16000 as keyword args. From version 0.10 passing these as positional arguments will result in an error\n",
      "C:\\Users\\yutan\\anaconda3\\envs\\tensorflow\\lib\\site-packages\\ipykernel_launcher.py:41: FutureWarning: Pass y=[ 0.00088501 -0.00128174  0.00024414 ...  0.0005188   0.00115967\n",
      " -0.00073242], sr=16000 as keyword args. From version 0.10 passing these as positional arguments will result in an error\n",
      "C:\\Users\\yutan\\anaconda3\\envs\\tensorflow\\lib\\site-packages\\ipykernel_launcher.py:41: FutureWarning: Pass y=[-0.00076294  0.00308228  0.00415039 ... -0.00039673  0.00073242\n",
      "  0.00195312], sr=16000 as keyword args. From version 0.10 passing these as positional arguments will result in an error\n",
      "C:\\Users\\yutan\\anaconda3\\envs\\tensorflow\\lib\\site-packages\\ipykernel_launcher.py:41: FutureWarning: Pass y=[-0.00094604 -0.00228882 -0.00259399 ...  0.00015259  0.00109863\n",
      " -0.00024414], sr=16000 as keyword args. From version 0.10 passing these as positional arguments will result in an error\n",
      "C:\\Users\\yutan\\anaconda3\\envs\\tensorflow\\lib\\site-packages\\ipykernel_launcher.py:41: FutureWarning: Pass y=[ 1.8234584e-06 -2.5252690e-05  1.7738119e-05 ... -4.0031820e-05\n",
      " -3.5502871e-05  3.0778494e-05], sr=16000 as keyword args. From version 0.10 passing these as positional arguments will result in an error\n",
      "C:\\Users\\yutan\\anaconda3\\envs\\tensorflow\\lib\\site-packages\\ipykernel_launcher.py:41: FutureWarning: Pass y=[-0.00030518  0.00201416 -0.00082397 ...  0.00021362  0.00158691\n",
      "  0.00134277], sr=16000 as keyword args. From version 0.10 passing these as positional arguments will result in an error\n",
      "C:\\Users\\yutan\\anaconda3\\envs\\tensorflow\\lib\\site-packages\\ipykernel_launcher.py:41: FutureWarning: Pass y=[0.0000000e+00 3.0517578e-05 3.0517578e-05 ... 6.1035156e-05 3.0517578e-05\n",
      " 6.1035156e-05], sr=16000 as keyword args. From version 0.10 passing these as positional arguments will result in an error\n",
      "C:\\Users\\yutan\\anaconda3\\envs\\tensorflow\\lib\\site-packages\\ipykernel_launcher.py:41: FutureWarning: Pass y=[-1.2542725e-02 -6.3171387e-03 -7.0190430e-03 ...  3.0517578e-05\n",
      "  0.0000000e+00 -3.0517578e-05], sr=16000 as keyword args. From version 0.10 passing these as positional arguments will result in an error\n",
      "C:\\Users\\yutan\\anaconda3\\envs\\tensorflow\\lib\\site-packages\\ipykernel_launcher.py:41: FutureWarning: Pass y=[ 6.0410966e-06 -3.0001083e-06  1.7139600e-05 ... -6.0278241e-04\n",
      "  8.1474008e-04 -7.6476572e-04], sr=16000 as keyword args. From version 0.10 passing these as positional arguments will result in an error\n",
      "C:\\Users\\yutan\\anaconda3\\envs\\tensorflow\\lib\\site-packages\\ipykernel_launcher.py:41: FutureWarning: Pass y=[ 5.6439579e-02  6.0887344e-02  5.2640736e-02 ... -4.8554568e-05\n",
      " -6.9232156e-05 -8.7936212e-05], sr=16000 as keyword args. From version 0.10 passing these as positional arguments will result in an error\n",
      "C:\\Users\\yutan\\anaconda3\\envs\\tensorflow\\lib\\site-packages\\ipykernel_launcher.py:41: FutureWarning: Pass y=[-0.0012207   0.00073242 -0.00204468 ... -0.00012207 -0.00115967\n",
      "  0.0005188 ], sr=16000 as keyword args. From version 0.10 passing these as positional arguments will result in an error\n",
      "C:\\Users\\yutan\\anaconda3\\envs\\tensorflow\\lib\\site-packages\\ipykernel_launcher.py:41: FutureWarning: Pass y=[ 3.0517578e-05  0.0000000e+00 -6.1035156e-05 ...  1.0070801e-03\n",
      " -2.4414062e-04 -4.8828125e-04], sr=16000 as keyword args. From version 0.10 passing these as positional arguments will result in an error\n"
     ]
    },
    {
     "name": "stderr",
     "output_type": "stream",
     "text": [
      "C:\\Users\\yutan\\anaconda3\\envs\\tensorflow\\lib\\site-packages\\ipykernel_launcher.py:41: FutureWarning: Pass y=[ 0.01084302 -0.00033639 -0.00971385 ... -0.00015583 -0.00012392\n",
      " -0.00016302], sr=16000 as keyword args. From version 0.10 passing these as positional arguments will result in an error\n",
      "C:\\Users\\yutan\\anaconda3\\envs\\tensorflow\\lib\\site-packages\\ipykernel_launcher.py:41: FutureWarning: Pass y=[-4.0893555e-03 -3.7536621e-03 -4.5776367e-03 ... -3.0517578e-04\n",
      "  9.1552734e-05 -3.0517578e-04], sr=16000 as keyword args. From version 0.10 passing these as positional arguments will result in an error\n",
      "C:\\Users\\yutan\\anaconda3\\envs\\tensorflow\\lib\\site-packages\\ipykernel_launcher.py:41: FutureWarning: Pass y=[ 3.2786986e-05  1.6453449e-05 -3.8578874e-06 ... -9.2308066e-05\n",
      " -8.8598827e-05 -6.3854997e-05], sr=16000 as keyword args. From version 0.10 passing these as positional arguments will result in an error\n",
      "C:\\Users\\yutan\\anaconda3\\envs\\tensorflow\\lib\\site-packages\\ipykernel_launcher.py:41: FutureWarning: Pass y=[3.7021334e-06 2.9477249e-05 2.7117803e-05 ... 9.2317828e-04 8.8412792e-04\n",
      " 8.1078388e-04], sr=16000 as keyword args. From version 0.10 passing these as positional arguments will result in an error\n",
      "C:\\Users\\yutan\\anaconda3\\envs\\tensorflow\\lib\\site-packages\\ipykernel_launcher.py:41: FutureWarning: Pass y=[-0.027771   -0.04370117 -0.05212402 ... -0.0012207  -0.00097656\n",
      "  0.00048828], sr=16000 as keyword args. From version 0.10 passing these as positional arguments will result in an error\n",
      "C:\\Users\\yutan\\anaconda3\\envs\\tensorflow\\lib\\site-packages\\ipykernel_launcher.py:41: FutureWarning: Pass y=[ 0.0000000e+00 -3.0517578e-05 -3.0517578e-05 ... -3.0517578e-05\n",
      " -3.0517578e-05 -6.1035156e-05], sr=16000 as keyword args. From version 0.10 passing these as positional arguments will result in an error\n",
      "C:\\Users\\yutan\\anaconda3\\envs\\tensorflow\\lib\\site-packages\\ipykernel_launcher.py:41: FutureWarning: Pass y=[ 0.0000000e+00  3.0517578e-05 -3.0517578e-05 ...  0.0000000e+00\n",
      " -3.0517578e-05  0.0000000e+00], sr=16000 as keyword args. From version 0.10 passing these as positional arguments will result in an error\n",
      "C:\\Users\\yutan\\anaconda3\\envs\\tensorflow\\lib\\site-packages\\ipykernel_launcher.py:41: FutureWarning: Pass y=[-2.7465820e-04  1.7700195e-03 -1.0681152e-03 ...  2.1362305e-04\n",
      " -1.5258789e-04  3.0517578e-05], sr=16000 as keyword args. From version 0.10 passing these as positional arguments will result in an error\n",
      "C:\\Users\\yutan\\anaconda3\\envs\\tensorflow\\lib\\site-packages\\ipykernel_launcher.py:41: FutureWarning: Pass y=[ 2.7465820e-04 -1.2817383e-03  2.1362305e-04 ...  4.5776367e-04\n",
      "  9.1552734e-05  1.8005371e-03], sr=16000 as keyword args. From version 0.10 passing these as positional arguments will result in an error\n",
      "C:\\Users\\yutan\\anaconda3\\envs\\tensorflow\\lib\\site-packages\\ipykernel_launcher.py:41: FutureWarning: Pass y=[-1.2022391e-03 -9.3048520e-04 -4.8657367e-04 ... -1.3612978e-06\n",
      " -2.0469843e-05  4.0540817e-06], sr=16000 as keyword args. From version 0.10 passing these as positional arguments will result in an error\n",
      "C:\\Users\\yutan\\anaconda3\\envs\\tensorflow\\lib\\site-packages\\ipykernel_launcher.py:41: FutureWarning: Pass y=[-1.8020948e-05  5.6358590e-06 -5.2674991e-06 ...  2.1518194e-05\n",
      "  1.7555718e-05 -1.5612228e-05], sr=16000 as keyword args. From version 0.10 passing these as positional arguments will result in an error\n",
      "C:\\Users\\yutan\\anaconda3\\envs\\tensorflow\\lib\\site-packages\\ipykernel_launcher.py:41: FutureWarning: Pass y=[ 6.7138672e-04  1.2817383e-03  1.4648438e-03 ... -1.5258789e-03\n",
      " -4.2724609e-04  9.1552734e-05], sr=16000 as keyword args. From version 0.10 passing these as positional arguments will result in an error\n",
      "C:\\Users\\yutan\\anaconda3\\envs\\tensorflow\\lib\\site-packages\\ipykernel_launcher.py:41: FutureWarning: Pass y=[ 3.0517578e-05 -6.1035156e-05 -6.1035156e-05 ...  9.1552734e-05\n",
      " -3.6621094e-04  4.2724609e-04], sr=16000 as keyword args. From version 0.10 passing these as positional arguments will result in an error\n",
      "C:\\Users\\yutan\\anaconda3\\envs\\tensorflow\\lib\\site-packages\\ipykernel_launcher.py:41: FutureWarning: Pass y=[-6.1035156e-05 -3.0517578e-05 -6.1035156e-05 ... -9.1552734e-05\n",
      " -9.1552734e-05 -9.1552734e-05], sr=16000 as keyword args. From version 0.10 passing these as positional arguments will result in an error\n",
      "C:\\Users\\yutan\\anaconda3\\envs\\tensorflow\\lib\\site-packages\\ipykernel_launcher.py:41: FutureWarning: Pass y=[ 0.00088501  0.00085449  0.00054932 ... -0.00073242  0.00024414\n",
      "  0.00027466], sr=16000 as keyword args. From version 0.10 passing these as positional arguments will result in an error\n",
      "C:\\Users\\yutan\\anaconda3\\envs\\tensorflow\\lib\\site-packages\\ipykernel_launcher.py:41: FutureWarning: Pass y=[ 0.01205444  0.00018311 -0.00228882 ... -0.00015259 -0.0005188\n",
      " -0.00280762], sr=16000 as keyword args. From version 0.10 passing these as positional arguments will result in an error\n",
      "C:\\Users\\yutan\\anaconda3\\envs\\tensorflow\\lib\\site-packages\\ipykernel_launcher.py:41: FutureWarning: Pass y=[ 0.00027466 -0.00012207 -0.00140381 ...  0.00140381 -0.0007019\n",
      " -0.00061035], sr=16000 as keyword args. From version 0.10 passing these as positional arguments will result in an error\n",
      "C:\\Users\\yutan\\anaconda3\\envs\\tensorflow\\lib\\site-packages\\ipykernel_launcher.py:41: FutureWarning: Pass y=[-0.04046631 -0.02557373 -0.0088501  ... -0.00244141  0.0022583\n",
      "  0.00177002], sr=16000 as keyword args. From version 0.10 passing these as positional arguments will result in an error\n",
      "C:\\Users\\yutan\\anaconda3\\envs\\tensorflow\\lib\\site-packages\\ipykernel_launcher.py:41: FutureWarning: Pass y=[-0.00088501  0.0005188   0.0015564  ... -0.00015259 -0.00146484\n",
      " -0.0010376 ], sr=16000 as keyword args. From version 0.10 passing these as positional arguments will result in an error\n",
      "C:\\Users\\yutan\\anaconda3\\envs\\tensorflow\\lib\\site-packages\\ipykernel_launcher.py:41: FutureWarning: Pass y=[ 0.00152588  0.00189209 -0.0005188  ... -0.00042725 -0.00061035\n",
      "  0.00018311], sr=16000 as keyword args. From version 0.10 passing these as positional arguments will result in an error\n",
      "C:\\Users\\yutan\\anaconda3\\envs\\tensorflow\\lib\\site-packages\\ipykernel_launcher.py:41: FutureWarning: Pass y=[-0.0007019  -0.00149536  0.00054932 ...  0.00045776  0.00082397\n",
      "  0.00045776], sr=16000 as keyword args. From version 0.10 passing these as positional arguments will result in an error\n",
      "C:\\Users\\yutan\\anaconda3\\envs\\tensorflow\\lib\\site-packages\\ipykernel_launcher.py:41: FutureWarning: Pass y=[-1.02064805e-02 -9.67677683e-03 -8.93739238e-03 ... -2.44518942e-05\n",
      " -2.25649751e-06  5.26838312e-06], sr=16000 as keyword args. From version 0.10 passing these as positional arguments will result in an error\n",
      "C:\\Users\\yutan\\anaconda3\\envs\\tensorflow\\lib\\site-packages\\ipykernel_launcher.py:41: FutureWarning: Pass y=[ 4.6691895e-03 -1.1108398e-02 -1.5319824e-02 ...  5.1879883e-04\n",
      " -9.1552734e-05 -2.1362305e-04], sr=16000 as keyword args. From version 0.10 passing these as positional arguments will result in an error\n",
      "C:\\Users\\yutan\\anaconda3\\envs\\tensorflow\\lib\\site-packages\\ipykernel_launcher.py:41: FutureWarning: Pass y=[-0.00650024 -0.00631714 -0.00656128 ...  0.00292969  0.00292969\n",
      "  0.00299072], sr=16000 as keyword args. From version 0.10 passing these as positional arguments will result in an error\n",
      "C:\\Users\\yutan\\anaconda3\\envs\\tensorflow\\lib\\site-packages\\ipykernel_launcher.py:41: FutureWarning: Pass y=[ 4.5776367e-04 -2.4414062e-04 -9.7656250e-04 ... -5.1879883e-04\n",
      " -6.1035156e-05  1.8310547e-04], sr=16000 as keyword args. From version 0.10 passing these as positional arguments will result in an error\n",
      "C:\\Users\\yutan\\anaconda3\\envs\\tensorflow\\lib\\site-packages\\ipykernel_launcher.py:41: FutureWarning: Pass y=[ 0.00088501 -0.00115967 -0.0005188  ... -0.00018311  0.00033569\n",
      "  0.0012207 ], sr=16000 as keyword args. From version 0.10 passing these as positional arguments will result in an error\n",
      "C:\\Users\\yutan\\anaconda3\\envs\\tensorflow\\lib\\site-packages\\ipykernel_launcher.py:41: FutureWarning: Pass y=[-5.6575289e-05 -2.0095948e-05  3.7652862e-05 ... -2.8132506e-05\n",
      " -1.8994875e-05  7.3690403e-06], sr=16000 as keyword args. From version 0.10 passing these as positional arguments will result in an error\n",
      "C:\\Users\\yutan\\anaconda3\\envs\\tensorflow\\lib\\site-packages\\ipykernel_launcher.py:41: FutureWarning: Pass y=[ 0.00015259  0.00119019  0.00039673 ...  0.00033569 -0.00048828\n",
      " -0.00244141], sr=16000 as keyword args. From version 0.10 passing these as positional arguments will result in an error\n",
      "C:\\Users\\yutan\\anaconda3\\envs\\tensorflow\\lib\\site-packages\\ipykernel_launcher.py:41: FutureWarning: Pass y=[ 0.0000000e+00 -2.1362305e-04  2.7465820e-04 ... -3.0517578e-05\n",
      "  1.4343262e-03  4.2724609e-04], sr=16000 as keyword args. From version 0.10 passing these as positional arguments will result in an error\n",
      "C:\\Users\\yutan\\anaconda3\\envs\\tensorflow\\lib\\site-packages\\ipykernel_launcher.py:41: FutureWarning: Pass y=[ 6.1035156e-05  6.4086914e-04  6.1035156e-05 ... -1.7700195e-03\n",
      " -4.5776367e-04  5.7983398e-04], sr=16000 as keyword args. From version 0.10 passing these as positional arguments will result in an error\n",
      "C:\\Users\\yutan\\anaconda3\\envs\\tensorflow\\lib\\site-packages\\ipykernel_launcher.py:41: FutureWarning: Pass y=[ 0.0000000e+00  0.0000000e+00  3.0517578e-05 ...  0.0000000e+00\n",
      " -3.0517578e-05 -3.0517578e-05], sr=16000 as keyword args. From version 0.10 passing these as positional arguments will result in an error\n",
      "C:\\Users\\yutan\\anaconda3\\envs\\tensorflow\\lib\\site-packages\\ipykernel_launcher.py:41: FutureWarning: Pass y=[ 9.1552734e-05 -1.5258789e-04  2.7465820e-04 ...  1.6174316e-03\n",
      "  1.0375977e-03  9.1552734e-04], sr=16000 as keyword args. From version 0.10 passing these as positional arguments will result in an error\n",
      "C:\\Users\\yutan\\anaconda3\\envs\\tensorflow\\lib\\site-packages\\ipykernel_launcher.py:41: FutureWarning: Pass y=[-3.0517578e-05  0.0000000e+00  3.0517578e-05 ... -3.0517578e-04\n",
      "  3.6621094e-04 -6.1035156e-05], sr=16000 as keyword args. From version 0.10 passing these as positional arguments will result in an error\n"
     ]
    },
    {
     "name": "stderr",
     "output_type": "stream",
     "text": [
      "C:\\Users\\yutan\\anaconda3\\envs\\tensorflow\\lib\\site-packages\\ipykernel_launcher.py:41: FutureWarning: Pass y=[-2.8213260e-06  7.1949380e-06  3.2283093e-05 ...  1.3369822e-06\n",
      " -2.4318649e-06  3.3331744e-06], sr=16000 as keyword args. From version 0.10 passing these as positional arguments will result in an error\n",
      "C:\\Users\\yutan\\anaconda3\\envs\\tensorflow\\lib\\site-packages\\ipykernel_launcher.py:41: FutureWarning: Pass y=[-5.1869079e-05 -9.5735313e-06 -3.7531656e-05 ... -5.7823017e-05\n",
      " -5.2575404e-05 -4.2844982e-05], sr=16000 as keyword args. From version 0.10 passing these as positional arguments will result in an error\n",
      "C:\\Users\\yutan\\anaconda3\\envs\\tensorflow\\lib\\site-packages\\ipykernel_launcher.py:41: FutureWarning: Pass y=[-0.00100708 -0.00030518 -0.00018311 ... -0.00048828  0.00042725\n",
      "  0.00061035], sr=16000 as keyword args. From version 0.10 passing these as positional arguments will result in an error\n",
      "C:\\Users\\yutan\\anaconda3\\envs\\tensorflow\\lib\\site-packages\\ipykernel_launcher.py:41: FutureWarning: Pass y=[ 1.8911790e-06  1.2162420e-07 -2.1499154e-05 ... -4.4607346e-05\n",
      " -8.5914166e-05 -4.9363156e-05], sr=16000 as keyword args. From version 0.10 passing these as positional arguments will result in an error\n",
      "C:\\Users\\yutan\\anaconda3\\envs\\tensorflow\\lib\\site-packages\\ipykernel_launcher.py:41: FutureWarning: Pass y=[ 0.00427246 -0.00775146  0.00250244 ...  0.00100708 -0.00024414\n",
      " -0.00112915], sr=16000 as keyword args. From version 0.10 passing these as positional arguments will result in an error\n",
      "C:\\Users\\yutan\\anaconda3\\envs\\tensorflow\\lib\\site-packages\\ipykernel_launcher.py:41: FutureWarning: Pass y=[ 3.5521269e-05  2.7410551e-05  3.3136315e-05 ... -1.9375396e-04\n",
      " -1.6256874e-04 -9.8595621e-05], sr=16000 as keyword args. From version 0.10 passing these as positional arguments will result in an error\n",
      "C:\\Users\\yutan\\anaconda3\\envs\\tensorflow\\lib\\site-packages\\ipykernel_launcher.py:41: FutureWarning: Pass y=[ 2.8602790e-05  3.0964798e-05  3.9844748e-05 ... -2.4086119e-05\n",
      " -3.5870235e-05 -1.8644083e-05], sr=16000 as keyword args. From version 0.10 passing these as positional arguments will result in an error\n",
      "C:\\Users\\yutan\\anaconda3\\envs\\tensorflow\\lib\\site-packages\\ipykernel_launcher.py:41: FutureWarning: Pass y=[ 3.5917822e-06  1.1959829e-05  2.5443132e-05 ...  2.8235798e-05\n",
      "  8.9199484e-06 -9.3248482e-06], sr=16000 as keyword args. From version 0.10 passing these as positional arguments will result in an error\n",
      "C:\\Users\\yutan\\anaconda3\\envs\\tensorflow\\lib\\site-packages\\ipykernel_launcher.py:41: FutureWarning: Pass y=[ 0.00616455  0.01730347  0.02264404 ... -0.00015259  0.00012207\n",
      " -0.00039673], sr=16000 as keyword args. From version 0.10 passing these as positional arguments will result in an error\n",
      "C:\\Users\\yutan\\anaconda3\\envs\\tensorflow\\lib\\site-packages\\ipykernel_launcher.py:41: FutureWarning: Pass y=[ 0.00134277 -0.00042725  0.00045776 ... -0.00387573 -0.00283813\n",
      " -0.00466919], sr=16000 as keyword args. From version 0.10 passing these as positional arguments will result in an error\n",
      "C:\\Users\\yutan\\anaconda3\\envs\\tensorflow\\lib\\site-packages\\ipykernel_launcher.py:41: FutureWarning: Pass y=[-3.5153367e-05 -1.5677158e-05  6.6358473e-07 ...  6.8383983e-05\n",
      "  5.2777941e-05  7.7296667e-05], sr=16000 as keyword args. From version 0.10 passing these as positional arguments will result in an error\n",
      "C:\\Users\\yutan\\anaconda3\\envs\\tensorflow\\lib\\site-packages\\ipykernel_launcher.py:41: FutureWarning: Pass y=[ 0.00195312 -0.00091553  0.00073242 ...  0.00268555  0.00177002\n",
      "  0.00177002], sr=16000 as keyword args. From version 0.10 passing these as positional arguments will result in an error\n",
      "C:\\Users\\yutan\\anaconda3\\envs\\tensorflow\\lib\\site-packages\\ipykernel_launcher.py:41: FutureWarning: Pass y=[ 0.0000000e+00  0.0000000e+00 -3.0517578e-05 ... -1.8310547e-04\n",
      "  3.0517578e-04  6.1035156e-05], sr=16000 as keyword args. From version 0.10 passing these as positional arguments will result in an error\n",
      "C:\\Users\\yutan\\anaconda3\\envs\\tensorflow\\lib\\site-packages\\ipykernel_launcher.py:41: FutureWarning: Pass y=[-3.0517578e-05 -1.5258789e-04 -1.8310547e-04 ... -9.1552734e-05\n",
      " -1.2207031e-04 -1.2207031e-04], sr=16000 as keyword args. From version 0.10 passing these as positional arguments will result in an error\n",
      "C:\\Users\\yutan\\anaconda3\\envs\\tensorflow\\lib\\site-packages\\ipykernel_launcher.py:41: FutureWarning: Pass y=[-0.01068115 -0.01104736 -0.00671387 ...  0.00216675  0.00149536\n",
      "  0.00042725], sr=16000 as keyword args. From version 0.10 passing these as positional arguments will result in an error\n",
      "C:\\Users\\yutan\\anaconda3\\envs\\tensorflow\\lib\\site-packages\\ipykernel_launcher.py:41: FutureWarning: Pass y=[-6.6109328e-06  1.7664763e-05  2.8703704e-05 ...  4.0045840e-04\n",
      "  4.3024606e-04  4.5464604e-04], sr=16000 as keyword args. From version 0.10 passing these as positional arguments will result in an error\n",
      "C:\\Users\\yutan\\anaconda3\\envs\\tensorflow\\lib\\site-packages\\ipykernel_launcher.py:41: FutureWarning: Pass y=[-1.7829750e-04 -2.0750817e-04 -1.7198767e-04 ... -2.9147338e-04\n",
      "  1.2013549e-04  2.9990882e-05], sr=16000 as keyword args. From version 0.10 passing these as positional arguments will result in an error\n",
      "C:\\Users\\yutan\\anaconda3\\envs\\tensorflow\\lib\\site-packages\\ipykernel_launcher.py:41: FutureWarning: Pass y=[ 0.0000000e+00  6.1035156e-05  3.0517578e-05 ... -6.4086914e-04\n",
      " -6.7138672e-04 -6.4086914e-04], sr=16000 as keyword args. From version 0.10 passing these as positional arguments will result in an error\n",
      "C:\\Users\\yutan\\anaconda3\\envs\\tensorflow\\lib\\site-packages\\ipykernel_launcher.py:41: FutureWarning: Pass y=[-2.0141602e-03 -3.1433105e-03 -1.3031006e-02 ...  3.0517578e-05\n",
      " -3.3569336e-04 -1.5258789e-04], sr=16000 as keyword args. From version 0.10 passing these as positional arguments will result in an error\n",
      "C:\\Users\\yutan\\anaconda3\\envs\\tensorflow\\lib\\site-packages\\ipykernel_launcher.py:41: FutureWarning: Pass y=[ 3.6316931e-05  2.0325608e-06  1.0200778e-06 ...  8.8387562e-05\n",
      " -2.0715412e-04  3.1549763e-04], sr=16000 as keyword args. From version 0.10 passing these as positional arguments will result in an error\n",
      "C:\\Users\\yutan\\anaconda3\\envs\\tensorflow\\lib\\site-packages\\ipykernel_launcher.py:41: FutureWarning: Pass y=[-7.6293945e-04  6.1035156e-05 -5.4931641e-04 ... -6.3171387e-03\n",
      " -6.9274902e-03 -6.9274902e-03], sr=16000 as keyword args. From version 0.10 passing these as positional arguments will result in an error\n",
      "C:\\Users\\yutan\\anaconda3\\envs\\tensorflow\\lib\\site-packages\\ipykernel_launcher.py:41: FutureWarning: Pass y=[ 0.0000000e+00  3.0517578e-05  0.0000000e+00 ...  3.0517578e-05\n",
      " -3.0517578e-05  0.0000000e+00], sr=16000 as keyword args. From version 0.10 passing these as positional arguments will result in an error\n",
      "C:\\Users\\yutan\\anaconda3\\envs\\tensorflow\\lib\\site-packages\\ipykernel_launcher.py:41: FutureWarning: Pass y=[-0.00097656 -0.00198364  0.0005188  ... -0.00082397 -0.00018311\n",
      "  0.00094604], sr=16000 as keyword args. From version 0.10 passing these as positional arguments will result in an error\n",
      "C:\\Users\\yutan\\anaconda3\\envs\\tensorflow\\lib\\site-packages\\ipykernel_launcher.py:41: FutureWarning: Pass y=[ 0.00582886  0.0149231   0.00875854 ...  0.00082397 -0.00411987\n",
      "  0.00259399], sr=16000 as keyword args. From version 0.10 passing these as positional arguments will result in an error\n",
      "C:\\Users\\yutan\\anaconda3\\envs\\tensorflow\\lib\\site-packages\\ipykernel_launcher.py:41: FutureWarning: Pass y=[ 8.11172213e-05  1.11222696e-04  1.08926746e-04 ... -9.42261468e-05\n",
      " -3.47633177e-05 -5.30758516e-05], sr=16000 as keyword args. From version 0.10 passing these as positional arguments will result in an error\n",
      "C:\\Users\\yutan\\anaconda3\\envs\\tensorflow\\lib\\site-packages\\ipykernel_launcher.py:41: FutureWarning: Pass y=[ 2.7679443e-02  2.5451660e-02  1.8981934e-02 ... -9.1552734e-05\n",
      " -3.3569336e-04 -4.5776367e-04], sr=16000 as keyword args. From version 0.10 passing these as positional arguments will result in an error\n",
      "C:\\Users\\yutan\\anaconda3\\envs\\tensorflow\\lib\\site-packages\\ipykernel_launcher.py:41: FutureWarning: Pass y=[-2.7465820e-04  4.8828125e-04 -2.0141602e-03 ... -9.1552734e-05\n",
      "  2.3498535e-03 -4.8828125e-04], sr=16000 as keyword args. From version 0.10 passing these as positional arguments will result in an error\n",
      "C:\\Users\\yutan\\anaconda3\\envs\\tensorflow\\lib\\site-packages\\ipykernel_launcher.py:41: FutureWarning: Pass y=[9.4604492e-02 7.5958252e-02 6.5124512e-02 ... 3.0517578e-05 9.1552734e-05\n",
      " 3.0517578e-05], sr=16000 as keyword args. From version 0.10 passing these as positional arguments will result in an error\n"
     ]
    },
    {
     "name": "stderr",
     "output_type": "stream",
     "text": [
      "C:\\Users\\yutan\\anaconda3\\envs\\tensorflow\\lib\\site-packages\\ipykernel_launcher.py:41: FutureWarning: Pass y=[ 0.00579834  0.00021362  0.00448608 ...  0.00045776 -0.00054932\n",
      " -0.00039673], sr=16000 as keyword args. From version 0.10 passing these as positional arguments will result in an error\n",
      "C:\\Users\\yutan\\anaconda3\\envs\\tensorflow\\lib\\site-packages\\ipykernel_launcher.py:41: FutureWarning: Pass y=[ 1.9931188e-02  2.2438288e-02  2.4365798e-02 ...  9.8772522e-05\n",
      "  2.2779409e-04 -1.2420252e-04], sr=16000 as keyword args. From version 0.10 passing these as positional arguments will result in an error\n",
      "C:\\Users\\yutan\\anaconda3\\envs\\tensorflow\\lib\\site-packages\\ipykernel_launcher.py:41: FutureWarning: Pass y=[-3.0517578e-05  0.0000000e+00  0.0000000e+00 ...  0.0000000e+00\n",
      " -6.1035156e-05  0.0000000e+00], sr=16000 as keyword args. From version 0.10 passing these as positional arguments will result in an error\n",
      "C:\\Users\\yutan\\anaconda3\\envs\\tensorflow\\lib\\site-packages\\ipykernel_launcher.py:41: FutureWarning: Pass y=[-0.00030518  0.0010376   0.00061035 ... -0.0010376  -0.00048828\n",
      "  0.00198364], sr=16000 as keyword args. From version 0.10 passing these as positional arguments will result in an error\n",
      "C:\\Users\\yutan\\anaconda3\\envs\\tensorflow\\lib\\site-packages\\ipykernel_launcher.py:41: FutureWarning: Pass y=[ 0.02746582  0.03674316  0.04034424 ... -0.00012207  0.00033569\n",
      " -0.00045776], sr=16000 as keyword args. From version 0.10 passing these as positional arguments will result in an error\n",
      "C:\\Users\\yutan\\anaconda3\\envs\\tensorflow\\lib\\site-packages\\ipykernel_launcher.py:41: FutureWarning: Pass y=[-2.1289011e-06  2.3906239e-05  5.5148437e-05 ...  8.2982668e-05\n",
      " -3.4988992e-05 -6.3006839e-05], sr=16000 as keyword args. From version 0.10 passing these as positional arguments will result in an error\n",
      "C:\\Users\\yutan\\anaconda3\\envs\\tensorflow\\lib\\site-packages\\ipykernel_launcher.py:41: FutureWarning: Pass y=[-0.00061035  0.00137329  0.00021362 ... -0.0010376  -0.00170898\n",
      " -0.00112915], sr=16000 as keyword args. From version 0.10 passing these as positional arguments will result in an error\n",
      "C:\\Users\\yutan\\anaconda3\\envs\\tensorflow\\lib\\site-packages\\ipykernel_launcher.py:41: FutureWarning: Pass y=[ 0.         -0.00067139  0.00015259 ...  0.00085449  0.00094604\n",
      " -0.0012207 ], sr=16000 as keyword args. From version 0.10 passing these as positional arguments will result in an error\n",
      "C:\\Users\\yutan\\anaconda3\\envs\\tensorflow\\lib\\site-packages\\ipykernel_launcher.py:41: FutureWarning: Pass y=[-5.7333869e-05 -4.3189350e-05  2.5265206e-06 ... -2.3565574e-06\n",
      "  1.5495858e-05  8.1185543e-05], sr=16000 as keyword args. From version 0.10 passing these as positional arguments will result in an error\n",
      "C:\\Users\\yutan\\anaconda3\\envs\\tensorflow\\lib\\site-packages\\ipykernel_launcher.py:41: FutureWarning: Pass y=[-6.1035156e-05  3.0517578e-05 -3.0517578e-05 ... -6.1035156e-05\n",
      "  0.0000000e+00 -6.1035156e-05], sr=16000 as keyword args. From version 0.10 passing these as positional arguments will result in an error\n",
      "C:\\Users\\yutan\\anaconda3\\envs\\tensorflow\\lib\\site-packages\\ipykernel_launcher.py:41: FutureWarning: Pass y=[-1.4554175e-05 -1.1458775e-05 -3.2496114e-06 ... -6.3399610e-05\n",
      " -5.5276807e-05 -3.1541818e-05], sr=16000 as keyword args. From version 0.10 passing these as positional arguments will result in an error\n",
      "C:\\Users\\yutan\\anaconda3\\envs\\tensorflow\\lib\\site-packages\\ipykernel_launcher.py:41: FutureWarning: Pass y=[-1.3732910e-03 -1.3122559e-03 -3.6621094e-04 ...  2.4414062e-04\n",
      " -1.1291504e-03  6.1035156e-05], sr=16000 as keyword args. From version 0.10 passing these as positional arguments will result in an error\n",
      "C:\\Users\\yutan\\anaconda3\\envs\\tensorflow\\lib\\site-packages\\ipykernel_launcher.py:41: FutureWarning: Pass y=[5.4592288e-06 6.8424961e-06 3.2092848e-05 ... 2.0693282e-04 7.4394811e-05\n",
      " 2.8278975e-05], sr=16000 as keyword args. From version 0.10 passing these as positional arguments will result in an error\n",
      "C:\\Users\\yutan\\anaconda3\\envs\\tensorflow\\lib\\site-packages\\ipykernel_launcher.py:41: FutureWarning: Pass y=[-2.1285367e-05  3.0409549e-06  4.1327159e-08 ... -1.2398956e-04\n",
      " -1.2068646e-04 -1.5340318e-04], sr=16000 as keyword args. From version 0.10 passing these as positional arguments will result in an error\n",
      "C:\\Users\\yutan\\anaconda3\\envs\\tensorflow\\lib\\site-packages\\ipykernel_launcher.py:41: FutureWarning: Pass y=[ 2.4688721e-02  1.2176514e-02  9.5825195e-03 ... -3.0517578e-05\n",
      " -9.1552734e-05  0.0000000e+00], sr=16000 as keyword args. From version 0.10 passing these as positional arguments will result in an error\n",
      "C:\\Users\\yutan\\anaconda3\\envs\\tensorflow\\lib\\site-packages\\ipykernel_launcher.py:41: FutureWarning: Pass y=[-0.02566528 -0.02859497 -0.02612305 ... -0.00027466  0.0012207\n",
      " -0.00082397], sr=16000 as keyword args. From version 0.10 passing these as positional arguments will result in an error\n",
      "C:\\Users\\yutan\\anaconda3\\envs\\tensorflow\\lib\\site-packages\\ipykernel_launcher.py:41: FutureWarning: Pass y=[ 0.00109863 -0.0005188  -0.00082397 ... -0.00146484 -0.00048828\n",
      "  0.00091553], sr=16000 as keyword args. From version 0.10 passing these as positional arguments will result in an error\n",
      "C:\\Users\\yutan\\anaconda3\\envs\\tensorflow\\lib\\site-packages\\ipykernel_launcher.py:41: FutureWarning: Pass y=[-4.4870449e-06 -2.1967786e-05  1.9503648e-05 ... -5.7791138e-05\n",
      " -6.3226813e-05 -8.0872800e-05], sr=16000 as keyword args. From version 0.10 passing these as positional arguments will result in an error\n",
      "C:\\Users\\yutan\\anaconda3\\envs\\tensorflow\\lib\\site-packages\\ipykernel_launcher.py:41: FutureWarning: Pass y=[ 1.2268066e-02  5.6457520e-03  1.2176514e-02 ... -6.1035156e-05\n",
      " -6.1035156e-05 -6.1035156e-05], sr=16000 as keyword args. From version 0.10 passing these as positional arguments will result in an error\n",
      "C:\\Users\\yutan\\anaconda3\\envs\\tensorflow\\lib\\site-packages\\ipykernel_launcher.py:41: FutureWarning: Pass y=[-1.2390137e-02 -6.5307617e-03 -2.0446777e-03 ... -9.1552734e-05\n",
      " -8.8500977e-04  8.8500977e-04], sr=16000 as keyword args. From version 0.10 passing these as positional arguments will result in an error\n",
      "C:\\Users\\yutan\\anaconda3\\envs\\tensorflow\\lib\\site-packages\\ipykernel_launcher.py:41: FutureWarning: Pass y=[-0.00335693 -0.00869751 -0.00973511 ...  0.00091553 -0.00021362\n",
      " -0.00073242], sr=16000 as keyword args. From version 0.10 passing these as positional arguments will result in an error\n",
      "C:\\Users\\yutan\\anaconda3\\envs\\tensorflow\\lib\\site-packages\\ipykernel_launcher.py:41: FutureWarning: Pass y=[-0.01379395 -0.00787354  0.00033569 ...  0.00054932 -0.00091553\n",
      " -0.00082397], sr=16000 as keyword args. From version 0.10 passing these as positional arguments will result in an error\n",
      "C:\\Users\\yutan\\anaconda3\\envs\\tensorflow\\lib\\site-packages\\ipykernel_launcher.py:41: FutureWarning: Pass y=[ 1.5258789e-04  1.8310547e-04  1.5258789e-04 ...  2.7465820e-04\n",
      " -1.2207031e-04 -3.0517578e-05], sr=16000 as keyword args. From version 0.10 passing these as positional arguments will result in an error\n",
      "C:\\Users\\yutan\\anaconda3\\envs\\tensorflow\\lib\\site-packages\\ipykernel_launcher.py:41: FutureWarning: Pass y=[ 3.6410722e-05  3.9817674e-05  1.2137416e-05 ...  2.1492965e-06\n",
      " -2.4547382e-05  4.5253955e-06], sr=16000 as keyword args. From version 0.10 passing these as positional arguments will result in an error\n",
      "C:\\Users\\yutan\\anaconda3\\envs\\tensorflow\\lib\\site-packages\\ipykernel_launcher.py:41: FutureWarning: Pass y=[-3.0517578e-05  0.0000000e+00 -3.0517578e-05 ...  0.0000000e+00\n",
      " -6.1035156e-05  3.0517578e-05], sr=16000 as keyword args. From version 0.10 passing these as positional arguments will result in an error\n",
      "C:\\Users\\yutan\\anaconda3\\envs\\tensorflow\\lib\\site-packages\\ipykernel_launcher.py:41: FutureWarning: Pass y=[ 0.0000000e+00  0.0000000e+00 -3.0517578e-05 ...  4.2724609e-04\n",
      "  1.1596680e-03  2.2277832e-03], sr=16000 as keyword args. From version 0.10 passing these as positional arguments will result in an error\n",
      "C:\\Users\\yutan\\anaconda3\\envs\\tensorflow\\lib\\site-packages\\ipykernel_launcher.py:41: FutureWarning: Pass y=[-3.0517578e-05 -6.1035156e-05 -6.1035156e-05 ...  0.0000000e+00\n",
      "  3.0517578e-05  0.0000000e+00], sr=16000 as keyword args. From version 0.10 passing these as positional arguments will result in an error\n",
      "C:\\Users\\yutan\\anaconda3\\envs\\tensorflow\\lib\\site-packages\\ipykernel_launcher.py:41: FutureWarning: Pass y=[ 0.00021362  0.00088501  0.00076294 ... -0.00015259 -0.00131226\n",
      " -0.00097656], sr=16000 as keyword args. From version 0.10 passing these as positional arguments will result in an error\n"
     ]
    },
    {
     "name": "stderr",
     "output_type": "stream",
     "text": [
      "C:\\Users\\yutan\\anaconda3\\envs\\tensorflow\\lib\\site-packages\\ipykernel_launcher.py:41: FutureWarning: Pass y=[2.7098124e-05 1.3614546e-04 1.5850802e-04 ... 7.5422293e-05 9.4199771e-05\n",
      " 9.7048098e-05], sr=16000 as keyword args. From version 0.10 passing these as positional arguments will result in an error\n",
      "C:\\Users\\yutan\\anaconda3\\envs\\tensorflow\\lib\\site-packages\\ipykernel_launcher.py:41: FutureWarning: Pass y=[-1.5258789e-04 -9.1552734e-05 -9.1552734e-05 ... -3.0517578e-05\n",
      " -3.0517578e-05  0.0000000e+00], sr=16000 as keyword args. From version 0.10 passing these as positional arguments will result in an error\n",
      "C:\\Users\\yutan\\anaconda3\\envs\\tensorflow\\lib\\site-packages\\ipykernel_launcher.py:41: FutureWarning: Pass y=[-9.1552734e-05 -6.1035156e-05 -1.2207031e-04 ... -1.2207031e-04\n",
      " -1.8310547e-04 -2.4414062e-04], sr=16000 as keyword args. From version 0.10 passing these as positional arguments will result in an error\n",
      "C:\\Users\\yutan\\anaconda3\\envs\\tensorflow\\lib\\site-packages\\ipykernel_launcher.py:41: FutureWarning: Pass y=[-3.0517578e-05 -3.0517578e-05 -3.0517578e-05 ...  4.2724609e-04\n",
      "  1.8310547e-04  1.5258789e-04], sr=16000 as keyword args. From version 0.10 passing these as positional arguments will result in an error\n",
      "C:\\Users\\yutan\\anaconda3\\envs\\tensorflow\\lib\\site-packages\\ipykernel_launcher.py:41: FutureWarning: Pass y=[ 1.0375977e-03  0.0000000e+00  1.8310547e-04 ... -1.0681152e-03\n",
      "  6.1035156e-05  2.4414062e-04], sr=16000 as keyword args. From version 0.10 passing these as positional arguments will result in an error\n",
      "C:\\Users\\yutan\\anaconda3\\envs\\tensorflow\\lib\\site-packages\\ipykernel_launcher.py:41: FutureWarning: Pass y=[-6.1468781e-05 -6.0734288e-05 -6.2262945e-05 ...  8.9609437e-04\n",
      "  8.6135260e-04  8.3253079e-04], sr=16000 as keyword args. From version 0.10 passing these as positional arguments will result in an error\n",
      "C:\\Users\\yutan\\anaconda3\\envs\\tensorflow\\lib\\site-packages\\ipykernel_launcher.py:41: FutureWarning: Pass y=[ 3.4271240e-02  1.1840820e-02  7.9345703e-04 ... -9.1552734e-05\n",
      " -9.1552734e-05 -9.1552734e-05], sr=16000 as keyword args. From version 0.10 passing these as positional arguments will result in an error\n",
      "C:\\Users\\yutan\\anaconda3\\envs\\tensorflow\\lib\\site-packages\\ipykernel_launcher.py:41: FutureWarning: Pass y=[2.2562373e-04 1.4525492e-04 4.8447071e-04 ... 2.0193449e-05 9.7944605e-05\n",
      " 1.0514194e-04], sr=16000 as keyword args. From version 0.10 passing these as positional arguments will result in an error\n",
      "C:\\Users\\yutan\\anaconda3\\envs\\tensorflow\\lib\\site-packages\\ipykernel_launcher.py:41: FutureWarning: Pass y=[ 2.4963379e-02  2.3376465e-02  2.6550293e-02 ... -3.0517578e-05\n",
      " -8.2397461e-04 -1.8310547e-04], sr=16000 as keyword args. From version 0.10 passing these as positional arguments will result in an error\n",
      "C:\\Users\\yutan\\anaconda3\\envs\\tensorflow\\lib\\site-packages\\ipykernel_launcher.py:41: FutureWarning: Pass y=[-3.0517578e-05 -3.0517578e-05 -6.1035156e-05 ... -2.1362305e-04\n",
      " -9.1552734e-05 -3.0517578e-05], sr=16000 as keyword args. From version 0.10 passing these as positional arguments will result in an error\n",
      "C:\\Users\\yutan\\anaconda3\\envs\\tensorflow\\lib\\site-packages\\ipykernel_launcher.py:41: FutureWarning: Pass y=[-2.0838062e-05  6.4706433e-07  3.3669461e-05 ... -3.1886426e-05\n",
      " -3.1126081e-05 -2.8697599e-05], sr=16000 as keyword args. From version 0.10 passing these as positional arguments will result in an error\n",
      "C:\\Users\\yutan\\anaconda3\\envs\\tensorflow\\lib\\site-packages\\ipykernel_launcher.py:41: FutureWarning: Pass y=[ 4.8828125e-04 -9.1552734e-05  3.9672852e-04 ...  3.0517578e-05\n",
      " -5.4931641e-04  3.6621094e-04], sr=16000 as keyword args. From version 0.10 passing these as positional arguments will result in an error\n",
      "C:\\Users\\yutan\\anaconda3\\envs\\tensorflow\\lib\\site-packages\\ipykernel_launcher.py:41: FutureWarning: Pass y=[-9.0850863e-06  3.3609398e-05  1.3214877e-05 ...  1.6596312e-04\n",
      "  1.3607676e-04  9.7992044e-05], sr=16000 as keyword args. From version 0.10 passing these as positional arguments will result in an error\n",
      "C:\\Users\\yutan\\anaconda3\\envs\\tensorflow\\lib\\site-packages\\ipykernel_launcher.py:41: FutureWarning: Pass y=[ 0.0000000e+00 -3.0517578e-05  0.0000000e+00 ... -3.0517578e-05\n",
      "  0.0000000e+00 -3.0517578e-05], sr=16000 as keyword args. From version 0.10 passing these as positional arguments will result in an error\n",
      "C:\\Users\\yutan\\anaconda3\\envs\\tensorflow\\lib\\site-packages\\ipykernel_launcher.py:41: FutureWarning: Pass y=[ 0.00445557 -0.00183105  0.00497437 ... -0.00030518 -0.00033569\n",
      "  0.00012207], sr=16000 as keyword args. From version 0.10 passing these as positional arguments will result in an error\n",
      "C:\\Users\\yutan\\anaconda3\\envs\\tensorflow\\lib\\site-packages\\ipykernel_launcher.py:41: FutureWarning: Pass y=[ 0.0000000e+00 -3.0517578e-05 -6.1035156e-05 ... -3.0517578e-05\n",
      "  0.0000000e+00 -3.0517578e-05], sr=16000 as keyword args. From version 0.10 passing these as positional arguments will result in an error\n",
      "C:\\Users\\yutan\\anaconda3\\envs\\tensorflow\\lib\\site-packages\\ipykernel_launcher.py:41: FutureWarning: Pass y=[ 0.00012207  0.00228882  0.00106812 ...  0.00018311 -0.00183105\n",
      "  0.00057983], sr=16000 as keyword args. From version 0.10 passing these as positional arguments will result in an error\n",
      "C:\\Users\\yutan\\anaconda3\\envs\\tensorflow\\lib\\site-packages\\ipykernel_launcher.py:41: FutureWarning: Pass y=[-0.00991821 -0.00875854 -0.00259399 ...  0.00024414  0.00045776\n",
      "  0.00067139], sr=16000 as keyword args. From version 0.10 passing these as positional arguments will result in an error\n",
      "C:\\Users\\yutan\\anaconda3\\envs\\tensorflow\\lib\\site-packages\\ipykernel_launcher.py:41: FutureWarning: Pass y=[ 0.00085449  0.00054932  0.00253296 ... -0.00015259  0.00177002\n",
      " -0.00018311], sr=16000 as keyword args. From version 0.10 passing these as positional arguments will result in an error\n",
      "C:\\Users\\yutan\\anaconda3\\envs\\tensorflow\\lib\\site-packages\\ipykernel_launcher.py:41: FutureWarning: Pass y=[ 3.9672852e-03  1.5899658e-02  9.6435547e-03 ... -3.6621094e-04\n",
      " -3.0517578e-05  3.0517578e-05], sr=16000 as keyword args. From version 0.10 passing these as positional arguments will result in an error\n",
      "C:\\Users\\yutan\\anaconda3\\envs\\tensorflow\\lib\\site-packages\\ipykernel_launcher.py:41: FutureWarning: Pass y=[-3.0517578e-05 -3.0517578e-05 -3.0517578e-05 ...  0.0000000e+00\n",
      " -3.0517578e-05  0.0000000e+00], sr=16000 as keyword args. From version 0.10 passing these as positional arguments will result in an error\n",
      "C:\\Users\\yutan\\anaconda3\\envs\\tensorflow\\lib\\site-packages\\ipykernel_launcher.py:41: FutureWarning: Pass y=[ 5.9958538e-06  4.3631964e-05  9.0096728e-06 ... -1.1887255e-05\n",
      "  5.9959089e-05  2.3622681e-05], sr=16000 as keyword args. From version 0.10 passing these as positional arguments will result in an error\n",
      "C:\\Users\\yutan\\anaconda3\\envs\\tensorflow\\lib\\site-packages\\ipykernel_launcher.py:41: FutureWarning: Pass y=[-1.4265201e-05 -4.0802792e-05 -5.9954131e-05 ... -2.9438856e-04\n",
      "  1.5095049e-04  3.0295093e-06], sr=16000 as keyword args. From version 0.10 passing these as positional arguments will result in an error\n",
      "C:\\Users\\yutan\\anaconda3\\envs\\tensorflow\\lib\\site-packages\\ipykernel_launcher.py:41: FutureWarning: Pass y=[-1.8310547e-04  1.0070801e-03 -6.1035156e-05 ... -6.7138672e-04\n",
      " -6.7138672e-04 -9.4604492e-04], sr=16000 as keyword args. From version 0.10 passing these as positional arguments will result in an error\n",
      "C:\\Users\\yutan\\anaconda3\\envs\\tensorflow\\lib\\site-packages\\ipykernel_launcher.py:41: FutureWarning: Pass y=[-5.4779053e-02 -3.8635254e-02 -3.2073975e-02 ... -3.0517578e-05\n",
      " -3.0517578e-05 -3.0517578e-05], sr=16000 as keyword args. From version 0.10 passing these as positional arguments will result in an error\n",
      "C:\\Users\\yutan\\anaconda3\\envs\\tensorflow\\lib\\site-packages\\ipykernel_launcher.py:41: FutureWarning: Pass y=[ 8.2535471e-06  1.7878274e-05 -4.6143095e-06 ...  1.1236673e-04\n",
      "  9.1460010e-05  8.5922569e-05], sr=16000 as keyword args. From version 0.10 passing these as positional arguments will result in an error\n",
      "C:\\Users\\yutan\\anaconda3\\envs\\tensorflow\\lib\\site-packages\\ipykernel_launcher.py:41: FutureWarning: Pass y=[-3.0517578e-05 -3.0517578e-05 -9.1552734e-05 ... -4.5776367e-04\n",
      "  2.7465820e-04  2.7465820e-04], sr=16000 as keyword args. From version 0.10 passing these as positional arguments will result in an error\n",
      "C:\\Users\\yutan\\anaconda3\\envs\\tensorflow\\lib\\site-packages\\ipykernel_launcher.py:41: FutureWarning: Pass y=[ 0.02859497  0.02514648  0.0163269  ... -0.00036621 -0.00106812\n",
      " -0.0027771 ], sr=16000 as keyword args. From version 0.10 passing these as positional arguments will result in an error\n",
      "C:\\Users\\yutan\\anaconda3\\envs\\tensorflow\\lib\\site-packages\\ipykernel_launcher.py:41: FutureWarning: Pass y=[-9.1552734e-05 -1.0681152e-03 -8.5449219e-04 ...  6.1035156e-04\n",
      " -1.3122559e-03  3.6621094e-04], sr=16000 as keyword args. From version 0.10 passing these as positional arguments will result in an error\n",
      "C:\\Users\\yutan\\anaconda3\\envs\\tensorflow\\lib\\site-packages\\ipykernel_launcher.py:41: FutureWarning: Pass y=[ 0.00732422  0.00619507  0.00491333 ... -0.00027466  0.00109863\n",
      "  0.00027466], sr=16000 as keyword args. From version 0.10 passing these as positional arguments will result in an error\n"
     ]
    },
    {
     "name": "stderr",
     "output_type": "stream",
     "text": [
      "C:\\Users\\yutan\\anaconda3\\envs\\tensorflow\\lib\\site-packages\\ipykernel_launcher.py:41: FutureWarning: Pass y=[-9.9464905e-06  9.5347610e-07 -3.3103734e-05 ...  3.0276933e-04\n",
      "  3.3552831e-04  3.3713324e-04], sr=16000 as keyword args. From version 0.10 passing these as positional arguments will result in an error\n",
      "C:\\Users\\yutan\\anaconda3\\envs\\tensorflow\\lib\\site-packages\\ipykernel_launcher.py:41: FutureWarning: Pass y=[ 1.4312744e-02  1.0437012e-02  4.2419434e-03 ...  6.7138672e-04\n",
      " -5.1879883e-04  9.1552734e-05], sr=16000 as keyword args. From version 0.10 passing these as positional arguments will result in an error\n",
      "C:\\Users\\yutan\\anaconda3\\envs\\tensorflow\\lib\\site-packages\\ipykernel_launcher.py:41: FutureWarning: Pass y=[0.02288818 0.03198242 0.03128052 ... 0.00064087 0.00027466 0.00045776], sr=16000 as keyword args. From version 0.10 passing these as positional arguments will result in an error\n",
      "C:\\Users\\yutan\\anaconda3\\envs\\tensorflow\\lib\\site-packages\\ipykernel_launcher.py:41: FutureWarning: Pass y=[-3.0517578e-05  0.0000000e+00 -3.0517578e-05 ... -1.2207031e-04\n",
      " -1.5258789e-04 -9.1552734e-05], sr=16000 as keyword args. From version 0.10 passing these as positional arguments will result in an error\n",
      "C:\\Users\\yutan\\anaconda3\\envs\\tensorflow\\lib\\site-packages\\ipykernel_launcher.py:41: FutureWarning: Pass y=[-2.1728516e-02 -1.3183594e-02 -2.1362305e-04 ...  0.0000000e+00\n",
      " -3.0517578e-05 -3.0517578e-05], sr=16000 as keyword args. From version 0.10 passing these as positional arguments will result in an error\n",
      "C:\\Users\\yutan\\anaconda3\\envs\\tensorflow\\lib\\site-packages\\ipykernel_launcher.py:41: FutureWarning: Pass y=[ 0.0005188   0.00311279  0.00228882 ...  0.0005188  -0.00033569\n",
      "  0.00027466], sr=16000 as keyword args. From version 0.10 passing these as positional arguments will result in an error\n",
      "C:\\Users\\yutan\\anaconda3\\envs\\tensorflow\\lib\\site-packages\\ipykernel_launcher.py:41: FutureWarning: Pass y=[ 3.0517578e-04  3.6621094e-04  6.1035156e-05 ... -1.0650635e-02\n",
      " -1.0620117e-02 -1.0375977e-02], sr=16000 as keyword args. From version 0.10 passing these as positional arguments will result in an error\n",
      "C:\\Users\\yutan\\anaconda3\\envs\\tensorflow\\lib\\site-packages\\ipykernel_launcher.py:41: FutureWarning: Pass y=[ 0.00036621  0.00228882  0.00021362 ...  0.00091553 -0.00061035\n",
      "  0.00125122], sr=16000 as keyword args. From version 0.10 passing these as positional arguments will result in an error\n",
      "C:\\Users\\yutan\\anaconda3\\envs\\tensorflow\\lib\\site-packages\\ipykernel_launcher.py:41: FutureWarning: Pass y=[ 1.3775801e-05  1.5486356e-05  2.4390225e-05 ... -4.4621163e-04\n",
      " -2.0805841e-04 -1.5467955e-04], sr=16000 as keyword args. From version 0.10 passing these as positional arguments will result in an error\n",
      "C:\\Users\\yutan\\anaconda3\\envs\\tensorflow\\lib\\site-packages\\ipykernel_launcher.py:41: FutureWarning: Pass y=[-9.1552734e-05 -1.1291504e-03  4.2724609e-04 ... -1.2817383e-03\n",
      "  5.4931641e-04 -3.3569336e-04], sr=16000 as keyword args. From version 0.10 passing these as positional arguments will result in an error\n",
      "C:\\Users\\yutan\\anaconda3\\envs\\tensorflow\\lib\\site-packages\\ipykernel_launcher.py:41: FutureWarning: Pass y=[ 0.01864624  0.01800537  0.01409912 ... -0.0007019   0.00180054\n",
      " -0.00131226], sr=16000 as keyword args. From version 0.10 passing these as positional arguments will result in an error\n",
      "C:\\Users\\yutan\\anaconda3\\envs\\tensorflow\\lib\\site-packages\\ipykernel_launcher.py:41: FutureWarning: Pass y=[ 0.01705933  0.01843262  0.01858521 ...  0.00076294 -0.00030518\n",
      " -0.00076294], sr=16000 as keyword args. From version 0.10 passing these as positional arguments will result in an error\n",
      "C:\\Users\\yutan\\anaconda3\\envs\\tensorflow\\lib\\site-packages\\ipykernel_launcher.py:41: FutureWarning: Pass y=[-0.01254272 -0.05551147 -0.07867432 ...  0.00097656 -0.00054932\n",
      "  0.00112915], sr=16000 as keyword args. From version 0.10 passing these as positional arguments will result in an error\n",
      "C:\\Users\\yutan\\anaconda3\\envs\\tensorflow\\lib\\site-packages\\ipykernel_launcher.py:41: FutureWarning: Pass y=[-0.00143433 -0.00079346 -0.00064087 ... -0.00115967  0.00064087\n",
      " -0.00048828], sr=16000 as keyword args. From version 0.10 passing these as positional arguments will result in an error\n",
      "C:\\Users\\yutan\\anaconda3\\envs\\tensorflow\\lib\\site-packages\\ipykernel_launcher.py:41: FutureWarning: Pass y=[-6.0424805e-03 -6.1340332e-03 -4.2114258e-03 ...  6.1035156e-05\n",
      " -5.1879883e-04  8.5449219e-04], sr=16000 as keyword args. From version 0.10 passing these as positional arguments will result in an error\n",
      "C:\\Users\\yutan\\anaconda3\\envs\\tensorflow\\lib\\site-packages\\ipykernel_launcher.py:41: FutureWarning: Pass y=[2.8309732e-05 3.2366694e-05 2.8813205e-05 ... 3.1752130e-05 4.2816348e-05\n",
      " 2.1128822e-05], sr=16000 as keyword args. From version 0.10 passing these as positional arguments will result in an error\n",
      "C:\\Users\\yutan\\anaconda3\\envs\\tensorflow\\lib\\site-packages\\ipykernel_launcher.py:41: FutureWarning: Pass y=[-0.06097412 -0.04348755 -0.03057861 ... -0.00042725  0.00863647\n",
      "  0.00131226], sr=16000 as keyword args. From version 0.10 passing these as positional arguments will result in an error\n",
      "C:\\Users\\yutan\\anaconda3\\envs\\tensorflow\\lib\\site-packages\\ipykernel_launcher.py:41: FutureWarning: Pass y=[ 9.8571777e-03  1.2359619e-02  1.5563965e-02 ... -9.1552734e-05\n",
      " -2.4414062e-04 -4.8828125e-04], sr=16000 as keyword args. From version 0.10 passing these as positional arguments will result in an error\n",
      "C:\\Users\\yutan\\anaconda3\\envs\\tensorflow\\lib\\site-packages\\ipykernel_launcher.py:41: FutureWarning: Pass y=[6.7301989e-05 1.1576292e-04 1.0733629e-04 ... 1.3640679e-04 7.9245365e-05\n",
      " 6.9912719e-05], sr=16000 as keyword args. From version 0.10 passing these as positional arguments will result in an error\n",
      "C:\\Users\\yutan\\anaconda3\\envs\\tensorflow\\lib\\site-packages\\ipykernel_launcher.py:41: FutureWarning: Pass y=[ 0.00726318  0.00830078 -0.01467896 ...  0.00015259 -0.00045776\n",
      "  0.00079346], sr=16000 as keyword args. From version 0.10 passing these as positional arguments will result in an error\n",
      "C:\\Users\\yutan\\anaconda3\\envs\\tensorflow\\lib\\site-packages\\ipykernel_launcher.py:41: FutureWarning: Pass y=[-3.0517578e-05 -6.1035156e-05 -3.0517578e-05 ...  0.0000000e+00\n",
      " -3.0517578e-05  0.0000000e+00], sr=16000 as keyword args. From version 0.10 passing these as positional arguments will result in an error\n",
      "C:\\Users\\yutan\\anaconda3\\envs\\tensorflow\\lib\\site-packages\\ipykernel_launcher.py:41: FutureWarning: Pass y=[ 0.00790405  0.00036621 -0.00823975 ... -0.00125122  0.00149536\n",
      " -0.0007019 ], sr=16000 as keyword args. From version 0.10 passing these as positional arguments will result in an error\n",
      "C:\\Users\\yutan\\anaconda3\\envs\\tensorflow\\lib\\site-packages\\ipykernel_launcher.py:41: FutureWarning: Pass y=[ 1.0192871e-02  9.6740723e-03  8.9111328e-03 ...  0.0000000e+00\n",
      "  0.0000000e+00 -3.0517578e-05], sr=16000 as keyword args. From version 0.10 passing these as positional arguments will result in an error\n",
      "C:\\Users\\yutan\\anaconda3\\envs\\tensorflow\\lib\\site-packages\\ipykernel_launcher.py:41: FutureWarning: Pass y=[-0.00012207 -0.00079346  0.00094604 ...  0.00036621  0.00033569\n",
      " -0.00158691], sr=16000 as keyword args. From version 0.10 passing these as positional arguments will result in an error\n",
      "C:\\Users\\yutan\\anaconda3\\envs\\tensorflow\\lib\\site-packages\\ipykernel_launcher.py:41: FutureWarning: Pass y=[ 0.0085144   0.00534058 -0.00564575 ... -0.0015564   0.00152588\n",
      " -0.00045776], sr=16000 as keyword args. From version 0.10 passing these as positional arguments will result in an error\n",
      "C:\\Users\\yutan\\anaconda3\\envs\\tensorflow\\lib\\site-packages\\ipykernel_launcher.py:41: FutureWarning: Pass y=[-2.9998779e-02 -4.0161133e-02 -4.3853760e-02 ...  3.9672852e-04\n",
      "  2.1362305e-04  9.1552734e-05], sr=16000 as keyword args. From version 0.10 passing these as positional arguments will result in an error\n",
      "C:\\Users\\yutan\\anaconda3\\envs\\tensorflow\\lib\\site-packages\\ipykernel_launcher.py:41: FutureWarning: Pass y=[ 1.7746648e-05 -1.9715490e-06  3.2941662e-07 ...  4.5060460e-06\n",
      "  7.9708489e-06 -4.0626968e-05], sr=16000 as keyword args. From version 0.10 passing these as positional arguments will result in an error\n",
      "C:\\Users\\yutan\\anaconda3\\envs\\tensorflow\\lib\\site-packages\\ipykernel_launcher.py:41: FutureWarning: Pass y=[ 0.02618408  0.01571655 -0.00650024 ...  0.00015259 -0.00073242\n",
      " -0.00143433], sr=16000 as keyword args. From version 0.10 passing these as positional arguments will result in an error\n",
      "C:\\Users\\yutan\\anaconda3\\envs\\tensorflow\\lib\\site-packages\\ipykernel_launcher.py:41: FutureWarning: Pass y=[-7.6293945e-04 -2.1972656e-03 -3.0517578e-04 ... -7.9345703e-04\n",
      "  9.4604492e-04 -3.0517578e-05], sr=16000 as keyword args. From version 0.10 passing these as positional arguments will result in an error\n",
      "C:\\Users\\yutan\\anaconda3\\envs\\tensorflow\\lib\\site-packages\\ipykernel_launcher.py:41: FutureWarning: Pass y=[-3.0517578e-05  0.0000000e+00 -3.0517578e-05 ... -3.0517578e-05\n",
      " -3.0517578e-05  3.0517578e-05], sr=16000 as keyword args. From version 0.10 passing these as positional arguments will result in an error\n",
      "C:\\Users\\yutan\\anaconda3\\envs\\tensorflow\\lib\\site-packages\\ipykernel_launcher.py:41: FutureWarning: Pass y=[ 0.01879883  0.0112915   0.00579834 ...  0.00054932 -0.00079346\n",
      " -0.00042725], sr=16000 as keyword args. From version 0.10 passing these as positional arguments will result in an error\n"
     ]
    },
    {
     "name": "stderr",
     "output_type": "stream",
     "text": [
      "C:\\Users\\yutan\\anaconda3\\envs\\tensorflow\\lib\\site-packages\\ipykernel_launcher.py:41: FutureWarning: Pass y=[-9.1552734e-05 -3.0517578e-05  0.0000000e+00 ...  9.1552734e-05\n",
      "  6.1035156e-05  9.1552734e-05], sr=16000 as keyword args. From version 0.10 passing these as positional arguments will result in an error\n",
      "C:\\Users\\yutan\\anaconda3\\envs\\tensorflow\\lib\\site-packages\\ipykernel_launcher.py:41: FutureWarning: Pass y=[-1.7364502e-02 -1.8096924e-02 -7.0495605e-03 ...  0.0000000e+00\n",
      "  0.0000000e+00 -3.0517578e-05], sr=16000 as keyword args. From version 0.10 passing these as positional arguments will result in an error\n",
      "C:\\Users\\yutan\\anaconda3\\envs\\tensorflow\\lib\\site-packages\\ipykernel_launcher.py:41: FutureWarning: Pass y=[ 4.7010149e-06 -3.1893476e-06  2.7604458e-06 ... -4.5960536e-04\n",
      "  1.9573942e-03  3.6028177e-03], sr=16000 as keyword args. From version 0.10 passing these as positional arguments will result in an error\n",
      "C:\\Users\\yutan\\anaconda3\\envs\\tensorflow\\lib\\site-packages\\ipykernel_launcher.py:41: FutureWarning: Pass y=[ 2.0370060e-06 -2.7879046e-06  3.7382861e-06 ... -3.1934891e-05\n",
      " -6.7833189e-06  7.4082354e-06], sr=16000 as keyword args. From version 0.10 passing these as positional arguments will result in an error\n",
      "C:\\Users\\yutan\\anaconda3\\envs\\tensorflow\\lib\\site-packages\\ipykernel_launcher.py:41: FutureWarning: Pass y=[-0.00137329 -0.00057983 -0.00027466 ...  0.00036621 -0.00061035\n",
      "  0.00149536], sr=16000 as keyword args. From version 0.10 passing these as positional arguments will result in an error\n",
      "C:\\Users\\yutan\\anaconda3\\envs\\tensorflow\\lib\\site-packages\\ipykernel_launcher.py:41: FutureWarning: Pass y=[ 0.0000000e+00 -3.0517578e-05 -6.1035156e-05 ...  9.1552734e-05\n",
      "  6.1035156e-05  0.0000000e+00], sr=16000 as keyword args. From version 0.10 passing these as positional arguments will result in an error\n",
      "C:\\Users\\yutan\\anaconda3\\envs\\tensorflow\\lib\\site-packages\\ipykernel_launcher.py:41: FutureWarning: Pass y=[ 0.00152588  0.00067139 -0.00012207 ... -0.00076294 -0.00024414\n",
      " -0.00079346], sr=16000 as keyword args. From version 0.10 passing these as positional arguments will result in an error\n",
      "C:\\Users\\yutan\\anaconda3\\envs\\tensorflow\\lib\\site-packages\\ipykernel_launcher.py:41: FutureWarning: Pass y=[-0.00085449 -0.00015259  0.00036621 ... -0.00033569  0.00161743\n",
      " -0.00039673], sr=16000 as keyword args. From version 0.10 passing these as positional arguments will result in an error\n",
      "C:\\Users\\yutan\\anaconda3\\envs\\tensorflow\\lib\\site-packages\\ipykernel_launcher.py:41: FutureWarning: Pass y=[ 6.9042413e-05 -1.7842864e-05 -3.3568023e-05 ...  3.5532026e-03\n",
      "  3.5068609e-03  3.3664957e-03], sr=16000 as keyword args. From version 0.10 passing these as positional arguments will result in an error\n",
      "C:\\Users\\yutan\\anaconda3\\envs\\tensorflow\\lib\\site-packages\\ipykernel_launcher.py:41: FutureWarning: Pass y=[ 3.0517578e-05 -1.2207031e-04  1.8615723e-03 ... -1.7700195e-03\n",
      " -1.8005371e-03  1.1596680e-03], sr=16000 as keyword args. From version 0.10 passing these as positional arguments will result in an error\n",
      "C:\\Users\\yutan\\anaconda3\\envs\\tensorflow\\lib\\site-packages\\ipykernel_launcher.py:41: FutureWarning: Pass y=[-3.0517578e-05  0.0000000e+00 -3.0517578e-05 ...  9.1552734e-05\n",
      "  0.0000000e+00 -1.2207031e-04], sr=16000 as keyword args. From version 0.10 passing these as positional arguments will result in an error\n",
      "C:\\Users\\yutan\\anaconda3\\envs\\tensorflow\\lib\\site-packages\\ipykernel_launcher.py:41: FutureWarning: Pass y=[ 0.01724243  0.01251221  0.00372314 ... -0.00054932 -0.00048828\n",
      "  0.00064087], sr=16000 as keyword args. From version 0.10 passing these as positional arguments will result in an error\n",
      "C:\\Users\\yutan\\anaconda3\\envs\\tensorflow\\lib\\site-packages\\ipykernel_launcher.py:41: FutureWarning: Pass y=[-3.0517578e-05  0.0000000e+00 -3.0517578e-05 ...  0.0000000e+00\n",
      "  0.0000000e+00 -3.0517578e-05], sr=16000 as keyword args. From version 0.10 passing these as positional arguments will result in an error\n",
      "C:\\Users\\yutan\\anaconda3\\envs\\tensorflow\\lib\\site-packages\\ipykernel_launcher.py:41: FutureWarning: Pass y=[ 3.9672852e-04 -6.1035156e-05 -4.8828125e-04 ...  3.9062500e-03\n",
      "  4.2114258e-03  3.1127930e-03], sr=16000 as keyword args. From version 0.10 passing these as positional arguments will result in an error\n",
      "C:\\Users\\yutan\\anaconda3\\envs\\tensorflow\\lib\\site-packages\\ipykernel_launcher.py:41: FutureWarning: Pass y=[ 0.00656128  0.00061035  0.00216675 ... -0.00015259  0.00039673\n",
      " -0.00030518], sr=16000 as keyword args. From version 0.10 passing these as positional arguments will result in an error\n",
      "C:\\Users\\yutan\\anaconda3\\envs\\tensorflow\\lib\\site-packages\\ipykernel_launcher.py:41: FutureWarning: Pass y=[ 5.1879883e-04 -3.9672852e-04 -7.6293945e-04 ... -7.9345703e-04\n",
      " -6.1035156e-05 -7.3242188e-04], sr=16000 as keyword args. From version 0.10 passing these as positional arguments will result in an error\n",
      "C:\\Users\\yutan\\anaconda3\\envs\\tensorflow\\lib\\site-packages\\ipykernel_launcher.py:41: FutureWarning: Pass y=[-2.8625488e-02 -3.8055420e-02 -4.0405273e-02 ...  1.2207031e-04\n",
      " -9.1552734e-05 -6.1035156e-05], sr=16000 as keyword args. From version 0.10 passing these as positional arguments will result in an error\n",
      "C:\\Users\\yutan\\anaconda3\\envs\\tensorflow\\lib\\site-packages\\ipykernel_launcher.py:41: FutureWarning: Pass y=[-5.7983398e-04  1.5258789e-03  2.4414062e-04 ... -9.1552734e-05\n",
      "  1.5563965e-03  1.3732910e-03], sr=16000 as keyword args. From version 0.10 passing these as positional arguments will result in an error\n",
      "C:\\Users\\yutan\\anaconda3\\envs\\tensorflow\\lib\\site-packages\\ipykernel_launcher.py:41: FutureWarning: Pass y=[-0.00048828  0.00024414  0.00115967 ... -0.00045776  0.00045776\n",
      " -0.0010376 ], sr=16000 as keyword args. From version 0.10 passing these as positional arguments will result in an error\n",
      "C:\\Users\\yutan\\anaconda3\\envs\\tensorflow\\lib\\site-packages\\ipykernel_launcher.py:41: FutureWarning: Pass y=[-6.1035156e-04 -2.4414062e-03  9.7656250e-04 ... -3.0517578e-04\n",
      " -3.0517578e-05  4.5776367e-04], sr=16000 as keyword args. From version 0.10 passing these as positional arguments will result in an error\n",
      "C:\\Users\\yutan\\anaconda3\\envs\\tensorflow\\lib\\site-packages\\ipykernel_launcher.py:41: FutureWarning: Pass y=[ 0.0012207  -0.00061035  0.00079346 ...  0.         -0.00045776\n",
      " -0.00119019], sr=16000 as keyword args. From version 0.10 passing these as positional arguments will result in an error\n",
      "C:\\Users\\yutan\\anaconda3\\envs\\tensorflow\\lib\\site-packages\\ipykernel_launcher.py:41: FutureWarning: Pass y=[ 0.00024414  0.00109863  0.00134277 ... -0.00057983 -0.00204468\n",
      "  0.00109863], sr=16000 as keyword args. From version 0.10 passing these as positional arguments will result in an error\n",
      "C:\\Users\\yutan\\anaconda3\\envs\\tensorflow\\lib\\site-packages\\ipykernel_launcher.py:41: FutureWarning: Pass y=[ 0.00140381  0.00027466  0.00033569 ... -0.00057983  0.00082397\n",
      "  0.00152588], sr=16000 as keyword args. From version 0.10 passing these as positional arguments will result in an error\n",
      "C:\\Users\\yutan\\anaconda3\\envs\\tensorflow\\lib\\site-packages\\ipykernel_launcher.py:41: FutureWarning: Pass y=[ 0.06228638  0.04202271  0.03036499 ...  0.00112915 -0.01055908\n",
      " -0.00228882], sr=16000 as keyword args. From version 0.10 passing these as positional arguments will result in an error\n",
      "C:\\Users\\yutan\\anaconda3\\envs\\tensorflow\\lib\\site-packages\\ipykernel_launcher.py:41: FutureWarning: Pass y=[ 0.0000000e+00 -3.0517578e-05  0.0000000e+00 ...  0.0000000e+00\n",
      " -3.0517578e-05 -3.0517578e-05], sr=16000 as keyword args. From version 0.10 passing these as positional arguments will result in an error\n",
      "C:\\Users\\yutan\\anaconda3\\envs\\tensorflow\\lib\\site-packages\\ipykernel_launcher.py:41: FutureWarning: Pass y=[ 1.6736802e-05 -3.4268975e-05  2.0401969e-06 ...  1.1766389e-05\n",
      "  1.4556854e-05 -3.0438737e-06], sr=16000 as keyword args. From version 0.10 passing these as positional arguments will result in an error\n",
      "C:\\Users\\yutan\\anaconda3\\envs\\tensorflow\\lib\\site-packages\\ipykernel_launcher.py:41: FutureWarning: Pass y=[ 0.00115967  0.00134277  0.00018311 ... -0.00100708 -0.00012207\n",
      " -0.00057983], sr=16000 as keyword args. From version 0.10 passing these as positional arguments will result in an error\n",
      "C:\\Users\\yutan\\anaconda3\\envs\\tensorflow\\lib\\site-packages\\ipykernel_launcher.py:41: FutureWarning: Pass y=[-3.0517578e-05 -9.1552734e-05 -6.1035156e-05 ... -1.3732910e-03\n",
      " -1.2817383e-03 -1.1596680e-03], sr=16000 as keyword args. From version 0.10 passing these as positional arguments will result in an error\n",
      "C:\\Users\\yutan\\anaconda3\\envs\\tensorflow\\lib\\site-packages\\ipykernel_launcher.py:41: FutureWarning: Pass y=[-4.3253509e-05 -5.0721817e-05 -7.4513518e-05 ...  4.8508140e-05\n",
      "  2.7734919e-05  3.0637999e-05], sr=16000 as keyword args. From version 0.10 passing these as positional arguments will result in an error\n",
      "C:\\Users\\yutan\\anaconda3\\envs\\tensorflow\\lib\\site-packages\\ipykernel_launcher.py:41: FutureWarning: Pass y=[-9.1552734e-05 -1.2207031e-04 -1.2207031e-04 ...  9.1552734e-05\n",
      "  3.0517578e-05  3.0517578e-05], sr=16000 as keyword args. From version 0.10 passing these as positional arguments will result in an error\n"
     ]
    },
    {
     "name": "stderr",
     "output_type": "stream",
     "text": [
      "C:\\Users\\yutan\\anaconda3\\envs\\tensorflow\\lib\\site-packages\\ipykernel_launcher.py:41: FutureWarning: Pass y=[ 2.0996094e-02 -9.1552734e-05  4.6691895e-03 ... -4.2724609e-04\n",
      "  3.9672852e-04 -3.6621094e-04], sr=16000 as keyword args. From version 0.10 passing these as positional arguments will result in an error\n",
      "C:\\Users\\yutan\\anaconda3\\envs\\tensorflow\\lib\\site-packages\\ipykernel_launcher.py:41: FutureWarning: Pass y=[ 0.0000000e+00 -3.0517578e-05 -6.1035156e-05 ...  3.0517578e-05\n",
      "  3.0517578e-05 -3.0517578e-05], sr=16000 as keyword args. From version 0.10 passing these as positional arguments will result in an error\n",
      "C:\\Users\\yutan\\anaconda3\\envs\\tensorflow\\lib\\site-packages\\ipykernel_launcher.py:41: FutureWarning: Pass y=[ 2.7342856e-05 -2.6732929e-05 -6.6064422e-07 ...  5.5547636e-05\n",
      " -3.2453783e-04  2.6918104e-04], sr=16000 as keyword args. From version 0.10 passing these as positional arguments will result in an error\n",
      "C:\\Users\\yutan\\anaconda3\\envs\\tensorflow\\lib\\site-packages\\ipykernel_launcher.py:41: FutureWarning: Pass y=[-1.5258789e-04 -5.7983398e-04  3.3569336e-04 ...  1.5258789e-04\n",
      "  6.1035156e-05 -8.5449219e-04], sr=16000 as keyword args. From version 0.10 passing these as positional arguments will result in an error\n",
      "C:\\Users\\yutan\\anaconda3\\envs\\tensorflow\\lib\\site-packages\\ipykernel_launcher.py:41: FutureWarning: Pass y=[ 1.0375977e-03  6.1035156e-05  2.1362305e-04 ...  2.4414062e-04\n",
      " -9.7656250e-04  1.4953613e-03], sr=16000 as keyword args. From version 0.10 passing these as positional arguments will result in an error\n",
      "C:\\Users\\yutan\\anaconda3\\envs\\tensorflow\\lib\\site-packages\\ipykernel_launcher.py:41: FutureWarning: Pass y=[ 0.00027466 -0.00030518 -0.00192261 ... -0.00094604  0.00033569\n",
      "  0.00097656], sr=16000 as keyword args. From version 0.10 passing these as positional arguments will result in an error\n",
      "C:\\Users\\yutan\\anaconda3\\envs\\tensorflow\\lib\\site-packages\\ipykernel_launcher.py:41: FutureWarning: Pass y=[ 0.00177002  0.00109863  0.00100708 ... -0.00048828  0.00015259\n",
      " -0.00094604], sr=16000 as keyword args. From version 0.10 passing these as positional arguments will result in an error\n",
      "C:\\Users\\yutan\\anaconda3\\envs\\tensorflow\\lib\\site-packages\\ipykernel_launcher.py:41: FutureWarning: Pass y=[-0.01959229 -0.03796387 -0.04284668 ...  0.00039673 -0.00115967\n",
      "  0.00115967], sr=16000 as keyword args. From version 0.10 passing these as positional arguments will result in an error\n",
      "C:\\Users\\yutan\\anaconda3\\envs\\tensorflow\\lib\\site-packages\\ipykernel_launcher.py:41: FutureWarning: Pass y=[9.1552734e-05 6.1035156e-05 1.2207031e-04 ... 3.0517578e-05 6.1035156e-05\n",
      " 6.1035156e-05], sr=16000 as keyword args. From version 0.10 passing these as positional arguments will result in an error\n",
      "C:\\Users\\yutan\\anaconda3\\envs\\tensorflow\\lib\\site-packages\\ipykernel_launcher.py:41: FutureWarning: Pass y=[ 0.00747681  0.00180054  0.00039673 ...  0.00024414 -0.00125122\n",
      " -0.00082397], sr=16000 as keyword args. From version 0.10 passing these as positional arguments will result in an error\n",
      "C:\\Users\\yutan\\anaconda3\\envs\\tensorflow\\lib\\site-packages\\ipykernel_launcher.py:41: FutureWarning: Pass y=[-3.0517578e-05  0.0000000e+00 -3.0517578e-05 ...  3.2043457e-03\n",
      "  3.0212402e-03  2.8381348e-03], sr=16000 as keyword args. From version 0.10 passing these as positional arguments will result in an error\n",
      "C:\\Users\\yutan\\anaconda3\\envs\\tensorflow\\lib\\site-packages\\ipykernel_launcher.py:41: FutureWarning: Pass y=[-0.00100708 -0.00170898 -0.00479126 ...  0.00054932  0.00106812\n",
      " -0.00045776], sr=16000 as keyword args. From version 0.10 passing these as positional arguments will result in an error\n",
      "C:\\Users\\yutan\\anaconda3\\envs\\tensorflow\\lib\\site-packages\\ipykernel_launcher.py:41: FutureWarning: Pass y=[ 1.6767266e-05  5.8656027e-05  3.9972791e-05 ... -2.9865820e-05\n",
      " -1.1002928e-05  4.2115462e-06], sr=16000 as keyword args. From version 0.10 passing these as positional arguments will result in an error\n",
      "C:\\Users\\yutan\\anaconda3\\envs\\tensorflow\\lib\\site-packages\\ipykernel_launcher.py:41: FutureWarning: Pass y=[-9.46123078e-02 -7.59718940e-02 -6.51416257e-02 ... -5.13069281e-05\n",
      " -1.02954094e-04 -3.62028404e-05], sr=16000 as keyword args. From version 0.10 passing these as positional arguments will result in an error\n",
      "C:\\Users\\yutan\\anaconda3\\envs\\tensorflow\\lib\\site-packages\\ipykernel_launcher.py:41: FutureWarning: Pass y=[-0.03411865 -0.02398682 -0.01965332 ...  0.00228882 -0.00137329\n",
      "  0.00067139], sr=16000 as keyword args. From version 0.10 passing these as positional arguments will result in an error\n",
      "C:\\Users\\yutan\\anaconda3\\envs\\tensorflow\\lib\\site-packages\\ipykernel_launcher.py:41: FutureWarning: Pass y=[ 0.00024414 -0.00082397 -0.00015259 ...  0.00091553  0.00042725\n",
      "  0.00073242], sr=16000 as keyword args. From version 0.10 passing these as positional arguments will result in an error\n",
      "C:\\Users\\yutan\\anaconda3\\envs\\tensorflow\\lib\\site-packages\\ipykernel_launcher.py:41: FutureWarning: Pass y=[0.0000000e+00 6.1035156e-05 3.0517578e-05 ... 1.4648438e-03 2.3498535e-03\n",
      " 1.8920898e-03], sr=16000 as keyword args. From version 0.10 passing these as positional arguments will result in an error\n",
      "C:\\Users\\yutan\\anaconda3\\envs\\tensorflow\\lib\\site-packages\\ipykernel_launcher.py:41: FutureWarning: Pass y=[ 7.6293945e-04  7.0190430e-04 -9.1552734e-05 ...  1.0375977e-03\n",
      " -4.8828125e-04 -1.3427734e-03], sr=16000 as keyword args. From version 0.10 passing these as positional arguments will result in an error\n",
      "C:\\Users\\yutan\\anaconda3\\envs\\tensorflow\\lib\\site-packages\\ipykernel_launcher.py:41: FutureWarning: Pass y=[ 5.2189162e-06  4.8764567e-05  6.7279958e-05 ...  5.1380561e-05\n",
      " -2.6054535e-05 -6.0007544e-05], sr=16000 as keyword args. From version 0.10 passing these as positional arguments will result in an error\n",
      "C:\\Users\\yutan\\anaconda3\\envs\\tensorflow\\lib\\site-packages\\ipykernel_launcher.py:41: FutureWarning: Pass y=[1.7242432e-02 1.8005371e-02 1.3610840e-02 ... 1.8310547e-04 6.1035156e-05\n",
      " 6.1035156e-05], sr=16000 as keyword args. From version 0.10 passing these as positional arguments will result in an error\n",
      "C:\\Users\\yutan\\anaconda3\\envs\\tensorflow\\lib\\site-packages\\ipykernel_launcher.py:41: FutureWarning: Pass y=[ 6.2605704e-07  4.8245461e-08 -1.8110466e-06 ...  6.5100336e-05\n",
      " -1.1217987e-04  2.1740087e-05], sr=16000 as keyword args. From version 0.10 passing these as positional arguments will result in an error\n",
      "C:\\Users\\yutan\\anaconda3\\envs\\tensorflow\\lib\\site-packages\\ipykernel_launcher.py:41: FutureWarning: Pass y=[-0.00119019 -0.00091553  0.00131226 ...  0.00036621  0.00012207\n",
      "  0.00100708], sr=16000 as keyword args. From version 0.10 passing these as positional arguments will result in an error\n",
      "C:\\Users\\yutan\\anaconda3\\envs\\tensorflow\\lib\\site-packages\\ipykernel_launcher.py:41: FutureWarning: Pass y=[ 1.6174316e-03  9.1552734e-05 -9.7656250e-04 ... -3.3569336e-04\n",
      " -9.1552734e-04 -6.1035156e-04], sr=16000 as keyword args. From version 0.10 passing these as positional arguments will result in an error\n",
      "C:\\Users\\yutan\\anaconda3\\envs\\tensorflow\\lib\\site-packages\\ipykernel_launcher.py:41: FutureWarning: Pass y=[-8.0831500e-04 -7.8570563e-04 -6.7624962e-04 ...  7.5702832e-05\n",
      " -6.0928578e-05 -4.8821978e-05], sr=16000 as keyword args. From version 0.10 passing these as positional arguments will result in an error\n",
      "C:\\Users\\yutan\\anaconda3\\envs\\tensorflow\\lib\\site-packages\\ipykernel_launcher.py:41: FutureWarning: Pass y=[ 0.00292969  0.0015564  -0.00057983 ... -0.00152588  0.00033569\n",
      "  0.00091553], sr=16000 as keyword args. From version 0.10 passing these as positional arguments will result in an error\n",
      "C:\\Users\\yutan\\anaconda3\\envs\\tensorflow\\lib\\site-packages\\ipykernel_launcher.py:41: FutureWarning: Pass y=[ 2.20656930e-05 -5.58401371e-06  1.77640777e-05 ...  1.18404816e-04\n",
      "  1.33805719e-04  8.24837480e-05], sr=16000 as keyword args. From version 0.10 passing these as positional arguments will result in an error\n",
      "C:\\Users\\yutan\\anaconda3\\envs\\tensorflow\\lib\\site-packages\\ipykernel_launcher.py:41: FutureWarning: Pass y=[ 0.00018311 -0.00079346 -0.00073242 ...  0.00338745  0.00158691\n",
      "  0.00537109], sr=16000 as keyword args. From version 0.10 passing these as positional arguments will result in an error\n"
     ]
    },
    {
     "name": "stderr",
     "output_type": "stream",
     "text": [
      "C:\\Users\\yutan\\anaconda3\\envs\\tensorflow\\lib\\site-packages\\ipykernel_launcher.py:41: FutureWarning: Pass y=[-2.2975346e-05  3.3478040e-07  7.6746522e-07 ... -2.1350304e-05\n",
      "  7.7878096e-05  1.4933579e-05], sr=16000 as keyword args. From version 0.10 passing these as positional arguments will result in an error\n",
      "C:\\Users\\yutan\\anaconda3\\envs\\tensorflow\\lib\\site-packages\\ipykernel_launcher.py:41: FutureWarning: Pass y=[-0.05980103 -0.10592651 -0.1208287  ...  0.00024326  0.00017903\n",
      "  0.00015505], sr=16000 as keyword args. From version 0.10 passing these as positional arguments will result in an error\n",
      "C:\\Users\\yutan\\anaconda3\\envs\\tensorflow\\lib\\site-packages\\ipykernel_launcher.py:41: FutureWarning: Pass y=[-6.1035156e-05  0.0000000e+00  0.0000000e+00 ...  0.0000000e+00\n",
      " -3.0517578e-05  6.1035156e-05], sr=16000 as keyword args. From version 0.10 passing these as positional arguments will result in an error\n",
      "C:\\Users\\yutan\\anaconda3\\envs\\tensorflow\\lib\\site-packages\\ipykernel_launcher.py:41: FutureWarning: Pass y=[-0.01489258 -0.01165771 -0.01150513 ... -0.00073242  0.0012207\n",
      " -0.00137329], sr=16000 as keyword args. From version 0.10 passing these as positional arguments will result in an error\n",
      "C:\\Users\\yutan\\anaconda3\\envs\\tensorflow\\lib\\site-packages\\ipykernel_launcher.py:41: FutureWarning: Pass y=[ 0.0000000e+00 -3.0517578e-05  0.0000000e+00 ... -7.6293945e-04\n",
      " -7.6293945e-04 -7.9345703e-04], sr=16000 as keyword args. From version 0.10 passing these as positional arguments will result in an error\n",
      "C:\\Users\\yutan\\anaconda3\\envs\\tensorflow\\lib\\site-packages\\ipykernel_launcher.py:41: FutureWarning: Pass y=[-1.1502436e-01 -7.8603901e-02 -2.2519700e-02 ... -1.2820427e-05\n",
      " -3.4666118e-05 -2.1372540e-05], sr=16000 as keyword args. From version 0.10 passing these as positional arguments will result in an error\n",
      "C:\\Users\\yutan\\anaconda3\\envs\\tensorflow\\lib\\site-packages\\ipykernel_launcher.py:41: FutureWarning: Pass y=[-6.1035156e-05 -3.0517578e-05 -6.1035156e-05 ... -9.1552734e-05\n",
      " -6.1035156e-05  3.0517578e-05], sr=16000 as keyword args. From version 0.10 passing these as positional arguments will result in an error\n",
      "C:\\Users\\yutan\\anaconda3\\envs\\tensorflow\\lib\\site-packages\\ipykernel_launcher.py:41: FutureWarning: Pass y=[-5.4931641e-04 -1.1291504e-03 -6.1035156e-05 ... -3.0517578e-04\n",
      " -1.2207031e-04 -5.1879883e-04], sr=16000 as keyword args. From version 0.10 passing these as positional arguments will result in an error\n",
      "C:\\Users\\yutan\\anaconda3\\envs\\tensorflow\\lib\\site-packages\\ipykernel_launcher.py:41: FutureWarning: Pass y=[-5.3405762e-03 -1.2176514e-02 -1.2145996e-02 ... -3.0517578e-04\n",
      "  6.1035156e-05 -3.6621094e-04], sr=16000 as keyword args. From version 0.10 passing these as positional arguments will result in an error\n",
      "C:\\Users\\yutan\\anaconda3\\envs\\tensorflow\\lib\\site-packages\\ipykernel_launcher.py:41: FutureWarning: Pass y=[-0.00149536  0.00042725  0.00057983 ...  0.00030518  0.00018311\n",
      " -0.00067139], sr=16000 as keyword args. From version 0.10 passing these as positional arguments will result in an error\n",
      "C:\\Users\\yutan\\anaconda3\\envs\\tensorflow\\lib\\site-packages\\ipykernel_launcher.py:41: FutureWarning: Pass y=[-0.01086426  0.00033569  0.00970459 ...  0.00015259  0.00012207\n",
      "  0.00015259], sr=16000 as keyword args. From version 0.10 passing these as positional arguments will result in an error\n",
      "C:\\Users\\yutan\\anaconda3\\envs\\tensorflow\\lib\\site-packages\\ipykernel_launcher.py:41: FutureWarning: Pass y=[ 3.2348633e-03  3.5400391e-03  6.1035156e-05 ... -3.9672852e-04\n",
      "  3.0517578e-04 -6.1035156e-05], sr=16000 as keyword args. From version 0.10 passing these as positional arguments will result in an error\n",
      "C:\\Users\\yutan\\anaconda3\\envs\\tensorflow\\lib\\site-packages\\ipykernel_launcher.py:41: FutureWarning: Pass y=[ 0.01217651 -0.00091553 -0.01126099 ... -0.00073242 -0.00097656\n",
      "  0.00057983], sr=16000 as keyword args. From version 0.10 passing these as positional arguments will result in an error\n",
      "C:\\Users\\yutan\\anaconda3\\envs\\tensorflow\\lib\\site-packages\\ipykernel_launcher.py:41: FutureWarning: Pass y=[ 0.0000000e+00 -6.1035156e-05 -9.1552734e-05 ... -2.8076172e-03\n",
      " -2.5024414e-03 -2.2277832e-03], sr=16000 as keyword args. From version 0.10 passing these as positional arguments will result in an error\n",
      "C:\\Users\\yutan\\anaconda3\\envs\\tensorflow\\lib\\site-packages\\ipykernel_launcher.py:41: FutureWarning: Pass y=[-0.00012207 -0.00106812  0.00042725 ...  0.02420044  0.02548218\n",
      "  0.02856445], sr=16000 as keyword args. From version 0.10 passing these as positional arguments will result in an error\n",
      "C:\\Users\\yutan\\anaconda3\\envs\\tensorflow\\lib\\site-packages\\ipykernel_launcher.py:41: FutureWarning: Pass y=[ 1.9187657e-05 -2.3764607e-05 -3.3528971e-07 ... -3.4589735e-05\n",
      "  2.2147776e-06 -7.7525519e-06], sr=16000 as keyword args. From version 0.10 passing these as positional arguments will result in an error\n",
      "C:\\Users\\yutan\\anaconda3\\envs\\tensorflow\\lib\\site-packages\\ipykernel_launcher.py:41: FutureWarning: Pass y=[ 3.9608512e-06 -4.0488413e-08 -2.1659169e-05 ... -9.4629213e-06\n",
      "  4.1469633e-05 -3.8153594e-06], sr=16000 as keyword args. From version 0.10 passing these as positional arguments will result in an error\n",
      "C:\\Users\\yutan\\anaconda3\\envs\\tensorflow\\lib\\site-packages\\ipykernel_launcher.py:41: FutureWarning: Pass y=[-7.1003898e-03 -9.6386345e-03 -1.4572331e-02 ...  8.5525120e-05\n",
      "  5.7917481e-05  8.6617030e-05], sr=16000 as keyword args. From version 0.10 passing these as positional arguments will result in an error\n",
      "C:\\Users\\yutan\\anaconda3\\envs\\tensorflow\\lib\\site-packages\\ipykernel_launcher.py:41: FutureWarning: Pass y=[-0.00039673 -0.00192261 -0.00033569 ... -0.00039673  0.00088501\n",
      "  0.00183105], sr=16000 as keyword args. From version 0.10 passing these as positional arguments will result in an error\n",
      "C:\\Users\\yutan\\anaconda3\\envs\\tensorflow\\lib\\site-packages\\ipykernel_launcher.py:41: FutureWarning: Pass y=[ 0.0000000e+00 -3.0517578e-05 -3.0517578e-05 ... -6.1035156e-05\n",
      " -9.1552734e-05 -9.1552734e-05], sr=16000 as keyword args. From version 0.10 passing these as positional arguments will result in an error\n",
      "C:\\Users\\yutan\\anaconda3\\envs\\tensorflow\\lib\\site-packages\\ipykernel_launcher.py:41: FutureWarning: Pass y=[-3.0517578e-05  3.0517578e-05  9.1552734e-05 ... -1.8310547e-04\n",
      " -1.5258789e-04 -9.1552734e-05], sr=16000 as keyword args. From version 0.10 passing these as positional arguments will result in an error\n",
      "C:\\Users\\yutan\\anaconda3\\envs\\tensorflow\\lib\\site-packages\\ipykernel_launcher.py:41: FutureWarning: Pass y=[-2.8631470e-05 -3.2421278e-05 -2.8821165e-05 ... -2.7830307e-05\n",
      " -6.1351144e-05 -8.6937158e-05], sr=16000 as keyword args. From version 0.10 passing these as positional arguments will result in an error\n",
      "C:\\Users\\yutan\\anaconda3\\envs\\tensorflow\\lib\\site-packages\\ipykernel_launcher.py:41: FutureWarning: Pass y=[-3.7330767e-05 -3.9333107e-05 -1.3368439e-05 ...  3.3039032e-05\n",
      "  8.0186153e-05  7.4926982e-05], sr=16000 as keyword args. From version 0.10 passing these as positional arguments will result in an error\n",
      "C:\\Users\\yutan\\anaconda3\\envs\\tensorflow\\lib\\site-packages\\ipykernel_launcher.py:41: FutureWarning: Pass y=[ 1.5472075e-05  2.0041043e-05 -1.9699210e-06 ... -1.2030640e-04\n",
      " -2.1951430e-04 -1.8436555e-04], sr=16000 as keyword args. From version 0.10 passing these as positional arguments will result in an error\n",
      "C:\\Users\\yutan\\anaconda3\\envs\\tensorflow\\lib\\site-packages\\ipykernel_launcher.py:41: FutureWarning: Pass y=[-3.0960985e-03 -8.7080942e-03 -9.7607039e-03 ...  1.3817933e-05\n",
      "  4.7861709e-04 -6.8758923e-04], sr=16000 as keyword args. From version 0.10 passing these as positional arguments will result in an error\n",
      "C:\\Users\\yutan\\anaconda3\\envs\\tensorflow\\lib\\site-packages\\ipykernel_launcher.py:41: FutureWarning: Pass y=[-1.4160156e-02 -2.3498535e-03  5.6762695e-03 ... -4.2724609e-04\n",
      " -9.1552734e-05  1.8310547e-04], sr=16000 as keyword args. From version 0.10 passing these as positional arguments will result in an error\n",
      "C:\\Users\\yutan\\anaconda3\\envs\\tensorflow\\lib\\site-packages\\ipykernel_launcher.py:41: FutureWarning: Pass y=[ 0.00036621 -0.00024414  0.00115967 ... -0.00085449  0.00094604\n",
      " -0.00021362], sr=16000 as keyword args. From version 0.10 passing these as positional arguments will result in an error\n"
     ]
    },
    {
     "name": "stderr",
     "output_type": "stream",
     "text": [
      "C:\\Users\\yutan\\anaconda3\\envs\\tensorflow\\lib\\site-packages\\ipykernel_launcher.py:41: FutureWarning: Pass y=[-0.00048828  0.00064087  0.00042725 ... -0.00164795 -0.00045776\n",
      " -0.00177002], sr=16000 as keyword args. From version 0.10 passing these as positional arguments will result in an error\n",
      "C:\\Users\\yutan\\anaconda3\\envs\\tensorflow\\lib\\site-packages\\ipykernel_launcher.py:41: FutureWarning: Pass y=[-5.6768371e-05  7.5043395e-06 -2.5261585e-05 ...  7.3610049e-06\n",
      " -2.5786096e-05 -2.8425799e-05], sr=16000 as keyword args. From version 0.10 passing these as positional arguments will result in an error\n"
     ]
    },
    {
     "name": "stdout",
     "output_type": "stream",
     "text": [
      "Train 잃은거0.0\n",
      "Valid 잃은거0.0\n",
      "Test 잃은거0.0\n"
     ]
    },
    {
     "name": "stderr",
     "output_type": "stream",
     "text": [
      "C:\\Users\\yutan\\anaconda3\\envs\\tensorflow\\lib\\site-packages\\ipykernel_launcher.py:41: FutureWarning: Pass y=[-0.00041631  0.00057038 -0.00032767 ... -0.000595   -0.00042813\n",
      "  0.0005451 ], sr=16000 as keyword args. From version 0.10 passing these as positional arguments will result in an error\n"
     ]
    }
   ],
   "source": [
    "x_train, y_train, prob_train = extract_features(filenames_train, y_orig_train)\n",
    "x_val, y_val, prob_val = extract_features(filenames_val, y_orig_val)\n",
    "x_test, y_test, prob_test = extract_features(filenames_test, y_orig_test)\n",
    "\n",
    "print(\"Train 잃은거{}\".format(prob_train / len(y_orig_train)))\n",
    "print(\"Valid 잃은거{}\".format(prob_val / len(y_orig_val)))\n",
    "print(\"Test 잃은거{}\".format(prob_test / len(y_orig_test)))"
   ]
  },
  {
   "cell_type": "code",
   "execution_count": 234,
   "metadata": {
    "colab": {
     "base_uri": "https://localhost:8080/"
    },
    "executionInfo": {
     "elapsed": 24,
     "status": "ok",
     "timestamp": 1648708627699,
     "user": {
      "displayName": "김유탄",
      "userId": "04011767612525493979"
     },
     "user_tz": -540
    },
    "id": "djXZJjagTi9i",
    "outputId": "2412e5a6-8ad2-43d6-de1b-34448798e877"
   },
   "outputs": [
    {
     "name": "stdout",
     "output_type": "stream",
     "text": [
      "4\n"
     ]
    }
   ],
   "source": [
    "wake_word_index = target_list.index(Config.wake_word)\n",
    "print(wake_word_index)"
   ]
  },
  {
   "cell_type": "code",
   "execution_count": 235,
   "metadata": {
    "executionInfo": {
     "elapsed": 20,
     "status": "ok",
     "timestamp": 1648708627700,
     "user": {
      "displayName": "김유탄",
      "userId": "04011767612525493979"
     },
     "user_tz": -540
    },
    "id": "BFEyc1kIG2oC"
   },
   "outputs": [],
   "source": [
    "# 학습에 사용할 모든 - MFCC 까지 모두 진행한 정보들\n",
    "#저장 할 곳\n",
    "np.savez(Config.base_path +\"mfcc_set.npz\", \n",
    "         x_train=x_train, \n",
    "         y_train=y_train, \n",
    "         x_val=x_val, \n",
    "         y_val=y_val, \n",
    "         x_test=x_test, \n",
    "         y_test=y_test)"
   ]
  },
  {
   "cell_type": "markdown",
   "metadata": {
    "id": "ugEWbEECEdR0"
   },
   "source": [
    "# 데이터 전처리"
   ]
  },
  {
   "cell_type": "code",
   "execution_count": 236,
   "metadata": {
    "executionInfo": {
     "elapsed": 23,
     "status": "ok",
     "timestamp": 1648708628134,
     "user": {
      "displayName": "김유탄",
      "userId": "04011767612525493979"
     },
     "user_tz": -540
    },
    "id": "UORwgpYuFs3a"
   },
   "outputs": [],
   "source": [
    "feature_sets = np.load( Config.base_path + \"mfcc_set.npz\")\n",
    "\n",
    "# 저장되어 있는 mfcc feature 들 불러 오기\n",
    "x_train = feature_sets['x_train']\n",
    "y_train = feature_sets['y_train']\n",
    "x_val = feature_sets['x_val']\n",
    "y_val = feature_sets['y_val']\n",
    "x_test = feature_sets['x_test']\n",
    "y_test = feature_sets['y_test']"
   ]
  },
  {
   "cell_type": "code",
   "execution_count": 237,
   "metadata": {
    "colab": {
     "base_uri": "https://localhost:8080/"
    },
    "executionInfo": {
     "elapsed": 20,
     "status": "ok",
     "timestamp": 1648708628137,
     "user": {
      "displayName": "김유탄",
      "userId": "04011767612525493979"
     },
     "user_tz": -540
    },
    "id": "gNjK8_proNIH",
    "outputId": "5e3b0556-e7c4-4334-9343-50ac2f71d0b8"
   },
   "outputs": [],
   "source": [
    "# 내가 수행 하고 싶은 \"기동어\" 설정\n",
    "# index (나는 하나니까 0) 이면, True 또는 False 반환 해주기 - 1아니면 0 ]\n",
    "# wake up word index와 같은  부분은 1로 바꿔주고(True), 나머지 데이터는 그냥 0으로 처리 함\n",
    "\n",
    "wake_word_index = target_list.index(Config.wake_word)\n",
    "\n",
    "y_train = np.equal(y_train, wake_word_index).astype('float64')\n",
    "y_val = np.equal(y_val, wake_word_index).astype('float64')\n",
    "y_test = np.equal(y_test, wake_word_index).astype('float64')\n",
    "\n"
   ]
  },
  {
   "cell_type": "code",
   "execution_count": 238,
   "metadata": {
    "colab": {
     "base_uri": "https://localhost:8080/"
    },
    "executionInfo": {
     "elapsed": 19,
     "status": "ok",
     "timestamp": 1648708628138,
     "user": {
      "displayName": "김유탄",
      "userId": "04011767612525493979"
     },
     "user_tz": -540
    },
    "id": "eFsT1UyyoNbG",
    "outputId": "6db70590-5128-44c2-eb9e-b8e945c72ebb"
   },
   "outputs": [
    {
     "name": "stdout",
     "output_type": "stream",
     "text": [
      "(737, 20, 38, 1)\n",
      "(105, 20, 38, 1)\n",
      "(210, 20, 38, 1)\n",
      "(20, 38, 1)\n"
     ]
    }
   ],
   "source": [
    "# CNN 에 넣기 이전에 Channel을 1로 만들어주기\n",
    "\n",
    "x_train = x_train.reshape(x_train.shape[0], \n",
    "                          x_train.shape[1], \n",
    "                          x_train.shape[2], \n",
    "                          1)\n",
    "x_val = x_val.reshape(x_val.shape[0], \n",
    "                      x_val.shape[1], \n",
    "                      x_val.shape[2], \n",
    "                      1)\n",
    "x_test = x_test.reshape(x_test.shape[0], \n",
    "                        x_test.shape[1], \n",
    "                        x_test.shape[2], \n",
    "                        1)\n",
    "print(x_train.shape)\n",
    "print(x_val.shape)\n",
    "print(x_test.shape)\n",
    "\n",
    "\n",
    "# input shape 설정 해주기\n",
    "sample_shape = x_test.shape[1:]\n",
    "print(sample_shape)"
   ]
  },
  {
   "cell_type": "markdown",
   "metadata": {
    "id": "BjuTYBKdVHYX"
   },
   "source": [
    "# 모델 구축 및 학습"
   ]
  },
  {
   "cell_type": "code",
   "execution_count": 239,
   "metadata": {
    "colab": {
     "base_uri": "https://localhost:8080/"
    },
    "executionInfo": {
     "elapsed": 14,
     "status": "ok",
     "timestamp": 1648708628598,
     "user": {
      "displayName": "김유탄",
      "userId": "04011767612525493979"
     },
     "user_tz": -540
    },
    "id": "da7O2Gy4E2Sa",
    "outputId": "07979204-95ef-429e-92ab-ff5aa700d432"
   },
   "outputs": [
    {
     "name": "stdout",
     "output_type": "stream",
     "text": [
      "Val 에서 1의 비율 : 20.0%\n",
      "Test 에서 1의 비율 : 20.0%\n"
     ]
    }
   ],
   "source": [
    "print(\"Val 에서 1의 비율 : {}%\".format(  round(list(y_val).count(1) / len(y_val)*100 , 2 )))\n",
    "print(\"Test 에서 1의 비율 : {}%\".format(  round(list(y_test).count(1) / len(y_test)*100 , 2 )))"
   ]
  },
  {
   "cell_type": "code",
   "execution_count": null,
   "metadata": {},
   "outputs": [],
   "source": [
    "train_ds = tf.data.Dataset.from_tensor_slices(\n",
    "    (x_train, y_train)).shuffle(10000).batch(32)\n",
    "\n",
    "val_ds = tf.data.Dataset.from_tensor_slices((x_val, y_val)).batch(32)\n",
    "\n",
    "test_ds = tf.data.Dataset.from_tensor_slices((x_test, y_test))"
   ]
  },
  {
   "cell_type": "code",
   "execution_count": null,
   "metadata": {},
   "outputs": [],
   "source": [
    "class MyModel(Model):\n",
    "    def __init__(self):  #, sample_shape):\n",
    "        super(MyModel, self).__init__()\n",
    "\n",
    "        #self.sample_shape = sample_shape\n",
    "\n",
    "        self.conv1 = Conv2D(32, (2, 2), activation='relu') #, input_shape= self.sample_shape)\n",
    "        self.maxpool1 = MaxPooling2D(pool_size=(2, 2))\n",
    "        self.conv2 = Conv2D(64, (2, 2), activation='relu')\n",
    "        self.maxpool2 = MaxPooling2D(pool_size=(2, 2))\n",
    "        self.conv3 = Conv2D(128, (2, 2), activation='relu')\n",
    "        self.maxpool3 = MaxPooling2D(pool_size=(2, 2))\n",
    "        self.flatten = Flatten()\n",
    "\n",
    "        self.dense1 = Dense(256, activation='relu')\n",
    "        self.dense2 = Dense(256, activation='relu')\n",
    "        self.drop = Dropout(0.5)\n",
    "        self.dense3 = Dense(64, activation='relu')\n",
    "        self.dense4 = Dense(1, activation=\"sigmoid\")\n",
    "\n",
    "    def call(self, inputs):\n",
    "        x = self.conv1(inputs)\n",
    "        x = self.maxpool1(x)\n",
    "        x = self.conv2(x)\n",
    "        x = self.maxpool2(x)\n",
    "        x = self.conv3(x)\n",
    "        x = self.maxpool3(x)\n",
    "        x = self.flatten(x)\n",
    "\n",
    "        x = self.dense1(x)\n",
    "        x = self.dense2(x)\n",
    "        x = self.drop(x)\n",
    "        x = self.dense3(x)\n",
    "        x = self.dense4(x)\n",
    "        return x\n",
    "\n",
    "model = MyModel()\n"
   ]
  },
  {
   "cell_type": "code",
   "execution_count": null,
   "metadata": {},
   "outputs": [],
   "source": [
    "\n",
    "loss_object = tf.keras.losses.BinaryCrossentropy(from_logits=True)\n",
    "optimizer = tf.keras.optimizers.Adam(learning_rate = LR)"
   ]
  },
  {
   "cell_type": "code",
   "execution_count": null,
   "metadata": {},
   "outputs": [],
   "source": [
    "# loss와 acc 을 누적하고 평균내서 확인 하기\n",
    "train_loss = tf.keras.metrics.Mean(name='train_loss')\n",
    "train_accuracy = tf.keras.metrics.BinaryAccuracy(name='train_accuracy')\n",
    "\n",
    "val_loss = tf.keras.metrics.Mean(name='val_loss')\n",
    "val_accuracy = tf.keras.metrics.BinaryAccuracy(name='val_accuracy')\n",
    "\n",
    "test_loss = tf.keras.metrics.Mean(name='test_loss')\n",
    "test_accuracy = tf.keras.metrics.BinaryAccuracy(name='test_accuracy')"
   ]
  },
  {
   "cell_type": "code",
   "execution_count": null,
   "metadata": {},
   "outputs": [],
   "source": [
    "@tf.function\n",
    "def train_step(images, labels):\n",
    "  with tf.GradientTape() as tape:\n",
    "    # Backpropagation을 위한 gradient 값을 gradient에 저장 해두기\n",
    "    # 모델의 call을 불러 주기\n",
    "    predictions = model(images, training=True)\n",
    "    loss = loss_object(labels, predictions)\n",
    "  # 모든 gradient 값들 정의\n",
    "  gradients = tape.gradient(loss, model.trainable_variables)\n",
    "  #Backpropagation 진행 하기, 각각에 상을 하는거 수행\n",
    "  optimizer.apply_gradients(zip(gradients, model.trainable_variables))\n",
    "\n",
    "  train_loss(loss)\n",
    "  train_accuracy(labels, predictions)"
   ]
  },
  {
   "cell_type": "code",
   "execution_count": null,
   "metadata": {},
   "outputs": [],
   "source": [
    "@tf.function\n",
    "def val_step(images, labels):\n",
    "  # training=False is only needed if there are layers with different\n",
    "  # behavior during training versus inference (e.g. Dropout).\n",
    "  predictions = model(images, training=False)\n",
    "  v_loss = loss_object(labels, predictions)\n",
    "\n",
    "  val_loss(v_loss)\n",
    "  val_accuracy(labels, predictions)"
   ]
  },
  {
   "cell_type": "code",
   "execution_count": null,
   "metadata": {},
   "outputs": [],
   "source": [
    "@tf.function\n",
    "def test_step(images, labels):\n",
    "  # training=False is only needed if there are layers with different\n",
    "  # behavior during training versus inference (e.g. Dropout).\n",
    "  predictions = model(images, training=False)\n",
    "  t_loss = loss_object(labels, predictions)\n",
    "\n",
    "  test_loss(t_loss)\n",
    "  test_accuracy(labels, predictions)"
   ]
  },
  {
   "cell_type": "code",
   "execution_count": null,
   "metadata": {},
   "outputs": [],
   "source": [
    "EPOCHS = 5\n",
    "for epoch in range(EPOCHS):\n",
    "  # Reset the metrics at the start of the next epoch\n",
    "  train_loss.reset_states()\n",
    "  train_accuracy.reset_states()\n",
    "  val_loss.reset_states()\n",
    "  val_accuracy.reset_states()\n",
    "\n",
    "\n",
    "  for images, labels in train_ds:\n",
    "    train_step(images, labels)\n",
    "\n",
    "  for val_images, val_labels in val_ds:\n",
    "    val_step(val_images, val_labels)\n",
    "\n",
    "  template = 'Epoch: {}, train_loss: {:.5f}, train_acc: {:.2f}%, val_loss: {:.5f}, val_acc: {:.2f}%'\n",
    "  print (template.format(epoch+1,\n",
    "                           train_loss.result(),\n",
    "                           train_accuracy.result()*100,\n",
    "                           val_loss.result(),\n",
    "                           val_accuracy.result()*100))\n",
    "    \n",
    "    \n",
    "    \n",
    "for test_images, test_labels in test_ds:\n",
    "    test_step(test_images, test_labels)    \n",
    "print (template.format( test_loss.result(),\n",
    "                        test_accuracy.result()*100,\n"
   ]
  },
  {
   "cell_type": "code",
   "execution_count": null,
   "metadata": {},
   "outputs": [],
   "source": [
    "predictions = model(tf.reshape(x_test[10], (1, 20, 38, 1)  ))\n",
    "print(predictions)\n",
    "print(tf.reshape(x_test[0], (1, 20, 38, 1)  ).shape)\n"
   ]
  },
  {
   "cell_type": "code",
   "execution_count": null,
   "metadata": {},
   "outputs": [],
   "source": []
  },
  {
   "cell_type": "code",
   "execution_count": null,
   "metadata": {},
   "outputs": [],
   "source": []
  },
  {
   "cell_type": "code",
   "execution_count": null,
   "metadata": {},
   "outputs": [],
   "source": [
    "# 모델 Conv-layer \n",
    "conv_layer = keras.Sequential([\n",
    "                             layers.Conv2D(32, (2, 2), activation = 'relu', input_shape = sample_shape),\n",
    "                             layers.MaxPooling2D(pool_size=(2, 2)),\n",
    "                             layers.Conv2D(64, (2, 2), activation='relu'),\n",
    "                             layers.MaxPooling2D(pool_size=(2, 2)),\n",
    "                             layers.Conv2D(128, (2, 2), activation='relu'),\n",
    "                             layers.MaxPooling2D(pool_size=(2, 2))\n",
    "                             \n",
    "                             ])\n",
    "\n",
    "\n",
    "# FC layer는 다른거 사용   --  Class 10 개 분류\n",
    "fc_layer = keras.Sequential([\n",
    "                             layers.Flatten(),\n",
    "                             layers.Dense(256, activation = 'relu'),\n",
    "                             layers.Dense(256, activation = 'relu'),\n",
    "                             layers.Dense(64, activation = 'relu'),\n",
    "                             layers.Dropout(0.5),\n",
    "                             layers.Dense(1, activation = \"sigmoid\")\n",
    "                             ])\n",
    "\n",
    "model = keras.Sequential([conv_layer,\n",
    "                          fc_layer\n",
    "                          ])\n",
    "model.summary()"
   ]
  },
  {
   "cell_type": "code",
   "execution_count": 86,
   "metadata": {
    "executionInfo": {
     "elapsed": 12,
     "status": "ok",
     "timestamp": 1648708628598,
     "user": {
      "displayName": "김유탄",
      "userId": "04011767612525493979"
     },
     "user_tz": -540
    },
    "id": "wnQ9lmkPOWzo"
   },
   "outputs": [],
   "source": [
    "# Callback 함수 지정 해주기      학습하는 동안 설정해줄것\n",
    "early_stop = EarlyStopping(patience=Config.early_stop_aptience) \n",
    "mc = ModelCheckpoint(Config.best_model_path, \n",
    "                     save_best_only=True,\n",
    "                     monitor = 'val_loss',\n",
    "                     verbose = 1,\n",
    "                     mode = 'min') \n",
    "\n",
    "reduce_lr  = ReduceLROnPlateau(monitor = 'val_loss',\n",
    "                               factor=Config.lr_factor, \n",
    "                               patience=Config.lr_patience\n",
    "                               ) \n",
    "\n",
    "#optimizer 조정 해주기\n",
    "opt = tf.keras.optimizers.Adam(learning_rate=Config.start_lr)"
   ]
  },
  {
   "cell_type": "code",
   "execution_count": 87,
   "metadata": {
    "colab": {
     "base_uri": "https://localhost:8080/"
    },
    "executionInfo": {
     "elapsed": 290142,
     "status": "ok",
     "timestamp": 1648708918729,
     "user": {
      "displayName": "김유탄",
      "userId": "04011767612525493979"
     },
     "user_tz": -540
    },
    "id": "znxHqYi_OW55",
    "outputId": "7000ab4d-9a93-4207-d67c-d7dadd847a5d"
   },
   "outputs": [
    {
     "name": "stdout",
     "output_type": "stream",
     "text": [
      "Epoch 1/300\n"
     ]
    },
    {
     "ename": "OperatorNotAllowedInGraphError",
     "evalue": "in user code:\n\n    C:\\Users\\yutan\\anaconda3\\envs\\tensorflow\\lib\\site-packages\\keras\\engine\\training.py:853 train_function  *\n        return step_function(self, iterator)\n    C:\\Users\\yutan\\Desktop\\Wake-up-Word_tensorflow2\\model.py:12 __init__  *\n        self.conv1 = Conv2D(32, (2, 2), activation='relu', input_shape= self.sample_shape)\n    C:\\Users\\yutan\\anaconda3\\envs\\tensorflow\\lib\\site-packages\\keras\\layers\\convolutional.py:678 __init__  **\n        **kwargs)\n    C:\\Users\\yutan\\anaconda3\\envs\\tensorflow\\lib\\site-packages\\keras\\layers\\convolutional.py:130 __init__\n        **kwargs)\n    C:\\Users\\yutan\\anaconda3\\envs\\tensorflow\\lib\\site-packages\\tensorflow\\python\\training\\tracking\\base.py:530 _method_wrapper\n        result = method(self, *args, **kwargs)\n    C:\\Users\\yutan\\anaconda3\\envs\\tensorflow\\lib\\site-packages\\keras\\engine\\base_layer.py:415 __init__\n        batch_input_shape = (batch_size,) + tuple(kwargs['input_shape'])\n    C:\\Users\\yutan\\anaconda3\\envs\\tensorflow\\lib\\site-packages\\tensorflow\\python\\framework\\ops.py:520 __iter__\n        self._disallow_iteration()\n    C:\\Users\\yutan\\anaconda3\\envs\\tensorflow\\lib\\site-packages\\tensorflow\\python\\framework\\ops.py:513 _disallow_iteration\n        self._disallow_when_autograph_enabled(\"iterating over `tf.Tensor`\")\n    C:\\Users\\yutan\\anaconda3\\envs\\tensorflow\\lib\\site-packages\\tensorflow\\python\\framework\\ops.py:491 _disallow_when_autograph_enabled\n        \" indicate you are trying to use an unsupported feature.\".format(task))\n\n    OperatorNotAllowedInGraphError: iterating over `tf.Tensor` is not allowed: AutoGraph did convert this function. This might indicate you are trying to use an unsupported feature.\n",
     "output_type": "error",
     "traceback": [
      "\u001b[1;31m---------------------------------------------------------------------------\u001b[0m",
      "\u001b[1;31mOperatorNotAllowedInGraphError\u001b[0m            Traceback (most recent call last)",
      "\u001b[1;32m~\\AppData\\Local\\Temp/ipykernel_31452/2463701808.py\u001b[0m in \u001b[0;36m<module>\u001b[1;34m\u001b[0m\n\u001b[0;32m     11\u001b[0m           \u001b[0mbatch_size\u001b[0m\u001b[1;33m=\u001b[0m\u001b[0mbatch_size\u001b[0m\u001b[1;33m,\u001b[0m\u001b[1;33m\u001b[0m\u001b[0m\n\u001b[0;32m     12\u001b[0m           \u001b[0mvalidation_data\u001b[0m \u001b[1;33m=\u001b[0m \u001b[1;33m(\u001b[0m\u001b[0mx_val\u001b[0m\u001b[1;33m,\u001b[0m \u001b[0my_val\u001b[0m\u001b[1;33m)\u001b[0m\u001b[1;33m,\u001b[0m\u001b[1;33m\u001b[0m\u001b[0m\n\u001b[1;32m---> 13\u001b[1;33m           \u001b[0mcallbacks\u001b[0m \u001b[1;33m=\u001b[0m \u001b[1;33m[\u001b[0m\u001b[0mearly_stop\u001b[0m\u001b[1;33m,\u001b[0m \u001b[0mreduce_lr\u001b[0m \u001b[1;33m,\u001b[0m \u001b[0mmc\u001b[0m\u001b[1;33m]\u001b[0m\u001b[1;33m\u001b[0m\u001b[0m\n\u001b[0m\u001b[0;32m     14\u001b[0m           )\n",
      "\u001b[1;32m~\\anaconda3\\envs\\tensorflow\\lib\\site-packages\\keras\\engine\\training.py\u001b[0m in \u001b[0;36mfit\u001b[1;34m(self, x, y, batch_size, epochs, verbose, callbacks, validation_split, validation_data, shuffle, class_weight, sample_weight, initial_epoch, steps_per_epoch, validation_steps, validation_batch_size, validation_freq, max_queue_size, workers, use_multiprocessing)\u001b[0m\n\u001b[0;32m   1182\u001b[0m                 _r=1):\n\u001b[0;32m   1183\u001b[0m               \u001b[0mcallbacks\u001b[0m\u001b[1;33m.\u001b[0m\u001b[0mon_train_batch_begin\u001b[0m\u001b[1;33m(\u001b[0m\u001b[0mstep\u001b[0m\u001b[1;33m)\u001b[0m\u001b[1;33m\u001b[0m\u001b[0m\n\u001b[1;32m-> 1184\u001b[1;33m               \u001b[0mtmp_logs\u001b[0m \u001b[1;33m=\u001b[0m \u001b[0mself\u001b[0m\u001b[1;33m.\u001b[0m\u001b[0mtrain_function\u001b[0m\u001b[1;33m(\u001b[0m\u001b[0miterator\u001b[0m\u001b[1;33m)\u001b[0m\u001b[1;33m\u001b[0m\u001b[0m\n\u001b[0m\u001b[0;32m   1185\u001b[0m               \u001b[1;32mif\u001b[0m \u001b[0mdata_handler\u001b[0m\u001b[1;33m.\u001b[0m\u001b[0mshould_sync\u001b[0m\u001b[1;33m:\u001b[0m\u001b[1;33m\u001b[0m\u001b[0m\n\u001b[0;32m   1186\u001b[0m                 \u001b[0mcontext\u001b[0m\u001b[1;33m.\u001b[0m\u001b[0masync_wait\u001b[0m\u001b[1;33m(\u001b[0m\u001b[1;33m)\u001b[0m\u001b[1;33m\u001b[0m\u001b[0m\n",
      "\u001b[1;32m~\\anaconda3\\envs\\tensorflow\\lib\\site-packages\\tensorflow\\python\\eager\\def_function.py\u001b[0m in \u001b[0;36m__call__\u001b[1;34m(self, *args, **kwds)\u001b[0m\n\u001b[0;32m    883\u001b[0m \u001b[1;33m\u001b[0m\u001b[0m\n\u001b[0;32m    884\u001b[0m       \u001b[1;32mwith\u001b[0m \u001b[0mOptionalXlaContext\u001b[0m\u001b[1;33m(\u001b[0m\u001b[0mself\u001b[0m\u001b[1;33m.\u001b[0m\u001b[0m_jit_compile\u001b[0m\u001b[1;33m)\u001b[0m\u001b[1;33m:\u001b[0m\u001b[1;33m\u001b[0m\u001b[0m\n\u001b[1;32m--> 885\u001b[1;33m         \u001b[0mresult\u001b[0m \u001b[1;33m=\u001b[0m \u001b[0mself\u001b[0m\u001b[1;33m.\u001b[0m\u001b[0m_call\u001b[0m\u001b[1;33m(\u001b[0m\u001b[1;33m*\u001b[0m\u001b[0margs\u001b[0m\u001b[1;33m,\u001b[0m \u001b[1;33m**\u001b[0m\u001b[0mkwds\u001b[0m\u001b[1;33m)\u001b[0m\u001b[1;33m\u001b[0m\u001b[0m\n\u001b[0m\u001b[0;32m    886\u001b[0m \u001b[1;33m\u001b[0m\u001b[0m\n\u001b[0;32m    887\u001b[0m       \u001b[0mnew_tracing_count\u001b[0m \u001b[1;33m=\u001b[0m \u001b[0mself\u001b[0m\u001b[1;33m.\u001b[0m\u001b[0mexperimental_get_tracing_count\u001b[0m\u001b[1;33m(\u001b[0m\u001b[1;33m)\u001b[0m\u001b[1;33m\u001b[0m\u001b[0m\n",
      "\u001b[1;32m~\\anaconda3\\envs\\tensorflow\\lib\\site-packages\\tensorflow\\python\\eager\\def_function.py\u001b[0m in \u001b[0;36m_call\u001b[1;34m(self, *args, **kwds)\u001b[0m\n\u001b[0;32m    931\u001b[0m       \u001b[1;31m# This is the first call of __call__, so we have to initialize.\u001b[0m\u001b[1;33m\u001b[0m\u001b[1;33m\u001b[0m\u001b[0m\n\u001b[0;32m    932\u001b[0m       \u001b[0minitializers\u001b[0m \u001b[1;33m=\u001b[0m \u001b[1;33m[\u001b[0m\u001b[1;33m]\u001b[0m\u001b[1;33m\u001b[0m\u001b[0m\n\u001b[1;32m--> 933\u001b[1;33m       \u001b[0mself\u001b[0m\u001b[1;33m.\u001b[0m\u001b[0m_initialize\u001b[0m\u001b[1;33m(\u001b[0m\u001b[0margs\u001b[0m\u001b[1;33m,\u001b[0m \u001b[0mkwds\u001b[0m\u001b[1;33m,\u001b[0m \u001b[0madd_initializers_to\u001b[0m\u001b[1;33m=\u001b[0m\u001b[0minitializers\u001b[0m\u001b[1;33m)\u001b[0m\u001b[1;33m\u001b[0m\u001b[0m\n\u001b[0m\u001b[0;32m    934\u001b[0m     \u001b[1;32mfinally\u001b[0m\u001b[1;33m:\u001b[0m\u001b[1;33m\u001b[0m\u001b[0m\n\u001b[0;32m    935\u001b[0m       \u001b[1;31m# At this point we know that the initialization is complete (or less\u001b[0m\u001b[1;33m\u001b[0m\u001b[1;33m\u001b[0m\u001b[0m\n",
      "\u001b[1;32m~\\anaconda3\\envs\\tensorflow\\lib\\site-packages\\tensorflow\\python\\eager\\def_function.py\u001b[0m in \u001b[0;36m_initialize\u001b[1;34m(self, args, kwds, add_initializers_to)\u001b[0m\n\u001b[0;32m    758\u001b[0m     self._concrete_stateful_fn = (\n\u001b[0;32m    759\u001b[0m         self._stateful_fn._get_concrete_function_internal_garbage_collected(  # pylint: disable=protected-access\n\u001b[1;32m--> 760\u001b[1;33m             *args, **kwds))\n\u001b[0m\u001b[0;32m    761\u001b[0m \u001b[1;33m\u001b[0m\u001b[0m\n\u001b[0;32m    762\u001b[0m     \u001b[1;32mdef\u001b[0m \u001b[0minvalid_creator_scope\u001b[0m\u001b[1;33m(\u001b[0m\u001b[1;33m*\u001b[0m\u001b[0munused_args\u001b[0m\u001b[1;33m,\u001b[0m \u001b[1;33m**\u001b[0m\u001b[0munused_kwds\u001b[0m\u001b[1;33m)\u001b[0m\u001b[1;33m:\u001b[0m\u001b[1;33m\u001b[0m\u001b[0m\n",
      "\u001b[1;32m~\\anaconda3\\envs\\tensorflow\\lib\\site-packages\\tensorflow\\python\\eager\\function.py\u001b[0m in \u001b[0;36m_get_concrete_function_internal_garbage_collected\u001b[1;34m(self, *args, **kwargs)\u001b[0m\n\u001b[0;32m   3064\u001b[0m       \u001b[0margs\u001b[0m\u001b[1;33m,\u001b[0m \u001b[0mkwargs\u001b[0m \u001b[1;33m=\u001b[0m \u001b[1;32mNone\u001b[0m\u001b[1;33m,\u001b[0m \u001b[1;32mNone\u001b[0m\u001b[1;33m\u001b[0m\u001b[0m\n\u001b[0;32m   3065\u001b[0m     \u001b[1;32mwith\u001b[0m \u001b[0mself\u001b[0m\u001b[1;33m.\u001b[0m\u001b[0m_lock\u001b[0m\u001b[1;33m:\u001b[0m\u001b[1;33m\u001b[0m\u001b[0m\n\u001b[1;32m-> 3066\u001b[1;33m       \u001b[0mgraph_function\u001b[0m\u001b[1;33m,\u001b[0m \u001b[0m_\u001b[0m \u001b[1;33m=\u001b[0m \u001b[0mself\u001b[0m\u001b[1;33m.\u001b[0m\u001b[0m_maybe_define_function\u001b[0m\u001b[1;33m(\u001b[0m\u001b[0margs\u001b[0m\u001b[1;33m,\u001b[0m \u001b[0mkwargs\u001b[0m\u001b[1;33m)\u001b[0m\u001b[1;33m\u001b[0m\u001b[0m\n\u001b[0m\u001b[0;32m   3067\u001b[0m     \u001b[1;32mreturn\u001b[0m \u001b[0mgraph_function\u001b[0m\u001b[1;33m\u001b[0m\u001b[0m\n\u001b[0;32m   3068\u001b[0m \u001b[1;33m\u001b[0m\u001b[0m\n",
      "\u001b[1;32m~\\anaconda3\\envs\\tensorflow\\lib\\site-packages\\tensorflow\\python\\eager\\function.py\u001b[0m in \u001b[0;36m_maybe_define_function\u001b[1;34m(self, args, kwargs)\u001b[0m\n\u001b[0;32m   3461\u001b[0m \u001b[1;33m\u001b[0m\u001b[0m\n\u001b[0;32m   3462\u001b[0m           \u001b[0mself\u001b[0m\u001b[1;33m.\u001b[0m\u001b[0m_function_cache\u001b[0m\u001b[1;33m.\u001b[0m\u001b[0mmissed\u001b[0m\u001b[1;33m.\u001b[0m\u001b[0madd\u001b[0m\u001b[1;33m(\u001b[0m\u001b[0mcall_context_key\u001b[0m\u001b[1;33m)\u001b[0m\u001b[1;33m\u001b[0m\u001b[0m\n\u001b[1;32m-> 3463\u001b[1;33m           \u001b[0mgraph_function\u001b[0m \u001b[1;33m=\u001b[0m \u001b[0mself\u001b[0m\u001b[1;33m.\u001b[0m\u001b[0m_create_graph_function\u001b[0m\u001b[1;33m(\u001b[0m\u001b[0margs\u001b[0m\u001b[1;33m,\u001b[0m \u001b[0mkwargs\u001b[0m\u001b[1;33m)\u001b[0m\u001b[1;33m\u001b[0m\u001b[0m\n\u001b[0m\u001b[0;32m   3464\u001b[0m           \u001b[0mself\u001b[0m\u001b[1;33m.\u001b[0m\u001b[0m_function_cache\u001b[0m\u001b[1;33m.\u001b[0m\u001b[0mprimary\u001b[0m\u001b[1;33m[\u001b[0m\u001b[0mcache_key\u001b[0m\u001b[1;33m]\u001b[0m \u001b[1;33m=\u001b[0m \u001b[0mgraph_function\u001b[0m\u001b[1;33m\u001b[0m\u001b[0m\n\u001b[0;32m   3465\u001b[0m \u001b[1;33m\u001b[0m\u001b[0m\n",
      "\u001b[1;32m~\\anaconda3\\envs\\tensorflow\\lib\\site-packages\\tensorflow\\python\\eager\\function.py\u001b[0m in \u001b[0;36m_create_graph_function\u001b[1;34m(self, args, kwargs, override_flat_arg_shapes)\u001b[0m\n\u001b[0;32m   3306\u001b[0m             \u001b[0marg_names\u001b[0m\u001b[1;33m=\u001b[0m\u001b[0marg_names\u001b[0m\u001b[1;33m,\u001b[0m\u001b[1;33m\u001b[0m\u001b[0m\n\u001b[0;32m   3307\u001b[0m             \u001b[0moverride_flat_arg_shapes\u001b[0m\u001b[1;33m=\u001b[0m\u001b[0moverride_flat_arg_shapes\u001b[0m\u001b[1;33m,\u001b[0m\u001b[1;33m\u001b[0m\u001b[0m\n\u001b[1;32m-> 3308\u001b[1;33m             capture_by_value=self._capture_by_value),\n\u001b[0m\u001b[0;32m   3309\u001b[0m         \u001b[0mself\u001b[0m\u001b[1;33m.\u001b[0m\u001b[0m_function_attributes\u001b[0m\u001b[1;33m,\u001b[0m\u001b[1;33m\u001b[0m\u001b[0m\n\u001b[0;32m   3310\u001b[0m         \u001b[0mfunction_spec\u001b[0m\u001b[1;33m=\u001b[0m\u001b[0mself\u001b[0m\u001b[1;33m.\u001b[0m\u001b[0mfunction_spec\u001b[0m\u001b[1;33m,\u001b[0m\u001b[1;33m\u001b[0m\u001b[0m\n",
      "\u001b[1;32m~\\anaconda3\\envs\\tensorflow\\lib\\site-packages\\tensorflow\\python\\framework\\func_graph.py\u001b[0m in \u001b[0;36mfunc_graph_from_py_func\u001b[1;34m(name, python_func, args, kwargs, signature, func_graph, autograph, autograph_options, add_control_dependencies, arg_names, op_return_value, collections, capture_by_value, override_flat_arg_shapes, acd_record_initial_resource_uses)\u001b[0m\n\u001b[0;32m   1005\u001b[0m         \u001b[0m_\u001b[0m\u001b[1;33m,\u001b[0m \u001b[0moriginal_func\u001b[0m \u001b[1;33m=\u001b[0m \u001b[0mtf_decorator\u001b[0m\u001b[1;33m.\u001b[0m\u001b[0munwrap\u001b[0m\u001b[1;33m(\u001b[0m\u001b[0mpython_func\u001b[0m\u001b[1;33m)\u001b[0m\u001b[1;33m\u001b[0m\u001b[0m\n\u001b[0;32m   1006\u001b[0m \u001b[1;33m\u001b[0m\u001b[0m\n\u001b[1;32m-> 1007\u001b[1;33m       \u001b[0mfunc_outputs\u001b[0m \u001b[1;33m=\u001b[0m \u001b[0mpython_func\u001b[0m\u001b[1;33m(\u001b[0m\u001b[1;33m*\u001b[0m\u001b[0mfunc_args\u001b[0m\u001b[1;33m,\u001b[0m \u001b[1;33m**\u001b[0m\u001b[0mfunc_kwargs\u001b[0m\u001b[1;33m)\u001b[0m\u001b[1;33m\u001b[0m\u001b[0m\n\u001b[0m\u001b[0;32m   1008\u001b[0m \u001b[1;33m\u001b[0m\u001b[0m\n\u001b[0;32m   1009\u001b[0m       \u001b[1;31m# invariant: `func_outputs` contains only Tensors, CompositeTensors,\u001b[0m\u001b[1;33m\u001b[0m\u001b[1;33m\u001b[0m\u001b[0m\n",
      "\u001b[1;32m~\\anaconda3\\envs\\tensorflow\\lib\\site-packages\\tensorflow\\python\\eager\\def_function.py\u001b[0m in \u001b[0;36mwrapped_fn\u001b[1;34m(*args, **kwds)\u001b[0m\n\u001b[0;32m    666\u001b[0m         \u001b[1;31m# the function a weak reference to itself to avoid a reference cycle.\u001b[0m\u001b[1;33m\u001b[0m\u001b[1;33m\u001b[0m\u001b[0m\n\u001b[0;32m    667\u001b[0m         \u001b[1;32mwith\u001b[0m \u001b[0mOptionalXlaContext\u001b[0m\u001b[1;33m(\u001b[0m\u001b[0mcompile_with_xla\u001b[0m\u001b[1;33m)\u001b[0m\u001b[1;33m:\u001b[0m\u001b[1;33m\u001b[0m\u001b[0m\n\u001b[1;32m--> 668\u001b[1;33m           \u001b[0mout\u001b[0m \u001b[1;33m=\u001b[0m \u001b[0mweak_wrapped_fn\u001b[0m\u001b[1;33m(\u001b[0m\u001b[1;33m)\u001b[0m\u001b[1;33m.\u001b[0m\u001b[0m__wrapped__\u001b[0m\u001b[1;33m(\u001b[0m\u001b[1;33m*\u001b[0m\u001b[0margs\u001b[0m\u001b[1;33m,\u001b[0m \u001b[1;33m**\u001b[0m\u001b[0mkwds\u001b[0m\u001b[1;33m)\u001b[0m\u001b[1;33m\u001b[0m\u001b[0m\n\u001b[0m\u001b[0;32m    669\u001b[0m         \u001b[1;32mreturn\u001b[0m \u001b[0mout\u001b[0m\u001b[1;33m\u001b[0m\u001b[0m\n\u001b[0;32m    670\u001b[0m \u001b[1;33m\u001b[0m\u001b[0m\n",
      "\u001b[1;32m~\\anaconda3\\envs\\tensorflow\\lib\\site-packages\\tensorflow\\python\\framework\\func_graph.py\u001b[0m in \u001b[0;36mwrapper\u001b[1;34m(*args, **kwargs)\u001b[0m\n\u001b[0;32m    992\u001b[0m           \u001b[1;32mexcept\u001b[0m \u001b[0mException\u001b[0m \u001b[1;32mas\u001b[0m \u001b[0me\u001b[0m\u001b[1;33m:\u001b[0m  \u001b[1;31m# pylint:disable=broad-except\u001b[0m\u001b[1;33m\u001b[0m\u001b[0m\n\u001b[0;32m    993\u001b[0m             \u001b[1;32mif\u001b[0m \u001b[0mhasattr\u001b[0m\u001b[1;33m(\u001b[0m\u001b[0me\u001b[0m\u001b[1;33m,\u001b[0m \u001b[1;34m\"ag_error_metadata\"\u001b[0m\u001b[1;33m)\u001b[0m\u001b[1;33m:\u001b[0m\u001b[1;33m\u001b[0m\u001b[0m\n\u001b[1;32m--> 994\u001b[1;33m               \u001b[1;32mraise\u001b[0m \u001b[0me\u001b[0m\u001b[1;33m.\u001b[0m\u001b[0mag_error_metadata\u001b[0m\u001b[1;33m.\u001b[0m\u001b[0mto_exception\u001b[0m\u001b[1;33m(\u001b[0m\u001b[0me\u001b[0m\u001b[1;33m)\u001b[0m\u001b[1;33m\u001b[0m\u001b[0m\n\u001b[0m\u001b[0;32m    995\u001b[0m             \u001b[1;32melse\u001b[0m\u001b[1;33m:\u001b[0m\u001b[1;33m\u001b[0m\u001b[0m\n\u001b[0;32m    996\u001b[0m               \u001b[1;32mraise\u001b[0m\u001b[1;33m\u001b[0m\u001b[0m\n",
      "\u001b[1;31mOperatorNotAllowedInGraphError\u001b[0m: in user code:\n\n    C:\\Users\\yutan\\anaconda3\\envs\\tensorflow\\lib\\site-packages\\keras\\engine\\training.py:853 train_function  *\n        return step_function(self, iterator)\n    C:\\Users\\yutan\\Desktop\\Wake-up-Word_tensorflow2\\model.py:12 __init__  *\n        self.conv1 = Conv2D(32, (2, 2), activation='relu', input_shape= self.sample_shape)\n    C:\\Users\\yutan\\anaconda3\\envs\\tensorflow\\lib\\site-packages\\keras\\layers\\convolutional.py:678 __init__  **\n        **kwargs)\n    C:\\Users\\yutan\\anaconda3\\envs\\tensorflow\\lib\\site-packages\\keras\\layers\\convolutional.py:130 __init__\n        **kwargs)\n    C:\\Users\\yutan\\anaconda3\\envs\\tensorflow\\lib\\site-packages\\tensorflow\\python\\training\\tracking\\base.py:530 _method_wrapper\n        result = method(self, *args, **kwargs)\n    C:\\Users\\yutan\\anaconda3\\envs\\tensorflow\\lib\\site-packages\\keras\\engine\\base_layer.py:415 __init__\n        batch_input_shape = (batch_size,) + tuple(kwargs['input_shape'])\n    C:\\Users\\yutan\\anaconda3\\envs\\tensorflow\\lib\\site-packages\\tensorflow\\python\\framework\\ops.py:520 __iter__\n        self._disallow_iteration()\n    C:\\Users\\yutan\\anaconda3\\envs\\tensorflow\\lib\\site-packages\\tensorflow\\python\\framework\\ops.py:513 _disallow_iteration\n        self._disallow_when_autograph_enabled(\"iterating over `tf.Tensor`\")\n    C:\\Users\\yutan\\anaconda3\\envs\\tensorflow\\lib\\site-packages\\tensorflow\\python\\framework\\ops.py:491 _disallow_when_autograph_enabled\n        \" indicate you are trying to use an unsupported feature.\".format(task))\n\n    OperatorNotAllowedInGraphError: iterating over `tf.Tensor` is not allowed: AutoGraph did convert this function. This might indicate you are trying to use an unsupported feature.\n"
     ]
    }
   ],
   "source": [
    "# optimizer, loss 함수를 정의하고,  학습 준비를 한다,  metrics 는 어떤 일이 발생하는지 보여줄 것들\n",
    "model.compile(optimizer=opt, loss=\"binary_crossentropy\", metrics=[\"accuracy\"])\n",
    "\n",
    "# 한번에 몇개의 데이터 학습하고 가중치 갱신할지 \n",
    "history = model.fit(x_train, y_train,\n",
    "          epochs= Config.epoch_original,\n",
    "          verbose=1,\n",
    "          batch_size=Config.batch_size_original,\n",
    "          validation_data = (x_val, y_val),\n",
    "          callbacks = [early_stop, reduce_lr , mc]  \n",
    "          )"
   ]
  },
  {
   "cell_type": "code",
   "execution_count": null,
   "metadata": {
    "colab": {
     "base_uri": "https://localhost:8080/",
     "height": 265
    },
    "executionInfo": {
     "elapsed": 33510,
     "status": "ok",
     "timestamp": 1648708952218,
     "user": {
      "displayName": "김유탄",
      "userId": "04011767612525493979"
     },
     "user_tz": -540
    },
    "id": "y2tEzOQEwZBr",
    "outputId": "1464575b-6edb-444c-ce12-b9e3713266c1"
   },
   "outputs": [],
   "source": [
    "fig, ax = plt.subplots(2, 1)\n",
    "ax[0].plot(history.history['loss'], color = 'b', label = \"Training loss\")\n",
    "ax[0].plot(history.history['val_loss'], color='r', label = \"validation loss\", axes = ax[0])\n",
    "legend = ax[0].legend(loc='best', shadow = True)\n",
    "\n",
    "ax[1].plot(history.history['accuracy'], color = 'b', label = \"Training accuracy\")\n",
    "ax[1].plot(history.history['val_accuracy'], color = 'r', label = \"Validation accuracy\")\n",
    "legend = ax[1].legend(loc = 'best', shadow = True)\n",
    "\n",
    "# 데이터 불균형으로 인해, val에 있는게 성능이 더 좋아보일 수도 있음"
   ]
  },
  {
   "cell_type": "code",
   "execution_count": null,
   "metadata": {
    "colab": {
     "base_uri": "https://localhost:8080/"
    },
    "executionInfo": {
     "elapsed": 8412,
     "status": "ok",
     "timestamp": 1648708960611,
     "user": {
      "displayName": "김유탄",
      "userId": "04011767612525493979"
     },
     "user_tz": -540
    },
    "id": "dz9_EYVFPWya",
    "outputId": "d0cb8c51-5573-490f-cc1a-66ede858efee"
   },
   "outputs": [],
   "source": [
    "# 학습한거에서 test 어떻게 나오는지 확인 해보기\n",
    "model = tf.keras.models.load_model(Config.base_path + 'best_model/wake_up_word_model')\n",
    "for i in range(0,len(y_test) ):\n",
    "    print('Answer:', y_test[i], ' Prediction:', model.predict(np.expand_dims(x_test[i], 0)))"
   ]
  },
  {
   "cell_type": "code",
   "execution_count": null,
   "metadata": {
    "colab": {
     "base_uri": "https://localhost:8080/"
    },
    "executionInfo": {
     "elapsed": 477,
     "status": "ok",
     "timestamp": 1648708961039,
     "user": {
      "displayName": "김유탄",
      "userId": "04011767612525493979"
     },
     "user_tz": -540
    },
    "id": "pvyb-5m8PldX",
    "outputId": "b1f17613-4c06-4618-bd8c-efcb5cbf47c4"
   },
   "outputs": [],
   "source": [
    "loss, acc = model.evaluate(x=x_test, y=y_test)\n",
    "print(\"loss=\",loss)\n",
    "print(\"acc=\",acc)"
   ]
  },
  {
   "cell_type": "code",
   "execution_count": null,
   "metadata": {
    "colab": {
     "base_uri": "https://localhost:8080/"
    },
    "executionInfo": {
     "elapsed": 22,
     "status": "ok",
     "timestamp": 1648708961040,
     "user": {
      "displayName": "김유탄",
      "userId": "04011767612525493979"
     },
     "user_tz": -540
    },
    "id": "Wl8PjvxjvrKu",
    "outputId": "df52e170-dac2-4dee-e8b3-8b568d690250"
   },
   "outputs": [],
   "source": [
    "print(x_test.shape, y_test.shape)\n",
    "print(y_test)"
   ]
  },
  {
   "cell_type": "code",
   "execution_count": null,
   "metadata": {
    "colab": {
     "base_uri": "https://localhost:8080/",
     "height": 394
    },
    "executionInfo": {
     "elapsed": 21,
     "status": "ok",
     "timestamp": 1648708961041,
     "user": {
      "displayName": "김유탄",
      "userId": "04011767612525493979"
     },
     "user_tz": -540
    },
    "id": "LfUfAf4-xIGj",
    "outputId": "02287bf5-a3e7-4831-d292-8d1c974de01b"
   },
   "outputs": [],
   "source": [
    "Y_pred = model.predict(x_test)\n",
    "\n",
    "predictions = []\n",
    "for result in Y_pred:\n",
    "  if result > Config.thres_hold:\n",
    "      predictions.append(1)\n",
    "  else:\n",
    "      predictions.append(0)\n",
    "\n",
    "confusion_mtx = metrics.confusion_matrix(y_test,predictions)\n",
    "sns.heatmap(confusion_mtx,\n",
    "            annot=True,\n",
    "            xticklabels = Config.label,\n",
    "            yticklabels = Config.label,\n",
    "            cmap='Blues')\n",
    "plt.show()\n",
    "print(\"Thres - hold : {}\".format(Config.thres_hold))\n",
    "print('Test Accureacy: ',metrics.accuracy_score( y_test,predictions))\n",
    "print('Test Precision: ',metrics.precision_score( y_test,predictions))\n",
    "print('Test Recall: ',metrics.recall_score( y_test,predictions ))\n",
    "print('Test F1 score: ',metrics.f1_score(y_test,predictions ))\n",
    "print(\"Val 에서 1의 비율 : {}%\".format(  round(list(y_val).count(1) / len(y_val)*100 , 2 )))\n",
    "print(\"Test 에서 1의 비율 : {}%\".format(  round(list(y_test).count(1) / len(y_test)*100 , 2 )))"
   ]
  },
  {
   "cell_type": "markdown",
   "metadata": {
    "id": "SeQMo6BUPpHn"
   },
   "source": [
    "# 기본 tflite 변환"
   ]
  },
  {
   "cell_type": "code",
   "execution_count": null,
   "metadata": {
    "colab": {
     "base_uri": "https://localhost:8080/"
    },
    "executionInfo": {
     "elapsed": 4629,
     "status": "ok",
     "timestamp": 1648708965654,
     "user": {
      "displayName": "김유탄",
      "userId": "04011767612525493979"
     },
     "user_tz": -540
    },
    "id": "54HAWoFDPoOp",
    "outputId": "7945aab6-d24c-46c0-f441-d1742c5da3e6"
   },
   "outputs": [],
   "source": [
    "if not os.path.exists(Config.base_path + 'tflite_model'):\n",
    "    os.makedirs(Config.base_path + 'tflite_model')\n",
    "    \n",
    "model = tf.keras.models.load_model(Config.best_model_path)\n",
    "converter = lite.TFLiteConverter.from_keras_model(model)\n",
    "tflite_model = converter.convert()\n",
    "open(Config.tflite_file_path, 'wb').write(tflite_model)"
   ]
  },
  {
   "cell_type": "code",
   "execution_count": null,
   "metadata": {
    "colab": {
     "base_uri": "https://localhost:8080/"
    },
    "executionInfo": {
     "elapsed": 43,
     "status": "ok",
     "timestamp": 1648708965655,
     "user": {
      "displayName": "김유탄",
      "userId": "04011767612525493979"
     },
     "user_tz": -540
    },
    "id": "nb5O8Ku0FVhi",
    "outputId": "05af5cdd-2fe7-4b44-9450-d0c4957cf7f6"
   },
   "outputs": [],
   "source": [
    "interpreter = tf.lite.Interpreter(model_path= Config.tflite_file_path)\n",
    "interpreter.allocate_tensors()\n",
    "\n",
    "input_details = interpreter.get_input_details()\n",
    "output_details = interpreter.get_output_details()\n",
    "\n",
    "print(input_details)\n",
    "print(output_details)"
   ]
  },
  {
   "cell_type": "markdown",
   "metadata": {
    "id": "gTC57c5pnwiu"
   },
   "source": [
    "# Quantization 수행"
   ]
  },
  {
   "cell_type": "code",
   "execution_count": null,
   "metadata": {
    "executionInfo": {
     "elapsed": 545,
     "status": "ok",
     "timestamp": 1648709412401,
     "user": {
      "displayName": "김유탄",
      "userId": "04011767612525493979"
     },
     "user_tz": -540
    },
    "id": "siFSMFhHvQE8"
   },
   "outputs": [],
   "source": [
    "# Quantization을 위한 point 설정\n",
    "def representative_data_gen():\n",
    "  for input_value in tf.data.Dataset.from_tensor_slices(x_train).batch(1).take(300):\n",
    "    yield [input_value]"
   ]
  },
  {
   "cell_type": "code",
   "execution_count": null,
   "metadata": {
    "colab": {
     "base_uri": "https://localhost:8080/"
    },
    "executionInfo": {
     "elapsed": 12279,
     "status": "ok",
     "timestamp": 1648709426955,
     "user": {
      "displayName": "김유탄",
      "userId": "04011767612525493979"
     },
     "user_tz": -540
    },
    "id": "8ZXzu7Ijn0qR",
    "outputId": "3d570057-a1ac-414b-e14b-a60e889071ea"
   },
   "outputs": [],
   "source": [
    "model = tf.keras.models.load_model(Config.best_model_path)\n",
    "\n",
    "# int 8 로 quantization 진행하기\n",
    "converter = tf.lite.TFLiteConverter.from_keras_model(model)\n",
    "converter.optimizations = [tf.lite.Optimize.DEFAULT]\n",
    "converter.representative_dataset = representative_data_gen\n",
    "converter.target_spec.supported_ops = [tf.lite.OpsSet.TFLITE_BUILTINS_INT8]\n",
    "converter.inference_input_type = tf.uint8\n",
    "converter.inference_output_type = tf.uint8\n",
    "tflite_model_quant = converter.convert()\n",
    "\n",
    "open(Config.quant_tflite_file_path, 'wb').write(tflite_model_quant)"
   ]
  },
  {
   "cell_type": "code",
   "execution_count": null,
   "metadata": {
    "colab": {
     "base_uri": "https://localhost:8080/"
    },
    "executionInfo": {
     "elapsed": 21,
     "status": "ok",
     "timestamp": 1648709426956,
     "user": {
      "displayName": "김유탄",
      "userId": "04011767612525493979"
     },
     "user_tz": -540
    },
    "id": "jfuYgU_dn0td",
    "outputId": "3e7840df-2137-4752-ea13-c5dda582cbd3"
   },
   "outputs": [],
   "source": [
    "# Quantization 모델의 input, output 변환 잘 되었는지 확인 하기\n",
    "interpreter = tf.lite.Interpreter(model_path = Config.quant_tflite_file_path)\n",
    "input_type = interpreter.get_input_details()[0]['dtype']\n",
    "print('input: ', input_type)\n",
    "output_type = interpreter.get_output_details()[0]['dtype']\n",
    "print('output: ', output_type)"
   ]
  },
  {
   "cell_type": "markdown",
   "metadata": {
    "id": "Ie1Uj0e-ppXK"
   },
   "source": [
    "# Pruning 수행"
   ]
  },
  {
   "cell_type": "code",
   "execution_count": null,
   "metadata": {
    "colab": {
     "base_uri": "https://localhost:8080/",
     "height": 245
    },
    "executionInfo": {
     "elapsed": 1319,
     "status": "error",
     "timestamp": 1648709479512,
     "user": {
      "displayName": "김유탄",
      "userId": "04011767612525493979"
     },
     "user_tz": -540
    },
    "id": "9mZsxfF4prwu",
    "outputId": "a8b817bc-14b3-433f-db93-621c1c059c66"
   },
   "outputs": [],
   "source": [
    "import tempfile\n",
    "model = tf.keras.models.load_model(Config.best_model_path)\n",
    "_, keras_file = tempfile.mkstemp('.h5')\n",
    "tf.keras.models.save_model(model, keras_file, include_optimizer=False)\n",
    "\n",
    "# Pruning을 위한 변수 설정\n",
    "prune_low_magnitude = tfmot.sparsity.keras.prune_low_magnitude\n",
    "num_images = x_train.shape[0] * (1 - Config.validation_split_prun)\n",
    "end_step = np.ceil(num_images / Config.batch_size_prun).astype(np.int32) * Config.epoch_prun"
   ]
  },
  {
   "cell_type": "code",
   "execution_count": null,
   "metadata": {
    "executionInfo": {
     "elapsed": 458,
     "status": "aborted",
     "timestamp": 1648709427404,
     "user": {
      "displayName": "김유탄",
      "userId": "04011767612525493979"
     },
     "user_tz": -540
    },
    "id": "hyo9593Wpr7u"
   },
   "outputs": [],
   "source": [
    "# Sparsity = 0.6,   pruning하고 다시 학습 시키기\n",
    "pruning_params_6 = {\n",
    "      'pruning_schedule': tfmot.sparsity.keras.ConstantSparsity(target_sparsity=0.6,\n",
    "                                                               begin_step=0,\n",
    "                                                               end_step=-1,\n",
    "                                                               frequency = 10\n",
    "                                                               )\n",
    "}\n",
    "\n",
    "wake_pruning_6 = prune_low_magnitude(model, **pruning_params_6)\n",
    "\n",
    "wake_pruning_6.compile(optimizer='adam',\n",
    "              loss=tf.keras.losses.SparseCategoricalCrossentropy(from_logits=True),\n",
    "              metrics=['accuracy'])\n",
    "\n",
    "logdir = tempfile.mkdtemp()\n",
    "\n",
    "callbacks = [\n",
    "  tfmot.sparsity.keras.UpdatePruningStep(),\n",
    "  tfmot.sparsity.keras.PruningSummaries(log_dir=logdir),\n",
    "]\n",
    "\n",
    "wake_pruning_6.fit(x_train, y_train,\n",
    "                  batch_size=Config.batch_size_prun, epochs=Config.epoch_prun, validation_split=Config.validation_split_prun,\n",
    "                  callbacks=callbacks)"
   ]
  },
  {
   "cell_type": "code",
   "execution_count": null,
   "metadata": {
    "executionInfo": {
     "elapsed": 459,
     "status": "aborted",
     "timestamp": 1648709427405,
     "user": {
      "displayName": "김유탄",
      "userId": "04011767612525493979"
     },
     "user_tz": -540
    },
    "id": "qxXk2Z8XpsEv"
   },
   "outputs": [],
   "source": [
    "pruning_6_eport = tfmot.sparsity.keras.strip_pruning(wake_pruning_6)"
   ]
  },
  {
   "cell_type": "code",
   "execution_count": null,
   "metadata": {
    "executionInfo": {
     "elapsed": 460,
     "status": "aborted",
     "timestamp": 1648709427406,
     "user": {
      "displayName": "김유탄",
      "userId": "04011767612525493979"
     },
     "user_tz": -540
    },
    "id": "YYEQDXG4qMmg"
   },
   "outputs": [],
   "source": [
    "converter = tf.lite.TFLiteConverter.from_keras_model(pruning_6_eport)\n",
    "pruning_6_tflite = converter.convert()"
   ]
  },
  {
   "cell_type": "code",
   "execution_count": null,
   "metadata": {
    "executionInfo": {
     "elapsed": 9,
     "status": "aborted",
     "timestamp": 1648709427406,
     "user": {
      "displayName": "김유탄",
      "userId": "04011767612525493979"
     },
     "user_tz": -540
    },
    "id": "Nv0JQk_dqMpo"
   },
   "outputs": [],
   "source": [
    "open(Config.prun_tflite_file_path, \"wb\") .write(pruning_6_tflite)"
   ]
  },
  {
   "cell_type": "markdown",
   "metadata": {
    "id": "nSMyfS26owXh"
   },
   "source": [
    "# tflite 평가 function"
   ]
  },
  {
   "cell_type": "code",
   "execution_count": null,
   "metadata": {
    "executionInfo": {
     "elapsed": 5,
     "status": "ok",
     "timestamp": 1648710165519,
     "user": {
      "displayName": "김유탄",
      "userId": "04011767612525493979"
     },
     "user_tz": -540
    },
    "id": "5PXSB02VFVpe"
   },
   "outputs": [],
   "source": [
    "# tflite 모델 평가에서 사용되는 실행 함수\n",
    "def run_tflite_model(tflite_file, test_image_indices):\n",
    "  global x_test\n",
    "  global y_test\n",
    "\n",
    "  # Initialize the interpreter\n",
    "  interpreter = tf.lite.Interpreter(model_path=str(tflite_file))\n",
    "  interpreter.allocate_tensors()\n",
    "\n",
    "  input_details = interpreter.get_input_details()[0]\n",
    "  output_details = interpreter.get_output_details()[0]\n",
    "\n",
    "\n",
    "  fps = np.zeros((len(test_image_indices),))\n",
    "  predictions = np.zeros((len(test_image_indices),), dtype=int)\n",
    "\n",
    "  for i, test_image_index in enumerate(test_image_indices):\n",
    "    test_image = x_test[test_image_index]\n",
    "    test_label = y_test[test_image_index]\n",
    "\n",
    "    # Check if the input type is quantized, then rescale input data to uint8\n",
    "    if input_details['dtype'] == np.uint8:\n",
    "      input_scale, input_zero_point = input_details[\"quantization\"]\n",
    "      test_image = test_image / input_scale + input_zero_point\n",
    "        \n",
    "    start = time.time()\n",
    "    test_image = np.expand_dims(test_image, axis=0).astype(input_details[\"dtype\"])\n",
    "    interpreter.set_tensor(input_details[\"index\"], test_image)\n",
    "    interpreter.invoke()\n",
    "    output = interpreter.get_tensor(output_details[\"index\"])[0]\n",
    "    end = time.time()\n",
    "    \n",
    "    fps[i] = (end - start)\n",
    "    # thres_hold 설정 해주기\n",
    "\n",
    "    if output > Config.thres_hold:\n",
    "      output = 1\n",
    "    else:\n",
    "      outut = 0\n",
    "\n",
    "    predictions[i] = output\n",
    "\n",
    "  return predictions,fps"
   ]
  },
  {
   "cell_type": "code",
   "execution_count": null,
   "metadata": {
    "executionInfo": {
     "elapsed": 7,
     "status": "ok",
     "timestamp": 1648710166202,
     "user": {
      "displayName": "김유탄",
      "userId": "04011767612525493979"
     },
     "user_tz": -540
    },
    "id": "-LlMYhkYoi--"
   },
   "outputs": [],
   "source": [
    "def evaluate_tflite_model(tflite_file, model_type):\n",
    "  global x_test\n",
    "  global x_test\n",
    "\n",
    "  test_image_indices = range(x_test.shape[0])\n",
    "  predictions, fps = run_tflite_model(tflite_file, test_image_indices)\n",
    "  accuracy = (np.sum(y_test.reshape(-1)== predictions) * 100) / len(x_test)\n",
    "\n",
    "  confusion_mtx = tf.math.confusion_matrix(y_test, predictions)\n",
    "\n",
    "  print('%s model accuracy is %.4f%% (Number of test samples=%d)' % (model_type, accuracy, len(x_test)))\n",
    "\n",
    "  sns.heatmap(confusion_mtx,\n",
    "            annot=True,\n",
    "            xticklabels = Config.label,\n",
    "            yticklabels = Config.label,\n",
    "            cmap='Blues')\n",
    "  plt.show()\n",
    "\n",
    "  print(\"FPS : \", 1 / np.mean(fps))\n",
    "  print(\"Thres - hold : {}\".format(Config.thres_hold))\n",
    "  print('Test Accureacy: ',metrics.accuracy_score( y_test,predictions))\n",
    "  print('Test Precision: ',metrics.precision_score( y_test,predictions))\n",
    "  print('Test Recall: ',metrics.recall_score( y_test,predictions ))\n",
    "  print('Test F1 score: ',metrics.f1_score(y_test,predictions ))\n",
    "  print(\"Val 에서 1의 비율 : {}%\".format(  round(list(y_val).count(1) / len(y_val)*100 , 2 )))\n",
    "  print(\"Test 에서 1의 비율 : {}%\".format(  round(list(y_test).count(1) / len(y_test)*100 , 2 )))\n",
    "\n",
    "\n",
    "\n"
   ]
  },
  {
   "cell_type": "code",
   "execution_count": null,
   "metadata": {
    "executionInfo": {
     "elapsed": 7,
     "status": "ok",
     "timestamp": 1648710166203,
     "user": {
      "displayName": "김유탄",
      "userId": "04011767612525493979"
     },
     "user_tz": -540
    },
    "id": "LrIQXcd2o3lM"
   },
   "outputs": [],
   "source": [
    "# # FPS 측정용 함수\n",
    "# def run_tflite_time(tflite_file, test_image_indices):\n",
    "#   global x_test\n",
    "#   global y_test\n",
    "\n",
    "#   # Initialize the interpreter\n",
    "#   interpreter = tf.lite.Interpreter(model_path=str(tflite_file))\n",
    "#   interpreter.allocate_tensors()\n",
    "\n",
    "#   input_details = interpreter.get_input_details()[0]\n",
    "#   output_details = interpreter.get_output_details()[0]\n",
    "\n",
    "#   fps = np.zeros((len(test_image_indices),))\n",
    "#   for i, test_image_index in enumerate(test_image_indices):\n",
    "#     test_image = x_test[test_image_index]\n",
    "#     test_label = y_test[test_image_index]\n",
    "\n",
    "#     # Check if the input type is quantized, then rescale input data to uint8\n",
    "#     if input_details['dtype'] == np.uint8:\n",
    "#       input_scale, input_zero_point = input_details[\"quantization\"]\n",
    "#       test_image = test_image / input_scale + input_zero_point\n",
    "\n",
    "        \n",
    "#     start = time.time()\n",
    "#     test_image = np.expand_dims(test_image, axis=0).astype(input_details[\"dtype\"])\n",
    "#     interpreter.set_tensor(input_details[\"index\"], test_image)\n",
    "#     interpreter.invoke()\n",
    "#     output = interpreter.get_tensor(output_details[\"index\"])[0]\n",
    "#     end = time.time()\n",
    "#     fps[i] = (end - start)\n",
    "\n",
    "#   return fps"
   ]
  },
  {
   "cell_type": "code",
   "execution_count": null,
   "metadata": {
    "executionInfo": {
     "elapsed": 509,
     "status": "ok",
     "timestamp": 1648710352918,
     "user": {
      "displayName": "김유탄",
      "userId": "04011767612525493979"
     },
     "user_tz": -540
    },
    "id": "fN4zf2o_o3pd"
   },
   "outputs": [],
   "source": [
    "# # Change this to test a different image\n",
    "# def test_model_time(tflite_file, model_type):\n",
    "#   global x_test\n",
    "#   test_image_indices = range(x_test.shape[0])\n",
    "#   fps = run_tflite_time(tflite_file, test_image_indices)\n",
    "#   print(np.mean(fps))\n",
    "#   print(\"FPS : \", 1 / np.mean(fps))"
   ]
  },
  {
   "cell_type": "code",
   "execution_count": null,
   "metadata": {
    "executionInfo": {
     "elapsed": 3,
     "status": "ok",
     "timestamp": 1648710353378,
     "user": {
      "displayName": "김유탄",
      "userId": "04011767612525493979"
     },
     "user_tz": -540
    },
    "id": "8H6QrHl-qS63"
   },
   "outputs": [],
   "source": [
    "def get_gzipped_model_size(file):\n",
    "  # Returns size of gzipped model, in bytes.\n",
    "  import os\n",
    "  import zipfile\n",
    "  _, zipped_file = tempfile.mkstemp('.zip')\n",
    "  with zipfile.ZipFile(zipped_file, 'w', compression=zipfile.ZIP_DEFLATED) as f:\n",
    "    f.write(file)\n",
    "  print(os.path.getsize(zipped_file))"
   ]
  },
  {
   "cell_type": "markdown",
   "metadata": {
    "id": "XicNR6kcph8T"
   },
   "source": [
    "# tflite 결과 확인"
   ]
  },
  {
   "cell_type": "code",
   "execution_count": null,
   "metadata": {
    "executionInfo": {
     "elapsed": 444,
     "status": "ok",
     "timestamp": 1648710356094,
     "user": {
      "displayName": "김유탄",
      "userId": "04011767612525493979"
     },
     "user_tz": -540
    },
    "id": "ZGllWZLvyMrd"
   },
   "outputs": [],
   "source": [
    "import time"
   ]
  },
  {
   "cell_type": "code",
   "execution_count": null,
   "metadata": {
    "colab": {
     "base_uri": "https://localhost:8080/",
     "height": 448
    },
    "executionInfo": {
     "elapsed": 19,
     "status": "ok",
     "timestamp": 1648710356096,
     "user": {
      "displayName": "김유탄",
      "userId": "04011767612525493979"
     },
     "user_tz": -540
    },
    "id": "H5CXBbHTomGo",
    "outputId": "5b86e383-eac7-4d85-b738-92ccb3d060b7"
   },
   "outputs": [],
   "source": [
    "evaluate_tflite_model(Config.tflite_file_path, model_type=\"Float\")\n",
    "get_gzipped_model_size(Config.tflite_file_path)\n",
    "# 세로 - True\n",
    "# 가로 - Prediction"
   ]
  },
  {
   "cell_type": "code",
   "execution_count": null,
   "metadata": {
    "colab": {
     "base_uri": "https://localhost:8080/",
     "height": 448
    },
    "executionInfo": {
     "elapsed": 2396,
     "status": "ok",
     "timestamp": 1648710363774,
     "user": {
      "displayName": "김유탄",
      "userId": "04011767612525493979"
     },
     "user_tz": -540
    },
    "id": "xJYtEB_yn0wT",
    "outputId": "34238d1e-941d-4de7-a778-b1301f096c15"
   },
   "outputs": [],
   "source": [
    "evaluate_tflite_model(Config.quant_tflite_file_path, model_type=\"Quantization\")\n",
    "get_gzipped_model_size(Config.quant_tflite_file_path)"
   ]
  },
  {
   "cell_type": "code",
   "execution_count": null,
   "metadata": {
    "executionInfo": {
     "elapsed": 11,
     "status": "aborted",
     "timestamp": 1648709427410,
     "user": {
      "displayName": "김유탄",
      "userId": "04011767612525493979"
     },
     "user_tz": -540
    },
    "id": "ABayLruin0yL"
   },
   "outputs": [],
   "source": [
    "evaluate_tflite_model(Config.prun_tflite_file_path, model_type=\"Pruning\")\n",
    "get_gzipped_model_size(Config.prun_tflite_file_path)"
   ]
  },
  {
   "cell_type": "code",
   "execution_count": null,
   "metadata": {},
   "outputs": [],
   "source": []
  },
  {
   "cell_type": "code",
   "execution_count": 179,
   "metadata": {},
   "outputs": [],
   "source": [
    "import tensorflow as tf\n",
    "\n",
    "from tensorflow.keras.layers import Dense, Flatten, Conv2D\n",
    "from tensorflow.keras import Model"
   ]
  },
  {
   "cell_type": "code",
   "execution_count": 180,
   "metadata": {},
   "outputs": [],
   "source": [
    "mnist = tf.keras.datasets.mnist\n",
    "\n",
    "(x_train, y_train), (x_test, y_test) = mnist.load_data()\n",
    "x_train, x_test = x_train / 255.0, x_test / 255.0\n",
    "\n",
    "# Add a channels dimension\n",
    "x_train = x_train[..., tf.newaxis].astype(\"float32\")\n",
    "x_test = x_test[..., tf.newaxis].astype(\"float32\")"
   ]
  },
  {
   "cell_type": "code",
   "execution_count": 181,
   "metadata": {},
   "outputs": [],
   "source": [
    "train_ds = tf.data.Dataset.from_tensor_slices(\n",
    "    (x_train, y_train)).shuffle(10000).batch(32)\n",
    "\n",
    "test_ds = tf.data.Dataset.from_tensor_slices((x_test, y_test)).batch(32)"
   ]
  },
  {
   "cell_type": "code",
   "execution_count": 182,
   "metadata": {},
   "outputs": [
    {
     "name": "stdout",
     "output_type": "stream",
     "text": [
      "<BatchDataset shapes: ((None, 28, 28, 1), (None,)), types: (tf.float32, tf.uint8)>\n",
      "<BatchDataset shapes: ((None, 28, 28, 1), (None,)), types: (tf.float32, tf.uint8)>\n"
     ]
    }
   ],
   "source": [
    "print(train_ds)\n",
    "print(test_ds)"
   ]
  },
  {
   "cell_type": "code",
   "execution_count": 103,
   "metadata": {},
   "outputs": [],
   "source": [
    "class MyModel(Model):\n",
    "  def __init__(self):\n",
    "    super(MyModel, self).__init__()\n",
    "    self.conv1 = Conv2D(32, 3, activation='relu')\n",
    "    self.flatten = Flatten()\n",
    "    self.d1 = Dense(128, activation='relu')\n",
    "    self.d2 = Dense(10)\n",
    "\n",
    "  def call(self, x):\n",
    "    x = self.conv1(x)\n",
    "    x = self.flatten(x)\n",
    "    x = self.d1(x)\n",
    "    return self.d2(x)\n",
    "\n",
    "# Create an instance of the model\n",
    "model = MyModel()"
   ]
  },
  {
   "cell_type": "code",
   "execution_count": 104,
   "metadata": {},
   "outputs": [],
   "source": [
    "loss_object = tf.keras.losses.SparseCategoricalCrossentropy(from_logits=True)\n",
    "\n",
    "optimizer = tf.keras.optimizers.Adam()"
   ]
  },
  {
   "cell_type": "code",
   "execution_count": 105,
   "metadata": {},
   "outputs": [],
   "source": [
    "train_loss = tf.keras.metrics.Mean(name='train_loss')\n",
    "train_accuracy = tf.keras.metrics.SparseCategoricalAccuracy(name='train_accuracy')\n",
    "\n",
    "test_loss = tf.keras.metrics.Mean(name='test_loss')\n",
    "test_accuracy = tf.keras.metrics.SparseCategoricalAccuracy(name='test_accuracy')"
   ]
  },
  {
   "cell_type": "code",
   "execution_count": 106,
   "metadata": {},
   "outputs": [],
   "source": [
    "@tf.function\n",
    "def train_step(images, labels):\n",
    "  with tf.GradientTape() as tape:\n",
    "    # training=True is only needed if there are layers with different\n",
    "    # behavior during training versus inference (e.g. Dropout).\n",
    "    predictions = model(images, training=True)\n",
    "    loss = loss_object(labels, predictions)\n",
    "  gradients = tape.gradient(loss, model.trainable_variables)\n",
    "  optimizer.apply_gradients(zip(gradients, model.trainable_variables))\n",
    "\n",
    "  train_loss(loss)\n",
    "  train_accuracy(labels, predictions)"
   ]
  },
  {
   "cell_type": "code",
   "execution_count": 107,
   "metadata": {},
   "outputs": [],
   "source": [
    "@tf.function\n",
    "def test_step(images, labels):\n",
    "  # training=False is only needed if there are layers with different\n",
    "  # behavior during training versus inference (e.g. Dropout).\n",
    "  predictions = model(images, training=False)\n",
    "  t_loss = loss_object(labels, predictions)\n",
    "\n",
    "  test_loss(t_loss)\n",
    "  test_accuracy(labels, predictions)"
   ]
  },
  {
   "cell_type": "code",
   "execution_count": 108,
   "metadata": {},
   "outputs": [
    {
     "name": "stdout",
     "output_type": "stream",
     "text": [
      "Epoch 1, Loss: 0.131208598613739, Accuracy: 96.12667083740234, Test Loss: 0.058761823922395706, Test Accuracy: 98.07999420166016\n",
      "Epoch 2, Loss: 0.04153497889637947, Accuracy: 98.69999694824219, Test Loss: 0.052063263952732086, Test Accuracy: 98.3499984741211\n",
      "Epoch 3, Loss: 0.02163741923868656, Accuracy: 99.288330078125, Test Loss: 0.05505017191171646, Test Accuracy: 98.27999877929688\n",
      "Epoch 4, Loss: 0.012929773889482021, Accuracy: 99.55999755859375, Test Loss: 0.05892359837889671, Test Accuracy: 98.3699951171875\n",
      "Epoch 5, Loss: 0.008518630638718605, Accuracy: 99.69166564941406, Test Loss: 0.06460703909397125, Test Accuracy: 98.32999420166016\n"
     ]
    }
   ],
   "source": [
    "EPOCHS = 5\n",
    "\n",
    "for epoch in range(EPOCHS):\n",
    "  # Reset the metrics at the start of the next epoch\n",
    "  train_loss.reset_states()\n",
    "  train_accuracy.reset_states()\n",
    "  test_loss.reset_states()\n",
    "  test_accuracy.reset_states()\n",
    "\n",
    "  for images, labels in train_ds:\n",
    "    train_step(images, labels)\n",
    "\n",
    "  for test_images, test_labels in test_ds:\n",
    "    test_step(test_images, test_labels)\n",
    "\n",
    "  print(\n",
    "    f'Epoch {epoch + 1}, '\n",
    "    f'Loss: {train_loss.result()}, '\n",
    "    f'Accuracy: {train_accuracy.result() * 100}, '\n",
    "    f'Test Loss: {test_loss.result()}, '\n",
    "    f'Test Accuracy: {test_accuracy.result() * 100}'\n",
    "  )"
   ]
  },
  {
   "cell_type": "code",
   "execution_count": null,
   "metadata": {},
   "outputs": [],
   "source": []
  },
  {
   "cell_type": "code",
   "execution_count": null,
   "metadata": {},
   "outputs": [],
   "source": []
  },
  {
   "cell_type": "code",
   "execution_count": null,
   "metadata": {},
   "outputs": [],
   "source": []
  },
  {
   "cell_type": "code",
   "execution_count": null,
   "metadata": {},
   "outputs": [],
   "source": []
  }
 ],
 "metadata": {
  "colab": {
   "collapsed_sections": [
    "kgMGr2GoLnkf",
    "ugEWbEECEdR0",
    "q3vFUtQZRCN1",
    "EQUycMpiy41z"
   ],
   "name": "Wake_up_word_all.ipynb의 사본",
   "provenance": [
    {
     "file_id": "1VXJLXbIjNzpsSa0zSveERBCS1RqdmlAh",
     "timestamp": 1648711399570
    },
    {
     "file_id": "1BxPw7K8Y_59FqW9KQiUqNPdIOmHmvR32",
     "timestamp": 1648629043149
    },
    {
     "file_id": "1XhbiOuyCXG3sTAxrsGth7Dttr32afr4U",
     "timestamp": 1648618515987
    },
    {
     "file_id": "1hH9jqfOOMlsHHXcNbYUzFEi3m8mek3AD",
     "timestamp": 1648615546055
    },
    {
     "file_id": "15wXIygAC2xhkqlp0LJNlpskO9HTujQcz",
     "timestamp": 1648605838504
    }
   ]
  },
  "kernelspec": {
   "display_name": "Python 3 (ipykernel)",
   "language": "python",
   "name": "python3"
  },
  "language_info": {
   "codemirror_mode": {
    "name": "ipython",
    "version": 3
   },
   "file_extension": ".py",
   "mimetype": "text/x-python",
   "name": "python",
   "nbconvert_exporter": "python",
   "pygments_lexer": "ipython3",
   "version": "3.7.0"
  }
 },
 "nbformat": 4,
 "nbformat_minor": 1
}
